{
 "cells": [
  {
   "cell_type": "markdown",
   "id": "d9ea6f35-cce4-4ea5-9c38-f003b601efda",
   "metadata": {},
   "source": [
    "# Use Case: HLCA Datasets"
   ]
  },
  {
   "cell_type": "code",
   "execution_count": 1,
   "id": "3d441ba1-bd32-421e-9734-9e23023f56cd",
   "metadata": {},
   "outputs": [],
   "source": [
    "import sys\n",
    "sys.path.append(\"../..\")"
   ]
  },
  {
   "cell_type": "code",
   "execution_count": 2,
   "id": "766248a7-1d2b-4f74-a715-87f73de1cce7",
   "metadata": {},
   "outputs": [],
   "source": [
    "import os\n",
    "import time\n",
    "import scanpy as sc\n",
    "import idtrack\n",
    "import pickle"
   ]
  },
  {
   "cell_type": "code",
   "execution_count": 3,
   "id": "c419638b-84ec-4734-a8c3-0ff94cfd6a92",
   "metadata": {},
   "outputs": [],
   "source": [
    "%load_ext autoreload\n",
    "%autoreload 2"
   ]
  },
  {
   "cell_type": "markdown",
   "id": "3a9eee8f-c366-46c3-95f3-bf1e6c117492",
   "metadata": {},
   "source": [
    "Initialize the graph and pathfinder"
   ]
  },
  {
   "cell_type": "code",
   "execution_count": 4,
   "id": "edca0039-a9c0-4ab4-9bad-26e77d16fe2e",
   "metadata": {},
   "outputs": [
    {
     "name": "stderr",
     "output_type": "stream",
     "text": [
      "2023-02-15 12:30:00 INFO:graph_maker: The graph is being read.\n"
     ]
    }
   ],
   "source": [
    "local_dir = \"/lustre/groups/ml01/workspace/kemal.inecik/idtrack_temp\"\n",
    "idt = idtrack.API(local_repository=local_dir)\n",
    "idt.configure_logger()\n",
    "idt.initialize_graph(organism_name='homo_sapiens', ensembl_release=107, return_test=True)"
   ]
  },
  {
   "cell_type": "code",
   "execution_count": 5,
   "id": "d725306d-5099-4065-b077-7838eab4b3ba",
   "metadata": {},
   "outputs": [
    {
     "name": "stderr",
     "output_type": "stream",
     "text": [
      "2023-02-15 12:30:50 INFO:the_graph: Cached properties being calculated: combined_edges\n",
      "2023-02-15 12:31:23 INFO:the_graph: Cached properties being calculated: combined_edges_assembly_specific_genes\n",
      "2023-02-15 12:31:26 INFO:the_graph: Cached properties being calculated: combined_edges_genes\n",
      "2023-02-15 12:31:37 INFO:the_graph: Cached properties being calculated: lower_chars_graph\n",
      "2023-02-15 12:31:38 INFO:the_graph: Cached properties being calculated: get_active_ranges_of_id\n",
      "2023-02-15 12:31:57 INFO:the_graph: Cached properties being calculated: available_external_databases\n",
      "2023-02-15 12:31:58 INFO:the_graph: Cached properties being calculated: external_database_connection_form\n",
      "2023-02-15 12:32:32 INFO:the_graph: Cached properties being calculated: available_genome_assemblies\n",
      "2023-02-15 12:32:33 INFO:the_graph: Cached properties being calculated: available_external_databases_assembly\n",
      "2023-02-15 12:32:34 INFO:the_graph: Cached properties being calculated: node_trios\n"
     ]
    }
   ],
   "source": [
    "idt.calculate_graph_caches() "
   ]
  },
  {
   "cell_type": "code",
   "execution_count": 15,
   "id": "30a0b011-465c-44b9-9964-047cdb2af1b8",
   "metadata": {},
   "outputs": [
    {
     "name": "stderr",
     "output_type": "stream",
     "text": [
      "2023-02-15 12:37:01 INFO:graph_maker: The graph is being read.\n"
     ]
    }
   ],
   "source": [
    "local_dir_arc = \"/lustre/groups/ml01/workspace/kemal.inecik/idtrack_temp_arch\"\n",
    "idt_arc = idtrack.API(local_repository=local_dir_arc)\n",
    "idt_arc.configure_logger()\n",
    "idt_arc.initialize_graph(organism_name='homo_sapiens', ensembl_release=107, return_test=True)"
   ]
  },
  {
   "cell_type": "code",
   "execution_count": 16,
   "id": "93d747cc-8351-4323-b498-85696a5b169e",
   "metadata": {},
   "outputs": [
    {
     "name": "stderr",
     "output_type": "stream",
     "text": [
      "2023-02-15 12:38:08 INFO:the_graph: Cached properties being calculated: combined_edges\n",
      "2023-02-15 12:38:27 INFO:the_graph: Cached properties being calculated: combined_edges_assembly_specific_genes\n",
      "2023-02-15 12:38:30 INFO:the_graph: Cached properties being calculated: combined_edges_genes\n",
      "2023-02-15 12:39:15 INFO:the_graph: Cached properties being calculated: lower_chars_graph\n",
      "2023-02-15 12:39:16 INFO:the_graph: Cached properties being calculated: get_active_ranges_of_id\n",
      "2023-02-15 12:39:34 INFO:the_graph: Cached properties being calculated: available_external_databases\n",
      "2023-02-15 12:39:35 INFO:the_graph: Cached properties being calculated: external_database_connection_form\n",
      "2023-02-15 12:40:10 INFO:the_graph: Cached properties being calculated: available_genome_assemblies\n",
      "2023-02-15 12:40:10 INFO:the_graph: Cached properties being calculated: available_external_databases_assembly\n",
      "2023-02-15 12:40:11 INFO:the_graph: Cached properties being calculated: node_trios\n"
     ]
    }
   ],
   "source": [
    "idt_arc.calculate_graph_caches() "
   ]
  },
  {
   "cell_type": "code",
   "execution_count": null,
   "id": "7bfd031f-3d96-4b08-83d8-e7e763ec7a0f",
   "metadata": {},
   "outputs": [],
   "source": []
  },
  {
   "cell_type": "code",
   "execution_count": 45,
   "id": "a88ba29c-3d01-4287-ba4c-6751be486410",
   "metadata": {},
   "outputs": [
    {
     "data": {
      "text/plain": [
       "{'target_id': ['FAM90A17', 'FAM90A16'],\n",
       " 'last_node': [('ENSG00000285620.1', 'FAM90A16'),\n",
       "  ('ENSG00000285720.1', 'FAM90A17')],\n",
       " 'final_database': 'HGNC Symbol',\n",
       " 'graph_id': 'FAM90A16P',\n",
       " 'query_id': 'FAM90A16P',\n",
       " 'no_corresponding': False,\n",
       " 'no_conversion': False,\n",
       " 'no_target': False,\n",
       " 'the_path': {('FAM90A17',\n",
       "   'ENSG00000285720.1'): (('FAM90A16P',\n",
       "    'ENSG00000285720.1',\n",
       "    0,\n",
       "    107), ('ENSG00000285720.1', 'FAM90A17', 0, 107)),\n",
       "  ('FAM90A16',\n",
       "   'ENSG00000285620.1'): (('FAM90A16P',\n",
       "    'ENSG00000285620.1',\n",
       "    0,\n",
       "    107), ('ENSG00000285620.1', 'FAM90A16', 0, 107))}}"
      ]
     },
     "execution_count": 45,
     "metadata": {},
     "output_type": "execute_result"
    }
   ],
   "source": [
    "idt.convert_identifier(l[0], final_database=\"HGNC Symbol\", to_release=107, prioritize_to_one_filter=False, return_path=True)"
   ]
  },
  {
   "cell_type": "code",
   "execution_count": 49,
   "id": "28680df8-c43b-42f8-9f1f-5582c197b512",
   "metadata": {},
   "outputs": [],
   "source": [
    "l = [\"SNORA71-2\", \"SNORA71\", \"ENSG00000201811\", \"SNORA60\"]"
   ]
  },
  {
   "cell_type": "code",
   "execution_count": 56,
   "id": "11b7242d-414e-4634-895a-0c7433053080",
   "metadata": {},
   "outputs": [
    {
     "data": {
      "text/plain": [
       "AdjacencyView({'ENSG00000201811.1': {0: {'connection': {'base_ensembl_gene': {37: {79, 80, 81, 82, 83, 84, 85, 86, 87, 88, 89, 90, 91, 92, 93, 94, 95, 96, 97, 98, 99, 100, 101, 102, 103, 104, 105, 106, 107}, 38: {79, 80, 81, 82, 83, 84, 85, 86, 87, 88, 89, 90, 91, 92, 93, 94, 95, 96, 97, 98, 99, 100, 101, 102, 103, 104, 105, 106, 107}}}, 'available_releases': {79, 80, 81, 82, 83, 84, 85, 86, 87, 88, 89, 90, 91, 92, 93, 94, 95, 96, 97, 98, 99, 100, 101, 102, 103, 104, 105, 106, 107}}}})"
      ]
     },
     "execution_count": 56,
     "metadata": {},
     "output_type": "execute_result"
    }
   ],
   "source": [
    "idt.track.graph[l[2]]"
   ]
  },
  {
   "cell_type": "code",
   "execution_count": 58,
   "id": "9cc6678f-0e36-4e34-86c1-b834393c67ba",
   "metadata": {},
   "outputs": [
    {
     "data": {
      "text/plain": [
       "{'target_id': ['SNORA71D', 'SNORA60', 'SNORA71A', 'SNORA71C'],\n",
       " 'last_node': [('ENSG00000201512.1', 'SNORA71C'),\n",
       "  ('ENSG00000199266.1', 'SNORA60'),\n",
       "  ('ENSG00000200354.1', 'SNORA71D'),\n",
       "  ('ENSG00000225091.3', 'SNORA71A')],\n",
       " 'final_database': 'HGNC Symbol',\n",
       " 'graph_id': 'SNORA71',\n",
       " 'query_id': 'SNORA71',\n",
       " 'no_corresponding': False,\n",
       " 'no_conversion': False,\n",
       " 'no_target': False,\n",
       " 'the_path': {('SNORA71C',\n",
       "   'ENSG00000201512.1'): (('SNORA71',\n",
       "    'ENSG00000201512.1',\n",
       "    0,\n",
       "    107), ('ENSG00000201512.1', 'SNORA71C', 0, 107)),\n",
       "  ('SNORA71D', 'ENSG00000200354.1'): (('SNORA71', 'ENSG00000200354.1', 0, 107),\n",
       "   ('ENSG00000200354.1', 'SNORA71D', 0, 107)),\n",
       "  ('SNORA60', 'ENSG00000199266.1'): (('SNORA71', 'ENSG00000199266.1', 0, 107),\n",
       "   ('ENSG00000199266.1', 'SNORA60', 0, 107)),\n",
       "  ('SNORA71A', 'ENSG00000225091.3'): (('SNORA71', 'ENSG00000225091.3', 0, 107),\n",
       "   ('ENSG00000225091.3', 'SNORA71A', 0, 107))}}"
      ]
     },
     "execution_count": 58,
     "metadata": {},
     "output_type": "execute_result"
    }
   ],
   "source": [
    "idt.convert_identifier(l[1], final_database=\"HGNC Symbol\", to_release=107, prioritize_to_one_filter=True, return_path=True)"
   ]
  },
  {
   "cell_type": "code",
   "execution_count": null,
   "id": "eaafa91a-f091-4097-8178-90875eaaf965",
   "metadata": {},
   "outputs": [],
   "source": []
  }
 ],
 "metadata": {
  "kernelspec": {
   "display_name": "Python 3 (ipykernel)",
   "language": "python",
   "name": "python3"
  },
  "language_info": {
   "codemirror_mode": {
    "name": "ipython",
    "version": 3
   },
   "file_extension": ".py",
   "mimetype": "text/x-python",
   "name": "python",
   "nbconvert_exporter": "python",
   "pygments_lexer": "ipython3",
   "version": "3.9.12"
  }
 },
 "nbformat": 4,
 "nbformat_minor": 5
}
