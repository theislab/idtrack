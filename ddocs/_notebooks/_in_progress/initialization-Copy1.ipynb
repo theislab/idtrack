{
 "cells": [
  {
   "cell_type": "markdown",
   "id": "2a04ff2e-9cab-4760-b8ec-0ef8b36e4f5d",
   "metadata": {},
   "source": [
    "# Initialization and Memory Usage "
   ]
  },
  {
   "cell_type": "code",
   "execution_count": 1,
   "id": "89b49214-d6a0-4e9f-a4b4-feddde076978",
   "metadata": {
    "pycharm": {
     "name": "#%% md\n"
    },
    "tags": []
   },
   "outputs": [],
   "source": [
    "import sys\n",
    "sys.path.append(\"/Users/kemalinecik/Documents/Helmholtz/git.nosync/idtrack\")"
   ]
  },
  {
   "cell_type": "code",
   "execution_count": 2,
   "id": "75611a93-37e2-4119-a566-76a4fb6b3b57",
   "metadata": {
    "tags": []
   },
   "outputs": [],
   "source": [
    "import os\n",
    "import time\n",
    "import pickle"
   ]
  },
  {
   "cell_type": "code",
   "execution_count": 3,
   "id": "d76eae0f-512c-40f9-919c-f4fcaad1371f",
   "metadata": {
    "tags": []
   },
   "outputs": [],
   "source": [
    "import idtrack"
   ]
  },
  {
   "cell_type": "code",
   "execution_count": 4,
   "id": "383c559f-3900-4737-99d1-19255a4c6507",
   "metadata": {
    "tags": []
   },
   "outputs": [
    {
     "name": "stderr",
     "output_type": "stream",
     "text": [
      "2023-11-04 01:08:34 INFO:graph_maker: The graph is being constructed.\n",
      "2023-11-04 01:08:35 INFO:graph_maker: Graph is being created: gene\n",
      "2023-11-04 01:08:36 INFO:graph_maker: Edges between across different IDs and self loops are being added.\n",
      "2023-11-04 01:08:38 INFO:graph_maker: Edges between the same IDs are being added.\n",
      "2023-11-04 01:08:57 WARNING:graph_maker: Retired ID come alive again: 2.\n",
      "2023-11-04 01:08:57 INFO:graph_maker: Edges showing the retirement of IDs are being added.\n",
      "2023-11-04 01:09:08 INFO:graph_maker: Problematic nodes in Ensembl ID history are being removed.\n",
      "2023-11-04 01:09:20 INFO:graph_maker: Self-loops for latest release entries are being added.\n",
      "2023-11-04 01:09:21 INFO:graph_maker: Node attributes are being added.\n",
      "2023-11-04 01:09:21 INFO:graph_maker: Graph is being created: transcript\n",
      "2023-11-04 01:09:22 INFO:graph_maker: Edges between across different IDs and self loops are being added.\n",
      "2023-11-04 01:09:26 INFO:graph_maker: Edges between the same IDs are being added.\n",
      "2023-11-04 01:10:19 WARNING:graph_maker: Retired ID come alive again: 2.\n",
      "2023-11-04 01:10:19 INFO:graph_maker: Edges showing the retirement of IDs are being added.\n",
      "2023-11-04 01:10:46 INFO:graph_maker: Problematic nodes in Ensembl ID history are being removed.\n",
      "2023-11-04 01:11:14 INFO:graph_maker: Self-loops for latest release entries are being added.\n",
      "2023-11-04 01:11:17 INFO:graph_maker: Node attributes are being added.\n",
      "2023-11-04 01:11:20 INFO:graph_maker: Graph is being created: translation\n",
      "2023-11-04 01:11:21 INFO:graph_maker: Edges between across different IDs and self loops are being added.\n",
      "2023-11-04 01:11:21 INFO:graph_maker: Edges between the same IDs are being added.\n",
      "2023-11-04 01:11:52 WARNING:graph_maker: Retired ID come alive again: 1.\n",
      "2023-11-04 01:11:52 INFO:graph_maker: Edges showing the retirement of IDs are being added.\n",
      "2023-11-04 01:12:13 INFO:graph_maker: Problematic nodes in Ensembl ID history are being removed.\n",
      "2023-11-04 01:12:36 INFO:graph_maker: Self-loops for latest release entries are being added.\n",
      "2023-11-04 01:12:38 INFO:graph_maker: Node attributes are being added.\n",
      "2023-11-04 01:12:42 INFO:graph_maker: Establishing connection between different forms.\n",
      "2023-11-04 01:14:57 INFO:graph_maker: Edges between external IDs to Ensembl IDs is being added for 'gene'.\n",
      "2023-11-04 01:18:37 WARNING:graph_maker: New nodes added as assembly nodes: 13857\n",
      "2023-11-04 01:18:37 INFO:graph_maker: Edges between external IDs to Ensembl IDs is being added for 'transcript'.\n",
      "2023-11-04 01:23:28 WARNING:graph_maker: New nodes added as assembly nodes: 35917\n",
      "2023-11-04 01:23:28 INFO:graph_maker: Edges between external IDs to Ensembl IDs is being added for 'translation'.\n",
      "2023-11-04 01:27:28 WARNING:graph_maker: New nodes added as assembly nodes: 1465\n",
      "2023-11-04 01:27:28 INFO:graph_maker: Different forms of assembly-Ensembl-nodes are being connecting.\n",
      "2023-11-04 01:28:18 WARNING:graph_maker: New edges are added between assembly Ensembl nodes: 94895\n",
      "2023-11-04 01:28:18 INFO:graph_maker: Versionless Ensembl IDs are being connected.\n",
      "2023-11-04 01:28:41 INFO:graph_maker: Edges between versionless ID to version ID has been added for 'gene', assembly 37.\n",
      "2023-11-04 01:29:46 INFO:graph_maker: Edges between versionless ID to version ID has been added for 'gene', assembly 38.\n",
      "2023-11-04 01:29:46 INFO:graph_maker: Synonymous external nodes are being merged into one.\n",
      "2023-11-04 01:29:48 INFO:graph_maker: Number of removed nodes in the process of merging synonymous nodes: 19696\n",
      "2023-11-04 01:30:20 INFO:graph_maker: The graph is being exported as '/Users/kemalinecik/Downloads/idtrack_temp/graph_mus_musculus_ens110_min79_narrow.pickle'.\n"
     ]
    }
   ],
   "source": [
    "local_dir = \"/Users/kemalinecik/Downloads/idtrack_temp\"\n",
    "idt = idtrack.API(local_repository=local_dir)\n",
    "idt.configure_logger()\n",
    "idt.initialize_graph(organism_name='mus_musculus', ensembl_release=110, return_test=True)"
   ]
  },
  {
   "cell_type": "code",
   "execution_count": null,
   "metadata": {},
   "outputs": [],
   "source": [
    "idt.calculate_graph_caches()"
   ]
  },
  {
   "cell_type": "code",
   "execution_count": null,
   "metadata": {},
   "outputs": [],
   "source": [
    "idt.track.is_base_is_range_correct()"
   ]
  },
  {
   "cell_type": "code",
   "execution_count": null,
   "metadata": {},
   "outputs": [],
   "source": []
  },
  {
   "cell_type": "code",
   "execution_count": null,
   "metadata": {},
   "outputs": [],
   "source": []
  },
  {
   "cell_type": "code",
   "execution_count": null,
   "metadata": {},
   "outputs": [],
   "source": []
  },
  {
   "cell_type": "code",
   "execution_count": null,
   "id": "05b19021-5e0f-4d13-937a-43de2d866d16",
   "metadata": {
    "tags": []
   },
   "outputs": [],
   "source": [
    "objsize.get_deep_size(idt)"
   ]
  },
  {
   "cell_type": "code",
   "execution_count": null,
   "id": "5bf5aa29-8fdc-499d-b557-818b527a5039",
   "metadata": {
    "tags": []
   },
   "outputs": [],
   "source": [
    "idt.calculate_graph_caches()"
   ]
  },
  {
   "cell_type": "code",
   "execution_count": null,
   "id": "96b1493a-0a54-4729-a7e1-0f0eb7fe2313",
   "metadata": {},
   "outputs": [],
   "source": [
    "objsize.get_deep_size(idt)"
   ]
  },
  {
   "cell_type": "code",
   "execution_count": null,
   "id": "84a19fa5-60df-4e8c-98ac-37b8eea9e0f8",
   "metadata": {
    "tags": []
   },
   "outputs": [],
   "source": [
    "!ls -l /lustre/groups/ml01/workspace/kemal.inecik/idtrack_temp"
   ]
  },
  {
   "cell_type": "code",
   "execution_count": null,
   "id": "66113bd0-4196-4a48-a495-24f15b3ef9af",
   "metadata": {},
   "outputs": [],
   "source": []
  }
 ],
 "metadata": {
  "kernelspec": {
   "display_name": "Python 3 (ipykernel)",
   "language": "python",
   "name": "python3"
  },
  "language_info": {
   "codemirror_mode": {
    "name": "ipython",
    "version": 3
   },
   "file_extension": ".py",
   "mimetype": "text/x-python",
   "name": "python",
   "nbconvert_exporter": "python",
   "pygments_lexer": "ipython3",
   "version": "3.8.15"
  }
 },
 "nbformat": 4,
 "nbformat_minor": 5
}
