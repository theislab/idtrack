{
 "cells": [
  {
   "cell_type": "markdown",
   "id": "f0a953fc-cc27-4a89-b264-153f2f7cad0e",
   "metadata": {},
   "source": [
    "# Use Case: HLCA Datasets"
   ]
  },
  {
   "cell_type": "code",
   "execution_count": 1,
   "id": "44b3f875-10f3-4301-b9e0-b64f25b12dce",
   "metadata": {
    "tags": []
   },
   "outputs": [],
   "source": [
    "import sys\n",
    "sys.path.append(\"/home/icb/kemal.inecik/work/codes/idtrack\")"
   ]
  },
  {
   "cell_type": "code",
   "execution_count": 2,
   "id": "fbc5ad8e-5349-4e46-83c3-c9ab16db3052",
   "metadata": {
    "tags": []
   },
   "outputs": [],
   "source": [
    "import os\n",
    "import time\n",
    "import scanpy as sc\n",
    "import idtrack\n",
    "import pickle"
   ]
  },
  {
   "cell_type": "code",
   "execution_count": 3,
   "id": "95b8ad71-2ea0-47f7-afed-198dcf005780",
   "metadata": {
    "tags": []
   },
   "outputs": [],
   "source": [
    "%load_ext autoreload\n",
    "%autoreload 2"
   ]
  },
  {
   "cell_type": "markdown",
   "id": "0f5f65a1-9c9d-40ad-aba7-5cd52b01cc97",
   "metadata": {},
   "source": [
    "Initialize the graph and pathfinder"
   ]
  },
  {
   "cell_type": "code",
   "execution_count": 4,
   "id": "19a77f26-5852-4c04-a2a0-cab6bf3a9e75",
   "metadata": {
    "tags": []
   },
   "outputs": [],
   "source": [
    "local_dir = \"/lustre/groups/ml01/workspace/kemal.inecik/idtrack_temp\"\n",
    "idt = idtrack.API(local_repository=local_dir)\n",
    "idt.configure_logger()"
   ]
  },
  {
   "cell_type": "code",
   "execution_count": 5,
   "id": "0df3a743-f7ce-4180-8363-d97061ae823e",
   "metadata": {
    "tags": []
   },
   "outputs": [
    {
     "name": "stderr",
     "output_type": "stream",
     "text": [
      "2023-12-19 23:59:48 INFO:graph_maker: The graph is being read.\n"
     ]
    }
   ],
   "source": [
    "idt.initialize_graph(organism_name='homo_sapiens', ensembl_release=110, return_test=True)"
   ]
  },
  {
   "cell_type": "code",
   "execution_count": 6,
   "id": "1376cffc-093d-4893-a9b9-269b8d8d583f",
   "metadata": {
    "tags": []
   },
   "outputs": [
    {
     "name": "stderr",
     "output_type": "stream",
     "text": [
      "2023-12-20 00:00:39 INFO:the_graph: Cached properties being calculated: combined_edges\n",
      "2023-12-20 00:01:15 INFO:the_graph: Cached properties being calculated: combined_edges_assembly_specific_genes\n",
      "2023-12-20 00:01:19 INFO:the_graph: Cached properties being calculated: combined_edges_genes\n",
      "2023-12-20 00:01:52 INFO:the_graph: Cached properties being calculated: lower_chars_graph\n",
      "2023-12-20 00:01:53 INFO:the_graph: Cached properties being calculated: get_active_ranges_of_id\n",
      "2023-12-20 00:02:16 INFO:the_graph: Cached properties being calculated: available_external_databases\n",
      "2023-12-20 00:02:18 INFO:the_graph: Cached properties being calculated: external_database_connection_form\n",
      "2023-12-20 00:03:09 INFO:the_graph: Cached properties being calculated: available_genome_assemblies\n",
      "2023-12-20 00:03:10 INFO:the_graph: Cached properties being calculated: available_external_databases_assembly\n",
      "2023-12-20 00:03:11 INFO:the_graph: Cached properties being calculated: node_trios\n"
     ]
    }
   ],
   "source": [
    "idt.calculate_graph_caches()"
   ]
  },
  {
   "cell_type": "markdown",
   "id": "99722a75-43cb-4947-8cdd-a1bcebbe1b57",
   "metadata": {},
   "source": [
    "The datasets of HLCA"
   ]
  },
  {
   "cell_type": "code",
   "execution_count": 7,
   "id": "dbed66bd-cb19-454c-8d98-a976a8f36b87",
   "metadata": {
    "tags": []
   },
   "outputs": [],
   "source": [
    "base_path = \"/lustre/groups/ml01/workspace/hlca_lisa.sikkema_malte.luecken/HLCA_reproducibility/data\"\n",
    "dset0_dir = os.path.join(base_path, \"HLCA_extended/extension_datasets/ready/full\")\n",
    "dset1_dir = os.path.join(base_path, \"HLCA_extended/extension_datasets/raw\")\n",
    "\n",
    "adata_dict = {\n",
    "    \"Kaminski_2020\": [f\"{dset0_dir}/adams.h5ad\"],\n",
    "    \"Meyer_2021\": [f\"{dset0_dir}/meyer_2021.h5ad\"],\n",
    "    \"MeyerNikolic_unpubl\": [f\"{dset0_dir}/meyer_nikolic_unpubl.h5ad\"],\n",
    "    \"Barbry_unpubl\": [f\"{dset0_dir}/barbry.h5ad\"],\n",
    "    \"Regev_2021\": [\n",
    "        f\"{dset0_dir}/delorey_cryo.h5ad\", f\"{dset0_dir}/delorey_fresh.h5ad\",\n",
    "        f\"{dset0_dir}/delorey_nuclei.h5ad\"\n",
    "    ],\n",
    "    \"Thienpont_2018\": [f\"{dset1_dir}/Lambrechts/lambrechts.h5ad\"],\n",
    "    \"Budinger_2020\": [f\"{dset0_dir}/bharat.h5ad\"],\n",
    "    \"Banovich_Kropski_2020\": [f\"{dset0_dir}/haberman.h5ad\"],\n",
    "    \"Sheppard_2020\": [f\"{dset0_dir}/tsukui.h5ad\"],\n",
    "    \"Wunderink_2021\": [\n",
    "        f\"{dset0_dir}/grant_cryo.h5ad\", f\"{dset0_dir}/grant_fresh.h5ad\"\n",
    "    ],\n",
    "    \"Lambrechts_2021\": [\n",
    "        f\"{dset0_dir}/wouters.h5ad\" #, f\"{dset0_dir}/wouters_labs.h5ad\"\n",
    "    ],\n",
    "    \"Zhang_2021\": [f\"{dset1_dir}/Liao/covid_for_publish.h5ad\"],\n",
    "    \"Duong_lungMAP_unpubl\": [f\"{dset0_dir}/duong.h5ad\"],\n",
    "    \"Janssen_2020\": [f\"{dset0_dir}/mould.h5ad\"],\n",
    "    \"Sun_2020\": [\n",
    "        f\"{dset0_dir}/wang_sub_batch1.h5ad\", f\"{dset0_dir}/wang_sub_batch2.h5ad\",\n",
    "        f\"{dset0_dir}/wang_sub_batch3.h5ad\", f\"{dset0_dir}/wang_sub_batch4.h5ad\"],\n",
    "    \"Gomperts_2021\": [\n",
    "        f\"{dset0_dir}/carraro_ucla.h5ad\", f\"{dset0_dir}/carraro_cff.h5ad\",\n",
    "        f\"{dset0_dir}/carraro_csmc.h5ad\"],\n",
    "    \"Eils_2020\": [f\"{dset0_dir}/lukassen.h5ad\"],\n",
    "    \"Schiller_2020\": [f\"{dset0_dir}/mayr.h5ad\"],\n",
    "    \"Misharin_Budinger_2018\": [f\"{dset0_dir}/reyfman_disease.h5ad\"],\n",
    "    \"Shalek_2018\": [f\"{dset0_dir}/ordovasmontanes.h5ad\"],\n",
    "    \"Schiller_2021\": [f\"{dset0_dir}/schiller_discovair.h5ad\"],\n",
    "    \"Peer_Massague_2020\": [f\"{dset0_dir}/laughney.h5ad\"],\n",
    "    \"Lafyatis_2019\": [f\"{dset0_dir}/valenzi.h5ad\"],\n",
    "    \"Tata_unpubl\": [f\"{dset0_dir}/tata_unpubl.h5ad\"],\n",
    "    \"Xu_2020\": [f\"{dset0_dir}/guo.h5ad\"],\n",
    "    \"Sims_2019\": [f\"{dset0_dir}/szabo.h5ad\"],\n",
    "    \"Schultze_unpubl\": [f\"{dset0_dir}/schultze_unpubl.h5ad\"]\n",
    "}"
   ]
  },
  {
   "cell_type": "markdown",
   "id": "58f70790-d740-45c9-a998-1730189807e9",
   "metadata": {},
   "source": [
    "Run the ID conversion with HGNC Symbol (a.k.a gene name)"
   ]
  },
  {
   "cell_type": "code",
   "execution_count": 10,
   "id": "41926f53-aed1-465a-858b-d766a68652d4",
   "metadata": {
    "tags": []
   },
   "outputs": [
    {
     "name": "stderr",
     "output_type": "stream",
     "text": [
      "Kaminski_2020: 100%|█████████| 45947/45947 [45:09<00:00, 16.96it/s, ID:ENSG00000280139]\n"
     ]
    },
    {
     "name": "stdout",
     "output_type": "stream",
     "text": [
      "changed_only_1_to_n: 55\n",
      "changed_only_1_to_1: 4607\n",
      "alternative_target_1_to_1: 11734\n",
      "alternative_target_1_to_n: 65\n",
      "matching_1_to_0: 97\n",
      "matching_1_to_1: 33996\n",
      "matching_1_to_n: 55\n",
      "input_identifiers: 45947\n",
      "Source release: (38, 94)\n"
     ]
    },
    {
     "name": "stderr",
     "output_type": "stream",
     "text": [
      "Meyer_2021:  31%|██████▍              | 6395/20922 [01:19<03:00, 80.66it/s, ID:FAM153B]\n"
     ]
    },
    {
     "ename": "KeyboardInterrupt",
     "evalue": "",
     "output_type": "error",
     "traceback": [
      "\u001b[0;31m---------------------------------------------------------------------------\u001b[0m",
      "\u001b[0;31mKeyboardInterrupt\u001b[0m                         Traceback (most recent call last)",
      "Cell \u001b[0;32mIn[10], line 9\u001b[0m\n\u001b[1;32m      6\u001b[0m adata \u001b[38;5;241m=\u001b[39m sc\u001b[38;5;241m.\u001b[39mread(adata_dict[dataset_name][\u001b[38;5;241m0\u001b[39m])\n\u001b[1;32m      7\u001b[0m gene_list \u001b[38;5;241m=\u001b[39m \u001b[38;5;28mlist\u001b[39m(adata\u001b[38;5;241m.\u001b[39mvar\u001b[38;5;241m.\u001b[39mindex)\n\u001b[0;32m----> 9\u001b[0m matching \u001b[38;5;241m=\u001b[39m \u001b[43midt\u001b[49m\u001b[38;5;241;43m.\u001b[39;49m\u001b[43mconvert_identifier_multiple\u001b[49m\u001b[43m(\u001b[49m\u001b[43mgene_list\u001b[49m\u001b[43m,\u001b[49m\u001b[43m \u001b[49m\u001b[43mto_release\u001b[49m\u001b[38;5;241;43m=\u001b[39;49m\u001b[38;5;241;43m107\u001b[39;49m\u001b[43m,\u001b[49m\u001b[43m \u001b[49m\u001b[43mfinal_database\u001b[49m\u001b[38;5;241;43m=\u001b[39;49m\u001b[43mfinal_database\u001b[49m\u001b[43m,\u001b[49m\u001b[43m \u001b[49m\u001b[43mpbar_prefix\u001b[49m\u001b[38;5;241;43m=\u001b[39;49m\u001b[43mdataset_name\u001b[49m\u001b[43m)\u001b[49m\n\u001b[1;32m     10\u001b[0m binned_conversions \u001b[38;5;241m=\u001b[39m idt\u001b[38;5;241m.\u001b[39mclassify_multiple_conversion(matching)\n\u001b[1;32m     12\u001b[0m idt\u001b[38;5;241m.\u001b[39mprint_binned_conversion(binned_conversions)\n",
      "File \u001b[0;32m~/work/codes/idtrack/idtrack/_api.py:215\u001b[0m, in \u001b[0;36mAPI.convert_identifier_multiple\u001b[0;34m(self, identifier_list, verbose, pbar_prefix, **kwargs)\u001b[0m\n\u001b[1;32m    212\u001b[0m     \u001b[38;5;28;01mfor\u001b[39;00m identifier \u001b[38;5;129;01min\u001b[39;00m loop_obj:\n\u001b[1;32m    213\u001b[0m         loop_obj\u001b[38;5;241m.\u001b[39mset_postfix_str(\u001b[38;5;124mf\u001b[39m\u001b[38;5;124m\"\u001b[39m\u001b[38;5;124mID:\u001b[39m\u001b[38;5;132;01m{\u001b[39;00midentifier\u001b[38;5;132;01m}\u001b[39;00m\u001b[38;5;124m\"\u001b[39m, refresh\u001b[38;5;241m=\u001b[39m\u001b[38;5;28;01mFalse\u001b[39;00m)\n\u001b[0;32m--> 215\u001b[0m         result\u001b[38;5;241m.\u001b[39mappend(\u001b[38;5;28;43mself\u001b[39;49m\u001b[38;5;241;43m.\u001b[39;49m\u001b[43mconvert_identifier\u001b[49m\u001b[43m(\u001b[49m\u001b[43midentifier\u001b[49m\u001b[43m,\u001b[49m\u001b[43m \u001b[49m\u001b[38;5;241;43m*\u001b[39;49m\u001b[38;5;241;43m*\u001b[39;49m\u001b[43mkwargs\u001b[49m\u001b[43m)\u001b[49m)\n\u001b[1;32m    216\u001b[0m \u001b[38;5;28;01mreturn\u001b[39;00m result\n",
      "File \u001b[0;32m~/work/codes/idtrack/idtrack/_api.py:134\u001b[0m, in \u001b[0;36mAPI.convert_identifier\u001b[0;34m(self, identifier, from_release, to_release, final_database, prioritize_to_one_filter, return_path)\u001b[0m\n\u001b[1;32m    131\u001b[0m no_corresponding, no_conversion \u001b[38;5;241m=\u001b[39m \u001b[38;5;28;01mFalse\u001b[39;00m, \u001b[38;5;28;01mFalse\u001b[39;00m\n\u001b[1;32m    133\u001b[0m \u001b[38;5;28;01mif\u001b[39;00m new_ident \u001b[38;5;129;01mis\u001b[39;00m \u001b[38;5;129;01mnot\u001b[39;00m \u001b[38;5;28;01mNone\u001b[39;00m:\n\u001b[0;32m--> 134\u001b[0m     cnt \u001b[38;5;241m=\u001b[39m \u001b[38;5;28;43mself\u001b[39;49m\u001b[38;5;241;43m.\u001b[39;49m\u001b[43mtrack\u001b[49m\u001b[38;5;241;43m.\u001b[39;49m\u001b[43mconvert\u001b[49m\u001b[43m(\u001b[49m\n\u001b[1;32m    135\u001b[0m \u001b[43m        \u001b[49m\u001b[43mfrom_id\u001b[49m\u001b[38;5;241;43m=\u001b[39;49m\u001b[43mnew_ident\u001b[49m\u001b[43m,\u001b[49m\n\u001b[1;32m    136\u001b[0m \u001b[43m        \u001b[49m\u001b[43mfrom_release\u001b[49m\u001b[38;5;241;43m=\u001b[39;49m\u001b[43mfrom_release\u001b[49m\u001b[43m,\u001b[49m\n\u001b[1;32m    137\u001b[0m \u001b[43m        \u001b[49m\u001b[43mto_release\u001b[49m\u001b[38;5;241;43m=\u001b[39;49m\u001b[43mto_release\u001b[49m\u001b[43m,\u001b[49m\n\u001b[1;32m    138\u001b[0m \u001b[43m        \u001b[49m\u001b[43mfinal_database\u001b[49m\u001b[38;5;241;43m=\u001b[39;49m\u001b[43mfinal_database\u001b[49m\u001b[43m,\u001b[49m\n\u001b[1;32m    139\u001b[0m \u001b[43m        \u001b[49m\u001b[43mprioritize_to_one_filter\u001b[49m\u001b[38;5;241;43m=\u001b[39;49m\u001b[43mprioritize_to_one_filter\u001b[49m\u001b[43m,\u001b[49m\n\u001b[1;32m    140\u001b[0m \u001b[43m        \u001b[49m\u001b[43mreturn_path\u001b[49m\u001b[38;5;241;43m=\u001b[39;49m\u001b[43mreturn_path\u001b[49m\u001b[43m,\u001b[49m\n\u001b[1;32m    141\u001b[0m \u001b[43m    \u001b[49m\u001b[43m)\u001b[49m\n\u001b[1;32m    142\u001b[0m     \u001b[38;5;28;01mif\u001b[39;00m cnt \u001b[38;5;129;01mis\u001b[39;00m \u001b[38;5;28;01mNone\u001b[39;00m:\n\u001b[1;32m    143\u001b[0m         no_conversion \u001b[38;5;241m=\u001b[39m \u001b[38;5;28;01mTrue\u001b[39;00m\n",
      "File \u001b[0;32m~/work/codes/idtrack/idtrack/_track.py:1347\u001b[0m, in \u001b[0;36mTrack.convert\u001b[0;34m(self, from_id, from_release, to_release, final_database, reduction, remove_na, score_of_the_queried_item, go_external, prioritize_to_one_filter, return_path, deprioritize_lrg_genes, return_ensembl_alternative)\u001b[0m\n\u001b[1;32m   1338\u001b[0m \u001b[38;5;28;01mif\u001b[39;00m should_reversed \u001b[38;5;241m==\u001b[39m \u001b[38;5;124m\"\u001b[39m\u001b[38;5;124mboth\u001b[39m\u001b[38;5;124m\"\u001b[39m:\n\u001b[1;32m   1339\u001b[0m     possible_paths_forward \u001b[38;5;241m=\u001b[39m \u001b[38;5;28mself\u001b[39m\u001b[38;5;241m.\u001b[39mget_possible_paths(\n\u001b[1;32m   1340\u001b[0m         from_id,\n\u001b[1;32m   1341\u001b[0m         fr[\u001b[38;5;241m0\u001b[39m],\n\u001b[0;32m   (...)\u001b[0m\n\u001b[1;32m   1345\u001b[0m         from_release_inferred\u001b[38;5;241m=\u001b[39mfri,\n\u001b[1;32m   1346\u001b[0m     )\n\u001b[0;32m-> 1347\u001b[0m     possible_paths_reverse \u001b[38;5;241m=\u001b[39m \u001b[38;5;28;43mself\u001b[39;49m\u001b[38;5;241;43m.\u001b[39;49m\u001b[43mget_possible_paths\u001b[49m\u001b[43m(\u001b[49m\n\u001b[1;32m   1348\u001b[0m \u001b[43m        \u001b[49m\u001b[43mfrom_id\u001b[49m\u001b[43m,\u001b[49m\n\u001b[1;32m   1349\u001b[0m \u001b[43m        \u001b[49m\u001b[43mfr\u001b[49m\u001b[43m[\u001b[49m\u001b[38;5;241;43m1\u001b[39;49m\u001b[43m]\u001b[49m\u001b[43m,\u001b[49m\n\u001b[1;32m   1350\u001b[0m \u001b[43m        \u001b[49m\u001b[43mto_release\u001b[49m\u001b[43m,\u001b[49m\n\u001b[1;32m   1351\u001b[0m \u001b[43m        \u001b[49m\u001b[43mgo_external\u001b[49m\u001b[38;5;241;43m=\u001b[39;49m\u001b[43mgo_external\u001b[49m\u001b[43m,\u001b[49m\n\u001b[1;32m   1352\u001b[0m \u001b[43m        \u001b[49m\u001b[43mreverse\u001b[49m\u001b[38;5;241;43m=\u001b[39;49m\u001b[38;5;28;43;01mTrue\u001b[39;49;00m\u001b[43m,\u001b[49m\n\u001b[1;32m   1353\u001b[0m \u001b[43m        \u001b[49m\u001b[43mfrom_release_inferred\u001b[49m\u001b[38;5;241;43m=\u001b[39;49m\u001b[43mfri\u001b[49m\u001b[43m,\u001b[49m\n\u001b[1;32m   1354\u001b[0m \u001b[43m    \u001b[49m\u001b[43m)\u001b[49m\n\u001b[1;32m   1355\u001b[0m     poss_paths \u001b[38;5;241m=\u001b[39m \u001b[38;5;28mtuple\u001b[39m(\u001b[38;5;28mlist\u001b[39m(itertools\u001b[38;5;241m.\u001b[39mchain(possible_paths_forward, possible_paths_reverse)))\n\u001b[1;32m   1356\u001b[0m     ff \u001b[38;5;241m=\u001b[39m itertools\u001b[38;5;241m.\u001b[39mchain(\n\u001b[1;32m   1357\u001b[0m         itertools\u001b[38;5;241m.\u001b[39mrepeat(fr[\u001b[38;5;241m0\u001b[39m], \u001b[38;5;28mlen\u001b[39m(possible_paths_forward)),\n\u001b[1;32m   1358\u001b[0m         itertools\u001b[38;5;241m.\u001b[39mrepeat(fr[\u001b[38;5;241m1\u001b[39m], \u001b[38;5;28mlen\u001b[39m(possible_paths_reverse)),\n\u001b[1;32m   1359\u001b[0m     )\n",
      "File \u001b[0;32m~/work/codes/idtrack/idtrack/_track.py:813\u001b[0m, in \u001b[0;36mTrack.get_possible_paths\u001b[0;34m(self, from_id, from_release, to_release, reverse, go_external, increase_depth_until, increase_jump_until, from_release_inferred)\u001b[0m\n\u001b[1;32m    811\u001b[0m es \u001b[38;5;241m=\u001b[39m copy\u001b[38;5;241m.\u001b[39mdeepcopy(DB\u001b[38;5;241m.\u001b[39mexternal_search_settings)\n\u001b[1;32m    812\u001b[0m \u001b[38;5;28;01mwhile\u001b[39;00m go_external \u001b[38;5;129;01mand\u001b[39;00m \u001b[38;5;28mlen\u001b[39m(all_paths) \u001b[38;5;241m<\u001b[39m \u001b[38;5;241m1\u001b[39m:\n\u001b[0;32m--> 813\u001b[0m     all_paths \u001b[38;5;241m=\u001b[39m \u001b[38;5;28;43mself\u001b[39;49m\u001b[38;5;241;43m.\u001b[39;49m\u001b[43mpath_search\u001b[49m\u001b[43m(\u001b[49m\n\u001b[1;32m    814\u001b[0m \u001b[43m        \u001b[49m\u001b[43mfrom_id\u001b[49m\u001b[38;5;241;43m=\u001b[39;49m\u001b[43mfrom_id\u001b[49m\u001b[43m,\u001b[49m\n\u001b[1;32m    815\u001b[0m \u001b[43m        \u001b[49m\u001b[43mfrom_release\u001b[49m\u001b[38;5;241;43m=\u001b[39;49m\u001b[43mfrom_release\u001b[49m\u001b[43m,\u001b[49m\n\u001b[1;32m    816\u001b[0m \u001b[43m        \u001b[49m\u001b[43mto_release\u001b[49m\u001b[38;5;241;43m=\u001b[39;49m\u001b[43mto_release\u001b[49m\u001b[43m,\u001b[49m\n\u001b[1;32m    817\u001b[0m \u001b[43m        \u001b[49m\u001b[43mreverse\u001b[49m\u001b[38;5;241;43m=\u001b[39;49m\u001b[43mreverse\u001b[49m\u001b[43m,\u001b[49m\n\u001b[1;32m    818\u001b[0m \u001b[43m        \u001b[49m\u001b[43mexternal_settings\u001b[49m\u001b[38;5;241;43m=\u001b[39;49m\u001b[43mes\u001b[49m\u001b[43m,\u001b[49m\n\u001b[1;32m    819\u001b[0m \u001b[43m        \u001b[49m\u001b[43mexternal_jump\u001b[49m\u001b[38;5;241;43m=\u001b[39;49m\u001b[38;5;28;43;01mNone\u001b[39;49;00m\u001b[43m,\u001b[49m\n\u001b[1;32m    820\u001b[0m \u001b[43m        \u001b[49m\u001b[43mmultiple_ensembl_transition\u001b[49m\u001b[38;5;241;43m=\u001b[39;49m\u001b[38;5;28;43;01mFalse\u001b[39;49;00m\u001b[43m,\u001b[49m\n\u001b[1;32m    821\u001b[0m \u001b[43m    \u001b[49m\u001b[43m)\u001b[49m\n\u001b[1;32m    822\u001b[0m     \u001b[38;5;28;01mif\u001b[39;00m es[\u001b[38;5;124m\"\u001b[39m\u001b[38;5;124msynonymous_max_depth\u001b[39m\u001b[38;5;124m\"\u001b[39m] \u001b[38;5;241m<\u001b[39m idu:\n\u001b[1;32m    823\u001b[0m         es[\u001b[38;5;124m\"\u001b[39m\u001b[38;5;124msynonymous_max_depth\u001b[39m\u001b[38;5;124m\"\u001b[39m] \u001b[38;5;241m=\u001b[39m es[\u001b[38;5;124m\"\u001b[39m\u001b[38;5;124msynonymous_max_depth\u001b[39m\u001b[38;5;124m\"\u001b[39m] \u001b[38;5;241m+\u001b[39m \u001b[38;5;241m1\u001b[39m\n",
      "File \u001b[0;32m~/work/codes/idtrack/idtrack/_track.py:756\u001b[0m, in \u001b[0;36mTrack.path_search\u001b[0;34m(self, from_id, from_release, to_release, reverse, external_settings, external_jump, multiple_ensembl_transition)\u001b[0m\n\u001b[1;32m    745\u001b[0m                         _recursive_function(\n\u001b[1;32m    746\u001b[0m                             _node_after,  \u001b[38;5;66;03m# __from_id\u001b[39;00m\n\u001b[1;32m    747\u001b[0m                             _edge_release,  \u001b[38;5;66;03m# __from_release\u001b[39;00m\n\u001b[0;32m   (...)\u001b[0m\n\u001b[1;32m    752\u001b[0m                             _edge_hist_non_backbone,  \u001b[38;5;66;03m# __edge_hist_non_backbone\u001b[39;00m\n\u001b[1;32m    753\u001b[0m                         )\n\u001b[1;32m    755\u001b[0m all_paths: \u001b[38;5;28mset\u001b[39m \u001b[38;5;241m=\u001b[39m \u001b[38;5;28mset\u001b[39m()\n\u001b[0;32m--> 756\u001b[0m \u001b[43m_recursive_function\u001b[49m\u001b[43m(\u001b[49m\n\u001b[1;32m    757\u001b[0m \u001b[43m    \u001b[49m\u001b[43mfrom_id\u001b[49m\u001b[43m,\u001b[49m\u001b[43m  \u001b[49m\u001b[38;5;66;43;03m# __from_id\u001b[39;49;00m\n\u001b[1;32m    758\u001b[0m \u001b[43m    \u001b[49m\u001b[43mfrom_release\u001b[49m\u001b[43m,\u001b[49m\u001b[43m  \u001b[49m\u001b[38;5;66;43;03m# __from_release\u001b[39;49;00m\n\u001b[1;32m    759\u001b[0m \u001b[43m    \u001b[49m\u001b[43mreverse\u001b[49m\u001b[43m,\u001b[49m\u001b[43m  \u001b[49m\u001b[38;5;66;43;03m# __reverse\u001b[39;49;00m\n\u001b[1;32m    760\u001b[0m \u001b[43m    \u001b[49m\u001b[38;5;28;43;01mFalse\u001b[39;49;00m\u001b[43m,\u001b[49m\u001b[43m  \u001b[49m\u001b[38;5;66;43;03m# __beamed_up\u001b[39;49;00m\n\u001b[1;32m    761\u001b[0m \u001b[43m    \u001b[49m\u001b[43mexternal_jump\u001b[49m\u001b[43m,\u001b[49m\u001b[43m  \u001b[49m\u001b[38;5;66;43;03m# __external_jump\u001b[39;49;00m\n\u001b[1;32m    762\u001b[0m \u001b[43m    \u001b[49m\u001b[38;5;28;43;01mNone\u001b[39;49;00m\u001b[43m,\u001b[49m\u001b[43m  \u001b[49m\u001b[38;5;66;43;03m# __edge_hist\u001b[39;49;00m\n\u001b[1;32m    763\u001b[0m \u001b[43m    \u001b[49m\u001b[38;5;28;43;01mNone\u001b[39;49;00m\u001b[43m,\u001b[49m\u001b[43m  \u001b[49m\u001b[38;5;66;43;03m# __edge_hist_non_backbone\u001b[39;49;00m\n\u001b[1;32m    764\u001b[0m \u001b[43m\u001b[49m\u001b[43m)\u001b[49m\n\u001b[1;32m    766\u001b[0m \u001b[38;5;28;01mreturn\u001b[39;00m all_paths\n",
      "File \u001b[0;32m~/work/codes/idtrack/idtrack/_track.py:656\u001b[0m, in \u001b[0;36mTrack.path_search.<locals>._recursive_function\u001b[0;34m(_Track__from_id, _Track__from_release, _Track__reverse, _Track__beamed_up, _Track__external_jump, _Track__edge_hist, _Track__edge_hist_non_backbone)\u001b[0m\n\u001b[1;32m    651\u001b[0m     \u001b[38;5;28;01mfor\u001b[39;00m s1, s2, s3, s4, _s5 \u001b[38;5;129;01min\u001b[39;00m s:  \u001b[38;5;66;03m# new_from_id, new_from_rel, new_reverse, path, path_db\u001b[39;00m\n\u001b[1;32m    652\u001b[0m         \u001b[38;5;66;03m# TODO: remove path_db (s5) from the function and pathfinder.\u001b[39;00m\n\u001b[1;32m    654\u001b[0m         \u001b[38;5;28;01mif\u001b[39;00m _recurring_element(s4):\n\u001b[1;32m    655\u001b[0m             \u001b[38;5;66;03m# with synonym route, can't go synonym finding in the next iteration\u001b[39;00m\n\u001b[0;32m--> 656\u001b[0m             \u001b[43m_recursive_function\u001b[49m\u001b[43m(\u001b[49m\n\u001b[1;32m    657\u001b[0m \u001b[43m                \u001b[49m\u001b[43ms1\u001b[49m\u001b[43m,\u001b[49m\u001b[43m  \u001b[49m\u001b[38;5;66;43;03m# __from_id\u001b[39;49;00m\n\u001b[1;32m    658\u001b[0m \u001b[43m                \u001b[49m\u001b[43ms2\u001b[49m\u001b[43m,\u001b[49m\u001b[43m  \u001b[49m\u001b[38;5;66;43;03m# __from_release\u001b[39;49;00m\n\u001b[1;32m    659\u001b[0m \u001b[43m                \u001b[49m\u001b[43ms3\u001b[49m\u001b[43m,\u001b[49m\u001b[43m  \u001b[49m\u001b[38;5;66;43;03m# __reverse\u001b[39;49;00m\n\u001b[1;32m    660\u001b[0m \u001b[43m                \u001b[49m\u001b[38;5;28;43;01mTrue\u001b[39;49;00m\u001b[43m,\u001b[49m\u001b[43m  \u001b[49m\u001b[38;5;66;43;03m# __beamed_up\u001b[39;49;00m\n\u001b[1;32m    661\u001b[0m \u001b[43m                \u001b[49m\u001b[43m_external_jump\u001b[49m\u001b[43m,\u001b[49m\u001b[43m  \u001b[49m\u001b[38;5;66;43;03m# __external_jump. It does not count as it is starting point\u001b[39;49;00m\n\u001b[1;32m    662\u001b[0m \u001b[43m                \u001b[49m\u001b[43m_edge_hist\u001b[49m\u001b[43m \u001b[49m\u001b[38;5;241;43m+\u001b[39;49m\u001b[43m \u001b[49m\u001b[43m_external_path_maker\u001b[49m\u001b[43m(\u001b[49m\u001b[43m__from_id\u001b[49m\u001b[43m,\u001b[49m\u001b[43m \u001b[49m\u001b[43ms2\u001b[49m\u001b[43m,\u001b[49m\u001b[43m \u001b[49m\u001b[43ms4\u001b[49m\u001b[43m,\u001b[49m\u001b[43m \u001b[49m\u001b[43mswitch_met\u001b[49m\u001b[43m,\u001b[49m\u001b[43m \u001b[49m\u001b[43ms3\u001b[49m\u001b[43m)\u001b[49m\u001b[43m,\u001b[49m\u001b[43m  \u001b[49m\u001b[38;5;66;43;03m# __edge_hist\u001b[39;49;00m\n\u001b[1;32m    663\u001b[0m \u001b[43m                \u001b[49m\u001b[43m_edge_hist_non_backbone\u001b[49m\u001b[43m \u001b[49m\u001b[38;5;241;43m|\u001b[39;49m\u001b[43m \u001b[49m\u001b[43m_non_backbone_finder\u001b[49m\u001b[43m(\u001b[49m\u001b[43ms4\u001b[49m\u001b[43m)\u001b[49m\u001b[43m,\u001b[49m\u001b[43m  \u001b[49m\u001b[38;5;66;43;03m# __edge_hist_non_backbone\u001b[39;49;00m\n\u001b[1;32m    664\u001b[0m \u001b[43m            \u001b[49m\u001b[43m)\u001b[49m\n\u001b[1;32m    665\u001b[0m             \u001b[38;5;66;03m# Add parallel path finding searches\u001b[39;00m\n\u001b[1;32m    666\u001b[0m \n\u001b[1;32m    667\u001b[0m \u001b[38;5;28;01melse\u001b[39;00m:\n\u001b[1;32m    668\u001b[0m     \u001b[38;5;28;01mfor\u001b[39;00m _edge_release, _only_self_loop, _from_id, _node_after, _multi_edge_id \u001b[38;5;129;01min\u001b[39;00m next_edges:\n\u001b[1;32m    669\u001b[0m         \u001b[38;5;66;03m# Synonymous genes of the gene of interest until the next node in the history travel.\u001b[39;00m\n",
      "File \u001b[0;32m~/work/codes/idtrack/idtrack/_track.py:745\u001b[0m, in \u001b[0;36mTrack.path_search.<locals>._recursive_function\u001b[0;34m(_Track__from_id, _Track__from_release, _Track__reverse, _Track__beamed_up, _Track__external_jump, _Track__edge_hist, _Track__edge_hist_non_backbone)\u001b[0m\n\u001b[1;32m    743\u001b[0m         _edge_hist\u001b[38;5;241m.\u001b[39mappend(dict_key)\n\u001b[1;32m    744\u001b[0m \u001b[38;5;28;01melse\u001b[39;00m:\n\u001b[0;32m--> 745\u001b[0m     \u001b[43m_recursive_function\u001b[49m\u001b[43m(\u001b[49m\n\u001b[1;32m    746\u001b[0m \u001b[43m        \u001b[49m\u001b[43m_node_after\u001b[49m\u001b[43m,\u001b[49m\u001b[43m  \u001b[49m\u001b[38;5;66;43;03m# __from_id\u001b[39;49;00m\n\u001b[1;32m    747\u001b[0m \u001b[43m        \u001b[49m\u001b[43m_edge_release\u001b[49m\u001b[43m,\u001b[49m\u001b[43m  \u001b[49m\u001b[38;5;66;43;03m# __from_release\u001b[39;49;00m\n\u001b[1;32m    748\u001b[0m \u001b[43m        \u001b[49m\u001b[43m__reverse\u001b[49m\u001b[43m,\u001b[49m\u001b[43m  \u001b[49m\u001b[38;5;66;43;03m# __reverse\u001b[39;49;00m\n\u001b[1;32m    749\u001b[0m \u001b[43m        \u001b[49m\u001b[38;5;28;43;01mFalse\u001b[39;49;00m\u001b[43m,\u001b[49m\u001b[43m  \u001b[49m\u001b[38;5;66;43;03m# __beamed_up\u001b[39;49;00m\n\u001b[1;32m    750\u001b[0m \u001b[43m        \u001b[49m\u001b[43m_external_jump\u001b[49m\u001b[43m,\u001b[49m\u001b[43m  \u001b[49m\u001b[38;5;66;43;03m# __external_jump\u001b[39;49;00m\n\u001b[1;32m    751\u001b[0m \u001b[43m        \u001b[49m\u001b[43m_edge_hist\u001b[49m\u001b[43m \u001b[49m\u001b[38;5;241;43m+\u001b[39;49m\u001b[43m \u001b[49m\u001b[43m[\u001b[49m\u001b[43mdict_key\u001b[49m\u001b[43m]\u001b[49m\u001b[43m,\u001b[49m\u001b[43m  \u001b[49m\u001b[38;5;66;43;03m# __edge_hist\u001b[39;49;00m\n\u001b[1;32m    752\u001b[0m \u001b[43m        \u001b[49m\u001b[43m_edge_hist_non_backbone\u001b[49m\u001b[43m,\u001b[49m\u001b[43m  \u001b[49m\u001b[38;5;66;43;03m# __edge_hist_non_backbone\u001b[39;49;00m\n\u001b[1;32m    753\u001b[0m \u001b[43m    \u001b[49m\u001b[43m)\u001b[49m\n",
      "File \u001b[0;32m~/work/codes/idtrack/idtrack/_track.py:745\u001b[0m, in \u001b[0;36mTrack.path_search.<locals>._recursive_function\u001b[0;34m(_Track__from_id, _Track__from_release, _Track__reverse, _Track__beamed_up, _Track__external_jump, _Track__edge_hist, _Track__edge_hist_non_backbone)\u001b[0m\n\u001b[1;32m    743\u001b[0m         _edge_hist\u001b[38;5;241m.\u001b[39mappend(dict_key)\n\u001b[1;32m    744\u001b[0m \u001b[38;5;28;01melse\u001b[39;00m:\n\u001b[0;32m--> 745\u001b[0m     \u001b[43m_recursive_function\u001b[49m\u001b[43m(\u001b[49m\n\u001b[1;32m    746\u001b[0m \u001b[43m        \u001b[49m\u001b[43m_node_after\u001b[49m\u001b[43m,\u001b[49m\u001b[43m  \u001b[49m\u001b[38;5;66;43;03m# __from_id\u001b[39;49;00m\n\u001b[1;32m    747\u001b[0m \u001b[43m        \u001b[49m\u001b[43m_edge_release\u001b[49m\u001b[43m,\u001b[49m\u001b[43m  \u001b[49m\u001b[38;5;66;43;03m# __from_release\u001b[39;49;00m\n\u001b[1;32m    748\u001b[0m \u001b[43m        \u001b[49m\u001b[43m__reverse\u001b[49m\u001b[43m,\u001b[49m\u001b[43m  \u001b[49m\u001b[38;5;66;43;03m# __reverse\u001b[39;49;00m\n\u001b[1;32m    749\u001b[0m \u001b[43m        \u001b[49m\u001b[38;5;28;43;01mFalse\u001b[39;49;00m\u001b[43m,\u001b[49m\u001b[43m  \u001b[49m\u001b[38;5;66;43;03m# __beamed_up\u001b[39;49;00m\n\u001b[1;32m    750\u001b[0m \u001b[43m        \u001b[49m\u001b[43m_external_jump\u001b[49m\u001b[43m,\u001b[49m\u001b[43m  \u001b[49m\u001b[38;5;66;43;03m# __external_jump\u001b[39;49;00m\n\u001b[1;32m    751\u001b[0m \u001b[43m        \u001b[49m\u001b[43m_edge_hist\u001b[49m\u001b[43m \u001b[49m\u001b[38;5;241;43m+\u001b[39;49m\u001b[43m \u001b[49m\u001b[43m[\u001b[49m\u001b[43mdict_key\u001b[49m\u001b[43m]\u001b[49m\u001b[43m,\u001b[49m\u001b[43m  \u001b[49m\u001b[38;5;66;43;03m# __edge_hist\u001b[39;49;00m\n\u001b[1;32m    752\u001b[0m \u001b[43m        \u001b[49m\u001b[43m_edge_hist_non_backbone\u001b[49m\u001b[43m,\u001b[49m\u001b[43m  \u001b[49m\u001b[38;5;66;43;03m# __edge_hist_non_backbone\u001b[39;49;00m\n\u001b[1;32m    753\u001b[0m \u001b[43m    \u001b[49m\u001b[43m)\u001b[49m\n",
      "File \u001b[0;32m~/work/codes/idtrack/idtrack/_track.py:685\u001b[0m, in \u001b[0;36mTrack.path_search.<locals>._recursive_function\u001b[0;34m(_Track__from_id, _Track__from_release, _Track__reverse, _Track__beamed_up, _Track__external_jump, _Track__edge_hist, _Track__edge_hist_non_backbone)\u001b[0m\n\u001b[1;32m    680\u001b[0m     \u001b[38;5;28;01mfor\u001b[39;00m s1, s2, s3, s4, _s5 \u001b[38;5;129;01min\u001b[39;00m s:  \u001b[38;5;66;03m# new_from_id, new_from_rel, new_reverse, path, path_db\u001b[39;00m\n\u001b[1;32m    681\u001b[0m         \u001b[38;5;66;03m# TODO: remove path_db (s5) from the function and pathfinder.\u001b[39;00m\n\u001b[1;32m    683\u001b[0m         \u001b[38;5;28;01mif\u001b[39;00m _recurring_element(s4):\n\u001b[1;32m    684\u001b[0m             \u001b[38;5;66;03m# with synonym route, don't go synonym finding in the next iteration\u001b[39;00m\n\u001b[0;32m--> 685\u001b[0m             \u001b[43m_recursive_function\u001b[49m\u001b[43m(\u001b[49m\n\u001b[1;32m    686\u001b[0m \u001b[43m                \u001b[49m\u001b[43ms1\u001b[49m\u001b[43m,\u001b[49m\u001b[43m  \u001b[49m\u001b[38;5;66;43;03m# __from_id\u001b[39;49;00m\n\u001b[1;32m    687\u001b[0m \u001b[43m                \u001b[49m\u001b[43ms2\u001b[49m\u001b[43m,\u001b[49m\u001b[43m  \u001b[49m\u001b[38;5;66;43;03m# __from_release\u001b[39;49;00m\n\u001b[1;32m    688\u001b[0m \u001b[43m                \u001b[49m\u001b[43ms3\u001b[49m\u001b[43m,\u001b[49m\u001b[43m  \u001b[49m\u001b[38;5;66;43;03m# __reverse\u001b[39;49;00m\n\u001b[1;32m    689\u001b[0m \u001b[43m                \u001b[49m\u001b[38;5;28;43;01mTrue\u001b[39;49;00m\u001b[43m,\u001b[49m\u001b[43m  \u001b[49m\u001b[38;5;66;43;03m# __beamed_up\u001b[39;49;00m\n\u001b[1;32m    690\u001b[0m \u001b[43m                \u001b[49m\u001b[43m_external_jump\u001b[49m\u001b[43m \u001b[49m\u001b[38;5;241;43m+\u001b[39;49m\u001b[43m \u001b[49m\u001b[38;5;241;43m1.0\u001b[39;49m\u001b[43m,\u001b[49m\u001b[43m  \u001b[49m\u001b[38;5;66;43;03m# __external_jump\u001b[39;49;00m\n\u001b[1;32m    691\u001b[0m \u001b[43m                \u001b[49m\u001b[43m_edge_hist\u001b[49m\u001b[43m \u001b[49m\u001b[38;5;241;43m+\u001b[39;49m\u001b[43m \u001b[49m\u001b[43m_external_path_maker\u001b[49m\u001b[43m(\u001b[49m\u001b[43m_from_id\u001b[49m\u001b[43m,\u001b[49m\u001b[43m \u001b[49m\u001b[43ms2\u001b[49m\u001b[43m,\u001b[49m\u001b[43m \u001b[49m\u001b[43ms4\u001b[49m\u001b[43m,\u001b[49m\u001b[43m \u001b[49m\u001b[38;5;28;43;01mTrue\u001b[39;49;00m\u001b[43m,\u001b[49m\u001b[43m \u001b[49m\u001b[43ms3\u001b[49m\u001b[43m)\u001b[49m\u001b[43m,\u001b[49m\u001b[43m  \u001b[49m\u001b[38;5;66;43;03m# __edge_hist\u001b[39;49;00m\n\u001b[1;32m    692\u001b[0m \u001b[43m                \u001b[49m\u001b[43m_edge_hist_non_backbone\u001b[49m\u001b[43m \u001b[49m\u001b[38;5;241;43m|\u001b[39;49m\u001b[43m \u001b[49m\u001b[43m_non_backbone_finder\u001b[49m\u001b[43m(\u001b[49m\u001b[43ms4\u001b[49m\u001b[43m)\u001b[49m\u001b[43m,\u001b[49m\u001b[43m  \u001b[49m\u001b[38;5;66;43;03m# __edge_hist_non_backbone\u001b[39;49;00m\n\u001b[1;32m    693\u001b[0m \u001b[43m            \u001b[49m\u001b[43m)\u001b[49m\n\u001b[1;32m    694\u001b[0m             \u001b[38;5;66;03m# Add parallel path finding searches\u001b[39;00m\n\u001b[1;32m    695\u001b[0m \n\u001b[1;32m    696\u001b[0m \u001b[38;5;66;03m# History travel\u001b[39;00m\n\u001b[1;32m    698\u001b[0m dict_key \u001b[38;5;241m=\u001b[39m (_from_id, _node_after, _multi_edge_id)\n",
      "File \u001b[0;32m~/work/codes/idtrack/idtrack/_track.py:745\u001b[0m, in \u001b[0;36mTrack.path_search.<locals>._recursive_function\u001b[0;34m(_Track__from_id, _Track__from_release, _Track__reverse, _Track__beamed_up, _Track__external_jump, _Track__edge_hist, _Track__edge_hist_non_backbone)\u001b[0m\n\u001b[1;32m    743\u001b[0m         _edge_hist\u001b[38;5;241m.\u001b[39mappend(dict_key)\n\u001b[1;32m    744\u001b[0m \u001b[38;5;28;01melse\u001b[39;00m:\n\u001b[0;32m--> 745\u001b[0m     \u001b[43m_recursive_function\u001b[49m\u001b[43m(\u001b[49m\n\u001b[1;32m    746\u001b[0m \u001b[43m        \u001b[49m\u001b[43m_node_after\u001b[49m\u001b[43m,\u001b[49m\u001b[43m  \u001b[49m\u001b[38;5;66;43;03m# __from_id\u001b[39;49;00m\n\u001b[1;32m    747\u001b[0m \u001b[43m        \u001b[49m\u001b[43m_edge_release\u001b[49m\u001b[43m,\u001b[49m\u001b[43m  \u001b[49m\u001b[38;5;66;43;03m# __from_release\u001b[39;49;00m\n\u001b[1;32m    748\u001b[0m \u001b[43m        \u001b[49m\u001b[43m__reverse\u001b[49m\u001b[43m,\u001b[49m\u001b[43m  \u001b[49m\u001b[38;5;66;43;03m# __reverse\u001b[39;49;00m\n\u001b[1;32m    749\u001b[0m \u001b[43m        \u001b[49m\u001b[38;5;28;43;01mFalse\u001b[39;49;00m\u001b[43m,\u001b[49m\u001b[43m  \u001b[49m\u001b[38;5;66;43;03m# __beamed_up\u001b[39;49;00m\n\u001b[1;32m    750\u001b[0m \u001b[43m        \u001b[49m\u001b[43m_external_jump\u001b[49m\u001b[43m,\u001b[49m\u001b[43m  \u001b[49m\u001b[38;5;66;43;03m# __external_jump\u001b[39;49;00m\n\u001b[1;32m    751\u001b[0m \u001b[43m        \u001b[49m\u001b[43m_edge_hist\u001b[49m\u001b[43m \u001b[49m\u001b[38;5;241;43m+\u001b[39;49m\u001b[43m \u001b[49m\u001b[43m[\u001b[49m\u001b[43mdict_key\u001b[49m\u001b[43m]\u001b[49m\u001b[43m,\u001b[49m\u001b[43m  \u001b[49m\u001b[38;5;66;43;03m# __edge_hist\u001b[39;49;00m\n\u001b[1;32m    752\u001b[0m \u001b[43m        \u001b[49m\u001b[43m_edge_hist_non_backbone\u001b[49m\u001b[43m,\u001b[49m\u001b[43m  \u001b[49m\u001b[38;5;66;43;03m# __edge_hist_non_backbone\u001b[39;49;00m\n\u001b[1;32m    753\u001b[0m \u001b[43m    \u001b[49m\u001b[43m)\u001b[49m\n",
      "File \u001b[0;32m~/work/codes/idtrack/idtrack/_track.py:672\u001b[0m, in \u001b[0;36mTrack.path_search.<locals>._recursive_function\u001b[0;34m(_Track__from_id, _Track__from_release, _Track__reverse, _Track__beamed_up, _Track__external_jump, _Track__edge_hist, _Track__edge_hist_non_backbone)\u001b[0m\n\u001b[1;32m    668\u001b[0m \u001b[38;5;28;01mfor\u001b[39;00m _edge_release, _only_self_loop, _from_id, _node_after, _multi_edge_id \u001b[38;5;129;01min\u001b[39;00m next_edges:\n\u001b[1;32m    669\u001b[0m     \u001b[38;5;66;03m# Synonymous genes of the gene of interest until the next node in the history travel.\u001b[39;00m\n\u001b[1;32m    671\u001b[0m     \u001b[38;5;28;01mif\u001b[39;00m \u001b[38;5;129;01mnot\u001b[39;00m __beamed_up \u001b[38;5;129;01mand\u001b[39;00m _external_jump \u001b[38;5;241m<\u001b[39m external_settings[\u001b[38;5;124m\"\u001b[39m\u001b[38;5;124mjump_limit\u001b[39m\u001b[38;5;124m\"\u001b[39m]:\n\u001b[0;32m--> 672\u001b[0m         s \u001b[38;5;241m=\u001b[39m \u001b[38;5;28;43mself\u001b[39;49m\u001b[38;5;241;43m.\u001b[39;49m\u001b[43mchoose_relevant_synonym\u001b[49m\u001b[43m(\u001b[49m\n\u001b[1;32m    673\u001b[0m \u001b[43m            \u001b[49m\u001b[43m_from_id\u001b[49m\u001b[43m,\u001b[49m\n\u001b[1;32m    674\u001b[0m \u001b[43m            \u001b[49m\u001b[43mdepth_max\u001b[49m\u001b[38;5;241;43m=\u001b[39;49m\u001b[43mexternal_settings\u001b[49m\u001b[43m[\u001b[49m\u001b[38;5;124;43m\"\u001b[39;49m\u001b[38;5;124;43msynonymous_max_depth\u001b[39;49m\u001b[38;5;124;43m\"\u001b[39;49m\u001b[43m]\u001b[49m\u001b[43m,\u001b[49m\n\u001b[1;32m    675\u001b[0m \u001b[43m            \u001b[49m\u001b[43mto_release\u001b[49m\u001b[38;5;241;43m=\u001b[39;49m\u001b[43mto_release\u001b[49m\u001b[43m,\u001b[49m\n\u001b[1;32m    676\u001b[0m \u001b[43m            \u001b[49m\u001b[43mfilter_node_type\u001b[49m\u001b[38;5;241;43m=\u001b[39;49m\u001b[43m{\u001b[49m\u001b[43mexternal_settings\u001b[49m\u001b[43m[\u001b[49m\u001b[38;5;124;43m\"\u001b[39;49m\u001b[38;5;124;43mnts_backbone\u001b[39;49m\u001b[38;5;124;43m\"\u001b[39;49m\u001b[43m]\u001b[49m\u001b[43m}\u001b[49m\u001b[43m,\u001b[49m\n\u001b[1;32m    677\u001b[0m \u001b[43m            \u001b[49m\u001b[43mfrom_release\u001b[49m\u001b[38;5;241;43m=\u001b[39;49m\u001b[38;5;28;43;01mNone\u001b[39;49;00m\u001b[43m,\u001b[49m\n\u001b[1;32m    678\u001b[0m \u001b[43m        \u001b[49m\u001b[43m)\u001b[49m\n\u001b[1;32m    680\u001b[0m         \u001b[38;5;28;01mfor\u001b[39;00m s1, s2, s3, s4, _s5 \u001b[38;5;129;01min\u001b[39;00m s:  \u001b[38;5;66;03m# new_from_id, new_from_rel, new_reverse, path, path_db\u001b[39;00m\n\u001b[1;32m    681\u001b[0m             \u001b[38;5;66;03m# TODO: remove path_db (s5) from the function and pathfinder.\u001b[39;00m\n\u001b[1;32m    683\u001b[0m             \u001b[38;5;28;01mif\u001b[39;00m _recurring_element(s4):\n\u001b[1;32m    684\u001b[0m                 \u001b[38;5;66;03m# with synonym route, don't go synonym finding in the next iteration\u001b[39;00m\n",
      "File \u001b[0;32m~/work/codes/idtrack/idtrack/_track.py:420\u001b[0m, in \u001b[0;36mTrack.choose_relevant_synonym\u001b[0;34m(self, the_id, depth_max, to_release, filter_node_type, from_release)\u001b[0m\n\u001b[1;32m    405\u001b[0m \u001b[38;5;250m\u001b[39m\u001b[38;5;124;03m\"\"\"Todo.\u001b[39;00m\n\u001b[1;32m    406\u001b[0m \n\u001b[1;32m    407\u001b[0m \u001b[38;5;124;03mArgs:\u001b[39;00m\n\u001b[0;32m   (...)\u001b[0m\n\u001b[1;32m    415\u001b[0m \u001b[38;5;124;03m    Todo.\u001b[39;00m\n\u001b[1;32m    416\u001b[0m \u001b[38;5;124;03m\"\"\"\u001b[39;00m\n\u001b[1;32m    417\u001b[0m \u001b[38;5;66;03m# help to choose z for a->x->z3,6,9\u001b[39;00m\n\u001b[1;32m    418\u001b[0m \n\u001b[1;32m    419\u001b[0m \u001b[38;5;66;03m# filter_node_type == 'ensembl_gene'\u001b[39;00m\n\u001b[0;32m--> 420\u001b[0m syn \u001b[38;5;241m=\u001b[39m \u001b[38;5;28;43mself\u001b[39;49m\u001b[38;5;241;43m.\u001b[39;49m\u001b[43msynonymous_nodes\u001b[49m\u001b[43m(\u001b[49m\u001b[43mthe_id\u001b[49m\u001b[43m,\u001b[49m\u001b[43m \u001b[49m\u001b[43mdepth_max\u001b[49m\u001b[43m,\u001b[49m\u001b[43m \u001b[49m\u001b[43mfilter_node_type\u001b[49m\u001b[43m,\u001b[49m\u001b[43m \u001b[49m\u001b[43mfrom_release\u001b[49m\u001b[38;5;241;43m=\u001b[39;49m\u001b[43mfrom_release\u001b[49m\u001b[43m)\u001b[49m\n\u001b[1;32m    421\u001b[0m \u001b[38;5;66;03m# it also returns itself, which is important\u001b[39;00m\n\u001b[1;32m    423\u001b[0m syn_ids: \u001b[38;5;28mdict\u001b[39m \u001b[38;5;241m=\u001b[39m \u001b[38;5;28mdict\u001b[39m()\n",
      "File \u001b[0;32m~/work/codes/idtrack/idtrack/_track.py:211\u001b[0m, in \u001b[0;36mTrack.synonymous_nodes\u001b[0;34m(self, the_id, depth_max, filter_node_type, from_release, ensembl_backbone_shallow_search)\u001b[0m\n\u001b[1;32m    209\u001b[0m synonymous_ones: \u001b[38;5;28mlist\u001b[39m \u001b[38;5;241m=\u001b[39m []\n\u001b[1;32m    210\u001b[0m synonymous_ones_db: \u001b[38;5;28mlist\u001b[39m \u001b[38;5;241m=\u001b[39m []\n\u001b[0;32m--> 211\u001b[0m \u001b[38;5;28;43mself\u001b[39;49m\u001b[38;5;241;43m.\u001b[39;49m\u001b[43m_recursive_synonymous\u001b[49m\u001b[43m(\u001b[49m\n\u001b[1;32m    212\u001b[0m \u001b[43m    \u001b[49m\u001b[43mthe_id\u001b[49m\u001b[43m,\u001b[49m\n\u001b[1;32m    213\u001b[0m \u001b[43m    \u001b[49m\u001b[43msynonymous_ones\u001b[49m\u001b[43m,\u001b[49m\n\u001b[1;32m    214\u001b[0m \u001b[43m    \u001b[49m\u001b[43msynonymous_ones_db\u001b[49m\u001b[43m,\u001b[49m\n\u001b[1;32m    215\u001b[0m \u001b[43m    \u001b[49m\u001b[43mfilter_node_type\u001b[49m\u001b[43m,\u001b[49m\n\u001b[1;32m    216\u001b[0m \u001b[43m    \u001b[49m\u001b[43mdepth_max\u001b[49m\u001b[38;5;241;43m=\u001b[39;49m\u001b[43mDB\u001b[49m\u001b[38;5;241;43m.\u001b[39;49m\u001b[43mexternal_search_settings\u001b[49m\u001b[43m[\u001b[49m\u001b[38;5;124;43m\"\u001b[39;49m\u001b[38;5;124;43msynonymous_max_depth\u001b[39;49m\u001b[38;5;124;43m\"\u001b[39;49m\u001b[43m]\u001b[49m\u001b[43m,\u001b[49m\n\u001b[1;32m    217\u001b[0m \u001b[43m    \u001b[49m\u001b[43mfrom_release\u001b[49m\u001b[38;5;241;43m=\u001b[39;49m\u001b[43mfrom_release\u001b[49m\u001b[43m,\u001b[49m\n\u001b[1;32m    218\u001b[0m \u001b[43m    \u001b[49m\u001b[43mensembl_backbone_shallow_search\u001b[49m\u001b[38;5;241;43m=\u001b[39;49m\u001b[43mensembl_backbone_shallow_search\u001b[49m\u001b[43m,\u001b[49m\n\u001b[1;32m    219\u001b[0m \u001b[43m\u001b[49m\u001b[43m)\u001b[49m\n\u001b[1;32m    221\u001b[0m \u001b[38;5;66;03m# Otherwise use supplemented depth_max, which is generally 1, 2 higher than default.\u001b[39;00m\n\u001b[1;32m    222\u001b[0m \u001b[38;5;28;01mif\u001b[39;00m \u001b[38;5;28mlen\u001b[39m(synonymous_ones) \u001b[38;5;241m==\u001b[39m \u001b[38;5;241m0\u001b[39m \u001b[38;5;129;01mand\u001b[39;00m depth_max \u001b[38;5;241m!=\u001b[39m DB\u001b[38;5;241m.\u001b[39mexternal_search_settings[\u001b[38;5;124m\"\u001b[39m\u001b[38;5;124msynonymous_max_depth\u001b[39m\u001b[38;5;124m\"\u001b[39m]:\n",
      "File \u001b[0;32m~/work/codes/idtrack/idtrack/_track.py:166\u001b[0m, in \u001b[0;36mTrack._recursive_synonymous\u001b[0;34m(self, _the_id, synonymous_ones, synonymous_ones_db, filter_node_type, the_path, the_path_db, depth_max, from_release, ensembl_backbone_shallow_search)\u001b[0m\n\u001b[1;32m    162\u001b[0m     \u001b[38;5;28;01mif\u001b[39;00m from_release \u001b[38;5;129;01mnot\u001b[39;00m \u001b[38;5;129;01min\u001b[39;00m graph\u001b[38;5;241m.\u001b[39mget_edge_data(_the_id, _next_neighbour, \u001b[38;5;241m0\u001b[39m)[\u001b[38;5;124m\"\u001b[39m\u001b[38;5;124mavailable_releases\u001b[39m\u001b[38;5;124m\"\u001b[39m]:\n\u001b[1;32m    163\u001b[0m         \u001b[38;5;66;03m# Do not care which assembly or which database.\u001b[39;00m\n\u001b[1;32m    164\u001b[0m         \u001b[38;5;28;01mcontinue\u001b[39;00m\n\u001b[0;32m--> 166\u001b[0m \u001b[38;5;28;43mself\u001b[39;49m\u001b[38;5;241;43m.\u001b[39;49m\u001b[43m_recursive_synonymous\u001b[49m\u001b[43m(\u001b[49m\n\u001b[1;32m    167\u001b[0m \u001b[43m    \u001b[49m\u001b[43m_next_neighbour\u001b[49m\u001b[43m,\u001b[49m\n\u001b[1;32m    168\u001b[0m \u001b[43m    \u001b[49m\u001b[43msynonymous_ones\u001b[49m\u001b[43m,\u001b[49m\n\u001b[1;32m    169\u001b[0m \u001b[43m    \u001b[49m\u001b[43msynonymous_ones_db\u001b[49m\u001b[43m,\u001b[49m\n\u001b[1;32m    170\u001b[0m \u001b[43m    \u001b[49m\u001b[43mfilter_node_type\u001b[49m\u001b[43m,\u001b[49m\n\u001b[1;32m    171\u001b[0m \u001b[43m    \u001b[49m\u001b[43mthe_path\u001b[49m\u001b[38;5;241;43m=\u001b[39;49m\u001b[43m_the_path\u001b[49m\u001b[43m \u001b[49m\u001b[38;5;241;43m+\u001b[39;49m\u001b[43m \u001b[49m\u001b[43m[\u001b[49m\u001b[43m_next_neighbour\u001b[49m\u001b[43m]\u001b[49m\u001b[43m,\u001b[49m\n\u001b[1;32m    172\u001b[0m \u001b[43m    \u001b[49m\u001b[43mthe_path_db\u001b[49m\u001b[38;5;241;43m=\u001b[39;49m\u001b[43m_the_path_db\u001b[49m\u001b[43m \u001b[49m\u001b[38;5;241;43m+\u001b[39;49m\u001b[43m \u001b[49m\u001b[43m[\u001b[49m\u001b[43mgnt\u001b[49m\u001b[43m]\u001b[49m\u001b[43m,\u001b[49m\n\u001b[1;32m    173\u001b[0m \u001b[43m    \u001b[49m\u001b[43mdepth_max\u001b[49m\u001b[38;5;241;43m=\u001b[39;49m\u001b[43mdepth_max\u001b[49m\u001b[43m,\u001b[49m\n\u001b[1;32m    174\u001b[0m \u001b[43m    \u001b[49m\u001b[43mfrom_release\u001b[49m\u001b[38;5;241;43m=\u001b[39;49m\u001b[43mfrom_release\u001b[49m\u001b[43m,\u001b[49m\n\u001b[1;32m    175\u001b[0m \u001b[43m    \u001b[49m\u001b[43mensembl_backbone_shallow_search\u001b[49m\u001b[38;5;241;43m=\u001b[39;49m\u001b[43mensembl_backbone_shallow_search\u001b[49m\u001b[43m,\u001b[49m\n\u001b[1;32m    176\u001b[0m \u001b[43m\u001b[49m\u001b[43m)\u001b[49m\n",
      "File \u001b[0;32m~/work/codes/idtrack/idtrack/_track.py:166\u001b[0m, in \u001b[0;36mTrack._recursive_synonymous\u001b[0;34m(self, _the_id, synonymous_ones, synonymous_ones_db, filter_node_type, the_path, the_path_db, depth_max, from_release, ensembl_backbone_shallow_search)\u001b[0m\n\u001b[1;32m    162\u001b[0m     \u001b[38;5;28;01mif\u001b[39;00m from_release \u001b[38;5;129;01mnot\u001b[39;00m \u001b[38;5;129;01min\u001b[39;00m graph\u001b[38;5;241m.\u001b[39mget_edge_data(_the_id, _next_neighbour, \u001b[38;5;241m0\u001b[39m)[\u001b[38;5;124m\"\u001b[39m\u001b[38;5;124mavailable_releases\u001b[39m\u001b[38;5;124m\"\u001b[39m]:\n\u001b[1;32m    163\u001b[0m         \u001b[38;5;66;03m# Do not care which assembly or which database.\u001b[39;00m\n\u001b[1;32m    164\u001b[0m         \u001b[38;5;28;01mcontinue\u001b[39;00m\n\u001b[0;32m--> 166\u001b[0m \u001b[38;5;28;43mself\u001b[39;49m\u001b[38;5;241;43m.\u001b[39;49m\u001b[43m_recursive_synonymous\u001b[49m\u001b[43m(\u001b[49m\n\u001b[1;32m    167\u001b[0m \u001b[43m    \u001b[49m\u001b[43m_next_neighbour\u001b[49m\u001b[43m,\u001b[49m\n\u001b[1;32m    168\u001b[0m \u001b[43m    \u001b[49m\u001b[43msynonymous_ones\u001b[49m\u001b[43m,\u001b[49m\n\u001b[1;32m    169\u001b[0m \u001b[43m    \u001b[49m\u001b[43msynonymous_ones_db\u001b[49m\u001b[43m,\u001b[49m\n\u001b[1;32m    170\u001b[0m \u001b[43m    \u001b[49m\u001b[43mfilter_node_type\u001b[49m\u001b[43m,\u001b[49m\n\u001b[1;32m    171\u001b[0m \u001b[43m    \u001b[49m\u001b[43mthe_path\u001b[49m\u001b[38;5;241;43m=\u001b[39;49m\u001b[43m_the_path\u001b[49m\u001b[43m \u001b[49m\u001b[38;5;241;43m+\u001b[39;49m\u001b[43m \u001b[49m\u001b[43m[\u001b[49m\u001b[43m_next_neighbour\u001b[49m\u001b[43m]\u001b[49m\u001b[43m,\u001b[49m\n\u001b[1;32m    172\u001b[0m \u001b[43m    \u001b[49m\u001b[43mthe_path_db\u001b[49m\u001b[38;5;241;43m=\u001b[39;49m\u001b[43m_the_path_db\u001b[49m\u001b[43m \u001b[49m\u001b[38;5;241;43m+\u001b[39;49m\u001b[43m \u001b[49m\u001b[43m[\u001b[49m\u001b[43mgnt\u001b[49m\u001b[43m]\u001b[49m\u001b[43m,\u001b[49m\n\u001b[1;32m    173\u001b[0m \u001b[43m    \u001b[49m\u001b[43mdepth_max\u001b[49m\u001b[38;5;241;43m=\u001b[39;49m\u001b[43mdepth_max\u001b[49m\u001b[43m,\u001b[49m\n\u001b[1;32m    174\u001b[0m \u001b[43m    \u001b[49m\u001b[43mfrom_release\u001b[49m\u001b[38;5;241;43m=\u001b[39;49m\u001b[43mfrom_release\u001b[49m\u001b[43m,\u001b[49m\n\u001b[1;32m    175\u001b[0m \u001b[43m    \u001b[49m\u001b[43mensembl_backbone_shallow_search\u001b[49m\u001b[38;5;241;43m=\u001b[39;49m\u001b[43mensembl_backbone_shallow_search\u001b[49m\u001b[43m,\u001b[49m\n\u001b[1;32m    176\u001b[0m \u001b[43m\u001b[49m\u001b[43m)\u001b[49m\n",
      "    \u001b[0;31m[... skipping similar frames: Track._recursive_synonymous at line 166 (2 times)]\u001b[0m\n",
      "File \u001b[0;32m~/work/codes/idtrack/idtrack/_track.py:166\u001b[0m, in \u001b[0;36mTrack._recursive_synonymous\u001b[0;34m(self, _the_id, synonymous_ones, synonymous_ones_db, filter_node_type, the_path, the_path_db, depth_max, from_release, ensembl_backbone_shallow_search)\u001b[0m\n\u001b[1;32m    162\u001b[0m     \u001b[38;5;28;01mif\u001b[39;00m from_release \u001b[38;5;129;01mnot\u001b[39;00m \u001b[38;5;129;01min\u001b[39;00m graph\u001b[38;5;241m.\u001b[39mget_edge_data(_the_id, _next_neighbour, \u001b[38;5;241m0\u001b[39m)[\u001b[38;5;124m\"\u001b[39m\u001b[38;5;124mavailable_releases\u001b[39m\u001b[38;5;124m\"\u001b[39m]:\n\u001b[1;32m    163\u001b[0m         \u001b[38;5;66;03m# Do not care which assembly or which database.\u001b[39;00m\n\u001b[1;32m    164\u001b[0m         \u001b[38;5;28;01mcontinue\u001b[39;00m\n\u001b[0;32m--> 166\u001b[0m \u001b[38;5;28;43mself\u001b[39;49m\u001b[38;5;241;43m.\u001b[39;49m\u001b[43m_recursive_synonymous\u001b[49m\u001b[43m(\u001b[49m\n\u001b[1;32m    167\u001b[0m \u001b[43m    \u001b[49m\u001b[43m_next_neighbour\u001b[49m\u001b[43m,\u001b[49m\n\u001b[1;32m    168\u001b[0m \u001b[43m    \u001b[49m\u001b[43msynonymous_ones\u001b[49m\u001b[43m,\u001b[49m\n\u001b[1;32m    169\u001b[0m \u001b[43m    \u001b[49m\u001b[43msynonymous_ones_db\u001b[49m\u001b[43m,\u001b[49m\n\u001b[1;32m    170\u001b[0m \u001b[43m    \u001b[49m\u001b[43mfilter_node_type\u001b[49m\u001b[43m,\u001b[49m\n\u001b[1;32m    171\u001b[0m \u001b[43m    \u001b[49m\u001b[43mthe_path\u001b[49m\u001b[38;5;241;43m=\u001b[39;49m\u001b[43m_the_path\u001b[49m\u001b[43m \u001b[49m\u001b[38;5;241;43m+\u001b[39;49m\u001b[43m \u001b[49m\u001b[43m[\u001b[49m\u001b[43m_next_neighbour\u001b[49m\u001b[43m]\u001b[49m\u001b[43m,\u001b[49m\n\u001b[1;32m    172\u001b[0m \u001b[43m    \u001b[49m\u001b[43mthe_path_db\u001b[49m\u001b[38;5;241;43m=\u001b[39;49m\u001b[43m_the_path_db\u001b[49m\u001b[43m \u001b[49m\u001b[38;5;241;43m+\u001b[39;49m\u001b[43m \u001b[49m\u001b[43m[\u001b[49m\u001b[43mgnt\u001b[49m\u001b[43m]\u001b[49m\u001b[43m,\u001b[49m\n\u001b[1;32m    173\u001b[0m \u001b[43m    \u001b[49m\u001b[43mdepth_max\u001b[49m\u001b[38;5;241;43m=\u001b[39;49m\u001b[43mdepth_max\u001b[49m\u001b[43m,\u001b[49m\n\u001b[1;32m    174\u001b[0m \u001b[43m    \u001b[49m\u001b[43mfrom_release\u001b[49m\u001b[38;5;241;43m=\u001b[39;49m\u001b[43mfrom_release\u001b[49m\u001b[43m,\u001b[49m\n\u001b[1;32m    175\u001b[0m \u001b[43m    \u001b[49m\u001b[43mensembl_backbone_shallow_search\u001b[49m\u001b[38;5;241;43m=\u001b[39;49m\u001b[43mensembl_backbone_shallow_search\u001b[49m\u001b[43m,\u001b[49m\n\u001b[1;32m    176\u001b[0m \u001b[43m\u001b[49m\u001b[43m)\u001b[49m\n",
      "File \u001b[0;32m~/work/codes/idtrack/idtrack/_track.py:148\u001b[0m, in \u001b[0;36mTrack._recursive_synonymous\u001b[0;34m(self, _the_id, synonymous_ones, synonymous_ones_db, filter_node_type, the_path, the_path_db, depth_max, from_release, ensembl_backbone_shallow_search)\u001b[0m\n\u001b[1;32m    141\u001b[0m     \u001b[38;5;28;01mcontinue\u001b[39;00m\n\u001b[1;32m    143\u001b[0m \u001b[38;5;28;01mif\u001b[39;00m \u001b[38;5;28mlen\u001b[39m(_the_path) \u001b[38;5;241m>\u001b[39m\u001b[38;5;241m=\u001b[39m \u001b[38;5;241m2\u001b[39m:\n\u001b[1;32m    144\u001b[0m     \u001b[38;5;66;03m# prevent bouncing between transcript and gene id.versions\u001b[39;00m\n\u001b[1;32m    145\u001b[0m     \u001b[38;5;66;03m# [..., l1, l2, gnt]\u001b[39;00m\n\u001b[1;32m    146\u001b[0m     \u001b[38;5;28;01mif\u001b[39;00m (\n\u001b[1;32m    147\u001b[0m         \u001b[38;5;66;03m# if the addition of new element is a bouncing event (like A-B-A)\u001b[39;00m\n\u001b[0;32m--> 148\u001b[0m         \u001b[43m_the_path_db\u001b[49m\u001b[43m[\u001b[49m\u001b[38;5;241;43m-\u001b[39;49m\u001b[38;5;241;43m2\u001b[39;49m\u001b[43m]\u001b[49m\u001b[43m \u001b[49m\u001b[38;5;241;43m==\u001b[39;49m\u001b[43m \u001b[49m\u001b[43mgnt\u001b[49m\n\u001b[1;32m    149\u001b[0m         \u001b[38;5;66;03m# Allow bouncing if it bridges two 'external' nodes.\u001b[39;00m\n\u001b[1;32m    150\u001b[0m         \u001b[38;5;129;01mand\u001b[39;00m gnt \u001b[38;5;241m!=\u001b[39m DB\u001b[38;5;241m.\u001b[39mnts_external\n\u001b[1;32m    151\u001b[0m         \u001b[38;5;66;03m# Allow bouncing if it bridges two 'ensembl base' nodes.\u001b[39;00m\n\u001b[1;32m    152\u001b[0m         \u001b[38;5;129;01mand\u001b[39;00m gnt \u001b[38;5;241m!=\u001b[39m DB\u001b[38;5;241m.\u001b[39mnts_base_ensembl[\u001b[38;5;124m\"\u001b[39m\u001b[38;5;124mgene\u001b[39m\u001b[38;5;124m\"\u001b[39m]  \u001b[38;5;66;03m# transcript or translation base depracated.\u001b[39;00m\n\u001b[1;32m    153\u001b[0m         \u001b[38;5;66;03m# Check if 1st and 3rd element are the same 'ID' (could have different 'Versions'.)\u001b[39;00m\n\u001b[1;32m    154\u001b[0m         \u001b[38;5;129;01mand\u001b[39;00m \u001b[38;5;28mself\u001b[39m\u001b[38;5;241m.\u001b[39mgraph\u001b[38;5;241m.\u001b[39mnodes[_the_path[\u001b[38;5;241m-\u001b[39m\u001b[38;5;241m2\u001b[39m]][\u001b[38;5;124m\"\u001b[39m\u001b[38;5;124mID\u001b[39m\u001b[38;5;124m\"\u001b[39m] \u001b[38;5;241m==\u001b[39m \u001b[38;5;28mself\u001b[39m\u001b[38;5;241m.\u001b[39mgraph\u001b[38;5;241m.\u001b[39mnodes[_next_neighbour][\u001b[38;5;124m\"\u001b[39m\u001b[38;5;124mID\u001b[39m\u001b[38;5;124m\"\u001b[39m]\n\u001b[1;32m    155\u001b[0m     ):\n\u001b[1;32m    156\u001b[0m         \u001b[38;5;28;01mcontinue\u001b[39;00m\n\u001b[1;32m    158\u001b[0m \u001b[38;5;28;01mif\u001b[39;00m from_release \u001b[38;5;129;01mis\u001b[39;00m \u001b[38;5;129;01mnot\u001b[39;00m \u001b[38;5;28;01mNone\u001b[39;00m:\n\u001b[1;32m    159\u001b[0m     \u001b[38;5;66;03m# assert len(graph[_the_id][_next_neighbour]) == 1\u001b[39;00m\n\u001b[1;32m    160\u001b[0m     \u001b[38;5;66;03m# To use of '0' below, this is verified by TheGraph.is_node_consistency_robust\u001b[39;00m\n",
      "\u001b[0;31mKeyboardInterrupt\u001b[0m: "
     ]
    }
   ],
   "source": [
    "result = dict()\n",
    "final_database=\"HGNC Symbol\"\n",
    "\n",
    "for dataset_name in adata_dict:\n",
    "    \n",
    "    adata = sc.read(adata_dict[dataset_name][0])\n",
    "    gene_list = list(adata.var.index)\n",
    "    \n",
    "    matching = idt.convert_identifier_multiple(gene_list, to_release=107, final_database=final_database, pbar_prefix=dataset_name)\n",
    "    binned_conversions = idt.classify_multiple_conversion(matching)\n",
    "    \n",
    "    idt.print_binned_conversion(binned_conversions)\n",
    "    print(f\"Source release: {idt.infer_identifier_source(gene_list)}\")\n",
    "    \n",
    "    result[dataset_name] = binned_conversions"
   ]
  },
  {
   "cell_type": "markdown",
   "id": "a5a84c01-b74f-4d9b-974b-f6854a8e585c",
   "metadata": {},
   "source": [
    "Run the ID conversion with Ensembl gene ID"
   ]
  },
  {
   "cell_type": "code",
   "execution_count": null,
   "id": "2a737b6d-b05c-4166-9539-ab91cb1ff5b9",
   "metadata": {
    "tags": []
   },
   "outputs": [],
   "source": [
    "result = dict()\n",
    "final_database=\"ensembl_gene\"\n",
    "\n",
    "for dataset_name in adata_dict:\n",
    "    \n",
    "    adata = sc.read(adata_dict[dataset_name][0])\n",
    "    gene_list = list(adata.var.index)\n",
    "    \n",
    "    matching = idt.convert_identifier_multiple(gene_list, final_database=final_database, pbar_prefix=dataset_name)\n",
    "    binned_conversions = idt.classify_multiple_conversion(matching)\n",
    "    \n",
    "    idt.print_binned_conversion(binned_conversions)\n",
    "    print(f\"Source release: {idt.infer_identifier_source(gene_list)}\")\n",
    "    \n",
    "    result[dataset_name] = binned_conversions"
   ]
  },
  {
   "cell_type": "markdown",
   "id": "7b54cebd-acf0-46f3-8056-ae6217fbfe83",
   "metadata": {},
   "source": [
    "Print the processor"
   ]
  },
  {
   "cell_type": "code",
   "execution_count": null,
   "id": "419b6197-6d1b-474f-80e3-9094eec6405b",
   "metadata": {},
   "outputs": [],
   "source": [
    "import subprocess\n",
    "print((subprocess.check_output(\"lscpu\", shell=True).strip()).decode())"
   ]
  },
  {
   "cell_type": "markdown",
   "id": "7370ab9d-6f14-4b92-833a-926262f2ecc1",
   "metadata": {},
   "source": [
    "Plot/Table"
   ]
  },
  {
   "cell_type": "code",
   "execution_count": null,
   "id": "2045fb34-0ece-4c92-91d5-e8c4d2796505",
   "metadata": {},
   "outputs": [],
   "source": [
    "import sys\n",
    "sys.path.append(\"../..\")"
   ]
  },
  {
   "cell_type": "code",
   "execution_count": null,
   "id": "aff14ce7-c415-4727-b254-259a2ceab972",
   "metadata": {},
   "outputs": [],
   "source": [
    "import os\n",
    "import time\n",
    "import pickle"
   ]
  },
  {
   "cell_type": "code",
   "execution_count": null,
   "id": "4e3e51a1-3908-4d6a-b328-4d90896f22f3",
   "metadata": {},
   "outputs": [],
   "source": [
    "local_dir = \"/lustre/groups/ml01/workspace/kemal.inecik/idtrack_temp\""
   ]
  },
  {
   "cell_type": "code",
   "execution_count": null,
   "id": "96c1c0e6-2c16-4d03-a890-e1d5e2c15294",
   "metadata": {},
   "outputs": [],
   "source": [
    "!ls -lh /lustre/groups/ml01/workspace/kemal.inecik/idtrack_temp"
   ]
  },
  {
   "cell_type": "code",
   "execution_count": null,
   "id": "2b179fa1-a0e2-4327-aa6a-de94f936e733",
   "metadata": {},
   "outputs": [],
   "source": [
    "with open(local_dir + \"/results_for_hlca_datasets_ensembl_gene_20230130-023149.pk\", 'rb') as pickle_file_1:\n",
    "    res_ens = pickle.load(pickle_file_1)\n",
    "with open(local_dir + \"/results_for_hlca_datasets_HGNC Symbol_20230130-004722.pk\", 'rb') as pickle_file_2:\n",
    "    res_hgn = pickle.load(pickle_file_2)"
   ]
  },
  {
   "cell_type": "code",
   "execution_count": null,
   "id": "79dfff4f-6719-4a63-9454-a59217952bb2",
   "metadata": {},
   "outputs": [],
   "source": [
    "res_ens.keys()"
   ]
  },
  {
   "cell_type": "code",
   "execution_count": null,
   "id": "a8717eb5-af96-4c24-ad91-9ad0dadf4de8",
   "metadata": {},
   "outputs": [],
   "source": [
    "res_ens['MeyerNikolic_unpubl'].keys()"
   ]
  },
  {
   "cell_type": "code",
   "execution_count": null,
   "id": "3bbe3aec-2561-47d8-8017-3b8865686049",
   "metadata": {},
   "outputs": [],
   "source": [
    "r_ens = dict()\n",
    "for i in res_ens:\n",
    "    r_ens[i] = dict()\n",
    "    for j in res_ens[i]:\n",
    "        r_ens[i][j] = len(res_ens[i][j])\n",
    "        \n",
    "r_hgn = dict()\n",
    "for i in res_hgn:\n",
    "    r_hgn[i] = dict()\n",
    "    for j in res_hgn[i]:\n",
    "        r_hgn[i][j] = len(res_hgn[i][j])"
   ]
  },
  {
   "cell_type": "code",
   "execution_count": null,
   "id": "394bead2-22b0-42fe-a9db-c8723838fbf3",
   "metadata": {},
   "outputs": [],
   "source": [
    "import pandas as pd"
   ]
  },
  {
   "cell_type": "code",
   "execution_count": null,
   "id": "ffc392e5-1143-48a2-a33c-346cc524b684",
   "metadata": {},
   "outputs": [],
   "source": [
    "column_order = [\"input_identifiers\", \n",
    " \"matching_1_to_1\", \"changed_only_1_to_1\", \"alternative_target_1_to_1\", \n",
    " \"matching_1_to_n\", \"changed_only_1_to_n\", \"alternative_target_1_to_n\", \n",
    " \"matching_1_to_0\"]\n",
    "raname_columns = {\"input_identifiers\": \"\", \n",
    " \"matching_1_to_1\": \"TDM\", \"changed_only_1_to_1\": \"CI\", \"alternative_target_1_to_1\": \"ATM\",  # TDM: target database matching, ATM: alternative target matching\n",
    " \"matching_1_to_n\": \"TDM\", \"changed_only_1_to_n\": \"CI\", \"alternative_target_1_to_n\": \"ATM\", \n",
    " \"matching_1_to_0\": \"\"}\n",
    "higher_columns=[\"Input IDs\", \n",
    " \"One-to-One\", \"One-to-One\", \"One-to-One\", \n",
    " \"One-to-Many\", \"One-to-Many\", \"One-to-Many\", \n",
    " \"One-to-None\"]"
   ]
  },
  {
   "cell_type": "code",
   "execution_count": null,
   "id": "c5c38719-60fa-4c2e-8155-643fc3362666",
   "metadata": {},
   "outputs": [],
   "source": [
    "df1=pd.DataFrame.from_dict(r_hgn).T[column_order].rename(columns=raname_columns)\n",
    "df1.columns=[[\"\"] + [\"Target HGNC Names\"] * 6 + [\"\"], higher_columns, df1.columns]\n",
    "df2=pd.DataFrame.from_dict(r_ens).T[column_order].rename(columns=raname_columns)\n",
    "df2.columns=[[\"\"] + [\"Target Ensembl\"] * 6 + [\"\"], higher_columns, df2.columns]"
   ]
  },
  {
   "cell_type": "code",
   "execution_count": null,
   "id": "c0f5e3e9-dbb7-4dac-8d05-22c9d6f7ccd9",
   "metadata": {},
   "outputs": [],
   "source": [
    "df = pd.concat([df1, df2[[\"Target Ensembl\"]]], axis=1)"
   ]
  },
  {
   "cell_type": "code",
   "execution_count": null,
   "id": "0c40dda2-06b8-4e70-911e-73c994ae6dba",
   "metadata": {},
   "outputs": [],
   "source": [
    "df = df[[\n",
    "(                 '',            'Input IDs', ''),\n",
    "('Target HGNC Names',  'One-to-One',       'TDM'),\n",
    "#('Target HGNC Names',  'One-to-One',        'CI'),\n",
    "('Target HGNC Names',  'One-to-One',       'ATM'),\n",
    "('Target HGNC Names', 'One-to-Many',       'TDM'),\n",
    "#('Target HGNC Names', 'One-to-Many',        'CI'),\n",
    "('Target HGNC Names', 'One-to-Many',       'ATM'),\n",
    "(   'Target Ensembl',  'One-to-One',       'TDM'),\n",
    "#(   'Target Ensembl',  'One-to-One',        'CI'),\n",
    "#(   'Target Ensembl',  'One-to-One',       'ATM'),\n",
    "(   'Target Ensembl', 'One-to-Many',       'TDM'),\n",
    "#(   'Target Ensembl', 'One-to-Many',        'CI'),\n",
    "#(   'Target Ensembl', 'One-to-Many',       'ATM'),\n",
    "(                 '', 'One-to-None',          '')\n",
    "]]\n",
    "df"
   ]
  },
  {
   "cell_type": "code",
   "execution_count": null,
   "id": "2d1e0db4-9ca6-4f37-be71-261d1f974e52",
   "metadata": {},
   "outputs": [],
   "source": [
    "res_hgn.keys()"
   ]
  },
  {
   "cell_type": "code",
   "execution_count": null,
   "id": "81255b16-d219-4753-8200-a5faf43236ce",
   "metadata": {},
   "outputs": [],
   "source": [
    "res_hgn[\"Kaminski_2020\"].keys()"
   ]
  },
  {
   "cell_type": "code",
   "execution_count": null,
   "id": "a70f5fd2-40bf-4815-b392-71c7391dd133",
   "metadata": {},
   "outputs": [],
   "source": [
    "res_hgn[\"Kaminski_2020\"]['changed_only_1_to_n'][0].keys()"
   ]
  },
  {
   "cell_type": "code",
   "execution_count": null,
   "id": "22c3bc91-8619-4e0c-92de-1d9b8d9a4eec",
   "metadata": {},
   "outputs": [],
   "source": [
    "query_ids = dict()\n",
    "for i in res_hgn:\n",
    "    query_ids[i] = list()\n",
    "    for j in res_hgn[i][\"input_identifiers\"]:\n",
    "        query_ids[i].append(j[\"query_id\"])\n",
    "        \n",
    "hgnc_ids = dict()\n",
    "for i in res_hgn:\n",
    "    hgnc_ids[i] = list()\n",
    "    for j in res_hgn[i][\"matching_1_to_1\"]:\n",
    "        hgnc_ids[i].append(j[\"target_id\"][0])\n",
    "    for j in res_hgn[i][\"alternative_target_1_to_1\"]:\n",
    "        hgnc_ids[i].append(j[\"target_id\"][0])\n",
    "        \n",
    "ens_ids = dict()\n",
    "for i in res_ens:\n",
    "    ens_ids[i] = list()\n",
    "    for j in res_ens[i][\"matching_1_to_1\"]:\n",
    "        ens_ids[i].append(j[\"target_id\"][0])"
   ]
  },
  {
   "cell_type": "code",
   "execution_count": null,
   "id": "9558d8ce-374e-43e8-8158-33abf13907d9",
   "metadata": {},
   "outputs": [],
   "source": [
    "for i in query_ids:\n",
    "    print(len(query_ids[i]), len(hgnc_ids[i]), len(ens_ids[i]))"
   ]
  },
  {
   "cell_type": "code",
   "execution_count": null,
   "id": "d86e3f17-285f-4ff8-a5a0-54bd667e0aa9",
   "metadata": {},
   "outputs": [],
   "source": [
    "a1=[i for k, v in query_ids.items() for i in v]\n",
    "a2=[i for k, v in hgnc_ids.items() for i in v]\n",
    "a3=[i for k, v in ens_ids.items() for i in v]\n",
    "len(a1), len(a2), len(a3)"
   ]
  },
  {
   "cell_type": "code",
   "execution_count": null,
   "id": "094bd29c-1b0b-413c-a66e-ad322cc0c7ec",
   "metadata": {},
   "outputs": [],
   "source": [
    "b1,b2,b3=set(a1),set(a2),set(a3)\n",
    "len(b1),len(b2),len(b3)"
   ]
  },
  {
   "cell_type": "code",
   "execution_count": null,
   "id": "0b54ccac-5b90-425d-9b55-9cf4edd8398e",
   "metadata": {},
   "outputs": [],
   "source": [
    "[(i, len(b3-set(v)), len(set(v)), len(b3)) for i,v in ens_ids.items()]"
   ]
  },
  {
   "cell_type": "code",
   "execution_count": null,
   "id": "f29b9127-c05a-4e23-a7bb-6fe3e675d658",
   "metadata": {},
   "outputs": [],
   "source": [
    "[(i, len(b2-set(v)), len(set(v)), len(b2)) for i,v in hgnc_ids.items()]"
   ]
  },
  {
   "cell_type": "code",
   "execution_count": null,
   "id": "d75204d4-bf0b-49fe-ad32-625d5c46a119",
   "metadata": {},
   "outputs": [],
   "source": [
    "[(i, len(b1-set(v)), len(set(v)), len(b1)) for i,v in query_ids.items()]"
   ]
  },
  {
   "cell_type": "code",
   "execution_count": null,
   "id": "70a085e0-202f-485e-a933-1bd60d76f5e0",
   "metadata": {},
   "outputs": [],
   "source": []
  },
  {
   "cell_type": "code",
   "execution_count": null,
   "id": "3b43b8f6-be41-460e-91d9-f469c78d28c6",
   "metadata": {},
   "outputs": [],
   "source": []
  },
  {
   "cell_type": "code",
   "execution_count": null,
   "id": "7053acfd-9c63-48b7-9e09-f09f0ff8086e",
   "metadata": {},
   "outputs": [],
   "source": []
  }
 ],
 "metadata": {
  "kernelspec": {
   "display_name": "Python 3 (ipykernel)",
   "language": "python",
   "name": "python3"
  },
  "language_info": {
   "codemirror_mode": {
    "name": "ipython",
    "version": 3
   },
   "file_extension": ".py",
   "mimetype": "text/x-python",
   "name": "python",
   "nbconvert_exporter": "python",
   "pygments_lexer": "ipython3",
   "version": "3.8.15"
  }
 },
 "nbformat": 4,
 "nbformat_minor": 5
}
