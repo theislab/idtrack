{
 "cells": [
  {
   "cell_type": "markdown",
   "id": "2a04ff2e-9cab-4760-b8ec-0ef8b36e4f5d",
   "metadata": {},
   "source": [
    "# Initialization and Tests"
   ]
  },
  {
   "cell_type": "code",
   "execution_count": 1,
   "id": "4a9b661f-c5b2-4ffd-bace-1c758d404b35",
   "metadata": {},
   "outputs": [
    {
     "data": {
      "text/plain": [
       "1"
      ]
     },
     "execution_count": 1,
     "metadata": {},
     "output_type": "execute_result"
    }
   ],
   "source": [
    "1"
   ]
  },
  {
   "cell_type": "code",
   "execution_count": 2,
   "id": "69027e45-ecda-479e-8a7e-9d5c9e3e4aab",
   "metadata": {},
   "outputs": [],
   "source": [
    "%load_ext autoreload\n",
    "%autoreload 2"
   ]
  },
  {
   "cell_type": "code",
   "execution_count": 3,
   "id": "89b49214-d6a0-4e9f-a4b4-feddde076978",
   "metadata": {
    "pycharm": {
     "name": "#%% md\n"
    },
    "tags": []
   },
   "outputs": [],
   "source": [
    "import sys\n",
    "\n",
    "sys.path.append(\"/home/icb/kemal.inecik/work/codes/idtrack\")\n",
    "\n",
    "import copy\n",
    "import os\n",
    "import pickle\n",
    "import time\n",
    "\n",
    "import idtrack\n",
    "from idtrack import DB"
   ]
  },
  {
   "cell_type": "code",
   "execution_count": 4,
   "id": "bd9700dd",
   "metadata": {},
   "outputs": [
    {
     "name": "stderr",
     "output_type": "stream",
     "text": [
      "2025-05-31 17:19:20 INFO:verify_organism: Ensembl Rest API query to get the organism names and associated releases.\n"
     ]
    },
    {
     "data": {
      "text/plain": [
       "('homo_sapiens', 114)"
      ]
     },
     "execution_count": 4,
     "metadata": {},
     "output_type": "execute_result"
    }
   ],
   "source": [
    "local_dir = \"/lustre/groups/ml01/workspace/kemal.inecik/idtrack_temp/\"\n",
    "test_results_dir = os.path.join(local_dir, \"tests\")\n",
    "\n",
    "idt = idtrack.API(local_repository=local_dir)\n",
    "idt.configure_logger()\n",
    "idt.get_ensembl_organism(\"homo sapiens\")"
   ]
  },
  {
   "cell_type": "code",
   "execution_count": 5,
   "id": "84a19fa5-60df-4e8c-98ac-37b8eea9e0f8",
   "metadata": {
    "tags": []
   },
   "outputs": [
    {
     "name": "stdout",
     "output_type": "stream",
     "text": [
      "total 42110132\n",
      "-rw-r--r--. 1 kemal.inecik OG-ICB-User   852126351 May 27 20:30 graph_homo_sapiens_min79_max114_narrow.pickle\n",
      "-rw-r--r--. 1 kemal.inecik OG-ICB-User 21376563160 May 27 20:28 homo_sapiens_assembly-37.h5\n",
      "-rw-r--r--. 1 kemal.inecik OG-ICB-User 20891831455 May 27 20:28 homo_sapiens_assembly-38.h5\n",
      "-rw-r--r--. 1 kemal.inecik OG-ICB-User       65514 May 27 17:59 homo_sapiens_externals_modified.yml\n",
      "-rw-r--r--. 1 kemal.inecik OG-ICB-User       55077 May 27 17:26 homo_sapiens_externals_template.yml\n"
     ]
    }
   ],
   "source": [
    "!ls -l /lustre/groups/ml01/workspace/kemal.inecik/idtrack_temp/"
   ]
  },
  {
   "cell_type": "code",
   "execution_count": 6,
   "id": "383c559f-3900-4737-99d1-19255a4c6507",
   "metadata": {
    "tags": []
   },
   "outputs": [
    {
     "name": "stderr",
     "output_type": "stream",
     "text": [
      "2025-05-31 17:19:23 INFO:graph_maker: The graph is being read: /lustre/groups/ml01/workspace/kemal.inecik/idtrack_temp/graph_homo_sapiens_min79_max114_narrow.pickle\n"
     ]
    }
   ],
   "source": [
    "idt.initialize_graph(organism_name=\"homo_sapiens\", last_ensembl_release=114, return_test=True)"
   ]
  },
  {
   "cell_type": "code",
   "execution_count": 7,
   "id": "5bf5aa29-8fdc-499d-b557-818b527a5039",
   "metadata": {
    "tags": []
   },
   "outputs": [
    {
     "name": "stderr",
     "output_type": "stream",
     "text": [
      "2025-05-31 17:20:12 INFO:the_graph: Cached properties being calculated: combined_edges\n",
      "2025-05-31 17:20:54 INFO:the_graph: Cached properties being calculated: combined_edges_assembly_specific_genes\n",
      "2025-05-31 17:20:57 INFO:the_graph: Cached properties being calculated: combined_edges_genes\n",
      "2025-05-31 17:21:34 INFO:the_graph: Cached properties being calculated: lower_chars_graph\n",
      "2025-05-31 17:21:35 INFO:the_graph: Cached properties being calculated: get_active_ranges_of_id\n",
      "2025-05-31 17:21:56 INFO:the_graph: Cached properties being calculated: available_external_databases\n",
      "2025-05-31 17:21:57 INFO:the_graph: Cached properties being calculated: available_genome_assemblies\n",
      "2025-05-31 17:21:58 INFO:the_graph: Cached properties being calculated: available_external_databases_assembly\n",
      "2025-05-31 17:21:59 INFO:the_graph: Cached properties being calculated: node_trios\n",
      "2025-05-31 17:22:43 INFO:the_graph: Cached properties being calculated: hyperconnective_nodes\n",
      "2025-05-31 17:22:47 INFO:the_graph: Cached properties being calculated (for tests): external_database_connection_form\n",
      "2025-05-31 17:23:29 INFO:the_graph: Cached properties being calculated (for tests): available_releases_given_database_assembly\n"
     ]
    }
   ],
   "source": [
    "idt.calculate_graph_caches()"
   ]
  },
  {
   "cell_type": "markdown",
   "id": "b2db12e2-2331-4d6e-8140-4070d33c3d6b",
   "metadata": {},
   "source": [
    "### Structural Tests"
   ]
  },
  {
   "cell_type": "code",
   "execution_count": 7,
   "id": "66113bd0-4196-4a48-a495-24f15b3ef9af",
   "metadata": {},
   "outputs": [
    {
     "name": "stderr",
     "output_type": "stream",
     "text": [
      "100%|██████████████████████████████████████████████████████████████████████████████████████████████| 36/36 [01:17<00:00,  2.14s/it, Item:114]\n"
     ]
    },
    {
     "data": {
      "text/plain": [
       "True"
      ]
     },
     "execution_count": 7,
     "metadata": {},
     "output_type": "execute_result"
    }
   ],
   "source": [
    "idt.track.is_id_functions_consistent_ensembl()"
   ]
  },
  {
   "cell_type": "code",
   "execution_count": 8,
   "id": "1fd4c65c-4191-4c7d-957a-3e1c69870b3c",
   "metadata": {},
   "outputs": [
    {
     "name": "stderr",
     "output_type": "stream",
     "text": [
      "100%|█████████████████████████████████████████████████████████████████████████████| 165093/165093 [00:00<00:00, 176122.22it/s, Item:LRG_99.1]\n"
     ]
    },
    {
     "data": {
      "text/plain": [
       "True"
      ]
     },
     "execution_count": 8,
     "metadata": {},
     "output_type": "execute_result"
    }
   ],
   "source": [
    "idt.track.is_id_functions_consistent_ensembl_2()"
   ]
  },
  {
   "cell_type": "code",
   "execution_count": 9,
   "id": "bf5c5ac4-046e-4894-b234-465285fda141",
   "metadata": {},
   "outputs": [
    {
     "name": "stderr",
     "output_type": "stream",
     "text": [
      "100%|██████████████████████████████████████████████████████████████████████| 100842/100842 [00:00<00:00, 239189.69it/s, Item:ENSG00000169933]\n"
     ]
    },
    {
     "data": {
      "text/plain": [
       "True"
      ]
     },
     "execution_count": 9,
     "metadata": {},
     "output_type": "execute_result"
    }
   ],
   "source": [
    "idt.track.is_range_functions_robust()"
   ]
  },
  {
   "cell_type": "code",
   "execution_count": 10,
   "id": "2ef5ef90-c669-42f0-a54b-192a249c3569",
   "metadata": {},
   "outputs": [
    {
     "name": "stderr",
     "output_type": "stream",
     "text": [
      "100%|███████████████████████████████████████████████████████████████████████| 100842/100842 [00:03<00:00, 29035.43it/s, Item:ENSG00000169933]\n"
     ]
    },
    {
     "data": {
      "text/plain": [
       "True"
      ]
     },
     "execution_count": 10,
     "metadata": {},
     "output_type": "execute_result"
    }
   ],
   "source": [
    "idt.track.is_base_is_range_correct()"
   ]
  },
  {
   "cell_type": "code",
   "execution_count": 11,
   "id": "629499ea-a0cd-4420-a29f-288db5d2b212",
   "metadata": {},
   "outputs": [
    {
     "data": {
      "text/plain": [
       "True"
      ]
     },
     "execution_count": 11,
     "metadata": {},
     "output_type": "execute_result"
    }
   ],
   "source": [
    "idt.track.is_combined_edges_dicts_overlapping_and_complete()"
   ]
  },
  {
   "cell_type": "code",
   "execution_count": 12,
   "id": "ba45d3ca-8a6d-4f5f-8516-6c07d387bd4a",
   "metadata": {},
   "outputs": [
    {
     "data": {
      "text/plain": [
       "True"
      ]
     },
     "execution_count": 12,
     "metadata": {},
     "output_type": "execute_result"
    }
   ],
   "source": [
    "idt.track.is_edge_with_same_nts_only_at_backbone_nodes()"
   ]
  },
  {
   "cell_type": "code",
   "execution_count": 14,
   "id": "a3fbe717-e1be-4fb2-a915-bfdec1c7c1f5",
   "metadata": {},
   "outputs": [
    {
     "name": "stderr",
     "output_type": "stream",
     "text": [
      "100%|██████████████████████████████████████████████████████████████████████████████████████████| 2507048/2507048 [00:08<00:00, 309828.55it/s]\n"
     ]
    },
    {
     "data": {
      "text/plain": [
       "True"
      ]
     },
     "execution_count": 14,
     "metadata": {},
     "output_type": "execute_result"
    }
   ],
   "source": [
    "idt.track.is_node_consistency_robust()"
   ]
  },
  {
   "cell_type": "code",
   "execution_count": 20,
   "id": "f947577c-ec1a-49c8-b31c-ffd95aa529b2",
   "metadata": {},
   "outputs": [
    {
     "name": "stderr",
     "output_type": "stream",
     "text": [
      "Assembly 37: 100%|█████████████████████████████████████████████████████████████████████████████████| 36/36 [28:41<00:00, 47.81s/it, Item:114]\n",
      "Assembly 38: 100%|█████████████████████████████████████████████████████████████████████████████████| 36/36 [34:12<00:00, 57.00s/it, Item:114]\n"
     ]
    },
    {
     "data": {
      "text/plain": [
       "True"
      ]
     },
     "execution_count": 20,
     "metadata": {},
     "output_type": "execute_result"
    }
   ],
   "source": [
    "idt.track.is_id_functions_consistent_external()"
   ]
  },
  {
   "cell_type": "markdown",
   "id": "1a76148c-9898-4b14-9553-1663e2473160",
   "metadata": {},
   "source": [
    "### Conversion Tests"
   ]
  },
  {
   "cell_type": "markdown",
   "id": "620962e2-66a5-413b-89eb-d1defe36eed5",
   "metadata": {},
   "source": [
    "#### External conversion"
   ]
  },
  {
   "cell_type": "code",
   "execution_count": null,
   "id": "4c5b883e-854b-4162-8a58-69a8084e549a",
   "metadata": {},
   "outputs": [],
   "source": [
    "results = []\n",
    "for _ in range(12):\n",
    "    response, (_, _, _, res) = idt.track.is_final_external_conversion_robust(\n",
    "        from_fraction=0.25, prioritize_to_one_filter=False\n",
    "    )\n",
    "    print(response)\n",
    "    results.append(res)\n",
    "\n",
    "os.makedirs(test_results_dir, exist_ok=True)\n",
    "output_path = os.path.join(test_results_dir, \"travel_v0_conversion_results.pkl\")\n",
    "with open(output_path, \"wb\") as f:\n",
    "    pickle.dump(results, f)\n",
    "print(f\"Results saved to {output_path}\")"
   ]
  },
  {
   "cell_type": "markdown",
   "id": "efe1b2a7-8a10-4875-a85e-7d21ec0341f1",
   "metadata": {},
   "source": [
    "**Note:** the role of `prioritize_to_one_filter` for final external conversion\n",
    "\n",
    "Nevertheless, we recommend using the filter to minimize 1-to-n matching.\n",
    "\n",
    "To show more in-depth what is happening: "
   ]
  },
  {
   "cell_type": "code",
   "execution_count": 88,
   "id": "4ff4fd00-1722-4b50-83d1-e211a47d8b78",
   "metadata": {},
   "outputs": [],
   "source": [
    "release = 81\n",
    "database = \"Vega gene\"\n",
    "\n",
    "dm_original = idt.track.db_manager\n",
    "dm = dm_original.change_release(release).change_assembly(DB.main_assembly)\n",
    "df_a = dm.get_db(\"external_relevant\")\n",
    "df = df_a[df_a[\"name_db\"] == database].copy()\n",
    "\n",
    "base_dict: dict[str, set] = dict()\n",
    "for _, item in df.iterrows():\n",
    "    if item[\"graph_id\"] not in base_dict:\n",
    "        base_dict[item[\"graph_id\"]] = set()\n",
    "    base_dict[item[\"graph_id\"]].add(item[\"id_db\"])"
   ]
  },
  {
   "cell_type": "code",
   "execution_count": 89,
   "id": "38bc02ef-7353-42d7-b054-827b9ad83aba",
   "metadata": {},
   "outputs": [
    {
     "name": "stderr",
     "output_type": "stream",
     "text": [
      "2025-05-31 09:50:34 INFO:track_tests: Assembly: 38, Database: Vega gene, Release: 81\n",
      "Mapping: 100%|█████████████████████████████████████████████████████| 6657/6657 [00:31<00:00, 208.49it/s, Item:LRG_784.1]\n"
     ]
    }
   ],
   "source": [
    "response, (issues_t1, issues_t2, issues_t3, res) = idt.track.is_final_external_conversion_robust(\n",
    "    from_fraction=0.1,\n",
    "    database=database,\n",
    "    ens_rel=release,\n",
    "    prioritize_to_one_filter=False,\n",
    ")"
   ]
  },
  {
   "cell_type": "code",
   "execution_count": 90,
   "id": "458e0fe6-786f-4044-a668-623ff57e330d",
   "metadata": {},
   "outputs": [
    {
     "data": {
      "text/plain": [
       "(True, 5522, 0, 0, 1135, True)"
      ]
     },
     "execution_count": 90,
     "metadata": {},
     "output_type": "execute_result"
    }
   ],
   "source": [
    "response, len(res[\"conversion\"]), len(issues_t1), len(issues_t2), len(issues_t3), len(\n",
    "    df[df[\"graph_id\"].isin(issues_t3)]\n",
    ") == 0"
   ]
  },
  {
   "cell_type": "code",
   "execution_count": 91,
   "id": "c064bbd1-6e86-48eb-8d10-94795feea5df",
   "metadata": {},
   "outputs": [
    {
     "name": "stdout",
     "output_type": "stream",
     "text": [
      "╔═ History-Travel-Testing Report ═╗\n",
      "Source  : assembly_38_ensembl_gene (Assembly 38, Release 81)\n",
      "Target  : Vega gene (Release 81)\n",
      "External: True   1→1-pref.: False\n",
      "Sample  : 0.1 of source IDs\n",
      "Failure / Anomaly Counts:\n",
      "  - Voyage failed (graceful)       : 1,135\n",
      "  - Voyage failed (unknown)        : 0\n",
      "  - Query not in graph             : 0\n",
      "  - Lost item                      : 0\n",
      "  - Lost item, but ID exists       : 0\n",
      "  - Found IDs not accurate         : 0\n",
      "Mapping Statistics:\n",
      "  - One→one IDs                    : 0\n",
      "  - One→many IDs                   : 5,522\n",
      "  - One→many (single conv.)        : 5,522\n",
      "  - Successfully converted IDs     : 5,522\n",
      "  - Clash one→one                  : 0\n",
      "  - Clash many→many                : 74\n",
      "  - Clash mixed                    : 0\n",
      "Total runtime: 31.94 s\n"
     ]
    }
   ],
   "source": [
    "print(\n",
    "    idt.track.format_history_travel_testing_report(\n",
    "        res, include_header=True, printable=True, line_separation_at_end=False\n",
    "    )\n",
    ")"
   ]
  },
  {
   "cell_type": "code",
   "execution_count": 92,
   "id": "a0305ec6-926c-4a5c-8ef8-a40e266a8448",
   "metadata": {},
   "outputs": [
    {
     "name": "stderr",
     "output_type": "stream",
     "text": [
      "2025-05-31 09:51:15 INFO:track_tests: Assembly: 38, Database: Vega gene, Release: 81\n",
      "Mapping: 100%|██████████████████████████████████████████████████████| 6657/6657 [00:32<00:00, 203.92it/s, Item:LRG_92.1]\n"
     ]
    }
   ],
   "source": [
    "response, (issues_t1, issues_t2, issues_t3, res) = idt.track.is_final_external_conversion_robust(\n",
    "    from_fraction=0.1,\n",
    "    database=database,\n",
    "    ens_rel=release,\n",
    "    prioritize_to_one_filter=True,\n",
    ")"
   ]
  },
  {
   "cell_type": "code",
   "execution_count": 93,
   "id": "146bec1a-4718-488a-9120-022680cdbe82",
   "metadata": {},
   "outputs": [
    {
     "data": {
      "text/plain": [
       "(False, 5498, 510, 0, 1159, True)"
      ]
     },
     "execution_count": 93,
     "metadata": {},
     "output_type": "execute_result"
    }
   ],
   "source": [
    "response, len(res[\"conversion\"]), len(issues_t1), len(issues_t2), len(issues_t3), len(\n",
    "    df[df[\"graph_id\"].isin(issues_t3)]\n",
    ") == 0"
   ]
  },
  {
   "cell_type": "code",
   "execution_count": 94,
   "id": "7eb29de6-5bdc-48ba-b4ae-24da330792fa",
   "metadata": {},
   "outputs": [
    {
     "name": "stdout",
     "output_type": "stream",
     "text": [
      "╔═ History-Travel-Testing Report ═╗\n",
      "Source  : assembly_38_ensembl_gene (Assembly 38, Release 81)\n",
      "Target  : Vega gene (Release 81)\n",
      "External: True   1→1-pref.: True\n",
      "Sample  : 0.1 of source IDs\n",
      "Failure / Anomaly Counts:\n",
      "  - Voyage failed (graceful)       : 1,159\n",
      "  - Voyage failed (unknown)        : 0\n",
      "  - Query not in graph             : 0\n",
      "  - Lost item                      : 0\n",
      "  - Lost item, but ID exists       : 0\n",
      "  - Found IDs not accurate         : 0\n",
      "Mapping Statistics:\n",
      "  - One→one IDs                    : 510\n",
      "  - One→many IDs                   : 4,988\n",
      "  - One→many (single conv.)        : 4,988\n",
      "  - Successfully converted IDs     : 5,498\n",
      "  - Clash one→one                  : 0\n",
      "  - Clash many→many                : 66\n",
      "  - Clash mixed                    : 0\n",
      "Total runtime: 32.65 s\n"
     ]
    }
   ],
   "source": [
    "print(\n",
    "    idt.track.format_history_travel_testing_report(\n",
    "        res, include_header=True, printable=True, line_separation_at_end=False\n",
    "    )\n",
    ")"
   ]
  },
  {
   "cell_type": "code",
   "execution_count": 95,
   "id": "2dc39967-99e5-4783-a8d1-615ea9c2609c",
   "metadata": {},
   "outputs": [
    {
     "data": {
      "text/plain": [
       "{'database': 'Vega gene',\n",
       " 'asym': 38,\n",
       " 'ens_rel': 81,\n",
       " 'id': 'ENSG00000117242.7',\n",
       " 'converted': ['OTTHUMG00000002840'],\n",
       " 'base_expectation': {'OTTHUMG00000002840', 'RP11-401M16.7'}}"
      ]
     },
     "execution_count": 95,
     "metadata": {},
     "output_type": "execute_result"
    }
   ],
   "source": [
    "issues_t1[0]"
   ]
  },
  {
   "cell_type": "code",
   "execution_count": 96,
   "id": "9cd2b65f-79fb-42af-acd4-8d0e32af0d81",
   "metadata": {},
   "outputs": [],
   "source": [
    "id_from = \"ENSG00000008197.4\""
   ]
  },
  {
   "cell_type": "code",
   "execution_count": 97,
   "id": "2ee0efd3-571d-4d0a-998e-55ccd02ca115",
   "metadata": {},
   "outputs": [
    {
     "data": {
      "text/html": [
       "<div>\n",
       "<style scoped>\n",
       "    .dataframe tbody tr th:only-of-type {\n",
       "        vertical-align: middle;\n",
       "    }\n",
       "\n",
       "    .dataframe tbody tr th {\n",
       "        vertical-align: top;\n",
       "    }\n",
       "\n",
       "    .dataframe thead th {\n",
       "        text-align: right;\n",
       "    }\n",
       "</style>\n",
       "<table border=\"1\" class=\"dataframe\">\n",
       "  <thead>\n",
       "    <tr style=\"text-align: right;\">\n",
       "      <th></th>\n",
       "      <th>release</th>\n",
       "      <th>graph_id</th>\n",
       "      <th>id_db</th>\n",
       "      <th>name_db</th>\n",
       "      <th>ensembl_identity</th>\n",
       "      <th>xref_identity</th>\n",
       "    </tr>\n",
       "  </thead>\n",
       "  <tbody>\n",
       "    <tr>\n",
       "      <th>355949</th>\n",
       "      <td>81</td>\n",
       "      <td>ENSG00000008197.4</td>\n",
       "      <td>OTTHUMG00000014832</td>\n",
       "      <td>Vega gene</td>\n",
       "      <td>NaN</td>\n",
       "      <td>NaN</td>\n",
       "    </tr>\n",
       "    <tr>\n",
       "      <th>355950</th>\n",
       "      <td>81</td>\n",
       "      <td>ENSG00000008197.4</td>\n",
       "      <td>RP3-336H9.2</td>\n",
       "      <td>Vega gene</td>\n",
       "      <td>NaN</td>\n",
       "      <td>NaN</td>\n",
       "    </tr>\n",
       "  </tbody>\n",
       "</table>\n",
       "</div>"
      ],
      "text/plain": [
       "        release           graph_id               id_db    name_db  \\\n",
       "355949       81  ENSG00000008197.4  OTTHUMG00000014832  Vega gene   \n",
       "355950       81  ENSG00000008197.4         RP3-336H9.2  Vega gene   \n",
       "\n",
       "        ensembl_identity  xref_identity  \n",
       "355949               NaN            NaN  \n",
       "355950               NaN            NaN  "
      ]
     },
     "execution_count": 97,
     "metadata": {},
     "output_type": "execute_result"
    }
   ],
   "source": [
    "df[df[\"graph_id\"] == id_from]"
   ]
  },
  {
   "cell_type": "code",
   "execution_count": 98,
   "id": "bc73f198-bbbd-4734-a886-71a1687fa457",
   "metadata": {},
   "outputs": [
    {
     "data": {
      "text/plain": [
       "{'ENSG00000008197.4': {'from_id': 'ENSG00000008197.4',\n",
       "  'assembly_jump': 0,\n",
       "  'external_jump': 0,\n",
       "  'external_step': 0,\n",
       "  'initial_conversion_conf': 1,\n",
       "  'edge_scores_reduced': nan,\n",
       "  'ensembl_step': 1,\n",
       "  'final_assembly_priority': ([1, 2], 2),\n",
       "  'the_path': ((None, 'ENSG00000008197.4', None),),\n",
       "  'final_conversion': {'final_conversion_confidence': 0,\n",
       "   'final_database': 'Vega gene',\n",
       "   'final_elements': {'OTTHUMG00000014832': {'final_assembly_priority_count': 2,\n",
       "     'final_assembly_min_priority': 1,\n",
       "     'additional_assembly_jump': 0,\n",
       "     'the_path': (('ENSG00000008197.4', 'OTTHUMG00000014832', 0, 81),),\n",
       "     'filter_scores': {'initial_filter': [0, 1, 0, 0, 1, -2, -2],\n",
       "      'same_as_input_filter': False,\n",
       "      'node_importance_filter': None}}}}}}"
      ]
     },
     "execution_count": 98,
     "metadata": {},
     "output_type": "execute_result"
    }
   ],
   "source": [
    "idt.track.convert(\n",
    "    id_from,\n",
    "    to_release=release,\n",
    "    from_release=release,\n",
    "    final_database=database,\n",
    "    return_path=True,\n",
    "    prioritize_to_one_filter=True,\n",
    ")"
   ]
  },
  {
   "cell_type": "code",
   "execution_count": 99,
   "id": "d537b20a-c850-475f-bd86-be72cf462ca8",
   "metadata": {},
   "outputs": [
    {
     "data": {
      "text/plain": [
       "{'ENSG00000008197.4': {'from_id': 'ENSG00000008197.4',\n",
       "  'assembly_jump': 0,\n",
       "  'external_jump': 0,\n",
       "  'external_step': 0,\n",
       "  'initial_conversion_conf': 1,\n",
       "  'edge_scores_reduced': nan,\n",
       "  'ensembl_step': 1,\n",
       "  'final_assembly_priority': ([1, 2], 2),\n",
       "  'the_path': ((None, 'ENSG00000008197.4', None),),\n",
       "  'final_conversion': {'final_conversion_confidence': 0,\n",
       "   'final_database': 'Vega gene',\n",
       "   'final_elements': {'OTTHUMG00000014832': {'final_assembly_priority_count': 2,\n",
       "     'final_assembly_min_priority': 1,\n",
       "     'additional_assembly_jump': 0,\n",
       "     'the_path': (('ENSG00000008197.4', 'OTTHUMG00000014832', 0, 81),)},\n",
       "    'RP3-336H9.2': {'final_assembly_priority_count': 1,\n",
       "     'final_assembly_min_priority': 1,\n",
       "     'additional_assembly_jump': 0,\n",
       "     'the_path': (('ENSG00000008197.4', 'RP3-336H9.2', 0, 81),)}}}}}"
      ]
     },
     "execution_count": 99,
     "metadata": {},
     "output_type": "execute_result"
    }
   ],
   "source": [
    "idt.track.convert(\n",
    "    id_from,\n",
    "    to_release=release,\n",
    "    from_release=release,\n",
    "    final_database=database,\n",
    "    return_path=True,\n",
    "    prioritize_to_one_filter=False,\n",
    ")"
   ]
  },
  {
   "cell_type": "markdown",
   "id": "ab3abec7-b120-4739-bfee-5be809b2c4f0",
   "metadata": {},
   "source": [
    "#### History travel only on Ensembl backbone"
   ]
  },
  {
   "cell_type": "code",
   "execution_count": null,
   "id": "d5d74545-cc0d-4a07-829a-d9a6f1948301",
   "metadata": {},
   "outputs": [],
   "source": [
    "history_results = []\n",
    "for i in range(12):\n",
    "    r = idt.track.history_travel_testing_random(\n",
    "        from_fraction=0.1,\n",
    "        include_external_destination=False,\n",
    "        include_external_source=False,\n",
    "        include_ensembl_destination=False,\n",
    "        include_ensembl_source=False,\n",
    "        return_result=True,\n",
    "    )\n",
    "    history_results.append(r)\n",
    "\n",
    "os.makedirs(test_results_dir, exist_ok=True)\n",
    "output_path = os.path.join(test_results_dir, \"travel_v1_conversion_results.pkl\")\n",
    "with open(output_path, \"wb\") as f:\n",
    "    pickle.dump(results, f)\n",
    "print(f\"Results saved to {output_path}\")"
   ]
  },
  {
   "cell_type": "markdown",
   "id": "356b4bf8-3ac7-4d4c-9844-363c6748d6e2",
   "metadata": {},
   "source": [
    "#### History travel from anywhere to Ensembl backbone"
   ]
  },
  {
   "cell_type": "code",
   "execution_count": null,
   "id": "4729cb61-6ff7-4e7d-a60d-6883979752e0",
   "metadata": {},
   "outputs": [],
   "source": [
    "history_results = []\n",
    "for i in range(12):\n",
    "    r = idt.track.history_travel_testing_random(\n",
    "        from_fraction=0.1,\n",
    "        include_external_destination=False,\n",
    "        include_external_source=True,\n",
    "        include_ensembl_destination=False,\n",
    "        include_ensembl_source=True,\n",
    "        return_result=True,\n",
    "    )\n",
    "    history_results.append(r)\n",
    "\n",
    "os.makedirs(test_results_dir, exist_ok=True)\n",
    "output_path = os.path.join(test_results_dir, \"travel_v2_conversion_results.pkl\")\n",
    "with open(output_path, \"wb\") as f:\n",
    "    pickle.dump(results, f)\n",
    "print(f\"Results saved to {output_path}\")"
   ]
  },
  {
   "cell_type": "markdown",
   "id": "acccc9f0-b726-4769-ae0e-96257f364e4b",
   "metadata": {},
   "source": [
    "#### History travel from anywhere to anywhere"
   ]
  },
  {
   "cell_type": "code",
   "execution_count": null,
   "id": "2e5caa2f-4849-4c95-8890-dd628a39d2f1",
   "metadata": {},
   "outputs": [],
   "source": [
    "history_results = []\n",
    "for i in range(12):\n",
    "    r = idt.track.history_travel_testing_random(\n",
    "        from_fraction=0.1,\n",
    "        include_external_destination=True,\n",
    "        include_external_source=True,\n",
    "        include_ensembl_destination=True,\n",
    "        include_ensembl_source=True,\n",
    "        return_result=True,\n",
    "    )\n",
    "    history_results.append(r)\n",
    "\n",
    "os.makedirs(test_results_dir, exist_ok=True)\n",
    "output_path = os.path.join(test_results_dir, \"travel_v3_conversion_results.pkl\")\n",
    "with open(output_path, \"wb\") as f:\n",
    "    pickle.dump(results, f)\n",
    "print(f\"Results saved to {output_path}\")"
   ]
  },
  {
   "cell_type": "code",
   "execution_count": null,
   "id": "7c8cdd0d-0c5d-4d90-8c2d-43589ebc3d2d",
   "metadata": {},
   "outputs": [],
   "source": []
  }
 ],
 "metadata": {
  "kernelspec": {
   "display_name": "Python 3 (ipykernel)",
   "language": "python",
   "name": "python3"
  },
  "language_info": {
   "codemirror_mode": {
    "name": "ipython",
    "version": 3
   },
   "file_extension": ".py",
   "mimetype": "text/x-python",
   "name": "python",
   "nbconvert_exporter": "python",
   "pygments_lexer": "ipython3",
   "version": "3.11.12"
  }
 },
 "nbformat": 4,
 "nbformat_minor": 5
}
