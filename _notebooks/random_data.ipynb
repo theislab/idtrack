{
 "cells": [
  {
   "cell_type": "markdown",
   "id": "4d382034-659a-4864-942c-6b5d5bac1701",
   "metadata": {},
   "source": [
    "# Calculations with Random Data"
   ]
  },
  {
   "cell_type": "code",
   "execution_count": null,
   "id": "2e8a0cc8-bf41-451c-b312-2273d8ac64dd",
   "metadata": {},
   "outputs": [],
   "source": [
    "import sys\n",
    "sys.path.append(\"../..\")"
   ]
  },
  {
   "cell_type": "code",
   "execution_count": null,
   "id": "bbdfc13d-f667-4f64-b24a-880ddb1b36f5",
   "metadata": {},
   "outputs": [],
   "source": [
    "import os\n",
    "import time\n",
    "import scanpy as sc\n",
    "import idtrack\n",
    "import pickle\n",
    "import tqdm\n",
    "import random"
   ]
  },
  {
   "cell_type": "code",
   "execution_count": null,
   "id": "652450f9-9684-4326-b1af-9ad9116fa16d",
   "metadata": {},
   "outputs": [],
   "source": [
    "%load_ext autoreload\n",
    "%autoreload 2"
   ]
  },
  {
   "cell_type": "code",
   "execution_count": null,
   "id": "5b3bf9e4-81ed-408b-82bf-15633b35cfb2",
   "metadata": {},
   "outputs": [],
   "source": [
    "local_dir = \"/lustre/groups/ml01/workspace/kemal.inecik/idtrack_temp\"\n",
    "idt = idtrack.API(local_repository=local_dir)\n",
    "idt.configure_logger()\n",
    "idt.initialize_graph(organism_name='homo_sapiens', ensembl_release=107, return_test=True)\n",
    "idt.calculate_graph_caches() "
   ]
  },
  {
   "cell_type": "code",
   "execution_count": null,
   "id": "ff05ecc9-c6cf-4b3f-a26c-4d02de09286a",
   "metadata": {},
   "outputs": [],
   "source": [
    "def get_matching(convert_output):    \n",
    "    d = idt.classify_multiple_conversion([convert_output])\n",
    "    return {i: len(d[i]) for i in [\"matching_1_to_0\", \"matching_1_to_1\", \"matching_1_to_n\"]}"
   ]
  },
  {
   "cell_type": "code",
   "execution_count": null,
   "id": "08dfc283-87d2-4ca7-9d81-8b2024b72168",
   "metadata": {},
   "outputs": [],
   "source": [
    "subset_external = [\"assembly_38_ensembl_gene\", 'assembly_38_ensembl_transcript', \n",
    "                   \"Vega gene\", \"RFAM\", \"HGNC Symbol\", \"NCBI gene\", \n",
    "                   \"Havana gene\", \"CCDS\", \"Uniprot/SWISSPROT\", \"RefSeq_mRNA\"]"
   ]
  },
  {
   "cell_type": "code",
   "execution_count": null,
   "id": "9c62ee53-449c-4a0b-8876-06e266994519",
   "metadata": {},
   "outputs": [],
   "source": [
    "for iteration in [101, 102]:\n",
    "\n",
    "    identifier_dict = dict()\n",
    "    for n in idt.track.graph.nodes:    \n",
    "        for j in  {i[0] for i in idt.track.graph.node_trios[n]}:\n",
    "            if j in identifier_dict:\n",
    "                identifier_dict[j].append(n)\n",
    "            else:\n",
    "                identifier_dict[j] = [n]\n",
    "    for ind, j in enumerate(identifier_dict):\n",
    "        random.seed(ind + iteration)\n",
    "        try:\n",
    "            identifier_dict[j] = random.sample(sorted(set(identifier_dict[j])), 1000)\n",
    "        except ValueError:\n",
    "            # print(j, end=\", \")\n",
    "            identifier_dict[j] = random.sample(sorted(set(identifier_dict[j])), len(identifier_dict[j]))\n",
    "\n",
    "    # Example IDs\n",
    "    # for j in identifier_dict:\n",
    "    #     print(j, end=\": \")\n",
    "    #     print(identifier_dict[j][:10], end=\"\\n\\n\")\n",
    "\n",
    "    identifier_duos = dict()\n",
    "    for ind1, i in enumerate(subset_external):\n",
    "        if i not in identifier_duos:\n",
    "            identifier_duos[i] = list()\n",
    "        for ind2, j in enumerate(identifier_dict[i]):\n",
    "            random.seed(ind1 + ind2 + iteration)\n",
    "            trio = random.choice(list(idt.track.graph.node_trios[j]))\n",
    "            if trio[2] <= 107:\n",
    "                identifier_duos[i].append((j, trio[2]))\n",
    "\n",
    "    all_results = dict()\n",
    "    for fer in [False, True]:\n",
    "        print(f\"With From Release: {fer}\")\n",
    "        r = dict()\n",
    "        for ter in [107, 98, 89, 80]:\n",
    "            print(f\"To Ensembl Release: {ter}\")\n",
    "            results = dict()\n",
    "            for i in identifier_duos:\n",
    "                print(f\"{i}\", end=\", \")\n",
    "                if i not in results:\n",
    "                    results[i] = {'matching_1_to_0': 0, 'matching_1_to_1': 0, 'matching_1_to_n': 0}\n",
    "\n",
    "                t0 = time.time()\n",
    "                for j in identifier_duos[i]:\n",
    "                    c = idt.convert_identifier(j[0], from_release=j[1] if fer else None, to_release=ter, final_database=\"ensembl_gene\")\n",
    "                    gm = get_matching(c)\n",
    "                    for k in gm:\n",
    "                        results[i][k] += gm[k]\n",
    "                t1 = time.time()\n",
    "                results[i].update({\"time\": t1-t0, \"count\": len(identifier_duos[i])})\n",
    "            r[ter] = results\n",
    "            print()\n",
    "        all_results[\"with_from_release\" if fer else \"no_from_release\"] = r\n",
    "\n",
    "    time_suffix = time.strftime(\"%Y%m%d-%H%M%S\", time.gmtime())\n",
    "    local_dir = \"/lustre/groups/ml01/workspace/kemal.inecik/idtrack_temp\"\n",
    "    file_path = os.path.join(local_dir, f\"results_for_random_external_conversions_{iteration}_{time_suffix}.pk\")\n",
    "    with open(file_path, 'wb') as handle:\n",
    "        pickle.dump(all_results, handle)\n",
    "        print(f\"Saved: {file_path}\")\n",
    "    print()"
   ]
  },
  {
   "cell_type": "code",
   "execution_count": null,
   "id": "495211d1-7836-445f-b004-e073b2887b19",
   "metadata": {},
   "outputs": [],
   "source": [
    "# choose an external database, and ensembl gene id\n",
    "# choose random 10000 IDs from random ens releases\n",
    "# convert to ensembl gene id 107\n",
    "# get 1-to-1, 1-to-0, 1-to-n matchings, barplot..."
   ]
  },
  {
   "cell_type": "code",
   "execution_count": null,
   "id": "b4178e43-a5e3-41c9-9c64-7fe6dbc3c497",
   "metadata": {},
   "outputs": [],
   "source": [
    "# choose hgnc, ncbi, uniprot, ensembl gene\n",
    "# make from ensembl release 80 to 105, incrementing 3 or 5\n",
    "# get 1-to-1, 1-to-0, 1-to-n matchings, barplot..."
   ]
  },
  {
   "cell_type": "markdown",
   "id": "fea7cf98-782e-4cf2-b5f7-c2a3ff5ae5fa",
   "metadata": {},
   "source": [
    "Print plot"
   ]
  },
  {
   "cell_type": "code",
   "execution_count": 1,
   "id": "66580a4e-3571-4bf1-9491-4b2ed3522b4a",
   "metadata": {},
   "outputs": [],
   "source": [
    "import sys\n",
    "sys.path.append(\"../..\")"
   ]
  },
  {
   "cell_type": "code",
   "execution_count": 2,
   "id": "b32ae888-8c86-48bc-a6bc-610dd9800525",
   "metadata": {},
   "outputs": [],
   "source": [
    "import os\n",
    "import time\n",
    "import pickle\n",
    "import copy\n",
    "import random\n",
    "import pandas as pd\n",
    "import matplotlib.pyplot as plt\n",
    "import seaborn as sns\n",
    "import matplotlib.patches as mpatches"
   ]
  },
  {
   "cell_type": "code",
   "execution_count": 3,
   "id": "5fa35d52-91dc-4150-b3e1-dfeadff811cc",
   "metadata": {},
   "outputs": [],
   "source": [
    "%matplotlib inline\n",
    "%config InlineBackend.figure_format='retina'"
   ]
  },
  {
   "cell_type": "code",
   "execution_count": 4,
   "id": "97b26432-c054-45ae-9515-ccf2208937e4",
   "metadata": {},
   "outputs": [],
   "source": [
    "plt.rcParams['font.family'] = 'DeJavu Serif'\n",
    "plt.rcParams['font.serif'] = ['Times New Roman']"
   ]
  },
  {
   "cell_type": "code",
   "execution_count": 5,
   "id": "ff2fe9df-f0b7-4f13-85c5-0aea90ccbc8e",
   "metadata": {},
   "outputs": [],
   "source": [
    "local_dir = \"/lustre/groups/ml01/workspace/kemal.inecik/idtrack_temp\""
   ]
  },
  {
   "cell_type": "code",
   "execution_count": 6,
   "id": "1dbd8475-b489-4825-b01c-715589b8c913",
   "metadata": {},
   "outputs": [
    {
     "name": "stdout",
     "output_type": "stream",
     "text": [
      "total 15G\n",
      "-rw-r--r--. 1 kemal.inecik OG-ICB-User  18K Feb  2 10:38 figure_across_datasets.pdf\n",
      "-rw-r--r--. 1 kemal.inecik OG-ICB-User  16K Feb  2 10:33 figure_across_releases.pdf\n",
      "-rw-rwxr--+ 1 kemal.inecik OG-ICB-User 622M Oct 17 17:18 graph_homo_sapiens_ens107_min79_narrow.pickle\n",
      "-rw-rwxr--+ 1 kemal.inecik OG-ICB-User 7.2G Oct 17 15:01 homo_sapiens_assembly-37.h5\n",
      "-rw-rwxr--+ 1 kemal.inecik OG-ICB-User 7.0G Oct 31 09:44 homo_sapiens_assembly-38.h5\n",
      "-rw-rwxr--+ 1 kemal.inecik OG-ICB-User  45K Aug 12 15:57 homo_sapiens_externals_modified.yml\n",
      "-rw-rwxr--+ 1 kemal.inecik OG-ICB-User 2.2M Nov 10 10:48 results_for_hlca_core_only_ensembl_gene_20221110-094821.pk\n",
      "-rw-rwxr--+ 1 kemal.inecik OG-ICB-User 2.4M Nov 10 10:43 results_for_hlca_core_only_HGNC Symbol_20221110-094335.pk\n",
      "-rw-rwxr--+ 1 kemal.inecik OG-ICB-User  57M Nov  1 20:13 results_for_hlca_datasets_ensembl_gene_20221101-191345.pk\n",
      "-rw-r--r--. 1 kemal.inecik OG-ICB-User  57M Jan 30 03:31 results_for_hlca_datasets_ensembl_gene_20230130-023149.pk\n",
      "-rw-rwxr--+ 1 kemal.inecik OG-ICB-User  55M Nov  1 18:50 results_for_hlca_datasets_HGNC Symbol_20221101-175029.pk\n",
      "-rw-r--r--. 1 kemal.inecik OG-ICB-User  55M Jan 30 01:47 results_for_hlca_datasets_HGNC Symbol_20230130-004722.pk\n",
      "-rw-r--r--. 1 kemal.inecik OG-ICB-User 3.1K Jan 30 20:48 results_for_random_external_conversions_1001_20230130-194819.pk\n",
      "-rw-r--r--. 1 kemal.inecik OG-ICB-User 3.1K Jan 30 20:58 results_for_random_external_conversions_1002_20230130-195844.pk\n",
      "-rw-r--r--. 1 kemal.inecik OG-ICB-User 3.1K Jan 30 21:27 results_for_random_external_conversions_1011_20230130-202727.pk\n",
      "-rw-r--r--. 1 kemal.inecik OG-ICB-User 3.1K Jan 30 21:41 results_for_random_external_conversions_1012_20230130-204143.pk\n",
      "-rw-r--r--. 1 kemal.inecik OG-ICB-User 3.1K Jan 30 22:33 results_for_random_external_conversions_1031_20230130-213318.pk\n",
      "-rw-r--r--. 1 kemal.inecik OG-ICB-User 3.1K Jan 30 00:37 results_for_random_external_conversions_1_20230129-233747.pk\n",
      "-rw-r--r--. 1 kemal.inecik OG-ICB-User 3.1K Jan 30 04:12 results_for_random_external_conversions_2_20230130-031239.pk\n"
     ]
    }
   ],
   "source": [
    "!ls -lh /lustre/groups/ml01/workspace/kemal.inecik/idtrack_temp"
   ]
  },
  {
   "cell_type": "code",
   "execution_count": 7,
   "id": "8c600b82-4d33-4da4-9cbd-4bac76226251",
   "metadata": {},
   "outputs": [],
   "source": [
    "with open(local_dir + \"/results_for_random_external_conversions_1_20230129-233747.pk\", 'rb') as pickle_file_1:\n",
    "    res1 = pickle.load(pickle_file_1)\n",
    "with open(local_dir + \"/results_for_random_external_conversions_2_20230130-031239.pk\", 'rb') as pickle_file_2:\n",
    "    res2 = pickle.load(pickle_file_2)\n",
    "with open(local_dir + \"/results_for_random_external_conversions_1001_20230130-194819.pk\", 'rb') as pickle_file_3:\n",
    "    res3 = pickle.load(pickle_file_3)\n",
    "with open(local_dir + \"/results_for_random_external_conversions_1002_20230130-195844.pk\", 'rb') as pickle_file_4:\n",
    "    res4 = pickle.load(pickle_file_4)\n",
    "with open(local_dir + \"/results_for_random_external_conversions_1011_20230130-202727.pk\", 'rb') as pickle_file_5:\n",
    "    res5 = pickle.load(pickle_file_5)\n",
    "with open(local_dir + \"/results_for_random_external_conversions_1012_20230130-204143.pk\", 'rb') as pickle_file_6:\n",
    "    res6 = pickle.load(pickle_file_6)\n",
    "with open(local_dir + \"/results_for_random_external_conversions_1031_20230130-213318.pk\", 'rb') as pickle_file_7:\n",
    "    res7 = pickle.load(pickle_file_7)\n",
    "    \n",
    "res = [res1, res2, res3, res4, res5, res6, res7]"
   ]
  },
  {
   "cell_type": "code",
   "execution_count": 8,
   "id": "39cbf998-b2fd-4b6a-9072-9566ffe533d3",
   "metadata": {},
   "outputs": [],
   "source": [
    "df_list = list()\n",
    "for r, rv in enumerate(res):\n",
    "    for i, iv in rv.items():\n",
    "        for j, jv in iv.items():\n",
    "            for k, kv in jv.items():\n",
    "                count = kv[\"count\"]\n",
    "                for l, lv in kv.items():\n",
    "                    if l.startswith(\"matching_1\"):\n",
    "                        df_list.append([r+1, i, j, k, l, lv/count])\n",
    "df = pd.DataFrame(df_list, columns=[\"replicate\", \"from_release\", \"to_release\", \"database\", \"metric\", \"score\"])\n",
    "df[\"database\"] = df[\"database\"].replace({'assembly_38_ensembl_gene': \"Ensembl gene\",\n",
    "                                        'assembly_38_ensembl_transcript': \"Ensembl mRNA\",\n",
    "                                        \"Uniprot/SWISSPROT\": \"UniProt\",\n",
    "                                        \"RefSeq_mRNA\": \"RefSeq mRNA\"})"
   ]
  },
  {
   "cell_type": "code",
   "execution_count": 9,
   "id": "254ebb60-c74c-4fff-86fb-fd092b6591ac",
   "metadata": {},
   "outputs": [
    {
     "data": {
      "text/html": [
       "<div>\n",
       "<style scoped>\n",
       "    .dataframe tbody tr th:only-of-type {\n",
       "        vertical-align: middle;\n",
       "    }\n",
       "\n",
       "    .dataframe tbody tr th {\n",
       "        vertical-align: top;\n",
       "    }\n",
       "\n",
       "    .dataframe thead th {\n",
       "        text-align: right;\n",
       "    }\n",
       "</style>\n",
       "<table border=\"1\" class=\"dataframe\">\n",
       "  <thead>\n",
       "    <tr style=\"text-align: right;\">\n",
       "      <th></th>\n",
       "      <th>replicate</th>\n",
       "      <th>from_release</th>\n",
       "      <th>to_release</th>\n",
       "      <th>database</th>\n",
       "      <th>metric</th>\n",
       "      <th>score</th>\n",
       "    </tr>\n",
       "  </thead>\n",
       "  <tbody>\n",
       "    <tr>\n",
       "      <th>0</th>\n",
       "      <td>1</td>\n",
       "      <td>no_from_release</td>\n",
       "      <td>107</td>\n",
       "      <td>Ensembl gene</td>\n",
       "      <td>matching_1_to_0</td>\n",
       "      <td>0.040</td>\n",
       "    </tr>\n",
       "    <tr>\n",
       "      <th>1</th>\n",
       "      <td>1</td>\n",
       "      <td>no_from_release</td>\n",
       "      <td>107</td>\n",
       "      <td>Ensembl gene</td>\n",
       "      <td>matching_1_to_1</td>\n",
       "      <td>0.999</td>\n",
       "    </tr>\n",
       "    <tr>\n",
       "      <th>2</th>\n",
       "      <td>1</td>\n",
       "      <td>no_from_release</td>\n",
       "      <td>107</td>\n",
       "      <td>Ensembl gene</td>\n",
       "      <td>matching_1_to_n</td>\n",
       "      <td>1.000</td>\n",
       "    </tr>\n",
       "    <tr>\n",
       "      <th>3</th>\n",
       "      <td>1</td>\n",
       "      <td>no_from_release</td>\n",
       "      <td>107</td>\n",
       "      <td>Ensembl mRNA</td>\n",
       "      <td>matching_1_to_0</td>\n",
       "      <td>0.005</td>\n",
       "    </tr>\n",
       "    <tr>\n",
       "      <th>4</th>\n",
       "      <td>1</td>\n",
       "      <td>no_from_release</td>\n",
       "      <td>107</td>\n",
       "      <td>Ensembl mRNA</td>\n",
       "      <td>matching_1_to_1</td>\n",
       "      <td>0.985</td>\n",
       "    </tr>\n",
       "    <tr>\n",
       "      <th>...</th>\n",
       "      <td>...</td>\n",
       "      <td>...</td>\n",
       "      <td>...</td>\n",
       "      <td>...</td>\n",
       "      <td>...</td>\n",
       "      <td>...</td>\n",
       "    </tr>\n",
       "    <tr>\n",
       "      <th>1675</th>\n",
       "      <td>7</td>\n",
       "      <td>with_from_release</td>\n",
       "      <td>80</td>\n",
       "      <td>UniProt</td>\n",
       "      <td>matching_1_to_1</td>\n",
       "      <td>0.996</td>\n",
       "    </tr>\n",
       "    <tr>\n",
       "      <th>1676</th>\n",
       "      <td>7</td>\n",
       "      <td>with_from_release</td>\n",
       "      <td>80</td>\n",
       "      <td>UniProt</td>\n",
       "      <td>matching_1_to_n</td>\n",
       "      <td>1.000</td>\n",
       "    </tr>\n",
       "    <tr>\n",
       "      <th>1677</th>\n",
       "      <td>7</td>\n",
       "      <td>with_from_release</td>\n",
       "      <td>80</td>\n",
       "      <td>RefSeq mRNA</td>\n",
       "      <td>matching_1_to_0</td>\n",
       "      <td>0.001</td>\n",
       "    </tr>\n",
       "    <tr>\n",
       "      <th>1678</th>\n",
       "      <td>7</td>\n",
       "      <td>with_from_release</td>\n",
       "      <td>80</td>\n",
       "      <td>RefSeq mRNA</td>\n",
       "      <td>matching_1_to_1</td>\n",
       "      <td>0.993</td>\n",
       "    </tr>\n",
       "    <tr>\n",
       "      <th>1679</th>\n",
       "      <td>7</td>\n",
       "      <td>with_from_release</td>\n",
       "      <td>80</td>\n",
       "      <td>RefSeq mRNA</td>\n",
       "      <td>matching_1_to_n</td>\n",
       "      <td>1.000</td>\n",
       "    </tr>\n",
       "  </tbody>\n",
       "</table>\n",
       "<p>1680 rows × 6 columns</p>\n",
       "</div>"
      ],
      "text/plain": [
       "      replicate       from_release  to_release      database           metric  \\\n",
       "0             1    no_from_release         107  Ensembl gene  matching_1_to_0   \n",
       "1             1    no_from_release         107  Ensembl gene  matching_1_to_1   \n",
       "2             1    no_from_release         107  Ensembl gene  matching_1_to_n   \n",
       "3             1    no_from_release         107  Ensembl mRNA  matching_1_to_0   \n",
       "4             1    no_from_release         107  Ensembl mRNA  matching_1_to_1   \n",
       "...         ...                ...         ...           ...              ...   \n",
       "1675          7  with_from_release          80       UniProt  matching_1_to_1   \n",
       "1676          7  with_from_release          80       UniProt  matching_1_to_n   \n",
       "1677          7  with_from_release          80   RefSeq mRNA  matching_1_to_0   \n",
       "1678          7  with_from_release          80   RefSeq mRNA  matching_1_to_1   \n",
       "1679          7  with_from_release          80   RefSeq mRNA  matching_1_to_n   \n",
       "\n",
       "      score  \n",
       "0     0.040  \n",
       "1     0.999  \n",
       "2     1.000  \n",
       "3     0.005  \n",
       "4     0.985  \n",
       "...     ...  \n",
       "1675  0.996  \n",
       "1676  1.000  \n",
       "1677  0.001  \n",
       "1678  0.993  \n",
       "1679  1.000  \n",
       "\n",
       "[1680 rows x 6 columns]"
      ]
     },
     "execution_count": 9,
     "metadata": {},
     "output_type": "execute_result"
    }
   ],
   "source": [
    "k__ = list()\n",
    "for ind, j in df.iterrows():\n",
    "    \n",
    "    s = copy.deepcopy(j['score'])\n",
    "    if ind % 3 == 0:\n",
    "        total = s\n",
    "    else:\n",
    "        total += s\n",
    "        j['score'] = total\n",
    "    k__.append(j)\n",
    "df_cum = pd.DataFrame(k__)\n",
    "df_cum"
   ]
  },
  {
   "cell_type": "code",
   "execution_count": 10,
   "id": "5c772768-4c10-4906-8fe7-f13b56b6f87a",
   "metadata": {},
   "outputs": [
    {
     "data": {
      "image/png": "[encoded data removed]",
      "text/plain": [
       "<Figure size 252x360 with 1 Axes>"
      ]
     },
     "metadata": {
      "image/png": {
       "height": 353,
       "width": 243
      },
      "needs_background": "light"
     },
     "output_type": "display_data"
    }
   ],
   "source": [
    "plt.figure(figsize=(3.5,5))\n",
    "sns.barplot(data=df_cum[(df_cum[\"metric\"]==\"matching_1_to_n\") & (df_cum[\"to_release\"]==107)], \n",
    "            y=\"database\", \n",
    "            hue=\"from_release\", errwidth=1.5,\n",
    "            x=\"score\", \n",
    "            palette=['darkgray', 'darkgray'], errcolor='black'\n",
    "           )\n",
    "sns.barplot(data=df_cum[(df_cum[\"metric\"]==\"matching_1_to_1\") & (df_cum[\"to_release\"]==107)], \n",
    "            y=\"database\", \n",
    "            hue=\"from_release\", errwidth=1.5,\n",
    "            x=\"score\", \n",
    "            palette=['lightgray', 'lightgray'], errcolor='black'\n",
    "           )\n",
    "m = sns.barplot(data=df_cum[(df_cum[\"metric\"]==\"matching_1_to_0\") & (df_cum[\"to_release\"]==107)], \n",
    "            y=\"database\", \n",
    "            hue=\"from_release\", errwidth=1.5,\n",
    "            x=\"score\", \n",
    "            palette=['silver', 'silver'], errcolor='black'\n",
    "           )\n",
    "\n",
    "\n",
    "\n",
    "darkgray_patch = mpatches.Patch(color='darkgray', label='1 to n')\n",
    "lightgray_patch = mpatches.Patch(color='lightgray', label='1 to 1')\n",
    "silver_patch = mpatches.Patch(color='silver', label='1 to 0')\n",
    "plt.legend(handles=[darkgray_patch, lightgray_patch, silver_patch], loc='lower left', title=\"Matchings\")\n",
    "\n",
    "sns.despine()\n",
    "plt.tight_layout()\n",
    "plt.xlabel(\"Frequency\")\n",
    "plt.ylabel(\"Databases\")\n",
    "#plt.gca().legend().set_visible(False)\n",
    "plt.gca().tick_params(axis='y', which='both',length=0)\n",
    "plt.savefig(local_dir + \"/figure_across_datasets.pdf\")\n",
    "\n",
    "\n"
   ]
  },
  {
   "cell_type": "code",
   "execution_count": 14,
   "id": "b010ff76-fd79-4126-ae46-5092e1116960",
   "metadata": {},
   "outputs": [
    {
     "data": {
      "image/png": "[encoded data removed]",
      "text/plain": [
       "<Figure size 252x360 with 1 Axes>"
      ]
     },
     "metadata": {
      "image/png": {
       "height": 353,
       "width": 239
      },
      "needs_background": "light"
     },
     "output_type": "display_data"
    }
   ],
   "source": [
    "plt.figure(figsize=(3.5,5))\n",
    "df2=df[df[\"database\"].isin([\"Ensembl gene\", \"HGNC Symbol\", \"UniProt\", \"Vega gene\", \"NCBI gene\"])]\n",
    "sns.barplot(data=df2[(df2[\"metric\"]==\"matching_1_to_1\") & (df2[\"from_release\"]==\"with_from_release\")], \n",
    "            y=\"database\", \n",
    "            hue=\"to_release\", errwidth=0.75,\n",
    "            x=\"score\",\n",
    "            palette=['gainsboro', 'lightgray', 'silver', 'darkgray'], errcolor='black'\n",
    "           )\n",
    "\n",
    "sns.despine()\n",
    "plt.tight_layout()\n",
    "plt.xlabel(\"Frequency\")\n",
    "plt.ylabel(\"\")\n",
    "plt.xlim((0.85, 1.0))\n",
    "plt.gca().legend(loc='lower left', title=\"Target ER\")\n",
    "plt.gca().tick_params(axis='y', which='both',length=0)\n",
    "plt.savefig(local_dir + \"/figure_across_releases.pdf\")\n",
    "\n"
   ]
  },
  {
   "cell_type": "code",
   "execution_count": null,
   "id": "a1c4e666-5833-40ca-8749-96eabe38f202",
   "metadata": {},
   "outputs": [],
   "source": [
    "# time and boxplot for "
   ]
  },
  {
   "cell_type": "code",
   "execution_count": null,
   "id": "89d72232-29eb-4fa7-90e5-d64f0409c5be",
   "metadata": {},
   "outputs": [],
   "source": []
  },
  {
   "cell_type": "code",
   "execution_count": null,
   "id": "aa377715-72b0-468c-87f5-d14e42e2dce8",
   "metadata": {},
   "outputs": [],
   "source": []
  },
  {
   "cell_type": "code",
   "execution_count": null,
   "id": "d73357c6-f254-4469-9812-51fb50dac77a",
   "metadata": {},
   "outputs": [],
   "source": []
  },
  {
   "cell_type": "code",
   "execution_count": null,
   "id": "9e182bf6-7d4f-4d27-b730-e4d7d022fff0",
   "metadata": {},
   "outputs": [],
   "source": []
  }
 ],
 "metadata": {
  "kernelspec": {
   "display_name": "Python 3 (ipykernel)",
   "language": "python",
   "name": "python3"
  },
  "language_info": {
   "codemirror_mode": {
    "name": "ipython",
    "version": 3
   },
   "file_extension": ".py",
   "mimetype": "text/x-python",
   "name": "python",
   "nbconvert_exporter": "python",
   "pygments_lexer": "ipython3",
   "version": "3.8.15"
  }
 },
 "nbformat": 4,
 "nbformat_minor": 5
}
