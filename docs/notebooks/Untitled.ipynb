{
 "cells": [
  {
   "cell_type": "markdown",
   "id": "d0089374-5182-4b7e-935a-447dd27f3a91",
   "metadata": {
    "pycharm": {
     "name": "#%% md\n"
    }
   },
   "source": [
    "# Alalalal"
   ]
  },
  {
   "cell_type": "code",
   "execution_count": null,
   "id": "0827d574-aa2a-4d81-acb8-e742a8be44a5",
   "metadata": {
    "pycharm": {
     "name": "#%%\n"
    }
   },
   "outputs": [],
   "source": [
    "#bok"
   ]
  },
  {
   "cell_type": "markdown",
   "id": "591aa0bd-892a-464c-966d-c39ff914f0aa",
   "metadata": {
    "pycharm": {
     "name": "#%% md\n"
    }
   },
   "source": [
    "## A1"
   ]
  },
  {
   "cell_type": "code",
   "execution_count": 1,
   "id": "726f193b-6c6c-4fb7-b33c-5b7ad993cfd0",
   "metadata": {
    "pycharm": {
     "name": "#%%\n"
    }
   },
   "outputs": [],
   "source": [
    "#bok"
   ]
  },
  {
   "cell_type": "markdown",
   "id": "32fe6961-5584-46e4-9834-9d5bdf5102d6",
   "metadata": {
    "pycharm": {
     "name": "#%% md\n"
    }
   },
   "source": [
    "## A2"
   ]
  },
  {
   "cell_type": "code",
   "execution_count": null,
   "id": "8e24bee4-459b-4a70-8011-5c3a0f6c4aa4",
   "metadata": {
    "pycharm": {
     "name": "#%%\n"
    }
   },
   "outputs": [],
   "source": [
    "bok\n"
   ]
  }
 ],
 "metadata": {
  "kernelspec": {
   "display_name": "Python 3 (ipykernel)",
   "language": "python",
   "name": "python3"
  },
  "language_info": {
   "codemirror_mode": {
    "name": "ipython",
    "version": 3
   },
   "file_extension": ".py",
   "mimetype": "text/x-python",
   "name": "python",
   "nbconvert_exporter": "python",
   "pygments_lexer": "ipython3",
   "version": "3.9.12"
  }
 },
 "nbformat": 4,
 "nbformat_minor": 5
}