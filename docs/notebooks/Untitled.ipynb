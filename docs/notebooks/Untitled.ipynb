{
 "cells": [
  {
   "cell_type": "markdown",
   "id": "f0a953fc-cc27-4a89-b264-153f2f7cad0e",
   "metadata": {},
   "source": [
    "# Bok"
   ]
  },
  {
   "cell_type": "code",
   "execution_count": 4,
   "id": "9651dc52-4341-4175-9491-ef815cb2b775",
   "metadata": {},
   "outputs": [],
   "source": [
    "import os\n",
    "import scanpy as sc"
   ]
  },
  {
   "cell_type": "code",
   "execution_count": 1,
   "id": "dd541ab2-5b75-4405-9082-5093f25000a7",
   "metadata": {},
   "outputs": [],
   "source": [
    "import sys\n",
    "sys.path.append(\"../..\")\n",
    "from idtrack import *\n",
    "from idtrack._track_tests import *"
   ]
  },
  {
   "cell_type": "code",
   "execution_count": 2,
   "id": "fb66f86f-a47a-4dbe-ac43-627a953d4332",
   "metadata": {},
   "outputs": [
    {
     "name": "stderr",
     "output_type": "stream",
     "text": [
      "2022-08-11 12:47:49 INFO:graph: The graph is being constructed.\n",
      "2022-08-11 12:47:53 INFO:graph: Graph is being created: gene\n",
      "2022-08-11 12:47:55 WARNING:graph: Edge weights ignored due to duplicate entries: 2.\n",
      "2022-08-11 12:47:55 INFO:graph: Edges between across different IDs and self loops are being added.\n",
      "2022-08-11 12:48:00 INFO:graph: Edges between the same IDs are being added.\n",
      "2022-08-11 12:49:44 WARNING:graph: Retired ID come alive again: 1.\n",
      "2022-08-11 12:49:44 INFO:graph: Edges showing the retirement of IDs are being added.\n",
      "2022-08-11 12:51:06 INFO:graph: Problematic nodes in Ensembl ID history are being removed.\n",
      "2022-08-11 12:52:29 WARNING:graph: Nodes are deleted due to Ensembl ID history mistake: 4.\n",
      "2022-08-11 12:52:29 INFO:graph: Self-loops for latest release entries are being added.\n",
      "2022-08-11 12:52:32 INFO:graph: Node attributes are being added.\n",
      "2022-08-11 12:52:33 INFO:graph: Graph is being created: transcript\n",
      "2022-08-11 12:52:36 INFO:graph: Edges between across different IDs and self loops are being added.\n",
      "2022-08-11 12:52:49 INFO:graph: Edges between the same IDs are being added.\n",
      "2022-08-11 12:55:39 WARNING:graph: Retired ID come alive again: 1.\n",
      "2022-08-11 12:55:39 INFO:graph: Edges showing the retirement of IDs are being added.\n",
      "2022-08-11 12:57:19 INFO:graph: Problematic nodes in Ensembl ID history are being removed.\n",
      "2022-08-11 12:59:23 INFO:graph: Self-loops for latest release entries are being added.\n",
      "2022-08-11 12:59:35 INFO:graph: Node attributes are being added.\n",
      "2022-08-11 12:59:42 INFO:graph: Graph is being created: translation\n",
      "2022-08-11 12:59:46 INFO:graph: Edges between across different IDs and self loops are being added.\n",
      "2022-08-11 12:59:47 INFO:graph: Edges between the same IDs are being added.\n",
      "2022-08-11 13:01:41 WARNING:graph: Retired ID come alive again: 1.\n",
      "2022-08-11 13:01:41 INFO:graph: Edges showing the retirement of IDs are being added.\n",
      "2022-08-11 13:03:08 INFO:graph: Problematic nodes in Ensembl ID history are being removed.\n",
      "2022-08-11 13:04:37 INFO:graph: Self-loops for latest release entries are being added.\n",
      "2022-08-11 13:04:42 INFO:graph: Node attributes are being added.\n",
      "2022-08-11 13:04:45 WARNING:graph: Intersecting Ensembl nodes in two different forms: 'transcript'-'translation'.\n",
      "Nodes in 'transcript' will be replaced by 'translation': 'ENST00000515292.1'.\n",
      "2022-08-11 13:04:51 INFO:graph: Establishing connection between different forms.\n",
      "2022-08-11 13:10:33 INFO:graph: Versionless Ensembl IDs are being connected.\n",
      "2022-08-11 13:12:07 INFO:graph: Edges between versionless ID to version ID has been added for 'gene'.\n",
      "2022-08-11 13:12:07 INFO:graph: Edges between external IDs to Ensembl IDs is being added for 'gene'.\n",
      "2022-08-11 13:19:50 INFO:graph: Edges between external IDs to Ensembl IDs is being added for 'transcript'.\n",
      "2022-08-11 13:26:51 INFO:graph: Edges between external IDs to Ensembl IDs is being added for 'translation'.\n",
      "2022-08-11 13:33:26 WARNING:graph: Misplaced external entry: 157.\n",
      "2022-08-11 13:33:26 INFO:graph: The graph is being exported as '/lustre/groups/ml01/workspace/kemal.inecik/idtrack_temp/graph_homo_sapiens_ens107_min79_narrow.pickle'.\n"
     ]
    }
   ],
   "source": [
    "logger_config()\n",
    "local_dir = \"/lustre/groups/ml01/workspace/kemal.inecik/idtrack_temp\"  # or any other local directory\n",
    "dm = DatabaseManager(\"homo_sapiens\", 107, \"gene\", local_dir, 79)  # 70\n",
    "tt: TrackTests = TrackTests(dm)"
   ]
  },
  {
   "cell_type": "code",
   "execution_count": 5,
   "id": "dffe3092-f2d1-4536-8c96-8b7f6f785d47",
   "metadata": {},
   "outputs": [],
   "source": [
    "base_path = \"/lustre/groups/ml01/workspace/hlca_lisa.sikkema_malte.luecken/HLCA_reproducibility/data\"\n",
    "dset0_dir = os.path.join(base_path, \"HLCA_extended/extension_datasets/ready/full\")\n",
    "dset1_dir = os.path.join(base_path, \"HLCA_extended/extension_datasets/raw\")"
   ]
  },
  {
   "cell_type": "code",
   "execution_count": 6,
   "id": "dbed66bd-cb19-454c-8d98-a976a8f36b87",
   "metadata": {},
   "outputs": [],
   "source": [
    "adata_dict = {\n",
    "    \"Kaminski_2020\": [f\"{dset0_dir}/adams.h5ad\"],\n",
    "    \"Meyer_2021\": [f\"{dset0_dir}/meyer_2021.h5ad\"],\n",
    "    \"MeyerNikolic_unpubl\": [f\"{dset0_dir}/meyer_nikolic_unpubl.h5ad\"],\n",
    "    \"Barbry_unpubl\": [f\"{dset0_dir}/barbry.h5ad\"],\n",
    "    \"Regev_2021\": [\n",
    "        f\"{dset0_dir}/delorey_cryo.h5ad\", f\"{dset0_dir}/delorey_fresh.h5ad\",\n",
    "        f\"{dset0_dir}/delorey_nuclei.h5ad\"\n",
    "    ],\n",
    "    \"Thienpont_2018\": [f\"{dset1_dir}/Lambrechts/lambrechts.h5ad\"],\n",
    "    \"Budinger_2020\": [f\"{dset0_dir}/bharat.h5ad\"],\n",
    "    \"Banovich_Kropski_2020\": [f\"{dset0_dir}/haberman.h5ad\"],\n",
    "    \"Sheppard_2020\": [f\"{dset0_dir}/tsukui.h5ad\"],\n",
    "    \"Wunderink_2021\": [\n",
    "        f\"{dset0_dir}/grant_cryo.h5ad\", f\"{dset0_dir}/grant_fresh.h5ad\"\n",
    "    ],\n",
    "    \"Lambrechts_2021\": [\n",
    "        f\"{dset0_dir}/wouters.h5ad\" #, f\"{dset0_dir}/wouters_labs.h5ad\"\n",
    "    ],\n",
    "    \"Zhang_2021\": [f\"{dset1_dir}/Liao/covid_for_publish.h5ad\"],\n",
    "    \"Duong_lungMAP_unpubl\": [f\"{dset0_dir}/duong.h5ad\"],\n",
    "    \"Janssen_2020\": [f\"{dset0_dir}/mould.h5ad\"],\n",
    "    \"Sun_2020\": [\n",
    "        f\"{dset0_dir}/wang_sub_batch1.h5ad\", f\"{dset0_dir}/wang_sub_batch2.h5ad\",\n",
    "        f\"{dset0_dir}/wang_sub_batch3.h5ad\", f\"{dset0_dir}/wang_sub_batch4.h5ad\"],\n",
    "    \"Gomperts_2021\": [\n",
    "        f\"{dset0_dir}/carraro_ucla.h5ad\", f\"{dset0_dir}/carraro_cff.h5ad\",\n",
    "        f\"{dset0_dir}/carraro_csmc.h5ad\"]\n",
    "    ,\n",
    "    \"Eils_2020\": [f\"{dset0_dir}/lukassen.h5ad\"],\n",
    "    \"Schiller_2020\": [f\"{dset0_dir}/mayr.h5ad\"],\n",
    "    \"Misharin_Budinger_2018\": [f\"{dset0_dir}/reyfman_disease.h5ad\"],\n",
    "    \"Shalek_2018\": [f\"{dset0_dir}/ordovasmontanes.h5ad\"],\n",
    "    \"Schiller_2021\": [f\"{dset0_dir}/schiller_discovair.h5ad\"],\n",
    "    \"Peer_Massague_2020\": [f\"{dset0_dir}/laughney.h5ad\"],\n",
    "    \"Lafyatis_2019\": [f\"{dset0_dir}/valenzi.h5ad\"],\n",
    "    \"Tata_unpubl\": [f\"{dset0_dir}/tata_unpubl.h5ad\"],\n",
    "    \"Xu_2020\": [f\"{dset0_dir}/guo.h5ad\"],\n",
    "    \"Sims_2019\": [f\"{dset0_dir}/szabo.h5ad\"],\n",
    "    \"Schultze_unpubl\": [f\"{dset0_dir}/schultze_unpubl.h5ad\"]\n",
    "}"
   ]
  },
  {
   "cell_type": "code",
   "execution_count": 7,
   "id": "ffce39e6-911d-43f3-84d2-5f1f18f69a4c",
   "metadata": {},
   "outputs": [],
   "source": [
    "adata = sc.read(adata_dict[\"Eils_2020\"][0])\n",
    "gene_list = list(adata.var.index)"
   ]
  },
  {
   "cell_type": "code",
   "execution_count": 11,
   "id": "a8e4a084-7138-44d1-82d7-c1b7232f5870",
   "metadata": {},
   "outputs": [
    {
     "name": "stdout",
     "output_type": "stream",
     "text": [
      "32738 637 335\n"
     ]
    }
   ],
   "source": [
    "a = []\n",
    "b = []\n",
    "for i in gene_list:\n",
    "    if i not in tt.graph.nodes:\n",
    "        a.append(i)\n",
    "        j = i.split('-')[0]\n",
    "        if j not in tt.graph.nodes:\n",
    "            b.append((i, j))\n",
    "print(len(gene_list), len(a), len(b))"
   ]
  },
  {
   "cell_type": "code",
   "execution_count": null,
   "outputs": [],
   "source": [
    "rc37 = Dataset(dm.change_server(37), narrow_search=False).initialize_external_conversion()\n",
    "#rc38 = Dataset(dm.change_server(38), narrow_search=False).initialize_external_conversion()"
   ],
   "metadata": {
    "collapsed": false,
    "pycharm": {
     "name": "#%%\n"
    }
   }
  },
  {
   "cell_type": "code",
   "execution_count": null,
   "outputs": [],
   "source": [
    "d=np.unique(rc38['id_db'])"
   ],
   "metadata": {
    "collapsed": false,
    "pycharm": {
     "name": "#%%\n"
    }
   }
  },
  {
   "cell_type": "code",
   "execution_count": null,
   "outputs": [],
   "source": [
    "\"ACTB\" in d"
   ],
   "metadata": {
    "collapsed": false,
    "pycharm": {
     "name": "#%%\n"
    }
   }
  },
  {
   "cell_type": "code",
   "execution_count": null,
   "outputs": [],
   "source": [
    "import h5py\n",
    "f= h5py.File(\"/lustre/groups/ml01/workspace/kemal.inecik/idtrack_temp/homo_sapiens_assembly-37.h5\")\n",
    "f.close()\n",
    "f"
   ],
   "metadata": {
    "collapsed": false,
    "pycharm": {
     "name": "#%%\n"
    }
   }
  },
  {
   "cell_type": "code",
   "execution_count": null,
   "id": "e95fe990-37c1-41f1-bd6c-b6638ddbb3ac",
   "metadata": {},
   "outputs": [],
   "source": []
  }
 ],
 "metadata": {
  "kernelspec": {
   "display_name": "Python 3 (ipykernel)",
   "language": "python",
   "name": "python3"
  },
  "language_info": {
   "codemirror_mode": {
    "name": "ipython",
    "version": 3
   },
   "file_extension": ".py",
   "mimetype": "text/x-python",
   "name": "python",
   "nbconvert_exporter": "python",
   "pygments_lexer": "ipython3",
   "version": "3.9.12"
  }
 },
 "nbformat": 4,
 "nbformat_minor": 5
}