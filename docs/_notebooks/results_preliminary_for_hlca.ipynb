{
 "cells": [
  {
   "cell_type": "markdown",
   "id": "f0a953fc-cc27-4a89-b264-153f2f7cad0e",
   "metadata": {},
   "source": [
    "# results_preliminary_for_hlca"
   ]
  },
  {
   "cell_type": "code",
   "execution_count": 1,
   "id": "3900755c-7892-4618-8261-e517cf6c0dc7",
   "metadata": {},
   "outputs": [
    {
     "data": {
      "text/plain": [
       "1"
      ]
     },
     "execution_count": 1,
     "metadata": {},
     "output_type": "execute_result"
    }
   ],
   "source": [
    "1"
   ]
  },
  {
   "cell_type": "code",
   "execution_count": 2,
   "id": "9651dc52-4341-4175-9491-ef815cb2b775",
   "metadata": {},
   "outputs": [],
   "source": [
    "import os\n",
    "import scanpy as sc\n",
    "import pickle\n",
    "import sys\n",
    "from collections import Counter\n",
    "sys.path.append(\"../..\")"
   ]
  },
  {
   "cell_type": "code",
   "execution_count": 3,
   "id": "dd541ab2-5b75-4405-9082-5093f25000a7",
   "metadata": {},
   "outputs": [],
   "source": [
    "from idtrack import *\n",
    "from idtrack._track_tests import *\n",
    "logger_config()\n",
    "local_dir = \"/lustre/groups/ml01/workspace/kemal.inecik/idtrack_temp\"  # or any other local directory\n",
    "dm = DatabaseManager(\"homo_sapiens\", 107, \"gene\", local_dir, 106) \n",
    "tt: TrackTests = TrackTests(dm)\n"
   ]
  },
  {
   "cell_type": "code",
   "execution_count": 6,
   "id": "dbed66bd-cb19-454c-8d98-a976a8f36b87",
   "metadata": {},
   "outputs": [],
   "source": [
    "base_path = \"/lustre/groups/ml01/workspace/hlca_lisa.sikkema_malte.luecken/HLCA_reproducibility/data\"\n",
    "dset0_dir = os.path.join(base_path, \"HLCA_extended/extension_datasets/ready/full\")\n",
    "dset1_dir = os.path.join(base_path, \"HLCA_extended/extension_datasets/raw\")\n",
    "\n",
    "adata_dict = {\n",
    "    \"Kaminski_2020\": [f\"{dset0_dir}/adams.h5ad\"],\n",
    "    \"Meyer_2021\": [f\"{dset0_dir}/meyer_2021.h5ad\"],\n",
    "    \"MeyerNikolic_unpubl\": [f\"{dset0_dir}/meyer_nikolic_unpubl.h5ad\"],\n",
    "    \"Barbry_unpubl\": [f\"{dset0_dir}/barbry.h5ad\"],\n",
    "    \"Regev_2021\": [\n",
    "        f\"{dset0_dir}/delorey_cryo.h5ad\", f\"{dset0_dir}/delorey_fresh.h5ad\",\n",
    "        f\"{dset0_dir}/delorey_nuclei.h5ad\"\n",
    "    ],\n",
    "    \"Thienpont_2018\": [f\"{dset1_dir}/Lambrechts/lambrechts.h5ad\"],\n",
    "    \"Budinger_2020\": [f\"{dset0_dir}/bharat.h5ad\"],\n",
    "    \"Banovich_Kropski_2020\": [f\"{dset0_dir}/haberman.h5ad\"],\n",
    "    \"Sheppard_2020\": [f\"{dset0_dir}/tsukui.h5ad\"],\n",
    "    \"Wunderink_2021\": [\n",
    "        f\"{dset0_dir}/grant_cryo.h5ad\", f\"{dset0_dir}/grant_fresh.h5ad\"\n",
    "    ],\n",
    "    \"Lambrechts_2021\": [\n",
    "        f\"{dset0_dir}/wouters.h5ad\" #, f\"{dset0_dir}/wouters_labs.h5ad\"\n",
    "    ],\n",
    "    \"Zhang_2021\": [f\"{dset1_dir}/Liao/covid_for_publish.h5ad\"],\n",
    "    \"Duong_lungMAP_unpubl\": [f\"{dset0_dir}/duong.h5ad\"],\n",
    "    \"Janssen_2020\": [f\"{dset0_dir}/mould.h5ad\"],\n",
    "    \"Sun_2020\": [\n",
    "        f\"{dset0_dir}/wang_sub_batch1.h5ad\", f\"{dset0_dir}/wang_sub_batch2.h5ad\",\n",
    "        f\"{dset0_dir}/wang_sub_batch3.h5ad\", f\"{dset0_dir}/wang_sub_batch4.h5ad\"],\n",
    "    \"Gomperts_2021\": [\n",
    "        f\"{dset0_dir}/carraro_ucla.h5ad\", f\"{dset0_dir}/carraro_cff.h5ad\",\n",
    "        f\"{dset0_dir}/carraro_csmc.h5ad\"],\n",
    "    \"Eils_2020\": [f\"{dset0_dir}/lukassen.h5ad\"],\n",
    "    \"Schiller_2020\": [f\"{dset0_dir}/mayr.h5ad\"],\n",
    "    \"Misharin_Budinger_2018\": [f\"{dset0_dir}/reyfman_disease.h5ad\"],\n",
    "    \"Shalek_2018\": [f\"{dset0_dir}/ordovasmontanes.h5ad\"],\n",
    "    \"Schiller_2021\": [f\"{dset0_dir}/schiller_discovair.h5ad\"],\n",
    "    \"Peer_Massague_2020\": [f\"{dset0_dir}/laughney.h5ad\"],\n",
    "    \"Lafyatis_2019\": [f\"{dset0_dir}/valenzi.h5ad\"],\n",
    "    \"Tata_unpubl\": [f\"{dset0_dir}/tata_unpubl.h5ad\"],\n",
    "    \"Xu_2020\": [f\"{dset0_dir}/guo.h5ad\"],\n",
    "    \"Sims_2019\": [f\"{dset0_dir}/szabo.h5ad\"],\n",
    "    \"Schultze_unpubl\": [f\"{dset0_dir}/schultze_unpubl.h5ad\"]\n",
    "}"
   ]
  },
  {
   "cell_type": "markdown",
   "id": "e5703b50-b859-4f97-9ca3-68d271d5a1f1",
   "metadata": {},
   "source": [
    "##### Conversion and save"
   ]
  },
  {
   "cell_type": "code",
   "execution_count": null,
   "id": "60ae3c86-dc87-45f4-9fb7-b1e70c02feb9",
   "metadata": {},
   "outputs": [],
   "source": [
    "results = dict()\n",
    "\n",
    "for ddadaata in adata_dict:\n",
    "    \n",
    "    adata = sc.read(adata_dict[ddadaata][0])\n",
    "    gene_list = list(adata.var.index)\n",
    "    \n",
    "    entered_gene_list = list()\n",
    "    return_list = list()\n",
    "    \n",
    "    print(ddadaata)\n",
    "    for ind, gl in enumerate(gene_list):\n",
    "        if ind % 100 == 0 or ind > len(gene_list)-5:\n",
    "            progress_bar(ind, len(gene_list)-1)\n",
    "        \n",
    "        new_gl, is_converted = tt.unfound_node_solutions(gl)\n",
    "        if new_gl is None:\n",
    "            new_gl, is_converted = tt.unfound_node_solutions(f\"{DB.synonym_id_nodes_prefix}{gl}\")\n",
    "            is_converted = True if new_gl is not None else False\n",
    "\n",
    "        if new_gl is None:\n",
    "            return_list.append([])\n",
    "        elif new_gl and is_converted:\n",
    "            conv = tt.convert(new_gl, None, None, 'ensembl_gene', prioritize_to_one_filter=True, return_path=False)\n",
    "            return_list.append(list(conv) if conv is not None else [])\n",
    "            entered_gene_list.append(new_gl)\n",
    "        elif new_gl:\n",
    "            conv = tt.convert(gl, None, None, 'ensembl_gene', prioritize_to_one_filter=True, return_path=False)\n",
    "            return_list.append(list(conv) if conv is not None else [])\n",
    "            entered_gene_list.append(gl)\n",
    "        else:\n",
    "            raise ValueError\n",
    "    print(tt.identify_source(entered_gene_list)[0])\n",
    "    print(list(Counter([len(i) for i in return_list]).most_common())[:10])\n",
    "    assert len(gene_list) == len(return_list)\n",
    "    results[ddadaata] = {i: j for i, j in zip(gene_list, return_list)}\n",
    "    print()\n",
    "\n",
    "file_path = os.path.join(local_dir, \"results_preliminary_for_hlca.pk\")\n",
    "with open(file_path, 'wb') as handle:\n",
    "    pickle.dump(result, handle)\n",
    "    print(f\"Saved: {file_path}\")"
   ]
  },
  {
   "cell_type": "code",
   "execution_count": 7,
   "id": "5528c826-c64c-48b0-894f-ecd3bd40428c",
   "metadata": {},
   "outputs": [
    {
     "name": "stdout",
     "output_type": "stream",
     "text": [
      "Saved: /lustre/groups/ml01/workspace/kemal.inecik/idtrack_temp/results_preliminary_for_hlca.pk\n"
     ]
    }
   ],
   "source": [
    "file_path = os.path.join(local_dir, \"results_preliminary_for_hlca.pk\")\n",
    "with open(file_path, 'wb') as handle:\n",
    "    pickle.dump(results, handle)\n",
    "    print(f\"Saved: {file_path}\")"
   ]
  },
  {
   "cell_type": "code",
   "execution_count": 4,
   "id": "1e01e328-e1f5-4be9-a3b3-e00eaf9f85b2",
   "metadata": {},
   "outputs": [
    {
     "name": "stdout",
     "output_type": "stream",
     "text": [
      "Loaded: /lustre/groups/ml01/workspace/kemal.inecik/idtrack_temp/results_preliminary_for_hlca.pk\n"
     ]
    }
   ],
   "source": [
    "file_path = os.path.join(local_dir, \"results_preliminary_for_hlca.pk\")\n",
    "with open(file_path, 'rb') as handle:\n",
    "    results = pickle.load(handle)\n",
    "    print(f\"Loaded: {file_path}\")"
   ]
  },
  {
   "cell_type": "code",
   "execution_count": 23,
   "id": "d8d58df9-f229-4a23-82c6-c25c0ccaa9ab",
   "metadata": {},
   "outputs": [
    {
     "data": {
      "text/plain": [
       "TSPAN6           ENSG00000000003\n",
       "TNMD             ENSG00000000005\n",
       "DPM1             ENSG00000000419\n",
       "SCYL3            ENSG00000000457\n",
       "C1orf112         ENSG00000000460\n",
       "                      ...       \n",
       "RP11-11M20.4     ENSG00000283078\n",
       "LLNLR-245B6.1    ENSG00000283103\n",
       "CTD-2060L22.1    ENSG00000283117\n",
       "RP11-107E5.4     ENSG00000283118\n",
       "RP11-299P2.2     ENSG00000283125\n",
       "Name: gene_ids, Length: 28527, dtype: object"
      ]
     },
     "execution_count": 23,
     "metadata": {},
     "output_type": "execute_result"
    }
   ],
   "source": [
    "adata.var['gene_ids']"
   ]
  },
  {
   "cell_type": "markdown",
   "id": "c5e6f40a-3c07-49c9-8ae1-5083e32e783a",
   "metadata": {},
   "source": [
    "##### all"
   ]
  },
  {
   "cell_type": "code",
   "execution_count": 6,
   "id": "eb49167b-2e60-496d-9974-ae1d081fe166",
   "metadata": {},
   "outputs": [
    {
     "name": "stdout",
     "output_type": "stream",
     "text": [
      "Additional_dataset\n",
      "Progress: |████████████████████| 100.0% \n",
      "(('Vega gene', 88), 26626)\n",
      "[(1, 28173), (0, 352), (3, 1), (2, 1)]\n",
      "\n",
      "Saved: /lustre/groups/ml01/workspace/kemal.inecik/idtrack_temp/results_preliminary_for_hlca_V2_ALL.pk\n"
     ]
    }
   ],
   "source": [
    "adata_dict = {\"Additional_dataset\": [\"/lustre/groups/ml01/workspace/hlca_lisa.sikkema_malte.luecken/HLCA_reproducibility/data/HLCA_core_h5ads/HLCA_v2.h5ad\"]}\n",
    "results = dict()\n",
    "for ddadaata in adata_dict:\n",
    "    \n",
    "    adata = sc.read(adata_dict[ddadaata][0])\n",
    "    gene_list = list(adata.var.index)\n",
    "    \n",
    "    entered_gene_list = list()\n",
    "    return_list = list()\n",
    "    \n",
    "    print(ddadaata)\n",
    "    for ind, gl in enumerate(gene_list):\n",
    "        if ind % 100 == 0 or ind > len(gene_list)-5:\n",
    "            progress_bar(ind, len(gene_list)-1)\n",
    "        \n",
    "        new_gl, is_converted = tt.unfound_node_solutions(gl)\n",
    "        if new_gl is None:\n",
    "            new_gl, is_converted = tt.unfound_node_solutions(f\"{DB.synonym_id_nodes_prefix}{gl}\")\n",
    "            is_converted = True if new_gl is not None else False\n",
    "\n",
    "        if new_gl is None:\n",
    "            return_list.append([])\n",
    "        elif new_gl and is_converted:\n",
    "            conv = tt.convert(new_gl, None, None, 'ensembl_gene', prioritize_to_one_filter=True, return_path=False)\n",
    "            return_list.append(list(conv) if conv is not None else [])\n",
    "            entered_gene_list.append(new_gl)\n",
    "        elif new_gl:\n",
    "            conv = tt.convert(gl, None, None, 'ensembl_gene', prioritize_to_one_filter=True, return_path=False)\n",
    "            return_list.append(list(conv) if conv is not None else [])\n",
    "            entered_gene_list.append(gl)\n",
    "        else:\n",
    "            raise ValueError\n",
    "    print(tt.identify_source(entered_gene_list)[0])\n",
    "    print(list(Counter([len(i) for i in return_list]).most_common())[:10])\n",
    "    assert len(gene_list) == len(return_list)\n",
    "    results[ddadaata] = {i: j for i, j in zip(gene_list, return_list)}\n",
    "    print()\n",
    "\n",
    "file_path = os.path.join(local_dir, \"results_preliminary_for_hlca_V2_ALL.pk\")\n",
    "with open(file_path, 'wb') as handle:\n",
    "    pickle.dump(results, handle)\n",
    "    print(f\"Saved: {file_path}\")"
   ]
  },
  {
   "cell_type": "code",
   "execution_count": 7,
   "id": "0be8b124-6f7a-46a4-bacb-3bee65533144",
   "metadata": {},
   "outputs": [
    {
     "name": "stdout",
     "output_type": "stream",
     "text": [
      "Loaded: /lustre/groups/ml01/workspace/kemal.inecik/idtrack_temp/results_preliminary_for_hlca_V2_ALL.pk\n"
     ]
    }
   ],
   "source": [
    "file_path = os.path.join(local_dir, \"results_preliminary_for_hlca_V2_ALL.pk\")\n",
    "with open(file_path, 'rb') as handle:\n",
    "    results = pickle.load(handle)\n",
    "    print(f\"Loaded: {file_path}\")"
   ]
  },
  {
   "cell_type": "code",
   "execution_count": null,
   "id": "ec1b8b7e-2f56-4c56-83b4-370f47f4ed00",
   "metadata": {},
   "outputs": [],
   "source": []
  },
  {
   "cell_type": "code",
   "execution_count": null,
   "id": "d0d9c386-fab5-496a-8b50-9864abf6d077",
   "metadata": {},
   "outputs": [],
   "source": []
  },
  {
   "cell_type": "code",
   "execution_count": null,
   "id": "88c2311d-ada9-4ab4-8d9a-c7132cf71c26",
   "metadata": {},
   "outputs": [],
   "source": []
  },
  {
   "cell_type": "code",
   "execution_count": null,
   "id": "759bf33b-27b3-40c7-8f5b-5c83a8462c4c",
   "metadata": {},
   "outputs": [],
   "source": []
  },
  {
   "cell_type": "code",
   "execution_count": null,
   "id": "c0d95e51-16e0-46a1-8316-242a4c895417",
   "metadata": {},
   "outputs": [],
   "source": []
  },
  {
   "cell_type": "code",
   "execution_count": null,
   "id": "0dd34f42-c4fc-4815-9cbf-a71c4eb2a327",
   "metadata": {},
   "outputs": [],
   "source": []
  },
  {
   "cell_type": "markdown",
   "id": "e315bf68-daf0-4319-a0e0-1a58eb0b04f9",
   "metadata": {},
   "source": [
    "##### how many target hit"
   ]
  },
  {
   "cell_type": "code",
   "execution_count": 9,
   "id": "58d65cd3-fa90-4942-890c-c53662d0fa48",
   "metadata": {},
   "outputs": [
    {
     "data": {
      "text/plain": [
       "27911"
      ]
     },
     "execution_count": 9,
     "metadata": {},
     "output_type": "execute_result"
    }
   ],
   "source": [
    "all_targets = {j for database in results for i in results[database] for j in results[database][i]}\n",
    "len(all_targets)"
   ]
  },
  {
   "cell_type": "code",
   "execution_count": 10,
   "id": "00944dcc-7624-402d-9700-c842b080080d",
   "metadata": {},
   "outputs": [],
   "source": [
    "exts = dm.change_release(107).get_db('external_relevant')"
   ]
  },
  {
   "cell_type": "code",
   "execution_count": 11,
   "id": "95757998-58f2-4f24-8089-f375b97b0277",
   "metadata": {},
   "outputs": [],
   "source": [
    "exts=exts[exts['name_db'] == 'HGNC Symbol']"
   ]
  },
  {
   "cell_type": "code",
   "execution_count": 12,
   "id": "d39260cb-e2d8-46d1-b5b6-65603e429c01",
   "metadata": {},
   "outputs": [],
   "source": [
    "df_ciro = exts[exts[\"graph_id\"].isin(all_targets)]"
   ]
  },
  {
   "cell_type": "code",
   "execution_count": 13,
   "id": "d0e7171e-4d5f-4abe-8be6-4a5639c3fba3",
   "metadata": {},
   "outputs": [
    {
     "data": {
      "text/html": [
       "<div>\n",
       "<style scoped>\n",
       "    .dataframe tbody tr th:only-of-type {\n",
       "        vertical-align: middle;\n",
       "    }\n",
       "\n",
       "    .dataframe tbody tr th {\n",
       "        vertical-align: top;\n",
       "    }\n",
       "\n",
       "    .dataframe thead th {\n",
       "        text-align: right;\n",
       "    }\n",
       "</style>\n",
       "<table border=\"1\" class=\"dataframe\">\n",
       "  <thead>\n",
       "    <tr style=\"text-align: right;\">\n",
       "      <th></th>\n",
       "      <th>release</th>\n",
       "      <th>graph_id</th>\n",
       "      <th>id_db</th>\n",
       "      <th>name_db</th>\n",
       "      <th>ensembl_identity</th>\n",
       "      <th>xref_identity</th>\n",
       "    </tr>\n",
       "  </thead>\n",
       "  <tbody>\n",
       "    <tr>\n",
       "      <th>30645</th>\n",
       "      <td>107</td>\n",
       "      <td>ENSG00000000003.15</td>\n",
       "      <td>TSPAN6</td>\n",
       "      <td>HGNC Symbol</td>\n",
       "      <td>NaN</td>\n",
       "      <td>NaN</td>\n",
       "    </tr>\n",
       "    <tr>\n",
       "      <th>30646</th>\n",
       "      <td>107</td>\n",
       "      <td>ENSG00000000005.6</td>\n",
       "      <td>TNMD</td>\n",
       "      <td>HGNC Symbol</td>\n",
       "      <td>NaN</td>\n",
       "      <td>NaN</td>\n",
       "    </tr>\n",
       "    <tr>\n",
       "      <th>30647</th>\n",
       "      <td>107</td>\n",
       "      <td>ENSG00000000419.14</td>\n",
       "      <td>DPM1</td>\n",
       "      <td>HGNC Symbol</td>\n",
       "      <td>NaN</td>\n",
       "      <td>NaN</td>\n",
       "    </tr>\n",
       "    <tr>\n",
       "      <th>30648</th>\n",
       "      <td>107</td>\n",
       "      <td>ENSG00000000457.14</td>\n",
       "      <td>SCYL3</td>\n",
       "      <td>HGNC Symbol</td>\n",
       "      <td>NaN</td>\n",
       "      <td>NaN</td>\n",
       "    </tr>\n",
       "    <tr>\n",
       "      <th>30649</th>\n",
       "      <td>107</td>\n",
       "      <td>ENSG00000000460.17</td>\n",
       "      <td>C1orf112</td>\n",
       "      <td>HGNC Symbol</td>\n",
       "      <td>NaN</td>\n",
       "      <td>NaN</td>\n",
       "    </tr>\n",
       "    <tr>\n",
       "      <th>...</th>\n",
       "      <td>...</td>\n",
       "      <td>...</td>\n",
       "      <td>...</td>\n",
       "      <td>...</td>\n",
       "      <td>...</td>\n",
       "      <td>...</td>\n",
       "    </tr>\n",
       "    <tr>\n",
       "      <th>75384</th>\n",
       "      <td>107</td>\n",
       "      <td>ENSG00000288702.1</td>\n",
       "      <td>UGT1A3</td>\n",
       "      <td>HGNC Symbol</td>\n",
       "      <td>NaN</td>\n",
       "      <td>NaN</td>\n",
       "    </tr>\n",
       "    <tr>\n",
       "      <th>75386</th>\n",
       "      <td>107</td>\n",
       "      <td>ENSG00000288709.1</td>\n",
       "      <td>F8A2</td>\n",
       "      <td>HGNC Symbol</td>\n",
       "      <td>NaN</td>\n",
       "      <td>NaN</td>\n",
       "    </tr>\n",
       "    <tr>\n",
       "      <th>75389</th>\n",
       "      <td>107</td>\n",
       "      <td>ENSG00000288825.1</td>\n",
       "      <td>H2AC18</td>\n",
       "      <td>HGNC Symbol</td>\n",
       "      <td>NaN</td>\n",
       "      <td>NaN</td>\n",
       "    </tr>\n",
       "    <tr>\n",
       "      <th>75397</th>\n",
       "      <td>107</td>\n",
       "      <td>ENSG00000289604.1</td>\n",
       "      <td>CTAGE8</td>\n",
       "      <td>HGNC Symbol</td>\n",
       "      <td>NaN</td>\n",
       "      <td>NaN</td>\n",
       "    </tr>\n",
       "    <tr>\n",
       "      <th>75401</th>\n",
       "      <td>107</td>\n",
       "      <td>ENSG00000289731.1</td>\n",
       "      <td>FAM153B</td>\n",
       "      <td>HGNC Symbol</td>\n",
       "      <td>NaN</td>\n",
       "      <td>NaN</td>\n",
       "    </tr>\n",
       "  </tbody>\n",
       "</table>\n",
       "<p>22031 rows × 6 columns</p>\n",
       "</div>"
      ],
      "text/plain": [
       "       release            graph_id     id_db      name_db  ensembl_identity  \\\n",
       "30645      107  ENSG00000000003.15    TSPAN6  HGNC Symbol               NaN   \n",
       "30646      107   ENSG00000000005.6      TNMD  HGNC Symbol               NaN   \n",
       "30647      107  ENSG00000000419.14      DPM1  HGNC Symbol               NaN   \n",
       "30648      107  ENSG00000000457.14     SCYL3  HGNC Symbol               NaN   \n",
       "30649      107  ENSG00000000460.17  C1orf112  HGNC Symbol               NaN   \n",
       "...        ...                 ...       ...          ...               ...   \n",
       "75384      107   ENSG00000288702.1    UGT1A3  HGNC Symbol               NaN   \n",
       "75386      107   ENSG00000288709.1      F8A2  HGNC Symbol               NaN   \n",
       "75389      107   ENSG00000288825.1    H2AC18  HGNC Symbol               NaN   \n",
       "75397      107   ENSG00000289604.1    CTAGE8  HGNC Symbol               NaN   \n",
       "75401      107   ENSG00000289731.1   FAM153B  HGNC Symbol               NaN   \n",
       "\n",
       "       xref_identity  \n",
       "30645            NaN  \n",
       "30646            NaN  \n",
       "30647            NaN  \n",
       "30648            NaN  \n",
       "30649            NaN  \n",
       "...              ...  \n",
       "75384            NaN  \n",
       "75386            NaN  \n",
       "75389            NaN  \n",
       "75397            NaN  \n",
       "75401            NaN  \n",
       "\n",
       "[22031 rows x 6 columns]"
      ]
     },
     "execution_count": 13,
     "metadata": {},
     "output_type": "execute_result"
    }
   ],
   "source": [
    "df_ciro"
   ]
  },
  {
   "cell_type": "code",
   "execution_count": 15,
   "id": "e8df343d-52b1-4475-9062-ecc6a046985e",
   "metadata": {},
   "outputs": [
    {
     "name": "stdout",
     "output_type": "stream",
     "text": [
      "79, 80, 81, 82, 83, 84, 85, 86, 87, 88, 89, 90, 91, 92, 93, 94, 95, 96, 97, 98, 99, 100, 101, 102, 103, 104, 105, 106, 107, "
     ]
    }
   ],
   "source": [
    "import pandas as pd\n",
    "\n",
    "for i in range(79, 108):\n",
    "    print(i, end=', ')\n",
    "    exts_ = dm.change_release(i).get_db('external_relevant')\n",
    "    exts_=exts_[exts_['name_db'] == 'HGNC Symbol']\n",
    "    exts=pd.concat([exts, exts_])"
   ]
  },
  {
   "cell_type": "code",
   "execution_count": 16,
   "id": "d134a8f6-ad0f-4eca-8372-764f2d75d96d",
   "metadata": {},
   "outputs": [
    {
     "data": {
      "text/plain": [
       "(22456, 6)"
      ]
     },
     "execution_count": 16,
     "metadata": {},
     "output_type": "execute_result"
    }
   ],
   "source": [
    "df_ciro_u = exts[exts[\"graph_id\"].isin(all_targets)]\n",
    "df_ciro_u = df_ciro_u.drop_duplicates([\"graph_id\", \"id_db\"])\n",
    "df_ciro_u.shape"
   ]
  },
  {
   "cell_type": "code",
   "execution_count": 69,
   "id": "43927919-1d48-4ffb-9f59-b39ffbd6dc71",
   "metadata": {},
   "outputs": [
    {
     "data": {
      "text/html": [
       "<div>\n",
       "<style scoped>\n",
       "    .dataframe tbody tr th:only-of-type {\n",
       "        vertical-align: middle;\n",
       "    }\n",
       "\n",
       "    .dataframe tbody tr th {\n",
       "        vertical-align: top;\n",
       "    }\n",
       "\n",
       "    .dataframe thead th {\n",
       "        text-align: right;\n",
       "    }\n",
       "</style>\n",
       "<table border=\"1\" class=\"dataframe\">\n",
       "  <thead>\n",
       "    <tr style=\"text-align: right;\">\n",
       "      <th></th>\n",
       "      <th>release</th>\n",
       "      <th>graph_id</th>\n",
       "      <th>id_db</th>\n",
       "      <th>name_db</th>\n",
       "      <th>ensembl_identity</th>\n",
       "      <th>xref_identity</th>\n",
       "    </tr>\n",
       "  </thead>\n",
       "  <tbody>\n",
       "  </tbody>\n",
       "</table>\n",
       "</div>"
      ],
      "text/plain": [
       "Empty DataFrame\n",
       "Columns: [release, graph_id, id_db, name_db, ensembl_identity, xref_identity]\n",
       "Index: []"
      ]
     },
     "execution_count": 69,
     "metadata": {},
     "output_type": "execute_result"
    }
   ],
   "source": [
    "df_ciro_u[df_ciro_u['id_db'] == \"CKMT1A\"]"
   ]
  },
  {
   "cell_type": "code",
   "execution_count": 70,
   "id": "ff5722c6-7e10-4f89-930e-308333a6a5f9",
   "metadata": {},
   "outputs": [
    {
     "data": {
      "text/html": [
       "<div>\n",
       "<style scoped>\n",
       "    .dataframe tbody tr th:only-of-type {\n",
       "        vertical-align: middle;\n",
       "    }\n",
       "\n",
       "    .dataframe tbody tr th {\n",
       "        vertical-align: top;\n",
       "    }\n",
       "\n",
       "    .dataframe thead th {\n",
       "        text-align: right;\n",
       "    }\n",
       "</style>\n",
       "<table border=\"1\" class=\"dataframe\">\n",
       "  <thead>\n",
       "    <tr style=\"text-align: right;\">\n",
       "      <th></th>\n",
       "      <th>release</th>\n",
       "      <th>graph_id</th>\n",
       "      <th>id_db</th>\n",
       "      <th>name_db</th>\n",
       "      <th>ensembl_identity</th>\n",
       "      <th>xref_identity</th>\n",
       "    </tr>\n",
       "  </thead>\n",
       "  <tbody>\n",
       "  </tbody>\n",
       "</table>\n",
       "</div>"
      ],
      "text/plain": [
       "Empty DataFrame\n",
       "Columns: [release, graph_id, id_db, name_db, ensembl_identity, xref_identity]\n",
       "Index: []"
      ]
     },
     "execution_count": 70,
     "metadata": {},
     "output_type": "execute_result"
    }
   ],
   "source": [
    "df_ciro[df_ciro['id_db'] == \"CKMT1A\"]"
   ]
  },
  {
   "cell_type": "code",
   "execution_count": 56,
   "id": "3c5d8dac-df3c-42be-866c-70acb48659d1",
   "metadata": {},
   "outputs": [
    {
     "name": "stdout",
     "output_type": "stream",
     "text": [
      "79, 80, 81, 82, 83, 84, 85, 86, 87, 88, 89, 90, 91, 92, 93, 94, 95, 96, 97, 98, 99, 100, 101, 102, 103, 104, 105, 106, 107, "
     ]
    }
   ],
   "source": [
    "for i in range(79, 108):\n",
    "    print(i, end=', ')\n",
    "    exts_ = dm.change_release(i).get_db('external_relevant')\n",
    "    exts_=exts_[exts_['name_db'] == 'CKMT1A']\n",
    "    if len(exts_) > 0:\n",
    "        print(i)\n",
    "        break\n",
    "#    exts=pd.concat([exts, exts_])"
   ]
  },
  {
   "cell_type": "code",
   "execution_count": 55,
   "id": "e0771b41-a4ef-4bf2-b51d-a5bb5f85a09a",
   "metadata": {},
   "outputs": [
    {
     "data": {
      "text/plain": [
       "40902"
      ]
     },
     "execution_count": 55,
     "metadata": {},
     "output_type": "execute_result"
    }
   ],
   "source": [
    "len(df_ciro_u)"
   ]
  },
  {
   "cell_type": "code",
   "execution_count": null,
   "id": "20671e05-0dab-4d26-bb20-b657f5eef5f8",
   "metadata": {},
   "outputs": [],
   "source": []
  },
  {
   "cell_type": "code",
   "execution_count": 66,
   "id": "f6648fee-be78-47fd-8739-ff24bff324fb",
   "metadata": {},
   "outputs": [
    {
     "data": {
      "text/html": [
       "<div>\n",
       "<style scoped>\n",
       "    .dataframe tbody tr th:only-of-type {\n",
       "        vertical-align: middle;\n",
       "    }\n",
       "\n",
       "    .dataframe tbody tr th {\n",
       "        vertical-align: top;\n",
       "    }\n",
       "\n",
       "    .dataframe thead th {\n",
       "        text-align: right;\n",
       "    }\n",
       "</style>\n",
       "<table border=\"1\" class=\"dataframe\">\n",
       "  <thead>\n",
       "    <tr style=\"text-align: right;\">\n",
       "      <th></th>\n",
       "      <th>release</th>\n",
       "      <th>graph_id</th>\n",
       "      <th>id_db</th>\n",
       "      <th>name_db</th>\n",
       "      <th>ensembl_identity</th>\n",
       "      <th>xref_identity</th>\n",
       "    </tr>\n",
       "  </thead>\n",
       "  <tbody>\n",
       "    <tr>\n",
       "      <th>53910</th>\n",
       "      <td>107</td>\n",
       "      <td>ENSG00000223572.10</td>\n",
       "      <td>CKMT1A</td>\n",
       "      <td>HGNC Symbol</td>\n",
       "      <td>NaN</td>\n",
       "      <td>NaN</td>\n",
       "    </tr>\n",
       "    <tr>\n",
       "      <th>70502</th>\n",
       "      <td>100</td>\n",
       "      <td>ENSG00000223572.10</td>\n",
       "      <td>CKMT1A</td>\n",
       "      <td>HGNC Symbol</td>\n",
       "      <td>NaN</td>\n",
       "      <td>NaN</td>\n",
       "    </tr>\n",
       "    <tr>\n",
       "      <th>75770</th>\n",
       "      <td>101</td>\n",
       "      <td>ENSG00000223572.10</td>\n",
       "      <td>CKMT1A</td>\n",
       "      <td>HGNC Symbol</td>\n",
       "      <td>NaN</td>\n",
       "      <td>NaN</td>\n",
       "    </tr>\n",
       "    <tr>\n",
       "      <th>76869</th>\n",
       "      <td>102</td>\n",
       "      <td>ENSG00000223572.10</td>\n",
       "      <td>CKMT1A</td>\n",
       "      <td>HGNC Symbol</td>\n",
       "      <td>NaN</td>\n",
       "      <td>NaN</td>\n",
       "    </tr>\n",
       "    <tr>\n",
       "      <th>74978</th>\n",
       "      <td>103</td>\n",
       "      <td>ENSG00000223572.10</td>\n",
       "      <td>CKMT1A</td>\n",
       "      <td>HGNC Symbol</td>\n",
       "      <td>NaN</td>\n",
       "      <td>NaN</td>\n",
       "    </tr>\n",
       "    <tr>\n",
       "      <th>53185</th>\n",
       "      <td>104</td>\n",
       "      <td>ENSG00000223572.10</td>\n",
       "      <td>CKMT1A</td>\n",
       "      <td>HGNC Symbol</td>\n",
       "      <td>NaN</td>\n",
       "      <td>NaN</td>\n",
       "    </tr>\n",
       "    <tr>\n",
       "      <th>53661</th>\n",
       "      <td>105</td>\n",
       "      <td>ENSG00000223572.10</td>\n",
       "      <td>CKMT1A</td>\n",
       "      <td>HGNC Symbol</td>\n",
       "      <td>NaN</td>\n",
       "      <td>NaN</td>\n",
       "    </tr>\n",
       "    <tr>\n",
       "      <th>50535</th>\n",
       "      <td>106</td>\n",
       "      <td>ENSG00000223572.10</td>\n",
       "      <td>CKMT1A</td>\n",
       "      <td>HGNC Symbol</td>\n",
       "      <td>NaN</td>\n",
       "      <td>NaN</td>\n",
       "    </tr>\n",
       "  </tbody>\n",
       "</table>\n",
       "</div>"
      ],
      "text/plain": [
       "       release            graph_id   id_db      name_db  ensembl_identity  \\\n",
       "53910      107  ENSG00000223572.10  CKMT1A  HGNC Symbol               NaN   \n",
       "70502      100  ENSG00000223572.10  CKMT1A  HGNC Symbol               NaN   \n",
       "75770      101  ENSG00000223572.10  CKMT1A  HGNC Symbol               NaN   \n",
       "76869      102  ENSG00000223572.10  CKMT1A  HGNC Symbol               NaN   \n",
       "74978      103  ENSG00000223572.10  CKMT1A  HGNC Symbol               NaN   \n",
       "53185      104  ENSG00000223572.10  CKMT1A  HGNC Symbol               NaN   \n",
       "53661      105  ENSG00000223572.10  CKMT1A  HGNC Symbol               NaN   \n",
       "50535      106  ENSG00000223572.10  CKMT1A  HGNC Symbol               NaN   \n",
       "\n",
       "       xref_identity  \n",
       "53910            NaN  \n",
       "70502            NaN  \n",
       "75770            NaN  \n",
       "76869            NaN  \n",
       "74978            NaN  \n",
       "53185            NaN  \n",
       "53661            NaN  \n",
       "50535            NaN  "
      ]
     },
     "execution_count": 66,
     "metadata": {},
     "output_type": "execute_result"
    }
   ],
   "source": [
    "exts[exts[\"graph_id\"] == \"ENSG00000223572.10\"]"
   ]
  },
  {
   "cell_type": "code",
   "execution_count": 101,
   "id": "0d16e81e-fdea-4b2c-8d35-c17991ecba18",
   "metadata": {},
   "outputs": [
    {
     "data": {
      "text/plain": [
       "{'ENSG00000203668.3': [1,\n",
       "  1,\n",
       "  nan,\n",
       "  0,\n",
       "  (('OPN3', 'ENSG00000203668.3', 0, ('ensembl_gene', 102)),)],\n",
       " 'ENSG00000054277.14': [1,\n",
       "  1,\n",
       "  nan,\n",
       "  0,\n",
       "  (('OPN3', 'ENSG00000054277.14', 0, ('ensembl_gene', 96)),)]}"
      ]
     },
     "execution_count": 101,
     "metadata": {},
     "output_type": "execute_result"
    }
   ],
   "source": [
    "tt.convert(\"OPN3\", None, None, 'ensembl_gene', prioritize_to_one_filter=False, return_path=True)"
   ]
  },
  {
   "cell_type": "code",
   "execution_count": 100,
   "id": "1f676cc5-a183-46da-b1cf-b30b73ddbfa6",
   "metadata": {},
   "outputs": [
    {
     "data": {
      "text/plain": [
       "{'ENSG00000237289.10': [1,\n",
       "  1,\n",
       "  nan,\n",
       "  0,\n",
       "  (('CKMT1B', 'ENSG00000237289.10', 0, ('ensembl_gene', 100)),)],\n",
       " 'ENSG00000223572.10': [1,\n",
       "  3,\n",
       "  nan,\n",
       "  0,\n",
       "  (('CKMT1B', 'ENSG00000223572.5', 0, ('assembly_37_ensembl_gene', 100)),\n",
       "   ('ENSG00000223572.5', '548596', 0, ('external', 100)),\n",
       "   ('548596', 'ENSG00000223572.10', 0, ('ensembl_gene', 100)))]}"
      ]
     },
     "execution_count": 100,
     "metadata": {},
     "output_type": "execute_result"
    }
   ],
   "source": [
    "tt.convert(\"CKMT1B\", None, None, 'ensembl_gene', prioritize_to_one_filter=False, return_path=True)"
   ]
  },
  {
   "cell_type": "code",
   "execution_count": 82,
   "id": "7acef54a-71ec-4dc2-9705-65dc92ae8c4b",
   "metadata": {},
   "outputs": [
    {
     "data": {
      "text/plain": [
       "['1159',\n",
       " '548596',\n",
       " 'CKMT1A',\n",
       " 'CKMT1B',\n",
       " 'OTTHUMG00000059898',\n",
       " 'ENST00000434505.1',\n",
       " 'ENST00000411750.1',\n",
       " 'ENST00000413453.2',\n",
       " 'ENST00000415044.1']"
      ]
     },
     "execution_count": 82,
     "metadata": {},
     "output_type": "execute_result"
    }
   ],
   "source": [
    "list(tt.reverse_graph.neighbors(\"ENSG00000223572.5\"))"
   ]
  },
  {
   "cell_type": "code",
   "execution_count": 85,
   "id": "07fef916-939e-477c-acd4-9d011ce771da",
   "metadata": {},
   "outputs": [
    {
     "data": {
      "text/plain": [
       "AdjacencyView({'ENSG00000223572.8': {0: {'releases': {80, 79}}}, 'ENSG00000223572.9': {0: {'releases': {81, 82, 83, 84, 85, 86, 87, 88, 89, 90, 91, 92, 93, 94, 95, 96, 97, 98, 99}}}, 'ENSG00000223572.10': {0: {'releases': {100, 101, 102, 103, 104, 105, 106, 107}}}})"
      ]
     },
     "execution_count": 85,
     "metadata": {},
     "output_type": "execute_result"
    }
   ],
   "source": [
    "tt.graph[\"ENSG00000223572\"]"
   ]
  },
  {
   "cell_type": "code",
   "execution_count": 94,
   "id": "5d644a27-69d1-4a8a-a982-1e8ea1b504f8",
   "metadata": {},
   "outputs": [
    {
     "data": {
      "text/plain": [
       "[True,\n",
       " True,\n",
       " True,\n",
       " True,\n",
       " True,\n",
       " True,\n",
       " True,\n",
       " True,\n",
       " True,\n",
       " True,\n",
       " True,\n",
       " True,\n",
       " True,\n",
       " True,\n",
       " True,\n",
       " True,\n",
       " True,\n",
       " True,\n",
       " True,\n",
       " True,\n",
       " True,\n",
       " True,\n",
       " True,\n",
       " True,\n",
       " True,\n",
       " True,\n",
       " False]"
      ]
     },
     "execution_count": 94,
     "metadata": {},
     "output_type": "execute_result"
    }
   ],
   "source": [
    "['CKMT1A' in results[i].keys() for i in results]"
   ]
  },
  {
   "cell_type": "code",
   "execution_count": null,
   "id": "58067801-34c7-4cd1-921b-4b20ca0887dc",
   "metadata": {},
   "outputs": [],
   "source": []
  },
  {
   "cell_type": "code",
   "execution_count": null,
   "id": "b5f1a7f8-6880-4bda-a7a6-0aed1bb42053",
   "metadata": {},
   "outputs": [],
   "source": []
  },
  {
   "cell_type": "code",
   "execution_count": 20,
   "id": "8fd2c24d-43b6-4d4e-b16e-52558f8a9bbc",
   "metadata": {},
   "outputs": [],
   "source": [
    "df_ciro_u[['graph_id', 'id_db']].to_csv(\"/lustre/groups/ml01/workspace/kemal.inecik/hlca_id_mapping_preliminary/results_preliminary_for_hlca_gene_name_ensembl_matching_V2_ALL.csv\", \n",
    "               index=False)"
   ]
  },
  {
   "cell_type": "code",
   "execution_count": 21,
   "id": "c1a918dd-9fef-4803-b745-e9dbb1d43e24",
   "metadata": {},
   "outputs": [
    {
     "data": {
      "text/html": [
       "<div>\n",
       "<style scoped>\n",
       "    .dataframe tbody tr th:only-of-type {\n",
       "        vertical-align: middle;\n",
       "    }\n",
       "\n",
       "    .dataframe tbody tr th {\n",
       "        vertical-align: top;\n",
       "    }\n",
       "\n",
       "    .dataframe thead th {\n",
       "        text-align: right;\n",
       "    }\n",
       "</style>\n",
       "<table border=\"1\" class=\"dataframe\">\n",
       "  <thead>\n",
       "    <tr style=\"text-align: right;\">\n",
       "      <th></th>\n",
       "      <th>graph_id</th>\n",
       "      <th>id_db</th>\n",
       "    </tr>\n",
       "  </thead>\n",
       "  <tbody>\n",
       "    <tr>\n",
       "      <th>0</th>\n",
       "      <td>ENSG00000000003.15</td>\n",
       "      <td>TSPAN6</td>\n",
       "    </tr>\n",
       "    <tr>\n",
       "      <th>1</th>\n",
       "      <td>ENSG00000000005.6</td>\n",
       "      <td>TNMD</td>\n",
       "    </tr>\n",
       "    <tr>\n",
       "      <th>2</th>\n",
       "      <td>ENSG00000000419.14</td>\n",
       "      <td>DPM1</td>\n",
       "    </tr>\n",
       "    <tr>\n",
       "      <th>3</th>\n",
       "      <td>ENSG00000000457.14</td>\n",
       "      <td>SCYL3</td>\n",
       "    </tr>\n",
       "    <tr>\n",
       "      <th>4</th>\n",
       "      <td>ENSG00000000460.17</td>\n",
       "      <td>C1orf112</td>\n",
       "    </tr>\n",
       "    <tr>\n",
       "      <th>...</th>\n",
       "      <td>...</td>\n",
       "      <td>...</td>\n",
       "    </tr>\n",
       "    <tr>\n",
       "      <th>22451</th>\n",
       "      <td>ENSG00000233058.3</td>\n",
       "      <td>LINC00884</td>\n",
       "    </tr>\n",
       "    <tr>\n",
       "      <th>22452</th>\n",
       "      <td>ENSG00000233621.3</td>\n",
       "      <td>LINC01137</td>\n",
       "    </tr>\n",
       "    <tr>\n",
       "      <th>22453</th>\n",
       "      <td>ENSG00000235703.7</td>\n",
       "      <td>LINC00894</td>\n",
       "    </tr>\n",
       "    <tr>\n",
       "      <th>22454</th>\n",
       "      <td>ENSG00000167085.14</td>\n",
       "      <td>PHB</td>\n",
       "    </tr>\n",
       "    <tr>\n",
       "      <th>22455</th>\n",
       "      <td>ENSG00000188707.7</td>\n",
       "      <td>ZBED6CL</td>\n",
       "    </tr>\n",
       "  </tbody>\n",
       "</table>\n",
       "<p>22456 rows × 2 columns</p>\n",
       "</div>"
      ],
      "text/plain": [
       "                 graph_id      id_db\n",
       "0      ENSG00000000003.15     TSPAN6\n",
       "1       ENSG00000000005.6       TNMD\n",
       "2      ENSG00000000419.14       DPM1\n",
       "3      ENSG00000000457.14      SCYL3\n",
       "4      ENSG00000000460.17   C1orf112\n",
       "...                   ...        ...\n",
       "22451   ENSG00000233058.3  LINC00884\n",
       "22452   ENSG00000233621.3  LINC01137\n",
       "22453   ENSG00000235703.7  LINC00894\n",
       "22454  ENSG00000167085.14        PHB\n",
       "22455   ENSG00000188707.7    ZBED6CL\n",
       "\n",
       "[22456 rows x 2 columns]"
      ]
     },
     "execution_count": 21,
     "metadata": {},
     "output_type": "execute_result"
    }
   ],
   "source": [
    "pd.read_csv(\"/lustre/groups/ml01/workspace/kemal.inecik/hlca_id_mapping_preliminary/results_preliminary_for_hlca_gene_name_ensembl_matching_V2_ALL.csv\")"
   ]
  },
  {
   "cell_type": "code",
   "execution_count": null,
   "id": "3cf3544e-0b57-4225-a4d0-45b64b4aa6c1",
   "metadata": {},
   "outputs": [],
   "source": []
  },
  {
   "cell_type": "code",
   "execution_count": null,
   "id": "b9ea0ef6-6a72-4d00-89fa-16ffd5b1c060",
   "metadata": {},
   "outputs": [],
   "source": [
    "neighbors"
   ]
  },
  {
   "cell_type": "code",
   "execution_count": 27,
   "id": "1eb44a81-f92b-45aa-bc37-006167607d0a",
   "metadata": {},
   "outputs": [
    {
     "data": {
      "text/plain": [
       "True"
      ]
     },
     "execution_count": 27,
     "metadata": {},
     "output_type": "execute_result"
    }
   ],
   "source": [
    "'CHML' in list(df_ciro_u['id_db'])"
   ]
  },
  {
   "cell_type": "code",
   "execution_count": 11,
   "id": "391325a4-3d4b-4149-9d0c-a9cca39c0846",
   "metadata": {},
   "outputs": [
    {
     "data": {
      "text/plain": [
       "True"
      ]
     },
     "execution_count": 11,
     "metadata": {},
     "output_type": "execute_result"
    }
   ],
   "source": [
    "'MT-CO1' in list(df_ciro['id_db'])"
   ]
  },
  {
   "cell_type": "code",
   "execution_count": 21,
   "id": "21999b3f-a814-4fa7-b5b8-8ecea72a6c22",
   "metadata": {},
   "outputs": [
    {
     "data": {
      "text/plain": [
       "False"
      ]
     },
     "execution_count": 21,
     "metadata": {},
     "output_type": "execute_result"
    }
   ],
   "source": [
    "'COX1' in list(df_ciro['id_db'])"
   ]
  },
  {
   "cell_type": "code",
   "execution_count": 23,
   "id": "8e2fd355-f72a-44fe-bbe3-ee4118531e11",
   "metadata": {},
   "outputs": [
    {
     "data": {
      "text/plain": [
       "'/lustre/groups/ml01/workspace/kemal.inecik/idtrack_temp/results_preliminary_for_hlca_gene_name_ensembl_matching.pk'"
      ]
     },
     "execution_count": 23,
     "metadata": {},
     "output_type": "execute_result"
    }
   ],
   "source": [
    "df_ciro.to_pickle(os.path.join(local_dir, \"results_preliminary_for_hlca_gene_name_ensembl_matching.pk\"))\n",
    "os.path.join(local_dir, \"results_preliminary_for_hlca_gene_name_ensembl_matching.pk\")"
   ]
  },
  {
   "cell_type": "code",
   "execution_count": 30,
   "id": "4581e057-f050-4954-99d4-54c975f2dfce",
   "metadata": {},
   "outputs": [],
   "source": [
    "df_ciro[['graph_id', 'id_db']].to_csv(\"/lustre/groups/ml01/workspace/kemal.inecik/hlca_id_mapping_preliminary/results_preliminary_for_hlca_gene_name_ensembl_matching.csv\", \n",
    "               index=False)"
   ]
  },
  {
   "cell_type": "code",
   "execution_count": 31,
   "id": "e37fce12-1685-45e6-a023-0ac8f89f6325",
   "metadata": {},
   "outputs": [
    {
     "data": {
      "text/html": [
       "<div>\n",
       "<style scoped>\n",
       "    .dataframe tbody tr th:only-of-type {\n",
       "        vertical-align: middle;\n",
       "    }\n",
       "\n",
       "    .dataframe tbody tr th {\n",
       "        vertical-align: top;\n",
       "    }\n",
       "\n",
       "    .dataframe thead th {\n",
       "        text-align: right;\n",
       "    }\n",
       "</style>\n",
       "<table border=\"1\" class=\"dataframe\">\n",
       "  <thead>\n",
       "    <tr style=\"text-align: right;\">\n",
       "      <th></th>\n",
       "      <th>graph_id</th>\n",
       "      <th>id_db</th>\n",
       "    </tr>\n",
       "  </thead>\n",
       "  <tbody>\n",
       "    <tr>\n",
       "      <th>0</th>\n",
       "      <td>ENSG00000000003.15</td>\n",
       "      <td>TSPAN6</td>\n",
       "    </tr>\n",
       "    <tr>\n",
       "      <th>1</th>\n",
       "      <td>ENSG00000000005.6</td>\n",
       "      <td>TNMD</td>\n",
       "    </tr>\n",
       "    <tr>\n",
       "      <th>2</th>\n",
       "      <td>ENSG00000000419.14</td>\n",
       "      <td>DPM1</td>\n",
       "    </tr>\n",
       "    <tr>\n",
       "      <th>3</th>\n",
       "      <td>ENSG00000000457.14</td>\n",
       "      <td>SCYL3</td>\n",
       "    </tr>\n",
       "    <tr>\n",
       "      <th>4</th>\n",
       "      <td>ENSG00000000460.17</td>\n",
       "      <td>C1orf112</td>\n",
       "    </tr>\n",
       "    <tr>\n",
       "      <th>...</th>\n",
       "      <td>...</td>\n",
       "      <td>...</td>\n",
       "    </tr>\n",
       "    <tr>\n",
       "      <th>39735</th>\n",
       "      <td>ENSG00000289549.1</td>\n",
       "      <td>PPIAL4D</td>\n",
       "    </tr>\n",
       "    <tr>\n",
       "      <th>39736</th>\n",
       "      <td>ENSG00000289604.1</td>\n",
       "      <td>CTAGE8</td>\n",
       "    </tr>\n",
       "    <tr>\n",
       "      <th>39737</th>\n",
       "      <td>ENSG00000289731.1</td>\n",
       "      <td>FAM153B</td>\n",
       "    </tr>\n",
       "    <tr>\n",
       "      <th>39738</th>\n",
       "      <td>ENSG00000289811.1</td>\n",
       "      <td>FAM95A</td>\n",
       "    </tr>\n",
       "    <tr>\n",
       "      <th>39739</th>\n",
       "      <td>LRG_358.1</td>\n",
       "      <td>TICAM1</td>\n",
       "    </tr>\n",
       "  </tbody>\n",
       "</table>\n",
       "<p>39740 rows × 2 columns</p>\n",
       "</div>"
      ],
      "text/plain": [
       "                 graph_id     id_db\n",
       "0      ENSG00000000003.15    TSPAN6\n",
       "1       ENSG00000000005.6      TNMD\n",
       "2      ENSG00000000419.14      DPM1\n",
       "3      ENSG00000000457.14     SCYL3\n",
       "4      ENSG00000000460.17  C1orf112\n",
       "...                   ...       ...\n",
       "39735   ENSG00000289549.1   PPIAL4D\n",
       "39736   ENSG00000289604.1    CTAGE8\n",
       "39737   ENSG00000289731.1   FAM153B\n",
       "39738   ENSG00000289811.1    FAM95A\n",
       "39739           LRG_358.1    TICAM1\n",
       "\n",
       "[39740 rows x 2 columns]"
      ]
     },
     "execution_count": 31,
     "metadata": {},
     "output_type": "execute_result"
    }
   ],
   "source": [
    "pd.read_csv(\"/lustre/groups/ml01/workspace/kemal.inecik/hlca_id_mapping_preliminary/results_preliminary_for_hlca_gene_name_ensembl_matching.csv\")"
   ]
  },
  {
   "cell_type": "code",
   "execution_count": 20,
   "id": "08ef780b-4b38-4911-b318-63e20517b1d3",
   "metadata": {},
   "outputs": [
    {
     "data": {
      "text/html": [
       "<div>\n",
       "<style scoped>\n",
       "    .dataframe tbody tr th:only-of-type {\n",
       "        vertical-align: middle;\n",
       "    }\n",
       "\n",
       "    .dataframe tbody tr th {\n",
       "        vertical-align: top;\n",
       "    }\n",
       "\n",
       "    .dataframe thead th {\n",
       "        text-align: right;\n",
       "    }\n",
       "</style>\n",
       "<table border=\"1\" class=\"dataframe\">\n",
       "  <thead>\n",
       "    <tr style=\"text-align: right;\">\n",
       "      <th></th>\n",
       "      <th>release</th>\n",
       "      <th>graph_id</th>\n",
       "      <th>id_db</th>\n",
       "      <th>name_db</th>\n",
       "      <th>ensembl_identity</th>\n",
       "      <th>xref_identity</th>\n",
       "    </tr>\n",
       "  </thead>\n",
       "  <tbody>\n",
       "    <tr>\n",
       "      <th>30645</th>\n",
       "      <td>107</td>\n",
       "      <td>ENSG00000000003.15</td>\n",
       "      <td>TSPAN6</td>\n",
       "      <td>HGNC Symbol</td>\n",
       "      <td>NaN</td>\n",
       "      <td>NaN</td>\n",
       "    </tr>\n",
       "    <tr>\n",
       "      <th>30646</th>\n",
       "      <td>107</td>\n",
       "      <td>ENSG00000000005.6</td>\n",
       "      <td>TNMD</td>\n",
       "      <td>HGNC Symbol</td>\n",
       "      <td>NaN</td>\n",
       "      <td>NaN</td>\n",
       "    </tr>\n",
       "    <tr>\n",
       "      <th>30647</th>\n",
       "      <td>107</td>\n",
       "      <td>ENSG00000000419.14</td>\n",
       "      <td>DPM1</td>\n",
       "      <td>HGNC Symbol</td>\n",
       "      <td>NaN</td>\n",
       "      <td>NaN</td>\n",
       "    </tr>\n",
       "    <tr>\n",
       "      <th>30648</th>\n",
       "      <td>107</td>\n",
       "      <td>ENSG00000000457.14</td>\n",
       "      <td>SCYL3</td>\n",
       "      <td>HGNC Symbol</td>\n",
       "      <td>NaN</td>\n",
       "      <td>NaN</td>\n",
       "    </tr>\n",
       "    <tr>\n",
       "      <th>30649</th>\n",
       "      <td>107</td>\n",
       "      <td>ENSG00000000460.17</td>\n",
       "      <td>C1orf112</td>\n",
       "      <td>HGNC Symbol</td>\n",
       "      <td>NaN</td>\n",
       "      <td>NaN</td>\n",
       "    </tr>\n",
       "    <tr>\n",
       "      <th>...</th>\n",
       "      <td>...</td>\n",
       "      <td>...</td>\n",
       "      <td>...</td>\n",
       "      <td>...</td>\n",
       "      <td>...</td>\n",
       "      <td>...</td>\n",
       "    </tr>\n",
       "    <tr>\n",
       "      <th>75396</th>\n",
       "      <td>107</td>\n",
       "      <td>ENSG00000289549.1</td>\n",
       "      <td>PPIAL4D</td>\n",
       "      <td>HGNC Symbol</td>\n",
       "      <td>NaN</td>\n",
       "      <td>NaN</td>\n",
       "    </tr>\n",
       "    <tr>\n",
       "      <th>75397</th>\n",
       "      <td>107</td>\n",
       "      <td>ENSG00000289604.1</td>\n",
       "      <td>CTAGE8</td>\n",
       "      <td>HGNC Symbol</td>\n",
       "      <td>NaN</td>\n",
       "      <td>NaN</td>\n",
       "    </tr>\n",
       "    <tr>\n",
       "      <th>75401</th>\n",
       "      <td>107</td>\n",
       "      <td>ENSG00000289731.1</td>\n",
       "      <td>FAM153B</td>\n",
       "      <td>HGNC Symbol</td>\n",
       "      <td>NaN</td>\n",
       "      <td>NaN</td>\n",
       "    </tr>\n",
       "    <tr>\n",
       "      <th>75403</th>\n",
       "      <td>107</td>\n",
       "      <td>ENSG00000289811.1</td>\n",
       "      <td>FAM95A</td>\n",
       "      <td>HGNC Symbol</td>\n",
       "      <td>NaN</td>\n",
       "      <td>NaN</td>\n",
       "    </tr>\n",
       "    <tr>\n",
       "      <th>76118</th>\n",
       "      <td>107</td>\n",
       "      <td>LRG_358.1</td>\n",
       "      <td>TICAM1</td>\n",
       "      <td>HGNC Symbol</td>\n",
       "      <td>NaN</td>\n",
       "      <td>NaN</td>\n",
       "    </tr>\n",
       "  </tbody>\n",
       "</table>\n",
       "<p>39740 rows × 6 columns</p>\n",
       "</div>"
      ],
      "text/plain": [
       "       release            graph_id     id_db      name_db  ensembl_identity  \\\n",
       "30645      107  ENSG00000000003.15    TSPAN6  HGNC Symbol               NaN   \n",
       "30646      107   ENSG00000000005.6      TNMD  HGNC Symbol               NaN   \n",
       "30647      107  ENSG00000000419.14      DPM1  HGNC Symbol               NaN   \n",
       "30648      107  ENSG00000000457.14     SCYL3  HGNC Symbol               NaN   \n",
       "30649      107  ENSG00000000460.17  C1orf112  HGNC Symbol               NaN   \n",
       "...        ...                 ...       ...          ...               ...   \n",
       "75396      107   ENSG00000289549.1   PPIAL4D  HGNC Symbol               NaN   \n",
       "75397      107   ENSG00000289604.1    CTAGE8  HGNC Symbol               NaN   \n",
       "75401      107   ENSG00000289731.1   FAM153B  HGNC Symbol               NaN   \n",
       "75403      107   ENSG00000289811.1    FAM95A  HGNC Symbol               NaN   \n",
       "76118      107           LRG_358.1    TICAM1  HGNC Symbol               NaN   \n",
       "\n",
       "       xref_identity  \n",
       "30645            NaN  \n",
       "30646            NaN  \n",
       "30647            NaN  \n",
       "30648            NaN  \n",
       "30649            NaN  \n",
       "...              ...  \n",
       "75396            NaN  \n",
       "75397            NaN  \n",
       "75401            NaN  \n",
       "75403            NaN  \n",
       "76118            NaN  \n",
       "\n",
       "[39740 rows x 6 columns]"
      ]
     },
     "execution_count": 20,
     "metadata": {},
     "output_type": "execute_result"
    }
   ],
   "source": [
    "import pandas as pd\n",
    "pd.read_pickle(\"/lustre/groups/ml01/workspace/kemal.inecik/hlca_id_mapping_preliminary/results_preliminary_for_hlca_gene_name_ensembl_matching.pk\")"
   ]
  },
  {
   "cell_type": "code",
   "execution_count": null,
   "id": "086d9c37-dc95-4cb3-ac9c-848ce0a71a2d",
   "metadata": {},
   "outputs": [],
   "source": []
  },
  {
   "cell_type": "code",
   "execution_count": null,
   "id": "f02e844a-30f4-464f-ae1a-5b61606a8276",
   "metadata": {},
   "outputs": [],
   "source": []
  },
  {
   "cell_type": "code",
   "execution_count": null,
   "id": "2b3bea7a-45d9-41b4-ab6b-20f10a901cc6",
   "metadata": {},
   "outputs": [],
   "source": []
  },
  {
   "cell_type": "code",
   "execution_count": 8,
   "id": "f7e40ffe-4cd0-48d3-bcd1-88131f90f899",
   "metadata": {},
   "outputs": [
    {
     "name": "stdout",
     "output_type": "stream",
     "text": [
      "Kaminski_2020\n",
      "Source_Count:45947\n",
      "Target_Count:45378\n",
      "n-to-1_events:305\n",
      "1-to-n_events:0\n",
      "1-to-0_events:411\n",
      "\n",
      "Meyer_2021\n",
      "Source_Count:20922\n",
      "Target_Count:20801\n",
      "n-to-1_events:189\n",
      "1-to-n_events:0\n",
      "1-to-0_events:24\n",
      "\n",
      "MeyerNikolic_unpubl\n",
      "Source_Count:33582\n",
      "Target_Count:32815\n",
      "n-to-1_events:1145\n",
      "1-to-n_events:4\n",
      "1-to-0_events:174\n",
      "\n",
      "Barbry_unpubl\n",
      "Source_Count:16859\n",
      "Target_Count:16768\n",
      "n-to-1_events:126\n",
      "1-to-n_events:1\n",
      "1-to-0_events:29\n",
      "\n",
      "Regev_2021\n",
      "Source_Count:30983\n",
      "Target_Count:30388\n",
      "n-to-1_events:826\n",
      "1-to-n_events:1\n",
      "1-to-0_events:173\n",
      "\n",
      "Thienpont_2018\n",
      "Source_Count:27958\n",
      "Target_Count:27428\n",
      "n-to-1_events:393\n",
      "1-to-n_events:1\n",
      "1-to-0_events:327\n",
      "\n",
      "Budinger_2020\n",
      "Source_Count:26316\n",
      "Target_Count:25943\n",
      "n-to-1_events:545\n",
      "1-to-n_events:1\n",
      "1-to-0_events:96\n",
      "\n",
      "Banovich_Kropski_2020\n",
      "Source_Count:33694\n",
      "Target_Count:32824\n",
      "n-to-1_events:731\n",
      "1-to-n_events:6\n",
      "1-to-0_events:497\n",
      "\n",
      "Sheppard_2020\n",
      "Source_Count:27147\n",
      "Target_Count:26617\n",
      "n-to-1_events:409\n",
      "1-to-n_events:1\n",
      "1-to-0_events:320\n",
      "\n",
      "Wunderink_2021\n",
      "Source_Count:21819\n",
      "Target_Count:21551\n",
      "n-to-1_events:377\n",
      "1-to-n_events:1\n",
      "1-to-0_events:76\n",
      "\n",
      "Lambrechts_2021\n",
      "Source_Count:33538\n",
      "Target_Count:32815\n",
      "n-to-1_events:1127\n",
      "1-to-n_events:4\n",
      "1-to-0_events:148\n",
      "\n",
      "Zhang_2021\n",
      "Source_Count:18474\n",
      "Target_Count:18405\n",
      "n-to-1_events:107\n",
      "1-to-n_events:0\n",
      "1-to-0_events:14\n",
      "\n",
      "Duong_lungMAP_unpubl\n",
      "Source_Count:27678\n",
      "Target_Count:27262\n",
      "n-to-1_events:623\n",
      "1-to-n_events:1\n",
      "1-to-0_events:99\n",
      "\n",
      "Janssen_2020\n",
      "Source_Count:33538\n",
      "Target_Count:32815\n",
      "n-to-1_events:1127\n",
      "1-to-n_events:4\n",
      "1-to-0_events:148\n",
      "\n",
      "Sun_2020\n",
      "Source_Count:26578\n",
      "Target_Count:26213\n",
      "n-to-1_events:524\n",
      "1-to-n_events:1\n",
      "1-to-0_events:98\n",
      "\n",
      "Gomperts_2021\n",
      "Source_Count:31229\n",
      "Target_Count:26036\n",
      "n-to-1_events:9187\n",
      "1-to-n_events:2\n",
      "1-to-0_events:449\n",
      "\n",
      "Eils_2020\n",
      "Source_Count:32738\n",
      "Target_Count:31246\n",
      "n-to-1_events:1157\n",
      "1-to-n_events:3\n",
      "1-to-0_events:895\n",
      "\n",
      "Schiller_2020\n",
      "Source_Count:32104\n",
      "Target_Count:28188\n",
      "n-to-1_events:6474\n",
      "1-to-n_events:1\n",
      "1-to-0_events:641\n",
      "\n",
      "Misharin_Budinger_2018\n",
      "Source_Count:27181\n",
      "Target_Count:26642\n",
      "n-to-1_events:417\n",
      "1-to-n_events:1\n",
      "1-to-0_events:325\n",
      "\n",
      "Shalek_2018\n",
      "Source_Count:25328\n",
      "Target_Count:24488\n",
      "n-to-1_events:492\n",
      "1-to-n_events:1\n",
      "1-to-0_events:589\n",
      "\n",
      "Schiller_2021\n",
      "Source_Count:17533\n",
      "Target_Count:17444\n",
      "n-to-1_events:148\n",
      "1-to-n_events:0\n",
      "1-to-0_events:14\n",
      "\n",
      "Peer_Massague_2020\n",
      "Source_Count:19222\n",
      "Target_Count:19031\n",
      "n-to-1_events:170\n",
      "1-to-n_events:0\n",
      "1-to-0_events:103\n",
      "\n",
      "Lafyatis_2019\n",
      "Source_Count:22164\n",
      "Target_Count:21993\n",
      "n-to-1_events:280\n",
      "1-to-n_events:3\n",
      "1-to-0_events:29\n",
      "\n",
      "Tata_unpubl\n",
      "Source_Count:31915\n",
      "Target_Count:31527\n",
      "n-to-1_events:667\n",
      "1-to-n_events:4\n",
      "1-to-0_events:49\n",
      "\n",
      "Xu_2020\n",
      "Source_Count:32738\n",
      "Target_Count:31246\n",
      "n-to-1_events:1157\n",
      "1-to-n_events:3\n",
      "1-to-0_events:895\n",
      "\n",
      "Sims_2019\n",
      "Source_Count:60725\n",
      "Target_Count:55303\n",
      "n-to-1_events:5680\n",
      "1-to-n_events:8\n",
      "1-to-0_events:1737\n",
      "\n",
      "Schultze_unpubl\n",
      "Source_Count:24532\n",
      "Target_Count:24251\n",
      "n-to-1_events:369\n",
      "1-to-n_events:1\n",
      "1-to-0_events:91\n",
      "\n"
     ]
    }
   ],
   "source": [
    "for database in results:\n",
    "    all_targets = Counter(j for i in results[database] for j in results[database][i])\n",
    "    n_to_1_events = [j for i in results[database] for j in results[database][i] if all_targets[j] != 1]\n",
    "    one_to_events = [i for i in results[database] if len(results[database][i]) > 1]\n",
    "    one_to_0_events = [i for i in results[database] if len(results[database][i]) < 1]\n",
    "    print(f\"{database}\\nSource_Count:{len(results[database])}\\nTarget_Count:{len(all_targets)}\")\n",
    "    print(f\"n-to-1_events:{len(n_to_1_events)}\\n1-to-n_events:{len(one_to_events)}\\n1-to-0_events:{len(one_to_0_events)}\")\n",
    "    print()"
   ]
  },
  {
   "cell_type": "code",
   "execution_count": 31,
   "id": "cd21a7ec-5b4a-4aef-adb1-178f01703f78",
   "metadata": {},
   "outputs": [
    {
     "data": {
      "text/plain": [
       "set()"
      ]
     },
     "execution_count": 31,
     "metadata": {},
     "output_type": "execute_result"
    }
   ],
   "source": [
    "ens_ids_107 = tt.get_id_list('ensembl_gene', 107)\n",
    "ens_ids_107 = set(ens_ids_107)\n",
    "problematic_ids = {i for i in all_targets if i not in ens_ids_107}\n",
    "problematic_ids  # empty if all are from the ens_ids_107"
   ]
  },
  {
   "cell_type": "code",
   "execution_count": 32,
   "id": "5593dc39-fde8-499a-8dfa-8ccff646b800",
   "metadata": {},
   "outputs": [],
   "source": [
    "count = 0\n",
    "for i in all_targets:\n",
    "    if len(tt.synonymous_nodes(i, 2, {\"HGNC Symbol\"}, from_release=107)) == 0:\n",
    "        count += 1"
   ]
  },
  {
   "cell_type": "code",
   "execution_count": 33,
   "id": "36f9f7c1-6828-47db-8b08-32c5f08a9d6e",
   "metadata": {},
   "outputs": [
    {
     "data": {
      "text/plain": [
       "(17428, 57606)"
      ]
     },
     "execution_count": 33,
     "metadata": {},
     "output_type": "execute_result"
    }
   ],
   "source": [
    "count, len(all_targets)"
   ]
  },
  {
   "cell_type": "code",
   "execution_count": null,
   "id": "28772be6-3c12-4fc5-939f-cc64664ffc32",
   "metadata": {},
   "outputs": [],
   "source": []
  },
  {
   "cell_type": "code",
   "execution_count": null,
   "id": "43b522a1-c55a-4b4e-8532-d740528925b6",
   "metadata": {},
   "outputs": [],
   "source": []
  },
  {
   "cell_type": "markdown",
   "id": "ef51aada-eb23-4e70-a75b-2e604efe983a",
   "metadata": {},
   "source": [
    "##### HGNC vs Ensembl gene as targets"
   ]
  },
  {
   "cell_type": "code",
   "execution_count": null,
   "id": "21829a6f-2d39-4e3f-abdb-94253edacca2",
   "metadata": {},
   "outputs": [],
   "source": [
    "ddadaata = \"Kaminski_2020\"\n",
    "adata = sc.read(adata_dict[ddadaata][0])\n",
    "\n",
    "gene_list = list(adata.var.index)\n",
    "entered_gene_list = list()\n",
    "return_list = list()\n",
    "print(ddadaata, len(gene_list))\n",
    "\n",
    "for ind, gl in enumerate(gene_list):\n",
    "    \n",
    "    if ind % 100 == 0 or ind > len(gene_list)-5:\n",
    "        progress_bar(ind, len(gene_list)-1)\n",
    "    \n",
    "    new_gl, is_converted = tt.unfound_node_solutions(gl)\n",
    "    if new_gl is None:\n",
    "        new_gl, is_converted = tt.unfound_node_solutions(f\"{DB.synonym_id_nodes_prefix}{gl}\")\n",
    "        is_converted = True if new_gl is not None else False\n",
    "\n",
    "    if new_gl is None:\n",
    "        return_list.append([])\n",
    "    elif new_gl and is_converted:\n",
    "        conv = tt.convert(new_gl, None, None, 'ensembl_gene', prioritize_to_one_filter=True, return_path=False)\n",
    "        return_list.append(list(conv) if conv is not None else [])\n",
    "        entered_gene_list.append(new_gl)\n",
    "    elif new_gl:\n",
    "        conv = tt.convert(gl, None, None, 'ensembl_gene', prioritize_to_one_filter=True, return_path=False)\n",
    "        return_list.append(list(conv) if conv is not None else [])\n",
    "        entered_gene_list.append(gl)\n",
    "    else:\n",
    "        raise ValueError\n",
    "print(tt.identify_source(entered_gene_list)[0])\n",
    "print(list(Counter([len(i) for i in return_list]).most_common())[:10])\n",
    "print()\n",
    "\n",
    "gene_list = list(adata.var.index)\n",
    "entered_gene_list = list()\n",
    "return_list = list()\n",
    "print(ddadaata, len(gene_list))\n",
    "\n",
    "for ind, gl in enumerate(gene_list):\n",
    "    if ind % 100 == 0 or ind > len(gene_list)-5:\n",
    "        progress_bar(ind, len(gene_list)-1)\n",
    "\n",
    "    new_gl, is_converted = tt.unfound_node_solutions(gl)\n",
    "    if new_gl is None:\n",
    "        new_gl, is_converted = tt.unfound_node_solutions(f\"{DB.synonym_id_nodes_prefix}{gl}\")\n",
    "        is_converted = True if new_gl is not None else False\n",
    "\n",
    "    if new_gl is None:\n",
    "        return_list.append([])\n",
    "    elif new_gl and is_converted:\n",
    "        conv = tt.convert(new_gl, None, None, 'HGNC Symbol', prioritize_to_one_filter=True, return_path=False)\n",
    "        return_list.append(list(conv) if conv is not None else [])\n",
    "        entered_gene_list.append(new_gl)\n",
    "    elif new_gl:\n",
    "        conv = tt.convert(gl, None, None, 'HGNC Symbol', prioritize_to_one_filter=True, return_path=False)\n",
    "        return_list.append(list(conv) if conv is not None else [])\n",
    "        entered_gene_list.append(gl)\n",
    "    else:\n",
    "        raise ValueError\n",
    "print(tt.identify_source(entered_gene_list)[0])\n",
    "print(list(Counter([len(i) for i in return_list]).most_common())[:10])\n",
    "print()"
   ]
  },
  {
   "cell_type": "code",
   "execution_count": null,
   "id": "3b59e275-cde4-4e2c-82ae-504409000cc8",
   "metadata": {},
   "outputs": [],
   "source": [
    "[gene_list[ind] for ind, i in enumerate(return_list) if len(i) == 0][:10]"
   ]
  },
  {
   "cell_type": "code",
   "execution_count": null,
   "id": "e95fe990-37c1-41f1-bd6c-b6638ddbb3ac",
   "metadata": {},
   "outputs": [],
   "source": []
  }
 ],
 "metadata": {
  "kernelspec": {
   "display_name": "Python 3 (ipykernel)",
   "language": "python",
   "name": "python3"
  },
  "language_info": {
   "codemirror_mode": {
    "name": "ipython",
    "version": 3
   },
   "file_extension": ".py",
   "mimetype": "text/x-python",
   "name": "python",
   "nbconvert_exporter": "python",
   "pygments_lexer": "ipython3",
   "version": "3.9.12"
  }
 },
 "nbformat": 4,
 "nbformat_minor": 5
}
