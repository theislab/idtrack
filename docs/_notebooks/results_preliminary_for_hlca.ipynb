{
 "cells": [
  {
   "cell_type": "markdown",
   "id": "f0a953fc-cc27-4a89-b264-153f2f7cad0e",
   "metadata": {},
   "source": [
    "# Use Case: HLCA Datasets"
   ]
  },
  {
   "cell_type": "code",
   "execution_count": 1,
   "id": "44b3f875-10f3-4301-b9e0-b64f25b12dce",
   "metadata": {},
   "outputs": [],
   "source": [
    "import sys\n",
    "sys.path.append(\"../..\")"
   ]
  },
  {
   "cell_type": "code",
   "execution_count": null,
   "id": "fbc5ad8e-5349-4e46-83c3-c9ab16db3052",
   "metadata": {},
   "outputs": [],
   "source": [
    "import os\n",
    "import time\n",
    "import scanpy as sc\n",
    "import idtrack\n",
    "import pickle"
   ]
  },
  {
   "cell_type": "code",
   "execution_count": null,
   "id": "95b8ad71-2ea0-47f7-afed-198dcf005780",
   "metadata": {},
   "outputs": [],
   "source": [
    "%load_ext autoreload\n",
    "%autoreload 2"
   ]
  },
  {
   "cell_type": "markdown",
   "id": "0f5f65a1-9c9d-40ad-aba7-5cd52b01cc97",
   "metadata": {},
   "source": [
    "Initialize the graph and pathfinder"
   ]
  },
  {
   "cell_type": "code",
   "execution_count": 4,
   "id": "19a77f26-5852-4c04-a2a0-cab6bf3a9e75",
   "metadata": {},
   "outputs": [
    {
     "name": "stderr",
     "output_type": "stream",
     "text": [
      "2023-01-29 23:26:20 INFO:graph_maker: The graph is being read.\n"
     ]
    }
   ],
   "source": [
    "local_dir = \"/lustre/groups/ml01/workspace/kemal.inecik/idtrack_temp\"\n",
    "idt = idtrack.API(local_repository=local_dir)\n",
    "idt.configure_logger()\n",
    "idt.initialize_graph(organism_name='homo_sapiens', ensembl_release=107, return_test=True)"
   ]
  },
  {
   "cell_type": "code",
   "execution_count": 5,
   "id": "1376cffc-093d-4893-a9b9-269b8d8d583f",
   "metadata": {},
   "outputs": [
    {
     "name": "stderr",
     "output_type": "stream",
     "text": [
      "2023-01-29 23:27:23 INFO:the_graph: Cached properties being calculated: combined_edges\n",
      "2023-01-29 23:28:07 INFO:the_graph: Cached properties being calculated: combined_edges_assembly_specific_genes\n",
      "2023-01-29 23:28:11 INFO:the_graph: Cached properties being calculated: combined_edges_genes\n",
      "2023-01-29 23:28:24 INFO:the_graph: Cached properties being calculated: lower_chars_graph\n",
      "2023-01-29 23:28:25 INFO:the_graph: Cached properties being calculated: get_active_ranges_of_id\n",
      "2023-01-29 23:28:48 INFO:the_graph: Cached properties being calculated: available_external_databases\n",
      "2023-01-29 23:28:50 INFO:the_graph: Cached properties being calculated: external_database_connection_form\n",
      "2023-01-29 23:29:38 INFO:the_graph: Cached properties being calculated: available_genome_assemblies\n",
      "2023-01-29 23:29:39 INFO:the_graph: Cached properties being calculated: available_external_databases_assembly\n",
      "2023-01-29 23:29:41 INFO:the_graph: Cached properties being calculated: node_trios\n"
     ]
    }
   ],
   "source": [
    "idt.calculate_graph_caches()"
   ]
  },
  {
   "cell_type": "markdown",
   "id": "99722a75-43cb-4947-8cdd-a1bcebbe1b57",
   "metadata": {},
   "source": [
    "The datasets of HLCA"
   ]
  },
  {
   "cell_type": "code",
   "execution_count": 6,
   "id": "dbed66bd-cb19-454c-8d98-a976a8f36b87",
   "metadata": {},
   "outputs": [],
   "source": [
    "base_path = \"/lustre/groups/ml01/workspace/hlca_lisa.sikkema_malte.luecken/HLCA_reproducibility/data\"\n",
    "dset0_dir = os.path.join(base_path, \"HLCA_extended/extension_datasets/ready/full\")\n",
    "dset1_dir = os.path.join(base_path, \"HLCA_extended/extension_datasets/raw\")\n",
    "\n",
    "adata_dict = {\n",
    "    \"Kaminski_2020\": [f\"{dset0_dir}/adams.h5ad\"],\n",
    "    \"Meyer_2021\": [f\"{dset0_dir}/meyer_2021.h5ad\"],\n",
    "    \"MeyerNikolic_unpubl\": [f\"{dset0_dir}/meyer_nikolic_unpubl.h5ad\"],\n",
    "    \"Barbry_unpubl\": [f\"{dset0_dir}/barbry.h5ad\"],\n",
    "    \"Regev_2021\": [\n",
    "        f\"{dset0_dir}/delorey_cryo.h5ad\", f\"{dset0_dir}/delorey_fresh.h5ad\",\n",
    "        f\"{dset0_dir}/delorey_nuclei.h5ad\"\n",
    "    ],\n",
    "    \"Thienpont_2018\": [f\"{dset1_dir}/Lambrechts/lambrechts.h5ad\"],\n",
    "    \"Budinger_2020\": [f\"{dset0_dir}/bharat.h5ad\"],\n",
    "    \"Banovich_Kropski_2020\": [f\"{dset0_dir}/haberman.h5ad\"],\n",
    "    \"Sheppard_2020\": [f\"{dset0_dir}/tsukui.h5ad\"],\n",
    "    \"Wunderink_2021\": [\n",
    "        f\"{dset0_dir}/grant_cryo.h5ad\", f\"{dset0_dir}/grant_fresh.h5ad\"\n",
    "    ],\n",
    "    \"Lambrechts_2021\": [\n",
    "        f\"{dset0_dir}/wouters.h5ad\" #, f\"{dset0_dir}/wouters_labs.h5ad\"\n",
    "    ],\n",
    "    \"Zhang_2021\": [f\"{dset1_dir}/Liao/covid_for_publish.h5ad\"],\n",
    "    \"Duong_lungMAP_unpubl\": [f\"{dset0_dir}/duong.h5ad\"],\n",
    "    \"Janssen_2020\": [f\"{dset0_dir}/mould.h5ad\"],\n",
    "    \"Sun_2020\": [\n",
    "        f\"{dset0_dir}/wang_sub_batch1.h5ad\", f\"{dset0_dir}/wang_sub_batch2.h5ad\",\n",
    "        f\"{dset0_dir}/wang_sub_batch3.h5ad\", f\"{dset0_dir}/wang_sub_batch4.h5ad\"],\n",
    "    \"Gomperts_2021\": [\n",
    "        f\"{dset0_dir}/carraro_ucla.h5ad\", f\"{dset0_dir}/carraro_cff.h5ad\",\n",
    "        f\"{dset0_dir}/carraro_csmc.h5ad\"],\n",
    "    \"Eils_2020\": [f\"{dset0_dir}/lukassen.h5ad\"],\n",
    "    \"Schiller_2020\": [f\"{dset0_dir}/mayr.h5ad\"],\n",
    "    \"Misharin_Budinger_2018\": [f\"{dset0_dir}/reyfman_disease.h5ad\"],\n",
    "    \"Shalek_2018\": [f\"{dset0_dir}/ordovasmontanes.h5ad\"],\n",
    "    \"Schiller_2021\": [f\"{dset0_dir}/schiller_discovair.h5ad\"],\n",
    "    \"Peer_Massague_2020\": [f\"{dset0_dir}/laughney.h5ad\"],\n",
    "    \"Lafyatis_2019\": [f\"{dset0_dir}/valenzi.h5ad\"],\n",
    "    \"Tata_unpubl\": [f\"{dset0_dir}/tata_unpubl.h5ad\"],\n",
    "    \"Xu_2020\": [f\"{dset0_dir}/guo.h5ad\"],\n",
    "    \"Sims_2019\": [f\"{dset0_dir}/szabo.h5ad\"],\n",
    "    \"Schultze_unpubl\": [f\"{dset0_dir}/schultze_unpubl.h5ad\"]\n",
    "}"
   ]
  },
  {
   "cell_type": "markdown",
   "id": "58f70790-d740-45c9-a998-1730189807e9",
   "metadata": {},
   "source": [
    "Run the ID conversion with HGNC Symbol (a.k.a gene name)"
   ]
  },
  {
   "cell_type": "code",
   "execution_count": 7,
   "id": "41926f53-aed1-465a-858b-d766a68652d4",
   "metadata": {},
   "outputs": [
    {
     "name": "stderr",
     "output_type": "stream",
     "text": [
      "Kaminski_2020: 100%|██████████| 45947/45947 [05:05<00:00, 150.37it/s, ID:ENSG00000280139]\n"
     ]
    },
    {
     "name": "stdout",
     "output_type": "stream",
     "text": [
      "changed_only_1_to_n: 59\n",
      "changed_only_1_to_1: 4002\n",
      "alternative_target_1_to_1: 12331\n",
      "alternative_target_1_to_n: 13\n",
      "matching_1_to_0: 98\n",
      "matching_1_to_1: 33446\n",
      "matching_1_to_n: 59\n",
      "input_identifiers: 45947\n",
      "Source release: (38, 94)\n"
     ]
    },
    {
     "name": "stderr",
     "output_type": "stream",
     "text": [
      "Meyer_2021: 100%|███████████████████| 20922/20922 [04:38<00:00, 75.08it/s, ID:AC240274.1]\n"
     ]
    },
    {
     "name": "stdout",
     "output_type": "stream",
     "text": [
      "changed_only_1_to_n: 3\n",
      "changed_only_1_to_1: 997\n",
      "alternative_target_1_to_1: 368\n",
      "alternative_target_1_to_n: 2\n",
      "matching_1_to_0: 17\n",
      "matching_1_to_1: 20532\n",
      "matching_1_to_n: 3\n",
      "input_identifiers: 20922\n",
      "Source release: (38, 84)\n"
     ]
    },
    {
     "name": "stderr",
     "output_type": "stream",
     "text": [
      "MeyerNikolic_unpubl: 100%|███████| 33582/33582 [04:52<00:00, 114.64it/s, ID:hsa-mir-1253]\n",
      "2023-01-29 23:45:46 WARNING:api: Number of unfound IDs: 27.\n"
     ]
    },
    {
     "name": "stdout",
     "output_type": "stream",
     "text": [
      "changed_only_1_to_n: 15\n",
      "changed_only_1_to_1: 2711\n",
      "alternative_target_1_to_1: 8342\n",
      "alternative_target_1_to_n: 10\n",
      "matching_1_to_0: 106\n",
      "matching_1_to_1: 25109\n",
      "matching_1_to_n: 15\n",
      "input_identifiers: 33582\n",
      "Source release: (38, 93)\n"
     ]
    },
    {
     "name": "stderr",
     "output_type": "stream",
     "text": [
      "Barbry_unpubl: 100%|██████████████████████| 16859/16859 [04:10<00:00, 67.29it/s, ID:WHRN]\n",
      "2023-01-29 23:50:10 WARNING:api: Number of unfound IDs: 1.\n"
     ]
    },
    {
     "name": "stdout",
     "output_type": "stream",
     "text": [
      "changed_only_1_to_n: 1\n",
      "changed_only_1_to_1: 972\n",
      "alternative_target_1_to_1: 1679\n",
      "alternative_target_1_to_n: 4\n",
      "matching_1_to_0: 20\n",
      "matching_1_to_1: 15155\n",
      "matching_1_to_n: 1\n",
      "input_identifiers: 16859\n",
      "Source release: (38, 98)\n"
     ]
    },
    {
     "name": "stderr",
     "output_type": "stream",
     "text": [
      "Regev_2021: 100%|████████████████████████| 30983/30983 [05:14<00:00, 98.64it/s, ID:ZZEF1]\n",
      "2023-01-29 23:55:25 WARNING:api: Number of unfound IDs: 48.\n"
     ]
    },
    {
     "name": "stdout",
     "output_type": "stream",
     "text": [
      "changed_only_1_to_n: 8\n",
      "changed_only_1_to_1: 2520\n",
      "alternative_target_1_to_1: 7387\n",
      "alternative_target_1_to_n: 9\n",
      "matching_1_to_0: 113\n",
      "matching_1_to_1: 23466\n",
      "matching_1_to_n: 8\n",
      "input_identifiers: 30983\n",
      "Source release: (38, 93)\n"
     ]
    },
    {
     "name": "stderr",
     "output_type": "stream",
     "text": [
      "Thienpont_2018: 100%|███████████████| 27958/27958 [04:44<00:00, 98.29it/s, ID:AC240274.1]\n"
     ]
    },
    {
     "name": "stdout",
     "output_type": "stream",
     "text": [
      "changed_only_1_to_n: 8\n",
      "changed_only_1_to_1: 3598\n",
      "alternative_target_1_to_1: 5342\n",
      "alternative_target_1_to_n: 43\n",
      "matching_1_to_0: 171\n",
      "matching_1_to_1: 22394\n",
      "matching_1_to_n: 8\n",
      "input_identifiers: 27958\n",
      "Source release: (38, 84)\n"
     ]
    },
    {
     "name": "stderr",
     "output_type": "stream",
     "text": [
      "Budinger_2020: 100%|█████████████████████| 26316/26316 [04:39<00:00, 94.27it/s, ID:ZZEF1]\n"
     ]
    },
    {
     "name": "stdout",
     "output_type": "stream",
     "text": [
      "changed_only_1_to_n: 6\n",
      "changed_only_1_to_1: 2122\n",
      "alternative_target_1_to_1: 4807\n",
      "alternative_target_1_to_n: 6\n",
      "matching_1_to_0: 56\n",
      "matching_1_to_1: 21441\n",
      "matching_1_to_n: 6\n",
      "input_identifiers: 26316\n",
      "Source release: (38, 93)\n"
     ]
    },
    {
     "name": "stderr",
     "output_type": "stream",
     "text": [
      "Banovich_Kropski_2020: 100%|██████████| 33694/33694 [04:51<00:00, 115.44it/s, ID:FAM231B]\n",
      "2023-01-30 00:09:59 WARNING:api: Number of unfound IDs: 1.\n"
     ]
    },
    {
     "name": "stdout",
     "output_type": "stream",
     "text": [
      "changed_only_1_to_n: 15\n",
      "changed_only_1_to_1: 4470\n",
      "alternative_target_1_to_1: 8131\n",
      "alternative_target_1_to_n: 57\n",
      "matching_1_to_0: 262\n",
      "matching_1_to_1: 25229\n",
      "matching_1_to_n: 15\n",
      "input_identifiers: 33694\n",
      "Source release: (38, 84)\n"
     ]
    },
    {
     "name": "stderr",
     "output_type": "stream",
     "text": [
      "Sheppard_2020: 100%|████████████████| 27147/27147 [04:42<00:00, 96.21it/s, ID:AC240274.1]\n"
     ]
    },
    {
     "name": "stdout",
     "output_type": "stream",
     "text": [
      "changed_only_1_to_n: 6\n",
      "changed_only_1_to_1: 3464\n",
      "alternative_target_1_to_1: 5020\n",
      "alternative_target_1_to_n: 40\n",
      "matching_1_to_0: 166\n",
      "matching_1_to_1: 21915\n",
      "matching_1_to_n: 6\n",
      "input_identifiers: 27147\n",
      "Source release: (38, 84)\n"
     ]
    },
    {
     "name": "stderr",
     "output_type": "stream",
     "text": [
      "Wunderink_2021: 100%|████████████████████| 21819/21819 [05:00<00:00, 72.65it/s, ID:ZZEF1]\n",
      "2023-01-30 00:19:55 WARNING:api: Number of unfound IDs: 12.\n"
     ]
    },
    {
     "name": "stdout",
     "output_type": "stream",
     "text": [
      "changed_only_1_to_n: 2\n",
      "changed_only_1_to_1: 1712\n",
      "alternative_target_1_to_1: 2907\n",
      "alternative_target_1_to_n: 1\n",
      "matching_1_to_0: 53\n",
      "matching_1_to_1: 18856\n",
      "matching_1_to_n: 2\n",
      "input_identifiers: 21819\n",
      "Source release: (38, 93)\n"
     ]
    },
    {
     "name": "stderr",
     "output_type": "stream",
     "text": [
      "Lambrechts_2021: 100%|████████████████| 33538/33538 [04:50<00:00, 115.40it/s, ID:FAM231C]\n",
      "2023-01-30 00:24:48 WARNING:api: Number of unfound IDs: 1.\n"
     ]
    },
    {
     "name": "stdout",
     "output_type": "stream",
     "text": [
      "changed_only_1_to_n: 15\n",
      "changed_only_1_to_1: 2693\n",
      "alternative_target_1_to_1: 8342\n",
      "alternative_target_1_to_n: 10\n",
      "matching_1_to_0: 80\n",
      "matching_1_to_1: 25091\n",
      "matching_1_to_n: 15\n",
      "input_identifiers: 33538\n",
      "Source release: (38, 93)\n"
     ]
    },
    {
     "name": "stderr",
     "output_type": "stream",
     "text": [
      "Zhang_2021: 100%|█████████████████████████| 18474/18474 [04:31<00:00, 68.06it/s, ID:DSG1]\n"
     ]
    },
    {
     "name": "stdout",
     "output_type": "stream",
     "text": [
      "changed_only_1_to_n: 1\n",
      "changed_only_1_to_1: 806\n",
      "alternative_target_1_to_1: 99\n",
      "alternative_target_1_to_n: 0\n",
      "matching_1_to_0: 10\n",
      "matching_1_to_1: 18364\n",
      "matching_1_to_n: 1\n",
      "input_identifiers: 18474\n",
      "Source release: (38, 87)\n"
     ]
    },
    {
     "name": "stderr",
     "output_type": "stream",
     "text": [
      "Duong_lungMAP_unpubl: 100%|██████████████| 27678/27678 [04:37<00:00, 99.63it/s, ID:ZZEF1]\n"
     ]
    },
    {
     "name": "stdout",
     "output_type": "stream",
     "text": [
      "changed_only_1_to_n: 6\n",
      "changed_only_1_to_1: 2293\n",
      "alternative_target_1_to_1: 5994\n",
      "alternative_target_1_to_n: 10\n",
      "matching_1_to_0: 51\n",
      "matching_1_to_1: 21617\n",
      "matching_1_to_n: 6\n",
      "input_identifiers: 27678\n",
      "Source release: (38, 93)\n"
     ]
    },
    {
     "name": "stderr",
     "output_type": "stream",
     "text": [
      "Janssen_2020: 100%|███████████████████| 33538/33538 [04:51<00:00, 115.16it/s, ID:FAM231C]\n",
      "2023-01-30 00:39:11 WARNING:api: Number of unfound IDs: 1.\n"
     ]
    },
    {
     "name": "stdout",
     "output_type": "stream",
     "text": [
      "changed_only_1_to_n: 15\n",
      "changed_only_1_to_1: 2693\n",
      "alternative_target_1_to_1: 8342\n",
      "alternative_target_1_to_n: 10\n",
      "matching_1_to_0: 80\n",
      "matching_1_to_1: 25091\n",
      "matching_1_to_n: 15\n",
      "input_identifiers: 33538\n",
      "Source release: (38, 93)\n"
     ]
    },
    {
     "name": "stderr",
     "output_type": "stream",
     "text": [
      "Sun_2020: 100%|█████████████████████| 26578/26578 [05:10<00:00, 85.62it/s, ID:AP006748.1]\n"
     ]
    },
    {
     "name": "stdout",
     "output_type": "stream",
     "text": [
      "changed_only_1_to_n: 6\n",
      "changed_only_1_to_1: 2192\n",
      "alternative_target_1_to_1: 5417\n",
      "alternative_target_1_to_n: 8\n",
      "matching_1_to_0: 50\n",
      "matching_1_to_1: 21097\n",
      "matching_1_to_n: 6\n",
      "input_identifiers: 26578\n",
      "Source release: (38, 93)\n"
     ]
    },
    {
     "name": "stderr",
     "output_type": "stream",
     "text": [
      "Gomperts_2021: 100%|███████████████████| 31229/31229 [04:57<00:00, 104.83it/s, ID:WFDC11]\n",
      "2023-01-30 00:49:23 WARNING:api: Number of unfound IDs: 187.\n"
     ]
    },
    {
     "name": "stdout",
     "output_type": "stream",
     "text": [
      "changed_only_1_to_n: 14\n",
      "changed_only_1_to_1: 4744\n",
      "alternative_target_1_to_1: 5910\n",
      "alternative_target_1_to_n: 28\n",
      "matching_1_to_0: 348\n",
      "matching_1_to_1: 24929\n",
      "matching_1_to_n: 14\n",
      "input_identifiers: 31229\n",
      "Source release: (38, 89)\n"
     ]
    },
    {
     "name": "stderr",
     "output_type": "stream",
     "text": [
      "Eils_2020: 100%|███████████████████| 32738/32738 [04:55<00:00, 110.71it/s, ID:AC002321.1]\n",
      "2023-01-30 00:54:24 WARNING:api: Number of unfound IDs: 7.\n"
     ]
    },
    {
     "name": "stdout",
     "output_type": "stream",
     "text": [
      "changed_only_1_to_n: 17\n",
      "changed_only_1_to_1: 5448\n",
      "alternative_target_1_to_1: 7519\n",
      "alternative_target_1_to_n: 44\n",
      "matching_1_to_0: 612\n",
      "matching_1_to_1: 24546\n",
      "matching_1_to_n: 17\n",
      "input_identifiers: 32738\n",
      "Source release: (37, 85)\n"
     ]
    },
    {
     "name": "stderr",
     "output_type": "stream",
     "text": [
      "Schiller_2020: 100%|█████████████| 32104/32104 [04:49<00:00, 110.80it/s, ID:RP11-205K6.1]\n",
      "2023-01-30 00:59:15 WARNING:api: Number of unfound IDs: 40.\n"
     ]
    },
    {
     "name": "stdout",
     "output_type": "stream",
     "text": [
      "changed_only_1_to_n: 8\n",
      "changed_only_1_to_1: 4469\n",
      "alternative_target_1_to_1: 6431\n",
      "alternative_target_1_to_n: 26\n",
      "matching_1_to_0: 533\n",
      "matching_1_to_1: 25106\n",
      "matching_1_to_n: 8\n",
      "input_identifiers: 32104\n",
      "Source release: (38, 89)\n"
     ]
    },
    {
     "name": "stderr",
     "output_type": "stream",
     "text": [
      "Misharin_Budinger_2018: 100%|███████| 27181/27181 [04:45<00:00, 95.28it/s, ID:AC240274.1]\n"
     ]
    },
    {
     "name": "stdout",
     "output_type": "stream",
     "text": [
      "changed_only_1_to_n: 7\n",
      "changed_only_1_to_1: 3464\n",
      "alternative_target_1_to_1: 5009\n",
      "alternative_target_1_to_n: 43\n",
      "matching_1_to_0: 177\n",
      "matching_1_to_1: 21945\n",
      "matching_1_to_n: 7\n",
      "input_identifiers: 27181\n",
      "Source release: (38, 84)\n"
     ]
    },
    {
     "name": "stderr",
     "output_type": "stream",
     "text": [
      "Shalek_2018: 100%|██████████████████████| 25328/25328 [04:40<00:00, 90.33it/s, ID:TTTY10]\n",
      "2023-01-30 01:08:47 WARNING:api: Number of unfound IDs: 22.\n"
     ]
    },
    {
     "name": "stdout",
     "output_type": "stream",
     "text": [
      "changed_only_1_to_n: 7\n",
      "changed_only_1_to_1: 3647\n",
      "alternative_target_1_to_1: 3642\n",
      "alternative_target_1_to_n: 33\n",
      "matching_1_to_0: 492\n",
      "matching_1_to_1: 21154\n",
      "matching_1_to_n: 7\n",
      "input_identifiers: 25328\n",
      "Source release: (37, 85)\n"
     ]
    },
    {
     "name": "stderr",
     "output_type": "stream",
     "text": [
      "Schiller_2021: 100%|████████████████| 17533/17533 [04:59<00:00, 58.55it/s, ID:AC240274.1]\n"
     ]
    },
    {
     "name": "stdout",
     "output_type": "stream",
     "text": [
      "changed_only_1_to_n: 0\n",
      "changed_only_1_to_1: 497\n",
      "alternative_target_1_to_1: 193\n",
      "alternative_target_1_to_n: 0\n",
      "matching_1_to_0: 10\n",
      "matching_1_to_1: 17330\n",
      "matching_1_to_n: 0\n",
      "input_identifiers: 17533\n",
      "Source release: (38, 99)\n"
     ]
    },
    {
     "name": "stderr",
     "output_type": "stream",
     "text": [
      "Peer_Massague_2020: 100%|█████████████████| 19222/19222 [04:31<00:00, 70.76it/s, ID:ZZZ3]\n"
     ]
    },
    {
     "name": "stdout",
     "output_type": "stream",
     "text": [
      "changed_only_1_to_n: 4\n",
      "changed_only_1_to_1: 1545\n",
      "alternative_target_1_to_1: 1247\n",
      "alternative_target_1_to_n: 11\n",
      "matching_1_to_0: 63\n",
      "matching_1_to_1: 17897\n",
      "matching_1_to_n: 4\n",
      "input_identifiers: 19222\n",
      "Source release: (38, 86)\n"
     ]
    },
    {
     "name": "stderr",
     "output_type": "stream",
     "text": [
      "Lafyatis_2019: 100%|████████████████| 22164/22164 [04:42<00:00, 78.39it/s, ID:AC213203.1]\n",
      "2023-01-30 01:23:09 WARNING:api: Number of unfound IDs: 1.\n"
     ]
    },
    {
     "name": "stdout",
     "output_type": "stream",
     "text": [
      "changed_only_1_to_n: 6\n",
      "changed_only_1_to_1: 1032\n",
      "alternative_target_1_to_1: 442\n",
      "alternative_target_1_to_n: 2\n",
      "matching_1_to_0: 21\n",
      "matching_1_to_1: 21693\n",
      "matching_1_to_n: 6\n",
      "input_identifiers: 22164\n",
      "Source release: (38, 84)\n"
     ]
    },
    {
     "name": "stderr",
     "output_type": "stream",
     "text": [
      "Tata_unpubl: 100%|█████████████████| 31915/31915 [04:45<00:00, 111.79it/s, ID:AC213203.1]\n",
      "2023-01-30 01:27:57 WARNING:api: Number of unfound IDs: 1.\n"
     ]
    },
    {
     "name": "stdout",
     "output_type": "stream",
     "text": [
      "changed_only_1_to_n: 11\n",
      "changed_only_1_to_1: 1954\n",
      "alternative_target_1_to_1: 7632\n",
      "alternative_target_1_to_n: 6\n",
      "matching_1_to_0: 36\n",
      "matching_1_to_1: 24230\n",
      "matching_1_to_n: 11\n",
      "input_identifiers: 31915\n",
      "Source release: (38, 93)\n"
     ]
    },
    {
     "name": "stderr",
     "output_type": "stream",
     "text": [
      "Xu_2020: 100%|█████████████████████| 32738/32738 [04:59<00:00, 109.45it/s, ID:AC002321.1]\n",
      "2023-01-30 01:32:59 WARNING:api: Number of unfound IDs: 7.\n"
     ]
    },
    {
     "name": "stdout",
     "output_type": "stream",
     "text": [
      "changed_only_1_to_n: 17\n",
      "changed_only_1_to_1: 5448\n",
      "alternative_target_1_to_1: 7519\n",
      "alternative_target_1_to_n: 44\n",
      "matching_1_to_0: 612\n",
      "matching_1_to_1: 24546\n",
      "matching_1_to_n: 17\n",
      "input_identifiers: 32738\n",
      "Source release: (37, 85)\n"
     ]
    },
    {
     "name": "stderr",
     "output_type": "stream",
     "text": [
      "Sims_2019: 100%|████████████████| 60725/60725 [08:50<00:00, 114.41it/s, ID:CTD-2062F14.3]\n"
     ]
    },
    {
     "name": "stdout",
     "output_type": "stream",
     "text": [
      "changed_only_1_to_n: 985\n",
      "changed_only_1_to_1: 8062\n",
      "alternative_target_1_to_1: 16431\n",
      "alternative_target_1_to_n: 265\n",
      "matching_1_to_0: 1461\n",
      "matching_1_to_1: 41583\n",
      "matching_1_to_n: 985\n",
      "input_identifiers: 60725\n"
     ]
    },
    {
     "name": "stderr",
     "output_type": "stream",
     "text": [
      "2023-01-30 01:41:52 WARNING:api: Number of unfound IDs: 10.\n"
     ]
    },
    {
     "name": "stdout",
     "output_type": "stream",
     "text": [
      "Source release: (38, 83)\n"
     ]
    },
    {
     "name": "stderr",
     "output_type": "stream",
     "text": [
      "Schultze_unpubl: 100%|██████████████| 24532/24532 [04:33<00:00, 89.73it/s, ID:AP001269.4]\n"
     ]
    },
    {
     "name": "stdout",
     "output_type": "stream",
     "text": [
      "changed_only_1_to_n: 5\n",
      "changed_only_1_to_1: 2070\n",
      "alternative_target_1_to_1: 3820\n",
      "alternative_target_1_to_n: 6\n",
      "matching_1_to_0: 46\n",
      "matching_1_to_1: 20655\n",
      "matching_1_to_n: 5\n",
      "input_identifiers: 24532\n",
      "Source release: (38, 91)\n"
     ]
    }
   ],
   "source": [
    "result = dict()\n",
    "final_database=\"HGNC Symbol\"\n",
    "\n",
    "for dataset_name in adata_dict:\n",
    "    \n",
    "    adata = sc.read(adata_dict[dataset_name][0])\n",
    "    gene_list = list(adata.var.index)\n",
    "    \n",
    "    matching = idt.convert_identifier_multiple(gene_list, final_database=final_database, pbar_prefix=dataset_name)\n",
    "    binned_conversions = idt.classify_multiple_conversion(matching)\n",
    "    \n",
    "    idt.print_binned_conversion(binned_conversions)\n",
    "    print(f\"Source release: {idt.infer_identifier_source(gene_list)}\")\n",
    "    \n",
    "    result[dataset_name] = binned_conversions"
   ]
  },
  {
   "cell_type": "code",
   "execution_count": 8,
   "id": "b14cd54a-0cb7-4108-ad97-727675a9036a",
   "metadata": {},
   "outputs": [
    {
     "name": "stdout",
     "output_type": "stream",
     "text": [
      "Saved: /lustre/groups/ml01/workspace/kemal.inecik/idtrack_temp/results_for_hlca_datasets_HGNC Symbol_20230130-004722.pk\n"
     ]
    }
   ],
   "source": [
    "time_suffix = time.strftime(\"%Y%m%d-%H%M%S\", time.gmtime())\n",
    "file_path = os.path.join(local_dir, f\"results_for_hlca_datasets_{final_database}_{time_suffix}.pk\")\n",
    "with open(file_path, 'wb') as handle:\n",
    "    pickle.dump(result, handle)\n",
    "    print(f\"Saved: {file_path}\")"
   ]
  },
  {
   "cell_type": "markdown",
   "id": "a5a84c01-b74f-4d9b-974b-f6854a8e585c",
   "metadata": {},
   "source": [
    "Run the ID conversion with Ensembl gene ID"
   ]
  },
  {
   "cell_type": "code",
   "execution_count": 9,
   "id": "2a737b6d-b05c-4166-9539-ab91cb1ff5b9",
   "metadata": {},
   "outputs": [
    {
     "name": "stderr",
     "output_type": "stream",
     "text": [
      "Kaminski_2020: 100%|██████████| 45947/45947 [03:58<00:00, 193.04it/s, ID:ENSG00000280139]\n"
     ]
    },
    {
     "name": "stdout",
     "output_type": "stream",
     "text": [
      "changed_only_1_to_n: 496\n",
      "changed_only_1_to_1: 45353\n",
      "alternative_target_1_to_1: 0\n",
      "alternative_target_1_to_n: 0\n",
      "matching_1_to_0: 98\n",
      "matching_1_to_1: 45353\n",
      "matching_1_to_n: 496\n",
      "input_identifiers: 45947\n",
      "Source release: (38, 94)\n"
     ]
    },
    {
     "name": "stderr",
     "output_type": "stream",
     "text": [
      "Meyer_2021: 100%|███████████████████| 20922/20922 [03:42<00:00, 94.23it/s, ID:AC240274.1]\n"
     ]
    },
    {
     "name": "stdout",
     "output_type": "stream",
     "text": [
      "changed_only_1_to_n: 213\n",
      "changed_only_1_to_1: 20692\n",
      "alternative_target_1_to_1: 0\n",
      "alternative_target_1_to_n: 0\n",
      "matching_1_to_0: 17\n",
      "matching_1_to_1: 20692\n",
      "matching_1_to_n: 213\n",
      "input_identifiers: 20922\n",
      "Source release: (38, 84)\n"
     ]
    },
    {
     "name": "stderr",
     "output_type": "stream",
     "text": [
      "MeyerNikolic_unpubl: 100%|███████| 33582/33582 [03:20<00:00, 167.62it/s, ID:hsa-mir-1253]\n",
      "2023-01-30 01:59:06 WARNING:api: Number of unfound IDs: 27.\n"
     ]
    },
    {
     "name": "stdout",
     "output_type": "stream",
     "text": [
      "changed_only_1_to_n: 290\n",
      "changed_only_1_to_1: 33186\n",
      "alternative_target_1_to_1: 0\n",
      "alternative_target_1_to_n: 0\n",
      "matching_1_to_0: 106\n",
      "matching_1_to_1: 33186\n",
      "matching_1_to_n: 290\n",
      "input_identifiers: 33582\n",
      "Source release: (38, 93)\n"
     ]
    },
    {
     "name": "stderr",
     "output_type": "stream",
     "text": [
      "Barbry_unpubl: 100%|██████████████████████| 16859/16859 [03:21<00:00, 83.67it/s, ID:WHRN]\n",
      "2023-01-30 02:02:42 WARNING:api: Number of unfound IDs: 1.\n"
     ]
    },
    {
     "name": "stdout",
     "output_type": "stream",
     "text": [
      "changed_only_1_to_n: 101\n",
      "changed_only_1_to_1: 16738\n",
      "alternative_target_1_to_1: 0\n",
      "alternative_target_1_to_n: 0\n",
      "matching_1_to_0: 20\n",
      "matching_1_to_1: 16738\n",
      "matching_1_to_n: 101\n",
      "input_identifiers: 16859\n",
      "Source release: (38, 98)\n"
     ]
    },
    {
     "name": "stderr",
     "output_type": "stream",
     "text": [
      "Regev_2021: 100%|███████████████████████| 30983/30983 [03:48<00:00, 135.73it/s, ID:ZZEF1]\n",
      "2023-01-30 02:06:31 WARNING:api: Number of unfound IDs: 48.\n"
     ]
    },
    {
     "name": "stdout",
     "output_type": "stream",
     "text": [
      "changed_only_1_to_n: 222\n",
      "changed_only_1_to_1: 30648\n",
      "alternative_target_1_to_1: 0\n",
      "alternative_target_1_to_n: 0\n",
      "matching_1_to_0: 113\n",
      "matching_1_to_1: 30648\n",
      "matching_1_to_n: 222\n",
      "input_identifiers: 30983\n",
      "Source release: (38, 93)\n"
     ]
    },
    {
     "name": "stderr",
     "output_type": "stream",
     "text": [
      "Thienpont_2018: 100%|██████████████| 27958/27958 [03:45<00:00, 123.97it/s, ID:AC240274.1]\n"
     ]
    },
    {
     "name": "stdout",
     "output_type": "stream",
     "text": [
      "changed_only_1_to_n: 246\n",
      "changed_only_1_to_1: 27541\n",
      "alternative_target_1_to_1: 0\n",
      "alternative_target_1_to_n: 0\n",
      "matching_1_to_0: 171\n",
      "matching_1_to_1: 27541\n",
      "matching_1_to_n: 246\n",
      "input_identifiers: 27958\n",
      "Source release: (38, 84)\n"
     ]
    },
    {
     "name": "stderr",
     "output_type": "stream",
     "text": [
      "Budinger_2020: 100%|████████████████████| 26316/26316 [03:12<00:00, 136.63it/s, ID:ZZEF1]\n"
     ]
    },
    {
     "name": "stdout",
     "output_type": "stream",
     "text": [
      "changed_only_1_to_n: 194\n",
      "changed_only_1_to_1: 26066\n",
      "alternative_target_1_to_1: 0\n",
      "alternative_target_1_to_n: 0\n",
      "matching_1_to_0: 56\n",
      "matching_1_to_1: 26066\n",
      "matching_1_to_n: 194\n",
      "input_identifiers: 26316\n",
      "Source release: (38, 93)\n"
     ]
    },
    {
     "name": "stderr",
     "output_type": "stream",
     "text": [
      "Banovich_Kropski_2020: 100%|██████████| 33694/33694 [03:51<00:00, 145.69it/s, ID:FAM231B]\n",
      "2023-01-30 02:17:40 WARNING:api: Number of unfound IDs: 1.\n"
     ]
    },
    {
     "name": "stdout",
     "output_type": "stream",
     "text": [
      "changed_only_1_to_n: 336\n",
      "changed_only_1_to_1: 33096\n",
      "alternative_target_1_to_1: 0\n",
      "alternative_target_1_to_n: 0\n",
      "matching_1_to_0: 262\n",
      "matching_1_to_1: 33096\n",
      "matching_1_to_n: 336\n",
      "input_identifiers: 33694\n",
      "Source release: (38, 84)\n"
     ]
    },
    {
     "name": "stderr",
     "output_type": "stream",
     "text": [
      "Sheppard_2020: 100%|███████████████| 27147/27147 [03:43<00:00, 121.66it/s, ID:AC240274.1]\n"
     ]
    },
    {
     "name": "stdout",
     "output_type": "stream",
     "text": [
      "changed_only_1_to_n: 239\n",
      "changed_only_1_to_1: 26742\n",
      "alternative_target_1_to_1: 0\n",
      "alternative_target_1_to_n: 0\n",
      "matching_1_to_0: 166\n",
      "matching_1_to_1: 26742\n",
      "matching_1_to_n: 239\n",
      "input_identifiers: 27147\n",
      "Source release: (38, 84)\n"
     ]
    },
    {
     "name": "stderr",
     "output_type": "stream",
     "text": [
      "Wunderink_2021: 100%|███████████████████| 21819/21819 [03:35<00:00, 101.13it/s, ID:ZZEF1]\n",
      "2023-01-30 02:25:11 WARNING:api: Number of unfound IDs: 12.\n"
     ]
    },
    {
     "name": "stdout",
     "output_type": "stream",
     "text": [
      "changed_only_1_to_n: 169\n",
      "changed_only_1_to_1: 21597\n",
      "alternative_target_1_to_1: 0\n",
      "alternative_target_1_to_n: 0\n",
      "matching_1_to_0: 53\n",
      "matching_1_to_1: 21597\n",
      "matching_1_to_n: 169\n",
      "input_identifiers: 21819\n",
      "Source release: (38, 93)\n"
     ]
    },
    {
     "name": "stderr",
     "output_type": "stream",
     "text": [
      "Lambrechts_2021: 100%|████████████████| 33538/33538 [03:53<00:00, 143.91it/s, ID:FAM231C]\n",
      "2023-01-30 02:29:07 WARNING:api: Number of unfound IDs: 1.\n"
     ]
    },
    {
     "name": "stdout",
     "output_type": "stream",
     "text": [
      "changed_only_1_to_n: 290\n",
      "changed_only_1_to_1: 33168\n",
      "alternative_target_1_to_1: 0\n",
      "alternative_target_1_to_n: 0\n",
      "matching_1_to_0: 80\n",
      "matching_1_to_1: 33168\n",
      "matching_1_to_n: 290\n",
      "input_identifiers: 33538\n",
      "Source release: (38, 93)\n"
     ]
    },
    {
     "name": "stderr",
     "output_type": "stream",
     "text": [
      "Zhang_2021: 100%|█████████████████████████| 18474/18474 [03:05<00:00, 99.36it/s, ID:DSG1]\n"
     ]
    },
    {
     "name": "stdout",
     "output_type": "stream",
     "text": [
      "changed_only_1_to_n: 159\n",
      "changed_only_1_to_1: 18305\n",
      "alternative_target_1_to_1: 0\n",
      "alternative_target_1_to_n: 0\n",
      "matching_1_to_0: 10\n",
      "matching_1_to_1: 18305\n",
      "matching_1_to_n: 159\n",
      "input_identifiers: 18474\n",
      "Source release: (38, 87)\n"
     ]
    },
    {
     "name": "stderr",
     "output_type": "stream",
     "text": [
      "Duong_lungMAP_unpubl: 100%|█████████████| 27678/27678 [03:40<00:00, 125.62it/s, ID:ZZEF1]\n"
     ]
    },
    {
     "name": "stdout",
     "output_type": "stream",
     "text": [
      "changed_only_1_to_n: 180\n",
      "changed_only_1_to_1: 27447\n",
      "alternative_target_1_to_1: 0\n",
      "alternative_target_1_to_n: 0\n",
      "matching_1_to_0: 51\n",
      "matching_1_to_1: 27447\n",
      "matching_1_to_n: 180\n",
      "input_identifiers: 27678\n",
      "Source release: (38, 93)\n"
     ]
    },
    {
     "name": "stderr",
     "output_type": "stream",
     "text": [
      "Janssen_2020: 100%|███████████████████| 33538/33538 [03:52<00:00, 143.96it/s, ID:FAM231C]\n",
      "2023-01-30 02:40:09 WARNING:api: Number of unfound IDs: 1.\n"
     ]
    },
    {
     "name": "stdout",
     "output_type": "stream",
     "text": [
      "changed_only_1_to_n: 290\n",
      "changed_only_1_to_1: 33168\n",
      "alternative_target_1_to_1: 0\n",
      "alternative_target_1_to_n: 0\n",
      "matching_1_to_0: 80\n",
      "matching_1_to_1: 33168\n",
      "matching_1_to_n: 290\n",
      "input_identifiers: 33538\n",
      "Source release: (38, 93)\n"
     ]
    },
    {
     "name": "stderr",
     "output_type": "stream",
     "text": [
      "Sun_2020: 100%|████████████████████| 26578/26578 [03:42<00:00, 119.21it/s, ID:AP006748.1]\n"
     ]
    },
    {
     "name": "stdout",
     "output_type": "stream",
     "text": [
      "changed_only_1_to_n: 161\n",
      "changed_only_1_to_1: 26367\n",
      "alternative_target_1_to_1: 0\n",
      "alternative_target_1_to_n: 0\n",
      "matching_1_to_0: 50\n",
      "matching_1_to_1: 26367\n",
      "matching_1_to_n: 161\n",
      "input_identifiers: 26578\n",
      "Source release: (38, 93)\n"
     ]
    },
    {
     "name": "stderr",
     "output_type": "stream",
     "text": [
      "Gomperts_2021: 100%|███████████████████| 31229/31229 [03:23<00:00, 153.75it/s, ID:WFDC11]\n",
      "2023-01-30 02:47:20 WARNING:api: Number of unfound IDs: 187.\n"
     ]
    },
    {
     "name": "stdout",
     "output_type": "stream",
     "text": [
      "changed_only_1_to_n: 274\n",
      "changed_only_1_to_1: 30607\n",
      "alternative_target_1_to_1: 0\n",
      "alternative_target_1_to_n: 0\n",
      "matching_1_to_0: 348\n",
      "matching_1_to_1: 30607\n",
      "matching_1_to_n: 274\n",
      "input_identifiers: 31229\n",
      "Source release: (38, 89)\n"
     ]
    },
    {
     "name": "stderr",
     "output_type": "stream",
     "text": [
      "Eils_2020: 100%|███████████████████| 32738/32738 [03:59<00:00, 136.92it/s, ID:AC002321.1]\n",
      "2023-01-30 02:51:24 WARNING:api: Number of unfound IDs: 7.\n"
     ]
    },
    {
     "name": "stdout",
     "output_type": "stream",
     "text": [
      "changed_only_1_to_n: 284\n",
      "changed_only_1_to_1: 31842\n",
      "alternative_target_1_to_1: 0\n",
      "alternative_target_1_to_n: 0\n",
      "matching_1_to_0: 612\n",
      "matching_1_to_1: 31842\n",
      "matching_1_to_n: 284\n",
      "input_identifiers: 32738\n",
      "Source release: (37, 85)\n"
     ]
    },
    {
     "name": "stderr",
     "output_type": "stream",
     "text": [
      "Schiller_2020: 100%|█████████████| 32104/32104 [03:48<00:00, 140.54it/s, ID:RP11-205K6.1]\n",
      "2023-01-30 02:55:14 WARNING:api: Number of unfound IDs: 40.\n"
     ]
    },
    {
     "name": "stdout",
     "output_type": "stream",
     "text": [
      "changed_only_1_to_n: 263\n",
      "changed_only_1_to_1: 31308\n",
      "alternative_target_1_to_1: 0\n",
      "alternative_target_1_to_n: 0\n",
      "matching_1_to_0: 533\n",
      "matching_1_to_1: 31308\n",
      "matching_1_to_n: 263\n",
      "input_identifiers: 32104\n",
      "Source release: (38, 89)\n"
     ]
    },
    {
     "name": "stderr",
     "output_type": "stream",
     "text": [
      "Misharin_Budinger_2018: 100%|██████| 27181/27181 [03:44<00:00, 120.93it/s, ID:AC240274.1]\n"
     ]
    },
    {
     "name": "stdout",
     "output_type": "stream",
     "text": [
      "changed_only_1_to_n: 251\n",
      "changed_only_1_to_1: 26753\n",
      "alternative_target_1_to_1: 0\n",
      "alternative_target_1_to_n: 0\n",
      "matching_1_to_0: 177\n",
      "matching_1_to_1: 26753\n",
      "matching_1_to_n: 251\n",
      "input_identifiers: 27181\n",
      "Source release: (38, 84)\n"
     ]
    },
    {
     "name": "stderr",
     "output_type": "stream",
     "text": [
      "Shalek_2018: 100%|█████████████████████| 25328/25328 [03:10<00:00, 133.17it/s, ID:TTTY10]\n",
      "2023-01-30 03:02:15 WARNING:api: Number of unfound IDs: 22.\n"
     ]
    },
    {
     "name": "stdout",
     "output_type": "stream",
     "text": [
      "changed_only_1_to_n: 198\n",
      "changed_only_1_to_1: 24638\n",
      "alternative_target_1_to_1: 0\n",
      "alternative_target_1_to_n: 0\n",
      "matching_1_to_0: 492\n",
      "matching_1_to_1: 24638\n",
      "matching_1_to_n: 198\n",
      "input_identifiers: 25328\n",
      "Source release: (37, 85)\n"
     ]
    },
    {
     "name": "stderr",
     "output_type": "stream",
     "text": [
      "Schiller_2021: 100%|████████████████| 17533/17533 [03:34<00:00, 81.76it/s, ID:AC240274.1]\n"
     ]
    },
    {
     "name": "stdout",
     "output_type": "stream",
     "text": [
      "changed_only_1_to_n: 139\n",
      "changed_only_1_to_1: 17384\n",
      "alternative_target_1_to_1: 0\n",
      "alternative_target_1_to_n: 0\n",
      "matching_1_to_0: 10\n",
      "matching_1_to_1: 17384\n",
      "matching_1_to_n: 139\n",
      "input_identifiers: 17533\n",
      "Source release: (38, 99)\n"
     ]
    },
    {
     "name": "stderr",
     "output_type": "stream",
     "text": [
      "Peer_Massague_2020: 100%|█████████████████| 19222/19222 [03:40<00:00, 87.07it/s, ID:ZZZ3]\n"
     ]
    },
    {
     "name": "stdout",
     "output_type": "stream",
     "text": [
      "changed_only_1_to_n: 155\n",
      "changed_only_1_to_1: 19004\n",
      "alternative_target_1_to_1: 0\n",
      "alternative_target_1_to_n: 0\n",
      "matching_1_to_0: 63\n",
      "matching_1_to_1: 19004\n",
      "matching_1_to_n: 155\n",
      "input_identifiers: 19222\n",
      "Source release: (38, 86)\n"
     ]
    },
    {
     "name": "stderr",
     "output_type": "stream",
     "text": [
      "Lafyatis_2019: 100%|███████████████| 22164/22164 [03:13<00:00, 114.67it/s, ID:AC213203.1]\n",
      "2023-01-30 03:12:53 WARNING:api: Number of unfound IDs: 1.\n"
     ]
    },
    {
     "name": "stdout",
     "output_type": "stream",
     "text": [
      "changed_only_1_to_n: 258\n",
      "changed_only_1_to_1: 21885\n",
      "alternative_target_1_to_1: 0\n",
      "alternative_target_1_to_n: 0\n",
      "matching_1_to_0: 21\n",
      "matching_1_to_1: 21885\n",
      "matching_1_to_n: 258\n",
      "input_identifiers: 22164\n",
      "Source release: (38, 84)\n"
     ]
    },
    {
     "name": "stderr",
     "output_type": "stream",
     "text": [
      "Tata_unpubl: 100%|█████████████████| 31915/31915 [03:47<00:00, 140.47it/s, ID:AC213203.1]\n",
      "2023-01-30 03:16:43 WARNING:api: Number of unfound IDs: 1.\n"
     ]
    },
    {
     "name": "stdout",
     "output_type": "stream",
     "text": [
      "changed_only_1_to_n: 280\n",
      "changed_only_1_to_1: 31599\n",
      "alternative_target_1_to_1: 0\n",
      "alternative_target_1_to_n: 0\n",
      "matching_1_to_0: 36\n",
      "matching_1_to_1: 31599\n",
      "matching_1_to_n: 280\n",
      "input_identifiers: 31915\n",
      "Source release: (38, 93)\n"
     ]
    },
    {
     "name": "stderr",
     "output_type": "stream",
     "text": [
      "Xu_2020: 100%|█████████████████████| 32738/32738 [03:58<00:00, 137.10it/s, ID:AC002321.1]\n",
      "2023-01-30 03:20:44 WARNING:api: Number of unfound IDs: 7.\n"
     ]
    },
    {
     "name": "stdout",
     "output_type": "stream",
     "text": [
      "changed_only_1_to_n: 284\n",
      "changed_only_1_to_1: 31842\n",
      "alternative_target_1_to_1: 0\n",
      "alternative_target_1_to_n: 0\n",
      "matching_1_to_0: 612\n",
      "matching_1_to_1: 31842\n",
      "matching_1_to_n: 284\n",
      "input_identifiers: 32738\n",
      "Source release: (37, 85)\n"
     ]
    },
    {
     "name": "stderr",
     "output_type": "stream",
     "text": [
      "Sims_2019: 100%|████████████████| 60725/60725 [06:26<00:00, 157.24it/s, ID:CTD-2062F14.3]\n"
     ]
    },
    {
     "name": "stdout",
     "output_type": "stream",
     "text": [
      "changed_only_1_to_n: 1830\n",
      "changed_only_1_to_1: 57434\n",
      "alternative_target_1_to_1: 0\n",
      "alternative_target_1_to_n: 0\n",
      "matching_1_to_0: 1461\n",
      "matching_1_to_1: 57434\n",
      "matching_1_to_n: 1830\n",
      "input_identifiers: 60725\n"
     ]
    },
    {
     "name": "stderr",
     "output_type": "stream",
     "text": [
      "2023-01-30 03:27:12 WARNING:api: Number of unfound IDs: 10.\n"
     ]
    },
    {
     "name": "stdout",
     "output_type": "stream",
     "text": [
      "Source release: (38, 83)\n"
     ]
    },
    {
     "name": "stderr",
     "output_type": "stream",
     "text": [
      "Schultze_unpubl: 100%|█████████████| 24532/24532 [03:36<00:00, 113.41it/s, ID:AP001269.4]\n"
     ]
    },
    {
     "name": "stdout",
     "output_type": "stream",
     "text": [
      "changed_only_1_to_n: 196\n",
      "changed_only_1_to_1: 24290\n",
      "alternative_target_1_to_1: 0\n",
      "alternative_target_1_to_n: 0\n",
      "matching_1_to_0: 46\n",
      "matching_1_to_1: 24290\n",
      "matching_1_to_n: 196\n",
      "input_identifiers: 24532\n",
      "Source release: (38, 91)\n"
     ]
    }
   ],
   "source": [
    "result = dict()\n",
    "final_database=\"ensembl_gene\"\n",
    "\n",
    "for dataset_name in adata_dict:\n",
    "    \n",
    "    adata = sc.read(adata_dict[dataset_name][0])\n",
    "    gene_list = list(adata.var.index)\n",
    "    \n",
    "    matching = idt.convert_identifier_multiple(gene_list, final_database=final_database, pbar_prefix=dataset_name)\n",
    "    binned_conversions = idt.classify_multiple_conversion(matching)\n",
    "    \n",
    "    idt.print_binned_conversion(binned_conversions)\n",
    "    print(f\"Source release: {idt.infer_identifier_source(gene_list)}\")\n",
    "    \n",
    "    result[dataset_name] = binned_conversions"
   ]
  },
  {
   "cell_type": "code",
   "execution_count": 10,
   "id": "516adee1-8c4f-4892-836c-4c07aed34b24",
   "metadata": {},
   "outputs": [
    {
     "name": "stdout",
     "output_type": "stream",
     "text": [
      "Saved: /lustre/groups/ml01/workspace/kemal.inecik/idtrack_temp/results_for_hlca_datasets_ensembl_gene_20230130-023149.pk\n"
     ]
    }
   ],
   "source": [
    "time_suffix = time.strftime(\"%Y%m%d-%H%M%S\", time.gmtime())\n",
    "file_path = os.path.join(local_dir, f\"results_for_hlca_datasets_{final_database}_{time_suffix}.pk\")\n",
    "with open(file_path, 'wb') as handle:\n",
    "    pickle.dump(result, handle)\n",
    "    print(f\"Saved: {file_path}\")"
   ]
  },
  {
   "cell_type": "markdown",
   "id": "7b54cebd-acf0-46f3-8056-ae6217fbfe83",
   "metadata": {},
   "source": [
    "Print the processor"
   ]
  },
  {
   "cell_type": "code",
   "execution_count": 11,
   "id": "419b6197-6d1b-474f-80e3-9094eec6405b",
   "metadata": {},
   "outputs": [
    {
     "name": "stdout",
     "output_type": "stream",
     "text": [
      "Architecture:          x86_64\n",
      "CPU op-mode(s):        32-bit, 64-bit\n",
      "Byte Order:            Little Endian\n",
      "CPU(s):                112\n",
      "On-line CPU(s) list:   0-111\n",
      "Thread(s) per core:    2\n",
      "Core(s) per socket:    28\n",
      "Socket(s):             2\n",
      "NUMA node(s):          2\n",
      "Vendor ID:             GenuineIntel\n",
      "CPU family:            6\n",
      "Model:                 85\n",
      "Model name:            Intel(R) Xeon(R) Platinum 8280L CPU @ 2.70GHz\n",
      "Stepping:              7\n",
      "CPU MHz:               3634.881\n",
      "CPU max MHz:           4000.0000\n",
      "CPU min MHz:           1000.0000\n",
      "BogoMIPS:              5400.00\n",
      "Virtualization:        VT-x\n",
      "L1d cache:             32K\n",
      "L1i cache:             32K\n",
      "L2 cache:              1024K\n",
      "L3 cache:              39424K\n",
      "NUMA node0 CPU(s):     0-27,56-83\n",
      "NUMA node1 CPU(s):     28-55,84-111\n",
      "Flags:                 fpu vme de pse tsc msr pae mce cx8 apic sep mtrr pge mca cmov pat pse36 clflush dts acpi mmx fxsr sse sse2 ss ht tm pbe syscall nx pdpe1gb rdtscp lm constant_tsc art arch_perfmon pebs bts rep_good nopl xtopology nonstop_tsc aperfmperf eagerfpu pni pclmulqdq dtes64 monitor ds_cpl vmx smx est tm2 ssse3 sdbg fma cx16 xtpr pdcm pcid dca sse4_1 sse4_2 x2apic movbe popcnt tsc_deadline_timer aes xsave avx f16c rdrand lahf_lm abm 3dnowprefetch epb cat_l3 cdp_l3 invpcid_single intel_ppin intel_pt ssbd mba ibrs ibpb stibp ibrs_enhanced tpr_shadow vnmi flexpriority ept vpid fsgsbase tsc_adjust bmi1 hle avx2 smep bmi2 erms invpcid rtm cqm mpx rdt_a avx512f avx512dq rdseed adx smap clflushopt clwb avx512cd avx512bw avx512vl xsaveopt xsavec xgetbv1 cqm_llc cqm_occup_llc cqm_mbm_total cqm_mbm_local dtherm ida arat pln pts pku ospke avx512_vnni md_clear spec_ctrl intel_stibp flush_l1d arch_capabilities\n"
     ]
    }
   ],
   "source": [
    "import subprocess\n",
    "print((subprocess.check_output(\"lscpu\", shell=True).strip()).decode())"
   ]
  },
  {
   "cell_type": "markdown",
   "id": "7370ab9d-6f14-4b92-833a-926262f2ecc1",
   "metadata": {},
   "source": [
    "Plot/Table"
   ]
  },
  {
   "cell_type": "code",
   "execution_count": 1,
   "id": "2045fb34-0ece-4c92-91d5-e8c4d2796505",
   "metadata": {},
   "outputs": [],
   "source": [
    "import sys\n",
    "sys.path.append(\"../..\")"
   ]
  },
  {
   "cell_type": "code",
   "execution_count": 2,
   "id": "aff14ce7-c415-4727-b254-259a2ceab972",
   "metadata": {},
   "outputs": [],
   "source": [
    "import os\n",
    "import time\n",
    "import pickle"
   ]
  },
  {
   "cell_type": "code",
   "execution_count": 3,
   "id": "4e3e51a1-3908-4d6a-b328-4d90896f22f3",
   "metadata": {},
   "outputs": [],
   "source": [
    "local_dir = \"/lustre/groups/ml01/workspace/kemal.inecik/idtrack_temp\""
   ]
  },
  {
   "cell_type": "code",
   "execution_count": 4,
   "id": "96c1c0e6-2c16-4d03-a890-e1d5e2c15294",
   "metadata": {},
   "outputs": [
    {
     "name": "stdout",
     "output_type": "stream",
     "text": [
      "total 15G\n",
      "-rw-rwxr--+ 1 kemal.inecik OG-ICB-User 622M Oct 17 17:18 graph_homo_sapiens_ens107_min79_narrow.pickle\n",
      "-rw-rwxr--+ 1 kemal.inecik OG-ICB-User 7.2G Oct 17 15:01 homo_sapiens_assembly-37.h5\n",
      "-rw-rwxr--+ 1 kemal.inecik OG-ICB-User 7.0G Oct 31 09:44 homo_sapiens_assembly-38.h5\n",
      "-rw-rwxr--+ 1 kemal.inecik OG-ICB-User  45K Aug 12 15:57 homo_sapiens_externals_modified.yml\n",
      "-rw-rwxr--+ 1 kemal.inecik OG-ICB-User 2.2M Nov 10 10:48 results_for_hlca_core_only_ensembl_gene_20221110-094821.pk\n",
      "-rw-rwxr--+ 1 kemal.inecik OG-ICB-User 2.4M Nov 10 10:43 results_for_hlca_core_only_HGNC Symbol_20221110-094335.pk\n",
      "-rw-rwxr--+ 1 kemal.inecik OG-ICB-User  57M Nov  1 20:13 results_for_hlca_datasets_ensembl_gene_20221101-191345.pk\n",
      "-rw-r--r--. 1 kemal.inecik OG-ICB-User  57M Jan 30 03:31 results_for_hlca_datasets_ensembl_gene_20230130-023149.pk\n",
      "-rw-rwxr--+ 1 kemal.inecik OG-ICB-User  55M Nov  1 18:50 results_for_hlca_datasets_HGNC Symbol_20221101-175029.pk\n",
      "-rw-r--r--. 1 kemal.inecik OG-ICB-User  55M Jan 30 01:47 results_for_hlca_datasets_HGNC Symbol_20230130-004722.pk\n",
      "-rw-r--r--. 1 kemal.inecik OG-ICB-User 3.1K Jan 30 00:37 results_for_random_external_conversions_1_20230129-233747.pk\n",
      "-rw-r--r--. 1 kemal.inecik OG-ICB-User 3.1K Jan 30 04:12 results_for_random_external_conversions_2_20230130-031239.pk\n"
     ]
    }
   ],
   "source": [
    "!ls -lh /lustre/groups/ml01/workspace/kemal.inecik/idtrack_temp"
   ]
  },
  {
   "cell_type": "code",
   "execution_count": 5,
   "id": "2b179fa1-a0e2-4327-aa6a-de94f936e733",
   "metadata": {},
   "outputs": [],
   "source": [
    "with open(local_dir + \"/results_for_hlca_datasets_ensembl_gene_20230130-023149.pk\", 'rb') as pickle_file_1:\n",
    "    res_ens = pickle.load(pickle_file_1)\n",
    "with open(local_dir + \"/results_for_hlca_datasets_HGNC Symbol_20230130-004722.pk\", 'rb') as pickle_file_2:\n",
    "    res_hgn = pickle.load(pickle_file_2)"
   ]
  },
  {
   "cell_type": "code",
   "execution_count": 6,
   "id": "79dfff4f-6719-4a63-9454-a59217952bb2",
   "metadata": {},
   "outputs": [
    {
     "data": {
      "text/plain": [
       "dict_keys(['Kaminski_2020', 'Meyer_2021', 'MeyerNikolic_unpubl', 'Barbry_unpubl', 'Regev_2021', 'Thienpont_2018', 'Budinger_2020', 'Banovich_Kropski_2020', 'Sheppard_2020', 'Wunderink_2021', 'Lambrechts_2021', 'Zhang_2021', 'Duong_lungMAP_unpubl', 'Janssen_2020', 'Sun_2020', 'Gomperts_2021', 'Eils_2020', 'Schiller_2020', 'Misharin_Budinger_2018', 'Shalek_2018', 'Schiller_2021', 'Peer_Massague_2020', 'Lafyatis_2019', 'Tata_unpubl', 'Xu_2020', 'Sims_2019', 'Schultze_unpubl'])"
      ]
     },
     "execution_count": 6,
     "metadata": {},
     "output_type": "execute_result"
    }
   ],
   "source": [
    "res_ens.keys()"
   ]
  },
  {
   "cell_type": "code",
   "execution_count": 11,
   "id": "a8717eb5-af96-4c24-ad91-9ad0dadf4de8",
   "metadata": {},
   "outputs": [
    {
     "data": {
      "text/plain": [
       "dict_keys(['changed_only_1_to_n', 'changed_only_1_to_1', 'alternative_target_1_to_1', 'alternative_target_1_to_n', 'matching_1_to_0', 'matching_1_to_1', 'matching_1_to_n', 'input_identifiers'])"
      ]
     },
     "execution_count": 11,
     "metadata": {},
     "output_type": "execute_result"
    }
   ],
   "source": [
    "res_ens['MeyerNikolic_unpubl'].keys()"
   ]
  },
  {
   "cell_type": "code",
   "execution_count": 17,
   "id": "3bbe3aec-2561-47d8-8017-3b8865686049",
   "metadata": {},
   "outputs": [],
   "source": [
    "r_ens = dict()\n",
    "for i in res_ens:\n",
    "    r_ens[i] = dict()\n",
    "    for j in res_ens[i]:\n",
    "        r_ens[i][j] = len(res_ens[i][j])\n",
    "        \n",
    "r_hgn = dict()\n",
    "for i in res_hgn:\n",
    "    r_hgn[i] = dict()\n",
    "    for j in res_hgn[i]:\n",
    "        r_hgn[i][j] = len(res_hgn[i][j])"
   ]
  },
  {
   "cell_type": "code",
   "execution_count": 14,
   "id": "394bead2-22b0-42fe-a9db-c8723838fbf3",
   "metadata": {},
   "outputs": [],
   "source": [
    "import pandas as pd"
   ]
  },
  {
   "cell_type": "code",
   "execution_count": 153,
   "id": "ffc392e5-1143-48a2-a33c-346cc524b684",
   "metadata": {},
   "outputs": [],
   "source": [
    "column_order = [\"input_identifiers\", \n",
    " \"matching_1_to_1\", \"changed_only_1_to_1\", \"alternative_target_1_to_1\", \n",
    " \"matching_1_to_n\", \"changed_only_1_to_n\", \"alternative_target_1_to_n\", \n",
    " \"matching_1_to_0\"]\n",
    "raname_columns = {\"input_identifiers\": \"\", \n",
    " \"matching_1_to_1\": \"TDM\", \"changed_only_1_to_1\": \"CI\", \"alternative_target_1_to_1\": \"ATM\",  # TDM: target database matching, ATM: alternative target matching\n",
    " \"matching_1_to_n\": \"TDM\", \"changed_only_1_to_n\": \"CI\", \"alternative_target_1_to_n\": \"ATM\", \n",
    " \"matching_1_to_0\": \"\"}\n",
    "higher_columns=[\"Input IDs\", \n",
    " \"One-to-One\", \"One-to-One\", \"One-to-One\", \n",
    " \"One-to-Many\", \"One-to-Many\", \"One-to-Many\", \n",
    " \"One-to-None\"]"
   ]
  },
  {
   "cell_type": "code",
   "execution_count": 154,
   "id": "c5c38719-60fa-4c2e-8155-643fc3362666",
   "metadata": {},
   "outputs": [],
   "source": [
    "df1=pd.DataFrame.from_dict(r_hgn).T[column_order].rename(columns=raname_columns)\n",
    "df1.columns=[[\"\"] + [\"Target HGNC Names\"] * 6 + [\"\"], higher_columns, df1.columns]\n",
    "df2=pd.DataFrame.from_dict(r_ens).T[column_order].rename(columns=raname_columns)\n",
    "df2.columns=[[\"\"] + [\"Target Ensembl\"] * 6 + [\"\"], higher_columns, df2.columns]"
   ]
  },
  {
   "cell_type": "code",
   "execution_count": 155,
   "id": "c0f5e3e9-dbb7-4dac-8d05-22c9d6f7ccd9",
   "metadata": {},
   "outputs": [],
   "source": [
    "df = pd.concat([df1, df2[[\"Target Ensembl\"]]], axis=1)"
   ]
  },
  {
   "cell_type": "code",
   "execution_count": 173,
   "id": "0c40dda2-06b8-4e70-911e-73c994ae6dba",
   "metadata": {},
   "outputs": [
    {
     "data": {
      "text/html": [
       "<div>\n",
       "<style scoped>\n",
       "    .dataframe tbody tr th:only-of-type {\n",
       "        vertical-align: middle;\n",
       "    }\n",
       "\n",
       "    .dataframe tbody tr th {\n",
       "        vertical-align: top;\n",
       "    }\n",
       "\n",
       "    .dataframe thead tr th {\n",
       "        text-align: left;\n",
       "    }\n",
       "</style>\n",
       "<table border=\"1\" class=\"dataframe\">\n",
       "  <thead>\n",
       "    <tr>\n",
       "      <th></th>\n",
       "      <th></th>\n",
       "      <th colspan=\"4\" halign=\"left\">Target HGNC Names</th>\n",
       "      <th colspan=\"2\" halign=\"left\">Target Ensembl</th>\n",
       "      <th></th>\n",
       "    </tr>\n",
       "    <tr>\n",
       "      <th></th>\n",
       "      <th>Input IDs</th>\n",
       "      <th colspan=\"2\" halign=\"left\">One-to-One</th>\n",
       "      <th colspan=\"2\" halign=\"left\">One-to-Many</th>\n",
       "      <th>One-to-One</th>\n",
       "      <th>One-to-Many</th>\n",
       "      <th>One-to-None</th>\n",
       "    </tr>\n",
       "    <tr>\n",
       "      <th></th>\n",
       "      <th></th>\n",
       "      <th>TDM</th>\n",
       "      <th>ATM</th>\n",
       "      <th>TDM</th>\n",
       "      <th>ATM</th>\n",
       "      <th>TDM</th>\n",
       "      <th>TDM</th>\n",
       "      <th></th>\n",
       "    </tr>\n",
       "  </thead>\n",
       "  <tbody>\n",
       "    <tr>\n",
       "      <th>Kaminski_2020</th>\n",
       "      <td>45947</td>\n",
       "      <td>33446</td>\n",
       "      <td>12331</td>\n",
       "      <td>59</td>\n",
       "      <td>13</td>\n",
       "      <td>45353</td>\n",
       "      <td>496</td>\n",
       "      <td>98</td>\n",
       "    </tr>\n",
       "    <tr>\n",
       "      <th>Meyer_2021</th>\n",
       "      <td>20922</td>\n",
       "      <td>20532</td>\n",
       "      <td>368</td>\n",
       "      <td>3</td>\n",
       "      <td>2</td>\n",
       "      <td>20692</td>\n",
       "      <td>213</td>\n",
       "      <td>17</td>\n",
       "    </tr>\n",
       "    <tr>\n",
       "      <th>MeyerNikolic_unpubl</th>\n",
       "      <td>33582</td>\n",
       "      <td>25109</td>\n",
       "      <td>8342</td>\n",
       "      <td>15</td>\n",
       "      <td>10</td>\n",
       "      <td>33186</td>\n",
       "      <td>290</td>\n",
       "      <td>106</td>\n",
       "    </tr>\n",
       "    <tr>\n",
       "      <th>Barbry_unpubl</th>\n",
       "      <td>16859</td>\n",
       "      <td>15155</td>\n",
       "      <td>1679</td>\n",
       "      <td>1</td>\n",
       "      <td>4</td>\n",
       "      <td>16738</td>\n",
       "      <td>101</td>\n",
       "      <td>20</td>\n",
       "    </tr>\n",
       "    <tr>\n",
       "      <th>Regev_2021</th>\n",
       "      <td>30983</td>\n",
       "      <td>23466</td>\n",
       "      <td>7387</td>\n",
       "      <td>8</td>\n",
       "      <td>9</td>\n",
       "      <td>30648</td>\n",
       "      <td>222</td>\n",
       "      <td>113</td>\n",
       "    </tr>\n",
       "    <tr>\n",
       "      <th>Thienpont_2018</th>\n",
       "      <td>27958</td>\n",
       "      <td>22394</td>\n",
       "      <td>5342</td>\n",
       "      <td>8</td>\n",
       "      <td>43</td>\n",
       "      <td>27541</td>\n",
       "      <td>246</td>\n",
       "      <td>171</td>\n",
       "    </tr>\n",
       "    <tr>\n",
       "      <th>Budinger_2020</th>\n",
       "      <td>26316</td>\n",
       "      <td>21441</td>\n",
       "      <td>4807</td>\n",
       "      <td>6</td>\n",
       "      <td>6</td>\n",
       "      <td>26066</td>\n",
       "      <td>194</td>\n",
       "      <td>56</td>\n",
       "    </tr>\n",
       "    <tr>\n",
       "      <th>Banovich_Kropski_2020</th>\n",
       "      <td>33694</td>\n",
       "      <td>25229</td>\n",
       "      <td>8131</td>\n",
       "      <td>15</td>\n",
       "      <td>57</td>\n",
       "      <td>33096</td>\n",
       "      <td>336</td>\n",
       "      <td>262</td>\n",
       "    </tr>\n",
       "    <tr>\n",
       "      <th>Sheppard_2020</th>\n",
       "      <td>27147</td>\n",
       "      <td>21915</td>\n",
       "      <td>5020</td>\n",
       "      <td>6</td>\n",
       "      <td>40</td>\n",
       "      <td>26742</td>\n",
       "      <td>239</td>\n",
       "      <td>166</td>\n",
       "    </tr>\n",
       "    <tr>\n",
       "      <th>Wunderink_2021</th>\n",
       "      <td>21819</td>\n",
       "      <td>18856</td>\n",
       "      <td>2907</td>\n",
       "      <td>2</td>\n",
       "      <td>1</td>\n",
       "      <td>21597</td>\n",
       "      <td>169</td>\n",
       "      <td>53</td>\n",
       "    </tr>\n",
       "    <tr>\n",
       "      <th>Lambrechts_2021</th>\n",
       "      <td>33538</td>\n",
       "      <td>25091</td>\n",
       "      <td>8342</td>\n",
       "      <td>15</td>\n",
       "      <td>10</td>\n",
       "      <td>33168</td>\n",
       "      <td>290</td>\n",
       "      <td>80</td>\n",
       "    </tr>\n",
       "    <tr>\n",
       "      <th>Zhang_2021</th>\n",
       "      <td>18474</td>\n",
       "      <td>18364</td>\n",
       "      <td>99</td>\n",
       "      <td>1</td>\n",
       "      <td>0</td>\n",
       "      <td>18305</td>\n",
       "      <td>159</td>\n",
       "      <td>10</td>\n",
       "    </tr>\n",
       "    <tr>\n",
       "      <th>Duong_lungMAP_unpubl</th>\n",
       "      <td>27678</td>\n",
       "      <td>21617</td>\n",
       "      <td>5994</td>\n",
       "      <td>6</td>\n",
       "      <td>10</td>\n",
       "      <td>27447</td>\n",
       "      <td>180</td>\n",
       "      <td>51</td>\n",
       "    </tr>\n",
       "    <tr>\n",
       "      <th>Janssen_2020</th>\n",
       "      <td>33538</td>\n",
       "      <td>25091</td>\n",
       "      <td>8342</td>\n",
       "      <td>15</td>\n",
       "      <td>10</td>\n",
       "      <td>33168</td>\n",
       "      <td>290</td>\n",
       "      <td>80</td>\n",
       "    </tr>\n",
       "    <tr>\n",
       "      <th>Sun_2020</th>\n",
       "      <td>26578</td>\n",
       "      <td>21097</td>\n",
       "      <td>5417</td>\n",
       "      <td>6</td>\n",
       "      <td>8</td>\n",
       "      <td>26367</td>\n",
       "      <td>161</td>\n",
       "      <td>50</td>\n",
       "    </tr>\n",
       "    <tr>\n",
       "      <th>Gomperts_2021</th>\n",
       "      <td>31229</td>\n",
       "      <td>24929</td>\n",
       "      <td>5910</td>\n",
       "      <td>14</td>\n",
       "      <td>28</td>\n",
       "      <td>30607</td>\n",
       "      <td>274</td>\n",
       "      <td>348</td>\n",
       "    </tr>\n",
       "    <tr>\n",
       "      <th>Eils_2020</th>\n",
       "      <td>32738</td>\n",
       "      <td>24546</td>\n",
       "      <td>7519</td>\n",
       "      <td>17</td>\n",
       "      <td>44</td>\n",
       "      <td>31842</td>\n",
       "      <td>284</td>\n",
       "      <td>612</td>\n",
       "    </tr>\n",
       "    <tr>\n",
       "      <th>Schiller_2020</th>\n",
       "      <td>32104</td>\n",
       "      <td>25106</td>\n",
       "      <td>6431</td>\n",
       "      <td>8</td>\n",
       "      <td>26</td>\n",
       "      <td>31308</td>\n",
       "      <td>263</td>\n",
       "      <td>533</td>\n",
       "    </tr>\n",
       "    <tr>\n",
       "      <th>Misharin_Budinger_2018</th>\n",
       "      <td>27181</td>\n",
       "      <td>21945</td>\n",
       "      <td>5009</td>\n",
       "      <td>7</td>\n",
       "      <td>43</td>\n",
       "      <td>26753</td>\n",
       "      <td>251</td>\n",
       "      <td>177</td>\n",
       "    </tr>\n",
       "    <tr>\n",
       "      <th>Shalek_2018</th>\n",
       "      <td>25328</td>\n",
       "      <td>21154</td>\n",
       "      <td>3642</td>\n",
       "      <td>7</td>\n",
       "      <td>33</td>\n",
       "      <td>24638</td>\n",
       "      <td>198</td>\n",
       "      <td>492</td>\n",
       "    </tr>\n",
       "    <tr>\n",
       "      <th>Schiller_2021</th>\n",
       "      <td>17533</td>\n",
       "      <td>17330</td>\n",
       "      <td>193</td>\n",
       "      <td>0</td>\n",
       "      <td>0</td>\n",
       "      <td>17384</td>\n",
       "      <td>139</td>\n",
       "      <td>10</td>\n",
       "    </tr>\n",
       "    <tr>\n",
       "      <th>Peer_Massague_2020</th>\n",
       "      <td>19222</td>\n",
       "      <td>17897</td>\n",
       "      <td>1247</td>\n",
       "      <td>4</td>\n",
       "      <td>11</td>\n",
       "      <td>19004</td>\n",
       "      <td>155</td>\n",
       "      <td>63</td>\n",
       "    </tr>\n",
       "    <tr>\n",
       "      <th>Lafyatis_2019</th>\n",
       "      <td>22164</td>\n",
       "      <td>21693</td>\n",
       "      <td>442</td>\n",
       "      <td>6</td>\n",
       "      <td>2</td>\n",
       "      <td>21885</td>\n",
       "      <td>258</td>\n",
       "      <td>21</td>\n",
       "    </tr>\n",
       "    <tr>\n",
       "      <th>Tata_unpubl</th>\n",
       "      <td>31915</td>\n",
       "      <td>24230</td>\n",
       "      <td>7632</td>\n",
       "      <td>11</td>\n",
       "      <td>6</td>\n",
       "      <td>31599</td>\n",
       "      <td>280</td>\n",
       "      <td>36</td>\n",
       "    </tr>\n",
       "    <tr>\n",
       "      <th>Xu_2020</th>\n",
       "      <td>32738</td>\n",
       "      <td>24546</td>\n",
       "      <td>7519</td>\n",
       "      <td>17</td>\n",
       "      <td>44</td>\n",
       "      <td>31842</td>\n",
       "      <td>284</td>\n",
       "      <td>612</td>\n",
       "    </tr>\n",
       "    <tr>\n",
       "      <th>Sims_2019</th>\n",
       "      <td>60725</td>\n",
       "      <td>41583</td>\n",
       "      <td>16431</td>\n",
       "      <td>985</td>\n",
       "      <td>265</td>\n",
       "      <td>57434</td>\n",
       "      <td>1830</td>\n",
       "      <td>1461</td>\n",
       "    </tr>\n",
       "    <tr>\n",
       "      <th>Schultze_unpubl</th>\n",
       "      <td>24532</td>\n",
       "      <td>20655</td>\n",
       "      <td>3820</td>\n",
       "      <td>5</td>\n",
       "      <td>6</td>\n",
       "      <td>24290</td>\n",
       "      <td>196</td>\n",
       "      <td>46</td>\n",
       "    </tr>\n",
       "  </tbody>\n",
       "</table>\n",
       "</div>"
      ],
      "text/plain": [
       "                                 Target HGNC Names                          \\\n",
       "                       Input IDs        One-to-One        One-to-Many        \n",
       "                                               TDM    ATM         TDM  ATM   \n",
       "Kaminski_2020              45947             33446  12331          59   13   \n",
       "Meyer_2021                 20922             20532    368           3    2   \n",
       "MeyerNikolic_unpubl        33582             25109   8342          15   10   \n",
       "Barbry_unpubl              16859             15155   1679           1    4   \n",
       "Regev_2021                 30983             23466   7387           8    9   \n",
       "Thienpont_2018             27958             22394   5342           8   43   \n",
       "Budinger_2020              26316             21441   4807           6    6   \n",
       "Banovich_Kropski_2020      33694             25229   8131          15   57   \n",
       "Sheppard_2020              27147             21915   5020           6   40   \n",
       "Wunderink_2021             21819             18856   2907           2    1   \n",
       "Lambrechts_2021            33538             25091   8342          15   10   \n",
       "Zhang_2021                 18474             18364     99           1    0   \n",
       "Duong_lungMAP_unpubl       27678             21617   5994           6   10   \n",
       "Janssen_2020               33538             25091   8342          15   10   \n",
       "Sun_2020                   26578             21097   5417           6    8   \n",
       "Gomperts_2021              31229             24929   5910          14   28   \n",
       "Eils_2020                  32738             24546   7519          17   44   \n",
       "Schiller_2020              32104             25106   6431           8   26   \n",
       "Misharin_Budinger_2018     27181             21945   5009           7   43   \n",
       "Shalek_2018                25328             21154   3642           7   33   \n",
       "Schiller_2021              17533             17330    193           0    0   \n",
       "Peer_Massague_2020         19222             17897   1247           4   11   \n",
       "Lafyatis_2019              22164             21693    442           6    2   \n",
       "Tata_unpubl                31915             24230   7632          11    6   \n",
       "Xu_2020                    32738             24546   7519          17   44   \n",
       "Sims_2019                  60725             41583  16431         985  265   \n",
       "Schultze_unpubl            24532             20655   3820           5    6   \n",
       "\n",
       "                       Target Ensembl                          \n",
       "                           One-to-One One-to-Many One-to-None  \n",
       "                                  TDM         TDM              \n",
       "Kaminski_2020                   45353         496          98  \n",
       "Meyer_2021                      20692         213          17  \n",
       "MeyerNikolic_unpubl             33186         290         106  \n",
       "Barbry_unpubl                   16738         101          20  \n",
       "Regev_2021                      30648         222         113  \n",
       "Thienpont_2018                  27541         246         171  \n",
       "Budinger_2020                   26066         194          56  \n",
       "Banovich_Kropski_2020           33096         336         262  \n",
       "Sheppard_2020                   26742         239         166  \n",
       "Wunderink_2021                  21597         169          53  \n",
       "Lambrechts_2021                 33168         290          80  \n",
       "Zhang_2021                      18305         159          10  \n",
       "Duong_lungMAP_unpubl            27447         180          51  \n",
       "Janssen_2020                    33168         290          80  \n",
       "Sun_2020                        26367         161          50  \n",
       "Gomperts_2021                   30607         274         348  \n",
       "Eils_2020                       31842         284         612  \n",
       "Schiller_2020                   31308         263         533  \n",
       "Misharin_Budinger_2018          26753         251         177  \n",
       "Shalek_2018                     24638         198         492  \n",
       "Schiller_2021                   17384         139          10  \n",
       "Peer_Massague_2020              19004         155          63  \n",
       "Lafyatis_2019                   21885         258          21  \n",
       "Tata_unpubl                     31599         280          36  \n",
       "Xu_2020                         31842         284         612  \n",
       "Sims_2019                       57434        1830        1461  \n",
       "Schultze_unpubl                 24290         196          46  "
      ]
     },
     "execution_count": 173,
     "metadata": {},
     "output_type": "execute_result"
    }
   ],
   "source": [
    "df = df[[\n",
    "(                 '',            'Input IDs', ''),\n",
    "('Target HGNC Names',  'One-to-One',       'TDM'),\n",
    "#('Target HGNC Names',  'One-to-One',        'CI'),\n",
    "('Target HGNC Names',  'One-to-One',       'ATM'),\n",
    "('Target HGNC Names', 'One-to-Many',       'TDM'),\n",
    "#('Target HGNC Names', 'One-to-Many',        'CI'),\n",
    "('Target HGNC Names', 'One-to-Many',       'ATM'),\n",
    "(   'Target Ensembl',  'One-to-One',       'TDM'),\n",
    "#(   'Target Ensembl',  'One-to-One',        'CI'),\n",
    "#(   'Target Ensembl',  'One-to-One',       'ATM'),\n",
    "(   'Target Ensembl', 'One-to-Many',       'TDM'),\n",
    "#(   'Target Ensembl', 'One-to-Many',        'CI'),\n",
    "#(   'Target Ensembl', 'One-to-Many',       'ATM'),\n",
    "(                 '', 'One-to-None',          '')\n",
    "]]\n",
    "df"
   ]
  },
  {
   "cell_type": "code",
   "execution_count": 176,
   "id": "2d1e0db4-9ca6-4f37-be71-261d1f974e52",
   "metadata": {},
   "outputs": [
    {
     "data": {
      "text/plain": [
       "dict_keys(['Kaminski_2020', 'Meyer_2021', 'MeyerNikolic_unpubl', 'Barbry_unpubl', 'Regev_2021', 'Thienpont_2018', 'Budinger_2020', 'Banovich_Kropski_2020', 'Sheppard_2020', 'Wunderink_2021', 'Lambrechts_2021', 'Zhang_2021', 'Duong_lungMAP_unpubl', 'Janssen_2020', 'Sun_2020', 'Gomperts_2021', 'Eils_2020', 'Schiller_2020', 'Misharin_Budinger_2018', 'Shalek_2018', 'Schiller_2021', 'Peer_Massague_2020', 'Lafyatis_2019', 'Tata_unpubl', 'Xu_2020', 'Sims_2019', 'Schultze_unpubl'])"
      ]
     },
     "execution_count": 176,
     "metadata": {},
     "output_type": "execute_result"
    }
   ],
   "source": [
    "res_hgn.keys()"
   ]
  },
  {
   "cell_type": "code",
   "execution_count": 180,
   "id": "81255b16-d219-4753-8200-a5faf43236ce",
   "metadata": {},
   "outputs": [
    {
     "data": {
      "text/plain": [
       "dict_keys(['changed_only_1_to_n', 'changed_only_1_to_1', 'alternative_target_1_to_1', 'alternative_target_1_to_n', 'matching_1_to_0', 'matching_1_to_1', 'matching_1_to_n', 'input_identifiers'])"
      ]
     },
     "execution_count": 180,
     "metadata": {},
     "output_type": "execute_result"
    }
   ],
   "source": [
    "res_hgn[\"Kaminski_2020\"].keys()"
   ]
  },
  {
   "cell_type": "code",
   "execution_count": 234,
   "id": "a70f5fd2-40bf-4815-b392-71c7391dd133",
   "metadata": {},
   "outputs": [
    {
     "data": {
      "text/plain": [
       "dict_keys(['target_id', 'last_node', 'final_database', 'graph_id', 'query_id', 'no_corresponding', 'no_conversion', 'no_target'])"
      ]
     },
     "execution_count": 234,
     "metadata": {},
     "output_type": "execute_result"
    }
   ],
   "source": [
    "res_hgn[\"Kaminski_2020\"]['changed_only_1_to_n'][0].keys()"
   ]
  },
  {
   "cell_type": "code",
   "execution_count": 235,
   "id": "22c3bc91-8619-4e0c-92de-1d9b8d9a4eec",
   "metadata": {},
   "outputs": [],
   "source": [
    "query_ids = dict()\n",
    "for i in res_hgn:\n",
    "    query_ids[i] = list()\n",
    "    for j in res_hgn[i][\"input_identifiers\"]:\n",
    "        query_ids[i].append(j[\"query_id\"])\n",
    "        \n",
    "hgnc_ids = dict()\n",
    "for i in res_hgn:\n",
    "    hgnc_ids[i] = list()\n",
    "    for j in res_hgn[i][\"matching_1_to_1\"]:\n",
    "        hgnc_ids[i].append(j[\"target_id\"][0])\n",
    "    for j in res_hgn[i][\"alternative_target_1_to_1\"]:\n",
    "        hgnc_ids[i].append(j[\"target_id\"][0])\n",
    "        \n",
    "ens_ids = dict()\n",
    "for i in res_ens:\n",
    "    ens_ids[i] = list()\n",
    "    for j in res_ens[i][\"matching_1_to_1\"]:\n",
    "        ens_ids[i].append(j[\"target_id\"][0])"
   ]
  },
  {
   "cell_type": "code",
   "execution_count": 236,
   "id": "9558d8ce-374e-43e8-8158-33abf13907d9",
   "metadata": {},
   "outputs": [
    {
     "name": "stdout",
     "output_type": "stream",
     "text": [
      "45947 45777 45353\n",
      "20922 20900 20692\n",
      "33582 33451 33186\n",
      "16859 16834 16738\n",
      "30983 30853 30648\n",
      "27958 27736 27541\n",
      "26316 26248 26066\n",
      "33694 33360 33096\n",
      "27147 26935 26742\n",
      "21819 21763 21597\n",
      "33538 33433 33168\n",
      "18474 18463 18305\n",
      "27678 27611 27447\n",
      "33538 33433 33168\n",
      "26578 26514 26367\n",
      "31229 30839 30607\n",
      "32738 32065 31842\n",
      "32104 31537 31308\n",
      "27181 26954 26753\n",
      "25328 24796 24638\n",
      "17533 17523 17384\n",
      "19222 19144 19004\n",
      "22164 22135 21885\n",
      "31915 31862 31599\n",
      "32738 32065 31842\n",
      "60725 58014 57434\n",
      "24532 24475 24290\n"
     ]
    }
   ],
   "source": [
    "for i in query_ids:\n",
    "    print(len(query_ids[i]), len(hgnc_ids[i]), len(ens_ids[i]))"
   ]
  },
  {
   "cell_type": "code",
   "execution_count": 237,
   "id": "d86e3f17-285f-4ff8-a5a0-54bd667e0aa9",
   "metadata": {},
   "outputs": [
    {
     "data": {
      "text/plain": [
       "(782442, 774720, 768700)"
      ]
     },
     "execution_count": 237,
     "metadata": {},
     "output_type": "execute_result"
    }
   ],
   "source": [
    "a1=[i for k, v in query_ids.items() for i in v]\n",
    "a2=[i for k, v in hgnc_ids.items() for i in v]\n",
    "a3=[i for k, v in ens_ids.items() for i in v]\n",
    "len(a1), len(a2), len(a3)"
   ]
  },
  {
   "cell_type": "code",
   "execution_count": 238,
   "id": "094bd29c-1b0b-413c-a66e-ad322cc0c7ec",
   "metadata": {},
   "outputs": [
    {
     "data": {
      "text/plain": [
       "(94538, 56960, 56536)"
      ]
     },
     "execution_count": 238,
     "metadata": {},
     "output_type": "execute_result"
    }
   ],
   "source": [
    "b1,b2,b3=set(a1),set(a2),set(a3)\n",
    "len(b1),len(b2),len(b3)"
   ]
  },
  {
   "cell_type": "code",
   "execution_count": 272,
   "id": "0b54ccac-5b90-425d-9b55-9cf4edd8398e",
   "metadata": {},
   "outputs": [
    {
     "data": {
      "text/plain": [
       "[('Kaminski_2020', 11756, 44780, 56536),\n",
       " ('Meyer_2021', 36051, 20485, 56536),\n",
       " ('MeyerNikolic_unpubl', 24123, 32413, 56536),\n",
       " ('Barbry_unpubl', 39911, 16625, 56536),\n",
       " ('Regev_2021', 26455, 30081, 56536),\n",
       " ('Thienpont_2018', 29425, 27111, 56536),\n",
       " ('Budinger_2020', 30876, 25660, 56536),\n",
       " ('Banovich_Kropski_2020', 24140, 32396, 56536),\n",
       " ('Sheppard_2020', 30223, 26313, 56536),\n",
       " ('Wunderink_2021', 35219, 21317, 56536),\n",
       " ('Lambrechts_2021', 24123, 32413, 56536),\n",
       " ('Zhang_2021', 38356, 18180, 56536),\n",
       " ('Duong_lungMAP_unpubl', 29509, 27027, 56536),\n",
       " ('Janssen_2020', 24123, 32413, 56536),\n",
       " ('Sun_2020', 30537, 25999, 56536),\n",
       " ('Gomperts_2021', 30995, 25541, 56536),\n",
       " ('Eils_2020', 25661, 30875, 56536),\n",
       " ('Schiller_2020', 28743, 27793, 56536),\n",
       " ('Misharin_Budinger_2018', 30217, 26319, 56536),\n",
       " ('Shalek_2018', 32318, 24218, 56536),\n",
       " ('Schiller_2021', 39277, 17259, 56536),\n",
       " ('Peer_Massague_2020', 37709, 18827, 56536),\n",
       " ('Lafyatis_2019', 34924, 21612, 56536),\n",
       " ('Tata_unpubl', 25403, 31133, 56536),\n",
       " ('Xu_2020', 25661, 30875, 56536),\n",
       " ('Sims_2019', 2190, 54346, 56536),\n",
       " ('Schultze_unpubl', 32530, 24006, 56536)]"
      ]
     },
     "execution_count": 272,
     "metadata": {},
     "output_type": "execute_result"
    }
   ],
   "source": [
    "[(i, len(b3-set(v)), len(set(v)), len(b3)) for i,v in ens_ids.items()]"
   ]
  },
  {
   "cell_type": "code",
   "execution_count": 270,
   "id": "f29b9127-c05a-4e23-a7bb-6fe3e675d658",
   "metadata": {},
   "outputs": [
    {
     "data": {
      "text/plain": [
       "[('Kaminski_2020', 11793, 45167, 56960),\n",
       " ('Meyer_2021', 36154, 20806, 56960),\n",
       " ('MeyerNikolic_unpubl', 24284, 32676, 56960),\n",
       " ('Barbry_unpubl', 40223, 16737, 56960),\n",
       " ('Regev_2021', 26709, 30251, 56960),\n",
       " ('Thienpont_2018', 29588, 27372, 56960),\n",
       " ('Budinger_2020', 31120, 25840, 56960),\n",
       " ('Banovich_Kropski_2020', 24202, 32758, 56960),\n",
       " ('Sheppard_2020', 30402, 26558, 56960),\n",
       " ('Wunderink_2021', 35477, 21483, 56960),\n",
       " ('Lambrechts_2021', 24284, 32676, 56960),\n",
       " ('Zhang_2021', 38556, 18404, 56960),\n",
       " ('Duong_lungMAP_unpubl', 29794, 27166, 56960),\n",
       " ('Janssen_2020', 24284, 32676, 56960),\n",
       " ('Sun_2020', 30828, 26132, 56960),\n",
       " ('Gomperts_2021', 31114, 25846, 56960),\n",
       " ('Eils_2020', 25741, 31219, 56960),\n",
       " ('Schiller_2020', 28974, 27986, 56960),\n",
       " ('Misharin_Budinger_2018', 30371, 26589, 56960),\n",
       " ('Shalek_2018', 32544, 24416, 56960),\n",
       " ('Schiller_2021', 39511, 17449, 56960),\n",
       " ('Peer_Massague_2020', 37940, 19020, 56960),\n",
       " ('Lafyatis_2019', 34941, 22019, 56960),\n",
       " ('Tata_unpubl', 25483, 31477, 56960),\n",
       " ('Xu_2020', 25741, 31219, 56960),\n",
       " ('Sims_2019', 1934, 55026, 56960),\n",
       " ('Schultze_unpubl', 32772, 24188, 56960)]"
      ]
     },
     "execution_count": 270,
     "metadata": {},
     "output_type": "execute_result"
    }
   ],
   "source": [
    "[(i, len(b2-set(v)), len(set(v)), len(b2)) for i,v in hgnc_ids.items()]"
   ]
  },
  {
   "cell_type": "code",
   "execution_count": 271,
   "id": "d75204d4-bf0b-49fe-ad32-625d5c46a119",
   "metadata": {},
   "outputs": [
    {
     "data": {
      "text/plain": [
       "[('Kaminski_2020', 48591, 45947, 94538),\n",
       " ('Meyer_2021', 73616, 20922, 94538),\n",
       " ('MeyerNikolic_unpubl', 60956, 33582, 94538),\n",
       " ('Barbry_unpubl', 77679, 16859, 94538),\n",
       " ('Regev_2021', 63555, 30983, 94538),\n",
       " ('Thienpont_2018', 66580, 27958, 94538),\n",
       " ('Budinger_2020', 68222, 26316, 94538),\n",
       " ('Banovich_Kropski_2020', 60844, 33694, 94538),\n",
       " ('Sheppard_2020', 67391, 27147, 94538),\n",
       " ('Wunderink_2021', 72719, 21819, 94538),\n",
       " ('Lambrechts_2021', 61000, 33538, 94538),\n",
       " ('Zhang_2021', 76064, 18474, 94538),\n",
       " ('Duong_lungMAP_unpubl', 66860, 27678, 94538),\n",
       " ('Janssen_2020', 61000, 33538, 94538),\n",
       " ('Sun_2020', 67960, 26578, 94538),\n",
       " ('Gomperts_2021', 63309, 31229, 94538),\n",
       " ('Eils_2020', 61800, 32738, 94538),\n",
       " ('Schiller_2020', 62434, 32104, 94538),\n",
       " ('Misharin_Budinger_2018', 67357, 27181, 94538),\n",
       " ('Shalek_2018', 69210, 25328, 94538),\n",
       " ('Schiller_2021', 77005, 17533, 94538),\n",
       " ('Peer_Massague_2020', 75316, 19222, 94538),\n",
       " ('Lafyatis_2019', 72374, 22164, 94538),\n",
       " ('Tata_unpubl', 62623, 31915, 94538),\n",
       " ('Xu_2020', 61800, 32738, 94538),\n",
       " ('Sims_2019', 33813, 60725, 94538),\n",
       " ('Schultze_unpubl', 70006, 24532, 94538)]"
      ]
     },
     "execution_count": 271,
     "metadata": {},
     "output_type": "execute_result"
    }
   ],
   "source": [
    "[(i, len(b1-set(v)), len(set(v)), len(b1)) for i,v in query_ids.items()]"
   ]
  },
  {
   "cell_type": "code",
   "execution_count": null,
   "id": "70a085e0-202f-485e-a933-1bd60d76f5e0",
   "metadata": {},
   "outputs": [],
   "source": []
  },
  {
   "cell_type": "code",
   "execution_count": null,
   "id": "3b43b8f6-be41-460e-91d9-f469c78d28c6",
   "metadata": {},
   "outputs": [],
   "source": []
  },
  {
   "cell_type": "code",
   "execution_count": null,
   "id": "7053acfd-9c63-48b7-9e09-f09f0ff8086e",
   "metadata": {},
   "outputs": [],
   "source": []
  }
 ],
 "metadata": {
  "kernelspec": {
   "display_name": "Python 3 (ipykernel)",
   "language": "python",
   "name": "python3"
  },
  "language_info": {
   "codemirror_mode": {
    "name": "ipython",
    "version": 3
   },
   "file_extension": ".py",
   "mimetype": "text/x-python",
   "name": "python",
   "nbconvert_exporter": "python",
   "pygments_lexer": "ipython3",
   "version": "3.8.15"
  }
 },
 "nbformat": 4,
 "nbformat_minor": 5
}
