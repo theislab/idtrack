{
 "cells": [
  {
   "cell_type": "markdown",
   "id": "d1683cbc-052b-4244-81b2-31726daf043b",
   "metadata": {},
   "source": [
    "# Comparison with Available Tools"
   ]
  },
  {
   "cell_type": "markdown",
   "id": "d2ef3cda-80f9-4029-8b0e-db65f9b8eb51",
   "metadata": {
    "tags": []
   },
   "source": [
    "Environment installation\n",
    "\n",
    "```console\n",
    "foo@bar:~$ conda create -n r_idtdev python=3.8 hdf5 h5py jupyterlab pip wget pandas numpy tqdm scipy networkx matplotlib seaborn scikit-learn requests pymysql poetry pytables pyyaml nbconvert pandoc ipywidgets anndata rpy2 r-base r-essentials r-recommended r-devtools r-irkernel r-dplyr r-biocmanager r-visnetwork r-readr r-shiny r-stringr r-dt r-rstudioapi r-miniui r-rcpp r-png r-plogr r-rcppeigen r-bh r-jpeg r-lambda.r r-futile.options r-matrixstats r-reticulate r-futile.logger r-snow r-rjson r-deldir r-xml r-rcurl r-chron r-proto r-rsqlite r-gprofiler r-gprofiler2 r-gridextra r-interp r-latticeextra r-formula r-checkmate r-callr r-testthat r-knitr r-rmarkdown -c conda-forge -y\n",
    "foo@bar:~$ conda activate r_idtdev\n",
    "foo@bar:~$ pip install gget mygene pybiomart gprofiler-official\n",
    "foo@bar:~$ jupyter nbextension enable --py widgetsnbextension\n",
    "foo@bar:~$ ipython kernel install --name r_idtdev --user\n",
    "foo@bar:~$ cd; mkdir tmp\n",
    "foo@bar:~$ export TMPDIR=~/tmp\n",
    "foo@bar:~$ R  # go in the R console\n",
    "```\n",
    "```R\n",
    "# In R console:\n",
    "list.of.packages <- c(\"neo2R\", \"utils\", \"BED\")\n",
    "new.packages <- list.of.packages[!(list.of.packages %in% installed.packages()[,\"Package\"])]\n",
    "if(length(new.packages)) install.packages(new.packages)\n",
    "library(BED)\n",
    "connectToBed(\"http://icbedb1:5454\")\n",
    "BiocManager::install(c(\"biomaRt\", \"mygene\", \"basilisk\"), update = FALSE)\n",
    "library(biomaRt)\n",
    "library(mygene)\n",
    "library(basilisk)\n",
    "```\n",
    "\n",
    "Also, see the *'r_idtdev_environment.yml'* file under *'docs/_notebooks'*.\n",
    "\n",
    "Summary installed tools:\n",
    "- Python: `idtrack` requirements\n",
    "- Python: `biomart`\n",
    "- Python: `mygene` \n",
    "- Python: `gprofiler`\n",
    "- Python: `gget`\n",
    "- R: `BED`\n",
    "- R: `biomart`\n",
    "- R: `mygene`\n",
    "- R: `gprofiler`"
   ]
  },
  {
   "cell_type": "markdown",
   "id": "b7602459-84f5-4a83-bdfc-8a6213de5d12",
   "metadata": {},
   "source": [
    "Initialize the environments"
   ]
  },
  {
   "cell_type": "code",
   "execution_count": 1,
   "id": "cc2fd078-dd76-4c8a-bf6c-9f0c5919925f",
   "metadata": {},
   "outputs": [],
   "source": [
    "import sys\n",
    "sys.path.append(\"../..\")"
   ]
  },
  {
   "cell_type": "code",
   "execution_count": 2,
   "id": "c5333839-521a-4bfa-b159-aa808fdee396",
   "metadata": {},
   "outputs": [],
   "source": [
    "import os\n",
    "import time\n",
    "import pandas as pd\n",
    "import anndata as ad\n",
    "import tqdm\n",
    "import pickle\n",
    "import copy\n",
    "import random\n",
    "import matplotlib.pyplot as plt\n",
    "import seaborn as sns\n",
    "import matplotlib.patches as mpatches\n",
    "import idtrack, mygene, gget, mygene, pybiomart"
   ]
  },
  {
   "cell_type": "code",
   "execution_count": 3,
   "id": "15f09496-fc5d-4719-a3b0-95e84a4faee3",
   "metadata": {
    "tags": []
   },
   "outputs": [
    {
     "name": "stderr",
     "output_type": "stream",
     "text": [
      "Sun Feb 19 15:24:08 2023 INFO cffi mode is CFFI_MODE.ANY\n",
      "Sun Feb 19 15:24:08 2023 INFO R home found: /home/icb/kemal.inecik/miniconda3/envs/r_idtdev/lib/R\n",
      "Sun Feb 19 15:24:09 2023 INFO R library path: \n",
      "Sun Feb 19 15:24:09 2023 INFO LD_LIBRARY_PATH: \n",
      "Sun Feb 19 15:24:09 2023 INFO Default options to initialize R: rpy2, --quiet, --no-save\n",
      "Sun 19 Feb 2023 03:24:09 PM CET INFO R is already initialized. No need to initialize.\n"
     ]
    }
   ],
   "source": [
    "%load_ext rpy2.ipython"
   ]
  },
  {
   "cell_type": "code",
   "execution_count": 4,
   "id": "70246f2c-33e3-47ba-b0dd-56699da811d0",
   "metadata": {
    "tags": []
   },
   "outputs": [
    {
     "name": "stderr",
     "output_type": "stream",
     "text": [
      "Sun 19 Feb 2023 03:24:20 PM CET WARNING R[write to console]: http://icbedb1:5454\n",
      "\n",
      "Sun 19 Feb 2023 03:24:20 PM CET WARNING R[write to console]: BED\n",
      "\n",
      "Sun 19 Feb 2023 03:24:20 PM CET WARNING R[write to console]: UCB-Human\n",
      "\n",
      "Sun 19 Feb 2023 03:24:20 PM CET WARNING R[write to console]: 2019.10.11\n",
      "\n",
      "Sun 19 Feb 2023 03:24:20 PM CET WARNING R[write to console]: Cache ON\n",
      "\n"
     ]
    }
   ],
   "source": [
    "%%R\n",
    "suppressMessages(library(mygene))\n",
    "suppressMessages(library(biomaRt))\n",
    "suppressMessages(library(gprofiler2))\n",
    "suppressMessages(library(BED))\n",
    "connectToBed(\"http://icbedb1:5454\", useCache=TRUE)"
   ]
  },
  {
   "cell_type": "code",
   "execution_count": 5,
   "id": "62f9ce76-bf3a-4fb0-b497-45bb9d2233e2",
   "metadata": {},
   "outputs": [],
   "source": [
    "%load_ext autoreload\n",
    "%autoreload 2"
   ]
  },
  {
   "cell_type": "code",
   "execution_count": 6,
   "id": "edb3a134-ebf7-4163-ab7f-25f349a2f733",
   "metadata": {},
   "outputs": [],
   "source": [
    "%matplotlib inline\n",
    "%config InlineBackend.figure_format='retina'"
   ]
  },
  {
   "cell_type": "code",
   "execution_count": 7,
   "id": "f7aa3efb-360b-4d4d-bb1e-bbcdad6c6ba2",
   "metadata": {},
   "outputs": [],
   "source": [
    "plt.rcParams['font.family'] = 'DeJavu Serif'\n",
    "plt.rcParams['font.serif'] = ['Times New Roman']"
   ]
  },
  {
   "cell_type": "code",
   "execution_count": null,
   "id": "04763d2d-08e8-4457-96c3-ffc0d437f827",
   "metadata": {},
   "outputs": [],
   "source": [
    "# !ls -lh /lustre/groups/ml01/workspace/kemal.inecik/idtrack_temp"
   ]
  },
  {
   "cell_type": "code",
   "execution_count": null,
   "id": "5e86847e-8d24-4354-959d-9721f2af7ba7",
   "metadata": {},
   "outputs": [],
   "source": [
    "local_dir = \"/lustre/groups/ml01/workspace/kemal.inecik/idtrack_temp\"\n",
    "idt = idtrack.API(local_repository=local_dir)\n",
    "idt.configure_logger()\n",
    "idt.initialize_graph(organism_name='homo_sapiens', ensembl_release=107, return_test=True)\n",
    "idt.calculate_graph_caches()"
   ]
  },
  {
   "cell_type": "markdown",
   "id": "8e3d7c58-c872-4055-84c6-1217c4fa7028",
   "metadata": {},
   "source": [
    "Demo Runs"
   ]
  },
  {
   "cell_type": "code",
   "execution_count": 19,
   "id": "687020ed-f96e-49a1-9e69-4368c92f310f",
   "metadata": {
    "tags": []
   },
   "outputs": [],
   "source": [
    "%%R\n",
    "oriId <- c(\n",
    "    \"17237\", \"105886298\", \"76429\", \"80985\", \"230514\", \"66459\",\n",
    "    \"93696\", \"72514\", \"20352\", \"13347\", \"100462961\", \"100043346\",\n",
    "    \"12400\", \"106582\", \"19062\", \"245607\", \"79196\", \"16878\", \"320727\",\n",
    "    \"230649\", \"66880\", \"66245\", \"103742\", \"320145\", \"140795\"\n",
    ")\n",
    "res <- convBeIds(\n",
    "    ids=oriId,\n",
    "    from=\"Gene\",\n",
    "    from.source=\"EntrezGene\",\n",
    "    from.org=\"mouse\",\n",
    "    to.source=\"Ens_gene\",\n",
    "    restricted=TRUE,\n",
    "    prefFilter=TRUE\n",
    ")"
   ]
  },
  {
   "cell_type": "code",
   "execution_count": 21,
   "id": "85c788b8-dff4-4575-835c-bd950d418cf5",
   "metadata": {
    "tags": []
   },
   "outputs": [
    {
     "name": "stdout",
     "output_type": "stream",
     "text": [
      "        from                 to to.preferred to.entity\n",
      "1      79196 ENSMUSG00000037606         TRUE   3211593\n",
      "2      66459 ENSMUSG00000043162         TRUE   3216083\n",
      "3     320145 ENSMUSG00000048562         TRUE   3218320\n",
      "4  105886298 ENSMUSG00000090110         TRUE   3220852\n",
      "5      76429 ENSMUSG00000030946         TRUE   3222042\n",
      "6      17237 ENSMUSG00000022517         TRUE   3223468\n",
      "7      13347 ENSMUSG00000028974         TRUE   3232153\n",
      "8      72514 ENSMUSG00000047632         TRUE   3232384\n",
      "9      12400 ENSMUSG00000031885         TRUE   3234326\n",
      "10     20352 ENSMUSG00000030539         TRUE   3238604\n",
      "11    106582 ENSMUSG00000059791         TRUE   3238742\n",
      "12    245607 ENSMUSG00000072966         TRUE   3240410\n",
      "13    230514 ENSMUSG00000035212         TRUE   3247955\n",
      "14    230649 ENSMUSG00000028710         TRUE   3250036\n",
      "15     16878 ENSMUSG00000034394         TRUE   3253295\n",
      "16     66245 ENSMUSG00000063802         TRUE   3256026\n",
      "17    103742 ENSMUSG00000002580         TRUE   3258341\n",
      "18     80985 ENSMUSG00000027189         TRUE   3258408\n",
      "19     66880 ENSMUSG00000034544         TRUE   3260269\n",
      "20     19062 ENSMUSG00000006127         TRUE   3260508\n",
      "21     93696 ENSMUSG00000068391         TRUE   3261282\n",
      "22    320727 ENSMUSG00000040029         TRUE   3265535\n",
      "23    140795 ENSMUSG00000036381         TRUE   7076024\n",
      "24 100043346 ENSMUSG00000058443         TRUE   7086779\n",
      "25 100462961 ENSMUSG00000082123         TRUE   7090109\n"
     ]
    }
   ],
   "source": [
    "%%R\n",
    "res"
   ]
  },
  {
   "cell_type": "code",
   "execution_count": 16,
   "id": "6ea47bdf-9208-4c7e-a4bc-87b75c68dac4",
   "metadata": {
    "tags": []
   },
   "outputs": [
    {
     "name": "stdout",
     "output_type": "stream",
     "text": [
      "          from     to to.preferred to.entity\n",
      "1 ILMN_1220595 Q16552         TRUE   2743903\n"
     ]
    }
   ],
   "source": [
    "%%R\n",
    "from.id <- \"ILMN_1220595\"\n",
    "res <- convBeIds(\n",
    "   ids=from.id, from=\"Probe\", from.source=\"GPL6885\", from.org=\"mouse\",\n",
    "   to=\"Peptide\", to.source=\"Uniprot\", to.org=\"human\",\n",
    "   prefFilter=TRUE\n",
    ")\n",
    "res"
   ]
  },
  {
   "cell_type": "markdown",
   "id": "7e6b8626-2ae6-479a-a359-3b8e346029ee",
   "metadata": {
    "tags": []
   },
   "source": [
    "Random list of identifiers"
   ]
  },
  {
   "cell_type": "code",
   "execution_count": null,
   "id": "0343ed41-9d12-493e-8c9f-2a9ac4e3a1fe",
   "metadata": {},
   "outputs": [],
   "source": []
  }
 ],
 "metadata": {
  "kernelspec": {
   "display_name": "r_idtdev",
   "language": "python",
   "name": "r_idtdev"
  },
  "language_info": {
   "codemirror_mode": {
    "name": "ipython",
    "version": 3
   },
   "file_extension": ".py",
   "mimetype": "text/x-python",
   "name": "python",
   "nbconvert_exporter": "python",
   "pygments_lexer": "ipython3",
   "version": "3.8.16"
  }
 },
 "nbformat": 4,
 "nbformat_minor": 5
}
