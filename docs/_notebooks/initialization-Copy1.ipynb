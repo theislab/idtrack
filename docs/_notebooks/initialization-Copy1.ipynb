{
 "cells": [
  {
   "cell_type": "markdown",
   "id": "2a04ff2e-9cab-4760-b8ec-0ef8b36e4f5d",
   "metadata": {},
   "source": [
    "# Initialization and Memory Usage "
   ]
  },
  {
   "cell_type": "code",
   "execution_count": 1,
   "id": "89b49214-d6a0-4e9f-a4b4-feddde076978",
   "metadata": {
    "pycharm": {
     "name": "#%% md\n"
    },
    "tags": []
   },
   "outputs": [],
   "source": [
    "import sys\n",
    "sys.path.append(\"/home/icb/kemal.inecik/work/codes/idtrack\")"
   ]
  },
  {
   "cell_type": "code",
   "execution_count": 2,
   "id": "75611a93-37e2-4119-a566-76a4fb6b3b57",
   "metadata": {
    "tags": []
   },
   "outputs": [],
   "source": [
    "import os\n",
    "import time\n",
    "import pickle"
   ]
  },
  {
   "cell_type": "code",
   "execution_count": 3,
   "id": "d76eae0f-512c-40f9-919c-f4fcaad1371f",
   "metadata": {
    "tags": []
   },
   "outputs": [],
   "source": [
    "import idtrack"
   ]
  },
  {
   "cell_type": "code",
   "execution_count": 4,
   "id": "383c559f-3900-4737-99d1-19255a4c6507",
   "metadata": {
    "tags": []
   },
   "outputs": [
    {
     "name": "stderr",
     "output_type": "stream",
     "text": [
      "2023-11-03 13:15:20 INFO:graph_maker: The graph is being read.\n"
     ]
    }
   ],
   "source": [
    "local_dir = \"/lustre/groups/ml01/workspace/kemal.inecik/idtrack_temp\"\n",
    "idt = idtrack.API(local_repository=local_dir)\n",
    "idt.configure_logger()\n",
    "idt.initialize_graph(organism_name='homo_sapiens', ensembl_release=107, return_test=True)"
   ]
  },
  {
   "cell_type": "code",
   "execution_count": null,
   "id": "c68c650b-0098-4550-9e81-f18061293b56",
   "metadata": {
    "tags": []
   },
   "outputs": [],
   "source": []
  },
  {
   "cell_type": "code",
   "execution_count": 1,
   "id": "05b19021-5e0f-4d13-937a-43de2d866d16",
   "metadata": {
    "tags": []
   },
   "outputs": [
    {
     "ename": "NameError",
     "evalue": "name 'objsize' is not defined",
     "output_type": "error",
     "traceback": [
      "\u001b[0;31m---------------------------------------------------------------------------\u001b[0m",
      "\u001b[0;31mNameError\u001b[0m                                 Traceback (most recent call last)",
      "Cell \u001b[0;32mIn[1], line 1\u001b[0m\n\u001b[0;32m----> 1\u001b[0m \u001b[43mobjsize\u001b[49m\u001b[38;5;241m.\u001b[39mget_deep_size(idt)\n",
      "\u001b[0;31mNameError\u001b[0m: name 'objsize' is not defined"
     ]
    }
   ],
   "source": [
    "objsize.get_deep_size(idt)"
   ]
  },
  {
   "cell_type": "code",
   "execution_count": null,
   "id": "5bf5aa29-8fdc-499d-b557-818b527a5039",
   "metadata": {
    "tags": []
   },
   "outputs": [
    {
     "name": "stderr",
     "output_type": "stream",
     "text": [
      "2023-06-26 16:01:06 INFO:the_graph: Cached properties being calculated: combined_edges\n",
      "2023-06-26 16:01:32 INFO:the_graph: Cached properties being calculated: combined_edges_assembly_specific_genes\n",
      "2023-06-26 16:01:47 INFO:the_graph: Cached properties being calculated: combined_edges_genes\n",
      "2023-06-26 16:01:56 INFO:the_graph: Cached properties being calculated: lower_chars_graph\n",
      "2023-06-26 16:01:57 INFO:the_graph: Cached properties being calculated: get_active_ranges_of_id\n",
      "2023-06-26 16:02:13 INFO:the_graph: Cached properties being calculated: available_external_databases\n",
      "2023-06-26 16:02:14 INFO:the_graph: Cached properties being calculated: external_database_connection_form\n"
     ]
    }
   ],
   "source": [
    "idt.calculate_graph_caches()"
   ]
  },
  {
   "cell_type": "code",
   "execution_count": 8,
   "id": "96b1493a-0a54-4729-a7e1-0f0eb7fe2313",
   "metadata": {},
   "outputs": [
    {
     "data": {
      "text/plain": [
       "27428003317"
      ]
     },
     "execution_count": 8,
     "metadata": {},
     "output_type": "execute_result"
    }
   ],
   "source": [
    "objsize.get_deep_size(idt)"
   ]
  },
  {
   "cell_type": "code",
   "execution_count": 11,
   "id": "84a19fa5-60df-4e8c-98ac-37b8eea9e0f8",
   "metadata": {
    "tags": []
   },
   "outputs": [
    {
     "name": "stdout",
     "output_type": "stream",
     "text": [
      "total 15527352\n",
      "-rw-rwxr--+ 1 kemal.inecik OG-ICB-User  651627620 Oct 17 17:18 graph_homo_sapiens_ens107_min79_narrow.pickle\n",
      "-rw-rwxr--+ 1 kemal.inecik OG-ICB-User 7625221873 Oct 17 15:01 homo_sapiens_assembly-37.h5\n",
      "-rw-rwxr--+ 1 kemal.inecik OG-ICB-User 7501059029 Oct 31 09:44 homo_sapiens_assembly-38.h5\n",
      "-rw-rwxr--+ 1 kemal.inecik OG-ICB-User      45547 Aug 12 15:57 homo_sapiens_externals_modified.yml\n",
      "-rw-rwxr--+ 1 kemal.inecik OG-ICB-User    2297214 Nov 10 10:48 results_for_hlca_core_only_ensembl_gene_20221110-094821.pk\n",
      "-rw-rwxr--+ 1 kemal.inecik OG-ICB-User    2417915 Nov 10 10:43 results_for_hlca_core_only_HGNC Symbol_20221110-094335.pk\n",
      "-rw-rwxr--+ 1 kemal.inecik OG-ICB-User   59706399 Nov  1 20:13 results_for_hlca_datasets_ensembl_gene_20221101-191345.pk\n",
      "-rw-rwxr--+ 1 kemal.inecik OG-ICB-User   57242057 Nov  1 18:50 results_for_hlca_datasets_HGNC Symbol_20221101-175029.pk\n"
     ]
    }
   ],
   "source": [
    "!ls -l /lustre/groups/ml01/workspace/kemal.inecik/idtrack_temp"
   ]
  },
  {
   "cell_type": "code",
   "execution_count": null,
   "id": "66113bd0-4196-4a48-a495-24f15b3ef9af",
   "metadata": {},
   "outputs": [],
   "source": []
  }
 ],
 "metadata": {
  "kernelspec": {
   "display_name": "Python 3 (ipykernel)",
   "language": "python",
   "name": "python3"
  },
  "language_info": {
   "codemirror_mode": {
    "name": "ipython",
    "version": 3
   },
   "file_extension": ".py",
   "mimetype": "text/x-python",
   "name": "python",
   "nbconvert_exporter": "python",
   "pygments_lexer": "ipython3",
   "version": "3.8.15"
  }
 },
 "nbformat": 4,
 "nbformat_minor": 5
}
