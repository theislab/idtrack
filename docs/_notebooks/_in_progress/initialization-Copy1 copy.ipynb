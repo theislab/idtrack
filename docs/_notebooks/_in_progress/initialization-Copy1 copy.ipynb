{
 "cells": [
  {
   "cell_type": "markdown",
   "id": "2a04ff2e-9cab-4760-b8ec-0ef8b36e4f5d",
   "metadata": {},
   "source": [
    "# Initialization and Memory Usage "
   ]
  },
  {
   "cell_type": "code",
   "execution_count": 1,
   "id": "bb228815",
   "metadata": {},
   "outputs": [],
   "source": [
    "%load_ext autoreload\n",
    "%autoreload 2"
   ]
  },
  {
   "cell_type": "code",
   "execution_count": 2,
   "id": "89b49214-d6a0-4e9f-a4b4-feddde076978",
   "metadata": {
    "pycharm": {
     "name": "#%% md\n"
    },
    "tags": []
   },
   "outputs": [],
   "source": [
    "import sys\n",
    "sys.path.append(\"/Users/kemalinecik/git_nosync/idtrack\")"
   ]
  },
  {
   "cell_type": "code",
   "execution_count": 3,
   "id": "75611a93-37e2-4119-a566-76a4fb6b3b57",
   "metadata": {
    "tags": []
   },
   "outputs": [],
   "source": [
    "import os\n",
    "import time\n",
    "import pickle"
   ]
  },
  {
   "cell_type": "code",
   "execution_count": 4,
   "id": "d76eae0f-512c-40f9-919c-f4fcaad1371f",
   "metadata": {
    "tags": []
   },
   "outputs": [],
   "source": [
    "import idtrack"
   ]
  },
  {
   "cell_type": "code",
   "execution_count": null,
   "id": "383c559f-3900-4737-99d1-19255a4c6507",
   "metadata": {
    "tags": []
   },
   "outputs": [
    {
     "name": "stderr",
     "output_type": "stream",
     "text": [
      "2025-05-25 17:19:30 INFO:graph_maker: The graph is being constructed: /Users/kemalinecik/Downloads/idtrack_temp/graph_homo_sapiens_min79_max82_narrow.pickle\n",
      "2025-05-25 17:19:30 INFO:graph_maker: Graph is being created: gene\n",
      "2025-05-25 17:20:14 INFO:database_manager: Raw table for `stable_id_event` on ensembl release `82` was downloaded.\n",
      "2025-05-25 17:20:14 INFO:database_manager: Exporting to the following file `homo_sapiens_assembly-38.h5` with key `ens82_mysql_stable_id_event`\n",
      "2025-05-25 17:20:17 INFO:database_manager: Exporting to the following file `homo_sapiens_assembly-38.h5` with key `ens82_processed_idhistory_narrow_gene`\n",
      "2025-05-25 17:20:17 INFO:graph_maker: Edges between across different IDs and self loops are being added.\n",
      "2025-05-25 17:20:17 INFO:graph_maker: Edges between the same IDs are being added.\n",
      "2025-05-25 17:20:20 INFO:graph_maker: Edges showing the retirement of IDs are being added.\n",
      "2025-05-25 17:20:21 INFO:graph_maker: Problematic nodes in Ensembl ID history are being removed.\n",
      "2025-05-25 17:20:21 INFO:graph_maker: Self-loops for latest release entries are being added.\n",
      "2025-05-25 17:20:23 INFO:graph_maker: Node attributes are being added.\n",
      "2025-05-25 17:20:23 INFO:graph_maker: Graph is being created: transcript\n",
      "2025-05-25 17:20:26 INFO:database_manager: Exporting to the following file `homo_sapiens_assembly-38.h5` with key `ens82_processed_idhistory_narrow_transcript`\n",
      "2025-05-25 17:20:26 INFO:graph_maker: Edges between across different IDs and self loops are being added.\n",
      "2025-05-25 17:20:26 INFO:graph_maker: Edges between the same IDs are being added.\n",
      "2025-05-25 17:20:41 INFO:graph_maker: Edges showing the retirement of IDs are being added.\n",
      "2025-05-25 17:20:42 INFO:graph_maker: Problematic nodes in Ensembl ID history are being removed.\n",
      "2025-05-25 17:20:44 INFO:graph_maker: Self-loops for latest release entries are being added.\n",
      "2025-05-25 17:20:48 INFO:graph_maker: Node attributes are being added.\n",
      "2025-05-25 17:20:50 INFO:graph_maker: Graph is being created: translation\n",
      "2025-05-25 17:20:53 INFO:database_manager: Exporting to the following file `homo_sapiens_assembly-38.h5` with key `ens82_processed_idhistory_narrow_translation`\n",
      "2025-05-25 17:20:53 INFO:graph_maker: Edges between across different IDs and self loops are being added.\n",
      "2025-05-25 17:20:53 INFO:graph_maker: Edges between the same IDs are being added.\n",
      "2025-05-25 17:20:58 INFO:graph_maker: Edges showing the retirement of IDs are being added.\n",
      "2025-05-25 17:20:59 INFO:graph_maker: Problematic nodes in Ensembl ID history are being removed.\n",
      "2025-05-25 17:20:59 INFO:graph_maker: Self-loops for latest release entries are being added.\n",
      "2025-05-25 17:21:02 INFO:graph_maker: Node attributes are being added.\n",
      "2025-05-25 17:21:04 INFO:graph_maker: Establishing connection between different forms.\n",
      "2025-05-25 17:21:26 INFO:graph_maker: Edges between external IDs to Ensembl IDs is being added for 'gene'.\n",
      "2025-05-25 17:21:26 WARNING:external_databases: External database config is not found in provided temp directory: `/Users/kemalinecik/Downloads/idtrack_temp/homo_sapiens_externals_modified.yml`.\n",
      "2025-05-25 17:21:26 WARNING:external_databases: The package uses the default config file for homo_sapiens.\n",
      "2025-05-25 17:22:07 INFO:database_manager: Raw table for `xref` on ensembl release `79` was downloaded for following columns: xref_id, external_db_id, dbprimary_acc, display_label.\n",
      "2025-05-25 17:22:07 INFO:database_manager: Exporting to the following file `homo_sapiens_assembly-37.h5` with key `ens79_mysql_xref_COL_dbprimary_acc_COL_display_label_COL_external_db_id_COL_xref_id`\n",
      "2025-05-25 17:22:09 INFO:database_manager: Raw table for `external_db` on ensembl release `79` was downloaded for following columns: external_db_id, db_name, db_display_name.\n",
      "2025-05-25 17:22:09 INFO:database_manager: Exporting to the following file `homo_sapiens_assembly-37.h5` with key `ens79_mysql_external_db_COL_db_display_name_COL_db_name_COL_external_db_id`\n",
      "2025-05-25 17:22:12 INFO:database_manager: Raw table for `identity_xref` on ensembl release `79` was downloaded for following columns: ensembl_identity, xref_identity, object_xref_id.\n",
      "2025-05-25 17:22:12 INFO:database_manager: Exporting to the following file `homo_sapiens_assembly-37.h5` with key `ens79_mysql_identity_xref_COL_ensembl_identity_COL_object_xref_id_COL_xref_identity`\n",
      "2025-05-25 17:22:15 INFO:database_manager: Raw table for `external_synonym` on ensembl release `79` was downloaded for following columns: xref_id, synonym.\n",
      "2025-05-25 17:22:15 INFO:database_manager: Exporting to the following file `homo_sapiens_assembly-37.h5` with key `ens79_mysql_external_synonym_COL_synonym_COL_xref_id`\n",
      "2025-05-25 17:22:19 WARNING:external_databases: External database config is not found in provided temp directory: `/Users/kemalinecik/Downloads/idtrack_temp/homo_sapiens_externals_modified.yml`.\n",
      "2025-05-25 17:22:19 WARNING:external_databases: The package uses the default config file for homo_sapiens.\n",
      "2025-05-25 17:22:20 INFO:database_manager: Exporting to the following file `homo_sapiens_assembly-37.h5` with key `ens79_processed_external_relevant_gene`\n",
      "2025-05-25 17:22:40 WARNING:external_databases: External database config is not found in provided temp directory: `/Users/kemalinecik/Downloads/idtrack_temp/homo_sapiens_externals_modified.yml`.\n",
      "2025-05-25 17:22:40 WARNING:external_databases: The package uses the default config file for homo_sapiens.\n",
      "2025-05-25 17:23:52 INFO:database_manager: Raw table for `object_xref` on ensembl release `80` was downloaded for following columns: ensembl_id, ensembl_object_type, xref_id, object_xref_id.\n",
      "2025-05-25 17:23:52 INFO:database_manager: Exporting to the following file `homo_sapiens_assembly-38.h5` with key `ens80_mysql_object_xref_COL_ensembl_id_COL_ensembl_object_type_COL_object_xref_id_COL_xref_id`\n",
      "2025-05-25 17:24:39 INFO:database_manager: Raw table for `xref` on ensembl release `80` was downloaded for following columns: xref_id, external_db_id, dbprimary_acc, display_label.\n",
      "2025-05-25 17:24:39 INFO:database_manager: Exporting to the following file `homo_sapiens_assembly-38.h5` with key `ens80_mysql_xref_COL_dbprimary_acc_COL_display_label_COL_external_db_id_COL_xref_id`\n",
      "2025-05-25 17:24:41 INFO:database_manager: Raw table for `external_db` on ensembl release `80` was downloaded for following columns: external_db_id, db_name, db_display_name.\n",
      "2025-05-25 17:24:41 INFO:database_manager: Exporting to the following file `homo_sapiens_assembly-38.h5` with key `ens80_mysql_external_db_COL_db_display_name_COL_db_name_COL_external_db_id`\n",
      "2025-05-25 17:24:44 INFO:database_manager: Raw table for `identity_xref` on ensembl release `80` was downloaded for following columns: ensembl_identity, xref_identity, object_xref_id.\n",
      "2025-05-25 17:24:44 INFO:database_manager: Exporting to the following file `homo_sapiens_assembly-38.h5` with key `ens80_mysql_identity_xref_COL_ensembl_identity_COL_object_xref_id_COL_xref_identity`\n",
      "2025-05-25 17:24:46 INFO:database_manager: Raw table for `external_synonym` on ensembl release `80` was downloaded for following columns: xref_id, synonym.\n",
      "2025-05-25 17:24:46 INFO:database_manager: Exporting to the following file `homo_sapiens_assembly-38.h5` with key `ens80_mysql_external_synonym_COL_synonym_COL_xref_id`\n",
      "2025-05-25 17:24:53 WARNING:external_databases: External database config is not found in provided temp directory: `/Users/kemalinecik/Downloads/idtrack_temp/homo_sapiens_externals_modified.yml`.\n",
      "2025-05-25 17:24:53 WARNING:external_databases: The package uses the default config file for homo_sapiens.\n",
      "2025-05-25 17:24:53 INFO:database_manager: Exporting to the following file `homo_sapiens_assembly-38.h5` with key `ens80_processed_external_relevant_gene`\n",
      "2025-05-25 17:24:54 INFO:database_manager: Following file is being removed: `homo_sapiens_assembly-37.h5` with key `ens79_common_availabledatabases`. This could cause hdf5 file to not reclaim the emptied disk space.\n",
      "2025-05-25 17:24:54 INFO:database_manager: Available MySQL databases for homo_sapiens in 37 assembly and 80 release is being fetched.\n",
      "2025-05-25 17:24:55 INFO:database_manager: Exporting to the following file `homo_sapiens_assembly-37.h5` with key `ens80_common_availabledatabases`\n",
      "2025-05-25 17:24:56 INFO:database_manager: Raw table for `gene` on ensembl release `80` was downloaded for following columns: gene_id, stable_id, version.\n",
      "2025-05-25 17:24:56 INFO:database_manager: Exporting to the following file `homo_sapiens_assembly-37.h5` with key `ens80_mysql_gene_COL_gene_id_COL_stable_id_COL_version`\n",
      "2025-05-25 17:24:56 INFO:database_manager: Exporting to the following file `homo_sapiens_assembly-37.h5` with key `ens80_processed_idsraw_gene_gene`\n",
      "2025-05-25 17:26:08 INFO:database_manager: Raw table for `object_xref` on ensembl release `80` was downloaded for following columns: ensembl_id, ensembl_object_type, xref_id, object_xref_id.\n",
      "2025-05-25 17:26:08 INFO:database_manager: Exporting to the following file `homo_sapiens_assembly-37.h5` with key `ens80_mysql_object_xref_COL_ensembl_id_COL_ensembl_object_type_COL_object_xref_id_COL_xref_id`\n",
      "2025-05-25 17:26:50 INFO:database_manager: Raw table for `xref` on ensembl release `80` was downloaded for following columns: xref_id, external_db_id, dbprimary_acc, display_label.\n",
      "2025-05-25 17:26:50 INFO:database_manager: Exporting to the following file `homo_sapiens_assembly-37.h5` with key `ens80_mysql_xref_COL_dbprimary_acc_COL_display_label_COL_external_db_id_COL_xref_id`\n"
     ]
    }
   ],
   "source": [
    "local_dir = \"/Users/kemalinecik/Downloads/idtrack_temp\"\n",
    "idt = idtrack.API(local_repository=local_dir)\n",
    "idt.configure_logger()\n",
    "idt.initialize_graph(organism_name='homo_sapiens', last_ensembl_release=82, return_test=True)"
   ]
  },
  {
   "cell_type": "code",
   "execution_count": null,
   "id": "2bb8d407",
   "metadata": {},
   "outputs": [
    {
     "name": "stdout",
     "output_type": "stream",
     "text": [
      "Keys in file: ['ens79_common_relationcurrent', 'ens79_mysql_external_db_COL_db_display_name_COL_db_name_COL_external_db_id', 'ens79_mysql_external_synonym_COL_synonym_COL_xref_id', 'ens79_mysql_gene_COL_gene_id_COL_stable_id_COL_version', 'ens79_mysql_identity_xref_COL_ensembl_identity_COL_object_xref_id_COL_xref_identity', 'ens79_mysql_object_xref_COL_ensembl_id_COL_ensembl_object_type_COL_object_xref_id_COL_xref_id', 'ens79_mysql_transcript_COL_gene_id_COL_stable_id_COL_transcript_id_COL_version', 'ens79_mysql_translation_COL_stable_id_COL_transcript_id_COL_translation_id_COL_version', 'ens79_mysql_xref_COL_dbprimary_acc_COL_display_label_COL_external_db_id_COL_xref_id', 'ens79_processed_external_relevant_gene', 'ens79_processed_idsraw_gene_gene', 'ens79_processed_idsraw_gene_transcript', 'ens79_processed_idsraw_transcript_transcript', 'ens79_processed_idsraw_translation_transcript', 'ens79_processed_idsraw_translation_translation', 'ens80_common_relationcurrent', 'ens80_mysql_gene_COL_gene_id_COL_stable_id_COL_version', 'ens80_mysql_transcript_COL_gene_id_COL_stable_id_COL_transcript_id_COL_version', 'ens80_mysql_translation_COL_stable_id_COL_transcript_id_COL_translation_id_COL_version', 'ens80_processed_idsraw_gene_gene', 'ens80_processed_idsraw_gene_transcript', 'ens80_processed_idsraw_transcript_transcript', 'ens80_processed_idsraw_translation_transcript', 'ens80_processed_idsraw_translation_translation', 'ens81_common_relationcurrent', 'ens81_mysql_gene_COL_gene_id_COL_stable_id_COL_version', 'ens81_mysql_transcript_COL_gene_id_COL_stable_id_COL_transcript_id_COL_version', 'ens81_mysql_translation_COL_stable_id_COL_transcript_id_COL_translation_id_COL_version', 'ens81_processed_idsraw_gene_gene', 'ens81_processed_idsraw_gene_transcript', 'ens81_processed_idsraw_transcript_transcript', 'ens81_processed_idsraw_translation_transcript', 'ens81_processed_idsraw_translation_translation', 'ens82_common_relationcurrent', 'ens82_mysql_gene_COL_gene_id_COL_stable_id_COL_version', 'ens82_mysql_mapping_session', 'ens82_mysql_transcript_COL_gene_id_COL_stable_id_COL_transcript_id_COL_version', 'ens82_mysql_translation_COL_stable_id_COL_transcript_id_COL_translation_id_COL_version', 'ens82_processed_idsraw_gene_gene', 'ens82_processed_idsraw_gene_transcript', 'ens82_processed_idsraw_transcript_transcript', 'ens82_processed_idsraw_translation_transcript', 'ens82_processed_idsraw_translation_translation', 'ens83_common_relationcurrent', 'ens83_mysql_gene_COL_gene_id_COL_stable_id_COL_version', 'ens83_mysql_transcript_COL_gene_id_COL_stable_id_COL_transcript_id_COL_version', 'ens83_mysql_translation_COL_stable_id_COL_transcript_id_COL_translation_id_COL_version', 'ens83_processed_idsraw_gene_gene', 'ens83_processed_idsraw_gene_transcript', 'ens83_processed_idsraw_transcript_transcript', 'ens83_processed_idsraw_translation_transcript', 'ens83_processed_idsraw_translation_translation', 'ens84_common_relationcurrent', 'ens84_mysql_gene_COL_gene_id_COL_stable_id_COL_version', 'ens84_mysql_transcript_COL_gene_id_COL_stable_id_COL_transcript_id_COL_version', 'ens84_mysql_translation_COL_stable_id_COL_transcript_id_COL_translation_id_COL_version', 'ens84_processed_idsraw_gene_gene', 'ens84_processed_idsraw_gene_transcript', 'ens84_processed_idsraw_transcript_transcript', 'ens84_processed_idsraw_translation_transcript', 'ens84_processed_idsraw_translation_translation', 'ens85_common_availabledatabases', 'ens85_common_relationcurrent', 'ens85_mysql_gene_COL_gene_id_COL_stable_id_COL_version', 'ens85_mysql_mapping_session', 'ens85_mysql_stable_id_event', 'ens85_mysql_transcript_COL_gene_id_COL_stable_id_COL_transcript_id_COL_version', 'ens85_mysql_translation_COL_stable_id_COL_transcript_id_COL_translation_id_COL_version', 'ens85_processed_idhistory_narrow_gene', 'ens85_processed_idhistory_narrow_transcript', 'ens85_processed_idhistory_narrow_translation', 'ens85_processed_idsraw_gene_gene', 'ens85_processed_idsraw_gene_transcript', 'ens85_processed_idsraw_transcript_transcript', 'ens85_processed_idsraw_translation_transcript', 'ens85_processed_idsraw_translation_translation', 'ens85_processed_versioninfo_gene', 'ens85_processed_versioninfo_transcript', 'ens85_processed_versioninfo_translation']\n",
      "Keys in group 'ens79_mysql_external_db_COL_db_display_name_COL_db_name_COL_external_db_id': ['column_dtypes', 'column_names', 'data', 'index_data', 'index_names']\n",
      "Attributes in group: {'columns_name': '', 'index_dtype': 'int64'}\n",
      "Keys in group 'ens79_mysql_external_db_COL_db_display_name_COL_db_name_COL_external_db_id': ['col_db_display_name', 'col_db_name', 'col_external_db_id']\n"
     ]
    }
   ],
   "source": [
    "# import h5py\n",
    "\n",
    "# file_path = \"/Users/kemalinecik/Downloads/idtrack_temp/homo_sapiens_assembly-38.h5\"\n",
    "# key = \"ens79_mysql_external_db_COL_db_display_name_COL_db_name_COL_external_db_id\"\n",
    "\n",
    "# with h5py.File(file_path, \"r\") as f:\n",
    "#     print(\"Keys in file:\", list(f.keys()))\n",
    "#     if key in f:\n",
    "#         grp = f[key]\n",
    "#         print(f\"Keys in group '{key}':\", list(grp.keys()))\n",
    "#         print(\"Attributes in group:\", dict(grp.attrs))\n",
    "#         try:\n",
    "#             grpa = f[key][\"data\"]\n",
    "#             print(f\"Keys in group '{key}':\", list(grpa.keys()))\n",
    "#         except:\n",
    "#             pass\n",
    "#     else:\n",
    "#         print(f\"Group '{key}' not found.\")"
   ]
  },
  {
   "cell_type": "code",
   "execution_count": null,
   "metadata": {},
   "outputs": [],
   "source": [
    "idt.calculate_graph_caches()"
   ]
  },
  {
   "cell_type": "code",
   "execution_count": null,
   "metadata": {},
   "outputs": [],
   "source": [
    "idt.track.is_base_is_range_correct()"
   ]
  },
  {
   "cell_type": "code",
   "execution_count": null,
   "metadata": {},
   "outputs": [],
   "source": []
  },
  {
   "cell_type": "code",
   "execution_count": null,
   "metadata": {},
   "outputs": [],
   "source": []
  },
  {
   "cell_type": "code",
   "execution_count": null,
   "metadata": {},
   "outputs": [],
   "source": []
  },
  {
   "cell_type": "code",
   "execution_count": null,
   "id": "66113bd0-4196-4a48-a495-24f15b3ef9af",
   "metadata": {},
   "outputs": [],
   "source": []
  }
 ],
 "metadata": {
  "kernelspec": {
   "display_name": "idtrack_dev_env",
   "language": "python",
   "name": "python3"
  },
  "language_info": {
   "codemirror_mode": {
    "name": "ipython",
    "version": 3
   },
   "file_extension": ".py",
   "mimetype": "text/x-python",
   "name": "python",
   "nbconvert_exporter": "python",
   "pygments_lexer": "ipython3",
   "version": "3.11.12"
  }
 },
 "nbformat": 4,
 "nbformat_minor": 5
}
