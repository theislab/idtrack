{
 "cells": [
  {
   "cell_type": "markdown",
   "id": "2a04ff2e-9cab-4760-b8ec-0ef8b36e4f5d",
   "metadata": {},
   "source": [
    "# Initialization and Memory Usage "
   ]
  },
  {
   "cell_type": "code",
   "execution_count": null,
   "id": "89b49214-d6a0-4e9f-a4b4-feddde076978",
   "metadata": {
    "pycharm": {
     "name": "#%% md\n"
    },
    "tags": []
   },
   "outputs": [],
   "source": [
    "import sys\n",
    "sys.path.append(\"/Users/kemalinecik/Documents/Helmholtz/git.nosync/idtrack\")"
   ]
  },
  {
   "cell_type": "code",
   "execution_count": null,
   "id": "75611a93-37e2-4119-a566-76a4fb6b3b57",
   "metadata": {
    "tags": []
   },
   "outputs": [],
   "source": [
    "import os\n",
    "import time\n",
    "import pickle"
   ]
  },
  {
   "cell_type": "code",
   "execution_count": null,
   "id": "d76eae0f-512c-40f9-919c-f4fcaad1371f",
   "metadata": {
    "tags": []
   },
   "outputs": [],
   "source": [
    "import idtrack"
   ]
  },
  {
   "cell_type": "code",
   "execution_count": null,
   "id": "383c559f-3900-4737-99d1-19255a4c6507",
   "metadata": {
    "tags": []
   },
   "outputs": [],
   "source": [
    "local_dir = \"/Users/kemalinecik/Downloads/idtrack_temp\"\n",
    "idt = idtrack.API(local_repository=local_dir)\n",
    "idt.configure_logger()\n",
    "idt.initialize_graph(organism_name='homo_sapiens', ensembl_release=110, return_test=True)"
   ]
  },
  {
   "cell_type": "code",
   "execution_count": null,
   "metadata": {},
   "outputs": [],
   "source": [
    "idt.calculate_graph_caches()"
   ]
  },
  {
   "cell_type": "code",
   "execution_count": null,
   "metadata": {},
   "outputs": [],
   "source": [
    "idt.track.is_base_is_range_correct()"
   ]
  },
  {
   "cell_type": "code",
   "execution_count": null,
   "metadata": {},
   "outputs": [],
   "source": []
  },
  {
   "cell_type": "code",
   "execution_count": null,
   "metadata": {},
   "outputs": [],
   "source": []
  },
  {
   "cell_type": "code",
   "execution_count": null,
   "metadata": {},
   "outputs": [],
   "source": []
  },
  {
   "cell_type": "code",
   "execution_count": null,
   "id": "05b19021-5e0f-4d13-937a-43de2d866d16",
   "metadata": {
    "tags": []
   },
   "outputs": [],
   "source": [
    "objsize.get_deep_size(idt)"
   ]
  },
  {
   "cell_type": "code",
   "execution_count": null,
   "id": "5bf5aa29-8fdc-499d-b557-818b527a5039",
   "metadata": {
    "tags": []
   },
   "outputs": [],
   "source": [
    "idt.calculate_graph_caches()"
   ]
  },
  {
   "cell_type": "code",
   "execution_count": null,
   "id": "96b1493a-0a54-4729-a7e1-0f0eb7fe2313",
   "metadata": {},
   "outputs": [],
   "source": [
    "objsize.get_deep_size(idt)"
   ]
  },
  {
   "cell_type": "code",
   "execution_count": null,
   "id": "84a19fa5-60df-4e8c-98ac-37b8eea9e0f8",
   "metadata": {
    "tags": []
   },
   "outputs": [],
   "source": [
    "!ls -l /lustre/groups/ml01/workspace/kemal.inecik/idtrack_temp"
   ]
  },
  {
   "cell_type": "code",
   "execution_count": null,
   "id": "66113bd0-4196-4a48-a495-24f15b3ef9af",
   "metadata": {},
   "outputs": [],
   "source": []
  }
 ],
 "metadata": {
  "kernelspec": {
   "display_name": "Python 3 (ipykernel)",
   "language": "python",
   "name": "python3"
  },
  "language_info": {
   "codemirror_mode": {
    "name": "ipython",
    "version": 3
   },
   "file_extension": ".py",
   "mimetype": "text/x-python",
   "name": "python",
   "nbconvert_exporter": "python",
   "pygments_lexer": "ipython3",
   "version": "3.8.15"
  }
 },
 "nbformat": 4,
 "nbformat_minor": 5
}
