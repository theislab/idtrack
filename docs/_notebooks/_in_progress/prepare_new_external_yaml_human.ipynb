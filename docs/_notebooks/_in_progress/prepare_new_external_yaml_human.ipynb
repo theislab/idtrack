{
 "cells": [
  {
   "cell_type": "markdown",
   "id": "2a04ff2e-9cab-4760-b8ec-0ef8b36e4f5d",
   "metadata": {},
   "source": [
    "# Initialization and Memory Usage "
   ]
  },
  {
   "cell_type": "code",
   "execution_count": 1,
   "id": "89b49214-d6a0-4e9f-a4b4-feddde076978",
   "metadata": {
    "pycharm": {
     "name": "#%% md\n"
    },
    "tags": []
   },
   "outputs": [],
   "source": [
    "import sys\n",
    "sys.path.append(\"/Users/kemalinecik/Documents/Helmholtz/git.nosync/idtrack\")"
   ]
  },
  {
   "cell_type": "code",
   "execution_count": 2,
   "id": "75611a93-37e2-4119-a566-76a4fb6b3b57",
   "metadata": {
    "tags": []
   },
   "outputs": [],
   "source": [
    "import os\n",
    "import time\n",
    "import pickle"
   ]
  },
  {
   "cell_type": "code",
   "execution_count": 3,
   "id": "d76eae0f-512c-40f9-919c-f4fcaad1371f",
   "metadata": {
    "tags": []
   },
   "outputs": [],
   "source": [
    "import idtrack"
   ]
  },
  {
   "cell_type": "markdown",
   "id": "cd96b719-e46e-4f29-9abc-a25cdbb9d1c8",
   "metadata": {},
   "source": [
    "Initialize the idtrack API first"
   ]
  },
  {
   "cell_type": "code",
   "execution_count": 4,
   "id": "83e80bde-d4aa-4aaa-9da5-e7dadd5aa568",
   "metadata": {
    "tags": []
   },
   "outputs": [],
   "source": [
    "local_dir = \"/Users/kemalinecik/Downloads/idtrack_temp\"\n",
    "idt = idtrack.API(local_repository=local_dir)\n",
    "idt.configure_logger()"
   ]
  },
  {
   "cell_type": "markdown",
   "id": "6b87a0c1-8204-4767-9879-2b875a70ec21",
   "metadata": {},
   "source": [
    "Let's initialize idtrack for 'mouse'"
   ]
  },
  {
   "cell_type": "code",
   "execution_count": 5,
   "id": "7b6982ae-24d6-4d33-8ef3-5ddb2c54650d",
   "metadata": {
    "tags": []
   },
   "outputs": [
    {
     "name": "stderr",
     "output_type": "stream",
     "text": [
      "2023-11-04 16:51:19 INFO:verify_organism: Ensembl Rest API query to get the organism names and associated releases.\n"
     ]
    },
    {
     "data": {
      "text/plain": [
       "('homo_sapiens', 110)"
      ]
     },
     "execution_count": 5,
     "metadata": {},
     "output_type": "execute_result"
    }
   ],
   "source": [
    "organism_formal_name, last_ensembl_release = idt.get_ensembl_organism(\"homo sapiens\")\n",
    "organism_formal_name, last_ensembl_release"
   ]
  },
  {
   "cell_type": "code",
   "execution_count": 6,
   "id": "007a6a8c-db71-4c8e-9d93-9713752cd1a8",
   "metadata": {
    "tags": []
   },
   "outputs": [],
   "source": [
    "dm = idt.get_database_manager(organism_name='homo_sapiens', ensembl_release=110)"
   ]
  },
  {
   "cell_type": "code",
   "execution_count": null,
   "id": "a708a510-e424-4c7c-859d-7aac09796642",
   "metadata": {},
   "outputs": [],
   "source": [
    "_ = dm.create_database_content(just_download=True)"
   ]
  },
  {
   "cell_type": "code",
   "execution_count": null,
   "id": "7d7629c7-e414-41e3-896d-213f6da8b6fd",
   "metadata": {},
   "outputs": [],
   "source": [
    "df = dm.create_database_content()\n",
    "dm.external_inst.create_template_yaml(df)"
   ]
  },
  {
   "cell_type": "code",
   "execution_count": 7,
   "metadata": {},
   "outputs": [
    {
     "name": "stderr",
     "output_type": "stream",
     "text": [
      "2023-11-04 16:51:27 INFO:graph_maker: The graph is being constructed.\n",
      "2023-11-04 16:51:27 INFO:graph_maker: Graph is being created: gene\n",
      "2023-11-04 16:51:28 WARNING:graph_maker: Edge weights ignored due to duplicate entries: 2.\n",
      "2023-11-04 16:51:28 INFO:graph_maker: Edges between across different IDs and self loops are being added.\n",
      "2023-11-04 16:51:30 INFO:graph_maker: Edges between the same IDs are being added.\n",
      "2023-11-04 16:51:59 WARNING:graph_maker: Retired ID come alive again: 3.\n",
      "2023-11-04 16:51:59 INFO:graph_maker: Edges showing the retirement of IDs are being added.\n",
      "2023-11-04 16:52:19 INFO:graph_maker: Problematic nodes in Ensembl ID history are being removed.\n",
      "2023-11-04 16:52:40 WARNING:graph_maker: Nodes are deleted due to Ensembl ID history mistake: 4.\n",
      "2023-11-04 16:52:40 INFO:graph_maker: Self-loops for latest release entries are being added.\n",
      "2023-11-04 16:52:41 INFO:graph_maker: Node attributes are being added.\n",
      "2023-11-04 16:52:42 INFO:graph_maker: Graph is being created: transcript\n",
      "2023-11-04 16:52:43 INFO:graph_maker: Edges between across different IDs and self loops are being added.\n",
      "2023-11-04 16:52:49 INFO:graph_maker: Edges between the same IDs are being added.\n",
      "2023-11-04 16:53:55 WARNING:graph_maker: Retired ID come alive again: 5.\n",
      "2023-11-04 16:53:55 INFO:graph_maker: Edges showing the retirement of IDs are being added.\n",
      "2023-11-04 16:54:26 INFO:graph_maker: Problematic nodes in Ensembl ID history are being removed.\n",
      "2023-11-04 16:54:58 INFO:graph_maker: Self-loops for latest release entries are being added.\n",
      "2023-11-04 16:55:05 INFO:graph_maker: Node attributes are being added.\n",
      "2023-11-04 16:55:09 INFO:graph_maker: Graph is being created: translation\n",
      "2023-11-04 16:55:09 WARNING:graph_maker: Edge weights ignored due to duplicate entries: 4.\n",
      "2023-11-04 16:55:09 INFO:graph_maker: Edges between across different IDs and self loops are being added.\n",
      "2023-11-04 16:55:09 INFO:graph_maker: Edges between the same IDs are being added.\n",
      "2023-11-04 16:55:46 WARNING:graph_maker: Retired ID come alive again: 4.\n",
      "2023-11-04 16:55:46 INFO:graph_maker: Edges showing the retirement of IDs are being added.\n",
      "2023-11-04 16:56:09 INFO:graph_maker: Problematic nodes in Ensembl ID history are being removed.\n",
      "2023-11-04 16:56:33 WARNING:graph_maker: Nodes are deleted due to Ensembl ID history mistake: 1.\n",
      "2023-11-04 16:56:33 INFO:graph_maker: Self-loops for latest release entries are being added.\n",
      "2023-11-04 16:56:36 INFO:graph_maker: Node attributes are being added.\n",
      "2023-11-04 16:56:38 WARNING:graph_maker: Intersecting Ensembl nodes: Nodes in 'transcript' will be replaced by 'translation': 'ENST00000515292.1'.\n",
      "2023-11-04 16:56:40 INFO:graph_maker: Establishing connection between different forms.\n",
      "2023-11-04 17:00:14 INFO:graph_maker: Edges between external IDs to Ensembl IDs is being added for 'gene'.\n",
      "2023-11-04 17:09:40 WARNING:graph_maker: New nodes added as assembly nodes: 29402\n",
      "2023-11-04 17:09:40 INFO:graph_maker: Edges between external IDs to Ensembl IDs is being added for 'transcript'.\n",
      "2023-11-04 17:18:15 WARNING:graph_maker: New nodes added as assembly nodes: 104892\n",
      "2023-11-04 17:18:15 INFO:graph_maker: Edges between external IDs to Ensembl IDs is being added for 'translation'.\n",
      "2023-11-04 17:25:09 INFO:database_manager: Exporting to the following file `homo_sapiens_assembly-37.h5` with key `ens104_processed_external_relevant_translation`.\n",
      "2023-11-04 17:25:48 INFO:database_manager: Exporting to the following file `homo_sapiens_assembly-38.h5` with key `ens105_processed_external_relevant_translation`.\n",
      "2023-11-04 17:26:20 INFO:database_manager: Exporting to the following file `homo_sapiens_assembly-37.h5` with key `ens105_processed_external_relevant_translation`.\n",
      "2023-11-04 17:26:59 INFO:database_manager: Exporting to the following file `homo_sapiens_assembly-38.h5` with key `ens106_processed_external_relevant_translation`.\n",
      "2023-11-04 17:27:31 INFO:database_manager: Exporting to the following file `homo_sapiens_assembly-37.h5` with key `ens106_processed_external_relevant_translation`.\n",
      "2023-11-04 17:28:10 INFO:database_manager: Exporting to the following file `homo_sapiens_assembly-38.h5` with key `ens107_processed_external_relevant_translation`.\n",
      "2023-11-04 17:28:42 INFO:database_manager: Exporting to the following file `homo_sapiens_assembly-37.h5` with key `ens107_processed_external_relevant_translation`.\n",
      "2023-11-04 17:29:22 INFO:database_manager: Exporting to the following file `homo_sapiens_assembly-38.h5` with key `ens108_processed_external_relevant_translation`.\n",
      "2023-11-04 17:29:54 INFO:database_manager: Exporting to the following file `homo_sapiens_assembly-38.h5` with key `ens109_processed_external_relevant_translation`.\n",
      "2023-11-04 17:30:27 INFO:database_manager: Exporting to the following file `homo_sapiens_assembly-38.h5` with key `ens110_processed_external_relevant_translation`.\n",
      "2023-11-04 17:30:35 WARNING:graph_maker: New nodes added as assembly nodes: 14695\n",
      "2023-11-04 17:30:35 INFO:graph_maker: Different forms of assembly-Ensembl-nodes are being connecting.\n",
      "2023-11-04 17:30:36 INFO:database_manager: Exporting to the following file `homo_sapiens_assembly-37.h5` with key `ens110_processed_idsraw_transcript_gene`.\n",
      "2023-11-04 17:30:36 INFO:database_manager: Exporting to the following file `homo_sapiens_assembly-37.h5` with key `ens110_processed_idsraw_translation_gene`.\n",
      "2023-11-04 17:30:44 INFO:database_manager: Exporting to the following file `homo_sapiens_assembly-37.h5` with key `ens110_processed_versioninfo_gene`.\n",
      "2023-11-04 17:30:52 INFO:database_manager: Exporting to the following file `homo_sapiens_assembly-37.h5` with key `ens110_processed_versioninfo_transcript`.\n",
      "2023-11-04 17:31:00 INFO:database_manager: Exporting to the following file `homo_sapiens_assembly-37.h5` with key `ens110_processed_versioninfo_translation`.\n",
      "2023-11-04 17:31:02 INFO:database_manager: Exporting to the following file `homo_sapiens_assembly-37.h5` with key `ens110_common_relationcurrent`.\n",
      "2023-11-04 17:31:08 INFO:database_manager: Exporting to the following file `homo_sapiens_assembly-37.h5` with key `ens109_processed_idsraw_transcript_gene`.\n",
      "2023-11-04 17:31:08 INFO:database_manager: Exporting to the following file `homo_sapiens_assembly-37.h5` with key `ens109_processed_idsraw_translation_gene`.\n",
      "2023-11-04 17:31:11 INFO:database_manager: Exporting to the following file `homo_sapiens_assembly-37.h5` with key `ens109_common_relationcurrent`.\n",
      "2023-11-04 17:31:17 INFO:database_manager: Exporting to the following file `homo_sapiens_assembly-37.h5` with key `ens108_processed_idsraw_transcript_gene`.\n",
      "2023-11-04 17:31:17 INFO:database_manager: Exporting to the following file `homo_sapiens_assembly-37.h5` with key `ens108_processed_idsraw_translation_gene`.\n",
      "2023-11-04 17:31:20 INFO:database_manager: Exporting to the following file `homo_sapiens_assembly-37.h5` with key `ens108_common_relationcurrent`.\n",
      "2023-11-04 17:31:26 INFO:database_manager: Exporting to the following file `homo_sapiens_assembly-37.h5` with key `ens107_processed_idsraw_transcript_gene`.\n",
      "2023-11-04 17:31:26 INFO:database_manager: Exporting to the following file `homo_sapiens_assembly-37.h5` with key `ens107_processed_idsraw_translation_gene`.\n",
      "2023-11-04 17:31:29 INFO:database_manager: Exporting to the following file `homo_sapiens_assembly-37.h5` with key `ens107_common_relationcurrent`.\n",
      "2023-11-04 17:31:35 INFO:database_manager: Exporting to the following file `homo_sapiens_assembly-37.h5` with key `ens106_processed_idsraw_transcript_gene`.\n",
      "2023-11-04 17:31:35 INFO:database_manager: Exporting to the following file `homo_sapiens_assembly-37.h5` with key `ens106_processed_idsraw_translation_gene`.\n",
      "2023-11-04 17:31:38 INFO:database_manager: Exporting to the following file `homo_sapiens_assembly-37.h5` with key `ens106_common_relationcurrent`.\n",
      "2023-11-04 17:31:44 INFO:database_manager: Exporting to the following file `homo_sapiens_assembly-37.h5` with key `ens105_processed_idsraw_transcript_gene`.\n",
      "2023-11-04 17:31:44 INFO:database_manager: Exporting to the following file `homo_sapiens_assembly-37.h5` with key `ens105_processed_idsraw_translation_gene`.\n",
      "2023-11-04 17:31:47 INFO:database_manager: Exporting to the following file `homo_sapiens_assembly-37.h5` with key `ens105_common_relationcurrent`.\n",
      "2023-11-04 17:31:53 INFO:database_manager: Exporting to the following file `homo_sapiens_assembly-37.h5` with key `ens104_processed_idsraw_transcript_gene`.\n",
      "2023-11-04 17:31:53 INFO:database_manager: Exporting to the following file `homo_sapiens_assembly-37.h5` with key `ens104_processed_idsraw_translation_gene`.\n",
      "2023-11-04 17:31:56 INFO:database_manager: Exporting to the following file `homo_sapiens_assembly-37.h5` with key `ens104_common_relationcurrent`.\n",
      "2023-11-04 17:32:02 INFO:database_manager: Exporting to the following file `homo_sapiens_assembly-37.h5` with key `ens103_processed_idsraw_transcript_gene`.\n",
      "2023-11-04 17:32:02 INFO:database_manager: Exporting to the following file `homo_sapiens_assembly-37.h5` with key `ens103_processed_idsraw_translation_gene`.\n",
      "2023-11-04 17:32:06 INFO:database_manager: Exporting to the following file `homo_sapiens_assembly-37.h5` with key `ens103_common_relationcurrent`.\n",
      "2023-11-04 17:32:11 INFO:database_manager: Exporting to the following file `homo_sapiens_assembly-37.h5` with key `ens102_processed_idsraw_transcript_gene`.\n",
      "2023-11-04 17:32:12 INFO:database_manager: Exporting to the following file `homo_sapiens_assembly-37.h5` with key `ens102_processed_idsraw_translation_gene`.\n",
      "2023-11-04 17:32:15 INFO:database_manager: Exporting to the following file `homo_sapiens_assembly-37.h5` with key `ens102_common_relationcurrent`.\n",
      "2023-11-04 17:32:21 INFO:database_manager: Exporting to the following file `homo_sapiens_assembly-37.h5` with key `ens101_processed_idsraw_transcript_gene`.\n",
      "2023-11-04 17:32:21 INFO:database_manager: Exporting to the following file `homo_sapiens_assembly-37.h5` with key `ens101_processed_idsraw_translation_gene`.\n",
      "2023-11-04 17:32:24 INFO:database_manager: Exporting to the following file `homo_sapiens_assembly-37.h5` with key `ens101_common_relationcurrent`.\n",
      "2023-11-04 17:32:30 INFO:database_manager: Exporting to the following file `homo_sapiens_assembly-37.h5` with key `ens100_processed_idsraw_transcript_gene`.\n",
      "2023-11-04 17:32:30 INFO:database_manager: Exporting to the following file `homo_sapiens_assembly-37.h5` with key `ens100_processed_idsraw_translation_gene`.\n",
      "2023-11-04 17:32:33 INFO:database_manager: Exporting to the following file `homo_sapiens_assembly-37.h5` with key `ens100_common_relationcurrent`.\n",
      "2023-11-04 17:32:39 INFO:database_manager: Exporting to the following file `homo_sapiens_assembly-37.h5` with key `ens99_processed_idsraw_transcript_gene`.\n",
      "2023-11-04 17:32:39 INFO:database_manager: Exporting to the following file `homo_sapiens_assembly-37.h5` with key `ens99_processed_idsraw_translation_gene`.\n",
      "2023-11-04 17:32:42 INFO:database_manager: Exporting to the following file `homo_sapiens_assembly-37.h5` with key `ens99_common_relationcurrent`.\n",
      "2023-11-04 17:32:48 INFO:database_manager: Exporting to the following file `homo_sapiens_assembly-37.h5` with key `ens98_processed_idsraw_transcript_gene`.\n",
      "2023-11-04 17:32:48 INFO:database_manager: Exporting to the following file `homo_sapiens_assembly-37.h5` with key `ens98_processed_idsraw_translation_gene`.\n",
      "2023-11-04 17:32:52 INFO:database_manager: Exporting to the following file `homo_sapiens_assembly-37.h5` with key `ens98_common_relationcurrent`.\n",
      "2023-11-04 17:32:58 INFO:database_manager: Exporting to the following file `homo_sapiens_assembly-37.h5` with key `ens97_processed_idsraw_transcript_gene`.\n",
      "2023-11-04 17:32:58 INFO:database_manager: Exporting to the following file `homo_sapiens_assembly-37.h5` with key `ens97_processed_idsraw_translation_gene`.\n",
      "2023-11-04 17:33:01 INFO:database_manager: Exporting to the following file `homo_sapiens_assembly-37.h5` with key `ens97_common_relationcurrent`.\n",
      "2023-11-04 17:33:07 INFO:database_manager: Exporting to the following file `homo_sapiens_assembly-37.h5` with key `ens96_processed_idsraw_transcript_gene`.\n",
      "2023-11-04 17:33:07 INFO:database_manager: Exporting to the following file `homo_sapiens_assembly-37.h5` with key `ens96_processed_idsraw_translation_gene`.\n",
      "2023-11-04 17:33:10 INFO:database_manager: Exporting to the following file `homo_sapiens_assembly-37.h5` with key `ens96_common_relationcurrent`.\n",
      "2023-11-04 17:33:16 INFO:database_manager: Exporting to the following file `homo_sapiens_assembly-37.h5` with key `ens95_processed_idsraw_transcript_gene`.\n",
      "2023-11-04 17:33:16 INFO:database_manager: Exporting to the following file `homo_sapiens_assembly-37.h5` with key `ens95_processed_idsraw_translation_gene`.\n",
      "2023-11-04 17:33:20 INFO:database_manager: Exporting to the following file `homo_sapiens_assembly-37.h5` with key `ens95_common_relationcurrent`.\n",
      "2023-11-04 17:33:25 INFO:database_manager: Exporting to the following file `homo_sapiens_assembly-37.h5` with key `ens94_processed_idsraw_transcript_gene`.\n",
      "2023-11-04 17:33:26 INFO:database_manager: Exporting to the following file `homo_sapiens_assembly-37.h5` with key `ens94_processed_idsraw_translation_gene`.\n",
      "2023-11-04 17:33:29 INFO:database_manager: Exporting to the following file `homo_sapiens_assembly-37.h5` with key `ens94_common_relationcurrent`.\n",
      "2023-11-04 17:33:35 INFO:database_manager: Exporting to the following file `homo_sapiens_assembly-37.h5` with key `ens93_processed_idsraw_transcript_gene`.\n",
      "2023-11-04 17:33:35 INFO:database_manager: Exporting to the following file `homo_sapiens_assembly-37.h5` with key `ens93_processed_idsraw_translation_gene`.\n",
      "2023-11-04 17:33:38 INFO:database_manager: Exporting to the following file `homo_sapiens_assembly-37.h5` with key `ens93_common_relationcurrent`.\n",
      "2023-11-04 17:33:44 INFO:database_manager: Exporting to the following file `homo_sapiens_assembly-37.h5` with key `ens92_processed_idsraw_transcript_gene`.\n",
      "2023-11-04 17:33:44 INFO:database_manager: Exporting to the following file `homo_sapiens_assembly-37.h5` with key `ens92_processed_idsraw_translation_gene`.\n",
      "2023-11-04 17:33:48 INFO:database_manager: Exporting to the following file `homo_sapiens_assembly-37.h5` with key `ens92_common_relationcurrent`.\n",
      "2023-11-04 17:33:54 INFO:database_manager: Exporting to the following file `homo_sapiens_assembly-37.h5` with key `ens91_processed_idsraw_transcript_gene`.\n",
      "2023-11-04 17:33:54 INFO:database_manager: Exporting to the following file `homo_sapiens_assembly-37.h5` with key `ens91_processed_idsraw_translation_gene`.\n",
      "2023-11-04 17:33:57 INFO:database_manager: Exporting to the following file `homo_sapiens_assembly-37.h5` with key `ens91_common_relationcurrent`.\n",
      "2023-11-04 17:34:03 INFO:database_manager: Exporting to the following file `homo_sapiens_assembly-37.h5` with key `ens90_processed_idsraw_transcript_gene`.\n",
      "2023-11-04 17:34:03 INFO:database_manager: Exporting to the following file `homo_sapiens_assembly-37.h5` with key `ens90_processed_idsraw_translation_gene`.\n",
      "2023-11-04 17:34:06 INFO:database_manager: Exporting to the following file `homo_sapiens_assembly-37.h5` with key `ens90_common_relationcurrent`.\n",
      "2023-11-04 17:34:12 INFO:database_manager: Exporting to the following file `homo_sapiens_assembly-37.h5` with key `ens89_processed_idsraw_transcript_gene`.\n",
      "2023-11-04 17:34:13 INFO:database_manager: Exporting to the following file `homo_sapiens_assembly-37.h5` with key `ens89_processed_idsraw_translation_gene`.\n",
      "2023-11-04 17:34:16 INFO:database_manager: Exporting to the following file `homo_sapiens_assembly-37.h5` with key `ens89_common_relationcurrent`.\n",
      "2023-11-04 17:34:22 INFO:database_manager: Exporting to the following file `homo_sapiens_assembly-37.h5` with key `ens88_processed_idsraw_transcript_gene`.\n",
      "2023-11-04 17:34:22 INFO:database_manager: Exporting to the following file `homo_sapiens_assembly-37.h5` with key `ens88_processed_idsraw_translation_gene`.\n",
      "2023-11-04 17:34:25 INFO:database_manager: Exporting to the following file `homo_sapiens_assembly-37.h5` with key `ens88_common_relationcurrent`.\n",
      "2023-11-04 17:34:31 INFO:database_manager: Exporting to the following file `homo_sapiens_assembly-37.h5` with key `ens87_processed_idsraw_transcript_gene`.\n",
      "2023-11-04 17:34:31 INFO:database_manager: Exporting to the following file `homo_sapiens_assembly-37.h5` with key `ens87_processed_idsraw_translation_gene`.\n",
      "2023-11-04 17:35:04 INFO:database_manager: Exporting to the following file `homo_sapiens_assembly-37.h5` with key `ens87_common_relationcurrent`.\n",
      "2023-11-04 17:35:10 INFO:database_manager: Exporting to the following file `homo_sapiens_assembly-37.h5` with key `ens86_processed_idsraw_transcript_gene`.\n",
      "2023-11-04 17:35:11 INFO:database_manager: Exporting to the following file `homo_sapiens_assembly-37.h5` with key `ens86_processed_idsraw_translation_gene`.\n",
      "2023-11-04 17:35:14 INFO:database_manager: Exporting to the following file `homo_sapiens_assembly-37.h5` with key `ens86_common_relationcurrent`.\n",
      "2023-11-04 17:35:20 INFO:database_manager: Exporting to the following file `homo_sapiens_assembly-37.h5` with key `ens85_processed_idsraw_transcript_gene`.\n",
      "2023-11-04 17:35:20 INFO:database_manager: Exporting to the following file `homo_sapiens_assembly-37.h5` with key `ens85_processed_idsraw_translation_gene`.\n",
      "2023-11-04 17:35:24 INFO:database_manager: Exporting to the following file `homo_sapiens_assembly-37.h5` with key `ens85_common_relationcurrent`.\n",
      "2023-11-04 17:35:30 INFO:database_manager: Exporting to the following file `homo_sapiens_assembly-37.h5` with key `ens84_processed_idsraw_transcript_gene`.\n",
      "2023-11-04 17:35:30 INFO:database_manager: Exporting to the following file `homo_sapiens_assembly-37.h5` with key `ens84_processed_idsraw_translation_gene`.\n",
      "2023-11-04 17:35:33 INFO:database_manager: Exporting to the following file `homo_sapiens_assembly-37.h5` with key `ens84_common_relationcurrent`.\n",
      "2023-11-04 17:35:39 INFO:database_manager: Exporting to the following file `homo_sapiens_assembly-37.h5` with key `ens83_processed_idsraw_transcript_gene`.\n",
      "2023-11-04 17:35:39 INFO:database_manager: Exporting to the following file `homo_sapiens_assembly-37.h5` with key `ens83_processed_idsraw_translation_gene`.\n",
      "2023-11-04 17:35:43 INFO:database_manager: Exporting to the following file `homo_sapiens_assembly-37.h5` with key `ens83_common_relationcurrent`.\n",
      "2023-11-04 17:35:49 INFO:database_manager: Exporting to the following file `homo_sapiens_assembly-37.h5` with key `ens82_processed_idsraw_transcript_gene`.\n",
      "2023-11-04 17:35:49 INFO:database_manager: Exporting to the following file `homo_sapiens_assembly-37.h5` with key `ens82_processed_idsraw_translation_gene`.\n",
      "2023-11-04 17:35:52 INFO:database_manager: Exporting to the following file `homo_sapiens_assembly-37.h5` with key `ens82_common_relationcurrent`.\n",
      "2023-11-04 17:35:58 INFO:database_manager: Exporting to the following file `homo_sapiens_assembly-37.h5` with key `ens81_processed_idsraw_transcript_gene`.\n",
      "2023-11-04 17:35:58 INFO:database_manager: Exporting to the following file `homo_sapiens_assembly-37.h5` with key `ens81_processed_idsraw_translation_gene`.\n",
      "2023-11-04 17:36:02 INFO:database_manager: Exporting to the following file `homo_sapiens_assembly-37.h5` with key `ens81_common_relationcurrent`.\n",
      "2023-11-04 17:36:08 INFO:database_manager: Exporting to the following file `homo_sapiens_assembly-37.h5` with key `ens80_processed_idsraw_transcript_gene`.\n",
      "2023-11-04 17:36:08 INFO:database_manager: Exporting to the following file `homo_sapiens_assembly-37.h5` with key `ens80_processed_idsraw_translation_gene`.\n",
      "2023-11-04 17:36:11 INFO:database_manager: Exporting to the following file `homo_sapiens_assembly-37.h5` with key `ens80_common_relationcurrent`.\n",
      "2023-11-04 17:36:17 INFO:database_manager: Exporting to the following file `homo_sapiens_assembly-37.h5` with key `ens79_processed_idsraw_transcript_gene`.\n",
      "2023-11-04 17:36:17 INFO:database_manager: Exporting to the following file `homo_sapiens_assembly-37.h5` with key `ens79_processed_idsraw_translation_gene`.\n",
      "2023-11-04 17:36:21 INFO:database_manager: Exporting to the following file `homo_sapiens_assembly-37.h5` with key `ens79_common_relationcurrent`.\n",
      "2023-11-04 17:36:26 WARNING:graph_maker: New edges are added between assembly Ensembl nodes: 255027\n",
      "2023-11-04 17:36:26 INFO:graph_maker: Versionless Ensembl IDs are being connected.\n",
      "2023-11-04 17:36:28 INFO:database_manager: Exporting to the following file `homo_sapiens_assembly-37.h5` with key `ens79_processed_ids_gene`.\n",
      "2023-11-04 17:36:30 INFO:database_manager: Exporting to the following file `homo_sapiens_assembly-37.h5` with key `ens80_processed_ids_gene`.\n",
      "2023-11-04 17:36:32 INFO:database_manager: Exporting to the following file `homo_sapiens_assembly-37.h5` with key `ens81_processed_ids_gene`.\n",
      "2023-11-04 17:36:34 INFO:database_manager: Exporting to the following file `homo_sapiens_assembly-37.h5` with key `ens82_processed_ids_gene`.\n",
      "2023-11-04 17:36:36 INFO:database_manager: Exporting to the following file `homo_sapiens_assembly-37.h5` with key `ens83_processed_ids_gene`.\n",
      "2023-11-04 17:36:38 INFO:database_manager: Exporting to the following file `homo_sapiens_assembly-37.h5` with key `ens84_processed_ids_gene`.\n",
      "2023-11-04 17:36:39 INFO:database_manager: Exporting to the following file `homo_sapiens_assembly-37.h5` with key `ens85_processed_ids_gene`.\n",
      "2023-11-04 17:36:41 INFO:database_manager: Exporting to the following file `homo_sapiens_assembly-37.h5` with key `ens86_processed_ids_gene`.\n",
      "2023-11-04 17:36:43 INFO:database_manager: Exporting to the following file `homo_sapiens_assembly-37.h5` with key `ens87_processed_ids_gene`.\n",
      "2023-11-04 17:36:45 INFO:database_manager: Exporting to the following file `homo_sapiens_assembly-37.h5` with key `ens88_processed_ids_gene`.\n",
      "2023-11-04 17:36:46 INFO:database_manager: Exporting to the following file `homo_sapiens_assembly-37.h5` with key `ens89_processed_ids_gene`.\n",
      "2023-11-04 17:36:48 INFO:database_manager: Exporting to the following file `homo_sapiens_assembly-37.h5` with key `ens90_processed_ids_gene`.\n",
      "2023-11-04 17:36:50 INFO:database_manager: Exporting to the following file `homo_sapiens_assembly-37.h5` with key `ens91_processed_ids_gene`.\n",
      "2023-11-04 17:36:52 INFO:database_manager: Exporting to the following file `homo_sapiens_assembly-37.h5` with key `ens92_processed_ids_gene`.\n",
      "2023-11-04 17:36:53 INFO:database_manager: Exporting to the following file `homo_sapiens_assembly-37.h5` with key `ens93_processed_ids_gene`.\n",
      "2023-11-04 17:36:55 INFO:database_manager: Exporting to the following file `homo_sapiens_assembly-37.h5` with key `ens94_processed_ids_gene`.\n",
      "2023-11-04 17:36:57 INFO:database_manager: Exporting to the following file `homo_sapiens_assembly-37.h5` with key `ens95_processed_ids_gene`.\n",
      "2023-11-04 17:36:59 INFO:database_manager: Exporting to the following file `homo_sapiens_assembly-37.h5` with key `ens96_processed_ids_gene`.\n",
      "2023-11-04 17:37:01 INFO:database_manager: Exporting to the following file `homo_sapiens_assembly-37.h5` with key `ens97_processed_ids_gene`.\n",
      "2023-11-04 17:37:03 INFO:database_manager: Exporting to the following file `homo_sapiens_assembly-37.h5` with key `ens98_processed_ids_gene`.\n",
      "2023-11-04 17:37:04 INFO:database_manager: Exporting to the following file `homo_sapiens_assembly-37.h5` with key `ens99_processed_ids_gene`.\n",
      "2023-11-04 17:37:06 INFO:database_manager: Exporting to the following file `homo_sapiens_assembly-37.h5` with key `ens100_processed_ids_gene`.\n",
      "2023-11-04 17:37:08 INFO:database_manager: Exporting to the following file `homo_sapiens_assembly-37.h5` with key `ens101_processed_ids_gene`.\n",
      "2023-11-04 17:37:10 INFO:database_manager: Exporting to the following file `homo_sapiens_assembly-37.h5` with key `ens102_processed_ids_gene`.\n",
      "2023-11-04 17:37:11 INFO:database_manager: Exporting to the following file `homo_sapiens_assembly-37.h5` with key `ens103_processed_ids_gene`.\n",
      "2023-11-04 17:37:13 INFO:database_manager: Exporting to the following file `homo_sapiens_assembly-37.h5` with key `ens104_processed_ids_gene`.\n",
      "2023-11-04 17:37:15 INFO:database_manager: Exporting to the following file `homo_sapiens_assembly-37.h5` with key `ens105_processed_ids_gene`.\n",
      "2023-11-04 17:37:17 INFO:database_manager: Exporting to the following file `homo_sapiens_assembly-37.h5` with key `ens106_processed_ids_gene`.\n",
      "2023-11-04 17:37:19 INFO:database_manager: Exporting to the following file `homo_sapiens_assembly-37.h5` with key `ens107_processed_ids_gene`.\n",
      "2023-11-04 17:37:21 INFO:database_manager: Exporting to the following file `homo_sapiens_assembly-37.h5` with key `ens108_processed_ids_gene`.\n",
      "2023-11-04 17:37:22 INFO:database_manager: Exporting to the following file `homo_sapiens_assembly-37.h5` with key `ens109_processed_ids_gene`.\n",
      "2023-11-04 17:37:24 INFO:database_manager: Exporting to the following file `homo_sapiens_assembly-37.h5` with key `ens110_processed_ids_gene`.\n",
      "2023-11-04 17:37:25 INFO:graph_maker: Edges between versionless ID to version ID has been added for 'gene', assembly 37.\n",
      "2023-11-04 17:37:26 INFO:database_manager: Exporting to the following file `homo_sapiens_assembly-38.h5` with key `ens79_processed_ids_gene`.\n",
      "2023-11-04 17:37:28 INFO:database_manager: Exporting to the following file `homo_sapiens_assembly-38.h5` with key `ens80_processed_ids_gene`.\n",
      "2023-11-04 17:37:30 INFO:database_manager: Exporting to the following file `homo_sapiens_assembly-38.h5` with key `ens81_processed_ids_gene`.\n",
      "2023-11-04 17:37:32 INFO:database_manager: Exporting to the following file `homo_sapiens_assembly-38.h5` with key `ens82_processed_ids_gene`.\n",
      "2023-11-04 17:37:34 INFO:database_manager: Exporting to the following file `homo_sapiens_assembly-38.h5` with key `ens83_processed_ids_gene`.\n",
      "2023-11-04 17:37:36 INFO:database_manager: Exporting to the following file `homo_sapiens_assembly-38.h5` with key `ens84_processed_ids_gene`.\n",
      "2023-11-04 17:37:38 INFO:database_manager: Exporting to the following file `homo_sapiens_assembly-38.h5` with key `ens85_processed_ids_gene`.\n",
      "2023-11-04 17:37:40 INFO:database_manager: Exporting to the following file `homo_sapiens_assembly-38.h5` with key `ens86_processed_ids_gene`.\n",
      "2023-11-04 17:37:42 INFO:database_manager: Exporting to the following file `homo_sapiens_assembly-38.h5` with key `ens87_processed_ids_gene`.\n",
      "2023-11-04 17:37:43 INFO:database_manager: Exporting to the following file `homo_sapiens_assembly-38.h5` with key `ens88_processed_ids_gene`.\n",
      "2023-11-04 17:37:45 INFO:database_manager: Exporting to the following file `homo_sapiens_assembly-38.h5` with key `ens89_processed_ids_gene`.\n",
      "2023-11-04 17:37:47 INFO:database_manager: Exporting to the following file `homo_sapiens_assembly-38.h5` with key `ens90_processed_ids_gene`.\n",
      "2023-11-04 17:37:49 INFO:database_manager: Exporting to the following file `homo_sapiens_assembly-38.h5` with key `ens91_processed_ids_gene`.\n",
      "2023-11-04 17:37:51 INFO:database_manager: Exporting to the following file `homo_sapiens_assembly-38.h5` with key `ens92_processed_ids_gene`.\n",
      "2023-11-04 17:37:53 INFO:database_manager: Exporting to the following file `homo_sapiens_assembly-38.h5` with key `ens93_processed_ids_gene`.\n",
      "2023-11-04 17:37:55 INFO:database_manager: Exporting to the following file `homo_sapiens_assembly-38.h5` with key `ens94_processed_ids_gene`.\n",
      "2023-11-04 17:37:57 INFO:database_manager: Exporting to the following file `homo_sapiens_assembly-38.h5` with key `ens95_processed_ids_gene`.\n",
      "2023-11-04 17:37:58 INFO:database_manager: Exporting to the following file `homo_sapiens_assembly-38.h5` with key `ens96_processed_ids_gene`.\n",
      "2023-11-04 17:38:00 INFO:database_manager: Exporting to the following file `homo_sapiens_assembly-38.h5` with key `ens97_processed_ids_gene`.\n",
      "2023-11-04 17:38:02 INFO:database_manager: Exporting to the following file `homo_sapiens_assembly-38.h5` with key `ens98_processed_ids_gene`.\n",
      "2023-11-04 17:38:04 INFO:database_manager: Exporting to the following file `homo_sapiens_assembly-38.h5` with key `ens99_processed_ids_gene`.\n",
      "2023-11-04 17:38:06 INFO:database_manager: Exporting to the following file `homo_sapiens_assembly-38.h5` with key `ens100_processed_ids_gene`.\n",
      "2023-11-04 17:38:08 INFO:database_manager: Exporting to the following file `homo_sapiens_assembly-38.h5` with key `ens101_processed_ids_gene`.\n",
      "2023-11-04 17:38:10 INFO:database_manager: Exporting to the following file `homo_sapiens_assembly-38.h5` with key `ens102_processed_ids_gene`.\n",
      "2023-11-04 17:38:12 INFO:database_manager: Exporting to the following file `homo_sapiens_assembly-38.h5` with key `ens103_processed_ids_gene`.\n",
      "2023-11-04 17:38:14 INFO:database_manager: Exporting to the following file `homo_sapiens_assembly-38.h5` with key `ens104_processed_ids_gene`.\n",
      "2023-11-04 17:38:16 INFO:database_manager: Exporting to the following file `homo_sapiens_assembly-38.h5` with key `ens105_processed_ids_gene`.\n",
      "2023-11-04 17:38:18 INFO:database_manager: Exporting to the following file `homo_sapiens_assembly-38.h5` with key `ens106_processed_ids_gene`.\n",
      "2023-11-04 17:38:20 INFO:database_manager: Exporting to the following file `homo_sapiens_assembly-38.h5` with key `ens107_processed_ids_gene`.\n",
      "2023-11-04 17:38:22 INFO:database_manager: Exporting to the following file `homo_sapiens_assembly-38.h5` with key `ens108_processed_ids_gene`.\n",
      "2023-11-04 17:38:24 INFO:database_manager: Exporting to the following file `homo_sapiens_assembly-38.h5` with key `ens109_processed_ids_gene`.\n",
      "2023-11-04 17:38:26 INFO:database_manager: Exporting to the following file `homo_sapiens_assembly-38.h5` with key `ens110_processed_ids_gene`.\n",
      "2023-11-04 17:38:26 INFO:graph_maker: Edges between versionless ID to version ID has been added for 'gene', assembly 38.\n",
      "2023-11-04 17:38:26 INFO:graph_maker: Synonymous external nodes are being merged into one.\n",
      "2023-11-04 17:38:49 INFO:graph_maker: Number of removed nodes in the process of merging synonymous nodes: 12274\n",
      "2023-11-04 17:39:06 INFO:graph_maker: The graph is being exported as '/Users/kemalinecik/Downloads/idtrack_temp/graph_homo_sapiens_ens110_min79_narrow.pickle'.\n"
     ]
    }
   ],
   "source": [
    "idt.initialize_graph(organism_name='homo_sapiens', ensembl_release=110, return_test=True)"
   ]
  },
  {
   "cell_type": "markdown",
   "metadata": {},
   "source": [
    "See the file `blabla.yaml` in local_dir. "
   ]
  },
  {
   "cell_type": "code",
   "execution_count": null,
   "metadata": {},
   "outputs": [],
   "source": [
    "print()"
   ]
  },
  {
   "cell_type": "markdown",
   "metadata": {},
   "source": [
    "Modify the file `blabla.yaml` in local_dir based on the instructions given in `create_template_yaml` method docstring.\n",
    "\n",
    "Here, these external databases are chosen:\n",
    "- `Clone_based_ensembl_gene`\n",
    "- `Clone_based_vega_gene`\n",
    "- `EntrezGene`\n",
    "- `HGNC Symbol`\n",
    "- `Havana gene`\n",
    "- `NCBI gene`\n",
    "- `NCBI gene (formerly Entrezgene)`\n",
    "- `RFAM`\n",
    "- `UniProtKB Gene Name`\n",
    "- `Vega gene`\n",
    "- `Vega_gene`\n",
    "- `CCDS`\n",
    "- `Havana transcript`\n",
    "- `RefSeq_mRNA`\n",
    "- `RefSeq_mRNA_predicted`\n",
    "- `RefSeq_ncRNA`\n",
    "- `RefSeq_ncRNA_predicted`\n",
    "- `Havana translation`\n",
    "- `RefSeq_peptide`\n",
    "- `RefSeq_peptide_predicted`\n",
    "- `Uniprot/SPTREMBL`\n",
    "- `Uniprot/SWISSPROT`"
   ]
  },
  {
   "cell_type": "markdown",
   "metadata": {},
   "source": [
    "The modified file `homo_sapiens_externals_modified.yml` should be in the directory of local_dir. \n",
    "\n",
    "This yaml file is needed for initializing the graph."
   ]
  },
  {
   "cell_type": "code",
   "execution_count": null,
   "metadata": {},
   "outputs": [],
   "source": [
    "yaml_dict = dm.external_inst.load_modified_yaml()"
   ]
  },
  {
   "cell_type": "code",
   "execution_count": null,
   "id": "84a19fa5-60df-4e8c-98ac-37b8eea9e0f8",
   "metadata": {
    "tags": []
   },
   "outputs": [],
   "source": [
    "!ls -l /lustre/groups/ml01/workspace/kemal.inecik/idtrack_temp"
   ]
  },
  {
   "cell_type": "code",
   "execution_count": null,
   "id": "66113bd0-4196-4a48-a495-24f15b3ef9af",
   "metadata": {},
   "outputs": [],
   "source": []
  }
 ],
 "metadata": {
  "kernelspec": {
   "display_name": "Python 3 (ipykernel)",
   "language": "python",
   "name": "python3"
  },
  "language_info": {
   "codemirror_mode": {
    "name": "ipython",
    "version": 3
   },
   "file_extension": ".py",
   "mimetype": "text/x-python",
   "name": "python",
   "nbconvert_exporter": "python",
   "pygments_lexer": "ipython3",
   "version": "3.8.15"
  }
 },
 "nbformat": 4,
 "nbformat_minor": 5
}
