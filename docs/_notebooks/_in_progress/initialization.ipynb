{
 "cells": [
  {
   "cell_type": "markdown",
   "id": "2a04ff2e-9cab-4760-b8ec-0ef8b36e4f5d",
   "metadata": {},
   "source": [
    "# Initialize Graph Object"
   ]
  },
  {
   "cell_type": "code",
   "execution_count": null,
   "id": "89b49214-d6a0-4e9f-a4b4-feddde076978",
   "metadata": {
    "pycharm": {
     "name": "#%% md\n"
    },
    "tags": []
   },
   "outputs": [],
   "source": [
    "import sys\n",
    "sys.path.append(\"/Users/kemalinecik/git_nosync/idtrack\")\n",
    "\n",
    "import os\n",
    "import time\n",
    "import pickle\n",
    "import idtrack\n",
    "import copy"
   ]
  },
  {
   "cell_type": "code",
   "execution_count": null,
   "id": "43030826",
   "metadata": {},
   "outputs": [],
   "source": [
    "!ls -l /Users/kemalinecik/Downloads/idtrack_temp"
   ]
  },
  {
   "cell_type": "code",
   "execution_count": null,
   "id": "42bd0199",
   "metadata": {},
   "outputs": [],
   "source": [
    "local_dir = \"/Users/kemalinecik/Downloads/idtrack_temp\"\n",
    "idt = idtrack.API(local_repository=local_dir)\n",
    "idt.configure_logger()"
   ]
  },
  {
   "cell_type": "code",
   "execution_count": null,
   "id": "cfeb70d9",
   "metadata": {},
   "outputs": [],
   "source": [
    "%%time\n",
    "organism_formal_name, last_ensembl_release = idt.get_ensembl_organism(\"homo sapiens\")\n",
    "organism_formal_name, last_ensembl_release"
   ]
  },
  {
   "cell_type": "code",
   "execution_count": null,
   "id": "383c559f-3900-4737-99d1-19255a4c6507",
   "metadata": {
    "tags": []
   },
   "outputs": [],
   "source": [
    "%%time\n",
    "idt.initialize_graph(organism_name='homo_sapiens', last_ensembl_release=114, return_test=True)"
   ]
  },
  {
   "cell_type": "code",
   "execution_count": null,
   "id": "516fc81a",
   "metadata": {},
   "outputs": [],
   "source": []
  }
 ],
 "metadata": {
  "kernelspec": {
   "display_name": "idtrack_dev_env",
   "language": "python",
   "name": "python3"
  },
  "language_info": {
   "codemirror_mode": {
    "name": "ipython",
    "version": 3
   },
   "file_extension": ".py",
   "mimetype": "text/x-python",
   "name": "python",
   "nbconvert_exporter": "python",
   "pygments_lexer": "ipython3",
   "version": "3.11.12"
  }
 },
 "nbformat": 4,
 "nbformat_minor": 5
}
