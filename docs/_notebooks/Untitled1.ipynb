{
 "cells": [
  {
   "cell_type": "markdown",
   "id": "3490a453-0e0b-4473-9531-f143add4a99e",
   "metadata": {
    "tags": []
   },
   "source": [
    "# Demo"
   ]
  },
  {
   "cell_type": "code",
   "execution_count": 1,
   "id": "ccec84d7-b980-4b82-88ba-f635b6222044",
   "metadata": {},
   "outputs": [
    {
     "data": {
      "text/plain": [
       "1"
      ]
     },
     "execution_count": 1,
     "metadata": {},
     "output_type": "execute_result"
    }
   ],
   "source": [
    "1"
   ]
  },
  {
   "cell_type": "code",
   "execution_count": 2,
   "id": "9c6c5146-0e1d-4908-8874-246dd72cece4",
   "metadata": {},
   "outputs": [],
   "source": [
    "%load_ext autoreload\n",
    "%autoreload 2"
   ]
  },
  {
   "cell_type": "code",
   "execution_count": 3,
   "id": "e9bd76e0-93b4-4d1a-a649-10790926d3b1",
   "metadata": {},
   "outputs": [],
   "source": [
    "# Initialization\n",
    "import os\n",
    "import sys\n",
    "sys.path.append(\"../..\")\n",
    "import copy\n",
    "from idtrack import *\n",
    "from idtrack._track_tests import *\n",
    "from idtrack._verbose import logger_config"
   ]
  },
  {
   "cell_type": "code",
   "execution_count": 4,
   "id": "d38db892-8f4f-4c06-a77e-265aa4d24df3",
   "metadata": {},
   "outputs": [],
   "source": [
    "logger_config()\n",
    "local_dir = \"/lustre/groups/ml01/workspace/kemal.inecik/idtrack_temp\"  # or any other local directory\n",
    "dm = DatabaseManager(\"homo_sapiens\", 107, \"gene\", local_dir, 79) "
   ]
  },
  {
   "cell_type": "code",
   "execution_count": 5,
   "id": "f72fdc82-4178-404f-930f-85cb1539d698",
   "metadata": {},
   "outputs": [
    {
     "name": "stderr",
     "output_type": "stream",
     "text": [
      "2022-10-21 11:11:49 INFO:graph_maker: The graph is being read.\n"
     ]
    }
   ],
   "source": [
    "tt: TrackTests = TrackTests(dm)"
   ]
  },
  {
   "cell_type": "code",
   "execution_count": 63,
   "id": "5c578387-9e26-4655-9788-1aee7b7c8da8",
   "metadata": {},
   "outputs": [
    {
     "data": {
      "text/plain": [
       "AdjacencyView({'ENSG00000216649.4': {0: {'weight': 0.97488, 'old_release': 104, 'new_release': 105}}, 'ENSG00000216649.5': {0: {'weight': 1.0, 'old_release': 105, 'new_release': inf}}, 'ENST00000381698.5': {0: {'connection': {'ensembl_transcript': {38: {105, 106, 107}}}, 'available_releases': {105, 106, 107}}}, '729431': {0: {'connection': {'EntrezGene': {38: {105, 106, 107}}}, 'available_releases': {105, 106, 107}}}, 'GAGE12E': {0: {'connection': {'HGNC Symbol': {38: {105, 106, 107}}, 'NCBI gene (formerly Entrezgene)': {38: {105, 106, 107}}}, 'available_releases': {105, 106, 107}}}, 'GAGE12B': {0: {'connection': {'UniProtKB Gene Name': {38: {105, 106, 107}}}, 'available_releases': {105, 106, 107}}}, 'ENSG00000216649': {0: {'connection': {'base_ensembl_gene': {38: {105, 106, 107}}}, 'available_releases': {105, 106, 107}}}})"
      ]
     },
     "execution_count": 63,
     "metadata": {},
     "output_type": "execute_result"
    }
   ],
   "source": [
    "tt.graph.rev[\"ENSG00000216649.5\"]"
   ]
  },
  {
   "cell_type": "code",
   "execution_count": null,
   "id": "b517c0a6-ece4-4eb0-9ef1-cf9577f8b1fb",
   "metadata": {},
   "outputs": [],
   "source": []
  },
  {
   "cell_type": "code",
   "execution_count": 65,
   "id": "ed59d25b-688e-4a4a-b25a-587875040964",
   "metadata": {},
   "outputs": [
    {
     "data": {
      "text/plain": [
       "{'ENSG00000236737.1': {'assembly_jump': 0,\n",
       "  'external_jump': 1,\n",
       "  'external_step': 1,\n",
       "  'initial_conversion_conf': 1,\n",
       "  'edge_scores_reduced': nan,\n",
       "  'ensembl_step': 0,\n",
       "  'final_assembly_priority': ([2, 1], 2),\n",
       "  'the_path': (('GAGE12B', 'ENSG00000236737.1', 0, 83),),\n",
       "  'final_conversion': {'final_conversion_confidence': 0,\n",
       "   'final_elements': {'GAGE12B': {'final_assembly_min_priority': 1,\n",
       "     'additional_assembly_jump': 0,\n",
       "     'the_path': (('ENSG00000236737.1', 'GAGE12B', 0, 107),)}}}}}"
      ]
     },
     "execution_count": 65,
     "metadata": {},
     "output_type": "execute_result"
    }
   ],
   "source": [
    "res=tt.convert('GAGE12B', 83, 107, \"HGNC Symbol\", prioritize_to_one_filter=True, return_path=True)\n",
    "#len(res)\n",
    "res"
   ]
  },
  {
   "cell_type": "code",
   "execution_count": 66,
   "id": "023993ae-df65-4c7a-8822-e538f475b717",
   "metadata": {},
   "outputs": [
    {
     "name": "stdout",
     "output_type": "stream",
     "text": [
      "Progress: |████████████████████| 100.0%  ZNF962P [165,1,2,0,0] ] ] \n"
     ]
    },
    {
     "data": {
      "text/plain": [
       "255.48764419555664"
      ]
     },
     "execution_count": 66,
     "metadata": {},
     "output_type": "execute_result"
    }
   ],
   "source": [
    "res=tt.history_travel_testing(83, 37, \"HGNC Symbol\", 107, \"HGNC Symbol\", True, True, True, 0.005, True, True)\n",
    "res[\"time\"]"
   ]
  },
  {
   "cell_type": "code",
   "execution_count": null,
   "id": "8638f293-79e1-4059-8917-af2ea4a7e49c",
   "metadata": {},
   "outputs": [],
   "source": [
    "resdict = dict()\n",
    "counter = 0\n",
    "while True:\n",
    "    try:\n",
    "        counter += 1\n",
    "        print(counter)\n",
    "        resd=tt.history_travel_testing_random(from_fraction=0.005, \n",
    "                                              strict_forward=False, \n",
    "                                              convert_using_release=True, \n",
    "                                              prioritize_to_one_filter=True,\n",
    "                                              verbose=True,\n",
    "                                              verbose_detailed=True)\n",
    "        print(resd[\"time\"])\n",
    "        print()\n",
    "        resdict[counter] = resd\n",
    "    except ZeroDivisionError:\n",
    "        print('pass')"
   ]
  },
  {
   "cell_type": "code",
   "execution_count": 68,
   "id": "a4ee949e-935b-43c8-ab3d-50b1108dbf42",
   "metadata": {},
   "outputs": [
    {
     "data": {
      "text/plain": [
       "{'RNU6-872P': ['RNU6-8', 'RNU6-7']}"
      ]
     },
     "execution_count": 68,
     "metadata": {},
     "output_type": "execute_result"
    }
   ],
   "source": [
    "res[\"one_to_multiple_ids\"]"
   ]
  },
  {
   "cell_type": "code",
   "execution_count": 69,
   "id": "16b39408-f4eb-4c90-91c6-dbb22fa9aaa4",
   "metadata": {},
   "outputs": [
    {
     "data": {
      "text/plain": [
       "['GVQW1', 'MUC8']"
      ]
     },
     "execution_count": 69,
     "metadata": {},
     "output_type": "execute_result"
    }
   ],
   "source": [
    "res[\"lost_item\"]"
   ]
  },
  {
   "cell_type": "code",
   "execution_count": 70,
   "id": "1c1cc020-0174-44fa-b52e-c35fe44ce53e",
   "metadata": {},
   "outputs": [
    {
     "data": {
      "text/plain": [
       "{}"
      ]
     },
     "execution_count": 70,
     "metadata": {},
     "output_type": "execute_result"
    }
   ],
   "source": [
    "res[\"found_ids_not_accurate\"]"
   ]
  },
  {
   "cell_type": "code",
   "execution_count": null,
   "id": "5a79e384-ddab-463a-b9c2-ff13fea6bf3c",
   "metadata": {},
   "outputs": [],
   "source": [
    "ENSG00000268674.2"
   ]
  },
  {
   "cell_type": "code",
   "execution_count": 38,
   "id": "f48e99f7-e327-4dd3-9190-7af815db0804",
   "metadata": {},
   "outputs": [
    {
     "data": {
      "text/plain": [
       "AtlasView({0: {'connection': {'UniProtKB Gene Name': {38: {92, 79}}, 'NCBI gene': {38: {92}}}, 'available_releases': {92, 79}}})"
      ]
     },
     "execution_count": 38,
     "metadata": {},
     "output_type": "execute_result"
    }
   ],
   "source": [
    "tt.graph['FAM231A']['ENSG00000268674.2']"
   ]
  },
  {
   "cell_type": "code",
   "execution_count": 21,
   "id": "0ee93189-0a08-4acb-9e50-36c99f13402c",
   "metadata": {},
   "outputs": [
    {
     "data": {
      "text/plain": [
       "{'ENSG00000206573.11': {'assembly_jump': 0,\n",
       "  'external_jump': 1,\n",
       "  'external_step': 3,\n",
       "  'initial_conversion_conf': 1,\n",
       "  'edge_scores_reduced': -0.8955592857142858,\n",
       "  'ensembl_step': 7,\n",
       "  'final_assembly_priority': ([1], 1),\n",
       "  'the_path': (('SETD5-AS1', 'ENSG00000206573.4', 0, 83),\n",
       "   ('ENSG00000206573.4', 'ENST00000524210.1', 0, 83),\n",
       "   ('ENST00000524210.1', 'ENSG00000206573.8', 0, 83),\n",
       "   ('ENSG00000206573.8', 'ENSG00000206573.8', 0),\n",
       "   ('ENSG00000206573.8', 'ENSG00000206573.9', 0),\n",
       "   ('ENSG00000206573.9', 'ENSG00000206573.9', 0),\n",
       "   ('ENSG00000206573.9', 'ENSG00000206573.9', 1),\n",
       "   ('ENSG00000206573.9', 'ENSG00000206573.9', 2),\n",
       "   ('ENSG00000206573.9', 'ENSG00000206573.10', 0),\n",
       "   ('ENSG00000206573.10', 'ENSG00000206573.11', 0)),\n",
       "  'final_conversion': {'final_conversion_confidence': 0,\n",
       "   'final_elements': {'SETD5-AS1': {'final_assembly_min_priority': 2,\n",
       "     'additional_assembly_jump': 1},\n",
       "    'THUMPD3-AS1': {'final_assembly_min_priority': 1,\n",
       "     'additional_assembly_jump': 0}}}}}"
      ]
     },
     "execution_count": 21,
     "metadata": {},
     "output_type": "execute_result"
    }
   ],
   "source": [
    "res=tt.convert('SETD5-AS1', 83, 107, \"HGNC Symbol\", prioritize_to_one_filter=False, return_path=True)\n",
    "#len(res)\n",
    "res\n",
    "# TODO: bu son target ayniysa aynisini return etme calismiyor mi amk"
   ]
  },
  {
   "cell_type": "code",
   "execution_count": 24,
   "id": "69d5555b-414b-4d8d-aa0d-c888f467c90c",
   "metadata": {},
   "outputs": [],
   "source": [
    "res=tt.convert('TBCE-AS1', 83, 107, \"HGNC Symbol\", prioritize_to_one_filter=False, return_path=True)\n",
    "#len(res)\n",
    "res\n",
    "# TODO: bu son target ayniysa aynisini return etme calismiyor mi amk"
   ]
  },
  {
   "cell_type": "code",
   "execution_count": null,
   "id": "05c34fa9-2060-43b1-bd5e-4fee9dee3758",
   "metadata": {},
   "outputs": [],
   "source": []
  },
  {
   "cell_type": "code",
   "execution_count": null,
   "id": "a435fbd6-8c76-4e89-8ee0-7f076dc2060c",
   "metadata": {},
   "outputs": [],
   "source": []
  },
  {
   "cell_type": "code",
   "execution_count": 34,
   "id": "fc402f5c-983d-4b3f-b0fd-6374b385a91c",
   "metadata": {},
   "outputs": [
    {
     "data": {
      "text/plain": [
       "AtlasView({0: {'connection': {'HGNC Symbol': {38: {97, 98, 99, 100, 101, 102, 103, 104}}, 'NCBI gene (formerly Entrezgene)': {38: {104, 101, 102, 103}}}, 'available_releases': {97, 98, 99, 100, 101, 102, 103, 104}}})"
      ]
     },
     "execution_count": 34,
     "metadata": {},
     "output_type": "execute_result"
    }
   ],
   "source": [
    "tt.graph['CCND2-AS1']['ENSG00000255920.3']"
   ]
  },
  {
   "cell_type": "code",
   "execution_count": 12,
   "id": "2f043fa4-7c67-457b-ae87-0484b09e464c",
   "metadata": {},
   "outputs": [
    {
     "data": {
      "text/plain": [
       "()"
      ]
     },
     "execution_count": 12,
     "metadata": {},
     "output_type": "execute_result"
    }
   ],
   "source": [
    "tt.get_possible_paths('SETD5-AS1', None, 100, False)"
   ]
  },
  {
   "cell_type": "code",
   "execution_count": 42,
   "id": "297a3a6d-a1a0-4e2b-a3b3-f5febd56d5b5",
   "metadata": {},
   "outputs": [
    {
     "data": {
      "text/plain": [
       "{(('MIR34A', 'ENSG00000228526.5', 0, -1),\n",
       "  ('ENSG00000228526.5', 'ENSG00000228526.6', 0),\n",
       "  ('ENSG00000228526.6', 'ENSG00000228526.7', 0),\n",
       "  ('ENSG00000228526.7', 'ENSG00000228526.7', 0),\n",
       "  ('ENSG00000228526.7', 'ENSG00000228526.7', 1)),\n",
       " (('MIR34A', 'ENSG00000228526.5', 0, -1),\n",
       "  ('ENSG00000228526.5', 'ENSG00000228526.6', 0),\n",
       "  ('ENSG00000228526.6', 'ENSG00000228526.7', 0),\n",
       "  ('ENSG00000228526.7', 'ENSG00000228526.7', 0),\n",
       "  ('ENSG00000228526.7', 'ENSG00000228526.7', 1),\n",
       "  ('ENSG00000228526.7', 'ENSG00000228526.7', 2)),\n",
       " (('MIR34A', 'ENSG00000284357.1', 0, -1),)}"
      ]
     },
     "execution_count": 42,
     "metadata": {},
     "output_type": "execute_result"
    }
   ],
   "source": [
    "all_paths = tt.path_search(\n",
    "                from_id='MIR34A',\n",
    "                from_release=83,\n",
    "                to_release=100,\n",
    "                reverse=False,\n",
    "                external_settings=copy.deepcopy(DB.external_search_settings),\n",
    "                external_jump=np.inf,\n",
    "                multiple_ensembl_transition=True\n",
    "            )\n",
    "all_paths"
   ]
  },
  {
   "cell_type": "code",
   "execution_count": null,
   "id": "b4a4477f-4b80-46e0-a7cc-ea807e5c2165",
   "metadata": {},
   "outputs": [],
   "source": []
  },
  {
   "cell_type": "code",
   "execution_count": 17,
   "id": "d71b7601-bb13-4b79-9206-f82db308a09c",
   "metadata": {},
   "outputs": [
    {
     "data": {
      "text/plain": [
       "AdjacencyView({'ENSG00000207865.Void': {0: {'weight': nan, 'old_release': 79, 'new_release': 79}}, 'ENST00000385130.1': {0: {'connection': {'ensembl_transcript': {38: {79, 80, 81, 82, 83, 84}}}, 'available_releases': {79, 80, 81, 82, 83, 84}}}, '407040': {0: {'connection': {'EntrezGene': {38: {79, 80, 81, 82, 83, 84}, 37: {79, 80, 81, 82, 83, 84, 85, 86, 87, 88, 89, 90, 91, 92, 93, 94, 95, 96, 97, 98, 99, 100, 101, 102, 103, 104, 105, 106, 107}}}, 'available_releases': {79, 80, 81, 82, 83, 84, 85, 86, 87, 88, 89, 90, 91, 92, 93, 94, 95, 96, 97, 98, 99, 100, 101, 102, 103, 104, 105, 106, 107}}}, 'MIR34A': {0: {'connection': {'EntrezGene': {38: {79, 80, 81, 82, 83, 84}, 37: {79, 80, 81, 82, 83, 84, 85, 86, 87, 88, 89, 90, 91, 92, 93, 94, 95, 96, 97, 98, 99, 100}}, 'HGNC Symbol': {38: {79, 80, 81, 82, 83, 84}, 37: {79, 80, 81, 82, 83, 84, 85, 86, 87, 88, 89, 90, 91, 92, 93, 94, 95, 96, 97, 98, 99, 100, 101, 102, 103, 104, 105, 106, 107}}, 'NCBI gene (formerly Entrezgene)': {37: {101, 102, 103, 104, 105, 106, 107}}}, 'available_releases': {79, 80, 81, 82, 83, 84, 85, 86, 87, 88, 89, 90, 91, 92, 93, 94, 95, 96, 97, 98, 99, 100, 101, 102, 103, 104, 105, 106, 107}}}, 'ENSG00000207865': {0: {'connection': {'base_ensembl_gene': {37: {79, 80, 81, 82, 83, 84, 85, 86, 87, 88, 89, 90, 91, 92, 93, 94, 95, 96, 97, 98, 99, 100, 101, 102, 103, 104, 105, 106, 107}, 38: {79, 80, 81, 82, 83, 84}}}, 'available_releases': {79, 80, 81, 82, 83, 84, 85, 86, 87, 88, 89, 90, 91, 92, 93, 94, 95, 96, 97, 98, 99, 100, 101, 102, 103, 104, 105, 106, 107}}}})"
      ]
     },
     "execution_count": 17,
     "metadata": {},
     "output_type": "execute_result"
    }
   ],
   "source": [
    "tt.graph.rev[\"ENSG00000207865.1\"]"
   ]
  },
  {
   "cell_type": "code",
   "execution_count": null,
   "id": "5a41b43b-801e-4768-a3d7-8a043843686c",
   "metadata": {},
   "outputs": [],
   "source": []
  },
  {
   "cell_type": "code",
   "execution_count": null,
   "id": "e8e8b874-8411-4436-b7fa-324d99b9a8d2",
   "metadata": {},
   "outputs": [],
   "source": [
    "tt.synonymous_nodes('ENSG00000075624.9', 2, {'ensembl_gene'}, from_release=None)"
   ]
  },
  {
   "cell_type": "code",
   "execution_count": null,
   "id": "2352a894-1b0c-48e2-85d5-f477391a3f80",
   "metadata": {},
   "outputs": [],
   "source": [
    "res=tt.convert('ENSG00000010810', 83, 106, \"EntrezGene\", prioritize_to_one_filter=False, return_path=True)\n",
    "#len(res)\n",
    "res"
   ]
  },
  {
   "cell_type": "code",
   "execution_count": null,
   "id": "3dbcec7b-17ff-4374-a0de-4b998a3605d9",
   "metadata": {},
   "outputs": [],
   "source": []
  },
  {
   "cell_type": "code",
   "execution_count": null,
   "id": "4a68ec1e-154b-4e04-8206-815339af0fb5",
   "metadata": {},
   "outputs": [],
   "source": []
  },
  {
   "cell_type": "code",
   "execution_count": null,
   "id": "ed6309ec-446e-46c5-88f3-e0180b34de61",
   "metadata": {},
   "outputs": [],
   "source": []
  },
  {
   "cell_type": "code",
   "execution_count": null,
   "id": "1580ed8e-dbc8-4c8e-82de-2c30406bea2f",
   "metadata": {},
   "outputs": [],
   "source": []
  },
  {
   "cell_type": "code",
   "execution_count": null,
   "id": "a2302bae-ac4d-406b-a642-d9fab636a7c5",
   "metadata": {},
   "outputs": [],
   "source": [
    "ind = 0"
   ]
  },
  {
   "cell_type": "code",
   "execution_count": null,
   "id": "abbbe271-1b49-4f92-8cc5-53a90101631c",
   "metadata": {},
   "outputs": [],
   "source": [
    "resdict[ind][\"found_ids_not_accurate\"]"
   ]
  },
  {
   "cell_type": "code",
   "execution_count": null,
   "id": "60c73200-29ec-42d0-80dc-fb5bbd8224dc",
   "metadata": {},
   "outputs": [],
   "source": [
    "resdict[ind][\"query_not_in_the_graph\"]"
   ]
  },
  {
   "cell_type": "code",
   "execution_count": null,
   "id": "d0e11846-c9d2-48b2-8740-49dc335f8b17",
   "metadata": {},
   "outputs": [],
   "source": [
    "resdict[ind][\"history_voyage_failed\"]"
   ]
  },
  {
   "cell_type": "code",
   "execution_count": null,
   "id": "98a8d65d-84ea-4222-b2c0-d04f507422a5",
   "metadata": {},
   "outputs": [],
   "source": [
    "resdict[ind][\"lost_item\"]"
   ]
  },
  {
   "cell_type": "code",
   "execution_count": null,
   "id": "79d9abc9-b9e0-43fb-8f20-b95c2ff1a14c",
   "metadata": {},
   "outputs": [],
   "source": []
  },
  {
   "cell_type": "code",
   "execution_count": null,
   "id": "7c367c1a-753a-4c3d-9b3e-250c7ae6586a",
   "metadata": {},
   "outputs": [],
   "source": []
  },
  {
   "cell_type": "code",
   "execution_count": null,
   "id": "af301a63-bfb2-412f-95f4-2e182318b70a",
   "metadata": {},
   "outputs": [],
   "source": []
  },
  {
   "cell_type": "code",
   "execution_count": null,
   "id": "936a14f5-f23d-412e-b871-316a1b7177ec",
   "metadata": {},
   "outputs": [],
   "source": []
  },
  {
   "cell_type": "code",
   "execution_count": 23,
   "id": "8bb2ae4b-7f0b-435c-9f68-583994abd8fb",
   "metadata": {},
   "outputs": [
    {
     "data": {
      "text/plain": [
       "{'ENSG00000204946.10': {'assembly_jump': 0,\n",
       "  'external_jump': 1,\n",
       "  'external_step': 2,\n",
       "  'initial_conversion_conf': 1,\n",
       "  'edge_scores_reduced': -0.9817646,\n",
       "  'ensembl_step': 5,\n",
       "  'final_assembly_priority': ([1], 1),\n",
       "  'the_path': (('XM_011515701', 'ENST00000434415.4', 0, 80),\n",
       "   ('ENST00000434415.4', 'ENSG00000204946.8', 0, 80),\n",
       "   ('ENSG00000204946.8', 'ENSG00000204946.9', 0),\n",
       "   ('ENSG00000204946.9', 'ENSG00000204946.9', 0),\n",
       "   ('ENSG00000204946.9', 'ENSG00000204946.10', 0),\n",
       "   ('ENSG00000204946.10', 'ENSG00000204946.10', 0),\n",
       "   ('ENSG00000204946.10', 'ENSG00000204946.10', 1)),\n",
       "  'final_conversion': {'final_conversion_confidence': 0,\n",
       "   'final_elements': {'Q6ZMS7': {'final_assembly_min_priority': 1,\n",
       "     'additional_assembly_jump': 0}}}}}"
      ]
     },
     "execution_count": 23,
     "metadata": {},
     "output_type": "execute_result"
    }
   ],
   "source": []
  },
  {
   "cell_type": "code",
   "execution_count": 17,
   "id": "73035073-b2fe-4886-a04c-3e31961a641d",
   "metadata": {},
   "outputs": [
    {
     "data": {
      "text/plain": [
       "AdjacencyView({'ENSG00000223951.1': {0: {'weight': 1.0, 'old_release': 79, 'new_release': inf}}})"
      ]
     },
     "execution_count": 17,
     "metadata": {},
     "output_type": "execute_result"
    }
   ],
   "source": [
    "tt.graph['ENSG00000223951.1']"
   ]
  },
  {
   "cell_type": "code",
   "execution_count": 4,
   "id": "a645b8e0-99ad-4083-ae4c-363e78fc4a2c",
   "metadata": {},
   "outputs": [
    {
     "data": {
      "text/plain": [
       "[2, 2, 3]"
      ]
     },
     "execution_count": 4,
     "metadata": {},
     "output_type": "execute_result"
    }
   ],
   "source": [
    "[2,2,3,4,5,6,7][:3]"
   ]
  },
  {
   "cell_type": "code",
   "execution_count": 36,
   "id": "0b9221e1-8353-45bc-a83e-24af449c2f28",
   "metadata": {},
   "outputs": [],
   "source": [
    "a=(1,3,4,5,6)"
   ]
  },
  {
   "cell_type": "code",
   "execution_count": 38,
   "id": "b22cd397-db9a-4c5b-af98-9422360da682",
   "metadata": {},
   "outputs": [
    {
     "data": {
      "text/plain": [
       "[5, 6, 5]"
      ]
     },
     "execution_count": 38,
     "metadata": {},
     "output_type": "execute_result"
    }
   ],
   "source": [
    "[*a[-2:], 5]"
   ]
  },
  {
   "cell_type": "code",
   "execution_count": null,
   "id": "129599a6-4097-43c1-8ae7-59f4586556b3",
   "metadata": {},
   "outputs": [],
   "source": [
    "add_to_step = [0] if er is None else [0, er]\n",
    "[[list(i) + add_to_step for i in zip(m1, m1[1:])] for m1, _ in res_syn_mth]"
   ]
  },
  {
   "cell_type": "code",
   "execution_count": 24,
   "id": "b4d6a156-cb5a-4f64-8086-2b93103de88a",
   "metadata": {},
   "outputs": [
    {
     "data": {
      "text/plain": [
       "{(('AC018766.4', 'ENSG00000267896.1', 0, 96),\n",
       "  ('ENSG00000267896.1', 'ENST00000596624.1', 0, 96),\n",
       "  ('ENST00000596624.1', 'ENSG00000039650.12', 0, 96))}"
      ]
     },
     "execution_count": 24,
     "metadata": {},
     "output_type": "execute_result"
    }
   ],
   "source": [
    "all_paths: set = set()\n",
    "tt._recursive_path_search(\n",
    "    'AC018766.4',\n",
    "    107,\n",
    "    107,\n",
    "    all_paths,\n",
    "    False,\n",
    "    copy.deepcopy(DB.external_search_settings),\n",
    "    external_jump=np.inf,\n",
    "    multiple_ensembl_transition=False,\n",
    ")\n",
    "all_paths"
   ]
  },
  {
   "cell_type": "code",
   "execution_count": 26,
   "id": "06b387f9-4330-440d-b6cb-4628d535d25a",
   "metadata": {},
   "outputs": [
    {
     "data": {
      "text/plain": [
       "[['ENSG00000267896.1',\n",
       "  84,\n",
       "  False,\n",
       "  ['AC018766.4', 'ENSG00000267896.1'],\n",
       "  ['external', 'ensembl_gene']],\n",
       " ['ENSG00000039650.12',\n",
       "  96,\n",
       "  True,\n",
       "  ['AC018766.4',\n",
       "   'ENSG00000267896.1',\n",
       "   'ENST00000596624.1',\n",
       "   'ENSG00000039650.12'],\n",
       "  ['external', 'ensembl_gene', 'ensembl_transcript', 'ensembl_gene']]]"
      ]
     },
     "execution_count": 26,
     "metadata": {},
     "output_type": "execute_result"
    }
   ],
   "source": [
    "tt.choose_relevant_synonym(\n",
    "    'AC018766.4',\n",
    "    depth_max=copy.deepcopy(DB.external_search_settings)[\"synonymous_max_depth\"],\n",
    "    to_release=107,\n",
    "    filter_node_type={copy.deepcopy(DB.external_search_settings)[\"nts_backbone\"]},\n",
    "    # do not time travel here, go with the same release\n",
    "    from_release=None,\n",
    ")"
   ]
  },
  {
   "cell_type": "code",
   "execution_count": 8,
   "id": "f77a786a-2f63-4a95-afd3-89b8f89ff8b1",
   "metadata": {},
   "outputs": [],
   "source": [
    "a=[['ENSG00000267896.1',\n",
    "  84,\n",
    "  False,\n",
    "  ['AC018766.4', 'ENSG00000267896.1'],\n",
    "  ['external', 'ensembl_gene']],\n",
    " ['ENSG00000039650.12',\n",
    "  96,\n",
    "  True,\n",
    "  ['AC018766.4',\n",
    "   'ENSG00000267896.1',\n",
    "   'ENST00000596624.1',\n",
    "   'ENSG00000039650.12'],\n",
    "  ['external', 'ensembl_gene', 'ensembl_transcript', 'ensembl_gene']]]"
   ]
  },
  {
   "cell_type": "code",
   "execution_count": 12,
   "id": "a5a21eef-d3b2-4d82-b8d5-c2933ad501d4",
   "metadata": {},
   "outputs": [
    {
     "data": {
      "text/plain": [
       "['ENSG00000267896.1',\n",
       " 84,\n",
       " False,\n",
       " ['AC018766.4', 'ENSG00000267896.1'],\n",
       " ['external', 'ensembl_gene']]"
      ]
     },
     "execution_count": 12,
     "metadata": {},
     "output_type": "execute_result"
    }
   ],
   "source": [
    "a[0]"
   ]
  },
  {
   "cell_type": "code",
   "execution_count": null,
   "id": "9f2d1449-b0c5-4ee4-8c80-8ec3a7204cb8",
   "metadata": {},
   "outputs": [],
   "source": []
  },
  {
   "cell_type": "code",
   "execution_count": 31,
   "id": "2bb10f06-582b-46fd-a5b9-8465f3b08cb3",
   "metadata": {},
   "outputs": [
    {
     "data": {
      "text/plain": [
       "array([ 79,  80,  81,  82,  83,  84,  85,  86,  87,  88,  89,  90,  91,\n",
       "        92,  93,  94,  95,  96,  97,  98,  99, 100, 101, 102, 103, 104,\n",
       "       105, 106, 107])"
      ]
     },
     "execution_count": 31,
     "metadata": {},
     "output_type": "execute_result"
    }
   ],
   "source": [
    "np.array(sorted(tt.graph['AC018766.4']['ENSG00000267896.1'][0][\"available_releases\"]))"
   ]
  },
  {
   "cell_type": "code",
   "execution_count": 33,
   "id": "8520b188-0eb0-4cef-8dba-9ff7ef772c13",
   "metadata": {},
   "outputs": [
    {
     "data": {
      "text/plain": [
       "array([79, 80, 81, 82, 83, 84])"
      ]
     },
     "execution_count": 33,
     "metadata": {},
     "output_type": "execute_result"
    }
   ],
   "source": [
    "np.array(sorted(tt.graph['ENST00000596624.1']['ENSG00000267896.1'][0][\"available_releases\"]))"
   ]
  },
  {
   "cell_type": "code",
   "execution_count": 34,
   "id": "a1c89373-487b-4ab6-baff-6ee4057477ce",
   "metadata": {},
   "outputs": [
    {
     "data": {
      "text/plain": [
       "array([ 96,  97,  98,  99, 100, 101, 102, 103, 104, 105, 106, 107])"
      ]
     },
     "execution_count": 34,
     "metadata": {},
     "output_type": "execute_result"
    }
   ],
   "source": [
    "np.array(sorted(tt.graph['ENST00000596624.1']['ENSG00000039650.12'][0][\"available_releases\"]))"
   ]
  },
  {
   "cell_type": "code",
   "execution_count": null,
   "id": "2bf70fe3-d54a-4758-8495-0f4f949b8eb4",
   "metadata": {},
   "outputs": [],
   "source": [
    "## TODO: monotonic ens reelase in nodes ?? as a metric\n",
    "## syn'de degisim None olmak zorunda kaldiginde??"
   ]
  },
  {
   "cell_type": "code",
   "execution_count": 24,
   "id": "0d3fd42c-22f2-4809-b689-7ba1976e6af1",
   "metadata": {},
   "outputs": [
    {
     "data": {
      "text/plain": [
       "[[79, 84]]"
      ]
     },
     "execution_count": 24,
     "metadata": {},
     "output_type": "execute_result"
    }
   ],
   "source": [
    "tt.graph.get_active_ranges_of_id[\"ENSG00000267896.1\"]"
   ]
  },
  {
   "cell_type": "code",
   "execution_count": null,
   "id": "957e2702-1b77-4ad3-9544-8b0c3adfff53",
   "metadata": {},
   "outputs": [],
   "source": [
    "tt.graph[\"ENSG00000267896.1\"]"
   ]
  },
  {
   "cell_type": "code",
   "execution_count": null,
   "id": "0c745f21-4628-457c-a10c-d1592a577a97",
   "metadata": {},
   "outputs": [],
   "source": []
  },
  {
   "cell_type": "code",
   "execution_count": null,
   "id": "8884a562-f100-4903-b9ed-1c4db3caf5eb",
   "metadata": {},
   "outputs": [],
   "source": []
  },
  {
   "cell_type": "code",
   "execution_count": null,
   "id": "7b113423-3cb6-493e-9f6a-5189e88546b1",
   "metadata": {},
   "outputs": [],
   "source": []
  },
  {
   "cell_type": "code",
   "execution_count": null,
   "id": "73e349c5-3e1f-45c7-a133-d53f2b1393c7",
   "metadata": {},
   "outputs": [],
   "source": []
  },
  {
   "cell_type": "code",
   "execution_count": null,
   "id": "8869626e-fcd7-46a6-897b-fdb398150117",
   "metadata": {},
   "outputs": [],
   "source": []
  },
  {
   "cell_type": "code",
   "execution_count": 36,
   "id": "6ea2dbf3-d073-47fe-95f3-f11e1580cea7",
   "metadata": {
    "tags": []
   },
   "outputs": [
    {
     "data": {
      "text/plain": [
       "{'ENST00000468437.1': {'ensembl_transcript': {38: {79,\n",
       "    80,\n",
       "    81,\n",
       "    82,\n",
       "    83,\n",
       "    84,\n",
       "    85,\n",
       "    86,\n",
       "    87,\n",
       "    88,\n",
       "    89,\n",
       "    90,\n",
       "    91,\n",
       "    92,\n",
       "    93,\n",
       "    94,\n",
       "    95,\n",
       "    96,\n",
       "    97,\n",
       "    98,\n",
       "    99,\n",
       "    100,\n",
       "    101,\n",
       "    102,\n",
       "    103,\n",
       "    104,\n",
       "    105,\n",
       "    106,\n",
       "    107}},\n",
       "  'assembly_37_ensembl_transcript': {37: {79,\n",
       "    80,\n",
       "    81,\n",
       "    82,\n",
       "    83,\n",
       "    84,\n",
       "    85,\n",
       "    86,\n",
       "    87,\n",
       "    88,\n",
       "    89,\n",
       "    90,\n",
       "    91,\n",
       "    92,\n",
       "    93,\n",
       "    94,\n",
       "    95,\n",
       "    96,\n",
       "    97,\n",
       "    98,\n",
       "    99,\n",
       "    100,\n",
       "    101,\n",
       "    102,\n",
       "    103,\n",
       "    104,\n",
       "    105,\n",
       "    106,\n",
       "    107}}}}"
      ]
     },
     "execution_count": 36,
     "metadata": {},
     "output_type": "execute_result"
    }
   ],
   "source": [
    "result = dict()\n",
    "result = TheGraph._combined_edges([\"ENST00000468437.1\"], tt.graph, result)\n",
    "result"
   ]
  },
  {
   "cell_type": "code",
   "execution_count": 16,
   "id": "adfae679-126d-43c7-ac9a-8232c8d9ebf7",
   "metadata": {},
   "outputs": [
    {
     "data": {
      "text/plain": [
       "[]"
      ]
     },
     "execution_count": 16,
     "metadata": {},
     "output_type": "execute_result"
    }
   ],
   "source": [
    "tt.synonymous_nodes(the_id=\"ENSG00000267896.1\", depth_max=2, filter_node_type={\"HGNC Symbol\"}, from_release=None)"
   ]
  },
  {
   "cell_type": "code",
   "execution_count": 15,
   "id": "6e95a921-119a-4f72-8eff-9d0c6d4414c0",
   "metadata": {},
   "outputs": [
    {
     "data": {
      "text/plain": [
       "{'ENSG00000039650.12': {'assembly_jump': 0,\n",
       "  'external_jump': 1,\n",
       "  'external_step': 3,\n",
       "  'edge_scores_reduced': nan,\n",
       "  'ensembl_step': 0,\n",
       "  'final_assembly_priority': ([1], 1),\n",
       "  'the_path': (('AC018766.4',\n",
       "    'ENSG00000267896.1',\n",
       "    0,\n",
       "    {79,\n",
       "     80,\n",
       "     81,\n",
       "     82,\n",
       "     83,\n",
       "     84,\n",
       "     85,\n",
       "     86,\n",
       "     87,\n",
       "     88,\n",
       "     89,\n",
       "     90,\n",
       "     91,\n",
       "     92,\n",
       "     93,\n",
       "     94,\n",
       "     95,\n",
       "     96,\n",
       "     97,\n",
       "     98,\n",
       "     99,\n",
       "     100,\n",
       "     101,\n",
       "     102,\n",
       "     103,\n",
       "     104,\n",
       "     105,\n",
       "     106,\n",
       "     107}),\n",
       "   ('ENSG00000267896.1', 'ENST00000596624.1', 0, {79, 80, 81, 82, 83, 84}),\n",
       "   ('ENST00000596624.1',\n",
       "    'ENSG00000039650.12',\n",
       "    0,\n",
       "    {96, 97, 98, 99, 100, 101, 102, 103, 104, 105, 106, 107})),\n",
       "  'final_conversion': {'final_conversion_confidence': 0,\n",
       "   'final_elements': {'PNKP': {'final_assembly_min_priority': 1,\n",
       "     'additional_assembly_jump': 0}}}}}"
      ]
     },
     "execution_count": 15,
     "metadata": {},
     "output_type": "execute_result"
    }
   ],
   "source": [
    "res=tt.convert('AC018766.4', None, 107, \"HGNC Symbol\", prioritize_to_one_filter=False, return_path=True)\n",
    "#len(res)\n",
    "res"
   ]
  },
  {
   "cell_type": "code",
   "execution_count": null,
   "id": "67cef276-9003-430b-9621-1db5b8da5d51",
   "metadata": {},
   "outputs": [],
   "source": [
    "tt.path_step_possible_assembly_jumps('ENSG00000267896.1', 'ENST00000596624.1', 0, 96)"
   ]
  },
  {
   "cell_type": "code",
   "execution_count": 12,
   "id": "f17ebe79-5bc2-4ef3-908d-33db11964ed2",
   "metadata": {},
   "outputs": [
    {
     "data": {
      "text/plain": [
       "{'ensembl_transcript': {38: {79, 80, 81, 82, 83, 84}}}"
      ]
     },
     "execution_count": 12,
     "metadata": {},
     "output_type": "execute_result"
    }
   ],
   "source": [
    "edge_key = tt.edge_key_orientor('ENSG00000267896.1', 'ENST00000596624.1', 0)\n",
    "edge_data=tt.graph.get_edge_data(*edge_key)[DB.connection_dict]\n",
    "edge_data"
   ]
  },
  {
   "cell_type": "code",
   "execution_count": 14,
   "id": "f005a76f-a96e-4c8b-be86-45b39fd831e5",
   "metadata": {},
   "outputs": [
    {
     "data": {
      "text/plain": [
       "[]"
      ]
     },
     "execution_count": 14,
     "metadata": {},
     "output_type": "execute_result"
    }
   ],
   "source": [
    "sorted({j for i in edge_data for j in edge_data[i] if 96 in edge_data[i][j]})"
   ]
  },
  {
   "cell_type": "code",
   "execution_count": 6,
   "id": "afdb9885-3ac7-4cba-9d00-1a24143b5f65",
   "metadata": {},
   "outputs": [
    {
     "data": {
      "text/plain": [
       "(0, 1, 2, 3, 4)"
      ]
     },
     "execution_count": 6,
     "metadata": {},
     "output_type": "execute_result"
    }
   ],
   "source": [
    "tuple(i for i in range(5))"
   ]
  },
  {
   "cell_type": "code",
   "execution_count": 14,
   "id": "09f514c7-8cc2-45d8-890a-3d654b64e729",
   "metadata": {},
   "outputs": [
    {
     "data": {
      "text/plain": [
       "AdjacencyView({'ENSG00000039650.12': {0: {'weight': 0.997445, 'old_release': 97, 'new_release': 98}, 1: {'weight': 0.997445, 'old_release': 98, 'new_release': 99}, 2: {'weight': 1.0, 'old_release': 99, 'new_release': inf}}})"
      ]
     },
     "execution_count": 14,
     "metadata": {},
     "output_type": "execute_result"
    }
   ],
   "source": [
    "tt.graph['ENSG00000039650.12']"
   ]
  },
  {
   "cell_type": "code",
   "execution_count": null,
   "id": "899b1b32-000c-4996-aa8e-a738f1b76506",
   "metadata": {},
   "outputs": [],
   "source": []
  },
  {
   "cell_type": "code",
   "execution_count": 10,
   "id": "0a1903ba-a901-4c88-bc9a-edf48ca67a7d",
   "metadata": {},
   "outputs": [
    {
     "data": {
      "text/plain": [
       "[-130, -137, 0]"
      ]
     },
     "execution_count": 10,
     "metadata": {},
     "output_type": "execute_result"
    }
   ],
   "source": [
    "tt.calculate_node_scores(\"ENSG00000201707.1\")"
   ]
  },
  {
   "cell_type": "code",
   "execution_count": 9,
   "id": "dd49202c-9ecd-477b-a82e-2f8b6b80351c",
   "metadata": {},
   "outputs": [],
   "source": [
    "#tt.graph[\"RNU6-818P\"][\"ENSG00000201707.1\"][0]"
   ]
  },
  {
   "cell_type": "code",
   "execution_count": null,
   "id": "488bb000-ff18-4622-9ad2-e33350d4a7a7",
   "metadata": {},
   "outputs": [],
   "source": []
  },
  {
   "cell_type": "code",
   "execution_count": 7,
   "id": "3f18150e-9465-42df-8dc2-9e312cd02a00",
   "metadata": {},
   "outputs": [
    {
     "data": {
      "text/plain": [
       "{'EntrezGene': {38: {81, 82, 83, 84}}}"
      ]
     },
     "execution_count": 7,
     "metadata": {},
     "output_type": "execute_result"
    }
   ],
   "source": [
    "edge_data = tt.graph.get_edge_data('AGAP4', 'ENSG00000204149.9', 0)[DB.connection_dict]\n",
    "edge_data"
   ]
  },
  {
   "cell_type": "code",
   "execution_count": 12,
   "id": "39db2e75-df2b-410f-88a7-b57876b30bea",
   "metadata": {},
   "outputs": [
    {
     "data": {
      "text/plain": [
       "[[37], [], [], [38], [38], [38], [38]]"
      ]
     },
     "execution_count": 12,
     "metadata": {},
     "output_type": "execute_result"
    }
   ],
   "source": [
    "the_path=(('ENSG00000264842.1', 'AGAP4', 0, 97), ('AGAP4', 'ENSG00000204149.9', 0, 97), ('ENSG00000204149.9', 'ENST00000618025.4', 0, 97), ('ENST00000618025.4', 'ENSG00000178440.6', 0, 97), ('ENSG00000178440.6', 'ENSG00000178440.7', 0), ('ENSG00000178440.7', 'ENSG00000178440.7', 0), ('ENSG00000178440.7', 'ENSG00000178440.7', 1))\n",
    "[tt.path_step_possible_assembly_jumps(*i) for i in the_path]"
   ]
  },
  {
   "cell_type": "code",
   "execution_count": 17,
   "id": "660c03e9-31ff-4a9e-adc7-597db646708f",
   "metadata": {},
   "outputs": [
    {
     "data": {
      "text/plain": [
       "{'jump_limit': 2, 'synonymous_max_depth': 3, 'nts_backbone': 'ensembl_gene'}"
      ]
     },
     "execution_count": 17,
     "metadata": {},
     "output_type": "execute_result"
    }
   ],
   "source": [
    "DB.external_search_settings"
   ]
  },
  {
   "cell_type": "code",
   "execution_count": 6,
   "id": "9e6d3d8d-1904-44f4-8a3e-a5b0ec70a075",
   "metadata": {},
   "outputs": [
    {
     "data": {
      "text/plain": [
       "0"
      ]
     },
     "execution_count": 6,
     "metadata": {},
     "output_type": "execute_result"
    }
   ],
   "source": [
    "def asd(a,b,c):\n",
    "    return a+b-c\n",
    "\n",
    "c=[1,3,4,5,6]\n",
    "asd(*c[-2:],11)"
   ]
  },
  {
   "cell_type": "code",
   "execution_count": 4,
   "id": "dfc194e7-0a05-435c-94e0-3b7c9fe7528b",
   "metadata": {},
   "outputs": [
    {
     "name": "stderr",
     "output_type": "stream",
     "text": [
      "2022-10-19 10:39:06 INFO:the_graph: Cached properties being calculated: combined_edges\n",
      "2022-10-19 10:39:45 INFO:the_graph: Cached properties being calculated: get_active_ranges_of_id\n",
      "2022-10-19 10:39:57 INFO:the_graph: Cached properties being calculated: combined_edges_assembly_specific_genes\n"
     ]
    },
    {
     "data": {
      "text/plain": [
       "1437"
      ]
     },
     "execution_count": 4,
     "metadata": {},
     "output_type": "execute_result"
    }
   ],
   "source": [
    "res=tt.convert('RNU6-818P', 103, 107, \"ensembl_gene\", prioritize_to_one_filter=False, return_path=True)\n",
    "len(res)"
   ]
  },
  {
   "cell_type": "code",
   "execution_count": 9,
   "id": "be7b5496-6a10-4791-b973-41e70f6a1edf",
   "metadata": {},
   "outputs": [],
   "source": [
    "tt.convert('ZNF879', 103, 107, \"HGNC Symbol\", prioritize_to_one_filter=True, return_path=True)"
   ]
  },
  {
   "cell_type": "code",
   "execution_count": null,
   "id": "0241402d-c1ac-40b0-8e88-2894f8335819",
   "metadata": {},
   "outputs": [],
   "source": []
  },
  {
   "cell_type": "code",
   "execution_count": null,
   "id": "9e8eecc9-398f-44c4-b686-97ce9225980a",
   "metadata": {},
   "outputs": [],
   "source": []
  },
  {
   "cell_type": "code",
   "execution_count": null,
   "id": "29c980d5-e25f-425d-a57a-74b5910eedf1",
   "metadata": {},
   "outputs": [],
   "source": []
  },
  {
   "cell_type": "code",
   "execution_count": null,
   "id": "fef517bf-6c8e-4ccd-9229-ca93ecd9646b",
   "metadata": {},
   "outputs": [],
   "source": []
  },
  {
   "cell_type": "code",
   "execution_count": 6,
   "id": "7dcf4448-55ad-44c5-ad12-e466a334a265",
   "metadata": {},
   "outputs": [
    {
     "name": "stdout",
     "output_type": "stream",
     "text": [
      "{'from_assembly': 37, 'from_release': 85, 'to_release': 87, 'from_database': 'Havana transcript', 'to_database': 'UniProtKB Gene Name'}\n",
      "Progress: |████████████████████| 100.0%  OTTHUMT00000465099 [56,7,24,3,0] \n"
     ]
    }
   ],
   "source": []
  },
  {
   "cell_type": "code",
   "execution_count": 7,
   "id": "11db32c4-76ec-48d5-81c6-967ddb39f518",
   "metadata": {},
   "outputs": [
    {
     "data": {
      "text/plain": [
       "{'OTTHUMT00000027463': ['SPATA1'],\n",
       " 'OTTHUMT00000346761': ['ZNF287'],\n",
       " 'OTTHUMT00000357164': ['RYK']}"
      ]
     },
     "execution_count": 7,
     "metadata": {},
     "output_type": "execute_result"
    }
   ],
   "source": [
    "res[\"found_ids_not_accurate\"]"
   ]
  },
  {
   "cell_type": "code",
   "execution_count": 8,
   "id": "e37bc9ea-6a01-46c5-8081-7c1e4a496372",
   "metadata": {},
   "outputs": [
    {
     "name": "stdout",
     "output_type": "stream",
     "text": [
      "here [[['ENSG00000122432.16', 'SPATA1', 0, 87]]]\n"
     ]
    },
    {
     "data": {
      "text/plain": [
       "{'ENSG00000122432.16': {'assembly_jump': 0,\n",
       "  'external_jump': 1,\n",
       "  'external_step': 2,\n",
       "  'edge_scores_reduced': nan,\n",
       "  'ensembl_step': 0,\n",
       "  'final_assembly_priority': ([1], 2),\n",
       "  'the_path': (('OTTHUMT00000027463', 'ENST00000468437.1', 0, 85),\n",
       "   ('ENST00000468437.1', 'ENSG00000122432.16', 0, 85)),\n",
       "  'final_conversion': {'final_conversion_confidence': 0,\n",
       "   'final_elements': {'SPATA1': {'final_assembly_min_priority': 1,\n",
       "     'additional_assembly_jump': 0}}}}}"
      ]
     },
     "execution_count": 8,
     "metadata": {},
     "output_type": "execute_result"
    }
   ],
   "source": [
    "output=tt.convert('OTTHUMT00000027463', 85, 87, \"UniProtKB Gene Name\", prioritize_to_one_filter=True, return_path=True)\n",
    "output"
   ]
  },
  {
   "cell_type": "code",
   "execution_count": 9,
   "id": "1aa7e0ed-36ee-406d-95f5-b0fadfd0e9ca",
   "metadata": {},
   "outputs": [
    {
     "ename": "NameError",
     "evalue": "name 'res' is not defined",
     "output_type": "error",
     "traceback": [
      "\u001b[0;31m---------------------------------------------------------------------------\u001b[0m",
      "\u001b[0;31mNameError\u001b[0m                                 Traceback (most recent call last)",
      "Input \u001b[0;32mIn [9]\u001b[0m, in \u001b[0;36m<cell line: 1>\u001b[0;34m()\u001b[0m\n\u001b[0;32m----> 1\u001b[0m \u001b[38;5;124m'\u001b[39m\u001b[38;5;124mSPATA1\u001b[39m\u001b[38;5;124m'\u001b[39m \u001b[38;5;129;01min\u001b[39;00m \u001b[43mres\u001b[49m[\u001b[38;5;124m\"\u001b[39m\u001b[38;5;124mid_list\u001b[39m\u001b[38;5;124m\"\u001b[39m][\u001b[38;5;124m\"\u001b[39m\u001b[38;5;124mids_to\u001b[39m\u001b[38;5;124m\"\u001b[39m]\n",
      "\u001b[0;31mNameError\u001b[0m: name 'res' is not defined"
     ]
    }
   ],
   "source": [
    "'SPATA1' in res[\"id_list\"][\"ids_to\"]"
   ]
  },
  {
   "cell_type": "code",
   "execution_count": 10,
   "id": "5127b6e3-5317-4b5b-a287-c130cca5d739",
   "metadata": {},
   "outputs": [],
   "source": [
    "def _final_conversion_path_helper(res_syn_mth, er=None):\n",
    "                add_to_step = [0] if er is None else [0, er]\n",
    "                return [[list(i) + add_to_step for i in zip(m1, m1[1:])] for m1, _ in res_syn_mth]\n"
   ]
  },
  {
   "cell_type": "code",
   "execution_count": 11,
   "id": "f885f08f-230c-485c-b080-0e48a6e95bfe",
   "metadata": {},
   "outputs": [
    {
     "data": {
      "text/plain": [
       "[]"
      ]
     },
     "execution_count": 11,
     "metadata": {},
     "output_type": "execute_result"
    }
   ],
   "source": []
  },
  {
   "cell_type": "code",
   "execution_count": 6,
   "id": "fdc9a34d-5e56-4639-b95b-6c05799206c3",
   "metadata": {},
   "outputs": [
    {
     "name": "stderr",
     "output_type": "stream",
     "text": [
      "2022-10-18 10:31:08 INFO:the_graph: Cached properties being calculated: combined_edges\n"
     ]
    },
    {
     "data": {
      "text/plain": [
       "[[['ENSG00000122432.18', 'SPATA1'], ['ensembl_gene', 'external']]]"
      ]
     },
     "execution_count": 6,
     "metadata": {},
     "output_type": "execute_result"
    }
   ],
   "source": [
    "tt.synonymous_nodes(the_id=\"ENSG00000122432.18\", depth_max=2, filter_node_type={\"UniProtKB Gene Name\"}, from_release=None)"
   ]
  },
  {
   "cell_type": "code",
   "execution_count": 7,
   "id": "be660447-b3e3-47f1-94aa-4cb5cf9ab829",
   "metadata": {},
   "outputs": [
    {
     "data": {
      "text/plain": [
       "[]"
      ]
     },
     "execution_count": 7,
     "metadata": {},
     "output_type": "execute_result"
    }
   ],
   "source": [
    "_final_conversion_path_helper(tt.synonymous_nodes(the_id=\"ENSG00000122432.18\", depth_max=2, filter_node_type={\"UniProtKB Gene Name\"}, from_release=87),87)"
   ]
  },
  {
   "cell_type": "code",
   "execution_count": 12,
   "id": "db017d5b-34a3-4420-b05b-52aafe2713ca",
   "metadata": {},
   "outputs": [],
   "source": [
    "from collections import Counter"
   ]
  },
  {
   "cell_type": "code",
   "execution_count": 23,
   "id": "748ddef4-01a0-409d-8648-8f52d901fa58",
   "metadata": {},
   "outputs": [
    {
     "data": {
      "text/plain": [
       "2"
      ]
     },
     "execution_count": 23,
     "metadata": {},
     "output_type": "execute_result"
    }
   ],
   "source": [
    "k={\"bok\":1, \"b\":2}\n",
    "max(k.values())"
   ]
  },
  {
   "cell_type": "code",
   "execution_count": 24,
   "id": "674b3868-65be-49ea-9a94-11098821de7f",
   "metadata": {},
   "outputs": [
    {
     "data": {
      "text/plain": [
       "dict_keys(['EntrezGene', 'HGNC Symbol', 'NCBI gene', 'Vega gene', 'UniProtKB Gene Name', 'NCBI gene (formerly Entrezgene)'])"
      ]
     },
     "execution_count": 24,
     "metadata": {},
     "output_type": "execute_result"
    }
   ],
   "source": [
    "tt.graph.combined_edges[\"SPATA1\"].keys()"
   ]
  },
  {
   "cell_type": "code",
   "execution_count": 27,
   "id": "de273c28-2bba-45de-83b2-88ee40fb8e9c",
   "metadata": {},
   "outputs": [
    {
     "name": "stdout",
     "output_type": "stream",
     "text": [
      "ENSG00000154537.4\n",
      "ENSG00000148828.5\n"
     ]
    }
   ],
   "source": [
    "print(list(tt.graph.combined_edges_genes.keys())[0])\n",
    "print(list(tt.graph.combined_edges_assembly_specific_genes.keys())[0])"
   ]
  },
  {
   "cell_type": "code",
   "execution_count": 37,
   "id": "4d7b60a8-91a1-41bb-a841-e51b1063629c",
   "metadata": {},
   "outputs": [
    {
     "data": {
      "text/plain": [
       "{'CCDS',\n",
       " 'Clone_based_ensembl_gene',\n",
       " 'Clone_based_vega_gene',\n",
       " 'EntrezGene',\n",
       " 'HGNC Symbol',\n",
       " 'Havana gene',\n",
       " 'Havana transcript',\n",
       " 'Havana translation',\n",
       " 'NCBI gene',\n",
       " 'NCBI gene (formerly Entrezgene)',\n",
       " 'RFAM',\n",
       " 'RefSeq_mRNA',\n",
       " 'RefSeq_mRNA_predicted',\n",
       " 'RefSeq_ncRNA',\n",
       " 'RefSeq_ncRNA_predicted',\n",
       " 'RefSeq_peptide',\n",
       " 'RefSeq_peptide_predicted',\n",
       " 'UniProtKB Gene Name',\n",
       " 'Uniprot/SPTREMBL',\n",
       " 'Uniprot/SWISSPROT',\n",
       " 'Vega gene',\n",
       " 'Vega_gene'}"
      ]
     },
     "execution_count": 37,
     "metadata": {},
     "output_type": "execute_result"
    }
   ],
   "source": [
    "tt.graph.available_external_databases"
   ]
  },
  {
   "cell_type": "code",
   "execution_count": 42,
   "id": "62be5cd4-0cdc-4dc8-9ee6-e387cd5158fc",
   "metadata": {},
   "outputs": [
    {
     "data": {
      "text/plain": [
       "6"
      ]
     },
     "execution_count": 42,
     "metadata": {},
     "output_type": "execute_result"
    }
   ],
   "source": [
    "inp = [1,3,4,5,6,6,7]\n",
    "max(set(inp), key=inp.count)"
   ]
  },
  {
   "cell_type": "code",
   "execution_count": 41,
   "id": "265f4d8c-046e-48e7-a6b0-8aa6f15bb5bd",
   "metadata": {},
   "outputs": [
    {
     "data": {
      "text/plain": [
       "1"
      ]
     },
     "execution_count": 41,
     "metadata": {},
     "output_type": "execute_result"
    }
   ],
   "source": []
  },
  {
   "cell_type": "code",
   "execution_count": 31,
   "id": "3496bc7d-5ab1-4f6e-9075-b5a8f601d412",
   "metadata": {},
   "outputs": [
    {
     "data": {
      "text/plain": [
       "dict_keys(['assembly_37_ensembl_gene'])"
      ]
     },
     "execution_count": 31,
     "metadata": {},
     "output_type": "execute_result"
    }
   ],
   "source": [
    "tt.graph.combined_edges_assembly_specific_genes[\"ENSG00000148828.5\"].keys()"
   ]
  },
  {
   "cell_type": "code",
   "execution_count": 30,
   "id": "60327d1a-0923-4372-beae-085366621d6d",
   "metadata": {},
   "outputs": [
    {
     "data": {
      "text/plain": [
       "dict_keys(['assembly_38_ensembl_gene', 'assembly_37_ensembl_gene'])"
      ]
     },
     "execution_count": 30,
     "metadata": {},
     "output_type": "execute_result"
    }
   ],
   "source": [
    "tt.graph.combined_edges_genes[\"ENSG00000154537.4\"].keys()"
   ]
  },
  {
   "cell_type": "code",
   "execution_count": null,
   "id": "4c868117-e158-472e-ad5f-972c61d03bd9",
   "metadata": {},
   "outputs": [],
   "source": []
  },
  {
   "cell_type": "code",
   "execution_count": null,
   "id": "97580748-6c6f-405c-a6b0-c57636c2671c",
   "metadata": {},
   "outputs": [],
   "source": []
  },
  {
   "cell_type": "code",
   "execution_count": null,
   "id": "dd55e730-fa01-4f04-809b-445c6fe59a47",
   "metadata": {},
   "outputs": [],
   "source": []
  },
  {
   "cell_type": "code",
   "execution_count": null,
   "id": "2034c12e-5368-44bf-abba-f3f9cd9c976e",
   "metadata": {},
   "outputs": [],
   "source": []
  },
  {
   "cell_type": "code",
   "execution_count": null,
   "id": "ad969835-3901-4d2f-a939-743185e8629f",
   "metadata": {},
   "outputs": [],
   "source": []
  },
  {
   "cell_type": "code",
   "execution_count": 22,
   "id": "92c2085f-954c-483a-a79b-3bde376a4519",
   "metadata": {},
   "outputs": [
    {
     "data": {
      "text/plain": [
       "{'XP_005246906': ['XP_005246906'],\n",
       " 'XP_005248104': ['XP_005248104', 'XP_005248103', 'XP_005248105'],\n",
       " 'XP_005253316': ['XP_005253315', 'XP_005253316', 'XP_005253314'],\n",
       " 'XP_005260268': ['XP_005260272', 'XP_005260268'],\n",
       " 'XP_005276441': ['XP_005271860',\n",
       "  'XP_005277725',\n",
       "  'XP_005277705',\n",
       "  'XP_005277726',\n",
       "  'XP_005276441',\n",
       "  'XP_003960522',\n",
       "  'XP_005270373',\n",
       "  'XP_005277708',\n",
       "  'XP_005270374']}"
      ]
     },
     "execution_count": 22,
     "metadata": {},
     "output_type": "execute_result"
    }
   ],
   "source": [
    "res[\"found_ids_not_accurate\"]"
   ]
  },
  {
   "cell_type": "code",
   "execution_count": null,
   "id": "7bcb2a46-3c13-4d64-a215-df65275d9adb",
   "metadata": {},
   "outputs": [],
   "source": []
  },
  {
   "cell_type": "code",
   "execution_count": 37,
   "id": "32c8d5d0-2016-4a8c-9265-ce004113903e",
   "metadata": {},
   "outputs": [],
   "source": [
    "output="
   ]
  },
  {
   "cell_type": "code",
   "execution_count": 39,
   "id": "cc16eea9-641c-4e7d-8d0d-d766c7e1ccd8",
   "metadata": {},
   "outputs": [
    {
     "data": {
      "text/plain": [
       "{'ENSG00000188234.13': {'assembly_jump': 0,\n",
       "  'external_jump': 1,\n",
       "  'external_step': 3,\n",
       "  'edge_scores_reduced': nan,\n",
       "  'ensembl_step': 0,\n",
       "  'final_assembly_priority': ([1], 1),\n",
       "  'the_path': (('XP_005276441', 'ENSP00000392513.2', 0, 100),\n",
       "   ('ENSP00000392513.2', 'ENST00000448048.6', 0, 100),\n",
       "   ('ENST00000448048.6', 'ENSG00000188234.13', 0, 100)),\n",
       "  'final_conversion': {'final_conversion_confidence': 0,\n",
       "   'final_elements': {'XP_003960522': {'final_assembly_min_priority': 2,\n",
       "     'additional_assembly_jump': 0},\n",
       "    'XP_005270373': {'final_assembly_min_priority': 2,\n",
       "     'additional_assembly_jump': 0},\n",
       "    'XP_005270374': {'final_assembly_min_priority': 2,\n",
       "     'additional_assembly_jump': 0},\n",
       "    'XP_005271860': {'final_assembly_min_priority': 2,\n",
       "     'additional_assembly_jump': 0},\n",
       "    'XP_005276441': {'final_assembly_min_priority': 2,\n",
       "     'additional_assembly_jump': 0},\n",
       "    'XP_005277705': {'final_assembly_min_priority': 2,\n",
       "     'additional_assembly_jump': 0},\n",
       "    'XP_005277708': {'final_assembly_min_priority': 2,\n",
       "     'additional_assembly_jump': 0},\n",
       "    'XP_005277725': {'final_assembly_min_priority': 2,\n",
       "     'additional_assembly_jump': 0},\n",
       "    'XP_005277726': {'final_assembly_min_priority': 2,\n",
       "     'additional_assembly_jump': 0}}}}}"
      ]
     },
     "execution_count": 39,
     "metadata": {},
     "output_type": "execute_result"
    }
   ],
   "source": []
  },
  {
   "cell_type": "code",
   "execution_count": 41,
   "id": "09a67be6-0b5f-4725-851a-2a5daac819bb",
   "metadata": {},
   "outputs": [
    {
     "data": {
      "text/plain": [
       "{'XP_003960522',\n",
       " 'XP_005270373',\n",
       " 'XP_005270374',\n",
       " 'XP_005271860',\n",
       " 'XP_005276441',\n",
       " 'XP_005277705',\n",
       " 'XP_005277708',\n",
       " 'XP_005277725',\n",
       " 'XP_005277726'}"
      ]
     },
     "execution_count": 41,
     "metadata": {},
     "output_type": "execute_result"
    }
   ],
   "source": [
    "{i for bst in output for i in output[bst][\"final_conversion\"][\"final_elements\"]}"
   ]
  },
  {
   "cell_type": "code",
   "execution_count": 46,
   "id": "fc8cbaaa-c931-45dc-a8e8-746ef017ab11",
   "metadata": {},
   "outputs": [
    {
     "data": {
      "text/plain": [
       "{'CCDS',\n",
       " 'Clone_based_ensembl_gene',\n",
       " 'Clone_based_vega_gene',\n",
       " 'EntrezGene',\n",
       " 'HGNC Symbol',\n",
       " 'Havana gene',\n",
       " 'Havana transcript',\n",
       " 'Havana translation',\n",
       " 'NCBI gene',\n",
       " 'NCBI gene (formerly Entrezgene)',\n",
       " 'RFAM',\n",
       " 'RefSeq_mRNA',\n",
       " 'RefSeq_mRNA_predicted',\n",
       " 'RefSeq_ncRNA',\n",
       " 'RefSeq_ncRNA_predicted',\n",
       " 'RefSeq_peptide',\n",
       " 'RefSeq_peptide_predicted',\n",
       " 'UniProtKB Gene Name',\n",
       " 'Uniprot/SPTREMBL',\n",
       " 'Uniprot/SWISSPROT',\n",
       " 'Vega gene',\n",
       " 'Vega_gene'}"
      ]
     },
     "execution_count": 46,
     "metadata": {},
     "output_type": "execute_result"
    }
   ],
   "source": [
    "tt.graph.available_external_databases"
   ]
  },
  {
   "cell_type": "code",
   "execution_count": 49,
   "id": "e9c16f18-f4d8-42db-846e-02c16baa3a3a",
   "metadata": {},
   "outputs": [
    {
     "data": {
      "text/plain": [
       "[[['ACTB'], ['external']]]"
      ]
     },
     "execution_count": 50,
     "metadata": {},
     "output_type": "execute_result"
    }
   ],
   "source": []
  },
  {
   "cell_type": "code",
   "execution_count": null,
   "id": "5b72f926-583b-4d31-847f-a8d23e744078",
   "metadata": {},
   "outputs": [],
   "source": []
  },
  {
   "cell_type": "code",
   "execution_count": 42,
   "id": "b399025f-ea32-4c24-ab54-29a85b41b806",
   "metadata": {},
   "outputs": [
    {
     "data": {
      "text/plain": [
       "[[['XP_005277708'], ['external']]]"
      ]
     },
     "execution_count": 42,
     "metadata": {},
     "output_type": "execute_result"
    }
   ],
   "source": [
    "tt.synonymous_nodes(the_id=\"XP_005277708\", depth_max=2, filter_node_type={\"RefSeq_peptide_predicted\"}, from_release=100)"
   ]
  },
  {
   "cell_type": "code",
   "execution_count": 28,
   "id": "4ccda6cc-7e4a-4dbe-8800-f7f38162d5ae",
   "metadata": {},
   "outputs": [
    {
     "data": {
      "text/plain": [
       "{'node_type': 'external'}"
      ]
     },
     "execution_count": 28,
     "metadata": {},
     "output_type": "execute_result"
    }
   ],
   "source": [
    "tt.graph.nodes[\"XP_005277708\"]"
   ]
  },
  {
   "cell_type": "code",
   "execution_count": 31,
   "id": "036a1669-ebab-46c0-aa72-b4069a599c18",
   "metadata": {},
   "outputs": [],
   "source": [
    "def _final_conversion_path_helper(res_syn_mth, er=None):\n",
    "                add_to_step = [0] if er is None else [0, er]\n",
    "                return [[list(i) + add_to_step for i in zip(m1, m1[1:])] for m1, _ in res_syn_mth]"
   ]
  },
  {
   "cell_type": "code",
   "execution_count": 33,
   "id": "d8cbdfbe-e805-4076-a636-8344e1cb4f0c",
   "metadata": {},
   "outputs": [
    {
     "data": {
      "text/plain": [
       "[[]]"
      ]
     },
     "execution_count": 33,
     "metadata": {},
     "output_type": "execute_result"
    }
   ],
   "source": [
    "_final_conversion_path_helper(\n",
    "                tt.synonymous_nodes(\n",
    "                    the_id=\"XP_005277708\", depth_max=2, filter_node_type={\"RefSeq_peptide_predicted\"}, from_release=101\n",
    "                ),\n",
    "                er=101,\n",
    "            )"
   ]
  },
  {
   "cell_type": "code",
   "execution_count": null,
   "id": "1128976d-1313-4ddf-9bf4-0fddb804e6ed",
   "metadata": {},
   "outputs": [],
   "source": []
  },
  {
   "cell_type": "code",
   "execution_count": null,
   "id": "0c1e7aa8-fb83-4f92-8cf8-0b0001eb971f",
   "metadata": {},
   "outputs": [],
   "source": []
  },
  {
   "cell_type": "code",
   "execution_count": null,
   "id": "42cd6580-438a-4fbd-86c6-929b5533a615",
   "metadata": {},
   "outputs": [],
   "source": []
  },
  {
   "cell_type": "code",
   "execution_count": null,
   "id": "41671bce-e92c-4e4f-88ce-cc1dae399004",
   "metadata": {},
   "outputs": [],
   "source": []
  },
  {
   "cell_type": "code",
   "execution_count": null,
   "id": "f8dec9be-d0c1-4a09-8c1c-6af1154595e1",
   "metadata": {},
   "outputs": [],
   "source": []
  },
  {
   "cell_type": "code",
   "execution_count": null,
   "id": "bc5b574f-c012-41ce-8a84-c9c62f6370cf",
   "metadata": {},
   "outputs": [],
   "source": []
  },
  {
   "cell_type": "code",
   "execution_count": null,
   "id": "5ea47c5e-b494-4b46-a075-d8488d84a200",
   "metadata": {},
   "outputs": [],
   "source": []
  },
  {
   "cell_type": "code",
   "execution_count": null,
   "id": "3419ae54-9eb5-47cc-9cb2-78fde58af50f",
   "metadata": {},
   "outputs": [],
   "source": []
  },
  {
   "cell_type": "code",
   "execution_count": null,
   "id": "8ff3a56f-eec7-44ae-864d-e6171e482f6b",
   "metadata": {},
   "outputs": [],
   "source": []
  },
  {
   "cell_type": "code",
   "execution_count": null,
   "id": "032ab836-7058-418f-9247-8f31d07c03f2",
   "metadata": {},
   "outputs": [],
   "source": []
  },
  {
   "cell_type": "code",
   "execution_count": null,
   "id": "d1ccd4a4-8a63-488d-b051-cd0594f2f3b3",
   "metadata": {},
   "outputs": [],
   "source": []
  },
  {
   "cell_type": "code",
   "execution_count": null,
   "id": "0e24769f-5d7d-4f6f-878f-08d63131eb83",
   "metadata": {},
   "outputs": [],
   "source": []
  },
  {
   "cell_type": "code",
   "execution_count": null,
   "id": "786c1c05-bfb7-4654-ba00-042c656f6218",
   "metadata": {},
   "outputs": [],
   "source": []
  },
  {
   "cell_type": "code",
   "execution_count": null,
   "id": "36452e0d-0021-4c68-8cf6-472117f7f3cd",
   "metadata": {},
   "outputs": [],
   "source": []
  },
  {
   "cell_type": "code",
   "execution_count": null,
   "id": "8102ad76-38ae-41dd-af59-7eb850c17914",
   "metadata": {},
   "outputs": [],
   "source": []
  },
  {
   "cell_type": "code",
   "execution_count": null,
   "id": "518b607d-c1e2-4208-907a-13c577e8810d",
   "metadata": {},
   "outputs": [],
   "source": []
  },
  {
   "cell_type": "code",
   "execution_count": null,
   "id": "771f0d7d-a858-4201-9f25-807f1384cf84",
   "metadata": {},
   "outputs": [],
   "source": []
  },
  {
   "cell_type": "code",
   "execution_count": null,
   "id": "ec1ebe07-82a8-4bd8-aef2-c5cafb58ec00",
   "metadata": {},
   "outputs": [],
   "source": []
  },
  {
   "cell_type": "code",
   "execution_count": null,
   "id": "f583a2cd-47f0-45ad-89ac-411c4ae9bb46",
   "metadata": {},
   "outputs": [],
   "source": []
  },
  {
   "cell_type": "code",
   "execution_count": null,
   "id": "d4dc0fce-56cd-4b6f-b0bc-210f9d0063e0",
   "metadata": {},
   "outputs": [],
   "source": []
  },
  {
   "cell_type": "code",
   "execution_count": null,
   "id": "82c48543-9280-4464-ba7b-1def2b9c805b",
   "metadata": {},
   "outputs": [],
   "source": []
  },
  {
   "cell_type": "code",
   "execution_count": null,
   "id": "16140e88-da84-444b-a390-0a5e12969c0b",
   "metadata": {},
   "outputs": [],
   "source": []
  },
  {
   "cell_type": "code",
   "execution_count": null,
   "id": "740601e5-31fa-42d0-9743-1319886a3257",
   "metadata": {},
   "outputs": [],
   "source": []
  },
  {
   "cell_type": "code",
   "execution_count": null,
   "id": "14ea79ae-6747-4973-a804-03516bb01003",
   "metadata": {},
   "outputs": [],
   "source": [
    "res['history_voyage_failed']"
   ]
  },
  {
   "cell_type": "code",
   "execution_count": null,
   "id": "b80f0f88-cb32-4ca4-af95-7dd304342ed4",
   "metadata": {},
   "outputs": [],
   "source": [
    "edge_data=tt.graph.get_edge_data('CYFIP1', 'ENSG00000288461.1', 0)[DB.connection_dict]\n",
    "sorted({j for i in edge_data for j in edge_data[i] if 98 in edge_data[i][j]})\n",
    "edge_data"
   ]
  },
  {
   "cell_type": "code",
   "execution_count": null,
   "id": "9bdd93ec-3915-49dc-b02d-de5c674efa2a",
   "metadata": {},
   "outputs": [],
   "source": [
    "[tt.path_step_possible_assembly_jumps(*i) for i in (('CYFIP1', 'ENSG00000288461.1', 0, 98),)]"
   ]
  },
  {
   "cell_type": "code",
   "execution_count": null,
   "id": "008a8dc4-00e0-41e6-9c50-5713d79fbec5",
   "metadata": {},
   "outputs": [],
   "source": [
    "tt.graph['CYFIP1']['ENSG00000288461.1'][0]"
   ]
  },
  {
   "cell_type": "code",
   "execution_count": null,
   "id": "05069e08-9ca0-4967-9f78-f1583ffc6493",
   "metadata": {},
   "outputs": [],
   "source": [
    "tt.graph['CYFIP1']['ENSG00000288461.1'][0]"
   ]
  },
  {
   "cell_type": "code",
   "execution_count": null,
   "id": "51002f69-174e-4239-9609-9ad5ac216e08",
   "metadata": {},
   "outputs": [],
   "source": [
    "poss_paths =tt.get_possible_paths(\n",
    "                'CYFIP1', 103, 107, go_external=True, reverse=False, from_release_inferred = False\n",
    "            )\n",
    "poss_paths"
   ]
  },
  {
   "cell_type": "code",
   "execution_count": null,
   "id": "76e8dd87-2160-417a-9c8b-ae867f934c63",
   "metadata": {},
   "outputs": [],
   "source": [
    "all_paths: set = set()\n",
    "tt._recursive_path_search(\n",
    "    'CYFIP1',\n",
    "    103,\n",
    "    107,\n",
    "    all_paths,\n",
    "    False,\n",
    "    copy.deepcopy(DB.external_search_settings),\n",
    "    external_jump=np.inf,\n",
    "    multiple_ensembl_transition=False,\n",
    ")\n",
    "all_paths"
   ]
  },
  {
   "cell_type": "code",
   "execution_count": null,
   "id": "d748351f-76c6-4b6c-90dc-411c64c07702",
   "metadata": {},
   "outputs": [],
   "source": [
    "tt.choose_relevant_synonym(\n",
    "    'CYFIP1',\n",
    "    depth_max=DB.external_search_settings[\"synonymous_max_depth\"],\n",
    "    to_release=107,\n",
    "    filter_node_type={DB.external_search_settings[\"nts_backbone\"]},\n",
    "    # do not time travel here, go with the same release\n",
    "    from_release=103\n",
    ")"
   ]
  },
  {
   "cell_type": "code",
   "execution_count": null,
   "id": "606fe768-e981-46ac-9c42-74e32a926b85",
   "metadata": {},
   "outputs": [],
   "source": [
    "tt.choose_relevant_synonym(\n",
    "    'CYFIP1',\n",
    "    depth_max=DB.external_search_settings[\"synonymous_max_depth\"],\n",
    "    to_release=107,\n",
    "    filter_node_type={DB.external_search_settings[\"nts_backbone\"]},\n",
    "    # do not time travel here, go with the same release\n",
    "    from_release=None\n",
    ")"
   ]
  },
  {
   "cell_type": "code",
   "execution_count": null,
   "id": "bec371fd-1b63-40a9-971c-de28bf183174",
   "metadata": {},
   "outputs": [],
   "source": [
    "syn"
   ]
  },
  {
   "cell_type": "code",
   "execution_count": null,
   "id": "f71cf426-589c-4bfe-8761-b8a031b05201",
   "metadata": {},
   "outputs": [],
   "source": [
    "syn_ids: dict = dict()\n",
    "for syn_p, syn_db in syn:\n",
    "    si = syn_p[-1]\n",
    "    s = tt.graph.nodes[si][\"ID\"]\n",
    "    if s not in syn_ids:\n",
    "        syn_ids[s] = []\n",
    "    syn_ids[s].append([si, syn_p, syn_db])\n",
    "syn_ids"
   ]
  },
  {
   "cell_type": "code",
   "execution_count": null,
   "id": "4a5a3d96-cca3-44e1-b406-3cbed9584160",
   "metadata": {},
   "outputs": [],
   "source": [
    "result = list()  # si, from_rel, reverse, syn_p, syn_db\n",
    "for s in syn_ids:  # the one with the same id\n",
    "    si_list, syn_p_list, syn_db_list = map(list, zip(*syn_ids[s]))\n",
    "    # could give route to same id from multiple routes\n",
    "\n",
    "    best_ids_best_ranges = tt._choose_relevant_synonym_helper('CYFIP1', si_list, 107, mode=\"closest\")\n",
    "\n",
    "    for a1, a2, a3 in best_ids_best_ranges:\n",
    "        for_filtering = [i == a1 for i in si_list]\n",
    "\n",
    "        for b1, b2 in zip(\n",
    "            itertools.compress(syn_p_list, for_filtering), itertools.compress(syn_db_list, for_filtering)\n",
    "        ):\n",
    "            result.append([a1, a2, a3, b1, b2])\n"
   ]
  },
  {
   "cell_type": "code",
   "execution_count": null,
   "id": "1f9f9e9e-891f-4163-a3bd-0c5eb973bf23",
   "metadata": {},
   "outputs": [],
   "source": [
    "syn_p_list"
   ]
  },
  {
   "cell_type": "code",
   "execution_count": null,
   "id": "28500bff-c732-4e01-b4fc-8485ad511cde",
   "metadata": {},
   "outputs": [],
   "source": []
  },
  {
   "cell_type": "code",
   "execution_count": null,
   "id": "48cd689a-dcfa-4840-a19f-6bdd34066e00",
   "metadata": {},
   "outputs": [],
   "source": []
  },
  {
   "cell_type": "code",
   "execution_count": null,
   "id": "dd085e00-1ccb-4ae8-9bde-4b76b0277746",
   "metadata": {},
   "outputs": [],
   "source": [
    "tt.graph['CYFIP1']['ENSG00000288461.1'][0]"
   ]
  },
  {
   "cell_type": "code",
   "execution_count": null,
   "id": "052ced34-cbc0-4e3b-8ef0-79b6c85d6071",
   "metadata": {},
   "outputs": [],
   "source": [
    "syn = tt.synonymous_nodes('CYFIP1', DB.external_search_settings[\"synonymous_max_depth\"], {\"ensembl_gene\"}, from_release=103);\n",
    "syn"
   ]
  },
  {
   "cell_type": "code",
   "execution_count": null,
   "id": "24a2ff98-26fb-4ca1-858c-4504bd468f59",
   "metadata": {},
   "outputs": [],
   "source": [
    "the_id='CYFIP1'\n",
    "syn = tt.synonymous_nodes(the_id, DB.external_search_settings[\"synonymous_max_depth\"], {\"ensembl_gene\"}, from_release=103)\n",
    "# it also returns itself, which is important\n",
    "\n",
    "syn_ids: dict = dict()\n",
    "for syn_p, syn_db in syn:\n",
    "    si = syn_p[-1]\n",
    "    s = tt.graph.nodes[si][\"ID\"]\n",
    "    if s not in syn_ids:\n",
    "        syn_ids[s] = []\n",
    "    syn_ids[s].append([si, syn_p, syn_db])\n",
    "\n",
    "# remove ens_gene -> ens-transcript -> ens_gene\n",
    "\n",
    "result = list()  # si, from_rel, reverse, syn_p, syn_db\n",
    "for s in syn_ids:  # the one with the same id\n",
    "    si_list, syn_p_list, syn_db_list = map(list, zip(*syn_ids[s]))\n",
    "    # could give route to same id from multiple routes\n",
    "\n",
    "    best_ids_best_ranges = [['ENSG00000288461.1', 103, False]]\n",
    "    print(best_ids_best_ranges, 103)\n",
    "\n",
    "    for a1, a2, a3 in best_ids_best_ranges:\n",
    "        for_filtering = [i == a1 for i in si_list]\n",
    "\n",
    "        for b1, b2 in zip(\n",
    "            itertools.compress(syn_p_list, for_filtering), itertools.compress(syn_db_list, for_filtering)\n",
    "        ):\n",
    "            result.append([a1, a2, a3, b1, b2])\n",
    "\n",
    "result"
   ]
  },
  {
   "cell_type": "code",
   "execution_count": null,
   "id": "803755f8-6d7b-4b6c-af40-abcf4b6a65e9",
   "metadata": {},
   "outputs": [],
   "source": [
    "from_id, synonym_ids, to_release, from_release = the_id, si_list, 107, 103\n",
    "mode=\"closest\""
   ]
  },
  {
   "cell_type": "code",
   "execution_count": null,
   "id": "59407bfc-6bf6-4d2e-9086-f9cdb7c0e6b0",
   "metadata": {},
   "outputs": [],
   "source": [
    "distance_to_target = list()\n",
    "candidate_ranges = list()\n",
    "\n",
    "if from_release is not None:\n",
    "    candidate_ranges.extend([[i, from_release, from_release > to_release] for i in synonym_ids])\n",
    "    print('here')\n",
    "candidate_ranges"
   ]
  },
  {
   "cell_type": "code",
   "execution_count": null,
   "id": "e06f2af8-e097-4081-bc34-382b022e07a5",
   "metadata": {},
   "outputs": [],
   "source": [
    "converted_item = tt.convert(\n",
    "                        from_id='CYFIP1',\n",
    "                        from_release=103,\n",
    "                        to_release=107,\n",
    "                        final_database=\"HGNC Symbol\",\n",
    "                        go_external=True,\n",
    "                        prioritize_to_one_filter=True,\n",
    "                    )\n",
    "converted_item"
   ]
  },
  {
   "cell_type": "code",
   "execution_count": null,
   "id": "6a15fb2b-7731-4371-aead-859e94602309",
   "metadata": {},
   "outputs": [],
   "source": []
  },
  {
   "cell_type": "code",
   "execution_count": null,
   "id": "52758868-9623-4ace-9bf6-4e1b2323c893",
   "metadata": {},
   "outputs": [],
   "source": []
  },
  {
   "cell_type": "code",
   "execution_count": null,
   "id": "a3ecca3e-1d04-4271-a584-572e70d769b2",
   "metadata": {},
   "outputs": [],
   "source": []
  },
  {
   "cell_type": "code",
   "execution_count": null,
   "id": "5bea0ec6-12ed-4f95-b367-631bd94895fd",
   "metadata": {},
   "outputs": [],
   "source": []
  },
  {
   "cell_type": "code",
   "execution_count": null,
   "id": "63c6b7a8-376e-412f-9228-97485f4e17ca",
   "metadata": {},
   "outputs": [],
   "source": []
  },
  {
   "cell_type": "code",
   "execution_count": null,
   "id": "e4e86f60-91e0-4fe6-a20c-b8a820bee8d1",
   "metadata": {},
   "outputs": [],
   "source": []
  },
  {
   "cell_type": "code",
   "execution_count": null,
   "id": "399a739f-3ca5-49c2-8dbe-6a4ac0ff2484",
   "metadata": {},
   "outputs": [],
   "source": []
  },
  {
   "cell_type": "code",
   "execution_count": null,
   "id": "f4d77a57-de9f-4d28-bf2d-0fcbaabe50ed",
   "metadata": {},
   "outputs": [],
   "source": []
  },
  {
   "cell_type": "code",
   "execution_count": null,
   "id": "6b9e21a3-3333-4029-a7e8-e44db0465d8c",
   "metadata": {},
   "outputs": [],
   "source": []
  },
  {
   "cell_type": "code",
   "execution_count": null,
   "id": "f42effe4-38cf-4fd2-bc31-24097bb0d1f5",
   "metadata": {},
   "outputs": [],
   "source": []
  },
  {
   "cell_type": "code",
   "execution_count": null,
   "id": "09bf80c7-0098-4279-ba69-5e31261e13d3",
   "metadata": {},
   "outputs": [],
   "source": []
  },
  {
   "cell_type": "code",
   "execution_count": null,
   "id": "576df0cc-90b6-4f1e-a0e1-3e1b6eb13e3b",
   "metadata": {},
   "outputs": [],
   "source": []
  },
  {
   "cell_type": "code",
   "execution_count": null,
   "id": "b1c8cdfd-077e-452a-a860-b14e1f4304ca",
   "metadata": {},
   "outputs": [],
   "source": []
  },
  {
   "cell_type": "code",
   "execution_count": null,
   "id": "b241a12c-c3ad-4e56-8131-2de101b2abd0",
   "metadata": {},
   "outputs": [],
   "source": []
  },
  {
   "cell_type": "code",
   "execution_count": null,
   "id": "c42715ad-4517-4d25-ae3f-7857fe27f8fd",
   "metadata": {},
   "outputs": [],
   "source": []
  },
  {
   "cell_type": "code",
   "execution_count": null,
   "id": "5301644e-22bc-4517-9634-b610b62dc325",
   "metadata": {},
   "outputs": [],
   "source": []
  },
  {
   "cell_type": "code",
   "execution_count": null,
   "id": "5aa80211-b49d-497a-9f2a-66b672842f57",
   "metadata": {},
   "outputs": [],
   "source": []
  },
  {
   "cell_type": "code",
   "execution_count": null,
   "id": "419e4a77-800b-4807-a90b-cb061243ee4a",
   "metadata": {},
   "outputs": [],
   "source": []
  },
  {
   "cell_type": "code",
   "execution_count": null,
   "id": "e50fd730-5908-4151-a959-b1bb52cc07e8",
   "metadata": {},
   "outputs": [],
   "source": []
  },
  {
   "cell_type": "code",
   "execution_count": null,
   "id": "95f78440-d49f-44f9-b6cd-702658510045",
   "metadata": {},
   "outputs": [],
   "source": []
  },
  {
   "cell_type": "code",
   "execution_count": null,
   "id": "7f65c849-547c-414e-a7e6-270ef626f630",
   "metadata": {},
   "outputs": [],
   "source": []
  },
  {
   "cell_type": "code",
   "execution_count": null,
   "id": "62b11842-6cae-4f91-b82e-44a96914ae0d",
   "metadata": {},
   "outputs": [],
   "source": []
  },
  {
   "cell_type": "code",
   "execution_count": null,
   "id": "f18f66d9-35a2-47b1-898e-356e1af38a32",
   "metadata": {},
   "outputs": [],
   "source": []
  },
  {
   "cell_type": "code",
   "execution_count": null,
   "id": "ce427ab2-1f59-4d0b-9c66-03797e4fb7b5",
   "metadata": {},
   "outputs": [],
   "source": []
  },
  {
   "cell_type": "code",
   "execution_count": null,
   "id": "074095f2-7e88-43d3-bbb4-53e7c75b6352",
   "metadata": {},
   "outputs": [],
   "source": []
  }
 ],
 "metadata": {
  "kernelspec": {
   "display_name": "Python 3 (ipykernel)",
   "language": "python",
   "name": "python3"
  },
  "language_info": {
   "codemirror_mode": {
    "name": "ipython",
    "version": 3
   },
   "file_extension": ".py",
   "mimetype": "text/x-python",
   "name": "python",
   "nbconvert_exporter": "python",
   "pygments_lexer": "ipython3",
   "version": "3.9.12"
  }
 },
 "nbformat": 4,
 "nbformat_minor": 5
}
