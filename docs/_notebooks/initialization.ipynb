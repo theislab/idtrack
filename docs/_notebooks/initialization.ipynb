{
 "cells": [
  {
   "cell_type": "code",
   "execution_count": 1,
   "id": "89b49214-d6a0-4e9f-a4b4-feddde076978",
   "metadata": {
    "pycharm": {
     "name": "#%% md\n"
    }
   },
   "outputs": [],
   "source": [
    "# Initialization\n",
    "import os\n",
    "import sys\n",
    "sys.path.append(\"../..\")"
   ]
  },
  {
   "cell_type": "code",
   "execution_count": null,
   "id": "315ebb01-6ca5-4158-b908-1d88c702151b",
   "metadata": {},
   "outputs": [],
   "source": [
    "import time, sys\n",
    "print('ok')\n",
    "while True:\n",
    "    try:\n",
    "        sys.stdout.write(f\"\\r{time.time()}\")\n",
    "        sys.stdout.flush()\n",
    "        time.sleep(1)\n",
    "    except KeyboardInterrupt:\n",
    "        sys.stdout.write(\"\\n\")\n",
    "        sys.stdout.flush()\n",
    "        print('done')\n",
    "        break\n",
    "    sys.stdout.flush()"
   ]
  },
  {
   "cell_type": "code",
   "execution_count": null,
   "id": "383c559f-3900-4737-99d1-19255a4c6507",
   "metadata": {},
   "outputs": [],
   "source": []
  },
  {
   "cell_type": "code",
   "execution_count": 2,
   "id": "ae0b97c4-3155-40ea-9e6e-db9cb8dfd49d",
   "metadata": {},
   "outputs": [],
   "source": [
    "import copy\n",
    "from idtrack import *\n",
    "from idtrack._track_tests import *\n",
    "from idtrack._verbose import logger_config\n",
    "logger_config()\n",
    "local_dir = \"/lustre/groups/ml01/workspace/kemal.inecik/idtrack_temp\"  # or any other local directory\n",
    "dm = DatabaseManager(\"homo_sapiens\", 107, \"gene\", local_dir, 106) \n",
    "tt: TrackTests = TrackTests(dm)"
   ]
  },
  {
   "cell_type": "code",
   "execution_count": 10,
   "id": "e1b2e0ae-2aa9-43f4-93a8-524e79b32024",
   "metadata": {},
   "outputs": [
    {
     "data": {
      "text/plain": [
       "{'ACTB'}"
      ]
     },
     "execution_count": 10,
     "metadata": {},
     "output_type": "execute_result"
    }
   ],
   "source": [
    "{j for i in lal for j in lal[i][\"final_conversion\"][\"final_elements\"]}"
   ]
  },
  {
   "cell_type": "code",
   "execution_count": 11,
   "id": "3c222d5e-9a58-48f2-9a6d-877420b179e5",
   "metadata": {},
   "outputs": [
    {
     "data": {
      "text/plain": [
       "{'ENSG00000075624.17': {'assembly_jump': 0,\n",
       "  'external_jump': 1,\n",
       "  'external_step': 1,\n",
       "  'edge_scores_reduced': nan,\n",
       "  'ensembl_step': 0,\n",
       "  'final_assembly_priority': ([1], 1),\n",
       "  'final_conversion': {'final_conversion_confidence': 0,\n",
       "   'final_elements': {'ACTB': {'final_assembly_min_priority': 1,\n",
       "     'additional_assembly_jump': 0}}}}}"
      ]
     },
     "execution_count": 11,
     "metadata": {},
     "output_type": "execute_result"
    }
   ],
   "source": [
    "lal=tt.convert(\"ACTB\", None, None, return_path=False, final_database = \"HGNC Symbol\", prioritize_to_one_filter=True)\n",
    "lal"
   ]
  },
  {
   "cell_type": "code",
   "execution_count": 12,
   "id": "e2b9284b-86df-475d-b1ad-26e924250b42",
   "metadata": {},
   "outputs": [
    {
     "data": {
      "text/plain": [
       "{'ENSG00000163017.14': {'assembly_jump': 0,\n",
       "  'external_jump': 1,\n",
       "  'external_step': 5,\n",
       "  'edge_scores_reduced': nan,\n",
       "  'ensembl_step': 0,\n",
       "  'final_assembly_priority': ([1], 2),\n",
       "  'final_conversion': {'final_conversion_confidence': 0,\n",
       "   'final_elements': {'ACTG2': {'final_assembly_min_priority': 1,\n",
       "     'additional_assembly_jump': 0}}}},\n",
       " 'ENSG00000075624.17': {'assembly_jump': 0,\n",
       "  'external_jump': 1,\n",
       "  'external_step': 1,\n",
       "  'edge_scores_reduced': nan,\n",
       "  'ensembl_step': 0,\n",
       "  'final_assembly_priority': ([1], 1),\n",
       "  'final_conversion': {'final_conversion_confidence': 0,\n",
       "   'final_elements': {'ACTG1': {'final_assembly_min_priority': 2,\n",
       "     'additional_assembly_jump': 1},\n",
       "    'ACTB': {'final_assembly_min_priority': 1,\n",
       "     'additional_assembly_jump': 0}}}},\n",
       " 'ENSG00000107796.13': {'assembly_jump': 0,\n",
       "  'external_jump': 1,\n",
       "  'external_step': 5,\n",
       "  'edge_scores_reduced': nan,\n",
       "  'ensembl_step': 0,\n",
       "  'final_assembly_priority': ([1], 2),\n",
       "  'final_conversion': {'final_conversion_confidence': 0,\n",
       "   'final_elements': {'ACTA2': {'final_assembly_min_priority': 1,\n",
       "     'additional_assembly_jump': 0}}}},\n",
       " 'ENSG00000184009.13': {'assembly_jump': 0,\n",
       "  'external_jump': 1,\n",
       "  'external_step': 3,\n",
       "  'edge_scores_reduced': nan,\n",
       "  'ensembl_step': 0,\n",
       "  'final_assembly_priority': ([1], 2),\n",
       "  'final_conversion': {'final_conversion_confidence': 0,\n",
       "   'final_elements': {'ACTG1': {'final_assembly_min_priority': 1,\n",
       "     'additional_assembly_jump': 0},\n",
       "    'ACTB': {'final_assembly_min_priority': 2,\n",
       "     'additional_assembly_jump': 1}}}}}"
      ]
     },
     "execution_count": 12,
     "metadata": {},
     "output_type": "execute_result"
    }
   ],
   "source": [
    "lal2=tt.convert(\"ACTB\", None, None, return_path=False, final_database = \"HGNC Symbol\", prioritize_to_one_filter=False)\n",
    "lal2"
   ]
  },
  {
   "cell_type": "code",
   "execution_count": 26,
   "id": "48e9b729-4305-43c4-b5c2-ff0706d68eae",
   "metadata": {},
   "outputs": [],
   "source": [
    "dm = tt.db_manager.change_assembly(37).change_release(106)"
   ]
  },
  {
   "cell_type": "code",
   "execution_count": 27,
   "id": "3576d492-cc76-46f4-9d88-e9abba5c2bdc",
   "metadata": {},
   "outputs": [],
   "source": [
    "df = dm.get_db(\"external_relevant\")"
   ]
  },
  {
   "cell_type": "code",
   "execution_count": 31,
   "id": "ea1c65fa-ad0f-4386-a88f-efecff826166",
   "metadata": {},
   "outputs": [],
   "source": [
    "df = df[df[\"name_db\"] == \"HGNC Symbol\"][[\"graph_id\", \"id_db\"]]"
   ]
  },
  {
   "cell_type": "code",
   "execution_count": 36,
   "id": "2813740d-304b-47d6-a0f0-1f01816f4fa2",
   "metadata": {},
   "outputs": [],
   "source": [
    "base_dict = dict()\n",
    "for ind, i in df.iterrows():\n",
    "    if i[\"graph_id\"] not in base_dict:\n",
    "        base_dict[i[\"graph_id\"]] = list()\n",
    "    base_dict[i[\"graph_id\"]].append(i[\"id_db\"])"
   ]
  },
  {
   "cell_type": "code",
   "execution_count": 41,
   "id": "4d563537-3bd4-49f8-9383-ba29d1f9be1e",
   "metadata": {},
   "outputs": [
    {
     "name": "stderr",
     "output_type": "stream",
     "text": [
      "2022-10-14 13:04:34 WARNING:dbmanager: Inconsistent external conversion for 2: sada {1}\n"
     ]
    }
   ],
   "source": [
    "tt.db_manager.log.warning(f\"Inconsistent external conversion for {2}: \"\n",
    "                                     \"sada {1}\")"
   ]
  },
  {
   "cell_type": "code",
   "execution_count": 44,
   "id": "84015950-aabe-467f-8e64-27e4a0807616",
   "metadata": {},
   "outputs": [
    {
     "data": {
      "text/plain": [
       "True"
      ]
     },
     "execution_count": 44,
     "metadata": {},
     "output_type": "execute_result"
    }
   ],
   "source": [
    "{24,512.,4, \"bok\"} == {4, \"bok\",24, 512}"
   ]
  },
  {
   "cell_type": "code",
   "execution_count": 16,
   "id": "eb7c42a3-4e74-4d9d-8cea-e9aec4927131",
   "metadata": {},
   "outputs": [
    {
     "data": {
      "text/plain": [
       "38"
      ]
     },
     "execution_count": 16,
     "metadata": {},
     "output_type": "execute_result"
    }
   ],
   "source": [
    "import random\n",
    "random.choice(list(DB.assembly_mysqlport_priority.keys()))"
   ]
  },
  {
   "cell_type": "code",
   "execution_count": 24,
   "id": "ba39eb67-16da-4d63-a5c7-32e9eaff62e1",
   "metadata": {},
   "outputs": [
    {
     "data": {
      "text/plain": [
       "1"
      ]
     },
     "execution_count": 24,
     "metadata": {},
     "output_type": "execute_result"
    }
   ],
   "source": [
    "random.choice([1])"
   ]
  },
  {
   "cell_type": "code",
   "execution_count": 22,
   "id": "a5761383-c916-4dc8-a074-58c58769a0be",
   "metadata": {},
   "outputs": [
    {
     "data": {
      "text/plain": [
       "{106, 107}"
      ]
     },
     "execution_count": 22,
     "metadata": {},
     "output_type": "execute_result"
    }
   ],
   "source": [
    "{j3 for i in tt.graph.node_trios for j1, j2, j3 in tt.graph.node_trios[i] if j1==\"HGNC Symbol\" and j2==38}"
   ]
  },
  {
   "cell_type": "code",
   "execution_count": 20,
   "id": "d4eb1c9d-f3ae-417b-8fab-82723a008e09",
   "metadata": {},
   "outputs": [
    {
     "data": {
      "text/plain": [
       "{('HGNC Symbol', 37, 106),\n",
       " ('HGNC Symbol', 37, 107),\n",
       " ('HGNC Symbol', 38, 106),\n",
       " ('HGNC Symbol', 38, 107),\n",
       " ('NCBI gene (formerly Entrezgene)', 37, 106),\n",
       " ('NCBI gene (formerly Entrezgene)', 37, 107),\n",
       " ('NCBI gene (formerly Entrezgene)', 38, 106),\n",
       " ('NCBI gene (formerly Entrezgene)', 38, 107),\n",
       " ('UniProtKB Gene Name', 37, 106),\n",
       " ('UniProtKB Gene Name', 37, 107),\n",
       " ('UniProtKB Gene Name', 38, 106),\n",
       " ('UniProtKB Gene Name', 38, 107)}"
      ]
     },
     "execution_count": 20,
     "metadata": {},
     "output_type": "execute_result"
    }
   ],
   "source": [
    "tt.graph.node_trios[\"ACTB\"]"
   ]
  },
  {
   "cell_type": "code",
   "execution_count": null,
   "id": "8d252542-b504-44ff-8a38-6296f9213209",
   "metadata": {},
   "outputs": [],
   "source": [
    "m1=tt.how_many_corresponding_path_ensembl(106, 38, 107, True, True)"
   ]
  },
  {
   "cell_type": "code",
   "execution_count": null,
   "id": "b5ed95e2-1690-41bf-a352-0f7848283e90",
   "metadata": {},
   "outputs": [],
   "source": [
    "[i[0] for i in m1 if i[1]==0]"
   ]
  },
  {
   "cell_type": "code",
   "execution_count": null,
   "id": "a4fb4a07-f6de-4b6c-9f08-81a6a595c679",
   "metadata": {},
   "outputs": [],
   "source": [
    "DB.assembly_mysqlport_priority[37]"
   ]
  },
  {
   "cell_type": "code",
   "execution_count": null,
   "id": "67af0592-e934-4ec4-a71f-6452111f6068",
   "metadata": {},
   "outputs": [],
   "source": [
    "DB.assembly_mysqlport_priority[self.genome_assembly][\"MinRelease\"]"
   ]
  },
  {
   "cell_type": "code",
   "execution_count": null,
   "id": "e402696d-54fa-44c4-9f07-45e4885faa9b",
   "metadata": {},
   "outputs": [],
   "source": [
    "import requests\n",
    "with requests.Session() as session:\n",
    "    with session.get(\n",
    "        DB.rest_server_api + DB.rest_server_ext,\n",
    "        headers={\"Content-Type\": \"application/json\"}\n",
    "    ) as r:\n",
    "        if not r.ok:\n",
    "            r.raise_for_status()\n",
    "        decoded_results = r.json()[\"species\"]"
   ]
  },
  {
   "cell_type": "code",
   "execution_count": null,
   "id": "23f73a96-f396-4b55-899b-c24dc3809c41",
   "metadata": {},
   "outputs": [],
   "source": []
  },
  {
   "cell_type": "code",
   "execution_count": null,
   "id": "1befed43-5bc0-464a-872b-34f9f0abff64",
   "metadata": {},
   "outputs": [],
   "source": []
  },
  {
   "cell_type": "code",
   "execution_count": null,
   "id": "d54ac402-cce9-402a-9f95-f08a46fa2642",
   "metadata": {},
   "outputs": [],
   "source": [
    "#tt.is_id_functions_consistent_ensembl()"
   ]
  },
  {
   "cell_type": "code",
   "execution_count": null,
   "id": "47576130-443e-4173-9eec-552408bbaf02",
   "metadata": {},
   "outputs": [],
   "source": [
    "#tt.is_range_functions_robust()"
   ]
  },
  {
   "cell_type": "code",
   "execution_count": null,
   "id": "b7efb61a-2508-41dc-b6ca-43c6dea7f8a5",
   "metadata": {},
   "outputs": [],
   "source": [
    "#tt.is_base_is_range_correct()"
   ]
  },
  {
   "cell_type": "code",
   "execution_count": null,
   "id": "7db43a4a-c8dc-407c-a522-5af2f23a90da",
   "metadata": {},
   "outputs": [],
   "source": [
    "#tt.is_id_functions_consistent_external()"
   ]
  },
  {
   "cell_type": "code",
   "execution_count": null,
   "id": "5eb601c0-b330-46f0-96ff-51f3efb4a13c",
   "metadata": {},
   "outputs": [],
   "source": []
  },
  {
   "cell_type": "code",
   "execution_count": null,
   "id": "c8a62f0c-6c3d-4676-8afe-e8541ce9f7c5",
   "metadata": {},
   "outputs": [],
   "source": []
  },
  {
   "cell_type": "code",
   "execution_count": null,
   "id": "98f0e705-605c-42c1-a6ad-c2c3c85c03e7",
   "metadata": {},
   "outputs": [],
   "source": []
  },
  {
   "cell_type": "code",
   "execution_count": null,
   "id": "0b30fa71-81b2-4ef7-84ea-216e4a2adbee",
   "metadata": {},
   "outputs": [],
   "source": []
  },
  {
   "cell_type": "code",
   "execution_count": null,
   "id": "a0b500a9-dacf-4f33-8349-bab050a4ff38",
   "metadata": {},
   "outputs": [],
   "source": []
  },
  {
   "cell_type": "code",
   "execution_count": null,
   "id": "66c9a29a-6fd0-4518-b065-4fcf6c344a31",
   "metadata": {},
   "outputs": [],
   "source": []
  },
  {
   "cell_type": "code",
   "execution_count": null,
   "id": "3492ae92-d0cc-4bcd-90ae-eccff101ea52",
   "metadata": {},
   "outputs": [],
   "source": []
  },
  {
   "cell_type": "code",
   "execution_count": null,
   "id": "689d99ec-b16e-4694-906c-1cd034d326e0",
   "metadata": {},
   "outputs": [],
   "source": []
  },
  {
   "cell_type": "code",
   "execution_count": null,
   "id": "d1be7b5b-8e71-4b7e-9d13-784587f53a9f",
   "metadata": {},
   "outputs": [],
   "source": []
  },
  {
   "cell_type": "code",
   "execution_count": null,
   "id": "774dd019-b857-475d-b8de-adef2c64ace2",
   "metadata": {},
   "outputs": [],
   "source": []
  },
  {
   "cell_type": "code",
   "execution_count": null,
   "id": "4610fe9c-76e3-4932-8889-eaa7e972fcb4",
   "metadata": {},
   "outputs": [],
   "source": []
  },
  {
   "cell_type": "code",
   "execution_count": null,
   "id": "fa251cd2-c0c2-4386-bda8-080eae8dbd78",
   "metadata": {},
   "outputs": [],
   "source": [
    "d"
   ]
  },
  {
   "cell_type": "code",
   "execution_count": null,
   "id": "9ad7c1b1-799d-4e08-bdfe-a9b41edf6289",
   "metadata": {},
   "outputs": [],
   "source": [
    "df = dm.change_assembly(37).get_db(\"external_relevant\")"
   ]
  },
  {
   "cell_type": "code",
   "execution_count": null,
   "id": "256cfa1d-fb49-4aee-a3da-4ee4774f8cf6",
   "metadata": {},
   "outputs": [],
   "source": [
    "database='HGNC Symbol'"
   ]
  },
  {
   "cell_type": "code",
   "execution_count": null,
   "id": "a6eaed8b-a6a7-46e2-942a-b294f6d44378",
   "metadata": {},
   "outputs": [],
   "source": [
    "form = tt.graph.external_database_connection_form[database]"
   ]
  },
  {
   "cell_type": "code",
   "execution_count": null,
   "id": "9b1a3f75-efe8-430b-bcea-dbd1b4dc68b3",
   "metadata": {},
   "outputs": [],
   "source": [
    "database, form"
   ]
  },
  {
   "cell_type": "code",
   "execution_count": null,
   "id": "8d193a7a-1f34-4815-95cd-225e9951a389",
   "metadata": {},
   "outputs": [],
   "source": [
    "from_dm = set(df[\"id_db\"][df[\"name_db\"] == database])\n",
    "from_gr = set(tt.graph.get_id_list(database, 37, 107))"
   ]
  },
  {
   "cell_type": "code",
   "execution_count": null,
   "id": "021248d1-585f-4ae5-9a90-b2969ebf27cc",
   "metadata": {},
   "outputs": [],
   "source": []
  },
  {
   "cell_type": "code",
   "execution_count": null,
   "id": "301ab7cb-00c6-4168-9e5c-88cab106194a",
   "metadata": {},
   "outputs": [],
   "source": [
    "l=from_dm - from_gr\n",
    "len(from_dm), len(from_gr), len(l)"
   ]
  },
  {
   "cell_type": "code",
   "execution_count": null,
   "id": "40adfa76-502b-4727-8fe1-187d9abc3968",
   "metadata": {},
   "outputs": [],
   "source": [
    "df[(df[\"name_db\"] == database) & (df[\"id_db\"].isin(l))]"
   ]
  },
  {
   "cell_type": "code",
   "execution_count": null,
   "id": "efaaf970-8dcf-45c7-a675-d2de00a274d0",
   "metadata": {},
   "outputs": [],
   "source": [
    "tt.graph.node_name_alternatives(\"ZRANB1\")"
   ]
  },
  {
   "cell_type": "code",
   "execution_count": null,
   "id": "ef51c327-b10f-4084-8c03-30351889a842",
   "metadata": {},
   "outputs": [],
   "source": [
    "tt.graph.node_trios[\"ZRANB1\"]"
   ]
  },
  {
   "cell_type": "code",
   "execution_count": null,
   "id": "2986479f-9e0b-4745-bd0c-95a4e8bd4611",
   "metadata": {},
   "outputs": [],
   "source": [
    "('HGNC Symbol', 37, 106) in tt.graph.node_trios[\"ZRANB1\"]"
   ]
  },
  {
   "cell_type": "code",
   "execution_count": null,
   "id": "6b1dd3a8-320f-442f-89cd-0b1d24550f8b",
   "metadata": {},
   "outputs": [],
   "source": [
    "tt.graph.node_trios[\"BZRAP1\"]"
   ]
  },
  {
   "cell_type": "code",
   "execution_count": null,
   "id": "5785792d-b0e6-4024-b131-8bb8ec6d8aa6",
   "metadata": {},
   "outputs": [],
   "source": [
    "('HGNC Symbol', 37, 106) in tt.graph.node_trios[\"NEDL1\"]"
   ]
  },
  {
   "cell_type": "code",
   "execution_count": null,
   "id": "affc4fee-26eb-4ca8-9fcf-f805064c108f",
   "metadata": {},
   "outputs": [],
   "source": [
    "tt.graph[\"BZRAP1\"]"
   ]
  },
  {
   "cell_type": "code",
   "execution_count": null,
   "id": "0af7dade-29ae-430a-84cf-f59e1e0708a1",
   "metadata": {},
   "outputs": [],
   "source": [
    "tt.graph[\"BZRAP1\"][\"ENSG00000005379.11\"]"
   ]
  },
  {
   "cell_type": "code",
   "execution_count": null,
   "id": "18634951-a83f-4091-90c4-4abf29634ae2",
   "metadata": {},
   "outputs": [],
   "source": [
    "tt.graph.nodes[\"BZRAP1\"]"
   ]
  },
  {
   "cell_type": "code",
   "execution_count": null,
   "id": "9015e303-a83d-4462-bc6d-57f2a913659b",
   "metadata": {},
   "outputs": [],
   "source": [
    "\"BZRAP1\" not in from_"
   ]
  },
  {
   "cell_type": "code",
   "execution_count": null,
   "id": "5eefddd5-39d2-4f4c-8600-b36557f24bfc",
   "metadata": {},
   "outputs": [],
   "source": []
  },
  {
   "cell_type": "code",
   "execution_count": null,
   "id": "dc2d46c0-b933-4f9a-a6b1-0f554df25d45",
   "metadata": {},
   "outputs": [],
   "source": []
  },
  {
   "cell_type": "code",
   "execution_count": null,
   "id": "311d67ac-67b6-4c19-9cf2-b557360f7526",
   "metadata": {},
   "outputs": [],
   "source": []
  },
  {
   "cell_type": "code",
   "execution_count": null,
   "id": "262781d2-c36b-470e-b8b4-19bfb7915344",
   "metadata": {},
   "outputs": [],
   "source": []
  },
  {
   "cell_type": "markdown",
   "id": "591aa0bd-892a-464c-966d-c39ff914f0aa",
   "metadata": {
    "pycharm": {
     "name": "#%% md\n"
    }
   },
   "source": [
    "## A1"
   ]
  },
  {
   "cell_type": "code",
   "execution_count": null,
   "id": "726f193b-6c6c-4fb7-b33c-5b7ad993cfd0",
   "metadata": {
    "pycharm": {
     "name": "#%%\n"
    }
   },
   "outputs": [],
   "source": [
    "#bokdst"
   ]
  },
  {
   "cell_type": "markdown",
   "id": "32fe6961-5584-46e4-9834-9d5bdf5102d6",
   "metadata": {
    "pycharm": {
     "name": "#%% md\n"
    }
   },
   "source": [
    "## A2"
   ]
  },
  {
   "cell_type": "code",
   "execution_count": null,
   "id": "8e24bee4-459b-4a70-8011-5c3a0f6c4aa4",
   "metadata": {
    "pycharm": {
     "name": "#%%\n"
    }
   },
   "outputs": [],
   "source": [
    "bok"
   ]
  }
 ],
 "metadata": {
  "kernelspec": {
   "display_name": "Python 3 (ipykernel)",
   "language": "python",
   "name": "python3"
  },
  "language_info": {
   "codemirror_mode": {
    "name": "ipython",
    "version": 3
   },
   "file_extension": ".py",
   "mimetype": "text/x-python",
   "name": "python",
   "nbconvert_exporter": "python",
   "pygments_lexer": "ipython3",
   "version": "3.9.12"
  }
 },
 "nbformat": 4,
 "nbformat_minor": 5
}
