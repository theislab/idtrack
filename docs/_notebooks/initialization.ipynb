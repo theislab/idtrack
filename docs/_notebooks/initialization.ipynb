{
 "cells": [
  {
   "cell_type": "code",
   "execution_count": 1,
   "id": "89b49214-d6a0-4e9f-a4b4-feddde076978",
   "metadata": {
    "pycharm": {
     "name": "#%% md\n"
    }
   },
   "outputs": [],
   "source": [
    "# Initialization"
   ]
  },
  {
   "cell_type": "code",
   "execution_count": null,
   "id": "315ebb01-6ca5-4158-b908-1d88c702151b",
   "metadata": {},
   "outputs": [],
   "source": [
    "import time, sys\n",
    "print('ok')\n",
    "while True:\n",
    "    try:\n",
    "        sys.stdout.write(f\"\\r{time.time()}\")\n",
    "        sys.stdout.flush()\n",
    "        time.sleep(1)\n",
    "    except KeyboardInterrupt:\n",
    "        sys.stdout.write(\"\\n\")\n",
    "        sys.stdout.flush()\n",
    "        print('done')\n",
    "        break\n",
    "    sys.stdout.flush()"
   ]
  },
  {
   "cell_type": "code",
   "execution_count": null,
   "id": "383c559f-3900-4737-99d1-19255a4c6507",
   "metadata": {},
   "outputs": [],
   "source": []
  },
  {
   "cell_type": "code",
   "execution_count": 2,
   "id": "ae0b97c4-3155-40ea-9e6e-db9cb8dfd49d",
   "metadata": {},
   "outputs": [],
   "source": [
    "import os\n",
    "import pickle\n",
    "import sys\n",
    "from collections import Counter\n",
    "sys.path.append(\"../..\")\n",
    "import copy\n",
    "from idtrack import *\n",
    "from idtrack._track_tests import *\n",
    "from idtrack._verbose import logger_config"
   ]
  },
  {
   "cell_type": "code",
   "execution_count": 3,
   "id": "21ee0119-ef8b-4966-b7c7-c56323b29d24",
   "metadata": {
    "tags": []
   },
   "outputs": [
    {
     "name": "stderr",
     "output_type": "stream",
     "text": [
      "2022-10-11 20:14:01 INFO:graph_maker: The graph is being read.\n"
     ]
    }
   ],
   "source": [
    "logger_config()\n",
    "local_dir = \"/lustre/groups/ml01/workspace/kemal.inecik/idtrack_temp\"  # or any other local directory\n",
    "dm = DatabaseManager(\"homo_sapiens\", 107, \"gene\", local_dir, 106) \n",
    "tt: TrackTests = TrackTests(dm)\n"
   ]
  },
  {
   "cell_type": "code",
   "execution_count": null,
   "id": "e596b82b-1efb-47a8-9159-0602672a8a2e",
   "metadata": {},
   "outputs": [],
   "source": [
    "tt.convert(\"ACTB\", None, None, return_path=True, prioritize_to_one_filter=True)"
   ]
  },
  {
   "cell_type": "code",
   "execution_count": null,
   "id": "3c222d5e-9a58-48f2-9a6d-877420b179e5",
   "metadata": {},
   "outputs": [],
   "source": [
    "lal=tt.convert(\"ACTB\", None, None, return_path=True, prioritize_to_one_filter=True)\n",
    "lal"
   ]
  },
  {
   "cell_type": "code",
   "execution_count": null,
   "id": "d54ac402-cce9-402a-9f95-f08a46fa2642",
   "metadata": {},
   "outputs": [],
   "source": [
    "tt.is_id_functions_consistent_ensembl(38)"
   ]
  },
  {
   "cell_type": "code",
   "execution_count": null,
   "id": "47576130-443e-4173-9eec-552408bbaf02",
   "metadata": {},
   "outputs": [],
   "source": [
    "tt.is_range_functions_robust()"
   ]
  },
  {
   "cell_type": "code",
   "execution_count": 4,
   "id": "b7efb61a-2508-41dc-b6ca-43c6dea7f8a5",
   "metadata": {},
   "outputs": [
    {
     "name": "stdout",
     "output_type": "stream",
     "text": [
      "Progress: |--------------------| 0.0% "
     ]
    },
    {
     "ename": "UnboundLocalError",
     "evalue": "local variable 'ndt' referenced before assignment",
     "output_type": "error",
     "traceback": [
      "\u001b[0;31m---------------------------------------------------------------------------\u001b[0m",
      "\u001b[0;31mUnboundLocalError\u001b[0m                         Traceback (most recent call last)",
      "Input \u001b[0;32mIn [4]\u001b[0m, in \u001b[0;36m<cell line: 1>\u001b[0;34m()\u001b[0m\n\u001b[0;32m----> 1\u001b[0m \u001b[43mtt\u001b[49m\u001b[38;5;241;43m.\u001b[39;49m\u001b[43mis_base_is_range_correct\u001b[49m\u001b[43m(\u001b[49m\u001b[43m)\u001b[49m\n",
      "File \u001b[0;32m~/work/codes/idtrack/docs/_notebooks/../../idtrack/_track_tests.py:102\u001b[0m, in \u001b[0;36mTrackTests.is_base_is_range_correct\u001b[0;34m(self, verbose)\u001b[0m\n\u001b[1;32m     99\u001b[0m     progress_bar(ind, \u001b[38;5;28mlen\u001b[39m(base_ids) \u001b[38;5;241m-\u001b[39m \u001b[38;5;241m1\u001b[39m)\n\u001b[1;32m    101\u001b[0m \u001b[38;5;66;03m# get_base_id_range form function\u001b[39;00m\n\u001b[0;32m--> 102\u001b[0m bi_fun \u001b[38;5;241m=\u001b[39m \u001b[38;5;28;43mself\u001b[39;49m\u001b[38;5;241;43m.\u001b[39;49m\u001b[43mgraph\u001b[49m\u001b[38;5;241;43m.\u001b[39;49m\u001b[43mget_active_ranges_of_base_id_alternative\u001b[49m\u001b[43m(\u001b[49m\u001b[43mbi\u001b[49m\u001b[43m)\u001b[49m\n\u001b[1;32m    103\u001b[0m \u001b[38;5;66;03m# get range directly from graph\u001b[39;00m\n\u001b[1;32m    104\u001b[0m rd \u001b[38;5;241m=\u001b[39m \u001b[38;5;28mself\u001b[39m\u001b[38;5;241m.\u001b[39mgraph\u001b[38;5;241m.\u001b[39mcombined_edges[bi]\n",
      "File \u001b[0;32m~/work/codes/idtrack/docs/_notebooks/../../idtrack/_the_graph.py:349\u001b[0m, in \u001b[0;36mTheGraph.get_active_ranges_of_base_id_alternative\u001b[0;34m(self, base_id)\u001b[0m\n\u001b[1;32m    340\u001b[0m \u001b[38;5;124;03m\"\"\"Todo.\u001b[39;00m\n\u001b[1;32m    341\u001b[0m \n\u001b[1;32m    342\u001b[0m \u001b[38;5;124;03mArgs:\u001b[39;00m\n\u001b[0;32m   (...)\u001b[0m\n\u001b[1;32m    346\u001b[0m \u001b[38;5;124;03m    Todo.\u001b[39;00m\n\u001b[1;32m    347\u001b[0m \u001b[38;5;124;03m\"\"\"\u001b[39;00m\n\u001b[1;32m    348\u001b[0m associated_ids \u001b[38;5;241m=\u001b[39m \u001b[38;5;28mself\u001b[39m\u001b[38;5;241m.\u001b[39mneighbors(base_id)\n\u001b[0;32m--> 349\u001b[0m all_ranges \u001b[38;5;241m=\u001b[39m \u001b[38;5;28;43msorted\u001b[39;49m\u001b[43m(\u001b[49m\u001b[43mr\u001b[49m\u001b[43m \u001b[49m\u001b[38;5;28;43;01mfor\u001b[39;49;00m\u001b[43m \u001b[49m\u001b[43mai\u001b[49m\u001b[43m \u001b[49m\u001b[38;5;129;43;01min\u001b[39;49;00m\u001b[43m \u001b[49m\u001b[43massociated_ids\u001b[49m\u001b[43m \u001b[49m\u001b[38;5;28;43;01mfor\u001b[39;49;00m\u001b[43m \u001b[49m\u001b[43mr\u001b[49m\u001b[43m \u001b[49m\u001b[38;5;129;43;01min\u001b[39;49;00m\u001b[43m \u001b[49m\u001b[38;5;28;43mself\u001b[39;49m\u001b[38;5;241;43m.\u001b[39;49m\u001b[43mget_active_ranges_of_id_ensembl_all_inclusive\u001b[49m\u001b[43m(\u001b[49m\u001b[43mai\u001b[49m\u001b[43m)\u001b[49m\u001b[43m)\u001b[49m\n\u001b[1;32m    350\u001b[0m \u001b[38;5;28;01mreturn\u001b[39;00m TheGraph\u001b[38;5;241m.\u001b[39mcompact_ranges(all_ranges)\n",
      "File \u001b[0;32m~/work/codes/idtrack/docs/_notebooks/../../idtrack/_the_graph.py:349\u001b[0m, in \u001b[0;36m<genexpr>\u001b[0;34m(.0)\u001b[0m\n\u001b[1;32m    340\u001b[0m \u001b[38;5;124;03m\"\"\"Todo.\u001b[39;00m\n\u001b[1;32m    341\u001b[0m \n\u001b[1;32m    342\u001b[0m \u001b[38;5;124;03mArgs:\u001b[39;00m\n\u001b[0;32m   (...)\u001b[0m\n\u001b[1;32m    346\u001b[0m \u001b[38;5;124;03m    Todo.\u001b[39;00m\n\u001b[1;32m    347\u001b[0m \u001b[38;5;124;03m\"\"\"\u001b[39;00m\n\u001b[1;32m    348\u001b[0m associated_ids \u001b[38;5;241m=\u001b[39m \u001b[38;5;28mself\u001b[39m\u001b[38;5;241m.\u001b[39mneighbors(base_id)\n\u001b[0;32m--> 349\u001b[0m all_ranges \u001b[38;5;241m=\u001b[39m \u001b[38;5;28msorted\u001b[39m(r \u001b[38;5;28;01mfor\u001b[39;00m ai \u001b[38;5;129;01min\u001b[39;00m associated_ids \u001b[38;5;28;01mfor\u001b[39;00m r \u001b[38;5;129;01min\u001b[39;00m \u001b[38;5;28;43mself\u001b[39;49m\u001b[38;5;241;43m.\u001b[39;49m\u001b[43mget_active_ranges_of_id_ensembl_all_inclusive\u001b[49m\u001b[43m(\u001b[49m\u001b[43mai\u001b[49m\u001b[43m)\u001b[49m)\n\u001b[1;32m    350\u001b[0m \u001b[38;5;28;01mreturn\u001b[39;00m TheGraph\u001b[38;5;241m.\u001b[39mcompact_ranges(all_ranges)\n",
      "File \u001b[0;32m~/work/codes/idtrack/docs/_notebooks/../../idtrack/_the_graph.py:283\u001b[0m, in \u001b[0;36mTheGraph.get_active_ranges_of_id_ensembl_all_inclusive\u001b[0;34m(self, the_id)\u001b[0m\n\u001b[1;32m    281\u001b[0m \u001b[38;5;28;01mdef\u001b[39;00m \u001b[38;5;21mget_active_ranges_of_id_ensembl_all_inclusive\u001b[39m(\u001b[38;5;28mself\u001b[39m, the_id):\n\u001b[0;32m--> 283\u001b[0m     ndt \u001b[38;5;241m=\u001b[39m \u001b[38;5;28mself\u001b[39m\u001b[38;5;241m.\u001b[39mnodes[\u001b[43mndt\u001b[49m][DB\u001b[38;5;241m.\u001b[39mnode_type_str]\n\u001b[1;32m    284\u001b[0m     \u001b[38;5;28;01mif\u001b[39;00m ndt \u001b[38;5;241m==\u001b[39m DB\u001b[38;5;241m.\u001b[39mexternal_search_settings[\u001b[38;5;124m\"\u001b[39m\u001b[38;5;124mnts_backbone\u001b[39m\u001b[38;5;124m\"\u001b[39m]:\n\u001b[1;32m    285\u001b[0m         narrowed \u001b[38;5;241m=\u001b[39m \u001b[38;5;28mself\u001b[39m\u001b[38;5;241m.\u001b[39mget_active_ranges_of_id[the_id]\n",
      "\u001b[0;31mUnboundLocalError\u001b[0m: local variable 'ndt' referenced before assignment"
     ]
    }
   ],
   "source": [
    "tt.is_base_is_range_correct()"
   ]
  },
  {
   "cell_type": "code",
   "execution_count": null,
   "id": "f5624672-f4f9-485e-ba93-aa0176bbf43a",
   "metadata": {},
   "outputs": [],
   "source": [
    "tt.graph.nodes['ENSG00000170385.9']"
   ]
  },
  {
   "cell_type": "code",
   "execution_count": null,
   "id": "7db43a4a-c8dc-407c-a522-5af2f23a90da",
   "metadata": {},
   "outputs": [],
   "source": []
  },
  {
   "cell_type": "code",
   "execution_count": null,
   "id": "9ad7c1b1-799d-4e08-bdfe-a9b41edf6289",
   "metadata": {},
   "outputs": [],
   "source": []
  },
  {
   "cell_type": "markdown",
   "id": "591aa0bd-892a-464c-966d-c39ff914f0aa",
   "metadata": {
    "pycharm": {
     "name": "#%% md\n"
    }
   },
   "source": [
    "## A1"
   ]
  },
  {
   "cell_type": "code",
   "execution_count": null,
   "id": "726f193b-6c6c-4fb7-b33c-5b7ad993cfd0",
   "metadata": {
    "pycharm": {
     "name": "#%%\n"
    }
   },
   "outputs": [],
   "source": [
    "#bokdst"
   ]
  },
  {
   "cell_type": "markdown",
   "id": "32fe6961-5584-46e4-9834-9d5bdf5102d6",
   "metadata": {
    "pycharm": {
     "name": "#%% md\n"
    }
   },
   "source": [
    "## A2"
   ]
  },
  {
   "cell_type": "code",
   "execution_count": null,
   "id": "8e24bee4-459b-4a70-8011-5c3a0f6c4aa4",
   "metadata": {
    "pycharm": {
     "name": "#%%\n"
    }
   },
   "outputs": [],
   "source": [
    "bok"
   ]
  }
 ],
 "metadata": {
  "kernelspec": {
   "display_name": "Python 3 (ipykernel)",
   "language": "python",
   "name": "python3"
  },
  "language_info": {
   "codemirror_mode": {
    "name": "ipython",
    "version": 3
   },
   "file_extension": ".py",
   "mimetype": "text/x-python",
   "name": "python",
   "nbconvert_exporter": "python",
   "pygments_lexer": "ipython3",
   "version": "3.9.12"
  }
 },
 "nbformat": 4,
 "nbformat_minor": 5
}
