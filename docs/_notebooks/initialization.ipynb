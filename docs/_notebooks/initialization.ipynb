{
 "cells": [
  {
   "cell_type": "code",
   "execution_count": null,
   "id": "89b49214-d6a0-4e9f-a4b4-feddde076978",
   "metadata": {
    "pycharm": {
     "name": "#%% md\n"
    }
   },
   "outputs": [],
   "source": [
    "# Initialization\n",
    "import os\n",
    "import sys\n",
    "sys.path.append(\"../..\")"
   ]
  },
  {
   "cell_type": "code",
   "execution_count": null,
   "id": "75611a93-37e2-4119-a566-76a4fb6b3b57",
   "metadata": {},
   "outputs": [],
   "source": []
  },
  {
   "cell_type": "code",
   "execution_count": null,
   "id": "315ebb01-6ca5-4158-b908-1d88c702151b",
   "metadata": {},
   "outputs": [],
   "source": [
    "# import time, sys\n",
    "# print('ok')\n",
    "# while True:\n",
    "#     try:\n",
    "#         sys.stdout.write(f\"\\r{time.time()}\")\n",
    "#         sys.stdout.flush()\n",
    "#         time.sleep(1)\n",
    "#     except KeyboardInterrupt:\n",
    "#         sys.stdout.write(\"\\n\")\n",
    "#         sys.stdout.flush()\n",
    "#         print('done')\n",
    "#         break\n",
    "#     sys.stdout.flush()"
   ]
  },
  {
   "cell_type": "code",
   "execution_count": null,
   "id": "383c559f-3900-4737-99d1-19255a4c6507",
   "metadata": {},
   "outputs": [],
   "source": []
  },
  {
   "cell_type": "code",
   "execution_count": null,
   "id": "ae0b97c4-3155-40ea-9e6e-db9cb8dfd49d",
   "metadata": {},
   "outputs": [],
   "source": [
    "import copy\n",
    "from idtrack import *\n",
    "from idtrack._track_tests import *\n",
    "from idtrack._verbose import logger_config\n",
    "logger_config()\n",
    "local_dir = \"/lustre/groups/ml01/workspace/kemal.inecik/idtrack_temp\"  # or any other local directory\n",
    "dm = DatabaseManager(\"homo_sapiens\", 107, \"gene\", local_dir, 106) \n",
    "tt: TrackTests = TrackTests(dm)"
   ]
  },
  {
   "cell_type": "code",
   "execution_count": null,
   "id": "3c222d5e-9a58-48f2-9a6d-877420b179e5",
   "metadata": {},
   "outputs": [],
   "source": [
    "lal=tt.convert(\"ACTB\", None, None, return_path=False, final_database = \"HGNC Symbol\", prioritize_to_one_filter=True)\n",
    "lal"
   ]
  },
  {
   "cell_type": "code",
   "execution_count": null,
   "id": "e2b9284b-86df-475d-b1ad-26e924250b42",
   "metadata": {},
   "outputs": [],
   "source": [
    "# lal2=tt.convert(\"ACTB\", None, None, return_path=False, final_database = \"HGNC Symbol\", prioritize_to_one_filter=False)\n",
    "# lal2"
   ]
  },
  {
   "cell_type": "code",
   "execution_count": null,
   "id": "e5c0b1e7-4738-4f08-9675-bce5433adf44",
   "metadata": {},
   "outputs": [],
   "source": [
    "tt.convert(\"A1BG-AS1\", 106, 107, return_path=True, final_database = \"RefSeq_peptide\", prioritize_to_one_filter=True)"
   ]
  },
  {
   "cell_type": "code",
   "execution_count": null,
   "id": "23f73a96-f396-4b55-899b-c24dc3809c41",
   "metadata": {},
   "outputs": [],
   "source": [
    "res = tt.history_travel_testing_random(True, True, True, True)"
   ]
  },
  {
   "cell_type": "code",
   "execution_count": null,
   "id": "63872625-294d-41a0-96ed-740ec7375ad2",
   "metadata": {},
   "outputs": [],
   "source": [
    " tt.graph.combined_edges_genes['ENSG00000170558.10'] "
   ]
  },
  {
   "cell_type": "code",
   "execution_count": null,
   "id": "1befed43-5bc0-464a-872b-34f9f0abff64",
   "metadata": {},
   "outputs": [],
   "source": [
    "list({j for i in tt.graph.combined_edges_genes['ENSG00000170558.10'] \n",
    "                              for j in tt.graph.combined_edges_genes['ENSG00000170558.10'][i]})"
   ]
  },
  {
   "cell_type": "code",
   "execution_count": null,
   "id": "d54ac402-cce9-402a-9f95-f08a46fa2642",
   "metadata": {},
   "outputs": [],
   "source": [
    "#tt.is_idcombined_edges_genesnctions_consistent_ensembl()"
   ]
  },
  {
   "cell_type": "code",
   "execution_count": null,
   "id": "47576130-443e-4173-9eec-552408bbaf02",
   "metadata": {},
   "outputs": [],
   "source": [
    "#tt.is_range_functions_robust()"
   ]
  },
  {
   "cell_type": "code",
   "execution_count": null,
   "id": "b7efb61a-2508-41dc-b6ca-43c6dea7f8a5",
   "metadata": {},
   "outputs": [],
   "source": [
    "#tt.is_base_is_range_correct()"
   ]
  },
  {
   "cell_type": "code",
   "execution_count": null,
   "id": "7db43a4a-c8dc-407c-a522-5af2f23a90da",
   "metadata": {},
   "outputs": [],
   "source": [
    "#tt.is_id_functions_consistent_external()"
   ]
  },
  {
   "cell_type": "code",
   "execution_count": null,
   "id": "3492ae92-d0cc-4bcd-90ae-eccff101ea52",
   "metadata": {},
   "outputs": [],
   "source": [
    "the_result=tt.graph.combined_edges_genes['ENSG00000170558.10']\n",
    "the_result"
   ]
  },
  {
   "cell_type": "code",
   "execution_count": null,
   "id": "689d99ec-b16e-4694-906c-1cd034d326e0",
   "metadata": {},
   "outputs": [],
   "source": [
    "output = dict()\n",
    "for i in the_result:\n",
    "    for j in the_result[i]:\n",
    "        if j not in output:\n",
    "            output[j] = set()\n",
    "        output[j].update(the_result[i][j])\n",
    "output = {DB.nts_assembly[i][DB.backbone_form]: copy.deepcopy(output) for i in output}\n",
    "output"
   ]
  },
  {
   "cell_type": "code",
   "execution_count": null,
   "id": "d1be7b5b-8e71-4b7e-9d13-784587f53a9f",
   "metadata": {},
   "outputs": [],
   "source": [
    "{DB.nts_assembly[i][DB.backbone_form]: copy.deepcopy(output) for i in output}"
   ]
  },
  {
   "cell_type": "code",
   "execution_count": 4,
   "id": "774dd019-b857-475d-b8de-adef2c64ace2",
   "metadata": {},
   "outputs": [
    {
     "ename": "SyntaxError",
     "evalue": "invalid syntax (3326041203.py, line 1)",
     "output_type": "error",
     "traceback": [
      "\u001b[0;36m  Input \u001b[0;32mIn [4]\u001b[0;36m\u001b[0m\n\u001b[0;31m    type({.})\u001b[0m\n\u001b[0m          ^\u001b[0m\n\u001b[0;31mSyntaxError\u001b[0m\u001b[0;31m:\u001b[0m invalid syntax\n"
     ]
    }
   ],
   "source": [
    "type({})"
   ]
  },
  {
   "cell_type": "code",
   "execution_count": null,
   "id": "4610fe9c-76e3-4932-8889-eaa7e972fcb4",
   "metadata": {},
   "outputs": [],
   "source": []
  },
  {
   "cell_type": "code",
   "execution_count": null,
   "id": "fa251cd2-c0c2-4386-bda8-080eae8dbd78",
   "metadata": {},
   "outputs": [],
   "source": [
    "d"
   ]
  },
  {
   "cell_type": "code",
   "execution_count": null,
   "id": "9ad7c1b1-799d-4e08-bdfe-a9b41edf6289",
   "metadata": {},
   "outputs": [],
   "source": [
    "df = dm.change_assembly(37).get_db(\"external_relevant\")"
   ]
  },
  {
   "cell_type": "code",
   "execution_count": null,
   "id": "256cfa1d-fb49-4aee-a3da-4ee4774f8cf6",
   "metadata": {},
   "outputs": [],
   "source": [
    "database='HGNC Symbol'"
   ]
  },
  {
   "cell_type": "code",
   "execution_count": null,
   "id": "a6eaed8b-a6a7-46e2-942a-b294f6d44378",
   "metadata": {},
   "outputs": [],
   "source": [
    "form = tt.graph.external_database_connection_form[database]"
   ]
  },
  {
   "cell_type": "code",
   "execution_count": null,
   "id": "9b1a3f75-efe8-430b-bcea-dbd1b4dc68b3",
   "metadata": {},
   "outputs": [],
   "source": [
    "database, form"
   ]
  },
  {
   "cell_type": "code",
   "execution_count": null,
   "id": "8d193a7a-1f34-4815-95cd-225e9951a389",
   "metadata": {},
   "outputs": [],
   "source": [
    "from_dm = set(df[\"id_db\"][df[\"name_db\"] == database])\n",
    "from_gr = set(tt.graph.get_id_list(database, 37, 107))"
   ]
  },
  {
   "cell_type": "code",
   "execution_count": null,
   "id": "021248d1-585f-4ae5-9a90-b2969ebf27cc",
   "metadata": {},
   "outputs": [],
   "source": []
  },
  {
   "cell_type": "code",
   "execution_count": null,
   "id": "301ab7cb-00c6-4168-9e5c-88cab106194a",
   "metadata": {},
   "outputs": [],
   "source": [
    "l=from_dm - from_gr\n",
    "len(from_dm), len(from_gr), len(l)"
   ]
  },
  {
   "cell_type": "code",
   "execution_count": null,
   "id": "40adfa76-502b-4727-8fe1-187d9abc3968",
   "metadata": {},
   "outputs": [],
   "source": [
    "df[(df[\"name_db\"] == database) & (df[\"id_db\"].isin(l))]"
   ]
  },
  {
   "cell_type": "code",
   "execution_count": null,
   "id": "efaaf970-8dcf-45c7-a675-d2de00a274d0",
   "metadata": {},
   "outputs": [],
   "source": [
    "tt.graph.node_name_alternatives(\"ZRANB1\")"
   ]
  },
  {
   "cell_type": "code",
   "execution_count": null,
   "id": "ef51c327-b10f-4084-8c03-30351889a842",
   "metadata": {},
   "outputs": [],
   "source": [
    "tt.graph.node_trios[\"ZRANB1\"]"
   ]
  },
  {
   "cell_type": "code",
   "execution_count": null,
   "id": "2986479f-9e0b-4745-bd0c-95a4e8bd4611",
   "metadata": {},
   "outputs": [],
   "source": [
    "('HGNC Symbol', 37, 106) in tt.graph.node_trios[\"ZRANB1\"]"
   ]
  },
  {
   "cell_type": "code",
   "execution_count": null,
   "id": "6b1dd3a8-320f-442f-89cd-0b1d24550f8b",
   "metadata": {},
   "outputs": [],
   "source": [
    "tt.graph.node_trios[\"BZRAP1\"]"
   ]
  },
  {
   "cell_type": "code",
   "execution_count": null,
   "id": "5785792d-b0e6-4024-b131-8bb8ec6d8aa6",
   "metadata": {},
   "outputs": [],
   "source": [
    "('HGNC Symbol', 37, 106) in tt.graph.node_trios[\"NEDL1\"]"
   ]
  },
  {
   "cell_type": "code",
   "execution_count": null,
   "id": "affc4fee-26eb-4ca8-9fcf-f805064c108f",
   "metadata": {},
   "outputs": [],
   "source": [
    "tt.graph[\"BZRAP1\"]"
   ]
  },
  {
   "cell_type": "code",
   "execution_count": null,
   "id": "0af7dade-29ae-430a-84cf-f59e1e0708a1",
   "metadata": {},
   "outputs": [],
   "source": [
    "tt.graph[\"BZRAP1\"][\"ENSG00000005379.11\"]"
   ]
  },
  {
   "cell_type": "code",
   "execution_count": null,
   "id": "18634951-a83f-4091-90c4-4abf29634ae2",
   "metadata": {},
   "outputs": [],
   "source": [
    "tt.graph.nodes[\"BZRAP1\"]"
   ]
  },
  {
   "cell_type": "code",
   "execution_count": null,
   "id": "9015e303-a83d-4462-bc6d-57f2a913659b",
   "metadata": {},
   "outputs": [],
   "source": [
    "\"BZRAP1\" not in from_"
   ]
  },
  {
   "cell_type": "code",
   "execution_count": null,
   "id": "5eefddd5-39d2-4f4c-8600-b36557f24bfc",
   "metadata": {},
   "outputs": [],
   "source": []
  },
  {
   "cell_type": "code",
   "execution_count": null,
   "id": "dc2d46c0-b933-4f9a-a6b1-0f554df25d45",
   "metadata": {},
   "outputs": [],
   "source": []
  },
  {
   "cell_type": "code",
   "execution_count": null,
   "id": "311d67ac-67b6-4c19-9cf2-b557360f7526",
   "metadata": {},
   "outputs": [],
   "source": []
  },
  {
   "cell_type": "code",
   "execution_count": null,
   "id": "262781d2-c36b-470e-b8b4-19bfb7915344",
   "metadata": {},
   "outputs": [],
   "source": []
  },
  {
   "cell_type": "markdown",
   "id": "591aa0bd-892a-464c-966d-c39ff914f0aa",
   "metadata": {
    "pycharm": {
     "name": "#%% md\n"
    }
   },
   "source": [
    "## A1"
   ]
  },
  {
   "cell_type": "code",
   "execution_count": null,
   "id": "726f193b-6c6c-4fb7-b33c-5b7ad993cfd0",
   "metadata": {
    "pycharm": {
     "name": "#%%\n"
    }
   },
   "outputs": [],
   "source": [
    "#bokdst"
   ]
  },
  {
   "cell_type": "markdown",
   "id": "32fe6961-5584-46e4-9834-9d5bdf5102d6",
   "metadata": {
    "pycharm": {
     "name": "#%% md\n"
    }
   },
   "source": [
    "## A2"
   ]
  },
  {
   "cell_type": "code",
   "execution_count": null,
   "id": "8e24bee4-459b-4a70-8011-5c3a0f6c4aa4",
   "metadata": {
    "pycharm": {
     "name": "#%%\n"
    }
   },
   "outputs": [],
   "source": [
    "bok"
   ]
  }
 ],
 "metadata": {
  "kernelspec": {
   "display_name": "Python 3 (ipykernel)",
   "language": "python",
   "name": "python3"
  },
  "language_info": {
   "codemirror_mode": {
    "name": "ipython",
    "version": 3
   },
   "file_extension": ".py",
   "mimetype": "text/x-python",
   "name": "python",
   "nbconvert_exporter": "python",
   "pygments_lexer": "ipython3",
   "version": "3.9.12"
  }
 },
 "nbformat": 4,
 "nbformat_minor": 5
}
