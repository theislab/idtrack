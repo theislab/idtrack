{
 "cells": [
  {
   "cell_type": "markdown",
   "id": "2a04ff2e-9cab-4760-b8ec-0ef8b36e4f5d",
   "metadata": {},
   "source": [
    "# Initialization and Memory Usage "
   ]
  },
  {
   "cell_type": "code",
   "execution_count": 1,
   "id": "89b49214-d6a0-4e9f-a4b4-feddde076978",
   "metadata": {
    "pycharm": {
     "name": "#%% md\n"
    },
    "tags": []
   },
   "outputs": [],
   "source": [
    "import sys\n",
    "sys.path.append(\"/home/icb/kemal.inecik/work/codes/idtrack\")"
   ]
  },
  {
   "cell_type": "code",
   "execution_count": 2,
   "id": "75611a93-37e2-4119-a566-76a4fb6b3b57",
   "metadata": {
    "tags": []
   },
   "outputs": [],
   "source": [
    "import os\n",
    "import time\n",
    "import pickle"
   ]
  },
  {
   "cell_type": "code",
   "execution_count": 3,
   "id": "d76eae0f-512c-40f9-919c-f4fcaad1371f",
   "metadata": {
    "tags": []
   },
   "outputs": [],
   "source": [
    "import idtrack"
   ]
  },
  {
   "cell_type": "markdown",
   "id": "cd96b719-e46e-4f29-9abc-a25cdbb9d1c8",
   "metadata": {},
   "source": [
    "Initialize the idtrack API first"
   ]
  },
  {
   "cell_type": "code",
   "execution_count": 4,
   "id": "83e80bde-d4aa-4aaa-9da5-e7dadd5aa568",
   "metadata": {
    "tags": []
   },
   "outputs": [],
   "source": [
    "local_dir = \"/lustre/groups/ml01/workspace/kemal.inecik/idtrack_temp\"\n",
    "idt = idtrack.API(local_repository=local_dir)\n",
    "idt.configure_logger()"
   ]
  },
  {
   "cell_type": "markdown",
   "id": "6b87a0c1-8204-4767-9879-2b875a70ec21",
   "metadata": {},
   "source": [
    "Let's initialize idtrack for 'mouse'"
   ]
  },
  {
   "cell_type": "code",
   "execution_count": 5,
   "id": "7b6982ae-24d6-4d33-8ef3-5ddb2c54650d",
   "metadata": {
    "tags": []
   },
   "outputs": [
    {
     "name": "stderr",
     "output_type": "stream",
     "text": [
      "2023-11-03 13:41:16 INFO:verify_organism: Ensembl Rest API query to get the organism names and associated releases.\n"
     ]
    },
    {
     "data": {
      "text/plain": [
       "('mus_musculus', 110)"
      ]
     },
     "execution_count": 5,
     "metadata": {},
     "output_type": "execute_result"
    }
   ],
   "source": [
    "organism_formal_name, last_ensembl_release = idt.get_ensembl_organism(\"mus musculus\")\n",
    "organism_formal_name, last_ensembl_release"
   ]
  },
  {
   "cell_type": "code",
   "execution_count": 6,
   "id": "007a6a8c-db71-4c8e-9d93-9713752cd1a8",
   "metadata": {
    "tags": []
   },
   "outputs": [
    {
     "name": "stderr",
     "output_type": "stream",
     "text": [
      "2023-11-03 13:41:21 INFO:database_manager: Available MySQL databases for mus_musculus in 38 assembly and 110 release is being fetched.\n"
     ]
    },
    {
     "ename": "OperationalError",
     "evalue": "(2003, \"Can't connect to MySQL server on 'ensembldb.ensembl.org' (timed out)\")",
     "output_type": "error",
     "traceback": [
      "\u001b[0;31m---------------------------------------------------------------------------\u001b[0m",
      "\u001b[0;31mtimeout\u001b[0m                                   Traceback (most recent call last)",
      "File \u001b[0;32m~/mambaforge/envs/idt_env/lib/python3.8/site-packages/pymysql/connections.py:644\u001b[0m, in \u001b[0;36mConnection.connect\u001b[0;34m(self, sock)\u001b[0m\n\u001b[1;32m    643\u001b[0m \u001b[38;5;28;01mtry\u001b[39;00m:\n\u001b[0;32m--> 644\u001b[0m     sock \u001b[38;5;241m=\u001b[39m \u001b[43msocket\u001b[49m\u001b[38;5;241;43m.\u001b[39;49m\u001b[43mcreate_connection\u001b[49m\u001b[43m(\u001b[49m\n\u001b[1;32m    645\u001b[0m \u001b[43m        \u001b[49m\u001b[43m(\u001b[49m\u001b[38;5;28;43mself\u001b[39;49m\u001b[38;5;241;43m.\u001b[39;49m\u001b[43mhost\u001b[49m\u001b[43m,\u001b[49m\u001b[43m \u001b[49m\u001b[38;5;28;43mself\u001b[39;49m\u001b[38;5;241;43m.\u001b[39;49m\u001b[43mport\u001b[49m\u001b[43m)\u001b[49m\u001b[43m,\u001b[49m\u001b[43m \u001b[49m\u001b[38;5;28;43mself\u001b[39;49m\u001b[38;5;241;43m.\u001b[39;49m\u001b[43mconnect_timeout\u001b[49m\u001b[43m,\u001b[49m\u001b[43m \u001b[49m\u001b[38;5;241;43m*\u001b[39;49m\u001b[38;5;241;43m*\u001b[39;49m\u001b[43mkwargs\u001b[49m\n\u001b[1;32m    646\u001b[0m \u001b[43m    \u001b[49m\u001b[43m)\u001b[49m\n\u001b[1;32m    647\u001b[0m     \u001b[38;5;28;01mbreak\u001b[39;00m\n",
      "File \u001b[0;32m~/mambaforge/envs/idt_env/lib/python3.8/socket.py:808\u001b[0m, in \u001b[0;36mcreate_connection\u001b[0;34m(address, timeout, source_address)\u001b[0m\n\u001b[1;32m    807\u001b[0m \u001b[38;5;28;01mtry\u001b[39;00m:\n\u001b[0;32m--> 808\u001b[0m     \u001b[38;5;28;01mraise\u001b[39;00m err\n\u001b[1;32m    809\u001b[0m \u001b[38;5;28;01mfinally\u001b[39;00m:\n\u001b[1;32m    810\u001b[0m     \u001b[38;5;66;03m# Break explicitly a reference cycle\u001b[39;00m\n",
      "File \u001b[0;32m~/mambaforge/envs/idt_env/lib/python3.8/socket.py:796\u001b[0m, in \u001b[0;36mcreate_connection\u001b[0;34m(address, timeout, source_address)\u001b[0m\n\u001b[1;32m    795\u001b[0m     sock\u001b[38;5;241m.\u001b[39mbind(source_address)\n\u001b[0;32m--> 796\u001b[0m \u001b[43msock\u001b[49m\u001b[38;5;241;43m.\u001b[39;49m\u001b[43mconnect\u001b[49m\u001b[43m(\u001b[49m\u001b[43msa\u001b[49m\u001b[43m)\u001b[49m\n\u001b[1;32m    797\u001b[0m \u001b[38;5;66;03m# Break explicitly a reference cycle\u001b[39;00m\n",
      "\u001b[0;31mtimeout\u001b[0m: timed out",
      "\nDuring handling of the above exception, another exception occurred:\n",
      "\u001b[0;31mOperationalError\u001b[0m                          Traceback (most recent call last)",
      "Cell \u001b[0;32mIn[6], line 1\u001b[0m\n\u001b[0;32m----> 1\u001b[0m dm \u001b[38;5;241m=\u001b[39m \u001b[43midt\u001b[49m\u001b[38;5;241;43m.\u001b[39;49m\u001b[43mget_database_manager\u001b[49m\u001b[43m(\u001b[49m\u001b[43morganism_name\u001b[49m\u001b[38;5;241;43m=\u001b[39;49m\u001b[38;5;124;43m'\u001b[39;49m\u001b[38;5;124;43mmus_musculus\u001b[39;49m\u001b[38;5;124;43m'\u001b[39;49m\u001b[43m,\u001b[49m\u001b[43m \u001b[49m\u001b[43mensembl_release\u001b[49m\u001b[38;5;241;43m=\u001b[39;49m\u001b[38;5;241;43m110\u001b[39;49m\u001b[43m)\u001b[49m\n",
      "File \u001b[0;32m~/work/codes/idtrack/idtrack/_api.py:71\u001b[0m, in \u001b[0;36mAPI.get_database_manager\u001b[0;34m(self, organism_name, ensembl_release)\u001b[0m\n\u001b[1;32m     69\u001b[0m \u001b[38;5;28;01mdef\u001b[39;00m \u001b[38;5;21mget_database_manager\u001b[39m(\u001b[38;5;28mself\u001b[39m, organism_name: \u001b[38;5;28mstr\u001b[39m, ensembl_release: \u001b[38;5;28mint\u001b[39m):\n\u001b[1;32m     70\u001b[0m     backbone_form \u001b[38;5;241m=\u001b[39m copy\u001b[38;5;241m.\u001b[39mdeepcopy(DB\u001b[38;5;241m.\u001b[39mbackbone_form)\n\u001b[0;32m---> 71\u001b[0m     \u001b[38;5;28;01mreturn\u001b[39;00m \u001b[43mDatabaseManager\u001b[49m\u001b[43m(\u001b[49m\u001b[43morganism_name\u001b[49m\u001b[43m,\u001b[49m\u001b[43m \u001b[49m\u001b[43mensembl_release\u001b[49m\u001b[43m,\u001b[49m\u001b[43m \u001b[49m\u001b[43mbackbone_form\u001b[49m\u001b[43m,\u001b[49m\u001b[43m \u001b[49m\u001b[38;5;28;43mself\u001b[39;49m\u001b[38;5;241;43m.\u001b[39;49m\u001b[43mlocal_repository\u001b[49m\u001b[43m)\u001b[49m\n",
      "File \u001b[0;32m~/work/codes/idtrack/idtrack/_database_manager.py:116\u001b[0m, in \u001b[0;36mDatabaseManager.__init__\u001b[0;34m(self, organism, ensembl_release, form, local_repository, ignore_before, ignore_after, compress, store_raw_always, genome_assembly)\u001b[0m\n\u001b[1;32m    109\u001b[0m \u001b[38;5;28mself\u001b[39m\u001b[38;5;241m.\u001b[39m_identifiers \u001b[38;5;241m=\u001b[39m [\u001b[38;5;124mf\u001b[39m\u001b[38;5;124m\"\u001b[39m\u001b[38;5;132;01m{\u001b[39;00m\u001b[38;5;28mself\u001b[39m\u001b[38;5;241m.\u001b[39mform\u001b[38;5;132;01m}\u001b[39;00m\u001b[38;5;124m_stable_id\u001b[39m\u001b[38;5;124m\"\u001b[39m, \u001b[38;5;124mf\u001b[39m\u001b[38;5;124m\"\u001b[39m\u001b[38;5;132;01m{\u001b[39;00m\u001b[38;5;28mself\u001b[39m\u001b[38;5;241m.\u001b[39mform\u001b[38;5;132;01m}\u001b[39;00m\u001b[38;5;124m_version\u001b[39m\u001b[38;5;124m\"\u001b[39m]\n\u001b[1;32m    111\u001b[0m \u001b[38;5;66;03m# Check if it seems ok.\u001b[39;00m\n\u001b[1;32m    112\u001b[0m checkers \u001b[38;5;241m=\u001b[39m (\n\u001b[1;32m    113\u001b[0m     \u001b[38;5;66;03m# In very early releases, there are floating ensembl releases like \"18.2\". This package does not support.\u001b[39;00m\n\u001b[1;32m    114\u001b[0m     \u001b[38;5;28mfloat\u001b[39m(ensembl_release) \u001b[38;5;241m==\u001b[39m \u001b[38;5;28mint\u001b[39m(ensembl_release),\n\u001b[1;32m    115\u001b[0m     \u001b[38;5;28mself\u001b[39m\u001b[38;5;241m.\u001b[39mignore_after \u001b[38;5;241m>\u001b[39m\u001b[38;5;241m=\u001b[39m \u001b[38;5;28mself\u001b[39m\u001b[38;5;241m.\u001b[39mensembl_release \u001b[38;5;241m>\u001b[39m\u001b[38;5;241m=\u001b[39m \u001b[38;5;28mself\u001b[39m\u001b[38;5;241m.\u001b[39mignore_before,\n\u001b[0;32m--> 116\u001b[0m     \u001b[38;5;28mself\u001b[39m\u001b[38;5;241m.\u001b[39mensembl_release \u001b[38;5;129;01min\u001b[39;00m \u001b[38;5;28;43mself\u001b[39;49m\u001b[38;5;241;43m.\u001b[39;49m\u001b[43mavailable_releases\u001b[49m,\n\u001b[1;32m    117\u001b[0m     \u001b[38;5;28mself\u001b[39m\u001b[38;5;241m.\u001b[39mgenome_assembly \u001b[38;5;129;01min\u001b[39;00m DB\u001b[38;5;241m.\u001b[39massembly_mysqlport_priority,\n\u001b[1;32m    118\u001b[0m     \u001b[38;5;28mself\u001b[39m\u001b[38;5;241m.\u001b[39mform \u001b[38;5;129;01min\u001b[39;00m \u001b[38;5;28mself\u001b[39m\u001b[38;5;241m.\u001b[39mavailable_form_of_interests,\n\u001b[1;32m    119\u001b[0m     (\n\u001b[1;32m    120\u001b[0m         os\u001b[38;5;241m.\u001b[39mpath\u001b[38;5;241m.\u001b[39misdir(\u001b[38;5;28mself\u001b[39m\u001b[38;5;241m.\u001b[39mlocal_repository)\n\u001b[1;32m    121\u001b[0m         \u001b[38;5;129;01mand\u001b[39;00m os\u001b[38;5;241m.\u001b[39maccess(\u001b[38;5;28mself\u001b[39m\u001b[38;5;241m.\u001b[39mlocal_repository, os\u001b[38;5;241m.\u001b[39mW_OK)\n\u001b[1;32m    122\u001b[0m         \u001b[38;5;129;01mand\u001b[39;00m os\u001b[38;5;241m.\u001b[39maccess(\u001b[38;5;28mself\u001b[39m\u001b[38;5;241m.\u001b[39mlocal_repository, os\u001b[38;5;241m.\u001b[39mR_OK)\n\u001b[1;32m    123\u001b[0m     ),\n\u001b[1;32m    124\u001b[0m     \u001b[38;5;129;01mnot\u001b[39;00m (\u001b[38;5;28mself\u001b[39m\u001b[38;5;241m.\u001b[39mensembl_release \u001b[38;5;241m<\u001b[39m DB\u001b[38;5;241m.\u001b[39massembly_mysqlport_priority[\u001b[38;5;28mself\u001b[39m\u001b[38;5;241m.\u001b[39mgenome_assembly][\u001b[38;5;124m\"\u001b[39m\u001b[38;5;124mMinRelease\u001b[39m\u001b[38;5;124m\"\u001b[39m]),\n\u001b[1;32m    125\u001b[0m )\n\u001b[1;32m    126\u001b[0m \u001b[38;5;28;01mif\u001b[39;00m \u001b[38;5;129;01mnot\u001b[39;00m \u001b[38;5;28mall\u001b[39m(checkers):\n\u001b[1;32m    127\u001b[0m     \u001b[38;5;28;01mraise\u001b[39;00m \u001b[38;5;167;01mValueError\u001b[39;00m(\u001b[38;5;124mf\u001b[39m\u001b[38;5;124m\"\u001b[39m\u001b[38;5;124m'\u001b[39m\u001b[38;5;124mDatabaseManager\u001b[39m\u001b[38;5;124m'\u001b[39m\u001b[38;5;124m could not pass the \u001b[39m\u001b[38;5;124m'\u001b[39m\u001b[38;5;124mcheckers\u001b[39m\u001b[38;5;124m'\u001b[39m\u001b[38;5;124m: \u001b[39m\u001b[38;5;132;01m{\u001b[39;00mcheckers\u001b[38;5;132;01m}\u001b[39;00m\u001b[38;5;124m\"\u001b[39m)\n",
      "File \u001b[0;32m~/mambaforge/envs/idt_env/lib/python3.8/functools.py:967\u001b[0m, in \u001b[0;36mcached_property.__get__\u001b[0;34m(self, instance, owner)\u001b[0m\n\u001b[1;32m    965\u001b[0m val \u001b[38;5;241m=\u001b[39m cache\u001b[38;5;241m.\u001b[39mget(\u001b[38;5;28mself\u001b[39m\u001b[38;5;241m.\u001b[39mattrname, _NOT_FOUND)\n\u001b[1;32m    966\u001b[0m \u001b[38;5;28;01mif\u001b[39;00m val \u001b[38;5;129;01mis\u001b[39;00m _NOT_FOUND:\n\u001b[0;32m--> 967\u001b[0m     val \u001b[38;5;241m=\u001b[39m \u001b[38;5;28;43mself\u001b[39;49m\u001b[38;5;241;43m.\u001b[39;49m\u001b[43mfunc\u001b[49m\u001b[43m(\u001b[49m\u001b[43minstance\u001b[49m\u001b[43m)\u001b[49m\n\u001b[1;32m    968\u001b[0m     \u001b[38;5;28;01mtry\u001b[39;00m:\n\u001b[1;32m    969\u001b[0m         cache[\u001b[38;5;28mself\u001b[39m\u001b[38;5;241m.\u001b[39mattrname] \u001b[38;5;241m=\u001b[39m val\n",
      "File \u001b[0;32m~/work/codes/idtrack/idtrack/_database_manager.py:177\u001b[0m, in \u001b[0;36mDatabaseManager.available_releases\u001b[0;34m(self)\u001b[0m\n\u001b[1;32m    164\u001b[0m \u001b[38;5;250m\u001b[39m\u001b[38;5;124;03m\"\"\"Define available Ensembl releases for the DatabaseManager instance to work on.\u001b[39;00m\n\u001b[1;32m    165\u001b[0m \n\u001b[1;32m    166\u001b[0m \u001b[38;5;124;03mIt looks on the MySQL server results to determine which Ensembl releases are available. The method does not\u001b[39;00m\n\u001b[0;32m   (...)\u001b[0m\n\u001b[1;32m    174\u001b[0m \u001b[38;5;124;03m    ValueError: Unexpected error in regex functions.\u001b[39;00m\n\u001b[1;32m    175\u001b[0m \u001b[38;5;124;03m\"\"\"\u001b[39;00m\n\u001b[1;32m    176\u001b[0m \u001b[38;5;66;03m# Get all possible ensembl releases for a given organism\u001b[39;00m\n\u001b[0;32m--> 177\u001b[0m dbs \u001b[38;5;241m=\u001b[39m \u001b[38;5;28;43mself\u001b[39;49m\u001b[38;5;241;43m.\u001b[39;49m\u001b[43mget_db\u001b[49m\u001b[43m(\u001b[49m\u001b[38;5;124;43m\"\u001b[39;49m\u001b[38;5;124;43mavailabledatabases\u001b[39;49m\u001b[38;5;124;43m\"\u001b[39;49m\u001b[43m)\u001b[49m  \u001b[38;5;66;03m# Obtain the databases dataframe\u001b[39;00m\n\u001b[1;32m    179\u001b[0m pattern \u001b[38;5;241m=\u001b[39m re\u001b[38;5;241m.\u001b[39mcompile(\u001b[38;5;124mf\u001b[39m\u001b[38;5;124m\"\u001b[39m\u001b[38;5;124m^\u001b[39m\u001b[38;5;132;01m{\u001b[39;00m\u001b[38;5;28mself\u001b[39m\u001b[38;5;241m.\u001b[39morganism\u001b[38;5;132;01m}\u001b[39;00m\u001b[38;5;124m_core_([0-9]+)_.+$\u001b[39m\u001b[38;5;124m\"\u001b[39m)\n\u001b[1;32m    180\u001b[0m \u001b[38;5;66;03m# Search organism name in a specified format. Extract ensembl release number\u001b[39;00m\n",
      "File \u001b[0;32m~/work/codes/idtrack/idtrack/_database_manager.py:1195\u001b[0m, in \u001b[0;36mDatabaseManager.get_db\u001b[0;34m(self, df_indicator, create_even_if_exist, save_after_calculation, overwrite_even_if_exist)\u001b[0m\n\u001b[1;32m   1192\u001b[0m     df \u001b[38;5;241m=\u001b[39m \u001b[38;5;28mself\u001b[39m\u001b[38;5;241m.\u001b[39mcreate_version_info()\n\u001b[1;32m   1194\u001b[0m \u001b[38;5;28;01melif\u001b[39;00m main_ind \u001b[38;5;241m==\u001b[39m \u001b[38;5;124m\"\u001b[39m\u001b[38;5;124mavailabledatabases\u001b[39m\u001b[38;5;124m\"\u001b[39m \u001b[38;5;129;01mand\u001b[39;00m param1_ind \u001b[38;5;129;01mis\u001b[39;00m \u001b[38;5;28;01mNone\u001b[39;00m:\n\u001b[0;32m-> 1195\u001b[0m     df \u001b[38;5;241m=\u001b[39m \u001b[38;5;28;43mself\u001b[39;49m\u001b[38;5;241;43m.\u001b[39;49m\u001b[43mcreate_available_databases\u001b[49m\u001b[43m(\u001b[49m\u001b[43m)\u001b[49m\n\u001b[1;32m   1197\u001b[0m \u001b[38;5;28;01melse\u001b[39;00m:\n\u001b[1;32m   1198\u001b[0m     \u001b[38;5;28;01mraise\u001b[39;00m \u001b[38;5;167;01mValueError\u001b[39;00m(\u001b[38;5;124m\"\u001b[39m\u001b[38;5;124mUnexpected entry for \u001b[39m\u001b[38;5;124m'\u001b[39m\u001b[38;5;124mdf_indicator\u001b[39m\u001b[38;5;124m'\u001b[39m\u001b[38;5;124m.\u001b[39m\u001b[38;5;124m\"\u001b[39m)\n",
      "File \u001b[0;32m~/work/codes/idtrack/idtrack/_database_manager.py:322\u001b[0m, in \u001b[0;36mDatabaseManager.create_available_databases\u001b[0;34m(self)\u001b[0m\n\u001b[1;32m    305\u001b[0m \u001b[38;5;250m\u001b[39m\u001b[38;5;124;03m\"\"\"Fetches all the databases in the MySQL server of the instance.\u001b[39;00m\n\u001b[1;32m    306\u001b[0m \n\u001b[1;32m    307\u001b[0m \u001b[38;5;124;03mFilters out the query ``SHOW databases`` based on matching to a specific regex string\u001b[39;00m\n\u001b[0;32m   (...)\u001b[0m\n\u001b[1;32m    315\u001b[0m \u001b[38;5;124;03m    ValueError: If the response has unexpected format or length.\u001b[39;00m\n\u001b[1;32m    316\u001b[0m \u001b[38;5;124;03m\"\"\"\u001b[39;00m\n\u001b[1;32m    317\u001b[0m \u001b[38;5;28mself\u001b[39m\u001b[38;5;241m.\u001b[39mlog\u001b[38;5;241m.\u001b[39minfo(\n\u001b[1;32m    318\u001b[0m     \u001b[38;5;124mf\u001b[39m\u001b[38;5;124m\"\u001b[39m\u001b[38;5;124mAvailable MySQL databases for \u001b[39m\u001b[38;5;132;01m{\u001b[39;00m\u001b[38;5;28mself\u001b[39m\u001b[38;5;241m.\u001b[39morganism\u001b[38;5;132;01m}\u001b[39;00m\u001b[38;5;124m in \u001b[39m\u001b[38;5;132;01m{\u001b[39;00m\u001b[38;5;28mself\u001b[39m\u001b[38;5;241m.\u001b[39mgenome_assembly\u001b[38;5;132;01m}\u001b[39;00m\u001b[38;5;124m \u001b[39m\u001b[38;5;124m\"\u001b[39m\n\u001b[1;32m    319\u001b[0m     \u001b[38;5;124mf\u001b[39m\u001b[38;5;124m\"\u001b[39m\u001b[38;5;124massembly and \u001b[39m\u001b[38;5;132;01m{\u001b[39;00m\u001b[38;5;28mself\u001b[39m\u001b[38;5;241m.\u001b[39mensembl_release\u001b[38;5;132;01m}\u001b[39;00m\u001b[38;5;124m release is being fetched.\u001b[39m\u001b[38;5;124m\"\u001b[39m\n\u001b[1;32m    320\u001b[0m )\n\u001b[0;32m--> 322\u001b[0m \u001b[38;5;28;01mwith\u001b[39;00m \u001b[43mpymysql\u001b[49m\u001b[38;5;241;43m.\u001b[39;49m\u001b[43mconnect\u001b[49m\u001b[43m(\u001b[49m\u001b[38;5;241;43m*\u001b[39;49m\u001b[38;5;241;43m*\u001b[39;49m\u001b[38;5;28;43mself\u001b[39;49m\u001b[38;5;241;43m.\u001b[39;49m\u001b[43mmysql_settings\u001b[49m\u001b[43m)\u001b[49m \u001b[38;5;28;01mas\u001b[39;00m connection:\n\u001b[1;32m    323\u001b[0m     \u001b[38;5;28;01mwith\u001b[39;00m connection\u001b[38;5;241m.\u001b[39mcursor() \u001b[38;5;28;01mas\u001b[39;00m cur:\n\u001b[1;32m    324\u001b[0m         cur\u001b[38;5;241m.\u001b[39mexecute(\u001b[38;5;124m\"\u001b[39m\u001b[38;5;124mSHOW databases\u001b[39m\u001b[38;5;124m\"\u001b[39m)\n",
      "File \u001b[0;32m~/mambaforge/envs/idt_env/lib/python3.8/site-packages/pymysql/connections.py:358\u001b[0m, in \u001b[0;36mConnection.__init__\u001b[0;34m(self, user, password, host, database, unix_socket, port, charset, collation, sql_mode, read_default_file, conv, use_unicode, client_flag, cursorclass, init_command, connect_timeout, read_default_group, autocommit, local_infile, max_allowed_packet, defer_connect, auth_plugin_map, read_timeout, write_timeout, bind_address, binary_prefix, program_name, server_public_key, ssl, ssl_ca, ssl_cert, ssl_disabled, ssl_key, ssl_verify_cert, ssl_verify_identity, compress, named_pipe, passwd, db)\u001b[0m\n\u001b[1;32m    356\u001b[0m     \u001b[38;5;28mself\u001b[39m\u001b[38;5;241m.\u001b[39m_sock \u001b[38;5;241m=\u001b[39m \u001b[38;5;28;01mNone\u001b[39;00m\n\u001b[1;32m    357\u001b[0m \u001b[38;5;28;01melse\u001b[39;00m:\n\u001b[0;32m--> 358\u001b[0m     \u001b[38;5;28;43mself\u001b[39;49m\u001b[38;5;241;43m.\u001b[39;49m\u001b[43mconnect\u001b[49m\u001b[43m(\u001b[49m\u001b[43m)\u001b[49m\n",
      "File \u001b[0;32m~/mambaforge/envs/idt_env/lib/python3.8/site-packages/pymysql/connections.py:711\u001b[0m, in \u001b[0;36mConnection.connect\u001b[0;34m(self, sock)\u001b[0m\n\u001b[1;32m    709\u001b[0m     \u001b[38;5;28;01mif\u001b[39;00m DEBUG:\n\u001b[1;32m    710\u001b[0m         \u001b[38;5;28mprint\u001b[39m(exc\u001b[38;5;241m.\u001b[39mtraceback)\n\u001b[0;32m--> 711\u001b[0m     \u001b[38;5;28;01mraise\u001b[39;00m exc\n\u001b[1;32m    713\u001b[0m \u001b[38;5;66;03m# If e is neither DatabaseError or IOError, It's a bug.\u001b[39;00m\n\u001b[1;32m    714\u001b[0m \u001b[38;5;66;03m# But raising AssertionError hides original error.\u001b[39;00m\n\u001b[1;32m    715\u001b[0m \u001b[38;5;66;03m# So just reraise it.\u001b[39;00m\n\u001b[1;32m    716\u001b[0m \u001b[38;5;28;01mraise\u001b[39;00m\n",
      "\u001b[0;31mOperationalError\u001b[0m: (2003, \"Can't connect to MySQL server on 'ensembldb.ensembl.org' (timed out)\")"
     ]
    }
   ],
   "source": [
    "dm = idt.get_database_manager(organism_name='mus_musculus', ensembl_release=110)"
   ]
  },
  {
   "cell_type": "code",
   "execution_count": null,
   "id": "a708a510-e424-4c7c-859d-7aac09796642",
   "metadata": {},
   "outputs": [],
   "source": []
  },
  {
   "cell_type": "code",
   "execution_count": null,
   "id": "7d7629c7-e414-41e3-896d-213f6da8b6fd",
   "metadata": {},
   "outputs": [],
   "source": []
  },
  {
   "cell_type": "code",
   "execution_count": 4,
   "id": "383c559f-3900-4737-99d1-19255a4c6507",
   "metadata": {
    "tags": []
   },
   "outputs": [
    {
     "name": "stderr",
     "output_type": "stream",
     "text": [
      "2023-11-03 13:15:20 INFO:graph_maker: The graph is being read.\n"
     ]
    }
   ],
   "source": [
    "idt.initialize_graph(organism_name='homo_sapiens', ensembl_release=107, return_test=True)"
   ]
  },
  {
   "cell_type": "code",
   "execution_count": 6,
   "id": "c68c650b-0098-4550-9e81-f18061293b56",
   "metadata": {
    "tags": []
   },
   "outputs": [
    {
     "ename": "TypeError",
     "evalue": "create_template_yaml() missing 1 required positional argument: 'df'",
     "output_type": "error",
     "traceback": [
      "\u001b[0;31m---------------------------------------------------------------------------\u001b[0m",
      "\u001b[0;31mTypeError\u001b[0m                                 Traceback (most recent call last)",
      "Cell \u001b[0;32mIn[6], line 1\u001b[0m\n\u001b[0;32m----> 1\u001b[0m \u001b[43midt\u001b[49m\u001b[38;5;241;43m.\u001b[39;49m\u001b[43mtrack\u001b[49m\u001b[38;5;241;43m.\u001b[39;49m\u001b[43mdb_manager\u001b[49m\u001b[38;5;241;43m.\u001b[39;49m\u001b[43mexternal_inst\u001b[49m\u001b[38;5;241;43m.\u001b[39;49m\u001b[43mcreate_template_yaml\u001b[49m\u001b[43m(\u001b[49m\u001b[43m)\u001b[49m\n",
      "\u001b[0;31mTypeError\u001b[0m: create_template_yaml() missing 1 required positional argument: 'df'"
     ]
    }
   ],
   "source": [
    "idt.track.db_manager.external_inst.create_template_yaml()"
   ]
  },
  {
   "cell_type": "code",
   "execution_count": 1,
   "id": "05b19021-5e0f-4d13-937a-43de2d866d16",
   "metadata": {
    "tags": []
   },
   "outputs": [
    {
     "ename": "NameError",
     "evalue": "name 'objsize' is not defined",
     "output_type": "error",
     "traceback": [
      "\u001b[0;31m---------------------------------------------------------------------------\u001b[0m",
      "\u001b[0;31mNameError\u001b[0m                                 Traceback (most recent call last)",
      "Cell \u001b[0;32mIn[1], line 1\u001b[0m\n\u001b[0;32m----> 1\u001b[0m \u001b[43mobjsize\u001b[49m\u001b[38;5;241m.\u001b[39mget_deep_size(idt)\n",
      "\u001b[0;31mNameError\u001b[0m: name 'objsize' is not defined"
     ]
    }
   ],
   "source": [
    "objsize.get_deep_size(idt)"
   ]
  },
  {
   "cell_type": "code",
   "execution_count": null,
   "id": "5bf5aa29-8fdc-499d-b557-818b527a5039",
   "metadata": {
    "tags": []
   },
   "outputs": [
    {
     "name": "stderr",
     "output_type": "stream",
     "text": [
      "2023-06-26 16:01:06 INFO:the_graph: Cached properties being calculated: combined_edges\n",
      "2023-06-26 16:01:32 INFO:the_graph: Cached properties being calculated: combined_edges_assembly_specific_genes\n",
      "2023-06-26 16:01:47 INFO:the_graph: Cached properties being calculated: combined_edges_genes\n",
      "2023-06-26 16:01:56 INFO:the_graph: Cached properties being calculated: lower_chars_graph\n",
      "2023-06-26 16:01:57 INFO:the_graph: Cached properties being calculated: get_active_ranges_of_id\n",
      "2023-06-26 16:02:13 INFO:the_graph: Cached properties being calculated: available_external_databases\n",
      "2023-06-26 16:02:14 INFO:the_graph: Cached properties being calculated: external_database_connection_form\n"
     ]
    }
   ],
   "source": [
    "idt.calculate_graph_caches()"
   ]
  },
  {
   "cell_type": "code",
   "execution_count": 8,
   "id": "96b1493a-0a54-4729-a7e1-0f0eb7fe2313",
   "metadata": {},
   "outputs": [
    {
     "data": {
      "text/plain": [
       "27428003317"
      ]
     },
     "execution_count": 8,
     "metadata": {},
     "output_type": "execute_result"
    }
   ],
   "source": [
    "objsize.get_deep_size(idt)"
   ]
  },
  {
   "cell_type": "code",
   "execution_count": 11,
   "id": "84a19fa5-60df-4e8c-98ac-37b8eea9e0f8",
   "metadata": {
    "tags": []
   },
   "outputs": [
    {
     "name": "stdout",
     "output_type": "stream",
     "text": [
      "total 15527352\n",
      "-rw-rwxr--+ 1 kemal.inecik OG-ICB-User  651627620 Oct 17 17:18 graph_homo_sapiens_ens107_min79_narrow.pickle\n",
      "-rw-rwxr--+ 1 kemal.inecik OG-ICB-User 7625221873 Oct 17 15:01 homo_sapiens_assembly-37.h5\n",
      "-rw-rwxr--+ 1 kemal.inecik OG-ICB-User 7501059029 Oct 31 09:44 homo_sapiens_assembly-38.h5\n",
      "-rw-rwxr--+ 1 kemal.inecik OG-ICB-User      45547 Aug 12 15:57 homo_sapiens_externals_modified.yml\n",
      "-rw-rwxr--+ 1 kemal.inecik OG-ICB-User    2297214 Nov 10 10:48 results_for_hlca_core_only_ensembl_gene_20221110-094821.pk\n",
      "-rw-rwxr--+ 1 kemal.inecik OG-ICB-User    2417915 Nov 10 10:43 results_for_hlca_core_only_HGNC Symbol_20221110-094335.pk\n",
      "-rw-rwxr--+ 1 kemal.inecik OG-ICB-User   59706399 Nov  1 20:13 results_for_hlca_datasets_ensembl_gene_20221101-191345.pk\n",
      "-rw-rwxr--+ 1 kemal.inecik OG-ICB-User   57242057 Nov  1 18:50 results_for_hlca_datasets_HGNC Symbol_20221101-175029.pk\n"
     ]
    }
   ],
   "source": [
    "!ls -l /lustre/groups/ml01/workspace/kemal.inecik/idtrack_temp"
   ]
  },
  {
   "cell_type": "code",
   "execution_count": null,
   "id": "66113bd0-4196-4a48-a495-24f15b3ef9af",
   "metadata": {},
   "outputs": [],
   "source": []
  }
 ],
 "metadata": {
  "kernelspec": {
   "display_name": "Python 3 (ipykernel)",
   "language": "python",
   "name": "python3"
  },
  "language_info": {
   "codemirror_mode": {
    "name": "ipython",
    "version": 3
   },
   "file_extension": ".py",
   "mimetype": "text/x-python",
   "name": "python",
   "nbconvert_exporter": "python",
   "pygments_lexer": "ipython3",
   "version": "3.8.15"
  }
 },
 "nbformat": 4,
 "nbformat_minor": 5
}
