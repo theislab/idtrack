{
 "cells": [
  {
   "cell_type": "markdown",
   "id": "f0a953fc-cc27-4a89-b264-153f2f7cad0e",
   "metadata": {},
   "source": [
    "# Tutorial"
   ]
  },
  {
   "cell_type": "code",
   "execution_count": null,
   "id": "9651dc52-4341-4175-9491-ef815cb2b775",
   "metadata": {},
   "outputs": [],
   "source": [
    "import os\n",
    "import scanpy as sc\n",
    "import pickle\n",
    "import sys\n",
    "from collections import Counter\n",
    "sys.path.append(\"../..\")\n",
    "import pandas as pd\n",
    "import numpy as np"
   ]
  },
  {
   "cell_type": "code",
   "execution_count": null,
   "id": "dd541ab2-5b75-4405-9082-5093f25000a7",
   "metadata": {},
   "outputs": [],
   "source": [
    "from idtrack import *\n",
    "from idtrack._track_tests import *"
   ]
  },
  {
   "cell_type": "code",
   "execution_count": null,
   "id": "fb66f86f-a47a-4dbe-ac43-627a953d4332",
   "metadata": {},
   "outputs": [],
   "source": [
    "logger_config()\n",
    "local_dir = \"/lustre/groups/ml01/workspace/kemal.inecik/idtrack_temp\"  # or any other local directory\n",
    "dm = DatabaseManager(\"homo_sapiens\", 107, \"gene\", local_dir, 79) "
   ]
  },
  {
   "cell_type": "code",
   "execution_count": null,
   "id": "5150b28b-3ab4-4398-9ad9-dda774a96466",
   "metadata": {},
   "outputs": [],
   "source": []
  },
  {
   "cell_type": "code",
   "execution_count": null,
   "id": "c3357f72-c077-4fd8-a538-2c3bf0b19182",
   "metadata": {},
   "outputs": [],
   "source": [
    "ex = ExternalDatabases(dm)\n",
    "ass = ex.give_list_for_case(give_type=\"assembly\")\n",
    "df = pd.DataFrame()\n",
    "assembly_priority = [DB.mysql_port_and_assembly_priority[i] for i in ass]"
   ]
  },
  {
   "cell_type": "code",
   "execution_count": null,
   "id": "453eef6f-b8f4-4bdb-8994-bbbe39bfd5e4",
   "metadata": {},
   "outputs": [],
   "source": [
    "for i in [x for _, x in sorted(zip(assembly_priority, ass))]:  # sort according to priority\n",
    "    dm2 = dm.change_server(i)\n",
    "    df_temp = dm2.get_db(\"external_relevant\")\n",
    "    df_temp[\"assembly\"] = i\n",
    "    df = pd.concat([df, df_temp])\n",
    "df.reset_index(drop=True, inplace=True)"
   ]
  },
  {
   "cell_type": "code",
   "execution_count": null,
   "id": "f4773a30-a4a8-482f-8924-51c199117fa3",
   "metadata": {},
   "outputs": [],
   "source": [
    "compare_columns = [i for i in df.columns\n",
    "                           if i != \"assembly\" and not i.endswith(\"_identity\")]  # 'ensembl_identity', 'xref_identity'"
   ]
  },
  {
   "cell_type": "code",
   "execution_count": null,
   "id": "ce88c620-15aa-4764-974e-826286fb887e",
   "metadata": {},
   "outputs": [],
   "source": [
    "dff2= df.drop_duplicates(keep=\"first\", inplace=False, ignore_index=True, subset=compare_columns)"
   ]
  },
  {
   "cell_type": "code",
   "execution_count": null,
   "id": "193f6124-1ac7-40a5-8b21-a0ac1a632165",
   "metadata": {},
   "outputs": [],
   "source": [
    "addf = df[df.duplicated(subset=compare_columns, keep=False)]"
   ]
  },
  {
   "cell_type": "code",
   "execution_count": null,
   "id": "2c9433c0-ba1b-4bcc-8408-1c2211625725",
   "metadata": {},
   "outputs": [],
   "source": [
    "len(df)"
   ]
  },
  {
   "cell_type": "code",
   "execution_count": null,
   "id": "a1db4b33-e088-4063-991c-b5fe97231908",
   "metadata": {},
   "outputs": [],
   "source": [
    "len(dff2)"
   ]
  },
  {
   "cell_type": "code",
   "execution_count": null,
   "id": "c1a33b88-377b-482d-8af7-6293b709c59f",
   "metadata": {},
   "outputs": [],
   "source": [
    "len(addf)"
   ]
  },
  {
   "cell_type": "code",
   "execution_count": null,
   "id": "a76f37e7-1c15-4589-b51d-09d45b5eb5ea",
   "metadata": {},
   "outputs": [],
   "source": [
    "addf"
   ]
  },
  {
   "cell_type": "code",
   "execution_count": null,
   "id": "2e4020d1-35b6-4199-ab95-d6d0981c5d91",
   "metadata": {},
   "outputs": [],
   "source": [
    "adfdg2= addf.groupby(by=compare_columns)"
   ]
  },
  {
   "cell_type": "code",
   "execution_count": null,
   "id": "874fe4c5-1fb0-46c8-87a6-30ba44e53593",
   "metadata": {},
   "outputs": [],
   "source": [
    "c = 0\n",
    "for name, group in adfdg2:\n",
    "    c += 1\n",
    "    pass"
   ]
  },
  {
   "cell_type": "code",
   "execution_count": null,
   "id": "8c9875d6-3512-4ce1-ac86-94279ecea82d",
   "metadata": {},
   "outputs": [],
   "source": [
    "group"
   ]
  },
  {
   "cell_type": "code",
   "execution_count": null,
   "id": "30afb400-f4e8-4d50-82fe-e89785d3f145",
   "metadata": {},
   "outputs": [],
   "source": [
    "c"
   ]
  },
  {
   "cell_type": "code",
   "execution_count": null,
   "id": "64c2dfdc-c5e6-4eb8-aaf0-aea14c80e6a8",
   "metadata": {},
   "outputs": [],
   "source": [
    "dm.get_db(\"relationcurrent\").sort_values(by='transcript')"
   ]
  },
  {
   "cell_type": "code",
   "execution_count": null,
   "id": "b3045840-22d4-4604-91c8-a98cbf52c135",
   "metadata": {},
   "outputs": [],
   "source": [
    "tt.reverse_graph.nodes['ENST00000515292.1']"
   ]
  },
  {
   "cell_type": "code",
   "execution_count": null,
   "id": "52746d8b-2f26-4027-95d2-bf23929169e1",
   "metadata": {},
   "outputs": [],
   "source": [
    "reverse_graph"
   ]
  },
  {
   "cell_type": "code",
   "execution_count": null,
   "id": "6c485c8f-4671-48f1-9bf2-22294c3597be",
   "metadata": {},
   "outputs": [],
   "source": [
    "{\n",
    "            i: set() for i in DB.mysql_port_and_assembly_priority.keys() if i != dm.ensembl_mysql_server\n",
    "        }"
   ]
  },
  {
   "cell_type": "code",
   "execution_count": null,
   "id": "b4e5f962-c891-47b9-8b9c-5ee97862193b",
   "metadata": {},
   "outputs": [],
   "source": []
  },
  {
   "cell_type": "code",
   "execution_count": null,
   "id": "fcc8fda8-582e-4412-abf1-6738616e27ae",
   "metadata": {},
   "outputs": [],
   "source": []
  },
  {
   "cell_type": "code",
   "execution_count": null,
   "id": "6a1f304a-8c60-456e-b7ad-b095d191c25a",
   "metadata": {},
   "outputs": [],
   "source": []
  },
  {
   "cell_type": "code",
   "execution_count": null,
   "id": "74ea0d99-cdcf-42da-83da-fd43cda99576",
   "metadata": {},
   "outputs": [],
   "source": [
    "tt: TrackTests = TrackTests(dm)"
   ]
  },
  {
   "cell_type": "code",
   "execution_count": null,
   "id": "dbed66bd-cb19-454c-8d98-a976a8f36b87",
   "metadata": {},
   "outputs": [],
   "source": [
    "base_path = \"/lustre/groups/ml01/workspace/hlca_lisa.sikkema_malte.luecken/HLCA_reproducibility/data\"\n",
    "dset0_dir = os.path.join(base_path, \"HLCA_extended/extension_datasets/ready/full\")\n",
    "dset1_dir = os.path.join(base_path, \"HLCA_extended/extension_datasets/raw\")\n",
    "\n",
    "adata_dict = {\n",
    "    \"Kaminski_2020\": [f\"{dset0_dir}/adams.h5ad\"],\n",
    "    \"Meyer_2021\": [f\"{dset0_dir}/meyer_2021.h5ad\"],\n",
    "    \"MeyerNikolic_unpubl\": [f\"{dset0_dir}/meyer_nikolic_unpubl.h5ad\"],\n",
    "    \"Barbry_unpubl\": [f\"{dset0_dir}/barbry.h5ad\"],\n",
    "    \"Regev_2021\": [\n",
    "        f\"{dset0_dir}/delorey_cryo.h5ad\", f\"{dset0_dir}/delorey_fresh.h5ad\",\n",
    "        f\"{dset0_dir}/delorey_nuclei.h5ad\"\n",
    "    ],\n",
    "    \"Thienpont_2018\": [f\"{dset1_dir}/Lambrechts/lambrechts.h5ad\"],\n",
    "    \"Budinger_2020\": [f\"{dset0_dir}/bharat.h5ad\"],\n",
    "    \"Banovich_Kropski_2020\": [f\"{dset0_dir}/haberman.h5ad\"],\n",
    "    \"Sheppard_2020\": [f\"{dset0_dir}/tsukui.h5ad\"],\n",
    "    \"Wunderink_2021\": [\n",
    "        f\"{dset0_dir}/grant_cryo.h5ad\", f\"{dset0_dir}/grant_fresh.h5ad\"\n",
    "    ],\n",
    "    \"Lambrechts_2021\": [\n",
    "        f\"{dset0_dir}/wouters.h5ad\" #, f\"{dset0_dir}/wouters_labs.h5ad\"\n",
    "    ],\n",
    "    \"Zhang_2021\": [f\"{dset1_dir}/Liao/covid_for_publish.h5ad\"],\n",
    "    \"Duong_lungMAP_unpubl\": [f\"{dset0_dir}/duong.h5ad\"],\n",
    "    \"Janssen_2020\": [f\"{dset0_dir}/mould.h5ad\"],\n",
    "    \"Sun_2020\": [\n",
    "        f\"{dset0_dir}/wang_sub_batch1.h5ad\", f\"{dset0_dir}/wang_sub_batch2.h5ad\",\n",
    "        f\"{dset0_dir}/wang_sub_batch3.h5ad\", f\"{dset0_dir}/wang_sub_batch4.h5ad\"],\n",
    "    \"Gomperts_2021\": [\n",
    "        f\"{dset0_dir}/carraro_ucla.h5ad\", f\"{dset0_dir}/carraro_cff.h5ad\",\n",
    "        f\"{dset0_dir}/carraro_csmc.h5ad\"],\n",
    "    \"Eils_2020\": [f\"{dset0_dir}/lukassen.h5ad\"],\n",
    "    \"Schiller_2020\": [f\"{dset0_dir}/mayr.h5ad\"],\n",
    "    \"Misharin_Budinger_2018\": [f\"{dset0_dir}/reyfman_disease.h5ad\"],\n",
    "    \"Shalek_2018\": [f\"{dset0_dir}/ordovasmontanes.h5ad\"],\n",
    "    \"Schiller_2021\": [f\"{dset0_dir}/schiller_discovair.h5ad\"],\n",
    "    \"Peer_Massague_2020\": [f\"{dset0_dir}/laughney.h5ad\"],\n",
    "    \"Lafyatis_2019\": [f\"{dset0_dir}/valenzi.h5ad\"],\n",
    "    \"Tata_unpubl\": [f\"{dset0_dir}/tata_unpubl.h5ad\"],\n",
    "    \"Xu_2020\": [f\"{dset0_dir}/guo.h5ad\"],\n",
    "    \"Sims_2019\": [f\"{dset0_dir}/szabo.h5ad\"],\n",
    "    \"Schultze_unpubl\": [f\"{dset0_dir}/schultze_unpubl.h5ad\"]\n",
    "}"
   ]
  },
  {
   "cell_type": "code",
   "execution_count": null,
   "id": "005f01af-e2a4-4ee4-8d43-e66838fbbe58",
   "metadata": {},
   "outputs": [],
   "source": [
    "base_path = \"/lustre/groups/ml01/workspace/hlca_lisa.sikkema_malte.luecken/HLCA_reproducibility/data\"\n",
    "dset0_dir = os.path.join(base_path, \"HLCA_extended/extension_datasets/ready/full\")\n",
    "dset1_dir = os.path.join(base_path, \"HLCA_extended/extension_datasets/raw\")\n",
    "\n",
    "adata_dict = {\n",
    "    \"Kaminski_2020\": [f\"{dset0_dir}/adams.h5ad\"],\n",
    "    \"Eils_2020\": [f\"{dset0_dir}/lukassen.h5ad\"],\n",
    "    \"Sims_2019\": [f\"{dset0_dir}/szabo.h5ad\"],\n",
    "    \"Schultze_unpubl\": [f\"{dset0_dir}/schultze_unpubl.h5ad\"],\n",
    "}\n",
    "\n",
    "#with open(os.path.join(local_dir, \"results_databases.pk\"), 'rb') as handle:\n",
    "#    result = pickle.load(handle)\n",
    "#    print(\"Loaded\")"
   ]
  },
  {
   "cell_type": "code",
   "execution_count": null,
   "id": "a8e4a084-7138-44d1-82d7-c1b7232f5870",
   "metadata": {},
   "outputs": [],
   "source": [
    "result = dict()\n",
    "for ddadaata in adata_dict:\n",
    "    \n",
    "    adata = sc.read(adata_dict[ddadaata][0])\n",
    "    gene_list = list(adata.var.index)\n",
    "    gene_list_filtered, gene_list_converted, gene_list_lost = tt.unfound_correct(list(adata.var.index))\n",
    "    \n",
    "    gene_list = set(gene_list)\n",
    "    print(ddadaata, len(gene_list_filtered), len(gene_list_filtered)-len(set(gene_list_filtered)))\n",
    "    gene_list_filtered = set(gene_list_filtered)\n",
    "   \n",
    "    for i in gene_list_filtered:\n",
    "        if i not in tt.graph.nodes:\n",
    "            raise ValueError\n",
    "    print(tt.identify_source(gene_list_filtered)[0])\n",
    "    \n",
    "    a = dict()\n",
    "    for ind, i in enumerate(gene_list_filtered):\n",
    "        if ind % 100 == 0 or ind > len(gene_list_filtered)-5:\n",
    "            progress_bar(ind, len(gene_list_filtered)-1)\n",
    "        conv = tt.convert(i, None, None, 'ensembl_gene', prioritize_to_one_filter=True, return_path=True)\n",
    "        a[i] = conv\n",
    "    result[ddadaata] = a\n",
    "    print(list(Counter([len(a[i]) if a[i] is not None else 0 for i in a]).most_common())[:10])\n",
    "    print()"
   ]
  },
  {
   "cell_type": "code",
   "execution_count": null,
   "id": "60ae3c86-dc87-45f4-9fb7-b1e70c02feb9",
   "metadata": {},
   "outputs": [],
   "source": []
  },
  {
   "cell_type": "code",
   "execution_count": null,
   "id": "a133bd6e-7daf-4cf7-b5e8-130b0164cac1",
   "metadata": {},
   "outputs": [],
   "source": []
  },
  {
   "cell_type": "code",
   "execution_count": null,
   "id": "08bdb6d4-9bae-40b7-aa7a-329e3dbe408d",
   "metadata": {},
   "outputs": [],
   "source": []
  },
  {
   "cell_type": "code",
   "execution_count": null,
   "id": "c53a78f9-cc83-4f10-bec0-964bb8d3016a",
   "metadata": {},
   "outputs": [],
   "source": [
    "### Check how many total targets are "
   ]
  },
  {
   "cell_type": "code",
   "execution_count": null,
   "id": "a9bf7127-7cf5-4de4-89fd-00a48dd4fba6",
   "metadata": {},
   "outputs": [],
   "source": [
    "only_matches = {ddad: {k: list(i.keys()) if i is not None else [] for k, i in result[ddad].items()} for ddad in adata_dict}\n",
    "all_targets = {k for _, i in only_matches.items() for _, j in i.items() for k in j}\n",
    "all_targets = sorted(all_targets)\n",
    "len(all_targets)"
   ]
  },
  {
   "cell_type": "code",
   "execution_count": null,
   "id": "8e004257-a6c7-4633-9bc3-9edbdc5e8ae3",
   "metadata": {},
   "outputs": [],
   "source": [
    "for ddd in only_matches:\n",
    "    db_1to1 = [l for c, t in only_matches[ddd].items() for l in t if len(t) == 1]\n",
    "    print(ddd, '\\t','\\t', len(db_1to1), len(set(db_1to1)), len(db_1to1)-len(set(db_1to1)))"
   ]
  },
  {
   "cell_type": "code",
   "execution_count": null,
   "id": "d47541af-795a-4281-b39a-fccb28c3662a",
   "metadata": {},
   "outputs": [],
   "source": [
    "klk = [i for i in db_1to1 if db_1to1.count(i) > 1]\n",
    "klk = np.unique(klk)\n",
    "print(len(klk))\n",
    "print(klk[0:5])"
   ]
  },
  {
   "cell_type": "code",
   "execution_count": null,
   "id": "2ab97e51-2d61-4cf7-ac4e-fefa4ab35c0a",
   "metadata": {},
   "outputs": [],
   "source": [
    "for jjj in range(20,40):\n",
    "    lll = [(c,t) for c, t in only_matches[ddd].items() if klk[jjj] in t]\n",
    "    for llll in [i for i, j in lll]:\n",
    "        print(tt.convert(llll, None, None, 'ensembl_gene', return_path=True, prioritize_to_one_filter=True))\n",
    "    print()"
   ]
  },
  {
   "cell_type": "code",
   "execution_count": null,
   "id": "42c53eeb-48cc-4c59-85d8-94e5ddf4515c",
   "metadata": {},
   "outputs": [],
   "source": [
    "ddad = \"Schultze_unpubl\"\n",
    "only_matches = {ddad: {k: list(i.keys()) if i is not None else [] for k, i in result[ddad].items()}}\n",
    "for ddd in only_matches:\n",
    "    db_1to1 = [l for c, t in only_matches[ddd].items() for l in t if len(t) == 1]\n",
    "    print(ddd, '\\t','\\t', len(db_1to1), len(set(db_1to1)), len(db_1to1)-len(set(db_1to1)))\n",
    "klk = [i for i in db_1to1 if db_1to1.count(i) > 1]\n",
    "np.array(klk[:10])"
   ]
  },
  {
   "cell_type": "code",
   "execution_count": null,
   "id": "a3cbc0e3-71f6-4565-be28-5bf16d26a262",
   "metadata": {},
   "outputs": [],
   "source": []
  },
  {
   "cell_type": "code",
   "execution_count": null,
   "id": "8a9b75d8-d09e-4b45-b2ed-9a7a4efeb5df",
   "metadata": {},
   "outputs": [],
   "source": []
  },
  {
   "cell_type": "code",
   "execution_count": null,
   "id": "c14f2142-a78a-4cfa-bfd2-974f734532e3",
   "metadata": {},
   "outputs": [],
   "source": []
  },
  {
   "cell_type": "code",
   "execution_count": null,
   "id": "83c8f18e-f529-4259-824f-a4f46c1d4ae8",
   "metadata": {},
   "outputs": [],
   "source": [
    "ddadaata = \"Schultze_unpubl\"\n",
    "adata = sc.read(adata_dict[ddadaata][0])\n",
    "gene_list = list(adata.var.index)\n",
    "gene_list_filtered, gene_list_converted, gene_list_lost = tt.unfound_correct(list(adata.var.index))\n",
    "\n",
    "gene_list = set(gene_list)\n",
    "print(ddadaata, len(gene_list_filtered), len(gene_list_filtered)-len(set(gene_list_filtered)))\n",
    "gene_list_filtered = set(gene_list_filtered)\n",
    "\n",
    "for i in gene_list_filtered:\n",
    "    if i not in tt.graph.nodes:\n",
    "        raise ValueError\n",
    "print(tt.identify_source(gene_list_filtered)[0])\n",
    "\n",
    "a = dict()\n",
    "for ind, i in enumerate(gene_list_filtered):\n",
    "    if ind % 100 == 0 or ind > len(gene_list_filtered)-5:\n",
    "        progress_bar(ind, len(gene_list_filtered)-1)\n",
    "    conv = tt.convert(i, None, None, 'ensembl_gene', prioritize_to_one_filter=False, return_path=False)\n",
    "    a[i] = conv\n",
    "result[ddadaata] = a\n",
    "print(list(Counter([len(a[i]) if a[i] is not None else 0 for i in a]).most_common())[:10])\n",
    "print()\n",
    "with open(os.path.join(local_dir, \"results_databases_no_prioritize.pk\"), 'wb') as handle:\n",
    "    pickle.dump(result, handle)\n",
    "    print(\"Saved\")"
   ]
  },
  {
   "cell_type": "code",
   "execution_count": null,
   "id": "451f3896-05f2-4a29-9bfb-f246a3c56147",
   "metadata": {},
   "outputs": [],
   "source": [
    "with open(os.path.join(local_dir, \"results_databases_no_prioritize.pk\"), 'rb') as handle:\n",
    "    result = pickle.load(handle)\n",
    "    print(\"Loaded\")"
   ]
  },
  {
   "cell_type": "code",
   "execution_count": null,
   "id": "46fd4209-47eb-4b69-923b-0d37548770e1",
   "metadata": {},
   "outputs": [],
   "source": [
    "# ignore all 0's\n",
    "# consume all 1-to-1s\n",
    "\n",
    "# cakisik aileleri bul\n",
    "    # 1-to-n's that at least one n id the same\n",
    "\n",
    "# for each cakisik aile\n",
    "    # nested_for_loop: asagidaki gibi, minimum olani sec."
   ]
  },
  {
   "cell_type": "code",
   "execution_count": null,
   "id": "f91c9818-e52a-454b-bb23-89d4f550f1ce",
   "metadata": {},
   "outputs": [],
   "source": []
  },
  {
   "cell_type": "code",
   "execution_count": null,
   "id": "afb1ad04-b73d-44a8-b07e-9567593babef",
   "metadata": {},
   "outputs": [],
   "source": [
    "import networkx as nx\n",
    "g = nx.Graph()\n",
    "for i in result[\"Schultze_unpubl\"].keys():\n",
    "    if result[\"Schultze_unpubl\"][i]:\n",
    "        for j in result[\"Schultze_unpubl\"][i].keys():\n",
    "            g.add_edge(f\"Source::{i}\", f\"Target::{j}\")"
   ]
  },
  {
   "cell_type": "code",
   "execution_count": null,
   "id": "b979026c-6c26-4d46-9c97-d574c6292de2",
   "metadata": {},
   "outputs": [],
   "source": [
    "consumed = {klk.split(\"Target::\")[1] for kl in [i for i in list(nx.connected_components(g)) if len(i) == 2] for klk in kl if klk.startswith(\"Target::\")}"
   ]
  },
  {
   "cell_type": "code",
   "execution_count": null,
   "id": "031bbdfd-a3cb-45ca-ba50-caa6f9dad18d",
   "metadata": {},
   "outputs": [],
   "source": [
    "temp_ = [i for i in list(nx.connected_components(g)) if len(i) > 2]\n",
    "tp = [t for t in temp_ if sum([i.startswith(\"Source::\") for i in t]) > 1] # many-to-1 or many-to-many\n",
    "#tp=[[j.split(\"::\")[1] for j in i] for i in tp]"
   ]
  },
  {
   "cell_type": "code",
   "execution_count": null,
   "id": "3950af66-b96f-44d2-92d4-86d24a5dfa28",
   "metadata": {},
   "outputs": [],
   "source": [
    "len(list(nx.connected_components(g))), len(temp_), len(tp)"
   ]
  },
  {
   "cell_type": "code",
   "execution_count": null,
   "id": "9381cb7b-9cde-47dd-ac47-68239c1656b6",
   "metadata": {},
   "outputs": [],
   "source": [
    "# [len(i) for i in tp]\n",
    "[klk for klk in tp[0] if klk.startswith(\"Target::\") and klk.split(\"Target::\")[1] in consumed]"
   ]
  },
  {
   "cell_type": "code",
   "execution_count": null,
   "id": "40f3f597-0cdf-45c4-9aef-26113c312527",
   "metadata": {},
   "outputs": [],
   "source": [
    "playground=tp[0]\n",
    "\n",
    "asd = list()\n",
    "for i in playground:\n",
    "    j, k = i.split(\"::\")\n",
    "    if j == \"Source\":\n",
    "        asd.append(len(result[\"Schultze_unpubl\"][k]))"
   ]
  },
  {
   "cell_type": "code",
   "execution_count": null,
   "id": "ab924dcc-c61e-42ce-87db-5c6908f79382",
   "metadata": {},
   "outputs": [],
   "source": [
    "asdad = [g.degree(i) for i in playground if i.startswith(\"Target::\")]\n",
    "len([i for i in asdad if i!= 1]), len(asdad), len([g.degree(i) for i in playground if i.startswith(\"Source::\")])"
   ]
  },
  {
   "cell_type": "code",
   "execution_count": null,
   "id": "1e1e3190-8d78-4d30-ab17-bd67fa28212f",
   "metadata": {},
   "outputs": [],
   "source": [
    "amk = {i: list(g.neighbors(i)) for i in playground if i.startswith(\"Target::\")}\n",
    "\n",
    "amkr = dict()\n",
    "for i in amk:\n",
    "    for j in amk[i]:\n",
    "        if j not in amkr:\n",
    "            amkr[j] = [i]\n",
    "        else:\n",
    "            amkr[j].append(i)"
   ]
  },
  {
   "cell_type": "code",
   "execution_count": null,
   "id": "cfa38266-c672-449c-ab5e-c0657aca25f6",
   "metadata": {},
   "outputs": [],
   "source": [
    "{i: s for i in amkr if len(amkr[i]) == 1 for s in list(g.neighbors(i))}"
   ]
  },
  {
   "cell_type": "code",
   "execution_count": null,
   "id": "401e36eb-a56c-4791-b56b-bed7da7058e6",
   "metadata": {},
   "outputs": [],
   "source": [
    "x = dm.get_table(\"xref\", usecols=[\"xref_id\", \"external_db_id\", \"dbprimary_acc\", \"display_label\"],  save_after_calculation=False)"
   ]
  },
  {
   "cell_type": "code",
   "execution_count": null,
   "id": "7c124a33-1bbe-4e44-870d-368e13f45e27",
   "metadata": {},
   "outputs": [],
   "source": [
    "es = dm.get_table(\"external_synonym\", usecols=[\"xref_id\", \"synonym\"], save_after_calculation=False)\n",
    "esm = es.merge(x, how=\"inner\", on=\"xref_id\", validate=\"many_to_one\")\n",
    "esm.drop(columns=[\"display_label\"], inplace=True)\n",
    "esm.rename(columns={\"synonym\": \"display_label\"}, inplace=True)"
   ]
  },
  {
   "cell_type": "code",
   "execution_count": null,
   "id": "277a6b0a-f0f6-4871-9972-f9ecc20dfc4b",
   "metadata": {},
   "outputs": [],
   "source": [
    "dm.change_server(38).clean_up([i for i in dm.change_server(38).tables_in_disk() if 'processed_external' in i])"
   ]
  },
  {
   "cell_type": "code",
   "execution_count": null,
   "id": "665526c4-b07b-4775-857d-540f4d886c20",
   "metadata": {},
   "outputs": [],
   "source": [
    "dm.change_server(37).clean_up([i for i in dm.change_server(37).tables_in_disk() if 'processed_external' in i])"
   ]
  },
  {
   "cell_type": "code",
   "execution_count": null,
   "id": "28b3e7d1-f7c2-42d1-ad8e-758a2fd5d312",
   "metadata": {},
   "outputs": [],
   "source": []
  },
  {
   "cell_type": "code",
   "execution_count": null,
   "id": "a45fa107-e73f-48a1-a39a-c26989f24002",
   "metadata": {},
   "outputs": [],
   "source": []
  },
  {
   "cell_type": "code",
   "execution_count": null,
   "id": "2b2f4a07-8a09-4b70-8b41-cc8af2e60e28",
   "metadata": {},
   "outputs": [],
   "source": []
  },
  {
   "cell_type": "code",
   "execution_count": null,
   "id": "ec870bef-5911-4153-862d-a0f7a35cdfd6",
   "metadata": {},
   "outputs": [],
   "source": []
  },
  {
   "cell_type": "code",
   "execution_count": null,
   "id": "1874bce5-20a8-415a-aea6-3261c39bea17",
   "metadata": {},
   "outputs": [],
   "source": [
    "the_id_1, the_id_2, the_id_3 = \"ROR1\", \"ROR2\", \"RORA\"\n",
    "print(tt.convert(the_id_1, None, None, 'ensembl_gene', return_path=False, prioritize_to_one_filter=True))\n",
    "print(tt.convert(the_id_2, None, None, 'ensembl_gene', return_path=False, prioritize_to_one_filter=True))\n",
    "print(tt.convert(the_id_3, None, None, 'ensembl_gene', return_path=False, prioritize_to_one_filter=True))"
   ]
  },
  {
   "cell_type": "code",
   "execution_count": null,
   "id": "9c651fab-f93f-40e5-88af-fa9106268cd2",
   "metadata": {},
   "outputs": [],
   "source": [
    "a1=tt.convert(the_id_1, None, None, 'ensembl_gene', return_path=False, prioritize_to_one_filter=False)\n",
    "a1\n",
    "## bu neden 1 varken 2'yi de aldi amk"
   ]
  },
  {
   "cell_type": "code",
   "execution_count": null,
   "id": "5e7f2bbf-b0f9-48b7-b256-fdd45f06af01",
   "metadata": {},
   "outputs": [],
   "source": [
    "a2=tt.convert(the_id_2, None, None, 'ensembl_gene', return_path=False, prioritize_to_one_filter=False)\n",
    "a2\n",
    "## bu neden 1 varken 2'yi de aldi amk"
   ]
  },
  {
   "cell_type": "code",
   "execution_count": null,
   "id": "740758d7-b975-43a8-9d9b-2216366405da",
   "metadata": {},
   "outputs": [],
   "source": [
    "a3=tt.convert(the_id_3, None, None, 'ensembl_gene', return_path=False, prioritize_to_one_filter=False)\n",
    "a3\n",
    "## bu neden 1 varken 2'yi de aldi amk"
   ]
  },
  {
   "cell_type": "code",
   "execution_count": null,
   "id": "d940db4c-f7c9-46fa-8966-1b00b472e6c4",
   "metadata": {},
   "outputs": [],
   "source": [
    "list(a1)"
   ]
  },
  {
   "cell_type": "code",
   "execution_count": null,
   "id": "e04a6ddd-fb45-4f30-b0b9-f9580303b421",
   "metadata": {},
   "outputs": [],
   "source": [
    "list(a2)"
   ]
  },
  {
   "cell_type": "code",
   "execution_count": null,
   "id": "f791cfab-6a97-4a3a-903f-8bdea261c96d",
   "metadata": {},
   "outputs": [],
   "source": [
    "[(i,j) for i in a1 for j in a2 for k in a3 if i!=j or j!=k or i!=k]"
   ]
  },
  {
   "cell_type": "code",
   "execution_count": null,
   "id": "ba5fedec-f444-4894-8d2d-dac9b1188e7c",
   "metadata": {},
   "outputs": [],
   "source": [
    "b1= tt.scorer_for_1_to_n(a1, return_path=False, return_best=False)\n",
    "b2= tt.scorer_for_1_to_n(a2, return_path=False, return_best=False)\n",
    "b3= tt.scorer_for_1_to_n(a3, return_path=False, return_best=False)\n",
    "_=[(b1[i], b2[j], b3[k]) for i in b1 for j in b2 for k in b3 if i!=j or j!=k or i!=k]"
   ]
  },
  {
   "cell_type": "code",
   "execution_count": null,
   "id": "e36a2af4-908b-4dc7-ace5-cb7af236628a",
   "metadata": {},
   "outputs": [],
   "source": [
    "import operator\n",
    "c = [list(map(operator.add, map(operator.add, b1[i], b2[j]), b3[k])) + [i, j, k] for i in b1 for j in b2 for k in b3 if i!=j or j!=k or i!=k]\n",
    "np.array(c)"
   ]
  },
  {
   "cell_type": "code",
   "execution_count": null,
   "id": "f66ededb-9394-4cff-a295-c7beefb9592f",
   "metadata": {},
   "outputs": [],
   "source": [
    "sorted(c, reverse=True)"
   ]
  },
  {
   "cell_type": "code",
   "execution_count": null,
   "id": "eb994d40-fbb0-4079-af15-6d903a3d3749",
   "metadata": {},
   "outputs": [],
   "source": []
  },
  {
   "cell_type": "code",
   "execution_count": null,
   "id": "7de1924c-5586-4d9c-8e72-ed4884b53523",
   "metadata": {},
   "outputs": [],
   "source": []
  },
  {
   "cell_type": "code",
   "execution_count": null,
   "id": "cb3a468f-b28b-4829-a3b3-a4089f9bdaad",
   "metadata": {},
   "outputs": [],
   "source": []
  },
  {
   "cell_type": "code",
   "execution_count": null,
   "id": "909c7548-7331-4c01-9b6e-fa09dfe45682",
   "metadata": {},
   "outputs": [],
   "source": []
  },
  {
   "cell_type": "code",
   "execution_count": null,
   "id": "c3f1fe3f-3731-4747-924e-40355c6cde07",
   "metadata": {},
   "outputs": [],
   "source": []
  },
  {
   "cell_type": "code",
   "execution_count": null,
   "id": "d78ad313-9e61-49dd-aa73-021a40c6f5b6",
   "metadata": {},
   "outputs": [],
   "source": []
  },
  {
   "cell_type": "code",
   "execution_count": null,
   "id": "712a86f0-b40b-41a4-a9de-c4b1e53449aa",
   "metadata": {},
   "outputs": [],
   "source": []
  },
  {
   "cell_type": "code",
   "execution_count": null,
   "id": "d7ad9d67-3494-4b0e-a2d0-b4e526b13f1f",
   "metadata": {},
   "outputs": [],
   "source": []
  },
  {
   "cell_type": "code",
   "execution_count": null,
   "id": "4f5cd071-535c-4739-a4c7-27a29470cd67",
   "metadata": {},
   "outputs": [],
   "source": []
  },
  {
   "cell_type": "code",
   "execution_count": null,
   "id": "267f1e31-b733-4ee2-a0f1-6014f5039d05",
   "metadata": {},
   "outputs": [],
   "source": []
  },
  {
   "cell_type": "code",
   "execution_count": null,
   "id": "2d97cd9b-2fef-41d6-8489-3e5192ab4546",
   "metadata": {},
   "outputs": [],
   "source": []
  },
  {
   "cell_type": "code",
   "execution_count": null,
   "id": "38e960de-cac3-4726-9779-3d44d61c8495",
   "metadata": {},
   "outputs": [],
   "source": [
    "rc37 = Dataset(dm.change_server(37), narrow_search=False).initialize_external_conversion()\n",
    "#rc38 = Dataset(dm.change_server(38), narrow_search=False).initialize_external_conversion()"
   ]
  },
  {
   "cell_type": "code",
   "execution_count": null,
   "id": "ef88c388-cb1e-4384-906b-0f55c3c45552",
   "metadata": {},
   "outputs": [],
   "source": [
    "d=np.unique(rc37['id_db'])"
   ]
  },
  {
   "cell_type": "code",
   "execution_count": null,
   "id": "90d52c90-d5a7-449a-956e-c6e2fe9c12fd",
   "metadata": {},
   "outputs": [],
   "source": [
    "[i for i in d if \"YX65C7\" in i]"
   ]
  },
  {
   "cell_type": "code",
   "execution_count": null,
   "id": "28df4960-24f1-4683-bf0f-214fdec3ea12",
   "metadata": {},
   "outputs": [],
   "source": [
    "\"PRED58\" in d"
   ]
  },
  {
   "cell_type": "code",
   "execution_count": null,
   "id": "a7158d10-2270-4968-bebe-91eea4a40cfc",
   "metadata": {},
   "outputs": [],
   "source": [
    "amk = [i for i in a if i not in d]"
   ]
  },
  {
   "cell_type": "code",
   "execution_count": null,
   "id": "3207fb20-9fbb-4df8-9a10-32e8610e9b55",
   "metadata": {},
   "outputs": [],
   "source": [
    "print(len([i for i in a if i in d]))\n",
    "print(len(amk))"
   ]
  },
  {
   "cell_type": "code",
   "execution_count": null,
   "id": "a58ae56b-47cb-4db1-84ba-29efc0f13175",
   "metadata": {},
   "outputs": [],
   "source": [
    "np.array([i for i in amk if i.split('.')[0] not in d])"
   ]
  },
  {
   "cell_type": "code",
   "execution_count": null,
   "id": "ccf57d9a-88bd-4953-9fff-735f8d966b8e",
   "metadata": {},
   "outputs": [],
   "source": [
    "# sonra da combinatorial olarak _ to - degisikligi yap..\n",
    " \n",
    "# np.array([i for i in amk if i.split('.')[0] not in d])"
   ]
  },
  {
   "cell_type": "code",
   "execution_count": null,
   "id": "429423d7-9aed-41c1-9ada-efc05c02ace7",
   "metadata": {},
   "outputs": [],
   "source": [
    "jkl = dict()\n",
    "askdnmkajsdn = rc37[\"name_db\"]\n",
    "for ind, i in enumerate([i for i in a if i in d]):\n",
    "    print(ind, end=\",\")\n",
    "    jkl[i] = set(askdnmkajsdn[rc37[\"id_db\"]==i])\n"
   ]
  },
  {
   "cell_type": "code",
   "execution_count": null,
   "id": "3c4a8da9-9f39-402d-8ccf-7c6fa55748d9",
   "metadata": {},
   "outputs": [],
   "source": [
    "np.unique(rc37[rc37[\"id_db\"] == 'FLJ27365'][\"name_db\"])"
   ]
  },
  {
   "cell_type": "code",
   "execution_count": null,
   "id": "b0b815d9-b120-4e29-a9cb-616487383ddd",
   "metadata": {},
   "outputs": [],
   "source": [
    "ex=dm.create_external_all()"
   ]
  },
  {
   "cell_type": "code",
   "execution_count": null,
   "id": "d25781d6-96b0-4c77-be27-6d77f6e0e1ca",
   "metadata": {},
   "outputs": [],
   "source": []
  },
  {
   "cell_type": "code",
   "execution_count": null,
   "id": "43631fa9-7fbc-415d-9244-1ef39a51acb4",
   "metadata": {},
   "outputs": [],
   "source": [
    "np.unique(ex[ex['assembly'] == 37]['name_db'])"
   ]
  },
  {
   "cell_type": "code",
   "execution_count": null,
   "id": "63e9f313-e219-4e04-9029-dde276449eeb",
   "metadata": {},
   "outputs": [],
   "source": []
  },
  {
   "cell_type": "code",
   "execution_count": null,
   "id": "f5c79c13-5507-43cc-88fc-9ded6802cb08",
   "metadata": {},
   "outputs": [],
   "source": []
  },
  {
   "cell_type": "code",
   "execution_count": null,
   "id": "20f67230-e086-43fb-811c-a2522ca3f488",
   "metadata": {},
   "outputs": [],
   "source": [
    "jkl = dict()\n",
    "askdnmkajsdn = rc37[\"name_db\"]\n",
    "for ind, i in enumerate(a):\n",
    "    print(ind, end=\",\")\n",
    "    jkl[i] = set(askdnmkajsdn[rc37[\"id_db\"]==i])\n"
   ]
  },
  {
   "cell_type": "code",
   "execution_count": null,
   "id": "5107f64a-4e53-4bcf-98db-47194b1baa83",
   "metadata": {},
   "outputs": [],
   "source": [
    "Counter([j for i in jkl for j in jkl[i]])"
   ]
  },
  {
   "cell_type": "code",
   "execution_count": null,
   "id": "5794a2b2-7b1d-4b3f-bae2-dffc5701f5ae",
   "metadata": {},
   "outputs": [],
   "source": [
    "df=dm.create_external_all()"
   ]
  },
  {
   "cell_type": "code",
   "execution_count": null,
   "id": "4945368a-bc59-4787-ae79-7f0367e6a56f",
   "metadata": {},
   "outputs": [],
   "source": [
    "ExternalDatabases(dm).give_list_for_case(give_type=\"db\")"
   ]
  },
  {
   "cell_type": "code",
   "execution_count": null,
   "id": "bd562a80-eed3-4938-916c-1f849b7ce449",
   "metadata": {},
   "outputs": [],
   "source": [
    "np.sum(df['assembly']==38)"
   ]
  },
  {
   "cell_type": "code",
   "execution_count": null,
   "id": "0d29fdf7-3a46-452d-9cfc-f4c370cdbff1",
   "metadata": {},
   "outputs": [],
   "source": [
    "np.sum(df['assembly']==37)"
   ]
  },
  {
   "cell_type": "code",
   "execution_count": null,
   "id": "0322df34-d2a7-486a-a1da-cb32a55a0594",
   "metadata": {},
   "outputs": [],
   "source": [
    "np.unique(df[df['assembly']==37][\"name_db\"])"
   ]
  },
  {
   "cell_type": "code",
   "execution_count": null,
   "id": "0e69c483-e562-454b-bf75-78a17d7bc34b",
   "metadata": {},
   "outputs": [],
   "source": [
    "df[df['graph_id']=='ENSG00000173727.7']"
   ]
  },
  {
   "cell_type": "code",
   "execution_count": null,
   "id": "2052bc97-692f-48b8-9efa-55f5db54b117",
   "metadata": {},
   "outputs": [],
   "source": []
  },
  {
   "cell_type": "code",
   "execution_count": null,
   "id": "51802964-270b-410f-ab37-e0ccf905536a",
   "metadata": {},
   "outputs": [],
   "source": [
    "the_dict[db_name][\"Assembly\"]"
   ]
  },
  {
   "cell_type": "code",
   "execution_count": null,
   "id": "d6861fa5-608d-4ac8-8443-02a9039159b6",
   "metadata": {},
   "outputs": [],
   "source": [
    "\n",
    "self = ExternalDatabases(dm)\n",
    "give_type='assembly'\n",
    "the_dict_loaded = self.load_modified_yaml()\n",
    "the_dict = the_dict_loaded[self.db_manager.organism][self.db_manager.form]\n",
    "\n",
    "result = set()\n",
    "for db_name in the_dict:\n",
    "    for asm in the_dict[db_name][\"Assembly\"]:\n",
    "        item = the_dict[db_name][\"Assembly\"][asm]\n",
    "        res_ens = map(int, item[\"Ensembl release\"].split(\",\"))\n",
    "        if self.db_manager.ensembl_release in res_ens and item[\"Include\"]:\n",
    "            if give_type == \"db\" and int(asm) == self.db_manager.ensembl_mysql_server:\n",
    "                result.add(db_name)\n",
    "            elif give_type == \"assembly\":\n",
    "                result.add(int(asm))\n",
    "            else:\n",
    "                raise ValueError\n",
    "            \n",
    "            \n",
    "result"
   ]
  },
  {
   "cell_type": "code",
   "execution_count": null,
   "id": "dfd8cfac-42c5-4ec7-9fdf-f2aa3cb4e6df",
   "metadata": {},
   "outputs": [],
   "source": [
    "item"
   ]
  },
  {
   "cell_type": "code",
   "execution_count": null,
   "id": "8a4b117b-4c4f-4133-a93d-e719294cb045",
   "metadata": {},
   "outputs": [],
   "source": [
    "\n",
    "for i in dm.available_releases:\n",
    "    ex = ExternalDatabases(dm.change_release(i))\n",
    "    ass = ex.give_list_for_case(give_type=\"db\")\n",
    "    print(f\"Rel:{i}, Ass{ass}\")"
   ]
  },
  {
   "cell_type": "code",
   "execution_count": null,
   "id": "4d9ce35f-6f8f-408f-a29e-6869514f4916",
   "metadata": {},
   "outputs": [],
   "source": []
  },
  {
   "cell_type": "code",
   "execution_count": null,
   "id": "955f28b2-d044-47e2-976f-20a43588d502",
   "metadata": {},
   "outputs": [],
   "source": []
  },
  {
   "cell_type": "code",
   "execution_count": null,
   "id": "fbaced09-60b3-4887-ac8f-1c29d918e3b9",
   "metadata": {},
   "outputs": [],
   "source": []
  },
  {
   "cell_type": "code",
   "execution_count": null,
   "id": "ebcbeca3-84b8-486b-ae36-45cf4f7b6eeb",
   "metadata": {},
   "outputs": [],
   "source": []
  },
  {
   "cell_type": "code",
   "execution_count": null,
   "id": "aafdca9e-14a5-484a-a3b1-4fa938218316",
   "metadata": {},
   "outputs": [],
   "source": []
  },
  {
   "cell_type": "code",
   "execution_count": null,
   "id": "c0358404-935a-41ee-a126-1d2618777a1d",
   "metadata": {},
   "outputs": [],
   "source": []
  },
  {
   "cell_type": "code",
   "execution_count": null,
   "id": "9f55dd83-99fc-40a2-b553-466b46be49da",
   "metadata": {},
   "outputs": [],
   "source": [
    "kalds=[i for i in jkl if len(jkl[i]) == 0]\n",
    "len(kalds)"
   ]
  },
  {
   "cell_type": "code",
   "execution_count": null,
   "id": "0a1a13eb-1eea-4dec-8821-309f6b871944",
   "metadata": {},
   "outputs": [],
   "source": []
  },
  {
   "cell_type": "code",
   "execution_count": null,
   "id": "b768dba2-a432-4280-b0c9-396c4c55054d",
   "metadata": {},
   "outputs": [],
   "source": [
    "bok = rc37[rc37[\"id_db\"].isin(a)]"
   ]
  },
  {
   "cell_type": "code",
   "execution_count": null,
   "id": "47fbc139-f20c-4ff3-8885-47e5030fa7dc",
   "metadata": {},
   "outputs": [],
   "source": [
    "dsd = []\n",
    "for i in a:\n",
    "    c =set([j for j in np.unique(bok[bok[\"id_db\"] == i][\"name_db\"])])\n",
    "    #print(c)\n",
    "    dsd.extend(c)\n",
    "from collections import Counter\n",
    "Counter(dsd).most_common()"
   ]
  },
  {
   "cell_type": "code",
   "execution_count": null,
   "id": "9f18abf3-9f8b-44d3-b169-c99d70c70701",
   "metadata": {},
   "outputs": [],
   "source": []
  },
  {
   "cell_type": "code",
   "execution_count": null,
   "id": "e95fe990-37c1-41f1-bd6c-b6638ddbb3ac",
   "metadata": {},
   "outputs": [],
   "source": []
  }
 ],
 "metadata": {
  "kernelspec": {
   "display_name": "Python 3 (ipykernel)",
   "language": "python",
   "name": "python3"
  },
  "language_info": {
   "codemirror_mode": {
    "name": "ipython",
    "version": 3
   },
   "file_extension": ".py",
   "mimetype": "text/x-python",
   "name": "python",
   "nbconvert_exporter": "python",
   "pygments_lexer": "ipython3",
   "version": "3.9.12"
  }
 },
 "nbformat": 4,
 "nbformat_minor": 5
}
