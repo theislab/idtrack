{
 "cells": [
  {
   "cell_type": "markdown",
   "id": "f0a953fc-cc27-4a89-b264-153f2f7cad0e",
   "metadata": {},
   "source": [
    "# Tutorial"
   ]
  },
  {
   "cell_type": "code",
   "execution_count": 1,
   "id": "d209984e-b5be-4cc0-9044-80531d6f5d46",
   "metadata": {},
   "outputs": [
    {
     "data": {
      "text/plain": [
       "1"
      ]
     },
     "execution_count": 1,
     "metadata": {},
     "output_type": "execute_result"
    }
   ],
   "source": [
    "1"
   ]
  },
  {
   "cell_type": "code",
   "execution_count": 2,
   "id": "9651dc52-4341-4175-9491-ef815cb2b775",
   "metadata": {},
   "outputs": [],
   "source": [
    "import os\n",
    "import scanpy as sc\n",
    "import pickle\n",
    "import sys\n",
    "from collections import Counter\n",
    "sys.path.append(\"../..\")"
   ]
  },
  {
   "cell_type": "code",
   "execution_count": 3,
   "id": "dd541ab2-5b75-4405-9082-5093f25000a7",
   "metadata": {},
   "outputs": [],
   "source": [
    "from idtrack import *\n",
    "from idtrack._track_tests import *"
   ]
  },
  {
   "cell_type": "code",
   "execution_count": 4,
   "id": "fb66f86f-a47a-4dbe-ac43-627a953d4332",
   "metadata": {},
   "outputs": [],
   "source": [
    "logger_config()\n",
    "local_dir = \"/lustre/groups/ml01/workspace/kemal.inecik/idtrack_temp\"  # or any other local directory\n",
    "dm = DatabaseManager(\"homo_sapiens\", 107, \"gene\", local_dir, 79) "
   ]
  },
  {
   "cell_type": "code",
   "execution_count": 5,
   "id": "5150b28b-3ab4-4398-9ad9-dda774a96466",
   "metadata": {},
   "outputs": [
    {
     "name": "stderr",
     "output_type": "stream",
     "text": [
      "2022-08-15 19:05:48 INFO:graph: The graph is being read.\n"
     ]
    }
   ],
   "source": [
    "tt: TrackTests = TrackTests(dm)"
   ]
  },
  {
   "cell_type": "code",
   "execution_count": 6,
   "id": "dbed66bd-cb19-454c-8d98-a976a8f36b87",
   "metadata": {},
   "outputs": [],
   "source": [
    "base_path = \"/lustre/groups/ml01/workspace/hlca_lisa.sikkema_malte.luecken/HLCA_reproducibility/data\"\n",
    "dset0_dir = os.path.join(base_path, \"HLCA_extended/extension_datasets/ready/full\")\n",
    "dset1_dir = os.path.join(base_path, \"HLCA_extended/extension_datasets/raw\")\n",
    "\n",
    "adata_dict = {\n",
    "    \"Kaminski_2020\": [f\"{dset0_dir}/adams.h5ad\"],\n",
    "    \"Meyer_2021\": [f\"{dset0_dir}/meyer_2021.h5ad\"],\n",
    "    \"MeyerNikolic_unpubl\": [f\"{dset0_dir}/meyer_nikolic_unpubl.h5ad\"],\n",
    "    \"Barbry_unpubl\": [f\"{dset0_dir}/barbry.h5ad\"],\n",
    "    \"Regev_2021\": [\n",
    "        f\"{dset0_dir}/delorey_cryo.h5ad\", f\"{dset0_dir}/delorey_fresh.h5ad\",\n",
    "        f\"{dset0_dir}/delorey_nuclei.h5ad\"\n",
    "    ],\n",
    "    \"Thienpont_2018\": [f\"{dset1_dir}/Lambrechts/lambrechts.h5ad\"],\n",
    "    \"Budinger_2020\": [f\"{dset0_dir}/bharat.h5ad\"],\n",
    "    \"Banovich_Kropski_2020\": [f\"{dset0_dir}/haberman.h5ad\"],\n",
    "    \"Sheppard_2020\": [f\"{dset0_dir}/tsukui.h5ad\"],\n",
    "    \"Wunderink_2021\": [\n",
    "        f\"{dset0_dir}/grant_cryo.h5ad\", f\"{dset0_dir}/grant_fresh.h5ad\"\n",
    "    ],\n",
    "    \"Lambrechts_2021\": [\n",
    "        f\"{dset0_dir}/wouters.h5ad\" #, f\"{dset0_dir}/wouters_labs.h5ad\"\n",
    "    ],\n",
    "    \"Zhang_2021\": [f\"{dset1_dir}/Liao/covid_for_publish.h5ad\"],\n",
    "    \"Duong_lungMAP_unpubl\": [f\"{dset0_dir}/duong.h5ad\"],\n",
    "    \"Janssen_2020\": [f\"{dset0_dir}/mould.h5ad\"],\n",
    "    \"Sun_2020\": [\n",
    "        f\"{dset0_dir}/wang_sub_batch1.h5ad\", f\"{dset0_dir}/wang_sub_batch2.h5ad\",\n",
    "        f\"{dset0_dir}/wang_sub_batch3.h5ad\", f\"{dset0_dir}/wang_sub_batch4.h5ad\"],\n",
    "    \"Gomperts_2021\": [\n",
    "        f\"{dset0_dir}/carraro_ucla.h5ad\", f\"{dset0_dir}/carraro_cff.h5ad\",\n",
    "        f\"{dset0_dir}/carraro_csmc.h5ad\"],\n",
    "    \"Eils_2020\": [f\"{dset0_dir}/lukassen.h5ad\"],\n",
    "    \"Schiller_2020\": [f\"{dset0_dir}/mayr.h5ad\"],\n",
    "    \"Misharin_Budinger_2018\": [f\"{dset0_dir}/reyfman_disease.h5ad\"],\n",
    "    \"Shalek_2018\": [f\"{dset0_dir}/ordovasmontanes.h5ad\"],\n",
    "    \"Schiller_2021\": [f\"{dset0_dir}/schiller_discovair.h5ad\"],\n",
    "    \"Peer_Massague_2020\": [f\"{dset0_dir}/laughney.h5ad\"],\n",
    "    \"Lafyatis_2019\": [f\"{dset0_dir}/valenzi.h5ad\"],\n",
    "    \"Tata_unpubl\": [f\"{dset0_dir}/tata_unpubl.h5ad\"],\n",
    "    \"Xu_2020\": [f\"{dset0_dir}/guo.h5ad\"],\n",
    "    \"Sims_2019\": [f\"{dset0_dir}/szabo.h5ad\"],\n",
    "    \"Schultze_unpubl\": [f\"{dset0_dir}/schultze_unpubl.h5ad\"]\n",
    "}\n",
    "\n",
    "adata_dict = {\n",
    "    \"Sims_2019\": [f\"{dset0_dir}/szabo.h5ad\"],\n",
    "}"
   ]
  },
  {
   "cell_type": "code",
   "execution_count": 7,
   "id": "a8e4a084-7138-44d1-82d7-c1b7232f5870",
   "metadata": {},
   "outputs": [
    {
     "ename": "ValueError",
     "evalue": "",
     "output_type": "error",
     "traceback": [
      "\u001b[0;31m---------------------------------------------------------------------------\u001b[0m",
      "\u001b[0;31mValueError\u001b[0m                                Traceback (most recent call last)",
      "Input \u001b[0;32mIn [7]\u001b[0m, in \u001b[0;36m<cell line: 2>\u001b[0;34m()\u001b[0m\n\u001b[1;32m      4\u001b[0m adata \u001b[38;5;241m=\u001b[39m sc\u001b[38;5;241m.\u001b[39mread(adata_dict[ddadaata][\u001b[38;5;241m0\u001b[39m])\n\u001b[1;32m      5\u001b[0m gene_list \u001b[38;5;241m=\u001b[39m \u001b[38;5;28mlist\u001b[39m(adata\u001b[38;5;241m.\u001b[39mvar\u001b[38;5;241m.\u001b[39mindex)\n\u001b[0;32m----> 6\u001b[0m gene_list_filtered, gene_list_converted, gene_list_lost \u001b[38;5;241m=\u001b[39m \u001b[43mtt\u001b[49m\u001b[38;5;241;43m.\u001b[39;49m\u001b[43munfound_correct\u001b[49m\u001b[43m(\u001b[49m\u001b[38;5;28;43mlist\u001b[39;49m\u001b[43m(\u001b[49m\u001b[43madata\u001b[49m\u001b[38;5;241;43m.\u001b[39;49m\u001b[43mvar\u001b[49m\u001b[38;5;241;43m.\u001b[39;49m\u001b[43mindex\u001b[49m\u001b[43m)\u001b[49m\u001b[43m)\u001b[49m\n\u001b[1;32m      8\u001b[0m gene_list \u001b[38;5;241m=\u001b[39m \u001b[38;5;28mset\u001b[39m(gene_list)\n\u001b[1;32m      9\u001b[0m \u001b[38;5;28mprint\u001b[39m(ddadaata, \u001b[38;5;28mlen\u001b[39m(gene_list_filtered), \u001b[38;5;28mlen\u001b[39m(gene_list_filtered)\u001b[38;5;241m-\u001b[39m\u001b[38;5;28mlen\u001b[39m(\u001b[38;5;28mset\u001b[39m(gene_list_filtered)))\n",
      "File \u001b[0;32m~/work/codes/idtrack/docs/_notebooks/../../idtrack/_track.py:1574\u001b[0m, in \u001b[0;36mTrack.unfound_correct\u001b[0;34m(self, gene_list, verbose)\u001b[0m\n\u001b[1;32m   1572\u001b[0m \u001b[38;5;28;01mif\u001b[39;00m verbose \u001b[38;5;129;01mand\u001b[39;00m (ind \u001b[38;5;241m%\u001b[39m \u001b[38;5;241m100\u001b[39m \u001b[38;5;241m==\u001b[39m \u001b[38;5;241m0\u001b[39m \u001b[38;5;129;01mor\u001b[39;00m ind \u001b[38;5;241m>\u001b[39m \u001b[38;5;28mlen\u001b[39m(gene_list) \u001b[38;5;241m-\u001b[39m \u001b[38;5;241m5\u001b[39m):\n\u001b[1;32m   1573\u001b[0m     progress_bar(ind, \u001b[38;5;28mlen\u001b[39m(gene_list) \u001b[38;5;241m-\u001b[39m \u001b[38;5;241m1\u001b[39m)\n\u001b[0;32m-> 1574\u001b[0m new_gl, is_converted \u001b[38;5;241m=\u001b[39m \u001b[38;5;28;43mself\u001b[39;49m\u001b[38;5;241;43m.\u001b[39;49m\u001b[43munfound_node_solutions\u001b[49m\u001b[43m(\u001b[49m\u001b[43mgl\u001b[49m\u001b[43m)\u001b[49m\n\u001b[1;32m   1576\u001b[0m \u001b[38;5;28;01mif\u001b[39;00m new_gl \u001b[38;5;129;01mis\u001b[39;00m \u001b[38;5;28;01mNone\u001b[39;00m:\n\u001b[1;32m   1577\u001b[0m     lost_ids\u001b[38;5;241m.\u001b[39mappend(gl)\n",
      "File \u001b[0;32m~/work/codes/idtrack/docs/_notebooks/../../idtrack/_track.py:1502\u001b[0m, in \u001b[0;36mTrack.unfound_node_solutions\u001b[0;34m(self, the_id)\u001b[0m\n\u001b[1;32m   1499\u001b[0m \u001b[38;5;28;01mif\u001b[39;00m the_id \u001b[38;5;129;01min\u001b[39;00m \u001b[38;5;28mself\u001b[39m\u001b[38;5;241m.\u001b[39mgraph\u001b[38;5;241m.\u001b[39mnodes:\n\u001b[1;32m   1500\u001b[0m     \u001b[38;5;28;01mreturn\u001b[39;00m the_id, \u001b[38;5;28;01mFalse\u001b[39;00m\n\u001b[0;32m-> 1502\u001b[0m lower_id, is_lower_found \u001b[38;5;241m=\u001b[39m \u001b[43mcompare_lowers\u001b[49m\u001b[43m(\u001b[49m\u001b[43mthe_id\u001b[49m\u001b[43m)\u001b[49m\n\u001b[1;32m   1503\u001b[0m \u001b[38;5;28;01mif\u001b[39;00m is_lower_found:\n\u001b[1;32m   1504\u001b[0m     \u001b[38;5;28;01mreturn\u001b[39;00m lower_id, \u001b[38;5;28;01mTrue\u001b[39;00m\n",
      "File \u001b[0;32m~/work/codes/idtrack/docs/_notebooks/../../idtrack/_track.py:1494\u001b[0m, in \u001b[0;36mTrack.unfound_node_solutions.<locals>.compare_lowers\u001b[0;34m(id_to_find)\u001b[0m\n\u001b[1;32m   1492\u001b[0m \u001b[38;5;28;01mdef\u001b[39;00m \u001b[38;5;21mcompare_lowers\u001b[39m(id_to_find):\n\u001b[1;32m   1493\u001b[0m     lower_id_find \u001b[38;5;241m=\u001b[39m id_to_find\u001b[38;5;241m.\u001b[39mlower()\n\u001b[0;32m-> 1494\u001b[0m     \u001b[38;5;28;01mif\u001b[39;00m lower_id_find \u001b[38;5;129;01min\u001b[39;00m \u001b[38;5;28;43mself\u001b[39;49m\u001b[38;5;241;43m.\u001b[39;49m\u001b[43mlower_chars_graph\u001b[49m:\n\u001b[1;32m   1495\u001b[0m         \u001b[38;5;28;01mreturn\u001b[39;00m \u001b[38;5;28mself\u001b[39m\u001b[38;5;241m.\u001b[39mlower_chars_graph[lower_id_find], \u001b[38;5;28;01mTrue\u001b[39;00m\n\u001b[1;32m   1496\u001b[0m     \u001b[38;5;28;01melse\u001b[39;00m:\n",
      "File \u001b[0;32m~/miniconda3/envs/idtdev/lib/python3.9/functools.py:993\u001b[0m, in \u001b[0;36mcached_property.__get__\u001b[0;34m(self, instance, owner)\u001b[0m\n\u001b[1;32m    991\u001b[0m val \u001b[38;5;241m=\u001b[39m cache\u001b[38;5;241m.\u001b[39mget(\u001b[38;5;28mself\u001b[39m\u001b[38;5;241m.\u001b[39mattrname, _NOT_FOUND)\n\u001b[1;32m    992\u001b[0m \u001b[38;5;28;01mif\u001b[39;00m val \u001b[38;5;129;01mis\u001b[39;00m _NOT_FOUND:\n\u001b[0;32m--> 993\u001b[0m     val \u001b[38;5;241m=\u001b[39m \u001b[38;5;28;43mself\u001b[39;49m\u001b[38;5;241;43m.\u001b[39;49m\u001b[43mfunc\u001b[49m\u001b[43m(\u001b[49m\u001b[43minstance\u001b[49m\u001b[43m)\u001b[49m\n\u001b[1;32m    994\u001b[0m     \u001b[38;5;28;01mtry\u001b[39;00m:\n\u001b[1;32m    995\u001b[0m         cache[\u001b[38;5;28mself\u001b[39m\u001b[38;5;241m.\u001b[39mattrname] \u001b[38;5;241m=\u001b[39m val\n",
      "File \u001b[0;32m~/work/codes/idtrack/docs/_notebooks/../../idtrack/_track.py:1479\u001b[0m, in \u001b[0;36mTrack.lower_chars_graph\u001b[0;34m(self)\u001b[0m\n\u001b[1;32m   1477\u001b[0m         result[j] \u001b[38;5;241m=\u001b[39m i\n\u001b[1;32m   1478\u001b[0m     \u001b[38;5;28;01melse\u001b[39;00m:\n\u001b[0;32m-> 1479\u001b[0m         \u001b[38;5;28;01mraise\u001b[39;00m \u001b[38;5;167;01mValueError\u001b[39;00m\n\u001b[1;32m   1480\u001b[0m \u001b[38;5;28;01mreturn\u001b[39;00m result\n",
      "\u001b[0;31mValueError\u001b[0m: "
     ]
    }
   ],
   "source": [
    "result = dict()\n",
    "for ddadaata in adata_dict:\n",
    "    \n",
    "    adata = sc.read(adata_dict[ddadaata][0])\n",
    "    gene_list = list(adata.var.index)\n",
    "    gene_list_filtered, gene_list_converted, gene_list_lost = tt.unfound_correct(list(adata.var.index))\n",
    "    \n",
    "    gene_list = set(gene_list)\n",
    "    print(ddadaata, len(gene_list_filtered), len(gene_list_filtered)-len(set(gene_list_filtered)))\n",
    "    gene_list_filtered = set(gene_list_filtered)\n",
    "   \n",
    "    for i in gene_list_filtered:\n",
    "        if i not in tt.graph.nodes:\n",
    "            raise ValueError\n",
    "    print(tt.identify_source(gene_list_filtered)[0])\n",
    "    \n",
    "    a = dict()\n",
    "    for ind, i in enumerate(gene_list_filtered):\n",
    "        if ind % 100 == 0 or ind > len(gene_list_filtered)-5:\n",
    "            progress_bar(ind, len(gene_list_filtered)-1)\n",
    "        conv = tt.convert(i, None, None, 'ensembl_gene', prioritize_to_one_filter=True, return_path=True)\n",
    "        a[i] = conv\n",
    "    result[ddadaata] = a\n",
    "    print(list(Counter([len(a[i]) if a[i] is not None else 0 for i in a]).most_common())[:10])\n",
    "    print()"
   ]
  },
  {
   "cell_type": "code",
   "execution_count": 6,
   "id": "005f01af-e2a4-4ee4-8d43-e66838fbbe58",
   "metadata": {},
   "outputs": [
    {
     "name": "stdout",
     "output_type": "stream",
     "text": [
      "Loaded\n"
     ]
    }
   ],
   "source": [
    "with open(os.path.join(local_dir, \"results_databases.pk\"), 'rb') as handle:\n",
    "    result = pickle.load(handle)\n",
    "    print(\"Loaded\")"
   ]
  },
  {
   "cell_type": "code",
   "execution_count": 27,
   "id": "c53a78f9-cc83-4f10-bec0-964bb8d3016a",
   "metadata": {},
   "outputs": [],
   "source": [
    "### Check how many total targets are "
   ]
  },
  {
   "cell_type": "code",
   "execution_count": 7,
   "id": "a9bf7127-7cf5-4de4-89fd-00a48dd4fba6",
   "metadata": {},
   "outputs": [
    {
     "data": {
      "text/plain": [
       "56508"
      ]
     },
     "execution_count": 7,
     "metadata": {},
     "output_type": "execute_result"
    }
   ],
   "source": [
    "only_matches = {ddad: {k: list(i.keys()) if i is not None else [] for k, i in result[ddad].items()} for ddad in adata_dict}\n",
    "all_targets = {k for _, i in only_matches.items() for _, j in i.items() for k in j}\n",
    "all_targets = sorted(all_targets)\n",
    "len(all_targets)"
   ]
  },
  {
   "cell_type": "code",
   "execution_count": 8,
   "id": "8e004257-a6c7-4633-9bc3-9edbdc5e8ae3",
   "metadata": {},
   "outputs": [
    {
     "name": "stdout",
     "output_type": "stream",
     "text": [
      "Kaminski_2020 \t \t 45377 44670 707\n",
      "Meyer_2021 \t \t 20708 20183 525\n",
      "MeyerNikolic_unpubl \t \t 32429 31490 939\n",
      "Barbry_unpubl \t \t 16579 16258 321\n",
      "Regev_2021 \t \t 29980 29199 781\n",
      "Thienpont_2018 \t \t 27403 26836 567\n",
      "Budinger_2020 \t \t 25564 24939 625\n",
      "Banovich_Kropski_2020 \t \t 32825 32105 720\n",
      "Sheppard_2020 \t \t 26587 26039 548\n",
      "Wunderink_2021 \t \t 21280 20794 486\n",
      "Lambrechts_2021 \t \t 32429 31490 939\n",
      "Zhang_2021 \t \t 18326 17885 441\n",
      "Duong_lungMAP_unpubl \t \t 26853 26210 643\n",
      "Janssen_2020 \t \t 32429 31490 939\n",
      "Sun_2020 \t \t 25788 25189 599\n",
      "Gomperts_2021 \t \t 30077 25040 5037\n",
      "Eils_2020 \t \t 31505 30599 906\n",
      "Schiller_2020 \t \t 30913 27335 3578\n",
      "Misharin_Budinger_2018 \t \t 26612 26057 555\n",
      "Shalek_2018 \t \t 24519 23946 573\n",
      "Schiller_2021 \t \t 17368 16937 431\n",
      "Peer_Massague_2020 \t \t 18894 18453 441\n",
      "Lafyatis_2019 \t \t 21921 21304 617\n",
      "Tata_unpubl \t \t 31073 30229 844\n",
      "Xu_2020 \t \t 31504 30598 906\n",
      "Sims_2019 \t \t 55250 53984 1266\n",
      "Schultze_unpubl \t \t 23895 23397 498\n"
     ]
    }
   ],
   "source": [
    "for ddd in only_matches:\n",
    "    db_1to1 = [l for c, t in only_matches[ddd].items() for l in t if len(t) == 1]\n",
    "    print(ddd, '\\t','\\t', len(db_1to1), len(set(db_1to1)), len(db_1to1)-len(set(db_1to1)))"
   ]
  },
  {
   "cell_type": "code",
   "execution_count": 8,
   "id": "d47541af-795a-4281-b39a-fccb28c3662a",
   "metadata": {},
   "outputs": [
    {
     "data": {
      "text/plain": [
       "array(['ENSG00000006042.12', 'ENSG00000104643.10', 'ENSG00000013573.17',\n",
       "       'ENSG00000196734.9', 'ENSG00000132207.18', 'ENSG00000129071.10',\n",
       "       'ENSG00000015568.13', 'ENSG00000169710.9', 'ENSG00000231924.10',\n",
       "       'ENSG00000159131.17'], dtype='<U18')"
      ]
     },
     "execution_count": 8,
     "metadata": {},
     "output_type": "execute_result"
    }
   ],
   "source": [
    "klk = [i for i in db_1to1 if db_1to1.count(i) > 1]\n",
    "np.array(klk[:10])"
   ]
  },
  {
   "cell_type": "code",
   "execution_count": null,
   "id": "d0134d45-71d5-4a97-9f26-479ba5ba8b0a",
   "metadata": {},
   "outputs": [],
   "source": [
    "print(\"Worked flawlessly\")"
   ]
  },
  {
   "cell_type": "code",
   "execution_count": 26,
   "id": "315db40c-83c2-42df-88a3-4b570802bbe4",
   "metadata": {},
   "outputs": [
    {
     "name": "stdout",
     "output_type": "stream",
     "text": [
      "[]\n",
      "[]\n"
     ]
    },
    {
     "name": "stderr",
     "output_type": "stream",
     "text": [
      "2022-08-15 16:44:03 WARNING:track: Number of converted IDs with small modifications: 18\n",
      "2022-08-15 16:44:03 WARNING:track: Number of IDs not found in the graph: 50\n"
     ]
    },
    {
     "name": "stdout",
     "output_type": "stream",
     "text": [
      "['ABCF2-1', 'ATXN7-1', 'CCDC39-1', 'COG8-1', 'CYB561D2-1', 'DIABLO-1', 'EMG1-1', 'H2BFS-1', 'HSPA14-1', 'IGF2-1']\n"
     ]
    },
    {
     "name": "stderr",
     "output_type": "stream",
     "text": [
      "2022-08-15 16:44:20 WARNING:track: Number of IDs not found in the graph: 7\n"
     ]
    },
    {
     "name": "stdout",
     "output_type": "stream",
     "text": [
      "['TBCE-1', 'MATR3-1', 'TMSB15B-1', 'HSPA14-1', 'GOLGA8M-1', 'CYB561D2-1', 'CDC20Bshort']\n"
     ]
    },
    {
     "name": "stderr",
     "output_type": "stream",
     "text": [
      "2022-08-15 16:44:20 WARNING:track: Number of IDs not found in the graph: 48\n"
     ]
    },
    {
     "name": "stdout",
     "output_type": "stream",
     "text": [
      "['ABCF2_ENSG00000033050', 'ATXN7_ENSG00000163635', 'CCDC39_ENSG00000145075', 'COG8_ENSG00000272617', 'CYB561D2_ENSG00000271858', 'DIABLO_ENSG00000184047', 'EMG1_ENSG00000268439', 'HSPA14_ENSG00000187522', 'IGF2_ENSG00000167244', 'LINC01238_ENSG00000261186']\n",
      "[]\n"
     ]
    },
    {
     "name": "stderr",
     "output_type": "stream",
     "text": [
      "2022-08-15 16:44:32 WARNING:track: Number of converted IDs with small modifications: 18\n"
     ]
    },
    {
     "name": "stdout",
     "output_type": "stream",
     "text": [
      "[]\n"
     ]
    },
    {
     "name": "stderr",
     "output_type": "stream",
     "text": [
      "2022-08-15 16:44:36 WARNING:track: Number of converted IDs with small modifications: 34\n"
     ]
    },
    {
     "name": "stdout",
     "output_type": "stream",
     "text": [
      "[]\n"
     ]
    },
    {
     "name": "stderr",
     "output_type": "stream",
     "text": [
      "2022-08-15 16:44:40 WARNING:track: Number of IDs not found in the graph: 20\n"
     ]
    },
    {
     "name": "stdout",
     "output_type": "stream",
     "text": [
      "['RGS5-1', 'ATRIP-1', 'CYB561D2-1', 'CFAP99-1', 'MATR3-1', 'ECSCR-1', 'BLOC1S5-1', 'PRICKLE4-1', 'RAET1E-AS1-1', 'PGM5-AS1-1']\n"
     ]
    },
    {
     "name": "stderr",
     "output_type": "stream",
     "text": [
      "2022-08-15 16:44:46 WARNING:track: Number of converted IDs with small modifications: 17\n",
      "2022-08-15 16:44:46 WARNING:track: Number of IDs not found in the graph: 12\n"
     ]
    },
    {
     "name": "stdout",
     "output_type": "stream",
     "text": [
      "['SARS-CoV-2-Antisense', 'SARS-CoV-2-E', 'SARS-CoV-2-M', 'SARS-CoV-2-N', 'SARS-CoV-2-ORF10', 'SARS-CoV-2-ORF1ab', 'SARS-CoV-2-ORF3a', 'SARS-CoV-2-ORF6', 'SARS-CoV-2-ORF7a', 'SARS-CoV-2-ORF7b']\n"
     ]
    },
    {
     "name": "stderr",
     "output_type": "stream",
     "text": [
      "2022-08-15 16:44:48 WARNING:track: Number of converted IDs with small modifications: 24\n"
     ]
    },
    {
     "name": "stdout",
     "output_type": "stream",
     "text": [
      "[]\n",
      "[]\n"
     ]
    },
    {
     "name": "stderr",
     "output_type": "stream",
     "text": [
      "2022-08-15 16:45:02 WARNING:track: Number of converted IDs with small modifications: 12\n"
     ]
    },
    {
     "name": "stdout",
     "output_type": "stream",
     "text": [
      "[]\n"
     ]
    },
    {
     "name": "stderr",
     "output_type": "stream",
     "text": [
      "2022-08-15 16:45:07 WARNING:track: Number of converted IDs with small modifications: 24\n"
     ]
    },
    {
     "name": "stdout",
     "output_type": "stream",
     "text": [
      "[]\n"
     ]
    },
    {
     "name": "stderr",
     "output_type": "stream",
     "text": [
      "2022-08-15 16:45:08 WARNING:track: Number of converted IDs with small modifications: 12\n"
     ]
    },
    {
     "name": "stdout",
     "output_type": "stream",
     "text": [
      "[]\n"
     ]
    },
    {
     "name": "stderr",
     "output_type": "stream",
     "text": [
      "2022-08-15 16:45:09 WARNING:track: Number of converted IDs with small modifications: 33\n",
      "2022-08-15 16:45:09 WARNING:track: Number of IDs not found in the graph: 235\n"
     ]
    },
    {
     "name": "stdout",
     "output_type": "stream",
     "text": [
      "['ANP32A-IT1', 'ASAP1-IT1', 'BIN3-IT1', 'BRE-AS1', 'C10ORF10', 'C10ORF32-ASMT', 'C11ORF31', 'C11ORF58', 'C11ORF95', 'C12ORF44']\n"
     ]
    },
    {
     "name": "stderr",
     "output_type": "stream",
     "text": [
      "2022-08-15 16:45:13 WARNING:track: Number of converted IDs with small modifications: 113\n"
     ]
    },
    {
     "name": "stdout",
     "output_type": "stream",
     "text": [
      "[]\n"
     ]
    },
    {
     "name": "stderr",
     "output_type": "stream",
     "text": [
      "2022-08-15 16:45:13 WARNING:track: Number of IDs not found in the graph: 24\n"
     ]
    },
    {
     "name": "stdout",
     "output_type": "stream",
     "text": [
      "['AC005152.2', 'AC016683.6', 'AP003068.6', 'CTC-349C3.1', 'CTC-360G5.1', 'RP11-122A3.2', 'RP13-996F3.5', 'ERCC-00134', 'ERCC-00165', 'ERCC-00171']\n"
     ]
    },
    {
     "name": "stderr",
     "output_type": "stream",
     "text": [
      "2022-08-15 16:45:16 WARNING:track: Number of IDs not found in the graph: 19\n"
     ]
    },
    {
     "name": "stdout",
     "output_type": "stream",
     "text": [
      "['RGS5-1', 'ATRIP-1', 'CYB561D2-1', 'CFAP99-1', 'MATR3-1', 'ECSCR-1', 'BLOC1S5-1', 'RAET1E-AS1-1', 'PGM5-AS1-1', 'TIMM10B-1']\n"
     ]
    },
    {
     "name": "stderr",
     "output_type": "stream",
     "text": [
      "2022-08-15 16:45:17 WARNING:track: Number of IDs not found in the graph: 8\n"
     ]
    },
    {
     "name": "stdout",
     "output_type": "stream",
     "text": [
      "['AC005152.2', 'AC016683.6', 'AP003068.6', 'CTC-349C3.1', 'CTC-360G5.1', 'RP11-122A3.2', 'RP11-495P10.2', 'MIR3676']\n"
     ]
    },
    {
     "name": "stderr",
     "output_type": "stream",
     "text": [
      "2022-08-15 16:45:19 WARNING:track: Number of IDs not found in the graph: 13\n"
     ]
    },
    {
     "name": "stdout",
     "output_type": "stream",
     "text": [
      "['TBCE-1', 'ATXN7-1', 'AHRR-1', 'MATR3-1', 'SMIM40-1', 'SOD2-1', 'POLR2J3-1', 'ABCF2-1', 'TMSB15B-1', 'PINX1-1']\n"
     ]
    },
    {
     "name": "stderr",
     "output_type": "stream",
     "text": [
      "2022-08-15 16:45:20 WARNING:track: Number of IDs not found in the graph: 69\n"
     ]
    },
    {
     "name": "stdout",
     "output_type": "stream",
     "text": [
      "['BP-21264C1.2', 'C10ORF10', 'C11ORF31', 'C11ORF58', 'C11ORF95', 'C11ORF97', 'C11ORF98', 'C12ORF75', 'C14ORF169', 'C14ORF2']\n"
     ]
    },
    {
     "name": "stderr",
     "output_type": "stream",
     "text": [
      "2022-08-15 16:45:21 WARNING:track: Number of IDs not found in the graph: 3\n"
     ]
    },
    {
     "name": "stdout",
     "output_type": "stream",
     "text": [
      "['RGS5-1', 'CYB561D2-1', 'MATR3-1']\n"
     ]
    },
    {
     "name": "stderr",
     "output_type": "stream",
     "text": [
      "2022-08-15 16:45:23 WARNING:track: Number of IDs not found in the graph: 7\n"
     ]
    },
    {
     "name": "stdout",
     "output_type": "stream",
     "text": [
      "['TBCE-1', 'LINC01238-1', 'CYB561D2-1', 'MATR3-1', 'TMSB15B-1', 'LINC01505-1', 'HSPA14-1']\n"
     ]
    },
    {
     "name": "stderr",
     "output_type": "stream",
     "text": [
      "2022-08-15 16:45:24 WARNING:track: Number of IDs not found in the graph: 95\n"
     ]
    },
    {
     "name": "stdout",
     "output_type": "stream",
     "text": [
      "['U1-1', 'EFNA3-1', 'DCAF8-1', 'MRPL30-1', 'LIMS3-1', 'KRBOX1-1', 'TLR9-1', 'RPP14-1', 'CRYBG3-1', 'TM4SF19-1']\n"
     ]
    },
    {
     "name": "stderr",
     "output_type": "stream",
     "text": [
      "2022-08-15 16:45:25 WARNING:track: Number of IDs not found in the graph: 1881\n"
     ]
    },
    {
     "name": "stdout",
     "output_type": "stream",
     "text": [
      "['U3-1', 'Y_RNA-1', 'Y_RNA-2', 'SCARNA17-1', 'SNORA40-1', 'Metazoa_SRP-1', 'Y_RNA-3', 'Metazoa_SRP-2', 'Y_RNA-4', 'Metazoa_SRP-3']\n"
     ]
    },
    {
     "name": "stderr",
     "output_type": "stream",
     "text": [
      "2022-08-15 16:45:25 WARNING:track: Number of converted IDs with small modifications: 1\n"
     ]
    },
    {
     "name": "stdout",
     "output_type": "stream",
     "text": [
      "[]\n"
     ]
    }
   ],
   "source": [
    "for ddadaata in result:\n",
    "    #ddadaata = \"Tata_unpubl\"\n",
    "    adata = sc.read(adata_dict[ddadaata][0])\n",
    "    gene_list = list(adata.var.index)\n",
    "    gene_list_filtered, gene_list_converted, gene_list_lost = tt.unfound_correct(list(adata.var.index))\n",
    "    print(gene_list_lost[:10])"
   ]
  },
  {
   "cell_type": "code",
   "execution_count": 44,
   "id": "75f44513-0694-45e6-9b35-3e7688e272bd",
   "metadata": {},
   "outputs": [
    {
     "data": {
      "text/plain": [
       "True"
      ]
     },
     "execution_count": 44,
     "metadata": {},
     "output_type": "execute_result"
    }
   ],
   "source": [
    "'SCARNA17' in tt.graph.nodes"
   ]
  },
  {
   "cell_type": "code",
   "execution_count": 45,
   "id": "755dfe39-aa0b-4366-908e-7658482d2aec",
   "metadata": {},
   "outputs": [
    {
     "name": "stderr",
     "output_type": "stream",
     "text": [
      "2022-08-15 17:05:15 WARNING:track: Number of IDs not found in the graph: 1881\n"
     ]
    },
    {
     "name": "stdout",
     "output_type": "stream",
     "text": [
      "['U3-1', 'Y_RNA-1', 'Y_RNA-2', 'SCARNA17-1', 'SNORA40-1', 'Metazoa_SRP-1', 'Y_RNA-3', 'Metazoa_SRP-2', 'Y_RNA-4', 'Metazoa_SRP-3']\n"
     ]
    }
   ],
   "source": [
    "ddadaata = \"Sims_2019\"\n",
    "adata = sc.read(adata_dict[ddadaata][0])\n",
    "gene_list = list(adata.var.index)\n",
    "gene_list_filtered, gene_list_converted, gene_list_lost = tt.unfound_correct(list(adata.var.index))\n",
    "print(gene_list_lost[:10])"
   ]
  },
  {
   "cell_type": "code",
   "execution_count": 68,
   "id": "0892f3c2-55aa-4060-acaf-bd2cf050cf17",
   "metadata": {},
   "outputs": [
    {
     "data": {
      "text/plain": [
       "False"
      ]
     },
     "execution_count": 68,
     "metadata": {},
     "output_type": "execute_result"
    }
   ],
   "source": [
    "\"SCARNA17-2\" in tt.graph.nodes"
   ]
  },
  {
   "cell_type": "code",
   "execution_count": 147,
   "id": "e58a9c3c-cf9f-4e93-94c1-5ab5a79d8c25",
   "metadata": {},
   "outputs": [
    {
     "data": {
      "text/plain": [
       "3465"
      ]
     },
     "execution_count": 147,
     "metadata": {},
     "output_type": "execute_result"
    }
   ],
   "source": [
    "l=[i for i in result[ddadaata] if result[ddadaata][i] is None]\n",
    "len(l)"
   ]
  },
  {
   "cell_type": "code",
   "execution_count": 151,
   "id": "c319fd95-e389-443d-8eeb-af9f8600b06a",
   "metadata": {},
   "outputs": [
    {
     "data": {
      "text/plain": [
       "{'ENSG00000249406.3': [-1, -1, nan, 1, 0, 11]}"
      ]
     },
     "execution_count": 151,
     "metadata": {},
     "output_type": "execute_result"
    }
   ],
   "source": [
    "tt.convert(l[1], 107, None, 'ensembl_gene', return_path=False, prioritize_to_one_filter=True)"
   ]
  },
  {
   "cell_type": "code",
   "execution_count": null,
   "id": "c14f2142-a78a-4cfa-bfd2-974f734532e3",
   "metadata": {},
   "outputs": [],
   "source": []
  },
  {
   "cell_type": "code",
   "execution_count": null,
   "id": "83c8f18e-f529-4259-824f-a4f46c1d4ae8",
   "metadata": {},
   "outputs": [],
   "source": []
  },
  {
   "cell_type": "code",
   "execution_count": null,
   "id": "3644d379-9f40-4d12-a611-95193baa89e8",
   "metadata": {},
   "outputs": [],
   "source": []
  },
  {
   "cell_type": "code",
   "execution_count": null,
   "id": "46fd4209-47eb-4b69-923b-0d37548770e1",
   "metadata": {},
   "outputs": [],
   "source": []
  },
  {
   "cell_type": "code",
   "execution_count": null,
   "id": "42c53eeb-48cc-4c59-85d8-94e5ddf4515c",
   "metadata": {},
   "outputs": [],
   "source": [
    "ddad = \"Schultze_unpubl\"\n",
    "only_matches = {ddad: {k: list(i.keys()) if i is not None else [] for k, i in result[ddad].items()}}\n",
    "for ddd in only_matches:\n",
    "    db_1to1 = [l for c, t in only_matches[ddd].items() for l in t if len(t) == 1]\n",
    "    print(ddd, '\\t','\\t', len(db_1to1), len(set(db_1to1)), len(db_1to1)-len(set(db_1to1)))\n",
    "klk = [i for i in db_1to1 if db_1to1.count(i) > 1]\n",
    "np.array(klk[:10])"
   ]
  },
  {
   "cell_type": "code",
   "execution_count": 54,
   "id": "dbaeb6cc-c3c7-42fb-9635-42b745668615",
   "metadata": {},
   "outputs": [
    {
     "data": {
      "text/plain": [
       "{'ENSG00000068654.17': [1,\n",
       "  1,\n",
       "  0.9793575999999999,\n",
       "  5,\n",
       "  (('POLR1A', 'ENSG00000068654.14', 0, ('ensembl_gene', 80)),\n",
       "   ('ENSG00000068654.14', 'ENSG00000068654.15', 0),\n",
       "   ('ENSG00000068654.15', 'ENSG00000068654.16', 0),\n",
       "   ('ENSG00000068654.16', 'ENSG00000068654.16', 0),\n",
       "   ('ENSG00000068654.16', 'ENSG00000068654.16', 1),\n",
       "   ('ENSG00000068654.16', 'ENSG00000068654.17', 0))],\n",
       " 'ENSG00000132383.12': [1,\n",
       "  3,\n",
       "  0.9870546666666667,\n",
       "  3,\n",
       "  (('POLR1A', 'ENSG00000068654.11', 0, ('assembly_37_ensembl_gene', 80)),\n",
       "   ('ENSG00000068654.11', 'RPA1', 0, ('external', 80)),\n",
       "   ('RPA1', 'ENSG00000132383.10', 0, ('ensembl_gene', 80)),\n",
       "   ('ENSG00000132383.10', 'ENSG00000132383.11', 0),\n",
       "   ('ENSG00000132383.11', 'ENSG00000132383.12', 0),\n",
       "   ('ENSG00000132383.12', 'ENSG00000132383.12', 0))]}"
      ]
     },
     "execution_count": 54,
     "metadata": {},
     "output_type": "execute_result"
    }
   ],
   "source": [
    "tt.convert(\"POLR1A\", None, None, 'ensembl_gene', return_path=True, prioritize_to_one_filter=False)"
   ]
  },
  {
   "cell_type": "code",
   "execution_count": 55,
   "id": "113be5f6-31b2-405f-8f7a-4c64a8b5977b",
   "metadata": {},
   "outputs": [
    {
     "data": {
      "text/plain": [
       "{'ENSG00000132383.12': [1,\n",
       "  1,\n",
       "  0.9870546666666667,\n",
       "  3,\n",
       "  (('RPA1', 'ENSG00000132383.10', 0, ('ensembl_gene', 80)),\n",
       "   ('ENSG00000132383.10', 'ENSG00000132383.11', 0),\n",
       "   ('ENSG00000132383.11', 'ENSG00000132383.12', 0),\n",
       "   ('ENSG00000132383.12', 'ENSG00000132383.12', 0))],\n",
       " 'ENSG00000068654.17': [1,\n",
       "  1,\n",
       "  0.9793575999999999,\n",
       "  5,\n",
       "  (('RPA1', 'ENSG00000068654.14', 0, ('ensembl_gene', 80)),\n",
       "   ('ENSG00000068654.14', 'ENSG00000068654.15', 0),\n",
       "   ('ENSG00000068654.15', 'ENSG00000068654.16', 0),\n",
       "   ('ENSG00000068654.16', 'ENSG00000068654.16', 0),\n",
       "   ('ENSG00000068654.16', 'ENSG00000068654.16', 1),\n",
       "   ('ENSG00000068654.16', 'ENSG00000068654.17', 0))]}"
      ]
     },
     "execution_count": 55,
     "metadata": {},
     "output_type": "execute_result"
    }
   ],
   "source": [
    "tt.convert(\"RPA1\", None, None, 'ensembl_gene', return_path=True, prioritize_to_one_filter=False)"
   ]
  },
  {
   "cell_type": "code",
   "execution_count": null,
   "id": "694d3edc-2ae8-4fdc-936b-0ab393592a9d",
   "metadata": {},
   "outputs": [],
   "source": []
  },
  {
   "cell_type": "code",
   "execution_count": 64,
   "id": "89e9c971-ea7c-4da9-86e1-9a1eb1f52d11",
   "metadata": {},
   "outputs": [
    {
     "data": {
      "text/plain": [
       "{(('PAK6', 'ENSG00000137843.12', 0, ('ensembl_gene', 97)),),\n",
       " (('PAK6', 'ENSG00000137843.7', 0, ('assembly_37_ensembl_gene', 102)),\n",
       "  ('ENSG00000137843.7', 'PAK5', 0, ('external', 102)),\n",
       "  ('PAK5', 'ENSG00000101349.17', 0, ('ensembl_gene', 102)))}"
      ]
     },
     "execution_count": 64,
     "metadata": {},
     "output_type": "execute_result"
    }
   ],
   "source": [
    "all_paths: set = set()\n",
    "tt._recursive_path_search(\"PAK6\", 107, 107, all_paths, False, DB.external_search_settings, external_jump=np.inf)\n",
    "all_paths"
   ]
  },
  {
   "cell_type": "code",
   "execution_count": 53,
   "id": "6fbb7abc-2e17-472f-85b4-387729ce8a66",
   "metadata": {},
   "outputs": [
    {
     "data": {
      "text/plain": [
       "{'ENSG00000068654.17': [1,\n",
       "  1,\n",
       "  0.9793575999999999,\n",
       "  5,\n",
       "  (('POLR1A', 'ENSG00000068654.14', 0, ('ensembl_gene', 80)),\n",
       "   ('ENSG00000068654.14', 'ENSG00000068654.15', 0),\n",
       "   ('ENSG00000068654.15', 'ENSG00000068654.16', 0),\n",
       "   ('ENSG00000068654.16', 'ENSG00000068654.16', 0),\n",
       "   ('ENSG00000068654.16', 'ENSG00000068654.16', 1),\n",
       "   ('ENSG00000068654.16', 'ENSG00000068654.17', 0))],\n",
       " 'ENSG00000132383.12': [1,\n",
       "  3,\n",
       "  0.9870546666666667,\n",
       "  3,\n",
       "  (('POLR1A', 'ENSG00000068654.11', 0, ('assembly_37_ensembl_gene', 80)),\n",
       "   ('ENSG00000068654.11', 'RPA1', 0, ('external', 80)),\n",
       "   ('RPA1', 'ENSG00000132383.10', 0, ('ensembl_gene', 80)),\n",
       "   ('ENSG00000132383.10', 'ENSG00000132383.11', 0),\n",
       "   ('ENSG00000132383.11', 'ENSG00000132383.12', 0),\n",
       "   ('ENSG00000132383.12', 'ENSG00000132383.12', 0))]}"
      ]
     },
     "execution_count": 53,
     "metadata": {},
     "output_type": "execute_result"
    }
   ],
   "source": [
    "tt.convert(\"POLR1A\", 79, None, 'ensembl_gene', return_path=True, prioritize_to_one_filter=False)"
   ]
  },
  {
   "cell_type": "code",
   "execution_count": 75,
   "id": "9c651fab-f93f-40e5-88af-fa9106268cd2",
   "metadata": {},
   "outputs": [
    {
     "data": {
      "text/plain": [
       "{'ENSG00000137843.12': [1, 1, 0.99267325, 4],\n",
       " 'ENSG00000259288.7': [1, 1, 0.6713326666666667, 3],\n",
       " 'ENSG00000101349.17': [1, 1, 0.9972175, 2]}"
      ]
     },
     "execution_count": 75,
     "metadata": {},
     "output_type": "execute_result"
    }
   ],
   "source": [
    "tt.convert(\"PAK5\", 79, None, 'ensembl_gene', return_path=False, prioritize_to_one_filter=False)\n",
    "## bu neden 1 varken 2'yi de aldi amk"
   ]
  },
  {
   "cell_type": "code",
   "execution_count": 71,
   "id": "5e7f2bbf-b0f9-48b7-b256-fdd45f06af01",
   "metadata": {},
   "outputs": [
    {
     "data": {
      "text/plain": [
       "{'ENSG00000259288.7': [1, 1, 0.6713326666666667, 3],\n",
       " 'ENSG00000101349.17': [1, 3, 0.9972175, 2],\n",
       " 'ENSG00000137843.12': [1, 1, 0.99267325, 4]}"
      ]
     },
     "execution_count": 71,
     "metadata": {},
     "output_type": "execute_result"
    }
   ],
   "source": [
    "tt.convert(\"PAK6\", 79, None, 'ensembl_gene', return_path=False, prioritize_to_one_filter=False)\n",
    "## bu neden 1 varken 2'yi de aldi amk"
   ]
  },
  {
   "cell_type": "code",
   "execution_count": 31,
   "id": "1dbd4d4b-8805-4e90-a679-84904577b7f3",
   "metadata": {},
   "outputs": [
    {
     "data": {
      "text/plain": [
       "('forward', 107)"
      ]
     },
     "execution_count": 31,
     "metadata": {},
     "output_type": "execute_result"
    }
   ],
   "source": [
    "tt.should_graph_reversed(\"PAK6\", 107)"
   ]
  },
  {
   "cell_type": "code",
   "execution_count": 47,
   "id": "9a2d6876-2685-44d7-bcbb-b2fa9de5aa6a",
   "metadata": {},
   "outputs": [
    {
     "data": {
      "text/plain": [
       "[[79, 107]]"
      ]
     },
     "execution_count": 47,
     "metadata": {},
     "output_type": "execute_result"
    }
   ],
   "source": [
    "tt.get_active_ranges_of_id_others(\"PAK6\")"
   ]
  },
  {
   "cell_type": "code",
   "execution_count": 14,
   "id": "010955cf-e6e9-42c4-a8d3-de83bf7260a2",
   "metadata": {},
   "outputs": [
    {
     "name": "stdout",
     "output_type": "stream",
     "text": [
      "{'ENSG00000010810.17': [-1, -1, 7, 0, 29, (('FYN', 'ENSG00000010810.17', 0, ('ensembl_gene', 81)),)]}\n",
      "{'ENSG00000010810.17': [-1, -3, 7, 0, 29, (('AC036108.1', 'ENSG00000269283.1', 0, ('assembly_37_ensembl_gene', 81)), ('ENSG00000269283.1', 'SYN', 0, ('external', 81)), ('SYN', 'ENSG00000010810.17', 0, ('ensembl_gene', 81)))]}\n",
      "{'ENSG00000010810.17': [-1, -1, 7, 0, 29, (('SLK', 'ENSG00000010810.17', 0, ('ensembl_gene', 81)),)]}\n",
      "\n",
      "{'ENSG00000233694.6': [-1, -1, 3, 0, 2, (('AC007365.1', 'ENSG00000233694.6', 0, ('ensembl_gene', 97)),)]}\n",
      "{'ENSG00000233694.6': [-1, -1, 3, 0, 2, (('LINC02579', 'ENSG00000233694.6', 0, ('ensembl_gene', 97)),)]}\n",
      "\n",
      "{'ENSG00000250751.1': [-1, -1, 4, 0, 1, (('AC015795.1', 'ENSG00000250751.1', 0, ('ensembl_gene', 79)),)]}\n",
      "{'ENSG00000250751.1': [-1, -1, 4, 0, 1, (('AC015795.2', 'ENSG00000250751.1', 0, ('ensembl_gene', 79)),)]}\n",
      "\n",
      "{'ENSG00000108684.15': [-1, -1, 9, 0, 5, (('ASIC2', 'ENSG00000108684.15', 0, ('ensembl_gene', 102)),)]}\n",
      "{'ENSG00000108684.15': [-1, -1, 9, 0, 5, (('BNC1', 'ENSG00000108684.15', 0, ('ensembl_gene', 102)),)]}\n",
      "\n",
      "{'ENSG00000126432.14': [-1, -1, 13, 0, 3, (('PRDX5', 'ENSG00000126432.14', 0, ('ensembl_gene', 96)),)]}\n",
      "{'ENSG00000126432.14': [-1, -1, 13, 0, 3, (('PRDX6', 'ENSG00000126432.14', 0, ('ensembl_gene', 96)),)]}\n",
      "\n",
      "{'ENSG00000282418.1': [-1, -1, 4, 0, 1, (('AC092811.2', 'ENSG00000282418.1', 0, ('ensembl_gene', 81)),)]}\n",
      "{'ENSG00000282418.1': [-1, -1, 4, 0, 1, (('AC092811.1', 'ENSG00000282418.1', 0, ('ensembl_gene', 81)),)]}\n",
      "\n",
      "{'ENSG00000167780.12': [-1, -1, 3, 0, 3, (('ACAT2', 'ENSG00000167780.12', 0, ('ensembl_gene', 96)),)]}\n",
      "{'ENSG00000167780.12': [-1, -1, 3, 0, 3, (('SOAT2', 'ENSG00000167780.12', 0, ('ensembl_gene', 96)),)]}\n",
      "\n",
      "{'ENSG00000137843.12': [-1, -1, 5, 0, 21, (('PAK6', 'ENSG00000137843.12', 0, ('ensembl_gene', 97)),)]}\n",
      "{'ENSG00000137843.12': [-1, -1, 5, 0, 21, (('PAK5', 'ENSG00000137843.12', 0, ('ensembl_gene', 97)),)]}\n",
      "\n",
      "{'ENSG00000260537.2': [-1, -1, 5, 0, 3, (('DDX19B', 'ENSG00000260537.2', 0, ('ensembl_gene', 83)),)]}\n",
      "{'ENSG00000260537.2': [-1, -1, 5, 0, 3, (('AC012184.2', 'ENSG00000260537.2', 0, ('ensembl_gene', 83)),)]}\n",
      "\n",
      "{'ENSG00000119630.14': [-1, -1, 8, 0, 8, (('PGF', 'ENSG00000119630.14', 0, ('ensembl_gene', 96)),)]}\n",
      "{'ENSG00000119630.14': [-1, -1, 8, 0, 8, (('PIGF', 'ENSG00000119630.14', 0, ('ensembl_gene', 96)),)]}\n",
      "\n",
      "{'ENSG00000236915.3': [-1, -1, 2, 0, 5, (('AL356270.1', 'ENSG00000236915.2', 0, ('ensembl_gene', 106)), ('ENSG00000236915.2', 'ENSG00000236915.3', 0))]}\n",
      "{'ENSG00000236915.3': [-1, -1, 2, 0, 5, (('AL049597.2', 'ENSG00000261737.1', 0, ('ensembl_gene', 106)), ('ENSG00000261737.1', 'ENSG00000236915.3', 0))]}\n",
      "\n",
      "{'ENSG00000171522.6': [-1, -1, 3, 0, 5, (('PTGER2', 'ENSG00000171522.5', 0, ('ensembl_gene', 95)), ('ENSG00000171522.5', 'ENSG00000171522.6', 0), ('ENSG00000171522.6', 'ENSG00000171522.6', 0), ('ENSG00000171522.6', 'ENSG00000171522.6', 1))]}\n",
      "{'ENSG00000171522.6': [-1, -1, 3, 0, 5, (('PTGER4', 'ENSG00000171522.6', 0, ('ensembl_gene', 96)),)]}\n",
      "\n",
      "{'ENSG00000068654.17': [-1, -1, 7, 0, 15, (('POLR1A', 'ENSG00000068654.17', 0, ('ensembl_gene', 104)),)]}\n",
      "{'ENSG00000068654.17': [-1, -1, 7, 0, 15, (('RPA1', 'ENSG00000068654.17', 0, ('ensembl_gene', 104)),)]}\n",
      "\n",
      "{'ENSG00000162947.5': [-1, -1, 2, 0, 4, (('AC007364.1', 'ENSG00000162947.4', 0, ('ensembl_gene', 96)), ('ENSG00000162947.4', 'ENSG00000162947.5', 0), ('ENSG00000162947.5', 'ENSG00000162947.5', 0), ('ENSG00000162947.5', 'ENSG00000162947.5', 1), ('ENSG00000162947.5', 'ENSG00000162947.5', 2))]}\n",
      "{'ENSG00000162947.5': [-1, -1, 2, 0, 4, (('LINC01931', 'ENSG00000162947.5', 0, ('ensembl_gene', 97)),)]}\n",
      "\n",
      "{'ENSG00000244734.4': [-1, -1, 4, 0, 6, (('HBB', 'ENSG00000244734.4', 0, ('ensembl_gene', 92)),)]}\n",
      "{'ENSG00000244734.4': [-1, -1, 4, 0, 6, (('HBD', 'ENSG00000244734.2', 0, ('ensembl_gene', 80)), ('ENSG00000244734.2', 'ENSG00000244734.3', 0), ('ENSG00000244734.3', 'ENSG00000244734.4', 0))]}\n",
      "\n",
      "{'ENSG00000271335.6': [-1, -1, 2, 0, 3, (('AL117336.3', 'ENSG00000271335.5', 0, ('ensembl_gene', 96)), ('ENSG00000271335.5', 'ENSG00000271335.6', 0), ('ENSG00000271335.6', 'ENSG00000271335.6', 0), ('ENSG00000271335.6', 'ENSG00000271335.6', 1), ('ENSG00000271335.6', 'ENSG00000271335.6', 2))]}\n",
      "{'ENSG00000271335.6': [-1, -1, 2, 0, 3, (('AL117336.2', 'ENSG00000271335.6', 0, ('ensembl_gene', 97)),)]}\n",
      "\n",
      "{'ENSG00000161395.14': [-1, -1, 7, 0, 11, (('PGAP3', 'ENSG00000161395.14', 0, ('ensembl_gene', 96)),)]}\n",
      "{'ENSG00000161395.14': [-1, -1, 7, 0, 11, (('PER1', 'ENSG00000161395.14', 0, ('ensembl_gene', 96)),)]}\n",
      "\n",
      "{'ENSG00000278558.5': [-1, -1, 3, 0, 7, (('TMEM191C', 'ENSG00000278558.5', 0, ('ensembl_gene', 98)),)]}\n",
      "{'ENSG00000278558.5': [-1, -1, 3, 0, 7, (('TMEM191B', 'ENSG00000278558.5', 0, ('ensembl_gene', 98)),)]}\n",
      "\n",
      "{'ENSG00000162734.13': [-1, -3, 10, 0, 4, (('NAGPA-AS1', 'ENSG00000033011.7', 0, ('assembly_37_ensembl_gene', 100)), ('ENSG00000033011.7', 'HMAT1', 0, ('external', 100)), ('HMAT1', 'ENSG00000162734.13', 0, ('ensembl_gene', 100)))]}\n",
      "{'ENSG00000162734.13': [-1, -1, 10, 0, 4, (('PEA15', 'ENSG00000162734.13', 0, ('ensembl_gene', 100)),)]}\n",
      "\n",
      "{'ENSG00000121931.16': [-1, -1, 5, 0, 3, (('LRIF1', 'ENSG00000121931.16', 0, ('ensembl_gene', 96)),)]}\n",
      "{'ENSG00000121931.16': [-1, -1, 5, 0, 3, (('RIF1', 'ENSG00000121931.16', 0, ('ensembl_gene', 96)),)]}\n",
      "\n"
     ]
    }
   ],
   "source": [
    "for jjj in range(20,40):\n",
    "    lll = [(c,t) for c, t in only_matches[ddd].items() if klk[jjj] in t]\n",
    "    for llll in [i for i, j in lll]:\n",
    "        print(tt.convert(llll, None, None, 'ensembl_gene', return_path=True, prioritize_to_one_filter=True))\n",
    "    print()"
   ]
  },
  {
   "cell_type": "code",
   "execution_count": null,
   "id": "ec110583-b868-4e87-8f7a-9deddf616a64",
   "metadata": {},
   "outputs": [],
   "source": []
  },
  {
   "cell_type": "code",
   "execution_count": null,
   "id": "d940db4c-f7c9-46fa-8966-1b00b472e6c4",
   "metadata": {},
   "outputs": [],
   "source": []
  },
  {
   "cell_type": "code",
   "execution_count": null,
   "id": "f791cfab-6a97-4a3a-903f-8bdea261c96d",
   "metadata": {},
   "outputs": [],
   "source": []
  },
  {
   "cell_type": "code",
   "execution_count": null,
   "id": "45d3ce57-467e-4d76-9a34-8e7a89c89363",
   "metadata": {},
   "outputs": [],
   "source": []
  },
  {
   "cell_type": "code",
   "execution_count": null,
   "id": "ba5fedec-f444-4894-8d2d-dac9b1188e7c",
   "metadata": {},
   "outputs": [],
   "source": []
  },
  {
   "cell_type": "code",
   "execution_count": null,
   "id": "b11d984d-f109-447d-a7a2-55361e09d0aa",
   "metadata": {},
   "outputs": [],
   "source": []
  },
  {
   "cell_type": "code",
   "execution_count": null,
   "id": "314d1ef5-383a-4f8d-b928-69eba6d1b209",
   "metadata": {},
   "outputs": [],
   "source": []
  },
  {
   "cell_type": "code",
   "execution_count": null,
   "id": "e18f88fc-1464-4a8f-bf3b-39a1381ce973",
   "metadata": {},
   "outputs": [],
   "source": []
  },
  {
   "cell_type": "code",
   "execution_count": null,
   "id": "e36a2af4-908b-4dc7-ace5-cb7af236628a",
   "metadata": {},
   "outputs": [],
   "source": []
  },
  {
   "cell_type": "code",
   "execution_count": null,
   "id": "f66ededb-9394-4cff-a295-c7beefb9592f",
   "metadata": {},
   "outputs": [],
   "source": []
  },
  {
   "cell_type": "code",
   "execution_count": 15,
   "id": "38e960de-cac3-4726-9779-3d44d61c8495",
   "metadata": {},
   "outputs": [
    {
     "name": "stderr",
     "output_type": "stream",
     "text": [
      "2022-08-12 22:26:23 INFO:dataset: Comparison data frame is being constructed for releases: [107, 106, 105, 104, 103, 102, 101, 100, 99, 98, 97, 96, 95, 94, 93, 92, 91, 90, 89, 88, 87, 86, 85, 84, 83, 82, 81, 80, 79].\n"
     ]
    }
   ],
   "source": [
    "rc37 = Dataset(dm.change_server(37), narrow_search=False).initialize_external_conversion()\n",
    "#rc38 = Dataset(dm.change_server(38), narrow_search=False).initialize_external_conversion()"
   ]
  },
  {
   "cell_type": "code",
   "execution_count": 16,
   "id": "ef88c388-cb1e-4384-906b-0f55c3c45552",
   "metadata": {},
   "outputs": [],
   "source": [
    "d=np.unique(rc37['id_db'])"
   ]
  },
  {
   "cell_type": "code",
   "execution_count": 17,
   "id": "90d52c90-d5a7-449a-956e-c6e2fe9c12fd",
   "metadata": {},
   "outputs": [
    {
     "data": {
      "text/plain": [
       "['XXyac-YX65C7_A.2', 'XXyac-YX65C7_A.3', 'XXyac-YX65C7_A.4']"
      ]
     },
     "execution_count": 17,
     "metadata": {},
     "output_type": "execute_result"
    }
   ],
   "source": [
    "[i for i in d if \"YX65C7\" in i]"
   ]
  },
  {
   "cell_type": "code",
   "execution_count": 18,
   "id": "28df4960-24f1-4683-bf0f-214fdec3ea12",
   "metadata": {},
   "outputs": [
    {
     "data": {
      "text/plain": [
       "True"
      ]
     },
     "execution_count": 18,
     "metadata": {},
     "output_type": "execute_result"
    }
   ],
   "source": [
    "\"PRED58\" in d"
   ]
  },
  {
   "cell_type": "code",
   "execution_count": 19,
   "id": "a7158d10-2270-4968-bebe-91eea4a40cfc",
   "metadata": {},
   "outputs": [],
   "source": [
    "amk = [i for i in a if i not in d]"
   ]
  },
  {
   "cell_type": "code",
   "execution_count": 20,
   "id": "3207fb20-9fbb-4df8-9a10-32e8610e9b55",
   "metadata": {},
   "outputs": [
    {
     "name": "stdout",
     "output_type": "stream",
     "text": [
      "58\n",
      "113\n"
     ]
    }
   ],
   "source": [
    "print(len([i for i in a if i in d]))\n",
    "print(len(amk))"
   ]
  },
  {
   "cell_type": "code",
   "execution_count": 21,
   "id": "a58ae56b-47cb-4db1-84ba-29efc0f13175",
   "metadata": {},
   "outputs": [
    {
     "data": {
      "text/plain": [
       "array(['RP11-442N24--B.1', 'RP11-99J16--A.2', 'RP11-59D5--B.2',\n",
       "       'RP11-445L13--B.3', 'RP11-544L8--B.4', 'XXyac-YX65C7-A.2',\n",
       "       'XXyac-YX65C7-A.3', 'RP11-524D16--A.3', 'RP11-453F18--B.1',\n",
       "       'Metazoa-SRP', 'Y-RNA', 'XX-DJ76P10--A.2', '5S-rRNA', 'Y-RNA.1',\n",
       "       'Y-RNA.2', 'RP11-1157N2--B.2', 'RP1-213J1P--B.1',\n",
       "       'RP1-213J1P--B.2', 'RP4-633O19--A.1', 'RP4-754E20--A.5',\n",
       "       'CTA-280A3--B.2'], dtype='<U16')"
      ]
     },
     "execution_count": 21,
     "metadata": {},
     "output_type": "execute_result"
    }
   ],
   "source": [
    "np.array([i for i in amk if i.split('.')[0] not in d])"
   ]
  },
  {
   "cell_type": "code",
   "execution_count": 22,
   "id": "ccf57d9a-88bd-4953-9fff-735f8d966b8e",
   "metadata": {},
   "outputs": [],
   "source": [
    "# sonra da combinatorial olarak _ to - degisikligi yap..\n",
    " \n",
    "# np.array([i for i in amk if i.split('.')[0] not in d])"
   ]
  },
  {
   "cell_type": "code",
   "execution_count": 23,
   "id": "429423d7-9aed-41c1-9ada-efc05c02ace7",
   "metadata": {},
   "outputs": [
    {
     "name": "stdout",
     "output_type": "stream",
     "text": [
      "0,1,2,3,4,5,6,7,8,9,10,11,12,13,14,15,16,17,18,19,20,21,22,23,24,25,26,27,28,29,30,31,32,33,34,35,36,37,38,39,40,41,42,43,44,45,46,47,48,49,50,51,52,53,54,55,56,57,"
     ]
    }
   ],
   "source": [
    "jkl = dict()\n",
    "askdnmkajsdn = rc37[\"name_db\"]\n",
    "for ind, i in enumerate([i for i in a if i in d]):\n",
    "    print(ind, end=\",\")\n",
    "    jkl[i] = set(askdnmkajsdn[rc37[\"id_db\"]==i])\n"
   ]
  },
  {
   "cell_type": "code",
   "execution_count": 24,
   "id": "3c4a8da9-9f39-402d-8ccf-7c6fa55748d9",
   "metadata": {},
   "outputs": [
    {
     "data": {
      "text/plain": [
       "array(['UniProtKB Gene Name', 'Uniprot_gn'], dtype=object)"
      ]
     },
     "execution_count": 24,
     "metadata": {},
     "output_type": "execute_result"
    }
   ],
   "source": [
    "np.unique(rc37[rc37[\"id_db\"] == 'FLJ27365'][\"name_db\"])"
   ]
  },
  {
   "cell_type": "code",
   "execution_count": 26,
   "id": "b0b815d9-b120-4e29-a9cb-616487383ddd",
   "metadata": {},
   "outputs": [],
   "source": [
    "ex=dm.create_external_all()"
   ]
  },
  {
   "cell_type": "code",
   "execution_count": null,
   "id": "d25781d6-96b0-4c77-be27-6d77f6e0e1ca",
   "metadata": {},
   "outputs": [],
   "source": []
  },
  {
   "cell_type": "code",
   "execution_count": 36,
   "id": "43631fa9-7fbc-415d-9244-1ef39a51acb4",
   "metadata": {},
   "outputs": [
    {
     "data": {
      "text/plain": [
       "array(['Clone_based_ensembl_gene', 'Clone_based_vega_gene', 'Havana gene',\n",
       "       'RFAM'], dtype=object)"
      ]
     },
     "execution_count": 36,
     "metadata": {},
     "output_type": "execute_result"
    }
   ],
   "source": [
    "np.unique(ex[ex['assembly'] == 37]['name_db'])"
   ]
  },
  {
   "cell_type": "code",
   "execution_count": null,
   "id": "63e9f313-e219-4e04-9029-dde276449eeb",
   "metadata": {},
   "outputs": [],
   "source": []
  },
  {
   "cell_type": "code",
   "execution_count": 91,
   "id": "f5c79c13-5507-43cc-88fc-9ded6802cb08",
   "metadata": {},
   "outputs": [
    {
     "data": {
      "text/plain": [
       "array(['RFAM'], dtype=object)"
      ]
     },
     "execution_count": 91,
     "metadata": {},
     "output_type": "execute_result"
    }
   ],
   "source": []
  },
  {
   "cell_type": "code",
   "execution_count": 57,
   "id": "20f67230-e086-43fb-811c-a2522ca3f488",
   "metadata": {},
   "outputs": [
    {
     "name": "stdout",
     "output_type": "stream",
     "text": [
      "0,1,2,3,4,5,6,7,8,9,10,11,12,13,14,15,16,17,18,19,20,21,22,23,24,25,26,27,28,29,30,31,32,33,34,35,36,37,38,39,40,41,42,43,44,45,46,47,48,49,50,51,52,53,54,55,56,57,58,59,60,61,62,63,64,65,66,67,68,69,70,71,72,73,74,75,76,77,78,79,80,81,82,83,84,85,86,87,88,89,90,91,92,93,94,95,96,97,98,99,100,101,102,103,104,105,106,107,108,109,110,111,112,113,114,115,116,117,118,119,120,121,122,123,124,125,126,127,128,129,130,131,132,133,134,135,136,137,138,139,140,141,142,143,144,145,146,147,148,149,150,151,152,153,154,155,156,157,158,159,160,161,162,163,164,165,166,167,168,169,170,171,172,173,174,175,176,177,178,179,180,181,182,183,184,185,186,187,188,189,190,191,192,193,194,195,196,197,198,199,200,201,202,203,204,205,206,207,208,209,210,211,212,213,214,215,216,217,218,219,220,221,222,223,224,225,226,227,228,229,230,231,232,233,234,235,236,237,238,239,240,241,242,243,244,245,246,247,248,249,250,251,252,253,254,255,256,257,258,259,260,261,262,263,264,265,266,267,268,269,270,271,272,273,274,275,276,277,278,279,280,281,282,283,284,285,286,287,288,289,290,291,292,293,294,295,296,297,298,299,300,301,302,303,304,305,306,307,308,309,310,311,312,313,314,315,316,317,318,319,320,321,322,323,324,325,326,327,328,329,330,331,332,333,334,335,336,337,338,339,340,341,342,343,344,345,346,347,348,349,350,351,352,353,354,355,356,357,358,359,360,361,362,363,364,365,366,367,368,369,370,371,372,373,374,375,376,377,378,379,380,381,382,383,384,385,386,387,388,389,390,391,392,393,394,395,396,397,398,399,400,401,402,403,404,405,406,407,408,409,410,411,412,413,414,415,416,417,418,419,420,421,422,423,424,425,426,427,428,429,430,431,432,433,434,435,436,437,438,439,440,441,442,443,444,445,446,447,448,449,450,451,452,453,454,455,456,457,458,459,460,461,462,463,464,465,466,467,468,469,470,471,472,473,474,475,476,477,478,479,480,481,482,483,484,485,486,487,488,489,490,491,492,493,494,495,496,497,498,499,500,501,502,503,504,505,506,507,508,509,510,511,512,513,514,515,516,517,518,519,520,521,522,523,524,525,526,527,528,529,530,531,532,533,534,535,536,537,538,539,540,541,542,543,544,545,546,547,548,549,550,551,552,553,554,555,556,557,558,559,560,561,562,563,564,565,566,567,568,569,570,571,572,573,574,575,576,577,578,579,580,581,582,583,584,585,586,587,588,589,590,591,592,593,594,595,596,597,598,599,600,601,602,603,604,605,606,607,608,609,610,611,612,613,614,615,616,617,618,619,620,621,622,623,624,625,626,627,628,629,630,631,632,633,634,635,636,"
     ]
    }
   ],
   "source": [
    "jkl = dict()\n",
    "askdnmkajsdn = rc37[\"name_db\"]\n",
    "for ind, i in enumerate(a):\n",
    "    print(ind, end=\",\")\n",
    "    jkl[i] = set(askdnmkajsdn[rc37[\"id_db\"]==i])\n"
   ]
  },
  {
   "cell_type": "code",
   "execution_count": 59,
   "id": "5107f64a-4e53-4bcf-98db-47194b1baa83",
   "metadata": {},
   "outputs": [
    {
     "data": {
      "text/plain": [
       "Counter({'Clone-based (Vega) gene': 377,\n",
       "         'Clone_based_vega_gene': 377,\n",
       "         'Clone-based (Vega)': 377,\n",
       "         'Clone-based (Ensembl) gene': 87,\n",
       "         'Clone-based (Ensembl)': 87,\n",
       "         'Clone_based_ensembl_gene': 87,\n",
       "         'EntrezGene': 41,\n",
       "         'Uniprot_gn': 42,\n",
       "         'HGNC Symbol': 20,\n",
       "         'NCBI gene (formerly Entrezgene)': 41,\n",
       "         'WikiGene': 17,\n",
       "         'UniProtKB Gene Name': 42,\n",
       "         'RFAM': 2})"
      ]
     },
     "execution_count": 59,
     "metadata": {},
     "output_type": "execute_result"
    }
   ],
   "source": [
    "Counter([j for i in jkl for j in jkl[i]])"
   ]
  },
  {
   "cell_type": "code",
   "execution_count": 6,
   "id": "5794a2b2-7b1d-4b3f-bae2-dffc5701f5ae",
   "metadata": {},
   "outputs": [],
   "source": [
    "df=dm.create_external_all()"
   ]
  },
  {
   "cell_type": "code",
   "execution_count": 5,
   "id": "4945368a-bc59-4787-ae79-7f0367e6a56f",
   "metadata": {},
   "outputs": [
    {
     "data": {
      "text/plain": [
       "['EntrezGene',\n",
       " 'UniProtKB Gene Name',\n",
       " 'NCBI gene (formerly Entrezgene)',\n",
       " 'HGNC Symbol']"
      ]
     },
     "execution_count": 5,
     "metadata": {},
     "output_type": "execute_result"
    }
   ],
   "source": [
    "ExternalDatabases(dm).give_list_for_case(give_type=\"db\")"
   ]
  },
  {
   "cell_type": "code",
   "execution_count": 8,
   "id": "bd562a80-eed3-4938-916c-1f849b7ce449",
   "metadata": {},
   "outputs": [
    {
     "data": {
      "text/plain": [
       "202607"
      ]
     },
     "execution_count": 8,
     "metadata": {},
     "output_type": "execute_result"
    }
   ],
   "source": [
    "np.sum(df['assembly']==38)"
   ]
  },
  {
   "cell_type": "code",
   "execution_count": 9,
   "id": "0d29fdf7-3a46-452d-9cfc-f4c370cdbff1",
   "metadata": {},
   "outputs": [
    {
     "data": {
      "text/plain": [
       "76298"
      ]
     },
     "execution_count": 9,
     "metadata": {},
     "output_type": "execute_result"
    }
   ],
   "source": [
    "np.sum(df['assembly']==37)"
   ]
  },
  {
   "cell_type": "code",
   "execution_count": 13,
   "id": "0322df34-d2a7-486a-a1da-cb32a55a0594",
   "metadata": {},
   "outputs": [
    {
     "data": {
      "text/plain": [
       "array(['Clone_based_ensembl_gene', 'Clone_based_vega_gene', 'Havana gene'],\n",
       "      dtype=object)"
      ]
     },
     "execution_count": 13,
     "metadata": {},
     "output_type": "execute_result"
    }
   ],
   "source": [
    "np.unique(df[df['assembly']==37][\"name_db\"])"
   ]
  },
  {
   "cell_type": "code",
   "execution_count": 12,
   "id": "0e69c483-e562-454b-bf75-78a17d7bc34b",
   "metadata": {},
   "outputs": [
    {
     "data": {
      "text/html": [
       "<div>\n",
       "<style scoped>\n",
       "    .dataframe tbody tr th:only-of-type {\n",
       "        vertical-align: middle;\n",
       "    }\n",
       "\n",
       "    .dataframe tbody tr th {\n",
       "        vertical-align: top;\n",
       "    }\n",
       "\n",
       "    .dataframe thead th {\n",
       "        text-align: right;\n",
       "    }\n",
       "</style>\n",
       "<table border=\"1\" class=\"dataframe\">\n",
       "  <thead>\n",
       "    <tr style=\"text-align: right;\">\n",
       "      <th></th>\n",
       "      <th>release</th>\n",
       "      <th>graph_id</th>\n",
       "      <th>id_db</th>\n",
       "      <th>name_db</th>\n",
       "      <th>ensembl_identity</th>\n",
       "      <th>xref_identity</th>\n",
       "      <th>assembly</th>\n",
       "    </tr>\n",
       "  </thead>\n",
       "  <tbody>\n",
       "    <tr>\n",
       "      <th>202611</th>\n",
       "      <td>107</td>\n",
       "      <td>ENSG00000173727.7</td>\n",
       "      <td>AP000769.1</td>\n",
       "      <td>Clone_based_ensembl_gene</td>\n",
       "      <td>NaN</td>\n",
       "      <td>NaN</td>\n",
       "      <td>37</td>\n",
       "    </tr>\n",
       "  </tbody>\n",
       "</table>\n",
       "</div>"
      ],
      "text/plain": [
       "        release           graph_id       id_db                   name_db  \\\n",
       "202611      107  ENSG00000173727.7  AP000769.1  Clone_based_ensembl_gene   \n",
       "\n",
       "        ensembl_identity  xref_identity  assembly  \n",
       "202611               NaN            NaN        37  "
      ]
     },
     "execution_count": 12,
     "metadata": {},
     "output_type": "execute_result"
    }
   ],
   "source": [
    "df[df['graph_id']=='ENSG00000173727.7']"
   ]
  },
  {
   "cell_type": "code",
   "execution_count": null,
   "id": "2052bc97-692f-48b8-9efa-55f5db54b117",
   "metadata": {},
   "outputs": [],
   "source": []
  },
  {
   "cell_type": "code",
   "execution_count": 110,
   "id": "51802964-270b-410f-ab37-e0ccf905536a",
   "metadata": {},
   "outputs": [
    {
     "data": {
      "text/plain": [
       "{'37': {'Ensembl release': '79,80,81,82,83,84,85,86,87,88,89,90,91,92,93,94,95,96,97,98,99,100,101,102,103,104,105,106,107',\n",
       "  'Include': False},\n",
       " '38': {'Ensembl release': '79,80,81,82,83,84,85,86,87,88,89,90,91,92,93,94,95,96,97,98,99,100,101,102,103,104,105,106,107',\n",
       "  'Include': False}}"
      ]
     },
     "execution_count": 110,
     "metadata": {},
     "output_type": "execute_result"
    }
   ],
   "source": [
    "the_dict[db_name][\"Assembly\"]"
   ]
  },
  {
   "cell_type": "code",
   "execution_count": 3,
   "id": "d6861fa5-608d-4ac8-8443-02a9039159b6",
   "metadata": {},
   "outputs": [
    {
     "data": {
      "text/plain": [
       "{37, 38}"
      ]
     },
     "execution_count": 3,
     "metadata": {},
     "output_type": "execute_result"
    }
   ],
   "source": [
    "\n",
    "self = ExternalDatabases(dm)\n",
    "give_type='assembly'\n",
    "the_dict_loaded = self.load_modified_yaml()\n",
    "the_dict = the_dict_loaded[self.db_manager.organism][self.db_manager.form]\n",
    "\n",
    "result = set()\n",
    "for db_name in the_dict:\n",
    "    for asm in the_dict[db_name][\"Assembly\"]:\n",
    "        item = the_dict[db_name][\"Assembly\"][asm]\n",
    "        res_ens = map(int, item[\"Ensembl release\"].split(\",\"))\n",
    "        if self.db_manager.ensembl_release in res_ens and item[\"Include\"]:\n",
    "            if give_type == \"db\" and int(asm) == self.db_manager.ensembl_mysql_server:\n",
    "                result.add(db_name)\n",
    "            elif give_type == \"assembly\":\n",
    "                result.add(int(asm))\n",
    "            else:\n",
    "                raise ValueError\n",
    "            \n",
    "            \n",
    "result"
   ]
  },
  {
   "cell_type": "code",
   "execution_count": 7,
   "id": "dfd8cfac-42c5-4ec7-9fdf-f2aa3cb4e6df",
   "metadata": {},
   "outputs": [
    {
     "data": {
      "text/plain": [
       "{'Ensembl release': '79,80,81,82,83,84,85,86,87,88,89,90,91,92,93,94,95,96,97,98,99,100,101,102,103,104,105,106,107',\n",
       " 'Include': False}"
      ]
     },
     "execution_count": 7,
     "metadata": {},
     "output_type": "execute_result"
    }
   ],
   "source": [
    "item"
   ]
  },
  {
   "cell_type": "code",
   "execution_count": 6,
   "id": "8a4b117b-4c4f-4133-a93d-e719294cb045",
   "metadata": {},
   "outputs": [
    {
     "name": "stdout",
     "output_type": "stream",
     "text": [
      "Rel:79, Ass['EntrezGene', 'Vega gene', 'Clone_based_ensembl_gene', 'UniProtKB Gene Name', 'Vega_gene', 'HGNC Symbol', 'Havana gene', 'Clone_based_vega_gene']\n",
      "Rel:80, Ass['EntrezGene', 'Vega gene', 'Clone_based_ensembl_gene', 'UniProtKB Gene Name', 'Vega_gene', 'HGNC Symbol', 'Havana gene', 'Clone_based_vega_gene']\n",
      "Rel:81, Ass['EntrezGene', 'Vega gene', 'Clone_based_ensembl_gene', 'UniProtKB Gene Name', 'Vega_gene', 'HGNC Symbol', 'Havana gene', 'Clone_based_vega_gene']\n",
      "Rel:82, Ass['EntrezGene', 'Vega gene', 'Clone_based_ensembl_gene', 'UniProtKB Gene Name', 'Vega_gene', 'HGNC Symbol', 'Havana gene', 'Clone_based_vega_gene']\n",
      "Rel:83, Ass['EntrezGene', 'Vega gene', 'Clone_based_ensembl_gene', 'UniProtKB Gene Name', 'Vega_gene', 'HGNC Symbol', 'Havana gene', 'Clone_based_vega_gene']\n",
      "Rel:84, Ass['EntrezGene', 'Vega gene', 'Clone_based_ensembl_gene', 'UniProtKB Gene Name', 'Vega_gene', 'HGNC Symbol', 'Havana gene', 'Clone_based_vega_gene']\n",
      "Rel:85, Ass['EntrezGene', 'Vega gene', 'Clone_based_ensembl_gene', 'UniProtKB Gene Name', 'Vega_gene', 'HGNC Symbol', 'Havana gene', 'Clone_based_vega_gene']\n",
      "Rel:86, Ass['EntrezGene', 'Vega gene', 'Clone_based_ensembl_gene', 'UniProtKB Gene Name', 'Vega_gene', 'HGNC Symbol', 'Havana gene', 'Clone_based_vega_gene']\n",
      "Rel:87, Ass['EntrezGene', 'Vega gene', 'Clone_based_ensembl_gene', 'UniProtKB Gene Name', 'Vega_gene', 'HGNC Symbol', 'Havana gene', 'Clone_based_vega_gene']\n",
      "Rel:88, Ass['EntrezGene', 'Vega gene', 'Clone_based_ensembl_gene', 'UniProtKB Gene Name', 'Vega_gene', 'HGNC Symbol', 'NCBI gene', 'Havana gene', 'Clone_based_vega_gene']\n",
      "Rel:89, Ass['EntrezGene', 'Clone_based_ensembl_gene', 'UniProtKB Gene Name', 'HGNC Symbol', 'NCBI gene', 'Havana gene', 'Clone_based_vega_gene']\n",
      "Rel:90, Ass['EntrezGene', 'Clone_based_ensembl_gene', 'UniProtKB Gene Name', 'HGNC Symbol', 'NCBI gene', 'Havana gene', 'Clone_based_vega_gene']\n",
      "Rel:91, Ass['EntrezGene', 'Clone_based_ensembl_gene', 'UniProtKB Gene Name', 'HGNC Symbol', 'NCBI gene', 'Havana gene', 'Clone_based_vega_gene']\n",
      "Rel:92, Ass['EntrezGene', 'Clone_based_ensembl_gene', 'UniProtKB Gene Name', 'HGNC Symbol', 'NCBI gene', 'Havana gene', 'Clone_based_vega_gene']\n",
      "Rel:93, Ass['EntrezGene', 'Clone_based_ensembl_gene', 'UniProtKB Gene Name', 'HGNC Symbol', 'NCBI gene', 'Havana gene', 'Clone_based_vega_gene']\n",
      "Rel:94, Ass['EntrezGene', 'Clone_based_ensembl_gene', 'UniProtKB Gene Name', 'HGNC Symbol', 'NCBI gene', 'Havana gene', 'Clone_based_vega_gene']\n",
      "Rel:95, Ass['EntrezGene', 'Clone_based_ensembl_gene', 'UniProtKB Gene Name', 'HGNC Symbol', 'NCBI gene', 'Havana gene', 'Clone_based_vega_gene']\n",
      "Rel:96, Ass['EntrezGene', 'Clone_based_ensembl_gene', 'UniProtKB Gene Name', 'HGNC Symbol', 'NCBI gene', 'Havana gene', 'Clone_based_vega_gene']\n",
      "Rel:97, Ass['EntrezGene', 'Clone_based_ensembl_gene', 'UniProtKB Gene Name', 'HGNC Symbol', 'NCBI gene', 'Havana gene', 'Clone_based_vega_gene']\n",
      "Rel:98, Ass['EntrezGene', 'Clone_based_ensembl_gene', 'UniProtKB Gene Name', 'HGNC Symbol', 'NCBI gene', 'Havana gene', 'Clone_based_vega_gene']\n",
      "Rel:99, Ass['EntrezGene', 'Clone_based_ensembl_gene', 'UniProtKB Gene Name', 'HGNC Symbol', 'NCBI gene', 'Havana gene', 'Clone_based_vega_gene']\n",
      "Rel:100, Ass['EntrezGene', 'Clone_based_ensembl_gene', 'NCBI gene (formerly Entrezgene)', 'UniProtKB Gene Name', 'HGNC Symbol', 'Havana gene', 'Clone_based_vega_gene']\n",
      "Rel:101, Ass['EntrezGene', 'Clone_based_ensembl_gene', 'NCBI gene (formerly Entrezgene)', 'UniProtKB Gene Name', 'HGNC Symbol', 'Havana gene', 'Clone_based_vega_gene']\n",
      "Rel:102, Ass['EntrezGene', 'Clone_based_ensembl_gene', 'NCBI gene (formerly Entrezgene)', 'UniProtKB Gene Name', 'HGNC Symbol', 'Havana gene', 'Clone_based_vega_gene']\n",
      "Rel:103, Ass['EntrezGene', 'Clone_based_ensembl_gene', 'NCBI gene (formerly Entrezgene)', 'UniProtKB Gene Name', 'HGNC Symbol', 'Havana gene', 'Clone_based_vega_gene']\n",
      "Rel:104, Ass['EntrezGene', 'Clone_based_ensembl_gene', 'NCBI gene (formerly Entrezgene)', 'UniProtKB Gene Name', 'HGNC Symbol', 'Havana gene', 'Clone_based_vega_gene']\n",
      "Rel:105, Ass['EntrezGene', 'Clone_based_ensembl_gene', 'NCBI gene (formerly Entrezgene)', 'UniProtKB Gene Name', 'HGNC Symbol', 'Havana gene', 'Clone_based_vega_gene']\n",
      "Rel:106, Ass['EntrezGene', 'Clone_based_ensembl_gene', 'NCBI gene (formerly Entrezgene)', 'UniProtKB Gene Name', 'HGNC Symbol', 'Havana gene', 'Clone_based_vega_gene']\n",
      "Rel:107, Ass['EntrezGene', 'Clone_based_ensembl_gene', 'NCBI gene (formerly Entrezgene)', 'UniProtKB Gene Name', 'HGNC Symbol', 'Havana gene', 'Clone_based_vega_gene']\n"
     ]
    }
   ],
   "source": [
    "\n",
    "for i in dm.available_releases:\n",
    "    ex = ExternalDatabases(dm.change_release(i))\n",
    "    ass = ex.give_list_for_case(give_type=\"db\")\n",
    "    print(f\"Rel:{i}, Ass{ass}\")"
   ]
  },
  {
   "cell_type": "code",
   "execution_count": null,
   "id": "4d9ce35f-6f8f-408f-a29e-6869514f4916",
   "metadata": {},
   "outputs": [],
   "source": []
  },
  {
   "cell_type": "code",
   "execution_count": null,
   "id": "955f28b2-d044-47e2-976f-20a43588d502",
   "metadata": {},
   "outputs": [],
   "source": []
  },
  {
   "cell_type": "code",
   "execution_count": null,
   "id": "fbaced09-60b3-4887-ac8f-1c29d918e3b9",
   "metadata": {},
   "outputs": [],
   "source": []
  },
  {
   "cell_type": "code",
   "execution_count": null,
   "id": "ebcbeca3-84b8-486b-ae36-45cf4f7b6eeb",
   "metadata": {},
   "outputs": [],
   "source": []
  },
  {
   "cell_type": "code",
   "execution_count": null,
   "id": "aafdca9e-14a5-484a-a3b1-4fa938218316",
   "metadata": {},
   "outputs": [],
   "source": []
  },
  {
   "cell_type": "code",
   "execution_count": null,
   "id": "c0358404-935a-41ee-a126-1d2618777a1d",
   "metadata": {},
   "outputs": [],
   "source": []
  },
  {
   "cell_type": "code",
   "execution_count": 68,
   "id": "9f55dd83-99fc-40a2-b553-466b46be49da",
   "metadata": {},
   "outputs": [
    {
     "data": {
      "text/plain": [
       "113"
      ]
     },
     "execution_count": 68,
     "metadata": {},
     "output_type": "execute_result"
    }
   ],
   "source": [
    "kalds=[i for i in jkl if len(jkl[i]) == 0]\n",
    "len(kalds)"
   ]
  },
  {
   "cell_type": "code",
   "execution_count": null,
   "id": "0a1a13eb-1eea-4dec-8821-309f6b871944",
   "metadata": {},
   "outputs": [],
   "source": []
  },
  {
   "cell_type": "code",
   "execution_count": 37,
   "id": "b768dba2-a432-4280-b0c9-396c4c55054d",
   "metadata": {},
   "outputs": [],
   "source": [
    "bok = rc37[rc37[\"id_db\"].isin(a)]"
   ]
  },
  {
   "cell_type": "code",
   "execution_count": 35,
   "id": "47fbc139-f20c-4ff3-8885-47e5030fa7dc",
   "metadata": {},
   "outputs": [
    {
     "data": {
      "text/plain": [
       "[('Clone-based (Vega) gene', 377),\n",
       " ('Clone_based_vega_gene', 377),\n",
       " ('Clone-based (Vega)', 377),\n",
       " ('Clone-based (Ensembl) gene', 87),\n",
       " ('Clone-based (Ensembl)', 87),\n",
       " ('Clone_based_ensembl_gene', 87),\n",
       " ('Uniprot_gn', 42),\n",
       " ('UniProtKB Gene Name', 42),\n",
       " ('EntrezGene', 41),\n",
       " ('NCBI gene (formerly Entrezgene)', 41),\n",
       " ('HGNC Symbol', 20),\n",
       " ('WikiGene', 17),\n",
       " ('RFAM', 2)]"
      ]
     },
     "execution_count": 35,
     "metadata": {},
     "output_type": "execute_result"
    }
   ],
   "source": [
    "dsd = []\n",
    "for i in a:\n",
    "    c =set([j for j in np.unique(bok[bok[\"id_db\"] == i][\"name_db\"])])\n",
    "    #print(c)\n",
    "    dsd.extend(c)\n",
    "from collections import Counter\n",
    "Counter(dsd).most_common()"
   ]
  },
  {
   "cell_type": "code",
   "execution_count": null,
   "id": "9f18abf3-9f8b-44d3-b169-c99d70c70701",
   "metadata": {},
   "outputs": [],
   "source": []
  },
  {
   "cell_type": "code",
   "execution_count": null,
   "id": "e95fe990-37c1-41f1-bd6c-b6638ddbb3ac",
   "metadata": {},
   "outputs": [],
   "source": []
  }
 ],
 "metadata": {
  "kernelspec": {
   "display_name": "Python 3 (ipykernel)",
   "language": "python",
   "name": "python3"
  },
  "language_info": {
   "codemirror_mode": {
    "name": "ipython",
    "version": 3
   },
   "file_extension": ".py",
   "mimetype": "text/x-python",
   "name": "python",
   "nbconvert_exporter": "python",
   "pygments_lexer": "ipython3",
   "version": "3.9.12"
  }
 },
 "nbformat": 4,
 "nbformat_minor": 5
}
