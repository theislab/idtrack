{
 "cells": [
  {
   "cell_type": "markdown",
   "id": "f0a953fc-cc27-4a89-b264-153f2f7cad0e",
   "metadata": {},
   "source": [
    "# Tutorial"
   ]
  },
  {
   "cell_type": "code",
   "execution_count": 1,
   "id": "9651dc52-4341-4175-9491-ef815cb2b775",
   "metadata": {},
   "outputs": [],
   "source": [
    "import os\n",
    "import scanpy as sc"
   ]
  },
  {
   "cell_type": "code",
   "execution_count": 2,
   "id": "dd541ab2-5b75-4405-9082-5093f25000a7",
   "metadata": {},
   "outputs": [],
   "source": [
    "import sys\n",
    "sys.path.append(\"../..\")\n",
    "from idtrack import *\n",
    "from idtrack._track_tests import *"
   ]
  },
  {
   "cell_type": "code",
   "execution_count": 3,
   "id": "fb66f86f-a47a-4dbe-ac43-627a953d4332",
   "metadata": {},
   "outputs": [],
   "source": [
    "logger_config()\n",
    "local_dir = \"/lustre/groups/ml01/workspace/kemal.inecik/idtrack_temp\"  # or any other local directory\n",
    "dm = DatabaseManager(\"homo_sapiens\", 107, \"gene\", local_dir, 79)  # 70"
   ]
  },
  {
   "cell_type": "code",
   "execution_count": 4,
   "id": "5150b28b-3ab4-4398-9ad9-dda774a96466",
   "metadata": {},
   "outputs": [
    {
     "name": "stderr",
     "output_type": "stream",
     "text": [
      "2022-08-13 15:14:56 INFO:graph: The graph is being read.\n"
     ]
    }
   ],
   "source": [
    "tt: TrackTests = TrackTests(dm)"
   ]
  },
  {
   "cell_type": "code",
   "execution_count": 5,
   "id": "dffe3092-f2d1-4536-8c96-8b7f6f785d47",
   "metadata": {},
   "outputs": [],
   "source": [
    "base_path = \"/lustre/groups/ml01/workspace/hlca_lisa.sikkema_malte.luecken/HLCA_reproducibility/data\"\n",
    "dset0_dir = os.path.join(base_path, \"HLCA_extended/extension_datasets/ready/full\")\n",
    "dset1_dir = os.path.join(base_path, \"HLCA_extended/extension_datasets/raw\")"
   ]
  },
  {
   "cell_type": "code",
   "execution_count": 6,
   "id": "dbed66bd-cb19-454c-8d98-a976a8f36b87",
   "metadata": {},
   "outputs": [],
   "source": [
    "adata_dict = {\n",
    "    \"Kaminski_2020\": [f\"{dset0_dir}/adams.h5ad\"],\n",
    "    \"Meyer_2021\": [f\"{dset0_dir}/meyer_2021.h5ad\"],\n",
    "    \"MeyerNikolic_unpubl\": [f\"{dset0_dir}/meyer_nikolic_unpubl.h5ad\"],\n",
    "    \"Barbry_unpubl\": [f\"{dset0_dir}/barbry.h5ad\"],\n",
    "    \"Regev_2021\": [\n",
    "        f\"{dset0_dir}/delorey_cryo.h5ad\", f\"{dset0_dir}/delorey_fresh.h5ad\",\n",
    "        f\"{dset0_dir}/delorey_nuclei.h5ad\"\n",
    "    ],\n",
    "    \"Thienpont_2018\": [f\"{dset1_dir}/Lambrechts/lambrechts.h5ad\"],\n",
    "    \"Budinger_2020\": [f\"{dset0_dir}/bharat.h5ad\"],\n",
    "    \"Banovich_Kropski_2020\": [f\"{dset0_dir}/haberman.h5ad\"],\n",
    "    \"Sheppard_2020\": [f\"{dset0_dir}/tsukui.h5ad\"],\n",
    "    \"Wunderink_2021\": [\n",
    "        f\"{dset0_dir}/grant_cryo.h5ad\", f\"{dset0_dir}/grant_fresh.h5ad\"\n",
    "    ],\n",
    "    \"Lambrechts_2021\": [\n",
    "        f\"{dset0_dir}/wouters.h5ad\" #, f\"{dset0_dir}/wouters_labs.h5ad\"\n",
    "    ],\n",
    "    \"Zhang_2021\": [f\"{dset1_dir}/Liao/covid_for_publish.h5ad\"],\n",
    "    \"Duong_lungMAP_unpubl\": [f\"{dset0_dir}/duong.h5ad\"],\n",
    "    \"Janssen_2020\": [f\"{dset0_dir}/mould.h5ad\"],\n",
    "    \"Sun_2020\": [\n",
    "        f\"{dset0_dir}/wang_sub_batch1.h5ad\", f\"{dset0_dir}/wang_sub_batch2.h5ad\",\n",
    "        f\"{dset0_dir}/wang_sub_batch3.h5ad\", f\"{dset0_dir}/wang_sub_batch4.h5ad\"],\n",
    "    \"Gomperts_2021\": [\n",
    "        f\"{dset0_dir}/carraro_ucla.h5ad\", f\"{dset0_dir}/carraro_cff.h5ad\",\n",
    "        f\"{dset0_dir}/carraro_csmc.h5ad\"],\n",
    "    \"Eils_2020\": [f\"{dset0_dir}/lukassen.h5ad\"],\n",
    "    \"Schiller_2020\": [f\"{dset0_dir}/mayr.h5ad\"],\n",
    "    \"Misharin_Budinger_2018\": [f\"{dset0_dir}/reyfman_disease.h5ad\"],\n",
    "    \"Shalek_2018\": [f\"{dset0_dir}/ordovasmontanes.h5ad\"],\n",
    "    \"Schiller_2021\": [f\"{dset0_dir}/schiller_discovair.h5ad\"],\n",
    "    \"Peer_Massague_2020\": [f\"{dset0_dir}/laughney.h5ad\"],\n",
    "    \"Lafyatis_2019\": [f\"{dset0_dir}/valenzi.h5ad\"],\n",
    "    \"Tata_unpubl\": [f\"{dset0_dir}/tata_unpubl.h5ad\"],\n",
    "    \"Xu_2020\": [f\"{dset0_dir}/guo.h5ad\"],\n",
    "    \"Sims_2019\": [f\"{dset0_dir}/szabo.h5ad\"],\n",
    "    \"Schultze_unpubl\": [f\"{dset0_dir}/schultze_unpubl.h5ad\"]\n",
    "}"
   ]
  },
  {
   "cell_type": "code",
   "execution_count": null,
   "id": "a8e4a084-7138-44d1-82d7-c1b7232f5870",
   "metadata": {},
   "outputs": [
    {
     "name": "stdout",
     "output_type": "stream",
     "text": [
      "Kaminski_2020 45947 0\n",
      "Kaminski_2020 45947 0\n",
      "(('HGNC Symbol', 95), 30503)\n",
      "Progress: |████████████████████| 100.0% \n",
      "[(1, 44331), (2, 859), (0, 403), (4, 83), (6, 79), (7, 63), (3, 57), (5, 49), (16, 17), (8, 5)]\n",
      "\n",
      "Meyer_2021 20922 0\n",
      "Meyer_2021 20922 0\n",
      "(('HGNC Symbol', 105), 20412)\n",
      "Progress: |████████████████████| 100.0% \n",
      "[(1, 20298), (2, 388), (6, 49), (4, 40), (3, 40), (5, 38), (7, 36), (0, 27), (8, 5), (16, 1)]\n",
      "\n"
     ]
    },
    {
     "name": "stderr",
     "output_type": "stream",
     "text": [
      "2022-08-13 15:22:27 WARNING:track: Number of converted IDs with small modifications: 18\n",
      "2022-08-13 15:22:27 WARNING:track: Number of IDs not found in the graph: 50\n"
     ]
    },
    {
     "name": "stdout",
     "output_type": "stream",
     "text": [
      "MeyerNikolic_unpubl 33582 68\n",
      "MeyerNikolic_unpubl 33532 0\n",
      "(('HGNC Symbol', 93), 23387)\n",
      "Progress: |██████████----------| 52.49% "
     ]
    }
   ],
   "source": [
    "from collections import Counter\n",
    "result = dict()\n",
    "for ddadaata in adata_dict:\n",
    "    \n",
    "    adata = sc.read(adata_dict[ddadaata][0])\n",
    "    gene_list = list(adata.var.index)\n",
    "    gene_list_filtered, gene_list_converted, gene_list_lost = tt.unfound_correct(list(adata.var.index))\n",
    "    \n",
    "    for amk in [gene_list, gene_list_filtered]:\n",
    "        really_lost = []\n",
    "        for i in amk:\n",
    "            if i not in tt.graph.nodes:\n",
    "                really_lost.append(i)\n",
    "        print(ddadaata, len(amk), len(really_lost))\n",
    "    print(tt.identify_source(gene_list_filtered)[0])\n",
    "    \n",
    "    a = dict()\n",
    "    for ind, i in enumerate(set(gene_list_filtered)):\n",
    "        if ind % 100 == 0 or ind > len(gene_list_filtered)-5:\n",
    "            progress_bar(ind, len(gene_list_filtered)-1)\n",
    "        conv = tt.convert(i, None, None, 'ensembl_gene', prioritize_to_one_filter=True)\n",
    "        a[i] = conv\n",
    "    result[ddadaata] = a\n",
    "    print(list(Counter([len(a[i]) if a[i] is not None else 0 for i in a]).most_common())[:10])\n",
    "    print()\n"
   ]
  },
  {
   "cell_type": "code",
   "execution_count": null,
   "id": "cf8a1fea-3359-40b7-9954-7e5068208ee7",
   "metadata": {},
   "outputs": [],
   "source": []
  },
  {
   "cell_type": "code",
   "execution_count": null,
   "id": "8a309a39-2dac-4055-8ca9-6aeb351c9b15",
   "metadata": {},
   "outputs": [],
   "source": []
  },
  {
   "cell_type": "code",
   "execution_count": null,
   "id": "005f01af-e2a4-4ee4-8d43-e66838fbbe58",
   "metadata": {},
   "outputs": [],
   "source": []
  },
  {
   "cell_type": "code",
   "execution_count": null,
   "id": "a9bf7127-7cf5-4de4-89fd-00a48dd4fba6",
   "metadata": {},
   "outputs": [],
   "source": []
  },
  {
   "cell_type": "code",
   "execution_count": null,
   "id": "4dded428-6102-4cf4-a80d-17ae0ed2141e",
   "metadata": {},
   "outputs": [],
   "source": []
  },
  {
   "cell_type": "code",
   "execution_count": null,
   "id": "9a2c5f9f-9245-4836-8d56-2efbfeac2cbb",
   "metadata": {},
   "outputs": [],
   "source": []
  },
  {
   "cell_type": "code",
   "execution_count": 15,
   "id": "38e960de-cac3-4726-9779-3d44d61c8495",
   "metadata": {},
   "outputs": [
    {
     "name": "stderr",
     "output_type": "stream",
     "text": [
      "2022-08-12 22:26:23 INFO:dataset: Comparison data frame is being constructed for releases: [107, 106, 105, 104, 103, 102, 101, 100, 99, 98, 97, 96, 95, 94, 93, 92, 91, 90, 89, 88, 87, 86, 85, 84, 83, 82, 81, 80, 79].\n"
     ]
    }
   ],
   "source": [
    "rc37 = Dataset(dm.change_server(37), narrow_search=False).initialize_external_conversion()\n",
    "#rc38 = Dataset(dm.change_server(38), narrow_search=False).initialize_external_conversion()"
   ]
  },
  {
   "cell_type": "code",
   "execution_count": 16,
   "id": "ef88c388-cb1e-4384-906b-0f55c3c45552",
   "metadata": {},
   "outputs": [],
   "source": [
    "d=np.unique(rc37['id_db'])"
   ]
  },
  {
   "cell_type": "code",
   "execution_count": 17,
   "id": "90d52c90-d5a7-449a-956e-c6e2fe9c12fd",
   "metadata": {},
   "outputs": [
    {
     "data": {
      "text/plain": [
       "['XXyac-YX65C7_A.2', 'XXyac-YX65C7_A.3', 'XXyac-YX65C7_A.4']"
      ]
     },
     "execution_count": 17,
     "metadata": {},
     "output_type": "execute_result"
    }
   ],
   "source": [
    "[i for i in d if \"YX65C7\" in i]"
   ]
  },
  {
   "cell_type": "code",
   "execution_count": 18,
   "id": "28df4960-24f1-4683-bf0f-214fdec3ea12",
   "metadata": {},
   "outputs": [
    {
     "data": {
      "text/plain": [
       "True"
      ]
     },
     "execution_count": 18,
     "metadata": {},
     "output_type": "execute_result"
    }
   ],
   "source": [
    "\"PRED58\" in d"
   ]
  },
  {
   "cell_type": "code",
   "execution_count": 19,
   "id": "a7158d10-2270-4968-bebe-91eea4a40cfc",
   "metadata": {},
   "outputs": [],
   "source": [
    "amk = [i for i in a if i not in d]"
   ]
  },
  {
   "cell_type": "code",
   "execution_count": 20,
   "id": "3207fb20-9fbb-4df8-9a10-32e8610e9b55",
   "metadata": {},
   "outputs": [
    {
     "name": "stdout",
     "output_type": "stream",
     "text": [
      "58\n",
      "113\n"
     ]
    }
   ],
   "source": [
    "print(len([i for i in a if i in d]))\n",
    "print(len(amk))"
   ]
  },
  {
   "cell_type": "code",
   "execution_count": 21,
   "id": "a58ae56b-47cb-4db1-84ba-29efc0f13175",
   "metadata": {},
   "outputs": [
    {
     "data": {
      "text/plain": [
       "array(['RP11-442N24--B.1', 'RP11-99J16--A.2', 'RP11-59D5--B.2',\n",
       "       'RP11-445L13--B.3', 'RP11-544L8--B.4', 'XXyac-YX65C7-A.2',\n",
       "       'XXyac-YX65C7-A.3', 'RP11-524D16--A.3', 'RP11-453F18--B.1',\n",
       "       'Metazoa-SRP', 'Y-RNA', 'XX-DJ76P10--A.2', '5S-rRNA', 'Y-RNA.1',\n",
       "       'Y-RNA.2', 'RP11-1157N2--B.2', 'RP1-213J1P--B.1',\n",
       "       'RP1-213J1P--B.2', 'RP4-633O19--A.1', 'RP4-754E20--A.5',\n",
       "       'CTA-280A3--B.2'], dtype='<U16')"
      ]
     },
     "execution_count": 21,
     "metadata": {},
     "output_type": "execute_result"
    }
   ],
   "source": [
    "np.array([i for i in amk if i.split('.')[0] not in d])"
   ]
  },
  {
   "cell_type": "code",
   "execution_count": 22,
   "id": "ccf57d9a-88bd-4953-9fff-735f8d966b8e",
   "metadata": {},
   "outputs": [],
   "source": [
    "# sonra da combinatorial olarak _ to - degisikligi yap..\n",
    " \n",
    "# np.array([i for i in amk if i.split('.')[0] not in d])"
   ]
  },
  {
   "cell_type": "code",
   "execution_count": 23,
   "id": "429423d7-9aed-41c1-9ada-efc05c02ace7",
   "metadata": {},
   "outputs": [
    {
     "name": "stdout",
     "output_type": "stream",
     "text": [
      "0,1,2,3,4,5,6,7,8,9,10,11,12,13,14,15,16,17,18,19,20,21,22,23,24,25,26,27,28,29,30,31,32,33,34,35,36,37,38,39,40,41,42,43,44,45,46,47,48,49,50,51,52,53,54,55,56,57,"
     ]
    }
   ],
   "source": [
    "jkl = dict()\n",
    "askdnmkajsdn = rc37[\"name_db\"]\n",
    "for ind, i in enumerate([i for i in a if i in d]):\n",
    "    print(ind, end=\",\")\n",
    "    jkl[i] = set(askdnmkajsdn[rc37[\"id_db\"]==i])\n"
   ]
  },
  {
   "cell_type": "code",
   "execution_count": 24,
   "id": "3c4a8da9-9f39-402d-8ccf-7c6fa55748d9",
   "metadata": {},
   "outputs": [
    {
     "data": {
      "text/plain": [
       "array(['UniProtKB Gene Name', 'Uniprot_gn'], dtype=object)"
      ]
     },
     "execution_count": 24,
     "metadata": {},
     "output_type": "execute_result"
    }
   ],
   "source": [
    "np.unique(rc37[rc37[\"id_db\"] == 'FLJ27365'][\"name_db\"])"
   ]
  },
  {
   "cell_type": "code",
   "execution_count": 26,
   "id": "b0b815d9-b120-4e29-a9cb-616487383ddd",
   "metadata": {},
   "outputs": [],
   "source": [
    "ex=dm.create_external_all()"
   ]
  },
  {
   "cell_type": "code",
   "execution_count": null,
   "id": "d25781d6-96b0-4c77-be27-6d77f6e0e1ca",
   "metadata": {},
   "outputs": [],
   "source": []
  },
  {
   "cell_type": "code",
   "execution_count": 36,
   "id": "43631fa9-7fbc-415d-9244-1ef39a51acb4",
   "metadata": {},
   "outputs": [
    {
     "data": {
      "text/plain": [
       "array(['Clone_based_ensembl_gene', 'Clone_based_vega_gene', 'Havana gene',\n",
       "       'RFAM'], dtype=object)"
      ]
     },
     "execution_count": 36,
     "metadata": {},
     "output_type": "execute_result"
    }
   ],
   "source": [
    "np.unique(ex[ex['assembly'] == 37]['name_db'])"
   ]
  },
  {
   "cell_type": "code",
   "execution_count": null,
   "id": "63e9f313-e219-4e04-9029-dde276449eeb",
   "metadata": {},
   "outputs": [],
   "source": []
  },
  {
   "cell_type": "code",
   "execution_count": 91,
   "id": "f5c79c13-5507-43cc-88fc-9ded6802cb08",
   "metadata": {},
   "outputs": [
    {
     "data": {
      "text/plain": [
       "array(['RFAM'], dtype=object)"
      ]
     },
     "execution_count": 91,
     "metadata": {},
     "output_type": "execute_result"
    }
   ],
   "source": []
  },
  {
   "cell_type": "code",
   "execution_count": 57,
   "id": "20f67230-e086-43fb-811c-a2522ca3f488",
   "metadata": {},
   "outputs": [
    {
     "name": "stdout",
     "output_type": "stream",
     "text": [
      "0,1,2,3,4,5,6,7,8,9,10,11,12,13,14,15,16,17,18,19,20,21,22,23,24,25,26,27,28,29,30,31,32,33,34,35,36,37,38,39,40,41,42,43,44,45,46,47,48,49,50,51,52,53,54,55,56,57,58,59,60,61,62,63,64,65,66,67,68,69,70,71,72,73,74,75,76,77,78,79,80,81,82,83,84,85,86,87,88,89,90,91,92,93,94,95,96,97,98,99,100,101,102,103,104,105,106,107,108,109,110,111,112,113,114,115,116,117,118,119,120,121,122,123,124,125,126,127,128,129,130,131,132,133,134,135,136,137,138,139,140,141,142,143,144,145,146,147,148,149,150,151,152,153,154,155,156,157,158,159,160,161,162,163,164,165,166,167,168,169,170,171,172,173,174,175,176,177,178,179,180,181,182,183,184,185,186,187,188,189,190,191,192,193,194,195,196,197,198,199,200,201,202,203,204,205,206,207,208,209,210,211,212,213,214,215,216,217,218,219,220,221,222,223,224,225,226,227,228,229,230,231,232,233,234,235,236,237,238,239,240,241,242,243,244,245,246,247,248,249,250,251,252,253,254,255,256,257,258,259,260,261,262,263,264,265,266,267,268,269,270,271,272,273,274,275,276,277,278,279,280,281,282,283,284,285,286,287,288,289,290,291,292,293,294,295,296,297,298,299,300,301,302,303,304,305,306,307,308,309,310,311,312,313,314,315,316,317,318,319,320,321,322,323,324,325,326,327,328,329,330,331,332,333,334,335,336,337,338,339,340,341,342,343,344,345,346,347,348,349,350,351,352,353,354,355,356,357,358,359,360,361,362,363,364,365,366,367,368,369,370,371,372,373,374,375,376,377,378,379,380,381,382,383,384,385,386,387,388,389,390,391,392,393,394,395,396,397,398,399,400,401,402,403,404,405,406,407,408,409,410,411,412,413,414,415,416,417,418,419,420,421,422,423,424,425,426,427,428,429,430,431,432,433,434,435,436,437,438,439,440,441,442,443,444,445,446,447,448,449,450,451,452,453,454,455,456,457,458,459,460,461,462,463,464,465,466,467,468,469,470,471,472,473,474,475,476,477,478,479,480,481,482,483,484,485,486,487,488,489,490,491,492,493,494,495,496,497,498,499,500,501,502,503,504,505,506,507,508,509,510,511,512,513,514,515,516,517,518,519,520,521,522,523,524,525,526,527,528,529,530,531,532,533,534,535,536,537,538,539,540,541,542,543,544,545,546,547,548,549,550,551,552,553,554,555,556,557,558,559,560,561,562,563,564,565,566,567,568,569,570,571,572,573,574,575,576,577,578,579,580,581,582,583,584,585,586,587,588,589,590,591,592,593,594,595,596,597,598,599,600,601,602,603,604,605,606,607,608,609,610,611,612,613,614,615,616,617,618,619,620,621,622,623,624,625,626,627,628,629,630,631,632,633,634,635,636,"
     ]
    }
   ],
   "source": [
    "jkl = dict()\n",
    "askdnmkajsdn = rc37[\"name_db\"]\n",
    "for ind, i in enumerate(a):\n",
    "    print(ind, end=\",\")\n",
    "    jkl[i] = set(askdnmkajsdn[rc37[\"id_db\"]==i])\n"
   ]
  },
  {
   "cell_type": "code",
   "execution_count": 59,
   "id": "5107f64a-4e53-4bcf-98db-47194b1baa83",
   "metadata": {},
   "outputs": [
    {
     "data": {
      "text/plain": [
       "Counter({'Clone-based (Vega) gene': 377,\n",
       "         'Clone_based_vega_gene': 377,\n",
       "         'Clone-based (Vega)': 377,\n",
       "         'Clone-based (Ensembl) gene': 87,\n",
       "         'Clone-based (Ensembl)': 87,\n",
       "         'Clone_based_ensembl_gene': 87,\n",
       "         'EntrezGene': 41,\n",
       "         'Uniprot_gn': 42,\n",
       "         'HGNC Symbol': 20,\n",
       "         'NCBI gene (formerly Entrezgene)': 41,\n",
       "         'WikiGene': 17,\n",
       "         'UniProtKB Gene Name': 42,\n",
       "         'RFAM': 2})"
      ]
     },
     "execution_count": 59,
     "metadata": {},
     "output_type": "execute_result"
    }
   ],
   "source": [
    "Counter([j for i in jkl for j in jkl[i]])"
   ]
  },
  {
   "cell_type": "code",
   "execution_count": 6,
   "id": "5794a2b2-7b1d-4b3f-bae2-dffc5701f5ae",
   "metadata": {},
   "outputs": [],
   "source": [
    "df=dm.create_external_all()"
   ]
  },
  {
   "cell_type": "code",
   "execution_count": 5,
   "id": "4945368a-bc59-4787-ae79-7f0367e6a56f",
   "metadata": {},
   "outputs": [
    {
     "data": {
      "text/plain": [
       "['EntrezGene',\n",
       " 'UniProtKB Gene Name',\n",
       " 'NCBI gene (formerly Entrezgene)',\n",
       " 'HGNC Symbol']"
      ]
     },
     "execution_count": 5,
     "metadata": {},
     "output_type": "execute_result"
    }
   ],
   "source": [
    "ExternalDatabases(dm).give_list_for_case(give_type=\"db\")"
   ]
  },
  {
   "cell_type": "code",
   "execution_count": 8,
   "id": "bd562a80-eed3-4938-916c-1f849b7ce449",
   "metadata": {},
   "outputs": [
    {
     "data": {
      "text/plain": [
       "202607"
      ]
     },
     "execution_count": 8,
     "metadata": {},
     "output_type": "execute_result"
    }
   ],
   "source": [
    "np.sum(df['assembly']==38)"
   ]
  },
  {
   "cell_type": "code",
   "execution_count": 9,
   "id": "0d29fdf7-3a46-452d-9cfc-f4c370cdbff1",
   "metadata": {},
   "outputs": [
    {
     "data": {
      "text/plain": [
       "76298"
      ]
     },
     "execution_count": 9,
     "metadata": {},
     "output_type": "execute_result"
    }
   ],
   "source": [
    "np.sum(df['assembly']==37)"
   ]
  },
  {
   "cell_type": "code",
   "execution_count": 13,
   "id": "0322df34-d2a7-486a-a1da-cb32a55a0594",
   "metadata": {},
   "outputs": [
    {
     "data": {
      "text/plain": [
       "array(['Clone_based_ensembl_gene', 'Clone_based_vega_gene', 'Havana gene'],\n",
       "      dtype=object)"
      ]
     },
     "execution_count": 13,
     "metadata": {},
     "output_type": "execute_result"
    }
   ],
   "source": [
    "np.unique(df[df['assembly']==37][\"name_db\"])"
   ]
  },
  {
   "cell_type": "code",
   "execution_count": 12,
   "id": "0e69c483-e562-454b-bf75-78a17d7bc34b",
   "metadata": {},
   "outputs": [
    {
     "data": {
      "text/html": [
       "<div>\n",
       "<style scoped>\n",
       "    .dataframe tbody tr th:only-of-type {\n",
       "        vertical-align: middle;\n",
       "    }\n",
       "\n",
       "    .dataframe tbody tr th {\n",
       "        vertical-align: top;\n",
       "    }\n",
       "\n",
       "    .dataframe thead th {\n",
       "        text-align: right;\n",
       "    }\n",
       "</style>\n",
       "<table border=\"1\" class=\"dataframe\">\n",
       "  <thead>\n",
       "    <tr style=\"text-align: right;\">\n",
       "      <th></th>\n",
       "      <th>release</th>\n",
       "      <th>graph_id</th>\n",
       "      <th>id_db</th>\n",
       "      <th>name_db</th>\n",
       "      <th>ensembl_identity</th>\n",
       "      <th>xref_identity</th>\n",
       "      <th>assembly</th>\n",
       "    </tr>\n",
       "  </thead>\n",
       "  <tbody>\n",
       "    <tr>\n",
       "      <th>202611</th>\n",
       "      <td>107</td>\n",
       "      <td>ENSG00000173727.7</td>\n",
       "      <td>AP000769.1</td>\n",
       "      <td>Clone_based_ensembl_gene</td>\n",
       "      <td>NaN</td>\n",
       "      <td>NaN</td>\n",
       "      <td>37</td>\n",
       "    </tr>\n",
       "  </tbody>\n",
       "</table>\n",
       "</div>"
      ],
      "text/plain": [
       "        release           graph_id       id_db                   name_db  \\\n",
       "202611      107  ENSG00000173727.7  AP000769.1  Clone_based_ensembl_gene   \n",
       "\n",
       "        ensembl_identity  xref_identity  assembly  \n",
       "202611               NaN            NaN        37  "
      ]
     },
     "execution_count": 12,
     "metadata": {},
     "output_type": "execute_result"
    }
   ],
   "source": [
    "df[df['graph_id']=='ENSG00000173727.7']"
   ]
  },
  {
   "cell_type": "code",
   "execution_count": null,
   "id": "2052bc97-692f-48b8-9efa-55f5db54b117",
   "metadata": {},
   "outputs": [],
   "source": []
  },
  {
   "cell_type": "code",
   "execution_count": 110,
   "id": "51802964-270b-410f-ab37-e0ccf905536a",
   "metadata": {},
   "outputs": [
    {
     "data": {
      "text/plain": [
       "{'37': {'Ensembl release': '79,80,81,82,83,84,85,86,87,88,89,90,91,92,93,94,95,96,97,98,99,100,101,102,103,104,105,106,107',\n",
       "  'Include': False},\n",
       " '38': {'Ensembl release': '79,80,81,82,83,84,85,86,87,88,89,90,91,92,93,94,95,96,97,98,99,100,101,102,103,104,105,106,107',\n",
       "  'Include': False}}"
      ]
     },
     "execution_count": 110,
     "metadata": {},
     "output_type": "execute_result"
    }
   ],
   "source": [
    "the_dict[db_name][\"Assembly\"]"
   ]
  },
  {
   "cell_type": "code",
   "execution_count": 3,
   "id": "d6861fa5-608d-4ac8-8443-02a9039159b6",
   "metadata": {},
   "outputs": [
    {
     "data": {
      "text/plain": [
       "{37, 38}"
      ]
     },
     "execution_count": 3,
     "metadata": {},
     "output_type": "execute_result"
    }
   ],
   "source": [
    "\n",
    "self = ExternalDatabases(dm)\n",
    "give_type='assembly'\n",
    "the_dict_loaded = self.load_modified_yaml()\n",
    "the_dict = the_dict_loaded[self.db_manager.organism][self.db_manager.form]\n",
    "\n",
    "result = set()\n",
    "for db_name in the_dict:\n",
    "    for asm in the_dict[db_name][\"Assembly\"]:\n",
    "        item = the_dict[db_name][\"Assembly\"][asm]\n",
    "        res_ens = map(int, item[\"Ensembl release\"].split(\",\"))\n",
    "        if self.db_manager.ensembl_release in res_ens and item[\"Include\"]:\n",
    "            if give_type == \"db\" and int(asm) == self.db_manager.ensembl_mysql_server:\n",
    "                result.add(db_name)\n",
    "            elif give_type == \"assembly\":\n",
    "                result.add(int(asm))\n",
    "            else:\n",
    "                raise ValueError\n",
    "            \n",
    "            \n",
    "result"
   ]
  },
  {
   "cell_type": "code",
   "execution_count": 7,
   "id": "dfd8cfac-42c5-4ec7-9fdf-f2aa3cb4e6df",
   "metadata": {},
   "outputs": [
    {
     "data": {
      "text/plain": [
       "{'Ensembl release': '79,80,81,82,83,84,85,86,87,88,89,90,91,92,93,94,95,96,97,98,99,100,101,102,103,104,105,106,107',\n",
       " 'Include': False}"
      ]
     },
     "execution_count": 7,
     "metadata": {},
     "output_type": "execute_result"
    }
   ],
   "source": [
    "item"
   ]
  },
  {
   "cell_type": "code",
   "execution_count": 6,
   "id": "8a4b117b-4c4f-4133-a93d-e719294cb045",
   "metadata": {},
   "outputs": [
    {
     "name": "stdout",
     "output_type": "stream",
     "text": [
      "Rel:79, Ass['EntrezGene', 'Vega gene', 'Clone_based_ensembl_gene', 'UniProtKB Gene Name', 'Vega_gene', 'HGNC Symbol', 'Havana gene', 'Clone_based_vega_gene']\n",
      "Rel:80, Ass['EntrezGene', 'Vega gene', 'Clone_based_ensembl_gene', 'UniProtKB Gene Name', 'Vega_gene', 'HGNC Symbol', 'Havana gene', 'Clone_based_vega_gene']\n",
      "Rel:81, Ass['EntrezGene', 'Vega gene', 'Clone_based_ensembl_gene', 'UniProtKB Gene Name', 'Vega_gene', 'HGNC Symbol', 'Havana gene', 'Clone_based_vega_gene']\n",
      "Rel:82, Ass['EntrezGene', 'Vega gene', 'Clone_based_ensembl_gene', 'UniProtKB Gene Name', 'Vega_gene', 'HGNC Symbol', 'Havana gene', 'Clone_based_vega_gene']\n",
      "Rel:83, Ass['EntrezGene', 'Vega gene', 'Clone_based_ensembl_gene', 'UniProtKB Gene Name', 'Vega_gene', 'HGNC Symbol', 'Havana gene', 'Clone_based_vega_gene']\n",
      "Rel:84, Ass['EntrezGene', 'Vega gene', 'Clone_based_ensembl_gene', 'UniProtKB Gene Name', 'Vega_gene', 'HGNC Symbol', 'Havana gene', 'Clone_based_vega_gene']\n",
      "Rel:85, Ass['EntrezGene', 'Vega gene', 'Clone_based_ensembl_gene', 'UniProtKB Gene Name', 'Vega_gene', 'HGNC Symbol', 'Havana gene', 'Clone_based_vega_gene']\n",
      "Rel:86, Ass['EntrezGene', 'Vega gene', 'Clone_based_ensembl_gene', 'UniProtKB Gene Name', 'Vega_gene', 'HGNC Symbol', 'Havana gene', 'Clone_based_vega_gene']\n",
      "Rel:87, Ass['EntrezGene', 'Vega gene', 'Clone_based_ensembl_gene', 'UniProtKB Gene Name', 'Vega_gene', 'HGNC Symbol', 'Havana gene', 'Clone_based_vega_gene']\n",
      "Rel:88, Ass['EntrezGene', 'Vega gene', 'Clone_based_ensembl_gene', 'UniProtKB Gene Name', 'Vega_gene', 'HGNC Symbol', 'NCBI gene', 'Havana gene', 'Clone_based_vega_gene']\n",
      "Rel:89, Ass['EntrezGene', 'Clone_based_ensembl_gene', 'UniProtKB Gene Name', 'HGNC Symbol', 'NCBI gene', 'Havana gene', 'Clone_based_vega_gene']\n",
      "Rel:90, Ass['EntrezGene', 'Clone_based_ensembl_gene', 'UniProtKB Gene Name', 'HGNC Symbol', 'NCBI gene', 'Havana gene', 'Clone_based_vega_gene']\n",
      "Rel:91, Ass['EntrezGene', 'Clone_based_ensembl_gene', 'UniProtKB Gene Name', 'HGNC Symbol', 'NCBI gene', 'Havana gene', 'Clone_based_vega_gene']\n",
      "Rel:92, Ass['EntrezGene', 'Clone_based_ensembl_gene', 'UniProtKB Gene Name', 'HGNC Symbol', 'NCBI gene', 'Havana gene', 'Clone_based_vega_gene']\n",
      "Rel:93, Ass['EntrezGene', 'Clone_based_ensembl_gene', 'UniProtKB Gene Name', 'HGNC Symbol', 'NCBI gene', 'Havana gene', 'Clone_based_vega_gene']\n",
      "Rel:94, Ass['EntrezGene', 'Clone_based_ensembl_gene', 'UniProtKB Gene Name', 'HGNC Symbol', 'NCBI gene', 'Havana gene', 'Clone_based_vega_gene']\n",
      "Rel:95, Ass['EntrezGene', 'Clone_based_ensembl_gene', 'UniProtKB Gene Name', 'HGNC Symbol', 'NCBI gene', 'Havana gene', 'Clone_based_vega_gene']\n",
      "Rel:96, Ass['EntrezGene', 'Clone_based_ensembl_gene', 'UniProtKB Gene Name', 'HGNC Symbol', 'NCBI gene', 'Havana gene', 'Clone_based_vega_gene']\n",
      "Rel:97, Ass['EntrezGene', 'Clone_based_ensembl_gene', 'UniProtKB Gene Name', 'HGNC Symbol', 'NCBI gene', 'Havana gene', 'Clone_based_vega_gene']\n",
      "Rel:98, Ass['EntrezGene', 'Clone_based_ensembl_gene', 'UniProtKB Gene Name', 'HGNC Symbol', 'NCBI gene', 'Havana gene', 'Clone_based_vega_gene']\n",
      "Rel:99, Ass['EntrezGene', 'Clone_based_ensembl_gene', 'UniProtKB Gene Name', 'HGNC Symbol', 'NCBI gene', 'Havana gene', 'Clone_based_vega_gene']\n",
      "Rel:100, Ass['EntrezGene', 'Clone_based_ensembl_gene', 'NCBI gene (formerly Entrezgene)', 'UniProtKB Gene Name', 'HGNC Symbol', 'Havana gene', 'Clone_based_vega_gene']\n",
      "Rel:101, Ass['EntrezGene', 'Clone_based_ensembl_gene', 'NCBI gene (formerly Entrezgene)', 'UniProtKB Gene Name', 'HGNC Symbol', 'Havana gene', 'Clone_based_vega_gene']\n",
      "Rel:102, Ass['EntrezGene', 'Clone_based_ensembl_gene', 'NCBI gene (formerly Entrezgene)', 'UniProtKB Gene Name', 'HGNC Symbol', 'Havana gene', 'Clone_based_vega_gene']\n",
      "Rel:103, Ass['EntrezGene', 'Clone_based_ensembl_gene', 'NCBI gene (formerly Entrezgene)', 'UniProtKB Gene Name', 'HGNC Symbol', 'Havana gene', 'Clone_based_vega_gene']\n",
      "Rel:104, Ass['EntrezGene', 'Clone_based_ensembl_gene', 'NCBI gene (formerly Entrezgene)', 'UniProtKB Gene Name', 'HGNC Symbol', 'Havana gene', 'Clone_based_vega_gene']\n",
      "Rel:105, Ass['EntrezGene', 'Clone_based_ensembl_gene', 'NCBI gene (formerly Entrezgene)', 'UniProtKB Gene Name', 'HGNC Symbol', 'Havana gene', 'Clone_based_vega_gene']\n",
      "Rel:106, Ass['EntrezGene', 'Clone_based_ensembl_gene', 'NCBI gene (formerly Entrezgene)', 'UniProtKB Gene Name', 'HGNC Symbol', 'Havana gene', 'Clone_based_vega_gene']\n",
      "Rel:107, Ass['EntrezGene', 'Clone_based_ensembl_gene', 'NCBI gene (formerly Entrezgene)', 'UniProtKB Gene Name', 'HGNC Symbol', 'Havana gene', 'Clone_based_vega_gene']\n"
     ]
    }
   ],
   "source": [
    "\n",
    "for i in dm.available_releases:\n",
    "    ex = ExternalDatabases(dm.change_release(i))\n",
    "    ass = ex.give_list_for_case(give_type=\"db\")\n",
    "    print(f\"Rel:{i}, Ass{ass}\")"
   ]
  },
  {
   "cell_type": "code",
   "execution_count": null,
   "id": "4d9ce35f-6f8f-408f-a29e-6869514f4916",
   "metadata": {},
   "outputs": [],
   "source": []
  },
  {
   "cell_type": "code",
   "execution_count": null,
   "id": "955f28b2-d044-47e2-976f-20a43588d502",
   "metadata": {},
   "outputs": [],
   "source": []
  },
  {
   "cell_type": "code",
   "execution_count": null,
   "id": "fbaced09-60b3-4887-ac8f-1c29d918e3b9",
   "metadata": {},
   "outputs": [],
   "source": []
  },
  {
   "cell_type": "code",
   "execution_count": null,
   "id": "ebcbeca3-84b8-486b-ae36-45cf4f7b6eeb",
   "metadata": {},
   "outputs": [],
   "source": []
  },
  {
   "cell_type": "code",
   "execution_count": null,
   "id": "aafdca9e-14a5-484a-a3b1-4fa938218316",
   "metadata": {},
   "outputs": [],
   "source": []
  },
  {
   "cell_type": "code",
   "execution_count": null,
   "id": "c0358404-935a-41ee-a126-1d2618777a1d",
   "metadata": {},
   "outputs": [],
   "source": []
  },
  {
   "cell_type": "code",
   "execution_count": 68,
   "id": "9f55dd83-99fc-40a2-b553-466b46be49da",
   "metadata": {},
   "outputs": [
    {
     "data": {
      "text/plain": [
       "113"
      ]
     },
     "execution_count": 68,
     "metadata": {},
     "output_type": "execute_result"
    }
   ],
   "source": [
    "kalds=[i for i in jkl if len(jkl[i]) == 0]\n",
    "len(kalds)"
   ]
  },
  {
   "cell_type": "code",
   "execution_count": null,
   "id": "0a1a13eb-1eea-4dec-8821-309f6b871944",
   "metadata": {},
   "outputs": [],
   "source": []
  },
  {
   "cell_type": "code",
   "execution_count": 37,
   "id": "b768dba2-a432-4280-b0c9-396c4c55054d",
   "metadata": {},
   "outputs": [],
   "source": [
    "bok = rc37[rc37[\"id_db\"].isin(a)]"
   ]
  },
  {
   "cell_type": "code",
   "execution_count": 35,
   "id": "47fbc139-f20c-4ff3-8885-47e5030fa7dc",
   "metadata": {},
   "outputs": [
    {
     "data": {
      "text/plain": [
       "[('Clone-based (Vega) gene', 377),\n",
       " ('Clone_based_vega_gene', 377),\n",
       " ('Clone-based (Vega)', 377),\n",
       " ('Clone-based (Ensembl) gene', 87),\n",
       " ('Clone-based (Ensembl)', 87),\n",
       " ('Clone_based_ensembl_gene', 87),\n",
       " ('Uniprot_gn', 42),\n",
       " ('UniProtKB Gene Name', 42),\n",
       " ('EntrezGene', 41),\n",
       " ('NCBI gene (formerly Entrezgene)', 41),\n",
       " ('HGNC Symbol', 20),\n",
       " ('WikiGene', 17),\n",
       " ('RFAM', 2)]"
      ]
     },
     "execution_count": 35,
     "metadata": {},
     "output_type": "execute_result"
    }
   ],
   "source": [
    "dsd = []\n",
    "for i in a:\n",
    "    c =set([j for j in np.unique(bok[bok[\"id_db\"] == i][\"name_db\"])])\n",
    "    #print(c)\n",
    "    dsd.extend(c)\n",
    "from collections import Counter\n",
    "Counter(dsd).most_common()"
   ]
  },
  {
   "cell_type": "code",
   "execution_count": 38,
   "id": "a306bc21-eed4-4ea0-9ae9-88e5da1c7b20",
   "metadata": {},
   "outputs": [
    {
     "data": {
      "text/html": [
       "<div>\n",
       "<style scoped>\n",
       "    .dataframe tbody tr th:only-of-type {\n",
       "        vertical-align: middle;\n",
       "    }\n",
       "\n",
       "    .dataframe tbody tr th {\n",
       "        vertical-align: top;\n",
       "    }\n",
       "\n",
       "    .dataframe thead th {\n",
       "        text-align: right;\n",
       "    }\n",
       "</style>\n",
       "<table border=\"1\" class=\"dataframe\">\n",
       "  <thead>\n",
       "    <tr style=\"text-align: right;\">\n",
       "      <th></th>\n",
       "      <th>release</th>\n",
       "      <th>graph_id</th>\n",
       "      <th>id_db</th>\n",
       "      <th>name_db</th>\n",
       "      <th>ensembl_identity</th>\n",
       "      <th>xref_identity</th>\n",
       "    </tr>\n",
       "  </thead>\n",
       "  <tbody>\n",
       "    <tr>\n",
       "      <th>0</th>\n",
       "      <td>107</td>\n",
       "      <td>ENSG00000000003.10</td>\n",
       "      <td>ENSG00000000003</td>\n",
       "      <td>ArrayExpress</td>\n",
       "      <td>NaN</td>\n",
       "      <td>NaN</td>\n",
       "    </tr>\n",
       "    <tr>\n",
       "      <th>1</th>\n",
       "      <td>107</td>\n",
       "      <td>ENSG00000000005.5</td>\n",
       "      <td>ENSG00000000005</td>\n",
       "      <td>ArrayExpress</td>\n",
       "      <td>NaN</td>\n",
       "      <td>NaN</td>\n",
       "    </tr>\n",
       "    <tr>\n",
       "      <th>2</th>\n",
       "      <td>107</td>\n",
       "      <td>ENSG00000000419.8</td>\n",
       "      <td>ENSG00000000419</td>\n",
       "      <td>ArrayExpress</td>\n",
       "      <td>NaN</td>\n",
       "      <td>NaN</td>\n",
       "    </tr>\n",
       "    <tr>\n",
       "      <th>3</th>\n",
       "      <td>107</td>\n",
       "      <td>ENSG00000000457.9</td>\n",
       "      <td>ENSG00000000457</td>\n",
       "      <td>ArrayExpress</td>\n",
       "      <td>NaN</td>\n",
       "      <td>NaN</td>\n",
       "    </tr>\n",
       "    <tr>\n",
       "      <th>4</th>\n",
       "      <td>107</td>\n",
       "      <td>ENSG00000000460.12</td>\n",
       "      <td>ENSG00000000460</td>\n",
       "      <td>ArrayExpress</td>\n",
       "      <td>NaN</td>\n",
       "      <td>NaN</td>\n",
       "    </tr>\n",
       "    <tr>\n",
       "      <th>...</th>\n",
       "      <td>...</td>\n",
       "      <td>...</td>\n",
       "      <td>...</td>\n",
       "      <td>...</td>\n",
       "      <td>...</td>\n",
       "      <td>...</td>\n",
       "    </tr>\n",
       "    <tr>\n",
       "      <th>21725980</th>\n",
       "      <td>79</td>\n",
       "      <td>LRG_242.1</td>\n",
       "      <td>hsa-mir-4720</td>\n",
       "      <td>miRBase</td>\n",
       "      <td>NaN</td>\n",
       "      <td>NaN</td>\n",
       "    </tr>\n",
       "    <tr>\n",
       "      <th>21725981</th>\n",
       "      <td>79</td>\n",
       "      <td>LRG_368.1</td>\n",
       "      <td>MI0022645</td>\n",
       "      <td>miRBase</td>\n",
       "      <td>NaN</td>\n",
       "      <td>NaN</td>\n",
       "    </tr>\n",
       "    <tr>\n",
       "      <th>21725982</th>\n",
       "      <td>79</td>\n",
       "      <td>LRG_368.1</td>\n",
       "      <td>hsa-mir-6800</td>\n",
       "      <td>miRBase</td>\n",
       "      <td>NaN</td>\n",
       "      <td>NaN</td>\n",
       "    </tr>\n",
       "    <tr>\n",
       "      <th>21725983</th>\n",
       "      <td>79</td>\n",
       "      <td>LRG_55.1</td>\n",
       "      <td>MI0019134</td>\n",
       "      <td>miRBase</td>\n",
       "      <td>NaN</td>\n",
       "      <td>NaN</td>\n",
       "    </tr>\n",
       "    <tr>\n",
       "      <th>21725984</th>\n",
       "      <td>79</td>\n",
       "      <td>LRG_55.1</td>\n",
       "      <td>hsa-mir-664b</td>\n",
       "      <td>miRBase</td>\n",
       "      <td>NaN</td>\n",
       "      <td>NaN</td>\n",
       "    </tr>\n",
       "  </tbody>\n",
       "</table>\n",
       "<p>21678048 rows × 6 columns</p>\n",
       "</div>"
      ],
      "text/plain": [
       "          release            graph_id            id_db       name_db  \\\n",
       "0             107  ENSG00000000003.10  ENSG00000000003  ArrayExpress   \n",
       "1             107   ENSG00000000005.5  ENSG00000000005  ArrayExpress   \n",
       "2             107   ENSG00000000419.8  ENSG00000000419  ArrayExpress   \n",
       "3             107   ENSG00000000457.9  ENSG00000000457  ArrayExpress   \n",
       "4             107  ENSG00000000460.12  ENSG00000000460  ArrayExpress   \n",
       "...           ...                 ...              ...           ...   \n",
       "21725980       79           LRG_242.1     hsa-mir-4720       miRBase   \n",
       "21725981       79           LRG_368.1        MI0022645       miRBase   \n",
       "21725982       79           LRG_368.1     hsa-mir-6800       miRBase   \n",
       "21725983       79            LRG_55.1        MI0019134       miRBase   \n",
       "21725984       79            LRG_55.1     hsa-mir-664b       miRBase   \n",
       "\n",
       "          ensembl_identity  xref_identity  \n",
       "0                      NaN            NaN  \n",
       "1                      NaN            NaN  \n",
       "2                      NaN            NaN  \n",
       "3                      NaN            NaN  \n",
       "4                      NaN            NaN  \n",
       "...                    ...            ...  \n",
       "21725980               NaN            NaN  \n",
       "21725981               NaN            NaN  \n",
       "21725982               NaN            NaN  \n",
       "21725983               NaN            NaN  \n",
       "21725984               NaN            NaN  \n",
       "\n",
       "[21678048 rows x 6 columns]"
      ]
     },
     "execution_count": 38,
     "metadata": {},
     "output_type": "execute_result"
    }
   ],
   "source": [
    "boksuz"
   ]
  },
  {
   "cell_type": "code",
   "execution_count": null,
   "id": "9f18abf3-9f8b-44d3-b169-c99d70c70701",
   "metadata": {},
   "outputs": [],
   "source": []
  },
  {
   "cell_type": "code",
   "execution_count": 28,
   "id": "d257b829-efbd-466a-b9d3-15dfbd934bfb",
   "metadata": {},
   "outputs": [
    {
     "data": {
      "text/plain": [
       "['RP11-181G12.5',\n",
       " 'AL035406.1',\n",
       " 'PRAMEF3',\n",
       " 'C1orf134',\n",
       " 'RP5-930J4.4',\n",
       " 'RP1-74M1.3',\n",
       " 'AL353354.1',\n",
       " 'AL353354.2',\n",
       " 'RP11-442N24--B.1',\n",
       " 'RP1-212P9.2',\n",
       " 'RP11-242O24.5',\n",
       " 'FLJ00388',\n",
       " 'AL645730.2',\n",
       " 'RP5-850O15.4',\n",
       " 'RP5-1024G6.8',\n",
       " 'RP4-758J24.5',\n",
       " 'AL161915.1',\n",
       " 'RP11-115A15.1',\n",
       " 'RP11-347K2.1',\n",
       " 'RP11-347K2.2',\n",
       " 'RP11-439A17.7',\n",
       " 'RP11-343N15.5',\n",
       " 'AL592494.5',\n",
       " 'RP11-417J8.1',\n",
       " 'RP11-417J8.2',\n",
       " 'RP11-417J8.3',\n",
       " 'RP11-417J8.6',\n",
       " 'RP11-423O2.5',\n",
       " 'RP11-423O2.7',\n",
       " 'RP11-782C8.2',\n",
       " 'RP11-782C8.1',\n",
       " 'RP11-782C8.4',\n",
       " 'RP11-782C8.3',\n",
       " 'RP11-782C8.5',\n",
       " 'RP11-435B5.3',\n",
       " 'RP11-435B5.4',\n",
       " 'RP11-435B5.5',\n",
       " 'RP11-435B5.6',\n",
       " 'RP11-435B5.7',\n",
       " 'RP6-206I17.1',\n",
       " 'RP6-206I17.2',\n",
       " 'RP6-206I17.3',\n",
       " 'AL592284.1',\n",
       " 'AL590452.1',\n",
       " 'RP11-458D21.6',\n",
       " 'RP6-74O6.3',\n",
       " 'BX842679.1',\n",
       " 'XXyac-YX155B6.6',\n",
       " 'RP11-666A1.5',\n",
       " 'RP11-277L2.4',\n",
       " 'RP11-277L2.3',\n",
       " 'RP11-277L2.5',\n",
       " 'RP11-353N4.1',\n",
       " 'RP11-353N4.4',\n",
       " 'RP11-196G18.21',\n",
       " 'RP1-91G5.3',\n",
       " 'EFNA3.1',\n",
       " 'DCAF8.1',\n",
       " 'RP11-122G18.5',\n",
       " 'RP11-122G18.8',\n",
       " 'RP4-782G3.1',\n",
       " 'RP1-206D15.3',\n",
       " 'C1ORF220',\n",
       " 'RP5-1180C10.2',\n",
       " 'RP11-309G3.3',\n",
       " 'RP11-317P15.5',\n",
       " 'RP1-127C7.6',\n",
       " 'RP11-134G8.8',\n",
       " 'RP11-312O7.2',\n",
       " 'RP11-38J22.6',\n",
       " 'RP11-318L16.6',\n",
       " 'RP11-61J19.4',\n",
       " 'RP11-53A1.2',\n",
       " 'RP11-361K17.2',\n",
       " 'RP11-322F10.2',\n",
       " 'HLA-AS1',\n",
       " 'RP11-504P24.4',\n",
       " 'RP11-504P24.6',\n",
       " 'RP11-275O4.3',\n",
       " 'RP5-1068B5.3',\n",
       " 'RP11-99J16--A.2',\n",
       " 'RP11-488L4.1',\n",
       " 'TBCE-AS1',\n",
       " 'RP11-544D21.1',\n",
       " 'AL646016.1',\n",
       " 'AC092782.1',\n",
       " 'XX-CR54.3',\n",
       " 'DKFZP761K2322',\n",
       " 'AC012065.7',\n",
       " 'RP11-509E16.1',\n",
       " 'RP11-458N5.1',\n",
       " 'AC110084.1',\n",
       " 'AC007401.2',\n",
       " 'AC007377.1',\n",
       " 'AC138655.6',\n",
       " 'AC092669.2',\n",
       " 'RP11-427H3.3',\n",
       " 'RP11-711M9.1',\n",
       " 'MGC10955',\n",
       " 'CATX-2',\n",
       " 'AC005041.17',\n",
       " 'CH17-132F21.1',\n",
       " 'RP11-685N3.1',\n",
       " 'C2ORF15',\n",
       " 'MRPL30.1',\n",
       " 'FLJ20373',\n",
       " 'LIMS3.1',\n",
       " 'RP11-98C1.1',\n",
       " 'RP5-935K16.1',\n",
       " 'CYP4F31P',\n",
       " 'AC020601.1',\n",
       " 'AC011308.1',\n",
       " 'AC068039.1',\n",
       " 'RP11-65L3.1',\n",
       " 'RP11-88L24.4',\n",
       " 'AC018867.2',\n",
       " 'RP11-469M7.1',\n",
       " 'MGC4771',\n",
       " 'RP11-648F7.1',\n",
       " 'AC104841.2',\n",
       " 'LINC00312',\n",
       " 'RP11-58B17.2',\n",
       " 'RP11-129K12.4',\n",
       " 'RP11-129K12.3',\n",
       " 'RP11-391M1.4',\n",
       " 'KRBOX1.1',\n",
       " 'NICN1-AS1',\n",
       " 'RP11-155D18.14',\n",
       " 'LINC00696',\n",
       " 'TLR9.1',\n",
       " 'RPP14.1',\n",
       " 'NPCDR1',\n",
       " 'CRYBG3.1',\n",
       " 'RP11-114I8.4',\n",
       " 'RP11-572C15.6',\n",
       " 'RP11-71H17.9',\n",
       " 'RP11-271K21.11',\n",
       " 'RP11-485G4.2',\n",
       " 'snoU13',\n",
       " 'RP11-38P22.2',\n",
       " 'PP13439',\n",
       " 'AC092964.2',\n",
       " 'RP11-523G9.3',\n",
       " 'RP11-245C23.3',\n",
       " 'RP11-255C15.4',\n",
       " 'RP11-145M9.4',\n",
       " 'RP11-134F2.2',\n",
       " 'TM4SF19.1',\n",
       " 'RP11-539G18.2',\n",
       " 'RP11-393M11.2',\n",
       " 'UGT2A1.1',\n",
       " 'RP11-352E8.2',\n",
       " 'RP11-727M10.2',\n",
       " 'FAM47E-STBD1.1',\n",
       " 'RP11-84C13.1',\n",
       " 'RP11-21I10.2',\n",
       " 'RP11-219C20.3',\n",
       " 'CTD-2029E14.1',\n",
       " 'CTD-2044J15.2',\n",
       " 'RP11-215G15.5',\n",
       " 'AC010368.2',\n",
       " 'CKS1B.1',\n",
       " 'CTD-2306M10.1',\n",
       " 'RP11-195E2.4',\n",
       " 'CTC-365E16.1',\n",
       " 'RP11-389C8.3',\n",
       " 'AC008387.1',\n",
       " 'RP11-466P24.7',\n",
       " 'CTC-428G20.3',\n",
       " 'CTC-369A16.3',\n",
       " 'RP11-436H11.2',\n",
       " 'RP11-436H11.3',\n",
       " 'RP11-436H11.4',\n",
       " 'RP11-436H11.6',\n",
       " 'RP11-425E13.1',\n",
       " 'RP11-395P13.2',\n",
       " 'RP11-395P13.1',\n",
       " 'RP11-395P13.3',\n",
       " 'RP11-395P13.5',\n",
       " 'RP11-395P13.6',\n",
       " 'RP11-381K20.5',\n",
       " 'AC131025.8',\n",
       " 'AC010441.1',\n",
       " 'AC112205.1',\n",
       " 'RP1-90J20.12',\n",
       " 'C6ORF50',\n",
       " 'AL583828.1',\n",
       " 'U91328.20',\n",
       " 'CFB.1',\n",
       " 'TAP2.1',\n",
       " 'AL133262.1',\n",
       " 'RP11-59D5--B.2',\n",
       " 'RP11-445L13--B.3',\n",
       " 'RP1-3J17.3',\n",
       " 'RP1-102H19.8',\n",
       " 'C6ORF165',\n",
       " 'RP3-453D15.1',\n",
       " 'RP11-544L8--B.4',\n",
       " 'AL121963.1',\n",
       " 'RP1-93H18.7',\n",
       " 'SOGA3.1',\n",
       " 'RP1-86D1.4',\n",
       " 'RP3-323P13.2',\n",
       " 'RP13-143G15.3',\n",
       " 'RP1-20N2.6',\n",
       " 'RP11-361F15.2',\n",
       " 'RP1-12G14.6',\n",
       " 'RP11-133I21.2',\n",
       " 'RP11-732M18.3',\n",
       " 'AL591025.1',\n",
       " 'RP11-288H12.4',\n",
       " 'AL078585.1',\n",
       " 'SDIM1',\n",
       " 'SNORD45',\n",
       " 'Z98049.1',\n",
       " 'XXyac-YX65C7-A.2',\n",
       " 'XXyac-YX65C7-A.3',\n",
       " 'AC004840.9',\n",
       " 'FLJ20306',\n",
       " 'RP11-611L7.1',\n",
       " 'AC011891.5',\n",
       " 'RP11-196O16.1',\n",
       " 'AC005682.8',\n",
       " 'RP1-170O19.21',\n",
       " 'RP1-170O19.20',\n",
       " 'AQP1.1',\n",
       " 'AC005493.1',\n",
       " 'PP13004',\n",
       " 'PSMA2.1',\n",
       " 'MRPS17.1',\n",
       " 'AC005488.1',\n",
       " 'AC006014.1',\n",
       " 'CTB-167B5.2',\n",
       " 'RP11-682N22.1',\n",
       " 'DLX6-AS2',\n",
       " 'RP4-607J23.2',\n",
       " 'MUC3A.1',\n",
       " 'POLR2J2.1',\n",
       " 'RP11-325F22.5',\n",
       " 'FLJ00325',\n",
       " 'TSRM',\n",
       " 'RP11-274B21.8',\n",
       " 'RP11-309L24.9',\n",
       " 'RP11-2E11.10',\n",
       " 'AC015987.2',\n",
       " 'RP4-813F11.4',\n",
       " 'AC073236.3',\n",
       " 'AL353698.1',\n",
       " 'RP11-402P6.7',\n",
       " 'RP3-326L13.3',\n",
       " 'RP11-524D16--A.3',\n",
       " 'RP3-327A19.5',\n",
       " 'RP11-453F18--B.1',\n",
       " 'IDS.1',\n",
       " 'U82670.4',\n",
       " 'U82695.10',\n",
       " 'RP11-585F1.10',\n",
       " 'RP11-91J19.4',\n",
       " 'CTD-2541M15.4',\n",
       " 'SOX7.1',\n",
       " 'RP11-481A20.11',\n",
       " 'FAM85A',\n",
       " 'DEFB130.1',\n",
       " 'LINC00965',\n",
       " 'RP11-242F4.2',\n",
       " 'AC051642.1',\n",
       " 'FP15737',\n",
       " 'RP11-1002K11.1',\n",
       " 'AC012215.1',\n",
       " 'RP11-503E24.3',\n",
       " 'RP11-446E9.2',\n",
       " 'Metazoa-SRP',\n",
       " 'Y-RNA',\n",
       " 'RP11-127H5.1',\n",
       " 'RP11-383J24.6',\n",
       " 'OC90.1',\n",
       " 'ZFP41.1',\n",
       " '7SK.1',\n",
       " 'RP11-661A12.14',\n",
       " 'KM-PA-2',\n",
       " 'RP11-509J21.3',\n",
       " 'AL161450.1',\n",
       " 'C9orf38',\n",
       " 'RP11-33G16.1',\n",
       " 'RP11-176F3.7',\n",
       " 'GALT.1',\n",
       " 'FLJ00273',\n",
       " 'ANKRD18A.1',\n",
       " 'RP11-95H8.5',\n",
       " 'AL353791.1',\n",
       " 'RP11-395E19.7',\n",
       " 'RP11-95K23.6',\n",
       " 'RP11-95K23.5',\n",
       " 'RP11-95K23.3',\n",
       " 'RP11-216M21.7',\n",
       " 'RP11-327I22.4',\n",
       " 'RP11-327I22.6',\n",
       " 'RP11-327I22.8',\n",
       " 'RP11-187C18.2',\n",
       " 'RP11-292F9.2',\n",
       " 'AL953854.2',\n",
       " 'RP11-38P6.1',\n",
       " 'RP11-82L18.4',\n",
       " 'DKFZP434H0512',\n",
       " 'RP11-498E2.7',\n",
       " 'RP11-498E2.8',\n",
       " 'RP11-489N22.3',\n",
       " 'RP11-395P17.11',\n",
       " 'RP11-339B21.15',\n",
       " 'RP11-339B21.14',\n",
       " 'AL354898.1',\n",
       " 'LCN6.1',\n",
       " 'RP11-229P13.20',\n",
       " 'RP11-809C18.4',\n",
       " 'DKFZP667F0711',\n",
       " 'AL138764.1',\n",
       " 'TMEM236.1',\n",
       " 'RP11-139J15.7',\n",
       " 'RP11-192P3.5',\n",
       " 'C10ORF68',\n",
       " 'LINC00999',\n",
       " 'RP11-144G6.10',\n",
       " 'RP11-292F22.5',\n",
       " 'RP11-292F22.7',\n",
       " 'AL603965.1',\n",
       " 'RP11-463P17.1',\n",
       " 'RP11-463P17.3',\n",
       " 'RP11-508M1.7',\n",
       " 'FAM21D',\n",
       " 'RP11-592B15.9',\n",
       " 'RP11-432J9.5',\n",
       " 'RP11-178G16.4',\n",
       " 'RP11-178G16.5',\n",
       " 'RP11-119F19.2',\n",
       " 'RP11-137H2.6',\n",
       " 'RP11-93H12.2',\n",
       " 'PI4K2A.1',\n",
       " 'GOLGA7B.1',\n",
       " 'NDUFB8.1',\n",
       " 'HUG1',\n",
       " 'RP11-31L23.3',\n",
       " 'RP11-451M19.3',\n",
       " 'RP11-324O2.6',\n",
       " 'AL162407.1',\n",
       " 'RP13-238F13.5',\n",
       " 'AL355531.2',\n",
       " 'RP11-288G11.3',\n",
       " 'RP11-122K13.14',\n",
       " 'TIMM10B.1',\n",
       " 'PSMA1.1',\n",
       " 'AC103801.2',\n",
       " 'Z83307.3',\n",
       " 'LINC00610',\n",
       " 'KBTBD4.1',\n",
       " 'RP11-466C23.4',\n",
       " 'RP11-869B15.1',\n",
       " 'RP11-665N17.4',\n",
       " 'CTD-3074O7.12',\n",
       " 'CTC-1337H24.1',\n",
       " 'CTC-1337H24.2',\n",
       " 'RP11-707G14.7',\n",
       " 'DKFZP434E1119',\n",
       " 'AP001024.2',\n",
       " 'ALG9.1',\n",
       " 'SDHD.1',\n",
       " 'AP006216.11',\n",
       " 'RP11-158I9.7',\n",
       " 'MFRP.1',\n",
       " 'AP000758.1',\n",
       " 'AP002348.1',\n",
       " 'U47924.30',\n",
       " 'RP11-350F4.2',\n",
       " 'DKFZP779L1853',\n",
       " 'AC140061.12',\n",
       " 'RP11-686F15.3',\n",
       " 'AC012531.23',\n",
       " 'HOXC4.1',\n",
       " 'TMBIM4.1',\n",
       " 'AC124890.1',\n",
       " 'AC073528.1',\n",
       " 'SNORA40.1',\n",
       " 'RP11-423G4.7',\n",
       " 'RP3-462E2.3',\n",
       " 'RP3-462E2.5',\n",
       " 'RP11-809C9.2',\n",
       " 'RP11-216P16.2',\n",
       " 'RP11-324E6.9',\n",
       " 'RP11-282O18.6',\n",
       " 'MUC8',\n",
       " 'AC226150.4',\n",
       " 'AL354808.2',\n",
       " 'RP11-101P17.11',\n",
       " 'AL139080.1',\n",
       " 'LSP1.1',\n",
       " 'AL138815.2',\n",
       " 'RP11-37E23.5',\n",
       " 'AL136218.1',\n",
       " 'TBC1D4-AS1',\n",
       " 'RP11-29B2.5',\n",
       " 'BMS1P18',\n",
       " 'RNASE11.1',\n",
       " 'AL163636.6',\n",
       " 'RP11-998D10.7',\n",
       " 'CTD-2555K7.4',\n",
       " 'TM9SF1.1',\n",
       " 'LTB4R2.1',\n",
       " 'RP11-671J11.6',\n",
       " 'KIAA0391.1',\n",
       " 'MDGA2.1',\n",
       " 'RP11-1012E15.1',\n",
       " 'RP11-1085N6.6',\n",
       " 'RP11-1042B17.5',\n",
       " 'RP11-355I22.6',\n",
       " 'CTD-2555O16.3',\n",
       " 'CCDC177.1',\n",
       " 'RP11-316E14.6',\n",
       " 'DKFZP434O1614',\n",
       " 'RP11-566J3.4',\n",
       " 'RP11-796G6.2',\n",
       " 'RP11-73M18.9',\n",
       " 'CRIP1.1',\n",
       " 'DKFZP547L112',\n",
       " 'RP11-928F19.5',\n",
       " 'RP11-467N20.5',\n",
       " 'RP11-73C9.1',\n",
       " 'SNURF.1',\n",
       " 'RP11-382B18.4',\n",
       " 'RP11-23P13.7',\n",
       " 'C15ORF31',\n",
       " 'CTD-3185P2.2',\n",
       " 'RP11-709B3.2',\n",
       " 'RP11-138H8.7',\n",
       " 'CELF6.1',\n",
       " 'CTD-2235H24.2',\n",
       " 'RP11-817O13.6',\n",
       " 'RP11-797A18.4',\n",
       " 'RP11-358L4.1',\n",
       " 'C15ORF37',\n",
       " 'RP11-697E2.4',\n",
       " 'RP11-4F5.2',\n",
       " 'RP11-461F11.1',\n",
       " 'DKFZP779J2370',\n",
       " 'ITFG3.1',\n",
       " 'XX-DJ76P10--A.2',\n",
       " 'NAA60.1',\n",
       " 'AC092291.2',\n",
       " 'NPIPA7.1',\n",
       " 'NPIPA7.2',\n",
       " 'CTD-2196E14.4',\n",
       " 'CLN3.1',\n",
       " 'AC009133.14',\n",
       " 'AC009133.20',\n",
       " 'PAGR1.1',\n",
       " 'SEPT1.1',\n",
       " 'ZNF747.1',\n",
       " 'RP11-2C24.6',\n",
       " 'ZNF668.1',\n",
       " 'RP11-388M20.9',\n",
       " '5S-rRNA',\n",
       " 'RP11-480G7.1',\n",
       " 'RP11-142G1.2',\n",
       " 'RP11-407G23.3',\n",
       " 'RP11-105C20.2',\n",
       " 'Y-RNA.1',\n",
       " 'RP11-61A14.2',\n",
       " 'RP11-61A14.3',\n",
       " 'CHTF8.1',\n",
       " 'RP11-49C24.1',\n",
       " 'FLJ00418',\n",
       " 'RP11-498D10.5',\n",
       " 'RP11-498D10.6',\n",
       " 'RP5-991G20.4',\n",
       " 'RP11-252A24.7',\n",
       " 'PIH1',\n",
       " '7SK.2',\n",
       " 'RP11-483P21.3',\n",
       " 'FLJ00104',\n",
       " 'RP11-46C24.5',\n",
       " 'TUBB3.1',\n",
       " 'SHPK.1',\n",
       " 'CTD-3195I5.5',\n",
       " 'CTD-3195I5.1',\n",
       " 'AC007421.1',\n",
       " 'RP11-849F2.8',\n",
       " 'AC000003.2',\n",
       " 'CTC-297N7.8',\n",
       " 'CTC-297N7.5',\n",
       " 'CDRT1.1',\n",
       " 'ZNF286A.1',\n",
       " 'RP1-178F10.3',\n",
       " 'CTD-2145A24.3',\n",
       " 'CTB-187M2.3',\n",
       " 'Y-RNA.2',\n",
       " 'RP11-173M1.8',\n",
       " 'AC061975.10',\n",
       " 'CTD-2350C19.1',\n",
       " 'AC005549.3',\n",
       " 'CTC-507E2.1',\n",
       " 'RP11-115K3.1',\n",
       " 'RP11-1407O15.2',\n",
       " 'RP11-690G19.3',\n",
       " 'RP11-94L15.2',\n",
       " 'CTD-2267D19.6',\n",
       " 'KRT222.1',\n",
       " 'CTD-3199J23.4',\n",
       " 'ITGB3.1',\n",
       " 'CTD-2377D24.8',\n",
       " 'RP11-708H21.4',\n",
       " 'CTC-462L7.1',\n",
       " 'RP11-670E13.2',\n",
       " 'ACE.1',\n",
       " 'RP11-84E24.2',\n",
       " 'RP11-143K11.1',\n",
       " 'AC103809.2',\n",
       " 'RP11-649A18.7',\n",
       " 'RP11-1055B8.6',\n",
       " 'RP11-1055B8.7',\n",
       " 'SLC25A10.1',\n",
       " 'AC174470.1',\n",
       " 'RP11-720L2.3',\n",
       " 'RP11-1157N2--B.2',\n",
       " 'RP11-13N13.2',\n",
       " 'RP11-408H20.1',\n",
       " 'RP11-687F6.1',\n",
       " 'IER3IP1.1',\n",
       " 'AC091150.1',\n",
       " 'RP11-108P20.1',\n",
       " 'AC015989.1',\n",
       " 'AC015989.2',\n",
       " 'TMEM239.1',\n",
       " 'RP1-63M2.6',\n",
       " 'RP1-64K7.4',\n",
       " 'RP3-477O4.16',\n",
       " 'RP5-977B1.11',\n",
       " 'RBL1.1',\n",
       " 'RP5-1013A22.5',\n",
       " 'Z97053.1',\n",
       " 'AL158091.1',\n",
       " 'C20ORF135',\n",
       " 'AC016626.2',\n",
       " 'AC005559.2',\n",
       " 'LLNLR-299G3.1',\n",
       " 'AC006273.7',\n",
       " 'AC004528.4',\n",
       " 'CTB-25B13.6',\n",
       " 'AC005943.5',\n",
       " 'UQCR11.1',\n",
       " 'LLfos-48D6.1',\n",
       " 'CTC-503J8.6',\n",
       " 'CTB-25J19.9',\n",
       " 'NDUFA7.1',\n",
       " 'CTD-2369P2.2',\n",
       " 'DKFZP761J1410',\n",
       " 'ZNF763.1',\n",
       " 'ZNF788.1',\n",
       " 'CTD-3105H18.13',\n",
       " 'ZNF709.1',\n",
       " 'AC090427.1',\n",
       " 'AC004257.3',\n",
       " 'CTD-3222D19.7',\n",
       " 'PIK3R2.1',\n",
       " 'CTC-451A6.4',\n",
       " 'AC020952.1',\n",
       " 'AC007773.3',\n",
       " 'CTD-2085J24.4',\n",
       " 'CTD-3234P18.2',\n",
       " 'CTD-2162K18.5',\n",
       " 'CTD-2086O20.3',\n",
       " 'AC026806.2',\n",
       " 'AC005789.11',\n",
       " 'CTB-60E11.4',\n",
       " 'CTC-471F3.6',\n",
       " 'ZNF223.1',\n",
       " 'AC069278.4',\n",
       " 'L47234.1',\n",
       " 'CTD-3023J11.2',\n",
       " 'CTC-273B12.6',\n",
       " 'CTC-273B12.8',\n",
       " 'AC037199.1',\n",
       " 'KLK9.1',\n",
       " 'SIGLEC5.1',\n",
       " 'CTD-2620I22.7',\n",
       " 'CTB-167G5.5',\n",
       " 'CTD-2337J16.1',\n",
       " 'CTD-2587H19.1',\n",
       " 'CTC-550B14.8',\n",
       " 'CTD-2105E13.13',\n",
       " 'CTD-2537I9.5',\n",
       " 'AC010525.6',\n",
       " 'AC010525.7',\n",
       " 'AC004017.1',\n",
       " 'ZNF8.1',\n",
       " 'AC012067.1',\n",
       " 'AC006156.1',\n",
       " 'AC004019.18',\n",
       " 'XXbac-B33L19.3',\n",
       " 'LL22NC03-N27C7.1',\n",
       " 'KB-226F1.1',\n",
       " 'CTA-445C9.15',\n",
       " 'RP1-213J1P--B.1',\n",
       " 'RP1-213J1P--B.2',\n",
       " 'RP1-130H16.16',\n",
       " 'AC005003.1',\n",
       " 'RP11-247I13.8',\n",
       " 'RP4-633O19--A.1',\n",
       " 'CTA-250D10.23',\n",
       " 'RP4-754E20--A.5',\n",
       " 'FLJ27365',\n",
       " 'CTA-280A3--B.2',\n",
       " 'AL050302.1',\n",
       " '7SK.3',\n",
       " 'AP000304.1',\n",
       " 'SLC5A3.1',\n",
       " 'AP001421.1',\n",
       " 'AP001044.2',\n",
       " 'AP001055.1',\n",
       " 'AP001505.9',\n",
       " 'AP001579.1',\n",
       " 'PRED58',\n",
       " 'PRED60',\n",
       " 'PRED62',\n",
       " 'AL360154.1',\n",
       " 'AC109135.1',\n",
       " 'FRG2C.1',\n",
       " 'AL592170.1',\n",
       " 'ZNF84.1',\n",
       " 'ZNF26.1',\n",
       " 'AL603926.1',\n",
       " 'AL162851.1',\n",
       " 'KIR3DL2.1',\n",
       " 'AL590523.1',\n",
       " 'PNRC2.1',\n",
       " 'SRSF10.1',\n",
       " 'AC145205.1',\n",
       " 'CU459201.1',\n",
       " 'AC002321.2',\n",
       " 'AC002321.1']"
      ]
     },
     "execution_count": 28,
     "metadata": {},
     "output_type": "execute_result"
    }
   ],
   "source": [
    "a"
   ]
  },
  {
   "cell_type": "code",
   "execution_count": null,
   "id": "e95fe990-37c1-41f1-bd6c-b6638ddbb3ac",
   "metadata": {},
   "outputs": [],
   "source": []
  }
 ],
 "metadata": {
  "kernelspec": {
   "display_name": "Python 3 (ipykernel)",
   "language": "python",
   "name": "python3"
  },
  "language_info": {
   "codemirror_mode": {
    "name": "ipython",
    "version": 3
   },
   "file_extension": ".py",
   "mimetype": "text/x-python",
   "name": "python",
   "nbconvert_exporter": "python",
   "pygments_lexer": "ipython3",
   "version": "3.9.12"
  }
 },
 "nbformat": 4,
 "nbformat_minor": 5
}
