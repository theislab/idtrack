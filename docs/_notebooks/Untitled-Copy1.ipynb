{
 "cells": [
  {
   "cell_type": "markdown",
   "id": "f0a953fc-cc27-4a89-b264-153f2f7cad0e",
   "metadata": {},
   "source": [
    "# Ciro"
   ]
  },
  {
   "cell_type": "code",
   "execution_count": 1,
   "id": "9651dc52-4341-4175-9491-ef815cb2b775",
   "metadata": {},
   "outputs": [],
   "source": [
    "import os\n",
    "import scanpy as sc\n",
    "import pickle\n",
    "import sys\n",
    "from collections import Counter\n",
    "sys.path.append(\"../..\")"
   ]
  },
  {
   "cell_type": "code",
   "execution_count": 2,
   "id": "dd541ab2-5b75-4405-9082-5093f25000a7",
   "metadata": {},
   "outputs": [],
   "source": [
    "from idtrack import *\n",
    "from idtrack._track_tests import *"
   ]
  },
  {
   "cell_type": "code",
   "execution_count": 3,
   "id": "fb66f86f-a47a-4dbe-ac43-627a953d4332",
   "metadata": {},
   "outputs": [],
   "source": [
    "logger_config()\n",
    "local_dir = \"/lustre/groups/ml01/workspace/kemal.inecik/idtrack_temp\"  # or any other local directory\n",
    "dm = DatabaseManager(\"homo_sapiens\", 107, \"gene\", local_dir, 79) "
   ]
  },
  {
   "cell_type": "code",
   "execution_count": 4,
   "id": "5150b28b-3ab4-4398-9ad9-dda774a96466",
   "metadata": {},
   "outputs": [
    {
     "name": "stderr",
     "output_type": "stream",
     "text": [
      "2022-08-16 22:59:12 INFO:graph: The graph is being read.\n"
     ]
    }
   ],
   "source": [
    "tt: TrackTests = TrackTests(dm)"
   ]
  },
  {
   "cell_type": "code",
   "execution_count": 5,
   "id": "dbed66bd-cb19-454c-8d98-a976a8f36b87",
   "metadata": {},
   "outputs": [],
   "source": [
    "base_path = \"/lustre/groups/ml01/workspace/hlca_lisa.sikkema_malte.luecken/HLCA_reproducibility/data\"\n",
    "dset0_dir = os.path.join(base_path, \"HLCA_extended/extension_datasets/ready/full\")\n",
    "dset1_dir = os.path.join(base_path, \"HLCA_extended/extension_datasets/raw\")\n",
    "\n",
    "adata_dict = {\n",
    "    \"Kaminski_2020\": [f\"{dset0_dir}/adams.h5ad\"],\n",
    "    \"Meyer_2021\": [f\"{dset0_dir}/meyer_2021.h5ad\"],\n",
    "    \"MeyerNikolic_unpubl\": [f\"{dset0_dir}/meyer_nikolic_unpubl.h5ad\"],\n",
    "    \"Barbry_unpubl\": [f\"{dset0_dir}/barbry.h5ad\"],\n",
    "    \"Regev_2021\": [\n",
    "        f\"{dset0_dir}/delorey_cryo.h5ad\", f\"{dset0_dir}/delorey_fresh.h5ad\",\n",
    "        f\"{dset0_dir}/delorey_nuclei.h5ad\"\n",
    "    ],\n",
    "    \"Thienpont_2018\": [f\"{dset1_dir}/Lambrechts/lambrechts.h5ad\"],\n",
    "    \"Budinger_2020\": [f\"{dset0_dir}/bharat.h5ad\"],\n",
    "    \"Banovich_Kropski_2020\": [f\"{dset0_dir}/haberman.h5ad\"],\n",
    "    \"Sheppard_2020\": [f\"{dset0_dir}/tsukui.h5ad\"],\n",
    "    \"Wunderink_2021\": [\n",
    "        f\"{dset0_dir}/grant_cryo.h5ad\", f\"{dset0_dir}/grant_fresh.h5ad\"\n",
    "    ],\n",
    "    \"Lambrechts_2021\": [\n",
    "        f\"{dset0_dir}/wouters.h5ad\" #, f\"{dset0_dir}/wouters_labs.h5ad\"\n",
    "    ],\n",
    "    \"Zhang_2021\": [f\"{dset1_dir}/Liao/covid_for_publish.h5ad\"],\n",
    "    \"Duong_lungMAP_unpubl\": [f\"{dset0_dir}/duong.h5ad\"],\n",
    "    \"Janssen_2020\": [f\"{dset0_dir}/mould.h5ad\"],\n",
    "    \"Sun_2020\": [\n",
    "        f\"{dset0_dir}/wang_sub_batch1.h5ad\", f\"{dset0_dir}/wang_sub_batch2.h5ad\",\n",
    "        f\"{dset0_dir}/wang_sub_batch3.h5ad\", f\"{dset0_dir}/wang_sub_batch4.h5ad\"],\n",
    "    \"Gomperts_2021\": [\n",
    "        f\"{dset0_dir}/carraro_ucla.h5ad\", f\"{dset0_dir}/carraro_cff.h5ad\",\n",
    "        f\"{dset0_dir}/carraro_csmc.h5ad\"],\n",
    "    \"Eils_2020\": [f\"{dset0_dir}/lukassen.h5ad\"],\n",
    "    \"Schiller_2020\": [f\"{dset0_dir}/mayr.h5ad\"],\n",
    "    \"Misharin_Budinger_2018\": [f\"{dset0_dir}/reyfman_disease.h5ad\"],\n",
    "    \"Shalek_2018\": [f\"{dset0_dir}/ordovasmontanes.h5ad\"],\n",
    "    \"Schiller_2021\": [f\"{dset0_dir}/schiller_discovair.h5ad\"],\n",
    "    \"Peer_Massague_2020\": [f\"{dset0_dir}/laughney.h5ad\"],\n",
    "    \"Lafyatis_2019\": [f\"{dset0_dir}/valenzi.h5ad\"],\n",
    "    \"Tata_unpubl\": [f\"{dset0_dir}/tata_unpubl.h5ad\"],\n",
    "    \"Xu_2020\": [f\"{dset0_dir}/guo.h5ad\"],\n",
    "    \"Sims_2019\": [f\"{dset0_dir}/szabo.h5ad\"],\n",
    "    \"Schultze_unpubl\": [f\"{dset0_dir}/schultze_unpubl.h5ad\"]\n",
    "}"
   ]
  },
  {
   "cell_type": "code",
   "execution_count": null,
   "id": "f2fbf402-ef9b-44bc-8f96-9ccd977b9c03",
   "metadata": {},
   "outputs": [],
   "source": [
    "##### Conversion and save"
   ]
  },
  {
   "cell_type": "code",
   "execution_count": null,
   "id": "60ae3c86-dc87-45f4-9fb7-b1e70c02feb9",
   "metadata": {},
   "outputs": [],
   "source": [
    "results = dict()\n",
    "\n",
    "for ddadaata in adata_dict:\n",
    "    \n",
    "    adata = sc.read(adata_dict[ddadaata][0])\n",
    "    gene_list = list(adata.var.index)\n",
    "    \n",
    "    entered_gene_list = list()\n",
    "    return_list = list()\n",
    "    \n",
    "    print(ddadaata)\n",
    "    for ind, gl in enumerate(gene_list):\n",
    "        if ind % 100 == 0 or ind > len(gene_list)-5:\n",
    "            progress_bar(ind, len(gene_list)-1)\n",
    "        \n",
    "        new_gl, is_converted = tt.unfound_node_solutions(gl)\n",
    "        if new_gl is None:\n",
    "            new_gl, is_converted = tt.unfound_node_solutions(f\"{DB.synonym_id_nodes_prefix}{gl}\")\n",
    "            is_converted = True if new_gl is not None else False\n",
    "\n",
    "        if new_gl is None:\n",
    "            return_list.append([])\n",
    "        elif new_gl and is_converted:\n",
    "            conv = tt.convert(new_gl, None, None, 'ensembl_gene', prioritize_to_one_filter=True, return_path=False)\n",
    "            return_list.append(list(conv) if conv is not None else [])\n",
    "            entered_gene_list.append(new_gl)\n",
    "        elif new_gl:\n",
    "            conv = tt.convert(gl, None, None, 'ensembl_gene', prioritize_to_one_filter=True, return_path=False)\n",
    "            return_list.append(list(conv) if conv is not None else [])\n",
    "            entered_gene_list.append(gl)\n",
    "        else:\n",
    "            raise ValueError\n",
    "    print(tt.identify_source(entered_gene_list)[0])\n",
    "    print(list(Counter([len(i) for i in return_list]).most_common())[:10])\n",
    "    results[ddadaata] = (gene_list, return_list)\n",
    "    print()\n",
    "\n",
    "file_path = os.path.join(local_dir, \"results_preliminary_for_hlca.pk\")\n",
    "with open(file_path, 'wb') as handle:\n",
    "    pickle.dump(result, handle)\n",
    "    print(f\"Saved: {file_path}\")"
   ]
  },
  {
   "cell_type": "markdown",
   "id": "ef51aada-eb23-4e70-a75b-2e604efe983a",
   "metadata": {},
   "source": [
    "##### HGNC vs Ensembl gene as targets"
   ]
  },
  {
   "cell_type": "code",
   "execution_count": 22,
   "id": "21829a6f-2d39-4e3f-abdb-94253edacca2",
   "metadata": {},
   "outputs": [
    {
     "name": "stdout",
     "output_type": "stream",
     "text": [
      "Kaminski_2020 45947\n",
      "Progress: |████████████████████| 100.0% \n",
      "(('HGNC Symbol', 94), 30503)\n",
      "[(1, 45536), (0, 411)]\n",
      "\n",
      "Kaminski_2020 45947\n",
      "Progress: |████████████████████| 100.0% \n",
      "(('HGNC Symbol', 94), 30503)\n",
      "[(1, 32341), (0, 12792), (2, 720), (3, 64), (7, 11), (4, 8), (5, 5), (6, 4), (16, 2)]\n",
      "\n"
     ]
    }
   ],
   "source": [
    "ddadaata = \"Kaminski_2020\"\n",
    "adata = sc.read(adata_dict[ddadaata][0])\n",
    "\n",
    "gene_list = list(adata.var.index)\n",
    "entered_gene_list = list()\n",
    "return_list = list()\n",
    "print(ddadaata, len(gene_list))\n",
    "\n",
    "for ind, gl in enumerate(gene_list):\n",
    "    \n",
    "    if ind % 100 == 0 or ind > len(gene_list)-5:\n",
    "        progress_bar(ind, len(gene_list)-1)\n",
    "    \n",
    "    new_gl, is_converted = tt.unfound_node_solutions(gl)\n",
    "    if new_gl is None:\n",
    "        new_gl, is_converted = tt.unfound_node_solutions(f\"{DB.synonym_id_nodes_prefix}{gl}\")\n",
    "        is_converted = True if new_gl is not None else False\n",
    "\n",
    "    if new_gl is None:\n",
    "        return_list.append([])\n",
    "    elif new_gl and is_converted:\n",
    "        conv = tt.convert(new_gl, None, None, 'ensembl_gene', prioritize_to_one_filter=True, return_path=False)\n",
    "        return_list.append(list(conv) if conv is not None else [])\n",
    "        entered_gene_list.append(new_gl)\n",
    "    elif new_gl:\n",
    "        conv = tt.convert(gl, None, None, 'ensembl_gene', prioritize_to_one_filter=True, return_path=False)\n",
    "        return_list.append(list(conv) if conv is not None else [])\n",
    "        entered_gene_list.append(gl)\n",
    "    else:\n",
    "        raise ValueError\n",
    "print(tt.identify_source(entered_gene_list)[0])\n",
    "print(list(Counter([len(i) for i in return_list]).most_common())[:10])\n",
    "print()\n",
    "\n",
    "gene_list = list(adata.var.index)\n",
    "entered_gene_list = list()\n",
    "return_list = list()\n",
    "print(ddadaata, len(gene_list))\n",
    "\n",
    "for ind, gl in enumerate(gene_list):\n",
    "    if ind % 100 == 0 or ind > len(gene_list)-5:\n",
    "        progress_bar(ind, len(gene_list)-1)\n",
    "\n",
    "    new_gl, is_converted = tt.unfound_node_solutions(gl)\n",
    "    if new_gl is None:\n",
    "        new_gl, is_converted = tt.unfound_node_solutions(f\"{DB.synonym_id_nodes_prefix}{gl}\")\n",
    "        is_converted = True if new_gl is not None else False\n",
    "\n",
    "    if new_gl is None:\n",
    "        return_list.append([])\n",
    "    elif new_gl and is_converted:\n",
    "        conv = tt.convert(new_gl, None, None, 'HGNC Symbol', prioritize_to_one_filter=True, return_path=False)\n",
    "        return_list.append(list(conv) if conv is not None else [])\n",
    "        entered_gene_list.append(new_gl)\n",
    "    elif new_gl:\n",
    "        conv = tt.convert(gl, None, None, 'HGNC Symbol', prioritize_to_one_filter=True, return_path=False)\n",
    "        return_list.append(list(conv) if conv is not None else [])\n",
    "        entered_gene_list.append(gl)\n",
    "    else:\n",
    "        raise ValueError\n",
    "print(tt.identify_source(entered_gene_list)[0])\n",
    "print(list(Counter([len(i) for i in return_list]).most_common())[:10])\n",
    "print()"
   ]
  },
  {
   "cell_type": "code",
   "execution_count": 26,
   "id": "3b59e275-cde4-4e2c-82ae-504409000cc8",
   "metadata": {},
   "outputs": [
    {
     "data": {
      "text/plain": [
       "['PIK3R2',\n",
       " 'GOSR2',\n",
       " 'ENSG00000111780',\n",
       " 'ENSG00000111788',\n",
       " 'ENSG00000116883',\n",
       " 'ENSG00000116957',\n",
       " 'ENSG00000125695',\n",
       " 'ENSG00000131152',\n",
       " 'ENSG00000131484',\n",
       " 'ENSG00000133808']"
      ]
     },
     "execution_count": 26,
     "metadata": {},
     "output_type": "execute_result"
    }
   ],
   "source": [
    "[gene_list[ind] for ind, i in enumerate(return_list) if len(i) == 0][:10]"
   ]
  },
  {
   "cell_type": "code",
   "execution_count": null,
   "id": "b414f5ce-418c-4b87-9ea6-69ade410624d",
   "metadata": {},
   "outputs": [],
   "source": []
  },
  {
   "cell_type": "code",
   "execution_count": null,
   "id": "58d65cd3-fa90-4942-890c-c53662d0fa48",
   "metadata": {},
   "outputs": [],
   "source": []
  },
  {
   "cell_type": "code",
   "execution_count": null,
   "id": "e95fe990-37c1-41f1-bd6c-b6638ddbb3ac",
   "metadata": {},
   "outputs": [],
   "source": []
  }
 ],
 "metadata": {
  "kernelspec": {
   "display_name": "Python 3 (ipykernel)",
   "language": "python",
   "name": "python3"
  },
  "language_info": {
   "codemirror_mode": {
    "name": "ipython",
    "version": 3
   },
   "file_extension": ".py",
   "mimetype": "text/x-python",
   "name": "python",
   "nbconvert_exporter": "python",
   "pygments_lexer": "ipython3",
   "version": "3.9.12"
  }
 },
 "nbformat": 4,
 "nbformat_minor": 5
}
