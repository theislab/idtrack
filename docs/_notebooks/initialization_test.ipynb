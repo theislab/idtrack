{
 "cells": [
  {
   "cell_type": "markdown",
   "id": "2a04ff2e-9cab-4760-b8ec-0ef8b36e4f5d",
   "metadata": {},
   "source": [
    "# Initialization and Tests"
   ]
  },
  {
   "cell_type": "code",
   "execution_count": 1,
   "id": "4a9b661f-c5b2-4ffd-bace-1c758d404b35",
   "metadata": {},
   "outputs": [
    {
     "data": {
      "text/plain": [
       "1"
      ]
     },
     "execution_count": 1,
     "metadata": {},
     "output_type": "execute_result"
    }
   ],
   "source": [
    "1"
   ]
  },
  {
   "cell_type": "code",
   "execution_count": 2,
   "id": "69027e45-ecda-479e-8a7e-9d5c9e3e4aab",
   "metadata": {},
   "outputs": [],
   "source": [
    "%load_ext autoreload\n",
    "%autoreload 2"
   ]
  },
  {
   "cell_type": "code",
   "execution_count": 3,
   "id": "89b49214-d6a0-4e9f-a4b4-feddde076978",
   "metadata": {
    "pycharm": {
     "name": "#%% md\n"
    },
    "tags": []
   },
   "outputs": [],
   "source": [
    "import sys\n",
    "sys.path.append(\"/home/icb/kemal.inecik/work/codes/idtrack\")\n",
    "\n",
    "import os\n",
    "import time\n",
    "import pickle\n",
    "import idtrack\n",
    "import copy"
   ]
  },
  {
   "cell_type": "code",
   "execution_count": 4,
   "id": "bd9700dd",
   "metadata": {},
   "outputs": [
    {
     "name": "stderr",
     "output_type": "stream",
     "text": [
      "2025-05-30 12:23:51 INFO:verify_organism: Ensembl Rest API query to get the organism names and associated releases.\n"
     ]
    },
    {
     "data": {
      "text/plain": [
       "('homo_sapiens', 114)"
      ]
     },
     "execution_count": 4,
     "metadata": {},
     "output_type": "execute_result"
    }
   ],
   "source": [
    "local_dir = \"/lustre/groups/ml01/workspace/kemal.inecik/idtrack_temp/\"\n",
    "idt = idtrack.API(local_repository=local_dir)\n",
    "idt.configure_logger()\n",
    "idt.get_ensembl_organism(\"homo sapiens\")"
   ]
  },
  {
   "cell_type": "code",
   "execution_count": 5,
   "id": "84a19fa5-60df-4e8c-98ac-37b8eea9e0f8",
   "metadata": {
    "tags": []
   },
   "outputs": [
    {
     "name": "stdout",
     "output_type": "stream",
     "text": [
      "total 42110132\n",
      "-rw-r--r--. 1 kemal.inecik OG-ICB-User   852126351 May 27 20:30 graph_homo_sapiens_min79_max114_narrow.pickle\n",
      "-rw-r--r--. 1 kemal.inecik OG-ICB-User 21376563160 May 27 20:28 homo_sapiens_assembly-37.h5\n",
      "-rw-r--r--. 1 kemal.inecik OG-ICB-User 20891831455 May 27 20:28 homo_sapiens_assembly-38.h5\n",
      "-rw-r--r--. 1 kemal.inecik OG-ICB-User       65514 May 27 17:59 homo_sapiens_externals_modified.yml\n",
      "-rw-r--r--. 1 kemal.inecik OG-ICB-User       55077 May 27 17:26 homo_sapiens_externals_template.yml\n"
     ]
    }
   ],
   "source": [
    "!ls -l /lustre/groups/ml01/workspace/kemal.inecik/idtrack_temp/"
   ]
  },
  {
   "cell_type": "code",
   "execution_count": 6,
   "id": "383c559f-3900-4737-99d1-19255a4c6507",
   "metadata": {
    "tags": []
   },
   "outputs": [
    {
     "name": "stderr",
     "output_type": "stream",
     "text": [
      "2025-05-30 12:23:53 INFO:graph_maker: The graph is being read: /lustre/groups/ml01/workspace/kemal.inecik/idtrack_temp/graph_homo_sapiens_min79_max114_narrow.pickle\n"
     ]
    }
   ],
   "source": [
    "idt.initialize_graph(organism_name='homo_sapiens', last_ensembl_release=114, return_test=True)"
   ]
  },
  {
   "cell_type": "code",
   "execution_count": 7,
   "id": "5bf5aa29-8fdc-499d-b557-818b527a5039",
   "metadata": {
    "tags": []
   },
   "outputs": [
    {
     "name": "stderr",
     "output_type": "stream",
     "text": [
      "2025-05-30 12:24:45 INFO:the_graph: Cached properties being calculated: combined_edges\n",
      "2025-05-30 12:25:29 INFO:the_graph: Cached properties being calculated: combined_edges_assembly_specific_genes\n",
      "2025-05-30 12:25:56 INFO:the_graph: Cached properties being calculated: combined_edges_genes\n",
      "2025-05-30 12:26:12 INFO:the_graph: Cached properties being calculated: lower_chars_graph\n",
      "2025-05-30 12:26:12 INFO:the_graph: Cached properties being calculated: get_active_ranges_of_id\n",
      "2025-05-30 12:26:35 INFO:the_graph: Cached properties being calculated: available_external_databases\n",
      "2025-05-30 12:26:36 INFO:the_graph: Cached properties being calculated: external_database_connection_form\n",
      "2025-05-30 12:27:22 INFO:the_graph: Cached properties being calculated: available_genome_assemblies\n",
      "2025-05-30 12:27:23 INFO:the_graph: Cached properties being calculated: available_external_databases_assembly\n",
      "2025-05-30 12:27:24 INFO:the_graph: Cached properties being calculated: node_trios\n"
     ]
    }
   ],
   "source": [
    "idt.calculate_graph_caches()"
   ]
  },
  {
   "cell_type": "markdown",
   "id": "b2db12e2-2331-4d6e-8140-4070d33c3d6b",
   "metadata": {
    "jp-MarkdownHeadingCollapsed": true
   },
   "source": [
    "#### Structural Tests"
   ]
  },
  {
   "cell_type": "code",
   "execution_count": 7,
   "id": "66113bd0-4196-4a48-a495-24f15b3ef9af",
   "metadata": {},
   "outputs": [
    {
     "name": "stderr",
     "output_type": "stream",
     "text": [
      "100%|██████████████████████████████████████████████████████████████████████████████████████████████| 36/36 [01:17<00:00,  2.14s/it, Item:114]\n"
     ]
    },
    {
     "data": {
      "text/plain": [
       "True"
      ]
     },
     "execution_count": 7,
     "metadata": {},
     "output_type": "execute_result"
    }
   ],
   "source": [
    "idt.track.is_id_functions_consistent_ensembl()"
   ]
  },
  {
   "cell_type": "code",
   "execution_count": 8,
   "id": "1fd4c65c-4191-4c7d-957a-3e1c69870b3c",
   "metadata": {},
   "outputs": [
    {
     "name": "stderr",
     "output_type": "stream",
     "text": [
      "100%|█████████████████████████████████████████████████████████████████████████████| 165093/165093 [00:00<00:00, 176122.22it/s, Item:LRG_99.1]\n"
     ]
    },
    {
     "data": {
      "text/plain": [
       "True"
      ]
     },
     "execution_count": 8,
     "metadata": {},
     "output_type": "execute_result"
    }
   ],
   "source": [
    "idt.track.is_id_functions_consistent_ensembl_2()"
   ]
  },
  {
   "cell_type": "code",
   "execution_count": 9,
   "id": "bf5c5ac4-046e-4894-b234-465285fda141",
   "metadata": {},
   "outputs": [
    {
     "name": "stderr",
     "output_type": "stream",
     "text": [
      "100%|██████████████████████████████████████████████████████████████████████| 100842/100842 [00:00<00:00, 239189.69it/s, Item:ENSG00000169933]\n"
     ]
    },
    {
     "data": {
      "text/plain": [
       "True"
      ]
     },
     "execution_count": 9,
     "metadata": {},
     "output_type": "execute_result"
    }
   ],
   "source": [
    "idt.track.is_range_functions_robust()"
   ]
  },
  {
   "cell_type": "code",
   "execution_count": 10,
   "id": "2ef5ef90-c669-42f0-a54b-192a249c3569",
   "metadata": {},
   "outputs": [
    {
     "name": "stderr",
     "output_type": "stream",
     "text": [
      "100%|███████████████████████████████████████████████████████████████████████| 100842/100842 [00:03<00:00, 29035.43it/s, Item:ENSG00000169933]\n"
     ]
    },
    {
     "data": {
      "text/plain": [
       "True"
      ]
     },
     "execution_count": 10,
     "metadata": {},
     "output_type": "execute_result"
    }
   ],
   "source": [
    "idt.track.is_base_is_range_correct()"
   ]
  },
  {
   "cell_type": "code",
   "execution_count": 11,
   "id": "629499ea-a0cd-4420-a29f-288db5d2b212",
   "metadata": {},
   "outputs": [
    {
     "data": {
      "text/plain": [
       "True"
      ]
     },
     "execution_count": 11,
     "metadata": {},
     "output_type": "execute_result"
    }
   ],
   "source": [
    "idt.track.is_combined_edges_dicts_overlapping_and_complete()"
   ]
  },
  {
   "cell_type": "code",
   "execution_count": 12,
   "id": "ba45d3ca-8a6d-4f5f-8516-6c07d387bd4a",
   "metadata": {},
   "outputs": [
    {
     "data": {
      "text/plain": [
       "True"
      ]
     },
     "execution_count": 12,
     "metadata": {},
     "output_type": "execute_result"
    }
   ],
   "source": [
    "idt.track.is_edge_with_same_nts_only_at_backbone_nodes()"
   ]
  },
  {
   "cell_type": "code",
   "execution_count": 14,
   "id": "a3fbe717-e1be-4fb2-a915-bfdec1c7c1f5",
   "metadata": {},
   "outputs": [
    {
     "name": "stderr",
     "output_type": "stream",
     "text": [
      "100%|██████████████████████████████████████████████████████████████████████████████████████████| 2507048/2507048 [00:08<00:00, 309828.55it/s]\n"
     ]
    },
    {
     "data": {
      "text/plain": [
       "True"
      ]
     },
     "execution_count": 14,
     "metadata": {},
     "output_type": "execute_result"
    }
   ],
   "source": [
    "idt.track.is_node_consistency_robust()"
   ]
  },
  {
   "cell_type": "code",
   "execution_count": 20,
   "id": "f947577c-ec1a-49c8-b31c-ffd95aa529b2",
   "metadata": {},
   "outputs": [
    {
     "name": "stderr",
     "output_type": "stream",
     "text": [
      "Assembly 37: 100%|█████████████████████████████████████████████████████████████████████████████████| 36/36 [28:41<00:00, 47.81s/it, Item:114]\n",
      "Assembly 38: 100%|█████████████████████████████████████████████████████████████████████████████████| 36/36 [34:12<00:00, 57.00s/it, Item:114]\n"
     ]
    },
    {
     "data": {
      "text/plain": [
       "True"
      ]
     },
     "execution_count": 20,
     "metadata": {},
     "output_type": "execute_result"
    }
   ],
   "source": [
    "idt.track.is_id_functions_consistent_external()"
   ]
  },
  {
   "cell_type": "markdown",
   "id": "1a76148c-9898-4b14-9553-1663e2473160",
   "metadata": {},
   "source": [
    "#### Conversion Tests"
   ]
  },
  {
   "cell_type": "code",
   "execution_count": 98,
   "id": "5e481156-0d96-4e65-86bf-75c7c87e8706",
   "metadata": {},
   "outputs": [
    {
     "name": "stderr",
     "output_type": "stream",
     "text": [
      "2025-05-30 17:23:50 WARNING:track_tests: Recalculating parameters.\n",
      "100%|███████████████████████████████████████████████████████████████| 3401/3401 [04:46<00:00, 11.89it/s, Item:LRG_887]\n",
      "2025-05-30 17:28:57 INFO:track_tests: \n",
      "╔═ History-Travel-Testing Report ═╗\n",
      "Source  : base_ensembl_gene (Assembly 38, Release 100)\n",
      "Target  : base_ensembl_gene (Release 85)\n",
      "External: True   1→1-pref.: True\n",
      "Sample  : 0.05 of source IDs\n",
      "\n",
      "Failure / Anomaly Counts:\n",
      "  - Voyage failed (graceful) : 0\n",
      "  - Voyage failed (unknown)  : 0\n",
      "  - Query not in graph       : 0\n",
      "  - Lost item                : 112\n",
      "  - Found IDs not accurate   : 0\n",
      "\n",
      "Mapping Statistics:\n",
      "  - One→one IDs     : 3,276\n",
      "  - One→many IDs    : 13\n",
      "  - Clash one→one   : 31\n",
      "  - Clash many→many : 4\n",
      "  - Clash mixed     : 1\n",
      "\n",
      "Total runtime: 286.18 s\n"
     ]
    }
   ],
   "source": [
    "for i in range(1):\n",
    "    r = idt.track.history_travel_testing_random(from_fraction=0.05, include_external_destination=False, return_result=True)"
   ]
  },
  {
   "cell_type": "code",
   "execution_count": 100,
   "id": "dfe5ff7e-f088-47cb-99b8-b10dc26230c0",
   "metadata": {},
   "outputs": [
    {
     "name": "stderr",
     "output_type": "stream",
     "text": [
      "100%|████████████████████████████████████████████████████████████████| 1290/1290 [00:19<00:00, 66.75it/s, Item:stxbp1]\n",
      "2025-05-30 17:32:04 INFO:track_tests: \n",
      "╔═ History-Travel-Testing Report ═╗\n",
      "Source  : NCBI gene (formerly Entrezgene) (Assembly 37, Release 112)\n",
      "Target  : Uniprot/SWISSPROT (Release 92)\n",
      "External: True   1→1-pref.: True\n",
      "Sample  : 0.05 of source IDs\n",
      "\n",
      "Failure / Anomaly Counts:\n",
      "  - Voyage failed (graceful) : 331\n",
      "  - Voyage failed (unknown)  : 0\n",
      "  - Query not in graph       : 0\n",
      "  - Lost item                : 3\n",
      "  - Found IDs not accurate   : 0\n",
      "\n",
      "Mapping Statistics:\n",
      "  - One→one IDs     : 949\n",
      "  - One→many IDs    : 7\n",
      "  - Clash one→one   : 5\n",
      "  - Clash many→many : 0\n",
      "  - Clash mixed     : 0\n",
      "\n",
      "Total runtime: 19.33 s\n",
      "100%|██████████████████████████████████████████████████████████████████| 955/955 [00:14<00:00, 64.90it/s, Item:Q9Y6U7]\n",
      "2025-05-30 17:32:39 INFO:track_tests: \n",
      "╔═ History-Travel-Testing Report ═╗\n",
      "Source  : Uniprot/SWISSPROT (Assembly 37, Release 87)\n",
      "Target  : Clone_based_vega_gene (Release 83)\n",
      "External: True   1→1-pref.: True\n",
      "Sample  : 0.05 of source IDs\n",
      "\n",
      "Failure / Anomaly Counts:\n",
      "  - Voyage failed (graceful) : 954\n",
      "  - Voyage failed (unknown)  : 0\n",
      "  - Query not in graph       : 0\n",
      "  - Lost item                : 1\n",
      "  - Found IDs not accurate   : 0\n",
      "\n",
      "Mapping Statistics:\n",
      "  - One→one IDs     : 0\n",
      "  - One→many IDs    : 0\n",
      "  - Clash one→one   : 0\n",
      "  - Clash many→many : 0\n",
      "  - Clash mixed     : 0\n",
      "\n",
      "Total runtime: 14.72 s\n",
      " 10%|█████▎                                                | 316/3205 [01:36<14:43,  3.27it/s, Item:ENSG00000130489.8]\n"
     ]
    },
    {
     "ename": "KeyboardInterrupt",
     "evalue": "",
     "output_type": "error",
     "traceback": [
      "\u001b[31m---------------------------------------------------------------------------\u001b[39m",
      "\u001b[31mKeyboardInterrupt\u001b[39m                         Traceback (most recent call last)",
      "\u001b[36mCell\u001b[39m\u001b[36m \u001b[39m\u001b[32mIn[100]\u001b[39m\u001b[32m, line 2\u001b[39m\n\u001b[32m      1\u001b[39m \u001b[38;5;28;01mfor\u001b[39;00m i \u001b[38;5;129;01min\u001b[39;00m \u001b[38;5;28mrange\u001b[39m(\u001b[32m5\u001b[39m):\n\u001b[32m----> \u001b[39m\u001b[32m2\u001b[39m     r = \u001b[43midt\u001b[49m\u001b[43m.\u001b[49m\u001b[43mtrack\u001b[49m\u001b[43m.\u001b[49m\u001b[43mhistory_travel_testing_random\u001b[49m\u001b[43m(\u001b[49m\u001b[43mfrom_fraction\u001b[49m\u001b[43m=\u001b[49m\u001b[32;43m0.05\u001b[39;49m\u001b[43m,\u001b[49m\u001b[43m \u001b[49m\u001b[43mreturn_result\u001b[49m\u001b[43m=\u001b[49m\u001b[38;5;28;43;01mTrue\u001b[39;49;00m\u001b[43m)\u001b[49m\n",
      "\u001b[36mFile \u001b[39m\u001b[32m<string>:27\u001b[39m, in \u001b[36mhistory_travel_testing_random\u001b[39m\u001b[34m(self, from_fraction, include_ensembl_source, include_external_source, include_ensembl_destination, include_external_destination, verbose, verbose_detailed, strict_forward, convert_using_release, prioritize_to_one_filter, return_result)\u001b[39m\n",
      "\u001b[36mFile \u001b[39m\u001b[32m~/work/codes/idtrack/idtrack/_track_tests.py:591\u001b[39m, in \u001b[36mTrackTests.history_travel_testing\u001b[39m\u001b[34m(self, from_release, from_assembly, from_database, to_release, to_database, go_external, prioritize_to_one_filter, convert_using_release, from_fraction, verbose, verbose_detailed, return_ensembl_alternative)\u001b[39m\n\u001b[32m    581\u001b[39m         converted_item = \u001b[38;5;28mself\u001b[39m.convert(\n\u001b[32m    582\u001b[39m             from_id=the_id,\n\u001b[32m    583\u001b[39m             from_release=from_release,\n\u001b[32m   (...)\u001b[39m\u001b[32m    588\u001b[39m             return_ensembl_alternative=return_ensembl_alternative,\n\u001b[32m    589\u001b[39m         )\n\u001b[32m    590\u001b[39m     \u001b[38;5;28;01melse\u001b[39;00m:\n\u001b[32m--> \u001b[39m\u001b[32m591\u001b[39m         converted_item = \u001b[38;5;28;43mself\u001b[39;49m\u001b[43m.\u001b[49m\u001b[43mconvert\u001b[49m\u001b[43m(\u001b[49m\n\u001b[32m    592\u001b[39m \u001b[43m            \u001b[49m\u001b[43mfrom_id\u001b[49m\u001b[43m=\u001b[49m\u001b[43mthe_id\u001b[49m\u001b[43m,\u001b[49m\n\u001b[32m    593\u001b[39m \u001b[43m            \u001b[49m\u001b[43mfrom_release\u001b[49m\u001b[43m=\u001b[49m\u001b[38;5;28;43;01mNone\u001b[39;49;00m\u001b[43m,\u001b[49m\n\u001b[32m    594\u001b[39m \u001b[43m            \u001b[49m\u001b[43mto_release\u001b[49m\u001b[43m=\u001b[49m\u001b[43mto_release\u001b[49m\u001b[43m,\u001b[49m\n\u001b[32m    595\u001b[39m \u001b[43m            \u001b[49m\u001b[43mfinal_database\u001b[49m\u001b[43m=\u001b[49m\u001b[43mto_database\u001b[49m\u001b[43m,\u001b[49m\n\u001b[32m    596\u001b[39m \u001b[43m            \u001b[49m\u001b[43mgo_external\u001b[49m\u001b[43m=\u001b[49m\u001b[43mgo_external\u001b[49m\u001b[43m,\u001b[49m\n\u001b[32m    597\u001b[39m \u001b[43m            \u001b[49m\u001b[43mprioritize_to_one_filter\u001b[49m\u001b[43m=\u001b[49m\u001b[43mprioritize_to_one_filter\u001b[49m\u001b[43m,\u001b[49m\n\u001b[32m    598\u001b[39m \u001b[43m            \u001b[49m\u001b[43mreturn_ensembl_alternative\u001b[49m\u001b[43m=\u001b[49m\u001b[43mreturn_ensembl_alternative\u001b[49m\u001b[43m,\u001b[49m\n\u001b[32m    599\u001b[39m \u001b[43m        \u001b[49m\u001b[43m)\u001b[49m\n\u001b[32m    600\u001b[39m     metrics[\u001b[33m\"\u001b[39m\u001b[33mconverted_item_dict\u001b[39m\u001b[33m\"\u001b[39m][the_id] = converted_item\n\u001b[32m    602\u001b[39m \u001b[38;5;28;01mexcept\u001b[39;00m nx.exception.NetworkXError:\n",
      "\u001b[36mFile \u001b[39m\u001b[32m<string>:69\u001b[39m, in \u001b[36mconvert\u001b[39m\u001b[34m(self, from_id, from_release, to_release, final_database, reduction, remove_na, score_of_the_queried_item, go_external, prioritize_to_one_filter, return_path, deprioritize_lrg_genes, return_ensembl_alternative)\u001b[39m\n",
      "\u001b[36mFile \u001b[39m\u001b[32m~/work/codes/idtrack/idtrack/_track.py:1069\u001b[39m, in \u001b[36mget_possible_paths\u001b[39m\u001b[34m(self, from_id, from_release, to_release, reverse, go_external, increase_depth_until, increase_jump_until, from_release_inferred)\u001b[39m\n\u001b[32m   1062\u001b[39m es = copy.deepcopy(DB.external_search_settings)\n\u001b[32m   1063\u001b[39m \u001b[38;5;28;01mwhile\u001b[39;00m go_external \u001b[38;5;129;01mand\u001b[39;00m \u001b[38;5;28mlen\u001b[39m(all_paths) < \u001b[32m1\u001b[39m:\n\u001b[32m   1064\u001b[39m     all_paths = \u001b[38;5;28mself\u001b[39m.path_search(\n\u001b[32m   1065\u001b[39m         from_id=from_id,\n\u001b[32m   1066\u001b[39m         from_release=from_release,\n\u001b[32m   1067\u001b[39m         to_release=to_release,\n\u001b[32m   1068\u001b[39m         reverse=reverse,\n\u001b[32m-> \u001b[39m\u001b[32m1069\u001b[39m         external_settings=es,\n\u001b[32m   1070\u001b[39m         external_jump=\u001b[38;5;28;01mNone\u001b[39;00m,\n\u001b[32m   1071\u001b[39m         multiple_ensembl_transition=\u001b[38;5;28;01mFalse\u001b[39;00m,\n\u001b[32m   1072\u001b[39m     )\n\u001b[32m   1073\u001b[39m     \u001b[38;5;28;01mif\u001b[39;00m es[\u001b[33m\"\u001b[39m\u001b[33msynonymous_max_depth\u001b[39m\u001b[33m\"\u001b[39m] < idu:\n\u001b[32m   1074\u001b[39m         es[\u001b[33m\"\u001b[39m\u001b[33msynonymous_max_depth\u001b[39m\u001b[33m\"\u001b[39m] = es[\u001b[33m\"\u001b[39m\u001b[33msynonymous_max_depth\u001b[39m\u001b[33m\"\u001b[39m] + \u001b[32m1\u001b[39m\n",
      "\u001b[36mFile \u001b[39m\u001b[32m~/work/codes/idtrack/idtrack/_track.py:985\u001b[39m, in \u001b[36mpath_search\u001b[39m\u001b[34m(self, from_id, from_release, to_release, reverse, external_settings, external_jump, multiple_ensembl_transition)\u001b[39m\n\u001b[32m    969\u001b[39m                         _recursive_function(\n\u001b[32m    970\u001b[39m                             _node_after,  \u001b[38;5;66;03m# __from_id\u001b[39;00m\n\u001b[32m    971\u001b[39m                             _edge_release,  \u001b[38;5;66;03m# __from_release\u001b[39;00m\n\u001b[32m   (...)\u001b[39m\u001b[32m    976\u001b[39m                             _edge_hist_non_backbone,  \u001b[38;5;66;03m# __edge_hist_non_backbone\u001b[39;00m\n\u001b[32m    977\u001b[39m                         )\n\u001b[32m    979\u001b[39m all_paths: \u001b[38;5;28mset\u001b[39m = \u001b[38;5;28mset\u001b[39m()\n\u001b[32m    980\u001b[39m _recursive_function(\n\u001b[32m    981\u001b[39m     from_id,  \u001b[38;5;66;03m# __from_id\u001b[39;00m\n\u001b[32m    982\u001b[39m     from_release,  \u001b[38;5;66;03m# __from_release\u001b[39;00m\n\u001b[32m    983\u001b[39m     reverse,  \u001b[38;5;66;03m# __reverse\u001b[39;00m\n\u001b[32m    984\u001b[39m     \u001b[38;5;28;01mFalse\u001b[39;00m,  \u001b[38;5;66;03m# __beamed_up\u001b[39;00m\n\u001b[32m--> \u001b[39m\u001b[32m985\u001b[39m     external_jump,  \u001b[38;5;66;03m# __external_jump\u001b[39;00m\n\u001b[32m    986\u001b[39m     \u001b[38;5;28;01mNone\u001b[39;00m,  \u001b[38;5;66;03m# __edge_hist\u001b[39;00m\n\u001b[32m    987\u001b[39m     \u001b[38;5;28;01mNone\u001b[39;00m,  \u001b[38;5;66;03m# __edge_hist_non_backbone\u001b[39;00m\n\u001b[32m    988\u001b[39m )\n\u001b[32m    990\u001b[39m \u001b[38;5;28;01mreturn\u001b[39;00m all_paths\n",
      "\u001b[36mFile \u001b[39m\u001b[32m~/work/codes/idtrack/idtrack/_track.py:885\u001b[39m, in \u001b[36m_recursive_function\u001b[39m\u001b[34m(_Track__from_id, _Track__from_release, _Track__reverse, _Track__beamed_up, _Track__external_jump, _Track__edge_hist, _Track__edge_hist_non_backbone)\u001b[39m\n\u001b[32m    875\u001b[39m     \u001b[38;5;28;01mfor\u001b[39;00m s1, s2, s3, s4, _s5 \u001b[38;5;129;01min\u001b[39;00m s:  \u001b[38;5;66;03m# new_from_id, new_from_rel, new_reverse, path, path_db\u001b[39;00m\n\u001b[32m    876\u001b[39m         \u001b[38;5;66;03m# TODO: remove path_db (s5) from the function and pathfinder.\u001b[39;00m\n\u001b[32m    878\u001b[39m         \u001b[38;5;28;01mif\u001b[39;00m _recurring_element(s4):\n\u001b[32m    879\u001b[39m             \u001b[38;5;66;03m# with synonym route, can't go synonym finding in the next iteration\u001b[39;00m\n\u001b[32m    880\u001b[39m             _recursive_function(\n\u001b[32m    881\u001b[39m                 s1,  \u001b[38;5;66;03m# __from_id\u001b[39;00m\n\u001b[32m    882\u001b[39m                 s2,  \u001b[38;5;66;03m# __from_release\u001b[39;00m\n\u001b[32m    883\u001b[39m                 s3,  \u001b[38;5;66;03m# __reverse\u001b[39;00m\n\u001b[32m    884\u001b[39m                 \u001b[38;5;28;01mTrue\u001b[39;00m,  \u001b[38;5;66;03m# __beamed_up\u001b[39;00m\n\u001b[32m--> \u001b[39m\u001b[32m885\u001b[39m                 _external_jump,  \u001b[38;5;66;03m# __external_jump. It does not count as it is starting point\u001b[39;00m\n\u001b[32m    886\u001b[39m                 _edge_hist + _external_path_maker(__from_id, s2, s4, switch_met, s3),  \u001b[38;5;66;03m# __edge_hist\u001b[39;00m\n\u001b[32m    887\u001b[39m                 _edge_hist_non_backbone | _non_backbone_finder(s4),  \u001b[38;5;66;03m# __edge_hist_non_backbone\u001b[39;00m\n\u001b[32m    888\u001b[39m             )\n\u001b[32m    889\u001b[39m             \u001b[38;5;66;03m# Add parallel path finding searches\u001b[39;00m\n\u001b[32m    890\u001b[39m \n\u001b[32m    891\u001b[39m \u001b[38;5;28;01melse\u001b[39;00m:\n\u001b[32m    892\u001b[39m     \u001b[38;5;28;01mfor\u001b[39;00m _edge_release, _only_self_loop, _from_id, _node_after, _multi_edge_id \u001b[38;5;129;01min\u001b[39;00m next_edges:\n\u001b[32m    893\u001b[39m         \u001b[38;5;66;03m# Synonymous genes of the gene of interest until the next node in the history travel.\u001b[39;00m\n",
      "\u001b[36mFile \u001b[39m\u001b[32m~/work/codes/idtrack/idtrack/_track.py:974\u001b[39m, in \u001b[36m_recursive_function\u001b[39m\u001b[34m(_Track__from_id, _Track__from_release, _Track__reverse, _Track__beamed_up, _Track__external_jump, _Track__edge_hist, _Track__edge_hist_non_backbone)\u001b[39m\n\u001b[32m    967\u001b[39m         _edge_hist.append(dict_key)\n\u001b[32m    968\u001b[39m \u001b[38;5;28;01melse\u001b[39;00m:\n\u001b[32m    969\u001b[39m     _recursive_function(\n\u001b[32m    970\u001b[39m         _node_after,  \u001b[38;5;66;03m# __from_id\u001b[39;00m\n\u001b[32m    971\u001b[39m         _edge_release,  \u001b[38;5;66;03m# __from_release\u001b[39;00m\n\u001b[32m    972\u001b[39m         __reverse,  \u001b[38;5;66;03m# __reverse\u001b[39;00m\n\u001b[32m    973\u001b[39m         \u001b[38;5;28;01mFalse\u001b[39;00m,  \u001b[38;5;66;03m# __beamed_up\u001b[39;00m\n\u001b[32m--> \u001b[39m\u001b[32m974\u001b[39m         _external_jump,  \u001b[38;5;66;03m# __external_jump\u001b[39;00m\n\u001b[32m    975\u001b[39m         _edge_hist + [dict_key],  \u001b[38;5;66;03m# __edge_hist\u001b[39;00m\n\u001b[32m    976\u001b[39m         _edge_hist_non_backbone,  \u001b[38;5;66;03m# __edge_hist_non_backbone\u001b[39;00m\n\u001b[32m    977\u001b[39m     )\n",
      "\u001b[36mFile \u001b[39m\u001b[32m~/work/codes/idtrack/idtrack/_track.py:974\u001b[39m, in \u001b[36m_recursive_function\u001b[39m\u001b[34m(_Track__from_id, _Track__from_release, _Track__reverse, _Track__beamed_up, _Track__external_jump, _Track__edge_hist, _Track__edge_hist_non_backbone)\u001b[39m\n\u001b[32m    967\u001b[39m         _edge_hist.append(dict_key)\n\u001b[32m    968\u001b[39m \u001b[38;5;28;01melse\u001b[39;00m:\n\u001b[32m    969\u001b[39m     _recursive_function(\n\u001b[32m    970\u001b[39m         _node_after,  \u001b[38;5;66;03m# __from_id\u001b[39;00m\n\u001b[32m    971\u001b[39m         _edge_release,  \u001b[38;5;66;03m# __from_release\u001b[39;00m\n\u001b[32m    972\u001b[39m         __reverse,  \u001b[38;5;66;03m# __reverse\u001b[39;00m\n\u001b[32m    973\u001b[39m         \u001b[38;5;28;01mFalse\u001b[39;00m,  \u001b[38;5;66;03m# __beamed_up\u001b[39;00m\n\u001b[32m--> \u001b[39m\u001b[32m974\u001b[39m         _external_jump,  \u001b[38;5;66;03m# __external_jump\u001b[39;00m\n\u001b[32m    975\u001b[39m         _edge_hist + [dict_key],  \u001b[38;5;66;03m# __edge_hist\u001b[39;00m\n\u001b[32m    976\u001b[39m         _edge_hist_non_backbone,  \u001b[38;5;66;03m# __edge_hist_non_backbone\u001b[39;00m\n\u001b[32m    977\u001b[39m     )\n",
      "\u001b[36mFile \u001b[39m\u001b[32m~/work/codes/idtrack/idtrack/_track.py:914\u001b[39m, in \u001b[36m_recursive_function\u001b[39m\u001b[34m(_Track__from_id, _Track__from_release, _Track__reverse, _Track__beamed_up, _Track__external_jump, _Track__edge_hist, _Track__edge_hist_non_backbone)\u001b[39m\n\u001b[32m    904\u001b[39m     \u001b[38;5;28;01mfor\u001b[39;00m s1, s2, s3, s4, _s5 \u001b[38;5;129;01min\u001b[39;00m s:  \u001b[38;5;66;03m# new_from_id, new_from_rel, new_reverse, path, path_db\u001b[39;00m\n\u001b[32m    905\u001b[39m         \u001b[38;5;66;03m# TODO: remove path_db (s5) from the function and pathfinder.\u001b[39;00m\n\u001b[32m    907\u001b[39m         \u001b[38;5;28;01mif\u001b[39;00m _recurring_element(s4):\n\u001b[32m    908\u001b[39m             \u001b[38;5;66;03m# with synonym route, don't go synonym finding in the next iteration\u001b[39;00m\n\u001b[32m    909\u001b[39m             _recursive_function(\n\u001b[32m    910\u001b[39m                 s1,  \u001b[38;5;66;03m# __from_id\u001b[39;00m\n\u001b[32m    911\u001b[39m                 s2,  \u001b[38;5;66;03m# __from_release\u001b[39;00m\n\u001b[32m    912\u001b[39m                 s3,  \u001b[38;5;66;03m# __reverse\u001b[39;00m\n\u001b[32m    913\u001b[39m                 \u001b[38;5;28;01mTrue\u001b[39;00m,  \u001b[38;5;66;03m# __beamed_up\u001b[39;00m\n\u001b[32m--> \u001b[39m\u001b[32m914\u001b[39m                 _external_jump + \u001b[32m1.0\u001b[39m,  \u001b[38;5;66;03m# __external_jump\u001b[39;00m\n\u001b[32m    915\u001b[39m                 _edge_hist + _external_path_maker(_from_id, s2, s4, \u001b[38;5;28;01mTrue\u001b[39;00m, s3),  \u001b[38;5;66;03m# __edge_hist\u001b[39;00m\n\u001b[32m    916\u001b[39m                 _edge_hist_non_backbone | _non_backbone_finder(s4),  \u001b[38;5;66;03m# __edge_hist_non_backbone\u001b[39;00m\n\u001b[32m    917\u001b[39m             )\n\u001b[32m    918\u001b[39m             \u001b[38;5;66;03m# Add parallel path finding searches\u001b[39;00m\n\u001b[32m    919\u001b[39m \n\u001b[32m    920\u001b[39m \u001b[38;5;66;03m# History travel\u001b[39;00m\n\u001b[32m    922\u001b[39m dict_key = (_from_id, _node_after, _multi_edge_id)\n",
      "\u001b[36mFile \u001b[39m\u001b[32m~/work/codes/idtrack/idtrack/_track.py:974\u001b[39m, in \u001b[36m_recursive_function\u001b[39m\u001b[34m(_Track__from_id, _Track__from_release, _Track__reverse, _Track__beamed_up, _Track__external_jump, _Track__edge_hist, _Track__edge_hist_non_backbone)\u001b[39m\n\u001b[32m    967\u001b[39m         _edge_hist.append(dict_key)\n\u001b[32m    968\u001b[39m \u001b[38;5;28;01melse\u001b[39;00m:\n\u001b[32m    969\u001b[39m     _recursive_function(\n\u001b[32m    970\u001b[39m         _node_after,  \u001b[38;5;66;03m# __from_id\u001b[39;00m\n\u001b[32m    971\u001b[39m         _edge_release,  \u001b[38;5;66;03m# __from_release\u001b[39;00m\n\u001b[32m    972\u001b[39m         __reverse,  \u001b[38;5;66;03m# __reverse\u001b[39;00m\n\u001b[32m    973\u001b[39m         \u001b[38;5;28;01mFalse\u001b[39;00m,  \u001b[38;5;66;03m# __beamed_up\u001b[39;00m\n\u001b[32m--> \u001b[39m\u001b[32m974\u001b[39m         _external_jump,  \u001b[38;5;66;03m# __external_jump\u001b[39;00m\n\u001b[32m    975\u001b[39m         _edge_hist + [dict_key],  \u001b[38;5;66;03m# __edge_hist\u001b[39;00m\n\u001b[32m    976\u001b[39m         _edge_hist_non_backbone,  \u001b[38;5;66;03m# __edge_hist_non_backbone\u001b[39;00m\n\u001b[32m    977\u001b[39m     )\n",
      "\u001b[36mFile \u001b[39m\u001b[32m~/work/codes/idtrack/idtrack/_track.py:901\u001b[39m, in \u001b[36m_recursive_function\u001b[39m\u001b[34m(_Track__from_id, _Track__from_release, _Track__reverse, _Track__beamed_up, _Track__external_jump, _Track__edge_hist, _Track__edge_hist_non_backbone)\u001b[39m\n\u001b[32m    892\u001b[39m \u001b[38;5;28;01mfor\u001b[39;00m _edge_release, _only_self_loop, _from_id, _node_after, _multi_edge_id \u001b[38;5;129;01min\u001b[39;00m next_edges:\n\u001b[32m    893\u001b[39m     \u001b[38;5;66;03m# Synonymous genes of the gene of interest until the next node in the history travel.\u001b[39;00m\n\u001b[32m    895\u001b[39m     \u001b[38;5;28;01mif\u001b[39;00m \u001b[38;5;129;01mnot\u001b[39;00m __beamed_up \u001b[38;5;129;01mand\u001b[39;00m _external_jump < external_settings[\u001b[33m\"\u001b[39m\u001b[33mjump_limit\u001b[39m\u001b[33m\"\u001b[39m]:\n\u001b[32m    896\u001b[39m         s = \u001b[38;5;28mself\u001b[39m.choose_relevant_synonym(\n\u001b[32m    897\u001b[39m             _from_id,\n\u001b[32m    898\u001b[39m             depth_max=external_settings[\u001b[33m\"\u001b[39m\u001b[33msynonymous_max_depth\u001b[39m\u001b[33m\"\u001b[39m],\n\u001b[32m    899\u001b[39m             to_release=to_release,\n\u001b[32m    900\u001b[39m             filter_node_type={external_settings[\u001b[33m\"\u001b[39m\u001b[33mnts_backbone\u001b[39m\u001b[33m\"\u001b[39m]},\n\u001b[32m--> \u001b[39m\u001b[32m901\u001b[39m             from_release=\u001b[38;5;28;01mNone\u001b[39;00m,\n\u001b[32m    902\u001b[39m         )\n\u001b[32m    904\u001b[39m         \u001b[38;5;28;01mfor\u001b[39;00m s1, s2, s3, s4, _s5 \u001b[38;5;129;01min\u001b[39;00m s:  \u001b[38;5;66;03m# new_from_id, new_from_rel, new_reverse, path, path_db\u001b[39;00m\n\u001b[32m    905\u001b[39m             \u001b[38;5;66;03m# TODO: remove path_db (s5) from the function and pathfinder.\u001b[39;00m\n\u001b[32m    907\u001b[39m             \u001b[38;5;28;01mif\u001b[39;00m _recurring_element(s4):\n\u001b[32m    908\u001b[39m                 \u001b[38;5;66;03m# with synonym route, don't go synonym finding in the next iteration\u001b[39;00m\n",
      "\u001b[36mFile \u001b[39m\u001b[32m~/work/codes/idtrack/idtrack/_track.py:579\u001b[39m, in \u001b[36mchoose_relevant_synonym\u001b[39m\u001b[34m(self, the_id, depth_max, to_release, filter_node_type, from_release)\u001b[39m\n\u001b[32m    574\u001b[39m syn = \u001b[38;5;28mself\u001b[39m.synonymous_nodes(the_id, depth_max, filter_node_type, from_release=from_release)\n\u001b[32m    575\u001b[39m \u001b[38;5;66;03m# help to choose z for a->x->z3,6,9\u001b[39;00m\n\u001b[32m    576\u001b[39m \u001b[38;5;66;03m# filter_node_type == 'ensembl_gene'\u001b[39;00m\n\u001b[32m    577\u001b[39m \u001b[38;5;66;03m# it also returns itself, which is important\u001b[39;00m\n\u001b[32m--> \u001b[39m\u001b[32m579\u001b[39m syn_ids: \u001b[38;5;28mdict\u001b[39m = \u001b[38;5;28mdict\u001b[39m()\n\u001b[32m    580\u001b[39m \u001b[38;5;28;01mfor\u001b[39;00m syn_p, syn_db \u001b[38;5;129;01min\u001b[39;00m syn:\n\u001b[32m    581\u001b[39m     si = syn_p[-\u001b[32m1\u001b[39m]\n",
      "\u001b[36mFile \u001b[39m\u001b[32m<string>:40\u001b[39m, in \u001b[36msynonymous_nodes\u001b[39m\u001b[34m(self, the_id, depth_max, filter_node_type, from_release, ensembl_backbone_shallow_search, account_for_hyperconnected_nodes)\u001b[39m\n",
      "\u001b[36mFile \u001b[39m\u001b[32m<string>:90\u001b[39m, in \u001b[36m_recursive_synonymous\u001b[39m\u001b[34m(self, _the_id, synonymous_ones, synonymous_ones_db, filter_node_type, the_path, the_path_db, depth_max, from_release, ensembl_backbone_shallow_search, account_for_hyperconnected_nodes)\u001b[39m\n",
      "\u001b[36mFile \u001b[39m\u001b[32m<string>:90\u001b[39m, in \u001b[36m_recursive_synonymous\u001b[39m\u001b[34m(self, _the_id, synonymous_ones, synonymous_ones_db, filter_node_type, the_path, the_path_db, depth_max, from_release, ensembl_backbone_shallow_search, account_for_hyperconnected_nodes)\u001b[39m\n",
      "    \u001b[31m[... skipping similar frames: _recursive_synonymous at line 90 (1 times)]\u001b[39m\n",
      "\u001b[36mFile \u001b[39m\u001b[32m<string>:90\u001b[39m, in \u001b[36m_recursive_synonymous\u001b[39m\u001b[34m(self, _the_id, synonymous_ones, synonymous_ones_db, filter_node_type, the_path, the_path_db, depth_max, from_release, ensembl_backbone_shallow_search, account_for_hyperconnected_nodes)\u001b[39m\n",
      "\u001b[36mFile \u001b[39m\u001b[32m<string>:74\u001b[39m, in \u001b[36m_recursive_synonymous\u001b[39m\u001b[34m(self, _the_id, synonymous_ones, synonymous_ones_db, filter_node_type, the_path, the_path_db, depth_max, from_release, ensembl_backbone_shallow_search, account_for_hyperconnected_nodes)\u001b[39m\n",
      "\u001b[36mFile \u001b[39m\u001b[32m~/tools/apps/mamba/envs/idtrack_dev_env/lib/python3.11/collections/__init__.py:599\u001b[39m, in \u001b[36mCounter.__init__\u001b[39m\u001b[34m(self, iterable, **kwds)\u001b[39m\n\u001b[32m    588\u001b[39m \u001b[38;5;250m\u001b[39m\u001b[33;03m'''Create a new, empty Counter object.  And if given, count elements\u001b[39;00m\n\u001b[32m    589\u001b[39m \u001b[33;03mfrom an input iterable.  Or, initialize the count from another mapping\u001b[39;00m\n\u001b[32m    590\u001b[39m \u001b[33;03mof elements to their counts.\u001b[39;00m\n\u001b[32m   (...)\u001b[39m\u001b[32m    596\u001b[39m \n\u001b[32m    597\u001b[39m \u001b[33;03m'''\u001b[39;00m\n\u001b[32m    598\u001b[39m \u001b[38;5;28msuper\u001b[39m().\u001b[34m__init__\u001b[39m()\n\u001b[32m--> \u001b[39m\u001b[32m599\u001b[39m \u001b[38;5;28;43mself\u001b[39;49m\u001b[43m.\u001b[49m\u001b[43mupdate\u001b[49m\u001b[43m(\u001b[49m\u001b[43miterable\u001b[49m\u001b[43m,\u001b[49m\u001b[43m \u001b[49m\u001b[43m*\u001b[49m\u001b[43m*\u001b[49m\u001b[43mkwds\u001b[49m\u001b[43m)\u001b[49m\n",
      "\u001b[31mKeyboardInterrupt\u001b[39m: "
     ]
    }
   ],
   "source": [
    "for i in range(5):\n",
    "    r = idt.track.history_travel_testing_random(from_fraction=0.05, return_result=True)"
   ]
  },
  {
   "cell_type": "code",
   "execution_count": 101,
   "id": "cd0fd7f7-84b4-479b-bd9c-7e51e1f23acb",
   "metadata": {},
   "outputs": [
    {
     "ename": "NameError",
     "evalue": "name 'to_assembly' is not defined",
     "output_type": "error",
     "traceback": [
      "\u001b[31m---------------------------------------------------------------------------\u001b[39m",
      "\u001b[31mNameError\u001b[39m                                 Traceback (most recent call last)",
      "\u001b[36mCell\u001b[39m\u001b[36m \u001b[39m\u001b[32mIn[101]\u001b[39m\u001b[32m, line 1\u001b[39m\n\u001b[32m----> \u001b[39m\u001b[32m1\u001b[39m \u001b[43mto_assembly\u001b[49m\n",
      "\u001b[31mNameError\u001b[39m: name 'to_assembly' is not defined"
     ]
    }
   ],
   "source": [
    "to_assembly"
   ]
  },
  {
   "cell_type": "code",
   "execution_count": null,
   "id": "9ed0b990-cdd1-47a9-a609-bc7b66026ac7",
   "metadata": {},
   "outputs": [],
   "source": []
  },
  {
   "cell_type": "code",
   "execution_count": null,
   "id": "77047b6e-c549-477d-87c2-154d20b9b792",
   "metadata": {},
   "outputs": [],
   "source": []
  },
  {
   "cell_type": "code",
   "execution_count": 47,
   "id": "a2502abb-d77c-42d3-b95f-a5fc5a9cdcf7",
   "metadata": {},
   "outputs": [
    {
     "name": "stderr",
     "output_type": "stream",
     "text": [
      "100%|████████████████████████████████████████████████████████████| 567/567 [00:13<00:00, 42.58it/s, Item:XM_047449851]\n"
     ]
    }
   ],
   "source": [
    "r = idt.track.history_travel_testing(\n",
    "    from_release = 87,\n",
    "    from_assembly = 37,\n",
    "    from_database = \"Uniprot/SWISSPROT\",\n",
    "    to_release = 83,\n",
    "    to_database = \"Clone_based_vega_gene\",\n",
    "    go_external = True,\n",
    "    prioritize_to_one_filter = True,\n",
    "    convert_using_release = False,\n",
    "    from_fraction = 0.01,\n",
    "    verbose = True,\n",
    "    verbose_detailed = False,\n",
    "    return_ensembl_alternative = False,\n",
    ")"
   ]
  },
  {
   "cell_type": "code",
   "execution_count": 53,
   "id": "8c260327-cbe2-483e-a501-d88628a6166b",
   "metadata": {},
   "outputs": [
    {
     "name": "stdout",
     "output_type": "stream",
     "text": [
      "Traceback (most recent call last):\n",
      "  File \"/home/icb/kemal.inecik/work/codes/idtrack/idtrack/_track_tests.py\", line 591, in history_travel_testing\n",
      "    converted_item = self.convert(\n",
      "                     ^^^^^^^^^^^^^\n",
      "  File \"/home/icb/kemal.inecik/work/codes/idtrack/idtrack/_track.py\", line 1816, in convert\n",
      "  File \"/home/icb/kemal.inecik/work/codes/idtrack/idtrack/_track.py\", line 2139, in _final_conversion\n",
      "    min_priority_list=sl2,\n",
      "idtrack._db.EmptyConversionMetricsError: The `conversion_metrics` is emtpy. It happens when `return_ensembl_alternative` is `false` and no corresponding final conversion possible: ENSG00000163395.17\n",
      "{'ENSG00000163395.17': {'from_id': 'XM_005245580', 'assembly_jump': 0, 'external_jump': 1, 'external_step': 2, 'initial_conversion_conf': 1, 'edge_scores_reduced': nan, 'ensembl_step': 0, 'final_assembly_priority': ([1], 1)}}.\n",
      "\n"
     ]
    }
   ],
   "source": [
    "print(r[\"history_voyage_failed_gracefully\"][0][1])"
   ]
  },
  {
   "cell_type": "code",
   "execution_count": 54,
   "id": "d64ccbe9-360a-406a-8e13-79a6a359b3ba",
   "metadata": {},
   "outputs": [
    {
     "name": "stderr",
     "output_type": "stream",
     "text": [
      "100%|███████████████████████████████████████████████████████| 198/198 [00:03<00:00, 65.39it/s, Item:XXbac-BPG181B23.6]\n"
     ]
    }
   ],
   "source": [
    "r = idt.track.history_travel_testing(\n",
    "    from_release = 86,\n",
    "    from_assembly = 37,\n",
    "    from_database = \"Clone_based_vega_gene\",\n",
    "    to_release = 111,\n",
    "    to_database = \"assembly_38_ensembl_translation\",\n",
    "    go_external = True,\n",
    "    prioritize_to_one_filter = True,\n",
    "    convert_using_release = False,\n",
    "    from_fraction = 0.01,\n",
    "    verbose = True,\n",
    "    verbose_detailed = False,\n",
    "    return_ensembl_alternative = False,\n",
    ")"
   ]
  },
  {
   "cell_type": "code",
   "execution_count": 56,
   "id": "68183215-a026-457e-8fc4-82bc33d0c532",
   "metadata": {},
   "outputs": [
    {
     "name": "stdout",
     "output_type": "stream",
     "text": [
      "\n",
      "╔═ History-Travel-Testing Report ═╗\n",
      "Source  : Clone_based_vega_gene (Assembly 37, Release 86)\n",
      "Target  : assembly_38_ensembl_translation (Release 111)\n",
      "External: True   1→1-pref.: True\n",
      "Sample  : 0.01 of source IDs\n",
      "\n",
      "Failure / Anomaly Counts:\n",
      "  - Voyage failed (graceful) : 0\n",
      "  - Voyage failed (unknown)  : 191\n",
      "  - Query not in graph       : 0\n",
      "  - Lost item                : 7\n",
      "  - Found IDs not accurate   : 0\n",
      "\n",
      "Mapping Statistics:\n",
      "  - One→one IDs     : 0\n",
      "  - One→many IDs    : 0\n",
      "  - Clash one→one   : 0\n",
      "  - Clash many→many : 0\n",
      "  - Clash mixed     : 0\n",
      "\n",
      "Total runtime: 3.14 s\n"
     ]
    }
   ],
   "source": [
    "print(idt.track.format_history_travel_testing_report(r))"
   ]
  },
  {
   "cell_type": "code",
   "execution_count": 59,
   "id": "ada467cc-2a68-4ba5-b178-ce8395ccb665",
   "metadata": {},
   "outputs": [
    {
     "name": "stdout",
     "output_type": "stream",
     "text": [
      "AC000077.2\n"
     ]
    }
   ],
   "source": [
    "print(r[\"history_voyage_failed_unknown\"][0][0])"
   ]
  },
  {
   "cell_type": "code",
   "execution_count": 103,
   "id": "c9000011-8b63-4506-800a-371df53786ec",
   "metadata": {},
   "outputs": [
    {
     "data": {
      "text/plain": [
       "{'CCDS',\n",
       " 'Clone_based_ensembl_gene',\n",
       " 'Clone_based_vega_gene',\n",
       " 'EntrezGene',\n",
       " 'HGNC Symbol',\n",
       " 'Havana gene',\n",
       " 'Havana transcript',\n",
       " 'NCBI gene (formerly Entrezgene)',\n",
       " 'RFAM',\n",
       " 'RefSeq_mRNA',\n",
       " 'RefSeq_mRNA_predicted',\n",
       " 'RefSeq_ncRNA',\n",
       " 'RefSeq_ncRNA_predicted',\n",
       " 'RefSeq_peptide',\n",
       " 'RefSeq_peptide_predicted',\n",
       " 'UniProtKB Gene Name',\n",
       " 'Uniprot/SPTREMBL',\n",
       " 'Uniprot/SWISSPROT',\n",
       " 'synonym_id::EntrezGene',\n",
       " 'synonym_id::HGNC Symbol',\n",
       " 'synonym_id::NCBI gene (formerly Entrezgene)',\n",
       " 'synonym_id::UniProtKB Gene Name'}"
      ]
     },
     "execution_count": 103,
     "metadata": {},
     "output_type": "execute_result"
    }
   ],
   "source": [
    "idt.track.graph.available_external_databases_assembly[37]"
   ]
  },
  {
   "cell_type": "code",
   "execution_count": 104,
   "id": "100c2225-293b-49ae-84fe-ea580f6e6687",
   "metadata": {},
   "outputs": [
    {
     "data": {
      "text/plain": [
       "{'CCDS',\n",
       " 'Clone_based_ensembl_gene',\n",
       " 'Clone_based_vega_gene',\n",
       " 'EntrezGene',\n",
       " 'HGNC Symbol',\n",
       " 'Havana gene',\n",
       " 'Havana transcript',\n",
       " 'Havana translation',\n",
       " 'NCBI gene',\n",
       " 'NCBI gene (formerly Entrezgene)',\n",
       " 'RFAM',\n",
       " 'RefSeq_mRNA',\n",
       " 'RefSeq_mRNA_predicted',\n",
       " 'RefSeq_ncRNA',\n",
       " 'RefSeq_ncRNA_predicted',\n",
       " 'RefSeq_peptide',\n",
       " 'RefSeq_peptide_predicted',\n",
       " 'UniProtKB Gene Name',\n",
       " 'Uniprot/SPTREMBL',\n",
       " 'Uniprot/SWISSPROT',\n",
       " 'Vega gene',\n",
       " 'Vega_gene',\n",
       " 'synonym_id::EntrezGene',\n",
       " 'synonym_id::HGNC Symbol',\n",
       " 'synonym_id::NCBI gene',\n",
       " 'synonym_id::NCBI gene (formerly Entrezgene)',\n",
       " 'synonym_id::UniProtKB Gene Name'}"
      ]
     },
     "execution_count": 104,
     "metadata": {},
     "output_type": "execute_result"
    }
   ],
   "source": [
    "idt.track.graph.available_external_databases_assembly[38]"
   ]
  },
  {
   "cell_type": "code",
   "execution_count": 106,
   "id": "3b179e1f-b5c5-479c-b61f-ecb3329d89fe",
   "metadata": {},
   "outputs": [
    {
     "data": {
      "text/plain": [
       "{79, 80, 81, 82, 83, 84, 85, 86, 87, 88, 89}"
      ]
     },
     "execution_count": 106,
     "metadata": {},
     "output_type": "execute_result"
    }
   ],
   "source": [
    "idt.track.graph.available_releases_given_database_assembly(\"Clone_based_vega_gene\", 38)"
   ]
  },
  {
   "cell_type": "code",
   "execution_count": null,
   "id": "d0a3d02b-8418-40d3-8ed8-3dfe43f4c59f",
   "metadata": {},
   "outputs": [],
   "source": []
  },
  {
   "cell_type": "code",
   "execution_count": null,
   "id": "7159a39b-e6a1-417a-8bac-9725dd8914a7",
   "metadata": {},
   "outputs": [],
   "source": []
  },
  {
   "cell_type": "code",
   "execution_count": null,
   "id": "37127b34-1a7d-4d4f-99ff-4dc332d9d281",
   "metadata": {},
   "outputs": [],
   "source": []
  },
  {
   "cell_type": "code",
   "execution_count": null,
   "id": "f6ab47f7-0c75-4f50-96e1-9e54b71ded26",
   "metadata": {},
   "outputs": [],
   "source": []
  },
  {
   "cell_type": "code",
   "execution_count": 72,
   "id": "121db56b-3f08-4470-8781-751f23c26fb3",
   "metadata": {},
   "outputs": [
    {
     "name": "stdout",
     "output_type": "stream",
     "text": [
      "assembly_38_ensembl_translation\n",
      "{'Havana transcript', 'synonym_id::HGNC Symbol', 'RefSeq_mRNA_predicted', 'Havana gene', 'synonym_id::NCBI gene', 'synonym_id::EntrezGene', 'RefSeq_mRNA', 'Uniprot/SPTREMBL', 'synonym_id::NCBI gene (formerly Entrezgene)', 'RefSeq_peptide_predicted', 'Vega_gene', 'CCDS', 'Havana translation', 'RefSeq_peptide', 'NCBI gene', 'synonym_id::UniProtKB Gene Name', 'Clone_based_vega_gene', 'UniProtKB Gene Name', 'Clone_based_ensembl_gene', 'RefSeq_ncRNA_predicted', 'RefSeq_ncRNA', 'NCBI gene (formerly Entrezgene)', 'Vega gene', 'HGNC Symbol', 'Uniprot/SWISSPROT', 'EntrezGene', 'RFAM'}\n",
      "base_ensembl_gene\n"
     ]
    },
    {
     "ename": "ValueError",
     "evalue": "for cnvt in converted:",
     "output_type": "error",
     "traceback": [
      "\u001b[31m---------------------------------------------------------------------------\u001b[39m",
      "\u001b[31mValueError\u001b[39m                                Traceback (most recent call last)",
      "\u001b[36mCell\u001b[39m\u001b[36m \u001b[39m\u001b[32mIn[72]\u001b[39m\u001b[32m, line 1\u001b[39m\n\u001b[32m----> \u001b[39m\u001b[32m1\u001b[39m \u001b[43midt\u001b[49m\u001b[43m.\u001b[49m\u001b[43mtrack\u001b[49m\u001b[43m.\u001b[49m\u001b[43mconvert\u001b[49m\u001b[43m(\u001b[49m\u001b[33;43m\"\u001b[39;49m\u001b[33;43mAC000077.2\u001b[39;49m\u001b[33;43m\"\u001b[39;49m\u001b[43m,\u001b[49m\u001b[43m \u001b[49m\u001b[43mto_release\u001b[49m\u001b[43m=\u001b[49m\u001b[32;43m111\u001b[39;49m\u001b[43m,\u001b[49m\u001b[43m \u001b[49m\u001b[43mfrom_release\u001b[49m\u001b[43m=\u001b[49m\u001b[38;5;28;43;01mNone\u001b[39;49;00m\u001b[43m,\u001b[49m\u001b[43m \u001b[49m\u001b[43mfinal_database\u001b[49m\u001b[43m=\u001b[49m\u001b[33;43m\"\u001b[39;49m\u001b[33;43massembly_38_ensembl_translation\u001b[39;49m\u001b[33;43m\"\u001b[39;49m\u001b[43m,\u001b[49m\u001b[43m \u001b[49m\u001b[43mreturn_path\u001b[49m\u001b[43m=\u001b[49m\u001b[38;5;28;43;01mTrue\u001b[39;49;00m\u001b[43m)\u001b[49m\n",
      "\u001b[36mFile \u001b[39m\u001b[32m<string>:98\u001b[39m, in \u001b[36mconvert\u001b[39m\u001b[34m(self, from_id, from_release, to_release, final_database, reduction, remove_na, score_of_the_queried_item, go_external, prioritize_to_one_filter, return_path, deprioritize_lrg_genes, return_ensembl_alternative)\u001b[39m\n",
      "\u001b[31mValueError\u001b[39m: for cnvt in converted:"
     ]
    }
   ],
   "source": [
    "idt.track.convert(\"AC000077.2\", to_release=111, from_release=None, final_database=\"assembly_38_ensembl_translation\", return_path=True)"
   ]
  },
  {
   "cell_type": "code",
   "execution_count": 66,
   "id": "a4090cd0-c56b-4540-b616-791e50f5da5e",
   "metadata": {},
   "outputs": [
    {
     "data": {
      "text/plain": [
       "{'gene': 'ensembl_gene',\n",
       " 'transcript': 'ensembl_transcript',\n",
       " 'translation': 'ensembl_translation'}"
      ]
     },
     "execution_count": 66,
     "metadata": {},
     "output_type": "execute_result"
    }
   ],
   "source": [
    "from idtrack import DB\n",
    "DB.nts_ensembl"
   ]
  },
  {
   "cell_type": "code",
   "execution_count": 83,
   "id": "794aaa25-8f9f-40bb-a9a8-ddbb04d721da",
   "metadata": {},
   "outputs": [
    {
     "data": {
      "text/plain": [
       "{'Havana transcript': 'transcript',\n",
       " 'synonym_id::HGNC Symbol': 'gene',\n",
       " 'RefSeq_mRNA_predicted': 'transcript',\n",
       " 'Havana gene': 'gene',\n",
       " 'synonym_id::NCBI gene': 'gene',\n",
       " 'synonym_id::EntrezGene': 'gene',\n",
       " 'RefSeq_mRNA': 'transcript',\n",
       " 'Uniprot/SPTREMBL': 'translation',\n",
       " 'synonym_id::NCBI gene (formerly Entrezgene)': 'gene',\n",
       " 'RefSeq_peptide_predicted': 'translation',\n",
       " 'Vega_gene': 'gene',\n",
       " 'CCDS': 'transcript',\n",
       " 'Havana translation': 'translation',\n",
       " 'RefSeq_peptide': 'translation',\n",
       " 'NCBI gene': 'gene',\n",
       " 'synonym_id::UniProtKB Gene Name': 'gene',\n",
       " 'Clone_based_vega_gene': 'gene',\n",
       " 'UniProtKB Gene Name': 'gene',\n",
       " 'Clone_based_ensembl_gene': 'gene',\n",
       " 'RefSeq_ncRNA_predicted': 'transcript',\n",
       " 'RefSeq_ncRNA': 'transcript',\n",
       " 'NCBI gene (formerly Entrezgene)': 'gene',\n",
       " 'Vega gene': 'gene',\n",
       " 'HGNC Symbol': 'gene',\n",
       " 'Uniprot/SWISSPROT': 'translation',\n",
       " 'EntrezGene': 'gene',\n",
       " 'RFAM': 'gene'}"
      ]
     },
     "execution_count": 83,
     "metadata": {},
     "output_type": "execute_result"
    }
   ],
   "source": [
    "idt.track.graph.external_database_connection_form"
   ]
  },
  {
   "cell_type": "code",
   "execution_count": 71,
   "id": "17f8a12e-c134-4bbb-adea-19662933d1e6",
   "metadata": {},
   "outputs": [
    {
     "data": {
      "text/plain": [
       "{'gene': 'base_ensembl_gene',\n",
       " 'transcript': 'base_ensembl_transcript',\n",
       " 'translation': 'base_ensembl_translation'}"
      ]
     },
     "execution_count": 71,
     "metadata": {},
     "output_type": "execute_result"
    }
   ],
   "source": [
    "DB.nts_base_ensembl"
   ]
  },
  {
   "cell_type": "code",
   "execution_count": 74,
   "id": "2f186502-f826-4847-b427-bf281b174bf1",
   "metadata": {},
   "outputs": [
    {
     "data": {
      "text/plain": [
       "'ensembl_gene'"
      ]
     },
     "execution_count": 74,
     "metadata": {},
     "output_type": "execute_result"
    }
   ],
   "source": [
    "DB.nts_ensembl[\"gene\"]"
   ]
  },
  {
   "cell_type": "code",
   "execution_count": 75,
   "id": "1f4728a1-a3d0-4fef-b3dd-0ef64df8dbe4",
   "metadata": {},
   "outputs": [
    {
     "data": {
      "text/plain": [
       "'base_ensembl_gene'"
      ]
     },
     "execution_count": 75,
     "metadata": {},
     "output_type": "execute_result"
    }
   ],
   "source": [
    "DB.nts_base_ensembl[\"gene\"]"
   ]
  },
  {
   "cell_type": "code",
   "execution_count": 85,
   "id": "90c70123-7530-4c84-85f8-a04ba32f8be2",
   "metadata": {},
   "outputs": [
    {
     "data": {
      "text/plain": [
       "['assembly_38_ensembl_gene',\n",
       " 'assembly_38_ensembl_transcript',\n",
       " 'assembly_38_ensembl_translation']"
      ]
     },
     "execution_count": 85,
     "metadata": {},
     "output_type": "execute_result"
    }
   ],
   "source": [
    "list(DB.nts_assembly[38].values())"
   ]
  },
  {
   "cell_type": "code",
   "execution_count": 87,
   "id": "c1413d87-696d-427d-8ae6-1f4cb4e08c09",
   "metadata": {},
   "outputs": [
    {
     "data": {
      "text/plain": [
       "'assembly_38_ensembl_gene'"
      ]
     },
     "execution_count": 87,
     "metadata": {},
     "output_type": "execute_result"
    }
   ],
   "source": [
    "DB.nts_assembly[38][\"gene\"]"
   ]
  },
  {
   "cell_type": "code",
   "execution_count": 90,
   "id": "e160f41f-d231-4934-bc04-235c92008c65",
   "metadata": {},
   "outputs": [
    {
     "data": {
      "text/plain": [
       "{'gene': 'ensembl_gene',\n",
       " 'transcript': 'ensembl_transcript',\n",
       " 'translation': 'ensembl_translation'}"
      ]
     },
     "execution_count": 90,
     "metadata": {},
     "output_type": "execute_result"
    }
   ],
   "source": [
    "DB.nts_ensembl"
   ]
  },
  {
   "cell_type": "code",
   "execution_count": null,
   "id": "9eaa964f-d2b2-41b2-9f3e-09b44c8447c1",
   "metadata": {},
   "outputs": [],
   "source": []
  },
  {
   "cell_type": "code",
   "execution_count": null,
   "id": "a025e635-d755-44c2-bc85-7b5e3709be55",
   "metadata": {},
   "outputs": [],
   "source": []
  },
  {
   "cell_type": "code",
   "execution_count": null,
   "id": "fee62ec0-eb86-4824-b868-1b76de4e17bd",
   "metadata": {},
   "outputs": [],
   "source": []
  },
  {
   "cell_type": "code",
   "execution_count": null,
   "id": "82d94035-1a09-477a-86b0-30612ffe84d0",
   "metadata": {},
   "outputs": [],
   "source": []
  },
  {
   "cell_type": "code",
   "execution_count": null,
   "id": "9e301111-ad26-4c25-b332-8da89ececd3f",
   "metadata": {},
   "outputs": [],
   "source": []
  },
  {
   "cell_type": "code",
   "execution_count": null,
   "id": "6b477a7e-718e-4fa1-963f-29942a2ea57e",
   "metadata": {},
   "outputs": [],
   "source": [
    "for _ in range(10):\n",
    "    idt.track.history_travel_testing_random(from_fraction=0.1)"
   ]
  },
  {
   "cell_type": "code",
   "execution_count": null,
   "id": "683e4d83-d741-4d81-851e-424677f005af",
   "metadata": {},
   "outputs": [],
   "source": [
    "for _ in range(10):\n",
    "    idt.track.history_travel_testing_random(from_fraction=0.1)\n",
    "    response, _ = idt.track.is_external_conversion_robust(database=\"RFAM\", ens_rel=94)\n",
    "    print(response)"
   ]
  },
  {
   "cell_type": "code",
   "execution_count": 17,
   "id": "2f9c3914-3cc0-48a9-949b-045a2366b25a",
   "metadata": {},
   "outputs": [
    {
     "name": "stdout",
     "output_type": "stream",
     "text": [
      "Random database and Ensembl release.\n",
      "Assembly: 38, Database: Vega_gene, Release: 83\n"
     ]
    },
    {
     "name": "stderr",
     "output_type": "stream",
     "text": [
      "100%|███████████████████████████████████████████████████████████| 66858/66858 [05:13<00:00, 213.49it/s, Item:LRG_99.1]\n"
     ]
    },
    {
     "data": {
      "text/plain": [
       "True"
      ]
     },
     "execution_count": 17,
     "metadata": {},
     "output_type": "execute_result"
    }
   ],
   "source": [
    "for _ in range(10)\n",
    "r, _ = idt.track.is_external_conversion_robust()\n",
    "r"
   ]
  },
  {
   "cell_type": "code",
   "execution_count": null,
   "id": "269cad40-4c5c-4be8-a9d2-e5f8c53798d3",
   "metadata": {},
   "outputs": [],
   "source": []
  },
  {
   "cell_type": "markdown",
   "id": "4542f98f-5722-4651-900c-435d217acdcb",
   "metadata": {},
   "source": [
    "#### Conversion Tests in Depth"
   ]
  },
  {
   "cell_type": "code",
   "execution_count": 9,
   "id": "3153fce2-c521-472a-9431-a035728fc06b",
   "metadata": {},
   "outputs": [
    {
     "name": "stdout",
     "output_type": "stream",
     "text": [
      "Assembly: 38, Database: RFAM, Release: 94\n"
     ]
    },
    {
     "name": "stderr",
     "output_type": "stream",
     "text": [
      "100%|██████████████████████████████████████████████████████████| 65687/65687 [06:08<00:00, 178.33it/s, Item:LRG_999.1]\n"
     ]
    }
   ],
   "source": [
    "response, (issues_t1, issues_t2, issues_t3, res) = idt.track.is_external_conversion_robust(\n",
    "    database=\"RFAM\",\n",
    "    ens_rel=94\n",
    ")"
   ]
  },
  {
   "cell_type": "code",
   "execution_count": 10,
   "id": "e64be9da-a8f2-49dc-ac43-8c23f875ed29",
   "metadata": {},
   "outputs": [],
   "source": [
    "dm_original = idt.track.db_manager\n",
    "dm = dm_original.change_release(94).change_assembly(38)\n",
    "df_a = dm.get_db(\"external_relevant\")\n",
    "df = df_a[df_a[\"name_db\"] == \"RFAM\"].copy()\n",
    "\n",
    "base_dict: dict[str, set] = dict()\n",
    "for _, item in df.iterrows():\n",
    "    if item[\"graph_id\"] not in base_dict:\n",
    "        base_dict[item[\"graph_id\"]] = set()\n",
    "    base_dict[item[\"graph_id\"]].add(item[\"id_db\"])"
   ]
  },
  {
   "cell_type": "code",
   "execution_count": 19,
   "id": "975a8ad6-04dc-4448-b7de-a490f63643b5",
   "metadata": {},
   "outputs": [],
   "source": [
    "res=r"
   ]
  },
  {
   "cell_type": "code",
   "execution_count": 11,
   "id": "2610decb-0122-4d39-9c4b-5c8368b8e9a9",
   "metadata": {},
   "outputs": [
    {
     "data": {
      "text/plain": [
       "(True, 5612, 0, 0, 60075)"
      ]
     },
     "execution_count": 11,
     "metadata": {},
     "output_type": "execute_result"
    }
   ],
   "source": [
    "response, len(res[\"conversion\"]), len(issues_t1), len(issues_t2), len(issues_t3)"
   ]
  },
  {
   "cell_type": "code",
   "execution_count": 12,
   "id": "12d240a8-af96-46bb-aa0f-1a73711bdb53",
   "metadata": {},
   "outputs": [
    {
     "data": {
      "text/plain": [
       "True"
      ]
     },
     "execution_count": 12,
     "metadata": {},
     "output_type": "execute_result"
    }
   ],
   "source": [
    "len(df[df[\"graph_id\"].isin(issues_t3)]) == 0"
   ]
  },
  {
   "cell_type": "code",
   "execution_count": 20,
   "id": "00a0b47e-076b-4017-a56c-331b59bc9d98",
   "metadata": {},
   "outputs": [
    {
     "data": {
      "text/plain": [
       "(1961, 0, 0, 2, 0)"
      ]
     },
     "execution_count": 20,
     "metadata": {},
     "output_type": "execute_result"
    }
   ],
   "source": [
    "(\n",
    "    len(res[\"history_voyage_failed_gracefully\"]),\n",
    "    len(res[\"history_voyage_failed_unknown\"]),\n",
    "    len(res[\"query_not_in_the_graph\"]),\n",
    "    len(res['lost_item']),\n",
    "    len(res['found_ids_not_accurate'])\n",
    ")\n",
    "\n",
    "(\n",
    "    len(res['one_to_one_ids']),\n",
    "    len(res['one_to_multiple_ids']),\n",
    "    res[\"clashing_id_type\"]\n",
    ")"
   ]
  },
  {
   "cell_type": "code",
   "execution_count": 15,
   "id": "214581c2-fade-4f2f-94a4-c1f33dfc4f6b",
   "metadata": {},
   "outputs": [
    {
     "data": {
      "text/plain": [
       "{'target_id': ['RF00412'],\n",
       " 'last_node': [('ENSG00000199293.1', 'RF00412')],\n",
       " 'final_database': 'RFAM',\n",
       " 'graph_id': 'ENSG00000199293.1',\n",
       " 'query_id': 'ENSG00000199293.1',\n",
       " 'no_corresponding': False,\n",
       " 'no_conversion': False,\n",
       " 'no_target': False,\n",
       " 'the_path': {('RF00412',\n",
       "   'ENSG00000199293.1'): ((None,\n",
       "    'ENSG00000199293.1',\n",
       "    None), ('ENSG00000199293.1', 'RF00412', 0, 94))}}"
      ]
     },
     "execution_count": 15,
     "metadata": {},
     "output_type": "execute_result"
    }
   ],
   "source": [
    "idt.convert_identifier(\"ENSG00000199293.1\", to_release=94, from_release=94, final_database=\"RFAM\", return_path=True)"
   ]
  },
  {
   "cell_type": "code",
   "execution_count": 16,
   "id": "cc0c9e63-3f4c-494f-a0fd-f558da799609",
   "metadata": {},
   "outputs": [
    {
     "data": {
      "text/plain": [
       "{'ENSG00000199293.1': {'from_id': 'ENSG00000199293.1',\n",
       "  'assembly_jump': 0,\n",
       "  'external_jump': 0,\n",
       "  'external_step': 0,\n",
       "  'initial_conversion_conf': 1,\n",
       "  'edge_scores_reduced': nan,\n",
       "  'ensembl_step': 1,\n",
       "  'final_assembly_priority': ([1, 2], 2),\n",
       "  'the_path': ((None, 'ENSG00000199293.1', None),),\n",
       "  'final_conversion': {'final_conversion_confidence': 0,\n",
       "   'final_database': 'RFAM',\n",
       "   'final_elements': {'RF00412': {'final_assembly_priority_count': 2,\n",
       "     'final_assembly_min_priority': 1,\n",
       "     'additional_assembly_jump': 0,\n",
       "     'the_path': (('ENSG00000199293.1', 'RF00412', 0, 94),)}}}}}"
      ]
     },
     "execution_count": 16,
     "metadata": {},
     "output_type": "execute_result"
    }
   ],
   "source": [
    "idt.track.convert(\"ENSG00000199293.1\", to_release=94, from_release=94, final_database=\"RFAM\", return_path=True)"
   ]
  },
  {
   "cell_type": "code",
   "execution_count": null,
   "id": "7c8cdd0d-0c5d-4d90-8c2d-43589ebc3d2d",
   "metadata": {},
   "outputs": [],
   "source": []
  }
 ],
 "metadata": {
  "kernelspec": {
   "display_name": "Python 3 (ipykernel)",
   "language": "python",
   "name": "python3"
  },
  "language_info": {
   "codemirror_mode": {
    "name": "ipython",
    "version": 3
   },
   "file_extension": ".py",
   "mimetype": "text/x-python",
   "name": "python",
   "nbconvert_exporter": "python",
   "pygments_lexer": "ipython3",
   "version": "3.11.12"
  }
 },
 "nbformat": 4,
 "nbformat_minor": 5
}
