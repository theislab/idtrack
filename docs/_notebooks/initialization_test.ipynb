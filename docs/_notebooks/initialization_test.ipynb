{
 "cells": [
  {
   "cell_type": "markdown",
   "id": "2a04ff2e-9cab-4760-b8ec-0ef8b36e4f5d",
   "metadata": {},
   "source": [
    "# Initialization and Tests"
   ]
  },
  {
   "cell_type": "code",
   "execution_count": 1,
   "id": "89b49214-d6a0-4e9f-a4b4-feddde076978",
   "metadata": {
    "pycharm": {
     "name": "#%% md\n"
    },
    "tags": []
   },
   "outputs": [],
   "source": [
    "import sys\n",
    "sys.path.append(\"/Users/kemalinecik/git_nosync/idtrack\")\n",
    "\n",
    "import os\n",
    "import time\n",
    "import pickle\n",
    "import idtrack\n",
    "import copy"
   ]
  },
  {
   "cell_type": "code",
   "execution_count": 2,
   "id": "bd9700dd",
   "metadata": {},
   "outputs": [
    {
     "name": "stderr",
     "output_type": "stream",
     "text": [
      "2025-05-28 08:43:35 INFO:verify_organism: Ensembl Rest API query to get the organism names and associated releases.\n"
     ]
    },
    {
     "data": {
      "text/plain": [
       "('homo_sapiens', 114)"
      ]
     },
     "execution_count": 2,
     "metadata": {},
     "output_type": "execute_result"
    }
   ],
   "source": [
    "local_dir = \"/Users/kemalinecik/Downloads/idtrack_temp\"\n",
    "idt = idtrack.API(local_repository=local_dir)\n",
    "idt.configure_logger()\n",
    "idt.get_ensembl_organism(\"homo sapiens\")"
   ]
  },
  {
   "cell_type": "code",
   "execution_count": null,
   "id": "383c559f-3900-4737-99d1-19255a4c6507",
   "metadata": {
    "tags": []
   },
   "outputs": [],
   "source": [
    "idt.initialize_graph(organism_name='homo_sapiens', last_ensembl_release=114, return_test=True)"
   ]
  },
  {
   "cell_type": "code",
   "execution_count": null,
   "id": "05b19021-5e0f-4d13-937a-43de2d866d16",
   "metadata": {
    "tags": []
   },
   "outputs": [],
   "source": [
    "# objsize.get_deep_size(idt)"
   ]
  },
  {
   "cell_type": "code",
   "execution_count": null,
   "id": "5bf5aa29-8fdc-499d-b557-818b527a5039",
   "metadata": {
    "tags": []
   },
   "outputs": [],
   "source": [
    "idt.calculate_graph_caches()"
   ]
  },
  {
   "cell_type": "code",
   "execution_count": null,
   "id": "96b1493a-0a54-4729-a7e1-0f0eb7fe2313",
   "metadata": {},
   "outputs": [],
   "source": [
    "# objsize.get_deep_size(idt)"
   ]
  },
  {
   "cell_type": "code",
   "execution_count": null,
   "id": "84a19fa5-60df-4e8c-98ac-37b8eea9e0f8",
   "metadata": {
    "tags": []
   },
   "outputs": [],
   "source": [
    "!ls -l /lustre/groups/ml01/workspace/kemal.inecik/idtrack_temp"
   ]
  },
  {
   "cell_type": "code",
   "execution_count": null,
   "id": "66113bd0-4196-4a48-a495-24f15b3ef9af",
   "metadata": {},
   "outputs": [],
   "source": []
  }
 ],
 "metadata": {
  "kernelspec": {
   "display_name": "idtrack_dev_env",
   "language": "python",
   "name": "python3"
  },
  "language_info": {
   "codemirror_mode": {
    "name": "ipython",
    "version": 3
   },
   "file_extension": ".py",
   "mimetype": "text/x-python",
   "name": "python",
   "nbconvert_exporter": "python",
   "pygments_lexer": "ipython3",
   "version": "3.11.12"
  }
 },
 "nbformat": 4,
 "nbformat_minor": 5
}
